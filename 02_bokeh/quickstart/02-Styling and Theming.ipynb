{
 "cells": [
  {
   "cell_type": "markdown",
   "metadata": {
    "slideshow": {
     "slide_type": "skip"
    }
   },
   "source": [
    "\n",
    "\n",
    "## Bokeh Tutorial\n",
    "\n",
    "\n",
    "### 02. Styling and Theming"
   ]
  },
  {
   "cell_type": "markdown",
   "metadata": {
    "slideshow": {
     "slide_type": "skip"
    }
   },
   "source": [
    "In this chapter we will learn how to configure various visual aspects of our plots, and how to find out more about what an be configured. \n",
    "\n",
    "First, let's make the standard imports"
   ]
  },
  {
   "cell_type": "code",
   "execution_count": 17,
   "metadata": {
    "slideshow": {
     "slide_type": "skip"
    }
   },
   "outputs": [],
   "source": [
    "from bokeh.io import output_notebook, show\n",
    "from bokeh.plotting import figure"
   ]
  },
  {
   "cell_type": "code",
   "execution_count": 18,
   "metadata": {
    "slideshow": {
     "slide_type": "skip"
    }
   },
   "outputs": [
    {
     "data": {
      "text/html": [
       "\n",
       "    <div class=\"bk-root\">\n",
       "        <a href=\"https://bokeh.pydata.org\" target=\"_blank\" class=\"bk-logo bk-logo-small bk-logo-notebook\"></a>\n",
       "        <span id=\"875f07f1-4223-45c8-8dfb-a5d334a5fa92\">Loading BokehJS ...</span>\n",
       "    </div>"
      ]
     },
     "metadata": {},
     "output_type": "display_data"
    },
    {
     "data": {
      "application/javascript": [
       "\n",
       "(function(root) {\n",
       "  function now() {\n",
       "    return new Date();\n",
       "  }\n",
       "\n",
       "  var force = true;\n",
       "\n",
       "  if (typeof (root._bokeh_onload_callbacks) === \"undefined\" || force === true) {\n",
       "    root._bokeh_onload_callbacks = [];\n",
       "    root._bokeh_is_loading = undefined;\n",
       "  }\n",
       "\n",
       "  var JS_MIME_TYPE = 'application/javascript';\n",
       "  var HTML_MIME_TYPE = 'text/html';\n",
       "  var EXEC_MIME_TYPE = 'application/vnd.bokehjs_exec.v0+json';\n",
       "  var CLASS_NAME = 'output_bokeh rendered_html';\n",
       "\n",
       "  /**\n",
       "   * Render data to the DOM node\n",
       "   */\n",
       "  function render(props, node) {\n",
       "    var script = document.createElement(\"script\");\n",
       "    node.appendChild(script);\n",
       "  }\n",
       "\n",
       "  /**\n",
       "   * Handle when an output is cleared or removed\n",
       "   */\n",
       "  function handleClearOutput(event, handle) {\n",
       "    var cell = handle.cell;\n",
       "\n",
       "    var id = cell.output_area._bokeh_element_id;\n",
       "    var server_id = cell.output_area._bokeh_server_id;\n",
       "    // Clean up Bokeh references\n",
       "    if (id != null && id in Bokeh.index) {\n",
       "      Bokeh.index[id].model.document.clear();\n",
       "      delete Bokeh.index[id];\n",
       "    }\n",
       "\n",
       "    if (server_id !== undefined) {\n",
       "      // Clean up Bokeh references\n",
       "      var cmd = \"from bokeh.io.state import curstate; print(curstate().uuid_to_server['\" + server_id + \"'].get_sessions()[0].document.roots[0]._id)\";\n",
       "      cell.notebook.kernel.execute(cmd, {\n",
       "        iopub: {\n",
       "          output: function(msg) {\n",
       "            var id = msg.content.text.trim();\n",
       "            if (id in Bokeh.index) {\n",
       "              Bokeh.index[id].model.document.clear();\n",
       "              delete Bokeh.index[id];\n",
       "            }\n",
       "          }\n",
       "        }\n",
       "      });\n",
       "      // Destroy server and session\n",
       "      var cmd = \"import bokeh.io.notebook as ion; ion.destroy_server('\" + server_id + \"')\";\n",
       "      cell.notebook.kernel.execute(cmd);\n",
       "    }\n",
       "  }\n",
       "\n",
       "  /**\n",
       "   * Handle when a new output is added\n",
       "   */\n",
       "  function handleAddOutput(event, handle) {\n",
       "    var output_area = handle.output_area;\n",
       "    var output = handle.output;\n",
       "\n",
       "    // limit handleAddOutput to display_data with EXEC_MIME_TYPE content only\n",
       "    if ((output.output_type != \"display_data\") || (!output.data.hasOwnProperty(EXEC_MIME_TYPE))) {\n",
       "      return\n",
       "    }\n",
       "\n",
       "    var toinsert = output_area.element.find(\".\" + CLASS_NAME.split(' ')[0]);\n",
       "\n",
       "    if (output.metadata[EXEC_MIME_TYPE][\"id\"] !== undefined) {\n",
       "      toinsert[toinsert.length - 1].firstChild.textContent = output.data[JS_MIME_TYPE];\n",
       "      // store reference to embed id on output_area\n",
       "      output_area._bokeh_element_id = output.metadata[EXEC_MIME_TYPE][\"id\"];\n",
       "    }\n",
       "    if (output.metadata[EXEC_MIME_TYPE][\"server_id\"] !== undefined) {\n",
       "      var bk_div = document.createElement(\"div\");\n",
       "      bk_div.innerHTML = output.data[HTML_MIME_TYPE];\n",
       "      var script_attrs = bk_div.children[0].attributes;\n",
       "      for (var i = 0; i < script_attrs.length; i++) {\n",
       "        toinsert[toinsert.length - 1].firstChild.setAttribute(script_attrs[i].name, script_attrs[i].value);\n",
       "      }\n",
       "      // store reference to server id on output_area\n",
       "      output_area._bokeh_server_id = output.metadata[EXEC_MIME_TYPE][\"server_id\"];\n",
       "    }\n",
       "  }\n",
       "\n",
       "  function register_renderer(events, OutputArea) {\n",
       "\n",
       "    function append_mime(data, metadata, element) {\n",
       "      // create a DOM node to render to\n",
       "      var toinsert = this.create_output_subarea(\n",
       "        metadata,\n",
       "        CLASS_NAME,\n",
       "        EXEC_MIME_TYPE\n",
       "      );\n",
       "      this.keyboard_manager.register_events(toinsert);\n",
       "      // Render to node\n",
       "      var props = {data: data, metadata: metadata[EXEC_MIME_TYPE]};\n",
       "      render(props, toinsert[toinsert.length - 1]);\n",
       "      element.append(toinsert);\n",
       "      return toinsert\n",
       "    }\n",
       "\n",
       "    /* Handle when an output is cleared or removed */\n",
       "    events.on('clear_output.CodeCell', handleClearOutput);\n",
       "    events.on('delete.Cell', handleClearOutput);\n",
       "\n",
       "    /* Handle when a new output is added */\n",
       "    events.on('output_added.OutputArea', handleAddOutput);\n",
       "\n",
       "    /**\n",
       "     * Register the mime type and append_mime function with output_area\n",
       "     */\n",
       "    OutputArea.prototype.register_mime_type(EXEC_MIME_TYPE, append_mime, {\n",
       "      /* Is output safe? */\n",
       "      safe: true,\n",
       "      /* Index of renderer in `output_area.display_order` */\n",
       "      index: 0\n",
       "    });\n",
       "  }\n",
       "\n",
       "  // register the mime type if in Jupyter Notebook environment and previously unregistered\n",
       "  if (root.Jupyter !== undefined) {\n",
       "    var events = require('base/js/events');\n",
       "    var OutputArea = require('notebook/js/outputarea').OutputArea;\n",
       "\n",
       "    if (OutputArea.prototype.mime_types().indexOf(EXEC_MIME_TYPE) == -1) {\n",
       "      register_renderer(events, OutputArea);\n",
       "    }\n",
       "  }\n",
       "\n",
       "  \n",
       "  if (typeof (root._bokeh_timeout) === \"undefined\" || force === true) {\n",
       "    root._bokeh_timeout = Date.now() + 5000;\n",
       "    root._bokeh_failed_load = false;\n",
       "  }\n",
       "\n",
       "  var NB_LOAD_WARNING = {'data': {'text/html':\n",
       "     \"<div style='background-color: #fdd'>\\n\"+\n",
       "     \"<p>\\n\"+\n",
       "     \"BokehJS does not appear to have successfully loaded. If loading BokehJS from CDN, this \\n\"+\n",
       "     \"may be due to a slow or bad network connection. Possible fixes:\\n\"+\n",
       "     \"</p>\\n\"+\n",
       "     \"<ul>\\n\"+\n",
       "     \"<li>re-rerun `output_notebook()` to attempt to load from CDN again, or</li>\\n\"+\n",
       "     \"<li>use INLINE resources instead, as so:</li>\\n\"+\n",
       "     \"</ul>\\n\"+\n",
       "     \"<code>\\n\"+\n",
       "     \"from bokeh.resources import INLINE\\n\"+\n",
       "     \"output_notebook(resources=INLINE)\\n\"+\n",
       "     \"</code>\\n\"+\n",
       "     \"</div>\"}};\n",
       "\n",
       "  function display_loaded() {\n",
       "    var el = document.getElementById(\"875f07f1-4223-45c8-8dfb-a5d334a5fa92\");\n",
       "    if (el != null) {\n",
       "      el.textContent = \"BokehJS is loading...\";\n",
       "    }\n",
       "    if (root.Bokeh !== undefined) {\n",
       "      if (el != null) {\n",
       "        el.textContent = \"BokehJS \" + root.Bokeh.version + \" successfully loaded.\";\n",
       "      }\n",
       "    } else if (Date.now() < root._bokeh_timeout) {\n",
       "      setTimeout(display_loaded, 100)\n",
       "    }\n",
       "  }\n",
       "\n",
       "\n",
       "  function run_callbacks() {\n",
       "    try {\n",
       "      root._bokeh_onload_callbacks.forEach(function(callback) { callback() });\n",
       "    }\n",
       "    finally {\n",
       "      delete root._bokeh_onload_callbacks\n",
       "    }\n",
       "    console.info(\"Bokeh: all callbacks have finished\");\n",
       "  }\n",
       "\n",
       "  function load_libs(js_urls, callback) {\n",
       "    root._bokeh_onload_callbacks.push(callback);\n",
       "    if (root._bokeh_is_loading > 0) {\n",
       "      console.log(\"Bokeh: BokehJS is being loaded, scheduling callback at\", now());\n",
       "      return null;\n",
       "    }\n",
       "    if (js_urls == null || js_urls.length === 0) {\n",
       "      run_callbacks();\n",
       "      return null;\n",
       "    }\n",
       "    console.log(\"Bokeh: BokehJS not loaded, scheduling load and callback at\", now());\n",
       "    root._bokeh_is_loading = js_urls.length;\n",
       "    for (var i = 0; i < js_urls.length; i++) {\n",
       "      var url = js_urls[i];\n",
       "      var s = document.createElement('script');\n",
       "      s.src = url;\n",
       "      s.async = false;\n",
       "      s.onreadystatechange = s.onload = function() {\n",
       "        root._bokeh_is_loading--;\n",
       "        if (root._bokeh_is_loading === 0) {\n",
       "          console.log(\"Bokeh: all BokehJS libraries loaded\");\n",
       "          run_callbacks()\n",
       "        }\n",
       "      };\n",
       "      s.onerror = function() {\n",
       "        console.warn(\"failed to load library \" + url);\n",
       "      };\n",
       "      console.log(\"Bokeh: injecting script tag for BokehJS library: \", url);\n",
       "      document.getElementsByTagName(\"head\")[0].appendChild(s);\n",
       "    }\n",
       "  };var element = document.getElementById(\"875f07f1-4223-45c8-8dfb-a5d334a5fa92\");\n",
       "  if (element == null) {\n",
       "    console.log(\"Bokeh: ERROR: autoload.js configured with elementid '875f07f1-4223-45c8-8dfb-a5d334a5fa92' but no matching script tag was found. \")\n",
       "    return false;\n",
       "  }\n",
       "\n",
       "  var js_urls = [\"https://cdn.pydata.org/bokeh/release/bokeh-0.13.0.min.js\", \"https://cdn.pydata.org/bokeh/release/bokeh-widgets-0.13.0.min.js\", \"https://cdn.pydata.org/bokeh/release/bokeh-tables-0.13.0.min.js\", \"https://cdn.pydata.org/bokeh/release/bokeh-gl-0.13.0.min.js\"];\n",
       "\n",
       "  var inline_js = [\n",
       "    function(Bokeh) {\n",
       "      Bokeh.set_log_level(\"info\");\n",
       "    },\n",
       "    \n",
       "    function(Bokeh) {\n",
       "      \n",
       "    },\n",
       "    function(Bokeh) {\n",
       "      console.log(\"Bokeh: injecting CSS: https://cdn.pydata.org/bokeh/release/bokeh-0.13.0.min.css\");\n",
       "      Bokeh.embed.inject_css(\"https://cdn.pydata.org/bokeh/release/bokeh-0.13.0.min.css\");\n",
       "      console.log(\"Bokeh: injecting CSS: https://cdn.pydata.org/bokeh/release/bokeh-widgets-0.13.0.min.css\");\n",
       "      Bokeh.embed.inject_css(\"https://cdn.pydata.org/bokeh/release/bokeh-widgets-0.13.0.min.css\");\n",
       "      console.log(\"Bokeh: injecting CSS: https://cdn.pydata.org/bokeh/release/bokeh-tables-0.13.0.min.css\");\n",
       "      Bokeh.embed.inject_css(\"https://cdn.pydata.org/bokeh/release/bokeh-tables-0.13.0.min.css\");\n",
       "    }\n",
       "  ];\n",
       "\n",
       "  function run_inline_js() {\n",
       "    \n",
       "    if ((root.Bokeh !== undefined) || (force === true)) {\n",
       "      for (var i = 0; i < inline_js.length; i++) {\n",
       "        inline_js[i].call(root, root.Bokeh);\n",
       "      }if (force === true) {\n",
       "        display_loaded();\n",
       "      }} else if (Date.now() < root._bokeh_timeout) {\n",
       "      setTimeout(run_inline_js, 100);\n",
       "    } else if (!root._bokeh_failed_load) {\n",
       "      console.log(\"Bokeh: BokehJS failed to load within specified timeout.\");\n",
       "      root._bokeh_failed_load = true;\n",
       "    } else if (force !== true) {\n",
       "      var cell = $(document.getElementById(\"875f07f1-4223-45c8-8dfb-a5d334a5fa92\")).parents('.cell').data().cell;\n",
       "      cell.output_area.append_execute_result(NB_LOAD_WARNING)\n",
       "    }\n",
       "\n",
       "  }\n",
       "\n",
       "  if (root._bokeh_is_loading === 0) {\n",
       "    console.log(\"Bokeh: BokehJS loaded, going straight to plotting\");\n",
       "    run_inline_js();\n",
       "  } else {\n",
       "    load_libs(js_urls, function() {\n",
       "      console.log(\"Bokeh: BokehJS plotting callback run at\", now());\n",
       "      run_inline_js();\n",
       "    });\n",
       "  }\n",
       "}(window));"
      ],
      "application/vnd.bokehjs_load.v0+json": "\n(function(root) {\n  function now() {\n    return new Date();\n  }\n\n  var force = true;\n\n  if (typeof (root._bokeh_onload_callbacks) === \"undefined\" || force === true) {\n    root._bokeh_onload_callbacks = [];\n    root._bokeh_is_loading = undefined;\n  }\n\n  \n\n  \n  if (typeof (root._bokeh_timeout) === \"undefined\" || force === true) {\n    root._bokeh_timeout = Date.now() + 5000;\n    root._bokeh_failed_load = false;\n  }\n\n  var NB_LOAD_WARNING = {'data': {'text/html':\n     \"<div style='background-color: #fdd'>\\n\"+\n     \"<p>\\n\"+\n     \"BokehJS does not appear to have successfully loaded. If loading BokehJS from CDN, this \\n\"+\n     \"may be due to a slow or bad network connection. Possible fixes:\\n\"+\n     \"</p>\\n\"+\n     \"<ul>\\n\"+\n     \"<li>re-rerun `output_notebook()` to attempt to load from CDN again, or</li>\\n\"+\n     \"<li>use INLINE resources instead, as so:</li>\\n\"+\n     \"</ul>\\n\"+\n     \"<code>\\n\"+\n     \"from bokeh.resources import INLINE\\n\"+\n     \"output_notebook(resources=INLINE)\\n\"+\n     \"</code>\\n\"+\n     \"</div>\"}};\n\n  function display_loaded() {\n    var el = document.getElementById(\"875f07f1-4223-45c8-8dfb-a5d334a5fa92\");\n    if (el != null) {\n      el.textContent = \"BokehJS is loading...\";\n    }\n    if (root.Bokeh !== undefined) {\n      if (el != null) {\n        el.textContent = \"BokehJS \" + root.Bokeh.version + \" successfully loaded.\";\n      }\n    } else if (Date.now() < root._bokeh_timeout) {\n      setTimeout(display_loaded, 100)\n    }\n  }\n\n\n  function run_callbacks() {\n    try {\n      root._bokeh_onload_callbacks.forEach(function(callback) { callback() });\n    }\n    finally {\n      delete root._bokeh_onload_callbacks\n    }\n    console.info(\"Bokeh: all callbacks have finished\");\n  }\n\n  function load_libs(js_urls, callback) {\n    root._bokeh_onload_callbacks.push(callback);\n    if (root._bokeh_is_loading > 0) {\n      console.log(\"Bokeh: BokehJS is being loaded, scheduling callback at\", now());\n      return null;\n    }\n    if (js_urls == null || js_urls.length === 0) {\n      run_callbacks();\n      return null;\n    }\n    console.log(\"Bokeh: BokehJS not loaded, scheduling load and callback at\", now());\n    root._bokeh_is_loading = js_urls.length;\n    for (var i = 0; i < js_urls.length; i++) {\n      var url = js_urls[i];\n      var s = document.createElement('script');\n      s.src = url;\n      s.async = false;\n      s.onreadystatechange = s.onload = function() {\n        root._bokeh_is_loading--;\n        if (root._bokeh_is_loading === 0) {\n          console.log(\"Bokeh: all BokehJS libraries loaded\");\n          run_callbacks()\n        }\n      };\n      s.onerror = function() {\n        console.warn(\"failed to load library \" + url);\n      };\n      console.log(\"Bokeh: injecting script tag for BokehJS library: \", url);\n      document.getElementsByTagName(\"head\")[0].appendChild(s);\n    }\n  };var element = document.getElementById(\"875f07f1-4223-45c8-8dfb-a5d334a5fa92\");\n  if (element == null) {\n    console.log(\"Bokeh: ERROR: autoload.js configured with elementid '875f07f1-4223-45c8-8dfb-a5d334a5fa92' but no matching script tag was found. \")\n    return false;\n  }\n\n  var js_urls = [\"https://cdn.pydata.org/bokeh/release/bokeh-0.13.0.min.js\", \"https://cdn.pydata.org/bokeh/release/bokeh-widgets-0.13.0.min.js\", \"https://cdn.pydata.org/bokeh/release/bokeh-tables-0.13.0.min.js\", \"https://cdn.pydata.org/bokeh/release/bokeh-gl-0.13.0.min.js\"];\n\n  var inline_js = [\n    function(Bokeh) {\n      Bokeh.set_log_level(\"info\");\n    },\n    \n    function(Bokeh) {\n      \n    },\n    function(Bokeh) {\n      console.log(\"Bokeh: injecting CSS: https://cdn.pydata.org/bokeh/release/bokeh-0.13.0.min.css\");\n      Bokeh.embed.inject_css(\"https://cdn.pydata.org/bokeh/release/bokeh-0.13.0.min.css\");\n      console.log(\"Bokeh: injecting CSS: https://cdn.pydata.org/bokeh/release/bokeh-widgets-0.13.0.min.css\");\n      Bokeh.embed.inject_css(\"https://cdn.pydata.org/bokeh/release/bokeh-widgets-0.13.0.min.css\");\n      console.log(\"Bokeh: injecting CSS: https://cdn.pydata.org/bokeh/release/bokeh-tables-0.13.0.min.css\");\n      Bokeh.embed.inject_css(\"https://cdn.pydata.org/bokeh/release/bokeh-tables-0.13.0.min.css\");\n    }\n  ];\n\n  function run_inline_js() {\n    \n    if ((root.Bokeh !== undefined) || (force === true)) {\n      for (var i = 0; i < inline_js.length; i++) {\n        inline_js[i].call(root, root.Bokeh);\n      }if (force === true) {\n        display_loaded();\n      }} else if (Date.now() < root._bokeh_timeout) {\n      setTimeout(run_inline_js, 100);\n    } else if (!root._bokeh_failed_load) {\n      console.log(\"Bokeh: BokehJS failed to load within specified timeout.\");\n      root._bokeh_failed_load = true;\n    } else if (force !== true) {\n      var cell = $(document.getElementById(\"875f07f1-4223-45c8-8dfb-a5d334a5fa92\")).parents('.cell').data().cell;\n      cell.output_area.append_execute_result(NB_LOAD_WARNING)\n    }\n\n  }\n\n  if (root._bokeh_is_loading === 0) {\n    console.log(\"Bokeh: BokehJS loaded, going straight to plotting\");\n    run_inline_js();\n  } else {\n    load_libs(js_urls, function() {\n      console.log(\"Bokeh: BokehJS plotting callback run at\", now());\n      run_inline_js();\n    });\n  }\n}(window));"
     },
     "metadata": {},
     "output_type": "display_data"
    }
   ],
   "source": [
    "output_notebook()"
   ]
  },
  {
   "cell_type": "markdown",
   "metadata": {
    "slideshow": {
     "slide_type": "skip"
    }
   },
   "source": [
    "Before we get started, it's useful to describe how colors and properties are specified in Bokeh. \n",
    "\n",
    "## Colors\n",
    "\n",
    "There are many places where you may need to specify colors. Bokeh can accept colors in a variety of different ways:\n",
    "\n",
    "* any of the [147 named CSS colors](http://www.w3schools.com/cssref/css_colornames.asp), e.g ``'green'``, ``'indigo'``\n",
    "* an RGB(A) hex value, e.g., ``'#FF0000'``, ``'#44444444'``\n",
    "* a 3-tuple of integers *(r,g,b)* between 0 and 255\n",
    "*  a 4-tuple of *(r,g,b,a)* where *r*, *g*, *b* are integers between 0 and 255 and *a* is a floating point value between 0 and 1\n",
    "\n",
    "\n",
    "\n",
    "## Properties\n",
    "\n",
    "Regardless of how a Bokeh plot is created, styling the visual aspects of the plot can always be accomplished by setting attributes on the Bokeh objects that comprise the resulting plot. Visual properties come in three kinds: line, fill, and text properties. For full information with code and examples see the [Styling Visual Properties](http://bokeh.pydata.org/en/latest/docs/user_guide/styling.html) section of the user guide. \n",
    "\n",
    "----\n",
    "\n",
    "### Line Properties\n",
    "\n",
    "Set the visual appearance of lines. The most common are ``line_color``, ``line_alpha``, ``line_width`` and ``line_dash``.\n",
    "\n",
    "### Fill Properties\n",
    "\n",
    "Set the visual appearance of filled areas: ``fill_color`` and ``fill_alpha``.\n",
    "\n",
    "### Text Properties\n",
    "\n",
    "Set the visual appearance of lines of text. The most common are ``text_font``, ``text_font_size``, ``text_color``, and ``text_alpha``.\n",
    "\n",
    "----\n",
    "\n",
    "Sometimes a prefix is used with property names, e.g. to distinguish between different line properties on the same object, or to give a more meaningful name. For example, to set the line width of the plot outline, you would say ``myplot.outline_line_width = 2``. "
   ]
  },
  {
   "cell_type": "markdown",
   "metadata": {
    "slideshow": {
     "slide_type": "slide"
    }
   },
   "source": [
    "# Plots\n",
    "\n",
    "***Many top-level attributes of plots (outline, border, etc.) can be configured.***   See the [Plots](http://bokeh.pydata.org/en/latest/docs/user_guide/styling.html#plots) section of the styling guide for full information. \n",
    "\n",
    "Here is an example that tweaks the plot outline:"
   ]
  },
  {
   "cell_type": "code",
   "execution_count": 32,
   "metadata": {
    "scrolled": false,
    "slideshow": {
     "slide_type": "subslide"
    }
   },
   "outputs": [
    {
     "data": {
      "text/html": [
       "\n",
       "\n",
       "\n",
       "\n",
       "\n",
       "\n",
       "  <div class=\"bk-root\" id=\"0dfa566a-4632-4f97-bf38-062be5fbf283\"></div>\n"
      ]
     },
     "metadata": {},
     "output_type": "display_data"
    },
    {
     "data": {
      "application/javascript": [
       "(function(root) {\n",
       "  function embed_document(root) {\n",
       "    \n",
       "  var docs_json = {\"5acfa100-2d6b-48a8-90b2-92549cdde2a5\":{\"roots\":{\"references\":[{\"attributes\":{},\"id\":\"4a3c1508-8d87-417c-8b8f-46c137e268d7\",\"type\":\"BasicTickFormatter\"},{\"attributes\":{\"plot\":null,\"text\":\"Plot sample in Bekeh\"},\"id\":\"d1a13b21-5175-46fd-b293-f49ec36d2daa\",\"type\":\"Title\"},{\"attributes\":{},\"id\":\"eee93379-672b-457a-a894-4fbb14ee75ce\",\"type\":\"HelpTool\"},{\"attributes\":{},\"id\":\"d6326401-b492-4227-89d1-bd3c7030c3eb\",\"type\":\"WheelZoomTool\"},{\"attributes\":{},\"id\":\"1cf46fbc-6f1e-4b2f-87ab-0d021ee370a3\",\"type\":\"UnionRenderers\"},{\"attributes\":{\"source\":{\"id\":\"4bac9402-0f87-4477-b45f-95d104c2ac0c\",\"type\":\"ColumnDataSource\"}},\"id\":\"17993d3b-a95f-4379-8a5c-e955d9141ce4\",\"type\":\"CDSView\"},{\"attributes\":{},\"id\":\"01a36a64-3c4f-487e-9a35-4bd8b00e3c2b\",\"type\":\"Selection\"},{\"attributes\":{\"fill_alpha\":{\"value\":0.1},\"fill_color\":{\"value\":\"#1f77b4\"},\"line_alpha\":{\"value\":0.1},\"line_color\":{\"value\":\"#1f77b4\"},\"size\":{\"units\":\"screen\",\"value\":10},\"x\":{\"field\":\"x\"},\"y\":{\"field\":\"y\"}},\"id\":\"ca3ef85b-a1cb-49c2-b568-f6772d4faf2c\",\"type\":\"Circle\"},{\"attributes\":{\"below\":[{\"id\":\"4d28aa58-4808-41e2-bc69-c4884c5d6f39\",\"type\":\"LinearAxis\"}],\"left\":[{\"id\":\"0a0cc062-ba92-4479-8d91-be5b0ad01d5b\",\"type\":\"LinearAxis\"}],\"outline_line_alpha\":{\"value\":0.3},\"outline_line_color\":{\"value\":\"navy\"},\"outline_line_width\":{\"value\":7},\"plot_height\":400,\"plot_width\":400,\"renderers\":[{\"id\":\"4d28aa58-4808-41e2-bc69-c4884c5d6f39\",\"type\":\"LinearAxis\"},{\"id\":\"ed7b8f9d-9d45-4e1a-a824-5a1eff04d90e\",\"type\":\"Grid\"},{\"id\":\"0a0cc062-ba92-4479-8d91-be5b0ad01d5b\",\"type\":\"LinearAxis\"},{\"id\":\"aa5a852f-056a-4ecb-bf0c-7103e86cc3e0\",\"type\":\"Grid\"},{\"id\":\"965daba9-16a2-476a-b0cd-4b3c7b930b91\",\"type\":\"BoxAnnotation\"},{\"id\":\"9b43dee0-06ca-4135-819d-08addd9707c0\",\"type\":\"GlyphRenderer\"}],\"title\":{\"id\":\"d1a13b21-5175-46fd-b293-f49ec36d2daa\",\"type\":\"Title\"},\"toolbar\":{\"id\":\"71b9e840-e8fe-402a-b309-4645fa5b92ba\",\"type\":\"Toolbar\"},\"x_range\":{\"id\":\"1c28eb20-52ed-4c14-95b3-e76db8007c9e\",\"type\":\"DataRange1d\"},\"x_scale\":{\"id\":\"e93e5efd-4732-42e4-9f23-3a6a55e9886b\",\"type\":\"LinearScale\"},\"y_range\":{\"id\":\"4da75c08-2280-49a7-9ab8-e58fe55c7723\",\"type\":\"DataRange1d\"},\"y_scale\":{\"id\":\"496d36ec-fbe1-4d43-97d5-9be97697a9a7\",\"type\":\"LinearScale\"}},\"id\":\"9b6677cf-1898-4688-a013-b9bbb47f80c5\",\"subtype\":\"Figure\",\"type\":\"Plot\"},{\"attributes\":{},\"id\":\"d3817cf9-2917-4b7e-be6e-82168873f0b0\",\"type\":\"PanTool\"},{\"attributes\":{\"callback\":null},\"id\":\"4da75c08-2280-49a7-9ab8-e58fe55c7723\",\"type\":\"DataRange1d\"},{\"attributes\":{\"dimension\":1,\"plot\":{\"id\":\"9b6677cf-1898-4688-a013-b9bbb47f80c5\",\"subtype\":\"Figure\",\"type\":\"Plot\"},\"ticker\":{\"id\":\"4a75caeb-72b2-4b81-997c-6e86f838c850\",\"type\":\"BasicTicker\"}},\"id\":\"aa5a852f-056a-4ecb-bf0c-7103e86cc3e0\",\"type\":\"Grid\"},{\"attributes\":{\"data_source\":{\"id\":\"4bac9402-0f87-4477-b45f-95d104c2ac0c\",\"type\":\"ColumnDataSource\"},\"glyph\":{\"id\":\"a01c78c8-9e3d-4422-890e-c9e106f6c607\",\"type\":\"Circle\"},\"hover_glyph\":null,\"muted_glyph\":null,\"nonselection_glyph\":{\"id\":\"ca3ef85b-a1cb-49c2-b568-f6772d4faf2c\",\"type\":\"Circle\"},\"selection_glyph\":null,\"view\":{\"id\":\"17993d3b-a95f-4379-8a5c-e955d9141ce4\",\"type\":\"CDSView\"}},\"id\":\"9b43dee0-06ca-4135-819d-08addd9707c0\",\"type\":\"GlyphRenderer\"},{\"attributes\":{\"plot\":{\"id\":\"9b6677cf-1898-4688-a013-b9bbb47f80c5\",\"subtype\":\"Figure\",\"type\":\"Plot\"},\"ticker\":{\"id\":\"cc8ef1be-7076-4187-97a2-6e415d4563c7\",\"type\":\"BasicTicker\"}},\"id\":\"ed7b8f9d-9d45-4e1a-a824-5a1eff04d90e\",\"type\":\"Grid\"},{\"attributes\":{\"formatter\":{\"id\":\"880dfbd7-78f7-486b-8393-4867cdd37a9f\",\"type\":\"BasicTickFormatter\"},\"plot\":{\"id\":\"9b6677cf-1898-4688-a013-b9bbb47f80c5\",\"subtype\":\"Figure\",\"type\":\"Plot\"},\"ticker\":{\"id\":\"4a75caeb-72b2-4b81-997c-6e86f838c850\",\"type\":\"BasicTicker\"}},\"id\":\"0a0cc062-ba92-4479-8d91-be5b0ad01d5b\",\"type\":\"LinearAxis\"},{\"attributes\":{},\"id\":\"77383e6d-706c-43d7-b676-f5c5347b6007\",\"type\":\"ResetTool\"},{\"attributes\":{\"callback\":null,\"data\":{\"x\":[1,2,3,4,5],\"y\":[2,5,8,2,7]},\"selected\":{\"id\":\"01a36a64-3c4f-487e-9a35-4bd8b00e3c2b\",\"type\":\"Selection\"},\"selection_policy\":{\"id\":\"1cf46fbc-6f1e-4b2f-87ab-0d021ee370a3\",\"type\":\"UnionRenderers\"}},\"id\":\"4bac9402-0f87-4477-b45f-95d104c2ac0c\",\"type\":\"ColumnDataSource\"},{\"attributes\":{\"callback\":null},\"id\":\"1c28eb20-52ed-4c14-95b3-e76db8007c9e\",\"type\":\"DataRange1d\"},{\"attributes\":{},\"id\":\"4a75caeb-72b2-4b81-997c-6e86f838c850\",\"type\":\"BasicTicker\"},{\"attributes\":{},\"id\":\"496d36ec-fbe1-4d43-97d5-9be97697a9a7\",\"type\":\"LinearScale\"},{\"attributes\":{\"active_drag\":\"auto\",\"active_inspect\":\"auto\",\"active_multi\":null,\"active_scroll\":\"auto\",\"active_tap\":\"auto\",\"tools\":[{\"id\":\"d3817cf9-2917-4b7e-be6e-82168873f0b0\",\"type\":\"PanTool\"},{\"id\":\"d6326401-b492-4227-89d1-bd3c7030c3eb\",\"type\":\"WheelZoomTool\"},{\"id\":\"6b088b8c-4e3b-4154-a416-1e39308625e5\",\"type\":\"BoxZoomTool\"},{\"id\":\"041127df-6704-4706-8115-72298fe486e9\",\"type\":\"SaveTool\"},{\"id\":\"77383e6d-706c-43d7-b676-f5c5347b6007\",\"type\":\"ResetTool\"},{\"id\":\"eee93379-672b-457a-a894-4fbb14ee75ce\",\"type\":\"HelpTool\"}]},\"id\":\"71b9e840-e8fe-402a-b309-4645fa5b92ba\",\"type\":\"Toolbar\"},{\"attributes\":{\"formatter\":{\"id\":\"4a3c1508-8d87-417c-8b8f-46c137e268d7\",\"type\":\"BasicTickFormatter\"},\"plot\":{\"id\":\"9b6677cf-1898-4688-a013-b9bbb47f80c5\",\"subtype\":\"Figure\",\"type\":\"Plot\"},\"ticker\":{\"id\":\"cc8ef1be-7076-4187-97a2-6e415d4563c7\",\"type\":\"BasicTicker\"}},\"id\":\"4d28aa58-4808-41e2-bc69-c4884c5d6f39\",\"type\":\"LinearAxis\"},{\"attributes\":{},\"id\":\"cc8ef1be-7076-4187-97a2-6e415d4563c7\",\"type\":\"BasicTicker\"},{\"attributes\":{\"bottom_units\":\"screen\",\"fill_alpha\":{\"value\":0.5},\"fill_color\":{\"value\":\"lightgrey\"},\"left_units\":\"screen\",\"level\":\"overlay\",\"line_alpha\":{\"value\":1.0},\"line_color\":{\"value\":\"black\"},\"line_dash\":[4,4],\"line_width\":{\"value\":2},\"plot\":null,\"render_mode\":\"css\",\"right_units\":\"screen\",\"top_units\":\"screen\"},\"id\":\"965daba9-16a2-476a-b0cd-4b3c7b930b91\",\"type\":\"BoxAnnotation\"},{\"attributes\":{},\"id\":\"880dfbd7-78f7-486b-8393-4867cdd37a9f\",\"type\":\"BasicTickFormatter\"},{\"attributes\":{\"fill_color\":{\"value\":\"#1f77b4\"},\"line_color\":{\"value\":\"#1f77b4\"},\"size\":{\"units\":\"screen\",\"value\":10},\"x\":{\"field\":\"x\"},\"y\":{\"field\":\"y\"}},\"id\":\"a01c78c8-9e3d-4422-890e-c9e106f6c607\",\"type\":\"Circle\"},{\"attributes\":{},\"id\":\"e93e5efd-4732-42e4-9f23-3a6a55e9886b\",\"type\":\"LinearScale\"},{\"attributes\":{},\"id\":\"041127df-6704-4706-8115-72298fe486e9\",\"type\":\"SaveTool\"},{\"attributes\":{\"overlay\":{\"id\":\"965daba9-16a2-476a-b0cd-4b3c7b930b91\",\"type\":\"BoxAnnotation\"}},\"id\":\"6b088b8c-4e3b-4154-a416-1e39308625e5\",\"type\":\"BoxZoomTool\"}],\"root_ids\":[\"9b6677cf-1898-4688-a013-b9bbb47f80c5\"]},\"title\":\"Bokeh Application\",\"version\":\"0.13.0\"}};\n",
       "  var render_items = [{\"docid\":\"5acfa100-2d6b-48a8-90b2-92549cdde2a5\",\"roots\":{\"9b6677cf-1898-4688-a013-b9bbb47f80c5\":\"0dfa566a-4632-4f97-bf38-062be5fbf283\"}}];\n",
       "  root.Bokeh.embed.embed_items_notebook(docs_json, render_items);\n",
       "\n",
       "  }\n",
       "  if (root.Bokeh !== undefined) {\n",
       "    embed_document(root);\n",
       "  } else {\n",
       "    var attempts = 0;\n",
       "    var timer = setInterval(function(root) {\n",
       "      if (root.Bokeh !== undefined) {\n",
       "        embed_document(root);\n",
       "        clearInterval(timer);\n",
       "      }\n",
       "      attempts++;\n",
       "      if (attempts > 100) {\n",
       "        console.log(\"Bokeh: ERROR: Unable to run BokehJS code because BokehJS library is missing\")\n",
       "        clearInterval(timer);\n",
       "      }\n",
       "    }, 10, root)\n",
       "  }\n",
       "})(window);"
      ],
      "application/vnd.bokehjs_exec.v0+json": ""
     },
     "metadata": {
      "application/vnd.bokehjs_exec.v0+json": {
       "id": "9b6677cf-1898-4688-a013-b9bbb47f80c5"
      }
     },
     "output_type": "display_data"
    }
   ],
   "source": [
    "# create a new plot with a title\n",
    "p = figure(plot_width=400, plot_height=400, title='Plot sample in Bekeh')\n",
    "p.outline_line_width = 7\n",
    "p.outline_line_alpha = 0.3\n",
    "p.outline_line_color = \"navy\"\n",
    "\n",
    "p.circle([1,2,3,4,5], [2,5,8,2,7], size=10)\n",
    "\n",
    "show(p)"
   ]
  },
  {
   "cell_type": "code",
   "execution_count": 39,
   "metadata": {
    "slideshow": {
     "slide_type": "subslide"
    }
   },
   "outputs": [
    {
     "data": {
      "text/html": [
       "\n",
       "\n",
       "\n",
       "\n",
       "\n",
       "\n",
       "  <div class=\"bk-root\" id=\"84726276-92dc-4275-a68e-7774170dc442\"></div>\n"
      ]
     },
     "metadata": {},
     "output_type": "display_data"
    },
    {
     "data": {
      "application/javascript": [
       "(function(root) {\n",
       "  function embed_document(root) {\n",
       "    \n",
       "  var docs_json = {\"82967c8b-9c68-45b8-a2da-b00b1192f2d9\":{\"roots\":{\"references\":[{\"attributes\":{},\"id\":\"d53a476c-89a6-4b28-8897-e147fee24586\",\"type\":\"LinearScale\"},{\"attributes\":{\"fill_alpha\":{\"value\":0.1},\"fill_color\":{\"value\":\"#1f77b4\"},\"line_alpha\":{\"value\":0.1},\"line_color\":{\"value\":\"#1f77b4\"},\"size\":{\"units\":\"screen\",\"value\":15},\"x\":{\"field\":\"x\"},\"y\":{\"field\":\"y\"}},\"id\":\"d5720325-b19e-40d3-85e0-d12e6e1b56aa\",\"type\":\"Circle\"},{\"attributes\":{},\"id\":\"86110bbe-b000-449d-945d-3443e84747e1\",\"type\":\"HelpTool\"},{\"attributes\":{},\"id\":\"958310df-beef-4d0f-845e-905d3938724d\",\"type\":\"WheelZoomTool\"},{\"attributes\":{\"bottom_units\":\"screen\",\"fill_alpha\":{\"value\":0.5},\"fill_color\":{\"value\":\"lightgrey\"},\"left_units\":\"screen\",\"level\":\"overlay\",\"line_alpha\":{\"value\":1.0},\"line_color\":{\"value\":\"black\"},\"line_dash\":[4,4],\"line_width\":{\"value\":2},\"plot\":null,\"render_mode\":\"css\",\"right_units\":\"screen\",\"top_units\":\"screen\"},\"id\":\"fada5c71-31fb-462c-bdf0-63ade54d8dc2\",\"type\":\"BoxAnnotation\"},{\"attributes\":{},\"id\":\"2091f77b-cb0d-4549-abfd-1aa554b98663\",\"type\":\"Selection\"},{\"attributes\":{\"callback\":null},\"id\":\"6e03ecb9-69d0-467c-9f94-50b13b601bc3\",\"type\":\"DataRange1d\"},{\"attributes\":{},\"id\":\"e57e667f-4839-4894-acf2-50a549c4508d\",\"type\":\"ResetTool\"},{\"attributes\":{\"fill_alpha\":{\"value\":0.5},\"fill_color\":{\"value\":\"#1f77b4\"},\"line_alpha\":{\"value\":0.5},\"line_color\":{\"value\":\"#1f77b4\"},\"size\":{\"units\":\"screen\",\"value\":15},\"x\":{\"field\":\"x\"},\"y\":{\"field\":\"y\"}},\"id\":\"f2d6eb0f-4af2-4ec9-834e-6195dd4e1311\",\"type\":\"Circle\"},{\"attributes\":{\"source\":{\"id\":\"843a59dc-f3e8-4a9f-afcf-df14f494212b\",\"type\":\"ColumnDataSource\"}},\"id\":\"3f9532ba-ec64-4841-be31-4d5903c835d9\",\"type\":\"CDSView\"},{\"attributes\":{\"below\":[{\"id\":\"e36f605b-7c4d-45ce-9526-5137c867a3f5\",\"type\":\"LinearAxis\"}],\"left\":[{\"id\":\"fd4b6d42-875b-4ad7-adf8-547bb6477d26\",\"type\":\"LinearAxis\"}],\"plot_height\":400,\"plot_width\":800,\"renderers\":[{\"id\":\"e36f605b-7c4d-45ce-9526-5137c867a3f5\",\"type\":\"LinearAxis\"},{\"id\":\"8b414813-049f-424c-b781-5dc352b9d916\",\"type\":\"Grid\"},{\"id\":\"fd4b6d42-875b-4ad7-adf8-547bb6477d26\",\"type\":\"LinearAxis\"},{\"id\":\"9af417c9-00cf-4fd0-bfab-0b795bb30cd2\",\"type\":\"Grid\"},{\"id\":\"fada5c71-31fb-462c-bdf0-63ade54d8dc2\",\"type\":\"BoxAnnotation\"},{\"id\":\"cf7fafa2-b69b-4f03-9b28-0ab762054fa2\",\"type\":\"GlyphRenderer\"}],\"title\":{\"id\":\"5fbe0d99-9c24-43e4-9945-5e3a40dc4c0f\",\"type\":\"Title\"},\"toolbar\":{\"id\":\"5f13d293-bf0c-41f3-a1b4-4bc46656f3ae\",\"type\":\"Toolbar\"},\"x_range\":{\"id\":\"e7158712-c755-483b-9b2a-d6aad52d59e4\",\"type\":\"DataRange1d\"},\"x_scale\":{\"id\":\"d53a476c-89a6-4b28-8897-e147fee24586\",\"type\":\"LinearScale\"},\"y_range\":{\"id\":\"6e03ecb9-69d0-467c-9f94-50b13b601bc3\",\"type\":\"DataRange1d\"},\"y_scale\":{\"id\":\"eafd46e1-f542-4145-ac25-f5ccb842a5f9\",\"type\":\"LinearScale\"}},\"id\":\"bc68a668-31ef-4243-984f-7de61e1a90fc\",\"subtype\":\"Figure\",\"type\":\"Plot\"},{\"attributes\":{\"formatter\":{\"id\":\"fb12ee0e-3264-40c3-9d0c-f2e96a4594d0\",\"type\":\"BasicTickFormatter\"},\"plot\":{\"id\":\"bc68a668-31ef-4243-984f-7de61e1a90fc\",\"subtype\":\"Figure\",\"type\":\"Plot\"},\"ticker\":{\"id\":\"f8a71697-2116-4208-a2e3-92e0d210099b\",\"type\":\"BasicTicker\"}},\"id\":\"fd4b6d42-875b-4ad7-adf8-547bb6477d26\",\"type\":\"LinearAxis\"},{\"attributes\":{\"formatter\":{\"id\":\"1db0a2d3-18db-4947-b997-250e02b3eeb0\",\"type\":\"BasicTickFormatter\"},\"plot\":{\"id\":\"bc68a668-31ef-4243-984f-7de61e1a90fc\",\"subtype\":\"Figure\",\"type\":\"Plot\"},\"ticker\":{\"id\":\"a0e3ab10-bd2e-49ae-a8a2-2082e2f8174f\",\"type\":\"BasicTicker\"}},\"id\":\"e36f605b-7c4d-45ce-9526-5137c867a3f5\",\"type\":\"LinearAxis\"},{\"attributes\":{\"dimension\":1,\"plot\":{\"id\":\"bc68a668-31ef-4243-984f-7de61e1a90fc\",\"subtype\":\"Figure\",\"type\":\"Plot\"},\"ticker\":{\"id\":\"f8a71697-2116-4208-a2e3-92e0d210099b\",\"type\":\"BasicTicker\"}},\"id\":\"9af417c9-00cf-4fd0-bfab-0b795bb30cd2\",\"type\":\"Grid\"},{\"attributes\":{\"plot\":{\"id\":\"bc68a668-31ef-4243-984f-7de61e1a90fc\",\"subtype\":\"Figure\",\"type\":\"Plot\"},\"ticker\":{\"id\":\"a0e3ab10-bd2e-49ae-a8a2-2082e2f8174f\",\"type\":\"BasicTicker\"}},\"id\":\"8b414813-049f-424c-b781-5dc352b9d916\",\"type\":\"Grid\"},{\"attributes\":{},\"id\":\"1db0a2d3-18db-4947-b997-250e02b3eeb0\",\"type\":\"BasicTickFormatter\"},{\"attributes\":{\"callback\":null},\"id\":\"e7158712-c755-483b-9b2a-d6aad52d59e4\",\"type\":\"DataRange1d\"},{\"attributes\":{},\"id\":\"f8a71697-2116-4208-a2e3-92e0d210099b\",\"type\":\"BasicTicker\"},{\"attributes\":{},\"id\":\"6c69364b-0d37-40a6-b105-734db7a41449\",\"type\":\"PanTool\"},{\"attributes\":{},\"id\":\"a0e3ab10-bd2e-49ae-a8a2-2082e2f8174f\",\"type\":\"BasicTicker\"},{\"attributes\":{\"data_source\":{\"id\":\"843a59dc-f3e8-4a9f-afcf-df14f494212b\",\"type\":\"ColumnDataSource\"},\"glyph\":{\"id\":\"f2d6eb0f-4af2-4ec9-834e-6195dd4e1311\",\"type\":\"Circle\"},\"hover_glyph\":null,\"muted_glyph\":null,\"nonselection_glyph\":{\"id\":\"d5720325-b19e-40d3-85e0-d12e6e1b56aa\",\"type\":\"Circle\"},\"selection_glyph\":null,\"view\":{\"id\":\"3f9532ba-ec64-4841-be31-4d5903c835d9\",\"type\":\"CDSView\"}},\"id\":\"cf7fafa2-b69b-4f03-9b28-0ab762054fa2\",\"type\":\"GlyphRenderer\"},{\"attributes\":{\"active_drag\":\"auto\",\"active_inspect\":\"auto\",\"active_multi\":null,\"active_scroll\":\"auto\",\"active_tap\":\"auto\",\"tools\":[{\"id\":\"6c69364b-0d37-40a6-b105-734db7a41449\",\"type\":\"PanTool\"},{\"id\":\"958310df-beef-4d0f-845e-905d3938724d\",\"type\":\"WheelZoomTool\"},{\"id\":\"3a7ebc91-45c2-4b61-a613-f0152b991c60\",\"type\":\"BoxZoomTool\"},{\"id\":\"0bef1c4a-8b0b-4f30-8d91-aff3a5d7944e\",\"type\":\"SaveTool\"},{\"id\":\"e57e667f-4839-4894-acf2-50a549c4508d\",\"type\":\"ResetTool\"},{\"id\":\"86110bbe-b000-449d-945d-3443e84747e1\",\"type\":\"HelpTool\"}]},\"id\":\"5f13d293-bf0c-41f3-a1b4-4bc46656f3ae\",\"type\":\"Toolbar\"},{\"attributes\":{},\"id\":\"fb12ee0e-3264-40c3-9d0c-f2e96a4594d0\",\"type\":\"BasicTickFormatter\"},{\"attributes\":{\"overlay\":{\"id\":\"fada5c71-31fb-462c-bdf0-63ade54d8dc2\",\"type\":\"BoxAnnotation\"}},\"id\":\"3a7ebc91-45c2-4b61-a613-f0152b991c60\",\"type\":\"BoxZoomTool\"},{\"attributes\":{},\"id\":\"0bef1c4a-8b0b-4f30-8d91-aff3a5d7944e\",\"type\":\"SaveTool\"},{\"attributes\":{},\"id\":\"eafd46e1-f542-4145-ac25-f5ccb842a5f9\",\"type\":\"LinearScale\"},{\"attributes\":{\"plot\":null,\"text\":\"Plot\\u5b9e\\u4f8b\\u4e4b\\u8c03\\u6574plot\\u5c42\\u5c5e\\u6027\",\"text_color\":{\"value\":\"orange\"},\"text_font_style\":\"italic\"},\"id\":\"5fbe0d99-9c24-43e4-9945-5e3a40dc4c0f\",\"type\":\"Title\"},{\"attributes\":{\"callback\":null,\"data\":{\"x\":[1,2,3,4,5],\"y\":[2,5,8,2,7]},\"selected\":{\"id\":\"2091f77b-cb0d-4549-abfd-1aa554b98663\",\"type\":\"Selection\"},\"selection_policy\":{\"id\":\"b93ba4e3-80e4-42cc-9790-ec9c1864d757\",\"type\":\"UnionRenderers\"}},\"id\":\"843a59dc-f3e8-4a9f-afcf-df14f494212b\",\"type\":\"ColumnDataSource\"},{\"attributes\":{},\"id\":\"b93ba4e3-80e4-42cc-9790-ec9c1864d757\",\"type\":\"UnionRenderers\"}],\"root_ids\":[\"bc68a668-31ef-4243-984f-7de61e1a90fc\"]},\"title\":\"Bokeh Application\",\"version\":\"0.13.0\"}};\n",
       "  var render_items = [{\"docid\":\"82967c8b-9c68-45b8-a2da-b00b1192f2d9\",\"roots\":{\"bc68a668-31ef-4243-984f-7de61e1a90fc\":\"84726276-92dc-4275-a68e-7774170dc442\"}}];\n",
       "  root.Bokeh.embed.embed_items_notebook(docs_json, render_items);\n",
       "\n",
       "  }\n",
       "  if (root.Bokeh !== undefined) {\n",
       "    embed_document(root);\n",
       "  } else {\n",
       "    var attempts = 0;\n",
       "    var timer = setInterval(function(root) {\n",
       "      if (root.Bokeh !== undefined) {\n",
       "        embed_document(root);\n",
       "        clearInterval(timer);\n",
       "      }\n",
       "      attempts++;\n",
       "      if (attempts > 100) {\n",
       "        console.log(\"Bokeh: ERROR: Unable to run BokehJS code because BokehJS library is missing\")\n",
       "        clearInterval(timer);\n",
       "      }\n",
       "    }, 10, root)\n",
       "  }\n",
       "})(window);"
      ],
      "application/vnd.bokehjs_exec.v0+json": ""
     },
     "metadata": {
      "application/vnd.bokehjs_exec.v0+json": {
       "id": "bc68a668-31ef-4243-984f-7de61e1a90fc"
      }
     },
     "output_type": "display_data"
    }
   ],
   "source": [
    "# EXERCISE Create a plot of your own and customize several plot-level properties\n",
    "p= figure(plot_width=800, plot_height=400, title='Plot实例之调整plot层属性')\n",
    "\n",
    "p.circle([1, 2, 3, 4, 5], [2, 5, 8, 2, 7], size=15, alpha=0.5)\n",
    "\n",
    "p.title.text_color = \"orange\"\n",
    "#p.title.text_font = \"微软雅黑\"\n",
    "p.title.text_font_style = \"italic\"\n",
    "\n",
    "\n",
    "show(p)"
   ]
  },
  {
   "cell_type": "markdown",
   "metadata": {
    "slideshow": {
     "slide_type": "slide"
    }
   },
   "source": [
    "# Glyphs\n",
    "\n",
    "It's also possible to style the visual properties of glyphs. When using `bokeh.plotting` this is often done when calling the glyph methods:\n",
    "```python\n",
    "p.circle(line_color=\"red\", fill_alpha=0.2, ...)\n",
    "```\n",
    "But it is also possible to set these properties directly on glyph objects. Glyph objects are found on `GlyphRenderer` objects, which are returned by the `Plot.add_glyph` and `bokeh.plotting` glyph methods like `circle`, `rect`, etc. Let's look at an example:"
   ]
  },
  {
   "cell_type": "code",
   "execution_count": 43,
   "metadata": {
    "slideshow": {
     "slide_type": "subslide"
    }
   },
   "outputs": [
    {
     "data": {
      "text/html": [
       "\n",
       "\n",
       "\n",
       "\n",
       "\n",
       "\n",
       "  <div class=\"bk-root\" id=\"0ca27538-8d60-409f-92cd-4e26d2cf592e\"></div>\n"
      ]
     },
     "metadata": {},
     "output_type": "display_data"
    },
    {
     "data": {
      "application/javascript": [
       "(function(root) {\n",
       "  function embed_document(root) {\n",
       "    \n",
       "  var docs_json = {\"3f2d326b-7170-4989-8ffa-e7fa0c2282dd\":{\"roots\":{\"references\":[{\"attributes\":{\"source\":{\"id\":\"3cd0d0f3-85b1-4cc1-bfe9-04bb06147c99\",\"type\":\"ColumnDataSource\"}},\"id\":\"8487443d-e0a8-43ee-90c4-f6f800cfa5ac\",\"type\":\"CDSView\"},{\"attributes\":{\"below\":[{\"id\":\"44998479-7c0f-4138-8133-2d16cf0ef9f2\",\"type\":\"LinearAxis\"}],\"left\":[{\"id\":\"3aae5d6b-0917-4cbe-b563-b192117594cc\",\"type\":\"LinearAxis\"}],\"plot_height\":400,\"plot_width\":700,\"renderers\":[{\"id\":\"44998479-7c0f-4138-8133-2d16cf0ef9f2\",\"type\":\"LinearAxis\"},{\"id\":\"1595bb65-7203-4208-a3f4-597769cd4cef\",\"type\":\"Grid\"},{\"id\":\"3aae5d6b-0917-4cbe-b563-b192117594cc\",\"type\":\"LinearAxis\"},{\"id\":\"9ff0ab13-97a4-4247-9728-82eed9a62cd0\",\"type\":\"Grid\"},{\"id\":\"18534721-09b8-4237-aa1d-ccdb591df22e\",\"type\":\"BoxAnnotation\"},{\"id\":\"3c7dfc35-2a96-4105-945b-be47b4cdd50d\",\"type\":\"GlyphRenderer\"}],\"title\":{\"id\":\"dba58ad8-fa7c-42bc-a32e-e3e484699225\",\"type\":\"Title\"},\"toolbar\":{\"id\":\"e28d7156-d7ad-4d4f-a07f-82f469e6122e\",\"type\":\"Toolbar\"},\"x_range\":{\"id\":\"208b34da-e719-477e-abfb-62446d558b9a\",\"type\":\"DataRange1d\"},\"x_scale\":{\"id\":\"c2d5a930-5f52-4eae-8797-63a2d75992be\",\"type\":\"LinearScale\"},\"y_range\":{\"id\":\"27a41d59-4ca6-49b5-a11c-8c0adcf6d417\",\"type\":\"DataRange1d\"},\"y_scale\":{\"id\":\"3525ec98-5d84-40bb-850a-c57f318a0bda\",\"type\":\"LinearScale\"}},\"id\":\"f4b856b6-0d4d-4bf1-a547-05bee7f16c62\",\"subtype\":\"Figure\",\"type\":\"Plot\"},{\"attributes\":{\"active_drag\":\"auto\",\"active_inspect\":\"auto\",\"active_multi\":null,\"active_scroll\":\"auto\",\"active_tap\":\"auto\",\"tools\":[{\"id\":\"3205ac41-c80f-4337-ba4b-3a517e7d9ed8\",\"type\":\"PanTool\"},{\"id\":\"9f8f7785-8ad2-4b66-a6ac-afb6789fa76c\",\"type\":\"WheelZoomTool\"},{\"id\":\"1aed58f2-802f-4080-83e9-52786641bc17\",\"type\":\"BoxZoomTool\"},{\"id\":\"2b4aa45e-edde-4fb9-b879-7228549f628c\",\"type\":\"SaveTool\"},{\"id\":\"77eb30e1-749b-405d-88bc-718a0d329501\",\"type\":\"ResetTool\"},{\"id\":\"724fd81c-36c8-47a8-84ce-3aaa1f1a4c4d\",\"type\":\"HelpTool\"}]},\"id\":\"e28d7156-d7ad-4d4f-a07f-82f469e6122e\",\"type\":\"Toolbar\"},{\"attributes\":{\"fill_alpha\":{\"value\":0.1},\"fill_color\":{\"value\":\"#1f77b4\"},\"line_alpha\":{\"value\":0.1},\"line_color\":{\"value\":\"#1f77b4\"},\"x\":{\"field\":\"x\"},\"y\":{\"field\":\"y\"}},\"id\":\"864fad85-818f-4c12-a385-25c61c531817\",\"type\":\"Circle\"},{\"attributes\":{},\"id\":\"cb11b0ad-ce98-4bdb-bdf3-d0a4f07fb94d\",\"type\":\"BasicTickFormatter\"},{\"attributes\":{\"plot\":null,\"text\":\"\"},\"id\":\"dba58ad8-fa7c-42bc-a32e-e3e484699225\",\"type\":\"Title\"},{\"attributes\":{},\"id\":\"724fd81c-36c8-47a8-84ce-3aaa1f1a4c4d\",\"type\":\"HelpTool\"},{\"attributes\":{\"data_source\":{\"id\":\"3cd0d0f3-85b1-4cc1-bfe9-04bb06147c99\",\"type\":\"ColumnDataSource\"},\"glyph\":{\"id\":\"362230d3-08ac-4cdf-9a9c-f76c0836a35d\",\"type\":\"Circle\"},\"hover_glyph\":null,\"muted_glyph\":null,\"nonselection_glyph\":{\"id\":\"864fad85-818f-4c12-a385-25c61c531817\",\"type\":\"Circle\"},\"selection_glyph\":null,\"view\":{\"id\":\"8487443d-e0a8-43ee-90c4-f6f800cfa5ac\",\"type\":\"CDSView\"}},\"id\":\"3c7dfc35-2a96-4105-945b-be47b4cdd50d\",\"type\":\"GlyphRenderer\"},{\"attributes\":{\"plot\":{\"id\":\"f4b856b6-0d4d-4bf1-a547-05bee7f16c62\",\"subtype\":\"Figure\",\"type\":\"Plot\"},\"ticker\":{\"id\":\"f2ac6c2d-f329-4a73-ba7c-bcedfaf7af59\",\"type\":\"BasicTicker\"}},\"id\":\"1595bb65-7203-4208-a3f4-597769cd4cef\",\"type\":\"Grid\"},{\"attributes\":{\"overlay\":{\"id\":\"18534721-09b8-4237-aa1d-ccdb591df22e\",\"type\":\"BoxAnnotation\"}},\"id\":\"1aed58f2-802f-4080-83e9-52786641bc17\",\"type\":\"BoxZoomTool\"},{\"attributes\":{},\"id\":\"f2ac6c2d-f329-4a73-ba7c-bcedfaf7af59\",\"type\":\"BasicTicker\"},{\"attributes\":{},\"id\":\"c6634adc-1fe3-42b4-ac18-94528764ae05\",\"type\":\"BasicTicker\"},{\"attributes\":{},\"id\":\"77eb30e1-749b-405d-88bc-718a0d329501\",\"type\":\"ResetTool\"},{\"attributes\":{},\"id\":\"8b6c6f24-99a9-481f-93a1-f22b3b38f15d\",\"type\":\"UnionRenderers\"},{\"attributes\":{},\"id\":\"3525ec98-5d84-40bb-850a-c57f318a0bda\",\"type\":\"LinearScale\"},{\"attributes\":{\"bottom_units\":\"screen\",\"fill_alpha\":{\"value\":0.5},\"fill_color\":{\"value\":\"lightgrey\"},\"left_units\":\"screen\",\"level\":\"overlay\",\"line_alpha\":{\"value\":1.0},\"line_color\":{\"value\":\"black\"},\"line_dash\":[4,4],\"line_width\":{\"value\":2},\"plot\":null,\"render_mode\":\"css\",\"right_units\":\"screen\",\"top_units\":\"screen\"},\"id\":\"18534721-09b8-4237-aa1d-ccdb591df22e\",\"type\":\"BoxAnnotation\"},{\"attributes\":{\"callback\":null},\"id\":\"208b34da-e719-477e-abfb-62446d558b9a\",\"type\":\"DataRange1d\"},{\"attributes\":{\"dimension\":1,\"plot\":{\"id\":\"f4b856b6-0d4d-4bf1-a547-05bee7f16c62\",\"subtype\":\"Figure\",\"type\":\"Plot\"},\"ticker\":{\"id\":\"c6634adc-1fe3-42b4-ac18-94528764ae05\",\"type\":\"BasicTicker\"}},\"id\":\"9ff0ab13-97a4-4247-9728-82eed9a62cd0\",\"type\":\"Grid\"},{\"attributes\":{\"callback\":null},\"id\":\"27a41d59-4ca6-49b5-a11c-8c0adcf6d417\",\"type\":\"DataRange1d\"},{\"attributes\":{\"fill_alpha\":{\"value\":0.2},\"fill_color\":{\"value\":\"#1f77b4\"},\"line_color\":{\"value\":\"firebrick\"},\"line_dash\":[5,1],\"line_width\":{\"value\":2},\"size\":{\"units\":\"screen\",\"value\":50},\"x\":{\"field\":\"x\"},\"y\":{\"field\":\"y\"}},\"id\":\"362230d3-08ac-4cdf-9a9c-f76c0836a35d\",\"type\":\"Circle\"},{\"attributes\":{},\"id\":\"c2d5a930-5f52-4eae-8797-63a2d75992be\",\"type\":\"LinearScale\"},{\"attributes\":{},\"id\":\"3205ac41-c80f-4337-ba4b-3a517e7d9ed8\",\"type\":\"PanTool\"},{\"attributes\":{},\"id\":\"2b4aa45e-edde-4fb9-b879-7228549f628c\",\"type\":\"SaveTool\"},{\"attributes\":{\"callback\":null,\"data\":{\"x\":[1,2,3,4,5],\"y\":[2,5,8,2,7]},\"selected\":{\"id\":\"9e4025d2-5e69-45f6-9125-28aa5127a728\",\"type\":\"Selection\"},\"selection_policy\":{\"id\":\"8b6c6f24-99a9-481f-93a1-f22b3b38f15d\",\"type\":\"UnionRenderers\"}},\"id\":\"3cd0d0f3-85b1-4cc1-bfe9-04bb06147c99\",\"type\":\"ColumnDataSource\"},{\"attributes\":{\"formatter\":{\"id\":\"cb11b0ad-ce98-4bdb-bdf3-d0a4f07fb94d\",\"type\":\"BasicTickFormatter\"},\"plot\":{\"id\":\"f4b856b6-0d4d-4bf1-a547-05bee7f16c62\",\"subtype\":\"Figure\",\"type\":\"Plot\"},\"ticker\":{\"id\":\"f2ac6c2d-f329-4a73-ba7c-bcedfaf7af59\",\"type\":\"BasicTicker\"}},\"id\":\"44998479-7c0f-4138-8133-2d16cf0ef9f2\",\"type\":\"LinearAxis\"},{\"attributes\":{},\"id\":\"771dab43-f1e0-4fa1-a147-8256a4b636fb\",\"type\":\"BasicTickFormatter\"},{\"attributes\":{},\"id\":\"9e4025d2-5e69-45f6-9125-28aa5127a728\",\"type\":\"Selection\"},{\"attributes\":{},\"id\":\"9f8f7785-8ad2-4b66-a6ac-afb6789fa76c\",\"type\":\"WheelZoomTool\"},{\"attributes\":{\"formatter\":{\"id\":\"771dab43-f1e0-4fa1-a147-8256a4b636fb\",\"type\":\"BasicTickFormatter\"},\"plot\":{\"id\":\"f4b856b6-0d4d-4bf1-a547-05bee7f16c62\",\"subtype\":\"Figure\",\"type\":\"Plot\"},\"ticker\":{\"id\":\"c6634adc-1fe3-42b4-ac18-94528764ae05\",\"type\":\"BasicTicker\"}},\"id\":\"3aae5d6b-0917-4cbe-b563-b192117594cc\",\"type\":\"LinearAxis\"}],\"root_ids\":[\"f4b856b6-0d4d-4bf1-a547-05bee7f16c62\"]},\"title\":\"Bokeh Application\",\"version\":\"0.13.0\"}};\n",
       "  var render_items = [{\"docid\":\"3f2d326b-7170-4989-8ffa-e7fa0c2282dd\",\"roots\":{\"f4b856b6-0d4d-4bf1-a547-05bee7f16c62\":\"0ca27538-8d60-409f-92cd-4e26d2cf592e\"}}];\n",
       "  root.Bokeh.embed.embed_items_notebook(docs_json, render_items);\n",
       "\n",
       "  }\n",
       "  if (root.Bokeh !== undefined) {\n",
       "    embed_document(root);\n",
       "  } else {\n",
       "    var attempts = 0;\n",
       "    var timer = setInterval(function(root) {\n",
       "      if (root.Bokeh !== undefined) {\n",
       "        embed_document(root);\n",
       "        clearInterval(timer);\n",
       "      }\n",
       "      attempts++;\n",
       "      if (attempts > 100) {\n",
       "        console.log(\"Bokeh: ERROR: Unable to run BokehJS code because BokehJS library is missing\")\n",
       "        clearInterval(timer);\n",
       "      }\n",
       "    }, 10, root)\n",
       "  }\n",
       "})(window);"
      ],
      "application/vnd.bokehjs_exec.v0+json": ""
     },
     "metadata": {
      "application/vnd.bokehjs_exec.v0+json": {
       "id": "f4b856b6-0d4d-4bf1-a547-05bee7f16c62"
      }
     },
     "output_type": "display_data"
    }
   ],
   "source": [
    "p = figure(plot_width=700, plot_height=400)\n",
    "\n",
    "# keep a reference to the returned GlyphRenderer\n",
    "r = p.circle([1,2,3,4,5], [2,5,8,2,7])\n",
    "\n",
    "r.glyph.size = 50\n",
    "r.glyph.fill_alpha = 0.2\n",
    "r.glyph.line_color = \"firebrick\"\n",
    "r.glyph.line_dash = [5, 1]\n",
    "r.glyph.line_width = 2\n",
    "\n",
    "show(p)"
   ]
  },
  {
   "cell_type": "markdown",
   "metadata": {
    "slideshow": {
     "slide_type": "subslide"
    }
   },
   "source": [
    "### Selection and non-selection visuals\n",
    "\n",
    "You can also control how glyphs look when there are selections involved. The set of \"selected\" points is displayed according to the optional `.selection_glyph` property of a `GlyphRenderer`:\n",
    "```python\n",
    "r.selection_glyph = Circle(fill_alpha=1, fill_color=\"firebrick\", line_color=None) \n",
    "```\n",
    "When there is a non-empty selection, the set of \"unselected: points is displayed according to the optional  `.nonselection_glyph` property of a `GlyphRenderer`:\n",
    "```python\n",
    "r.nonselection_glyph = Circle(fill_alpha=0.2, fill_color=\"grey\", line_color=None) \n",
    "```\n",
    "\n",
    "When using the `bokeh.plotting` interface, it is easier to pass these visual properties to the glyph methods as shown below. The glyph method will create the selection or nonselection glyphs and attach them to the renderer for you. "
   ]
  },
  {
   "cell_type": "code",
   "execution_count": 48,
   "metadata": {
    "slideshow": {
     "slide_type": "subslide"
    }
   },
   "outputs": [
    {
     "data": {
      "text/html": [
       "\n",
       "\n",
       "\n",
       "\n",
       "\n",
       "\n",
       "  <div class=\"bk-root\" id=\"bd596030-6a6b-419e-8024-3c49996fb16c\"></div>\n"
      ]
     },
     "metadata": {},
     "output_type": "display_data"
    },
    {
     "data": {
      "application/javascript": [
       "(function(root) {\n",
       "  function embed_document(root) {\n",
       "    \n",
       "  var docs_json = {\"e25b8fa2-d659-43fa-acee-1c8602f4b62c\":{\"roots\":{\"references\":[{\"attributes\":{\"formatter\":{\"id\":\"d14394c9-b2e9-41b8-be08-00e1e9843b3b\",\"type\":\"BasicTickFormatter\"},\"plot\":{\"id\":\"3a42d87a-4024-4c38-9deb-137270266105\",\"subtype\":\"Figure\",\"type\":\"Plot\"},\"ticker\":{\"id\":\"23afb4b9-d7b2-4a41-8104-f9d79ef88354\",\"type\":\"BasicTicker\"}},\"id\":\"28ca97cd-592a-4c03-be0d-fd778305ee27\",\"type\":\"LinearAxis\"},{\"attributes\":{\"callback\":null},\"id\":\"ff5de2a5-9057-4fb8-b9a7-ac8426d9d129\",\"type\":\"DataRange1d\"},{\"attributes\":{\"source\":{\"id\":\"5ca80101-6bbe-4e7e-986c-867a4dd9c84e\",\"type\":\"ColumnDataSource\"}},\"id\":\"e2516a86-d15f-4778-b3ac-37e20d78e907\",\"type\":\"CDSView\"},{\"attributes\":{\"data_source\":{\"id\":\"5ca80101-6bbe-4e7e-986c-867a4dd9c84e\",\"type\":\"ColumnDataSource\"},\"glyph\":{\"id\":\"05a3acda-b4a7-472a-99d3-e168cd052c63\",\"type\":\"Circle\"},\"hover_glyph\":null,\"muted_glyph\":null,\"nonselection_glyph\":{\"id\":\"71ca96af-ec1c-4d91-b0fd-ac269eee4903\",\"type\":\"Circle\"},\"selection_glyph\":{\"id\":\"a46bfd21-c20c-4e3f-b9b2-ee0a1229ef71\",\"type\":\"Circle\"},\"view\":{\"id\":\"e2516a86-d15f-4778-b3ac-37e20d78e907\",\"type\":\"CDSView\"}},\"id\":\"869f202f-692e-486f-af70-d901f62e4b17\",\"type\":\"GlyphRenderer\"},{\"attributes\":{\"callback\":null},\"id\":\"92585d48-cd49-4da2-b791-6bd5e0812c09\",\"type\":\"TapTool\"},{\"attributes\":{\"dimension\":1,\"plot\":{\"id\":\"3a42d87a-4024-4c38-9deb-137270266105\",\"subtype\":\"Figure\",\"type\":\"Plot\"},\"ticker\":{\"id\":\"81ad974c-108b-4c29-ba20-9d8df61a03c5\",\"type\":\"BasicTicker\"}},\"id\":\"646b07f6-ec43-4b51-847c-8d186d3ba218\",\"type\":\"Grid\"},{\"attributes\":{\"fill_color\":{\"value\":\"firebrick\"},\"line_color\":{\"value\":\"firebrick\"},\"size\":{\"units\":\"screen\",\"value\":50},\"x\":{\"field\":\"x\"},\"y\":{\"field\":\"y\"}},\"id\":\"a46bfd21-c20c-4e3f-b9b2-ee0a1229ef71\",\"type\":\"Circle\"},{\"attributes\":{\"plot\":null,\"text\":\"Select a circle\"},\"id\":\"7b2fe75e-8b14-4481-bb14-74b616589b7a\",\"type\":\"Title\"},{\"attributes\":{\"plot\":{\"id\":\"3a42d87a-4024-4c38-9deb-137270266105\",\"subtype\":\"Figure\",\"type\":\"Plot\"},\"ticker\":{\"id\":\"23afb4b9-d7b2-4a41-8104-f9d79ef88354\",\"type\":\"BasicTicker\"}},\"id\":\"cc1feca9-4667-4875-ab68-8bdbde8df9e3\",\"type\":\"Grid\"},{\"attributes\":{},\"id\":\"0056f3ac-a0a3-4446-8d5d-075a7b752378\",\"type\":\"BasicTickFormatter\"},{\"attributes\":{},\"id\":\"81ad974c-108b-4c29-ba20-9d8df61a03c5\",\"type\":\"BasicTicker\"},{\"attributes\":{\"below\":[{\"id\":\"28ca97cd-592a-4c03-be0d-fd778305ee27\",\"type\":\"LinearAxis\"}],\"left\":[{\"id\":\"378e0c90-291c-486a-a4bc-b70e41e4da3d\",\"type\":\"LinearAxis\"}],\"plot_height\":400,\"plot_width\":700,\"renderers\":[{\"id\":\"28ca97cd-592a-4c03-be0d-fd778305ee27\",\"type\":\"LinearAxis\"},{\"id\":\"cc1feca9-4667-4875-ab68-8bdbde8df9e3\",\"type\":\"Grid\"},{\"id\":\"378e0c90-291c-486a-a4bc-b70e41e4da3d\",\"type\":\"LinearAxis\"},{\"id\":\"646b07f6-ec43-4b51-847c-8d186d3ba218\",\"type\":\"Grid\"},{\"id\":\"869f202f-692e-486f-af70-d901f62e4b17\",\"type\":\"GlyphRenderer\"}],\"title\":{\"id\":\"7b2fe75e-8b14-4481-bb14-74b616589b7a\",\"type\":\"Title\"},\"toolbar\":{\"id\":\"da125bde-62a6-4a87-8a97-5bbe39468043\",\"type\":\"Toolbar\"},\"x_range\":{\"id\":\"ff5de2a5-9057-4fb8-b9a7-ac8426d9d129\",\"type\":\"DataRange1d\"},\"x_scale\":{\"id\":\"44b4a1d8-6ea5-46c5-8132-9f2a06e6f96c\",\"type\":\"LinearScale\"},\"y_range\":{\"id\":\"42ca89c5-3974-430a-9aa3-7e6bb863921c\",\"type\":\"DataRange1d\"},\"y_scale\":{\"id\":\"84fe47e9-6d14-41d9-96e6-df42c0c2232b\",\"type\":\"LinearScale\"}},\"id\":\"3a42d87a-4024-4c38-9deb-137270266105\",\"subtype\":\"Figure\",\"type\":\"Plot\"},{\"attributes\":{\"fill_color\":{\"value\":\"#1f77b4\"},\"line_color\":{\"value\":\"#1f77b4\"},\"size\":{\"units\":\"screen\",\"value\":50},\"x\":{\"field\":\"x\"},\"y\":{\"field\":\"y\"}},\"id\":\"05a3acda-b4a7-472a-99d3-e168cd052c63\",\"type\":\"Circle\"},{\"attributes\":{},\"id\":\"d248a7df-40c6-44d3-828f-a1666ac9b034\",\"type\":\"UnionRenderers\"},{\"attributes\":{\"fill_alpha\":{\"value\":0.2},\"fill_color\":{\"value\":\"blue\"},\"line_color\":{\"value\":\"blue\"},\"size\":{\"units\":\"screen\",\"value\":50},\"x\":{\"field\":\"x\"},\"y\":{\"field\":\"y\"}},\"id\":\"71ca96af-ec1c-4d91-b0fd-ac269eee4903\",\"type\":\"Circle\"},{\"attributes\":{\"formatter\":{\"id\":\"0056f3ac-a0a3-4446-8d5d-075a7b752378\",\"type\":\"BasicTickFormatter\"},\"plot\":{\"id\":\"3a42d87a-4024-4c38-9deb-137270266105\",\"subtype\":\"Figure\",\"type\":\"Plot\"},\"ticker\":{\"id\":\"81ad974c-108b-4c29-ba20-9d8df61a03c5\",\"type\":\"BasicTicker\"}},\"id\":\"378e0c90-291c-486a-a4bc-b70e41e4da3d\",\"type\":\"LinearAxis\"},{\"attributes\":{},\"id\":\"95af6b31-b3a1-4647-9cf6-78546bc44d1c\",\"type\":\"Selection\"},{\"attributes\":{},\"id\":\"84fe47e9-6d14-41d9-96e6-df42c0c2232b\",\"type\":\"LinearScale\"},{\"attributes\":{\"active_drag\":\"auto\",\"active_inspect\":\"auto\",\"active_multi\":null,\"active_scroll\":\"auto\",\"active_tap\":\"auto\",\"tools\":[{\"id\":\"92585d48-cd49-4da2-b791-6bd5e0812c09\",\"type\":\"TapTool\"}]},\"id\":\"da125bde-62a6-4a87-8a97-5bbe39468043\",\"type\":\"Toolbar\"},{\"attributes\":{\"callback\":null},\"id\":\"42ca89c5-3974-430a-9aa3-7e6bb863921c\",\"type\":\"DataRange1d\"},{\"attributes\":{},\"id\":\"44b4a1d8-6ea5-46c5-8132-9f2a06e6f96c\",\"type\":\"LinearScale\"},{\"attributes\":{},\"id\":\"d14394c9-b2e9-41b8-be08-00e1e9843b3b\",\"type\":\"BasicTickFormatter\"},{\"attributes\":{},\"id\":\"23afb4b9-d7b2-4a41-8104-f9d79ef88354\",\"type\":\"BasicTicker\"},{\"attributes\":{\"callback\":null,\"data\":{\"x\":[1,2,3,4,5],\"y\":[2,5,8,2,7]},\"selected\":{\"id\":\"95af6b31-b3a1-4647-9cf6-78546bc44d1c\",\"type\":\"Selection\"},\"selection_policy\":{\"id\":\"d248a7df-40c6-44d3-828f-a1666ac9b034\",\"type\":\"UnionRenderers\"}},\"id\":\"5ca80101-6bbe-4e7e-986c-867a4dd9c84e\",\"type\":\"ColumnDataSource\"}],\"root_ids\":[\"3a42d87a-4024-4c38-9deb-137270266105\"]},\"title\":\"Bokeh Application\",\"version\":\"0.13.0\"}};\n",
       "  var render_items = [{\"docid\":\"e25b8fa2-d659-43fa-acee-1c8602f4b62c\",\"roots\":{\"3a42d87a-4024-4c38-9deb-137270266105\":\"bd596030-6a6b-419e-8024-3c49996fb16c\"}}];\n",
       "  root.Bokeh.embed.embed_items_notebook(docs_json, render_items);\n",
       "\n",
       "  }\n",
       "  if (root.Bokeh !== undefined) {\n",
       "    embed_document(root);\n",
       "  } else {\n",
       "    var attempts = 0;\n",
       "    var timer = setInterval(function(root) {\n",
       "      if (root.Bokeh !== undefined) {\n",
       "        embed_document(root);\n",
       "        clearInterval(timer);\n",
       "      }\n",
       "      attempts++;\n",
       "      if (attempts > 100) {\n",
       "        console.log(\"Bokeh: ERROR: Unable to run BokehJS code because BokehJS library is missing\")\n",
       "        clearInterval(timer);\n",
       "      }\n",
       "    }, 10, root)\n",
       "  }\n",
       "})(window);"
      ],
      "application/vnd.bokehjs_exec.v0+json": ""
     },
     "metadata": {
      "application/vnd.bokehjs_exec.v0+json": {
       "id": "3a42d87a-4024-4c38-9deb-137270266105"
      }
     },
     "output_type": "display_data"
    }
   ],
   "source": [
    "p = figure(plot_width=700, plot_height=400, tools=\"tap\", title=\"Select a circle\")\n",
    "renderer = p.circle([1, 2, 3, 4, 5], [2, 5, 8, 2, 7], size=50,\n",
    "\n",
    "                    # set visual properties for selected glyphs\n",
    "                    selection_color=\"firebrick\",\n",
    "\n",
    "                    # set visual properties for non-selected glyphs\n",
    "                    nonselection_fill_alpha=0.2,\n",
    "                    nonselection_fill_color=\"blue\",\n",
    "                    nonselection_line_color=\"blue\",\n",
    "                    nonselection_line_alpha=1.0)\n",
    "\n",
    "show(p)"
   ]
  },
  {
   "cell_type": "markdown",
   "metadata": {
    "slideshow": {
     "slide_type": "slide"
    }
   },
   "source": [
    "It is also possible to specify the visual appearance of glyphs when they are \"inspected\", e.g. by a hover tool. \n",
    "This is accomplished by setting an optional `hover_glyph` on the glyph renderer:\n",
    "```python\n",
    "r.hover_glyph = Circle(fill_alpha=1, fill_color=\"firebrick\", line_color=None) \n",
    "```\n",
    "Or if using `bokeh.plotting` glyph methods, by passing `hover_fill_alpha`, etc. to the glyph method. Lets look at an example that works together with a `HoverTool` configured for \"hline\" hit-testing."
   ]
  },
  {
   "cell_type": "code",
   "execution_count": 50,
   "metadata": {
    "slideshow": {
     "slide_type": "subslide"
    }
   },
   "outputs": [
    {
     "data": {
      "text/html": [
       "\n",
       "\n",
       "\n",
       "\n",
       "\n",
       "\n",
       "  <div class=\"bk-root\" id=\"3a2d13d1-7ae7-4ae9-a112-2ed287fecb47\"></div>\n"
      ]
     },
     "metadata": {},
     "output_type": "display_data"
    },
    {
     "data": {
      "application/javascript": [
       "(function(root) {\n",
       "  function embed_document(root) {\n",
       "    \n",
       "  var docs_json = {\"47a774af-4694-42d8-8391-e5f201da0e15\":{\"roots\":{\"references\":[{\"attributes\":{\"formatter\":{\"id\":\"6146515a-468c-495a-b3dd-7e9f8ae98da3\",\"type\":\"DatetimeTickFormatter\"},\"plot\":{\"id\":\"de086bc0-f94a-455f-98f0-441e9e0c5551\",\"subtype\":\"Figure\",\"type\":\"Plot\"},\"ticker\":{\"id\":\"8caf836e-1057-4531-822c-6b90b7cb7102\",\"type\":\"DatetimeTicker\"}},\"id\":\"6a04e365-bcb9-4550-85dd-82ff0d5918c6\",\"type\":\"DatetimeAxis\"},{\"attributes\":{\"days\":[1,4,7,10,13,16,19,22,25,28]},\"id\":\"98ef1bf3-38d7-4435-8101-b2ae2c74cf6e\",\"type\":\"DaysTicker\"},{\"attributes\":{},\"id\":\"0789496a-d98f-476c-abc0-23aaeae3073c\",\"type\":\"PanTool\"},{\"attributes\":{\"days\":[1,2,3,4,5,6,7,8,9,10,11,12,13,14,15,16,17,18,19,20,21,22,23,24,25,26,27,28,29,30,31]},\"id\":\"2cfede71-cc03-4a49-a6b7-fba45ee2efe9\",\"type\":\"DaysTicker\"},{\"attributes\":{\"source\":{\"id\":\"f4512b29-ae8a-43a3-bf11-400f943b77c9\",\"type\":\"ColumnDataSource\"}},\"id\":\"956d2c5a-ecad-422d-b23e-0c68b842d140\",\"type\":\"CDSView\"},{\"attributes\":{\"fill_alpha\":{\"value\":0.1},\"fill_color\":{\"value\":\"#1f77b4\"},\"line_alpha\":{\"value\":0.1},\"line_color\":{\"value\":\"#1f77b4\"},\"size\":{\"units\":\"screen\",\"value\":20},\"x\":{\"field\":\"x\"},\"y\":{\"field\":\"y\"}},\"id\":\"c1fd1f99-d6dc-4880-8f85-01ef2a4c684b\",\"type\":\"Circle\"},{\"attributes\":{\"data_source\":{\"id\":\"45786ba2-c7e7-4839-a17e-4ff1bb1b2738\",\"type\":\"ColumnDataSource\"},\"glyph\":{\"id\":\"7feda471-8ca1-4702-9407-31379ca41f3d\",\"type\":\"Circle\"},\"hover_glyph\":{\"id\":\"c5e45089-810d-4f06-a8d2-5136357328d1\",\"type\":\"Circle\"},\"muted_glyph\":null,\"nonselection_glyph\":{\"id\":\"c1fd1f99-d6dc-4880-8f85-01ef2a4c684b\",\"type\":\"Circle\"},\"selection_glyph\":null,\"view\":{\"id\":\"fa3040e0-272c-471f-aa9c-f5616cbbb844\",\"type\":\"CDSView\"}},\"id\":\"1460c621-4019-4eed-b3d3-833c150488c2\",\"type\":\"GlyphRenderer\"},{\"attributes\":{},\"id\":\"8ad153d3-697c-4309-8e52-fc5e3bbea598\",\"type\":\"ResetTool\"},{\"attributes\":{\"line_alpha\":0.1,\"line_color\":\"#1f77b4\",\"line_dash\":[4,4],\"x\":{\"field\":\"x\"},\"y\":{\"field\":\"y\"}},\"id\":\"196fa8a5-ba3c-4dbe-bac8-a0bd62f1a71c\",\"type\":\"Line\"},{\"attributes\":{},\"id\":\"0a372172-3739-4f11-81d0-a8307302ca35\",\"type\":\"WheelZoomTool\"},{\"attributes\":{\"line_color\":\"gray\",\"line_dash\":[4,4],\"x\":{\"field\":\"x\"},\"y\":{\"field\":\"y\"}},\"id\":\"31ce0b67-190f-4dc7-a624-5307e961e905\",\"type\":\"Line\"},{\"attributes\":{},\"id\":\"6146515a-468c-495a-b3dd-7e9f8ae98da3\",\"type\":\"DatetimeTickFormatter\"},{\"attributes\":{\"callback\":null},\"id\":\"a86d43c1-ed01-41f0-9754-13f22f2e87f8\",\"type\":\"DataRange1d\"},{\"attributes\":{\"bottom_units\":\"screen\",\"fill_alpha\":{\"value\":0.5},\"fill_color\":{\"value\":\"lightgrey\"},\"left_units\":\"screen\",\"level\":\"overlay\",\"line_alpha\":{\"value\":1.0},\"line_color\":{\"value\":\"black\"},\"line_dash\":[4,4],\"line_width\":{\"value\":2},\"plot\":null,\"render_mode\":\"css\",\"right_units\":\"screen\",\"top_units\":\"screen\"},\"id\":\"697990b9-8e4e-4210-96b3-490dec9d39d7\",\"type\":\"BoxAnnotation\"},{\"attributes\":{\"num_minor_ticks\":5,\"tickers\":[{\"id\":\"ddabcdb7-4999-445e-8ff7-0b0f4352ab62\",\"type\":\"AdaptiveTicker\"},{\"id\":\"91c6b0d3-f2ab-4af1-b964-73648ffd941a\",\"type\":\"AdaptiveTicker\"},{\"id\":\"34398738-83d8-4d34-bb9a-b8e7b72dff02\",\"type\":\"AdaptiveTicker\"},{\"id\":\"2cfede71-cc03-4a49-a6b7-fba45ee2efe9\",\"type\":\"DaysTicker\"},{\"id\":\"98ef1bf3-38d7-4435-8101-b2ae2c74cf6e\",\"type\":\"DaysTicker\"},{\"id\":\"8335491d-6e23-48f9-9773-7c2a552b21f3\",\"type\":\"DaysTicker\"},{\"id\":\"83f6675c-1d84-4276-a049-549a499c9695\",\"type\":\"DaysTicker\"},{\"id\":\"fb3aea4c-8ee4-43c0-a1d2-8c465c87744c\",\"type\":\"MonthsTicker\"},{\"id\":\"5fc4e5b8-3e60-4647-9b21-cef9900b0915\",\"type\":\"MonthsTicker\"},{\"id\":\"5ad28818-7fe3-4564-9ffe-bf5aabfa480d\",\"type\":\"MonthsTicker\"},{\"id\":\"458132de-542a-498d-af17-5e63a50dec1c\",\"type\":\"MonthsTicker\"},{\"id\":\"bc459d1f-1737-4485-bf70-9dda2104d011\",\"type\":\"YearsTicker\"}]},\"id\":\"8caf836e-1057-4531-822c-6b90b7cb7102\",\"type\":\"DatetimeTicker\"},{\"attributes\":{\"months\":[0,6]},\"id\":\"458132de-542a-498d-af17-5e63a50dec1c\",\"type\":\"MonthsTicker\"},{\"attributes\":{\"months\":[0,1,2,3,4,5,6,7,8,9,10,11]},\"id\":\"fb3aea4c-8ee4-43c0-a1d2-8c465c87744c\",\"type\":\"MonthsTicker\"},{\"attributes\":{},\"id\":\"07403acd-48e9-4418-863f-0bf3d0ae1a47\",\"type\":\"UnionRenderers\"},{\"attributes\":{},\"id\":\"a06dcd4a-02ca-4359-8ac7-5df4c0e7ed71\",\"type\":\"BasicTickFormatter\"},{\"attributes\":{\"base\":60,\"mantissas\":[1,2,5,10,15,20,30],\"max_interval\":1800000.0,\"min_interval\":1000.0,\"num_minor_ticks\":0},\"id\":\"91c6b0d3-f2ab-4af1-b964-73648ffd941a\",\"type\":\"AdaptiveTicker\"},{\"attributes\":{},\"id\":\"f090882c-c391-4b38-af36-b7456cfa2abd\",\"type\":\"Selection\"},{\"attributes\":{},\"id\":\"45f62ac5-6542-4008-a6cd-3f5f8b9fc125\",\"type\":\"LinearScale\"},{\"attributes\":{},\"id\":\"a6e71f39-e9b6-49ab-9a51-f3d3aebca0d3\",\"type\":\"SaveTool\"},{\"attributes\":{\"below\":[{\"id\":\"6a04e365-bcb9-4550-85dd-82ff0d5918c6\",\"type\":\"DatetimeAxis\"}],\"left\":[{\"id\":\"88ab6e37-b1fb-4d58-b7f7-9efc29920518\",\"type\":\"LinearAxis\"}],\"plot_height\":300,\"renderers\":[{\"id\":\"6a04e365-bcb9-4550-85dd-82ff0d5918c6\",\"type\":\"DatetimeAxis\"},{\"id\":\"f78a4eb1-2eba-4d54-845e-87a58ee531ff\",\"type\":\"Grid\"},{\"id\":\"88ab6e37-b1fb-4d58-b7f7-9efc29920518\",\"type\":\"LinearAxis\"},{\"id\":\"7b75bfd7-174d-4f49-999a-f92d2c6b3896\",\"type\":\"Grid\"},{\"id\":\"697990b9-8e4e-4210-96b3-490dec9d39d7\",\"type\":\"BoxAnnotation\"},{\"id\":\"347f26e7-0b4a-4f14-84bf-84563c54e9ff\",\"type\":\"GlyphRenderer\"},{\"id\":\"1460c621-4019-4eed-b3d3-833c150488c2\",\"type\":\"GlyphRenderer\"}],\"title\":{\"id\":\"1c380a03-4c37-4d58-aba9-895f2aca70d5\",\"type\":\"Title\"},\"toolbar\":{\"id\":\"7dd8f433-ba34-4005-b3e9-357b7f0793a1\",\"type\":\"Toolbar\"},\"x_range\":{\"id\":\"8ea06638-b164-4496-b462-4b3376aed01e\",\"type\":\"DataRange1d\"},\"x_scale\":{\"id\":\"5f400d2d-4ba0-4305-b1c5-7be190f10545\",\"type\":\"LinearScale\"},\"y_range\":{\"id\":\"a86d43c1-ed01-41f0-9754-13f22f2e87f8\",\"type\":\"DataRange1d\"},\"y_scale\":{\"id\":\"45f62ac5-6542-4008-a6cd-3f5f8b9fc125\",\"type\":\"LinearScale\"}},\"id\":\"de086bc0-f94a-455f-98f0-441e9e0c5551\",\"subtype\":\"Figure\",\"type\":\"Plot\"},{\"attributes\":{},\"id\":\"eb1756dd-345b-441a-b279-b6a28137c9b9\",\"type\":\"Selection\"},{\"attributes\":{\"formatter\":{\"id\":\"a06dcd4a-02ca-4359-8ac7-5df4c0e7ed71\",\"type\":\"BasicTickFormatter\"},\"plot\":{\"id\":\"de086bc0-f94a-455f-98f0-441e9e0c5551\",\"subtype\":\"Figure\",\"type\":\"Plot\"},\"ticker\":{\"id\":\"68b32dff-fa6c-4703-bbdf-0c9e9baafaef\",\"type\":\"BasicTicker\"}},\"id\":\"88ab6e37-b1fb-4d58-b7f7-9efc29920518\",\"type\":\"LinearAxis\"},{\"attributes\":{\"months\":[0,2,4,6,8,10]},\"id\":\"5fc4e5b8-3e60-4647-9b21-cef9900b0915\",\"type\":\"MonthsTicker\"},{\"attributes\":{\"data_source\":{\"id\":\"f4512b29-ae8a-43a3-bf11-400f943b77c9\",\"type\":\"ColumnDataSource\"},\"glyph\":{\"id\":\"31ce0b67-190f-4dc7-a624-5307e961e905\",\"type\":\"Line\"},\"hover_glyph\":null,\"muted_glyph\":null,\"nonselection_glyph\":{\"id\":\"196fa8a5-ba3c-4dbe-bac8-a0bd62f1a71c\",\"type\":\"Line\"},\"selection_glyph\":null,\"view\":{\"id\":\"956d2c5a-ecad-422d-b23e-0c68b842d140\",\"type\":\"CDSView\"}},\"id\":\"347f26e7-0b4a-4f14-84bf-84563c54e9ff\",\"type\":\"GlyphRenderer\"},{\"attributes\":{\"fill_alpha\":{\"value\":0.05},\"fill_color\":{\"value\":\"grey\"},\"line_color\":{\"value\":null},\"size\":{\"units\":\"screen\",\"value\":20},\"x\":{\"field\":\"x\"},\"y\":{\"field\":\"y\"}},\"id\":\"7feda471-8ca1-4702-9407-31379ca41f3d\",\"type\":\"Circle\"},{\"attributes\":{},\"id\":\"68b32dff-fa6c-4703-bbdf-0c9e9baafaef\",\"type\":\"BasicTicker\"},{\"attributes\":{\"plot\":{\"id\":\"de086bc0-f94a-455f-98f0-441e9e0c5551\",\"subtype\":\"Figure\",\"type\":\"Plot\"},\"ticker\":{\"id\":\"8caf836e-1057-4531-822c-6b90b7cb7102\",\"type\":\"DatetimeTicker\"}},\"id\":\"f78a4eb1-2eba-4d54-845e-87a58ee531ff\",\"type\":\"Grid\"},{\"attributes\":{\"active_drag\":\"auto\",\"active_inspect\":\"auto\",\"active_multi\":null,\"active_scroll\":\"auto\",\"active_tap\":\"auto\",\"tools\":[{\"id\":\"0789496a-d98f-476c-abc0-23aaeae3073c\",\"type\":\"PanTool\"},{\"id\":\"0a372172-3739-4f11-81d0-a8307302ca35\",\"type\":\"WheelZoomTool\"},{\"id\":\"732830b1-b145-4a6d-a8b0-9c4780a0e285\",\"type\":\"BoxZoomTool\"},{\"id\":\"a6e71f39-e9b6-49ab-9a51-f3d3aebca0d3\",\"type\":\"SaveTool\"},{\"id\":\"8ad153d3-697c-4309-8e52-fc5e3bbea598\",\"type\":\"ResetTool\"},{\"id\":\"a0df18ed-ab46-444a-b5e0-e03b7b4fe348\",\"type\":\"HelpTool\"},{\"id\":\"d32d7400-7b50-430f-869f-212b0d6c341e\",\"type\":\"HoverTool\"}]},\"id\":\"7dd8f433-ba34-4005-b3e9-357b7f0793a1\",\"type\":\"Toolbar\"},{\"attributes\":{\"days\":[1,15]},\"id\":\"83f6675c-1d84-4276-a049-549a499c9695\",\"type\":\"DaysTicker\"},{\"attributes\":{\"dimension\":1,\"plot\":{\"id\":\"de086bc0-f94a-455f-98f0-441e9e0c5551\",\"subtype\":\"Figure\",\"type\":\"Plot\"},\"ticker\":{\"id\":\"68b32dff-fa6c-4703-bbdf-0c9e9baafaef\",\"type\":\"BasicTicker\"}},\"id\":\"7b75bfd7-174d-4f49-999a-f92d2c6b3896\",\"type\":\"Grid\"},{\"attributes\":{\"days\":[1,8,15,22]},\"id\":\"8335491d-6e23-48f9-9773-7c2a552b21f3\",\"type\":\"DaysTicker\"},{\"attributes\":{\"callback\":null},\"id\":\"8ea06638-b164-4496-b462-4b3376aed01e\",\"type\":\"DataRange1d\"},{\"attributes\":{\"callback\":null,\"mode\":\"hline\",\"renderers\":[{\"id\":\"1460c621-4019-4eed-b3d3-833c150488c2\",\"type\":\"GlyphRenderer\"}],\"tooltips\":null},\"id\":\"d32d7400-7b50-430f-869f-212b0d6c341e\",\"type\":\"HoverTool\"},{\"attributes\":{\"source\":{\"id\":\"45786ba2-c7e7-4839-a17e-4ff1bb1b2738\",\"type\":\"ColumnDataSource\"}},\"id\":\"fa3040e0-272c-471f-aa9c-f5616cbbb844\",\"type\":\"CDSView\"},{\"attributes\":{\"fill_alpha\":{\"value\":0.3},\"fill_color\":{\"value\":\"firebrick\"},\"line_alpha\":{\"value\":0.3},\"line_color\":{\"value\":\"white\"},\"size\":{\"units\":\"screen\",\"value\":20},\"x\":{\"field\":\"x\"},\"y\":{\"field\":\"y\"}},\"id\":\"c5e45089-810d-4f06-a8d2-5136357328d1\",\"type\":\"Circle\"},{\"attributes\":{\"callback\":null,\"data\":{\"x\":{\"__ndarray__\":\"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\",\"dtype\":\"float64\",\"shape\":[288]},\"y\":[143,147,150,152,152,152,154,155,142,140,138,134,131,130,128,127,126,126,126,126,127,129,131,132,134,136,136,136,136,135,134,132,130,130,130,129,128,127,125,124,123,123,122,121,120,118,115,112,111,111,110,110,109,108,107,107,107,108,107,105,105,105,105,104,103,102,99,97,96,94,94,93,93,92,91,92,94,95,96,97,99,102,104,112,112,112,111,110,107,104,105,105,103,99,96,94,95,102,114,128,144,160,173,185,196,205,209,214,219,226,234,241,248,255,260,265,268,270,272,271,271,268,265,261,256,253,250,246,244,241,237,233,229,225,222,204,200,197,193,190,186,182,179,175,171,168,164,158,154,151,148,145,141,133,139,152,173,196,217,233,244,249,250,253,256,260,263,265,265,264,260,254,246,234,217,200,188,181,175,169,164,159,154,147,138,132,129,127,123,117,111,106,104,103,100,94,88,83,78,75,73,71,69,68,67,67,68,70,71,71,70,69,68,67,67,67,66,67,69,71,74,76,78,80,80,80,80,80,80,82,84,87,90,92,87,87,86,86,86,86,87,87,87,85,83,82,83,87,95,107,118,130,141,149,172,179,187,201,214,221,225,230,232,230,223,216,208,199,191,185,181,177,176,177,176,173,171,169,163,154,152,153,154,154,153,151,150,150]},\"selected\":{\"id\":\"eb1756dd-345b-441a-b279-b6a28137c9b9\",\"type\":\"Selection\"},\"selection_policy\":{\"id\":\"07403acd-48e9-4418-863f-0bf3d0ae1a47\",\"type\":\"UnionRenderers\"}},\"id\":\"45786ba2-c7e7-4839-a17e-4ff1bb1b2738\",\"type\":\"ColumnDataSource\"},{\"attributes\":{\"plot\":null,\"text\":\"Hover over points\"},\"id\":\"1c380a03-4c37-4d58-aba9-895f2aca70d5\",\"type\":\"Title\"},{\"attributes\":{},\"id\":\"9f601e03-c27d-43da-9afd-eb5bc5b1a885\",\"type\":\"UnionRenderers\"},{\"attributes\":{\"mantissas\":[1,2,5],\"max_interval\":500.0,\"num_minor_ticks\":0},\"id\":\"ddabcdb7-4999-445e-8ff7-0b0f4352ab62\",\"type\":\"AdaptiveTicker\"},{\"attributes\":{\"overlay\":{\"id\":\"697990b9-8e4e-4210-96b3-490dec9d39d7\",\"type\":\"BoxAnnotation\"}},\"id\":\"732830b1-b145-4a6d-a8b0-9c4780a0e285\",\"type\":\"BoxZoomTool\"},{\"attributes\":{},\"id\":\"bc459d1f-1737-4485-bf70-9dda2104d011\",\"type\":\"YearsTicker\"},{\"attributes\":{\"months\":[0,4,8]},\"id\":\"5ad28818-7fe3-4564-9ffe-bf5aabfa480d\",\"type\":\"MonthsTicker\"},{\"attributes\":{},\"id\":\"a0df18ed-ab46-444a-b5e0-e03b7b4fe348\",\"type\":\"HelpTool\"},{\"attributes\":{\"callback\":null,\"data\":{\"x\":{\"__ndarray__\":\"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\",\"dtype\":\"float64\",\"shape\":[288]},\"y\":[143,147,150,152,152,152,154,155,142,140,138,134,131,130,128,127,126,126,126,126,127,129,131,132,134,136,136,136,136,135,134,132,130,130,130,129,128,127,125,124,123,123,122,121,120,118,115,112,111,111,110,110,109,108,107,107,107,108,107,105,105,105,105,104,103,102,99,97,96,94,94,93,93,92,91,92,94,95,96,97,99,102,104,112,112,112,111,110,107,104,105,105,103,99,96,94,95,102,114,128,144,160,173,185,196,205,209,214,219,226,234,241,248,255,260,265,268,270,272,271,271,268,265,261,256,253,250,246,244,241,237,233,229,225,222,204,200,197,193,190,186,182,179,175,171,168,164,158,154,151,148,145,141,133,139,152,173,196,217,233,244,249,250,253,256,260,263,265,265,264,260,254,246,234,217,200,188,181,175,169,164,159,154,147,138,132,129,127,123,117,111,106,104,103,100,94,88,83,78,75,73,71,69,68,67,67,68,70,71,71,70,69,68,67,67,67,66,67,69,71,74,76,78,80,80,80,80,80,80,82,84,87,90,92,87,87,86,86,86,86,87,87,87,85,83,82,83,87,95,107,118,130,141,149,172,179,187,201,214,221,225,230,232,230,223,216,208,199,191,185,181,177,176,177,176,173,171,169,163,154,152,153,154,154,153,151,150,150]},\"selected\":{\"id\":\"f090882c-c391-4b38-af36-b7456cfa2abd\",\"type\":\"Selection\"},\"selection_policy\":{\"id\":\"9f601e03-c27d-43da-9afd-eb5bc5b1a885\",\"type\":\"UnionRenderers\"}},\"id\":\"f4512b29-ae8a-43a3-bf11-400f943b77c9\",\"type\":\"ColumnDataSource\"},{\"attributes\":{\"base\":24,\"mantissas\":[1,2,4,6,8,12],\"max_interval\":43200000.0,\"min_interval\":3600000.0,\"num_minor_ticks\":0},\"id\":\"34398738-83d8-4d34-bb9a-b8e7b72dff02\",\"type\":\"AdaptiveTicker\"},{\"attributes\":{},\"id\":\"5f400d2d-4ba0-4305-b1c5-7be190f10545\",\"type\":\"LinearScale\"}],\"root_ids\":[\"de086bc0-f94a-455f-98f0-441e9e0c5551\"]},\"title\":\"Bokeh Application\",\"version\":\"0.13.0\"}};\n",
       "  var render_items = [{\"docid\":\"47a774af-4694-42d8-8391-e5f201da0e15\",\"roots\":{\"de086bc0-f94a-455f-98f0-441e9e0c5551\":\"3a2d13d1-7ae7-4ae9-a112-2ed287fecb47\"}}];\n",
       "  root.Bokeh.embed.embed_items_notebook(docs_json, render_items);\n",
       "\n",
       "  }\n",
       "  if (root.Bokeh !== undefined) {\n",
       "    embed_document(root);\n",
       "  } else {\n",
       "    var attempts = 0;\n",
       "    var timer = setInterval(function(root) {\n",
       "      if (root.Bokeh !== undefined) {\n",
       "        embed_document(root);\n",
       "        clearInterval(timer);\n",
       "      }\n",
       "      attempts++;\n",
       "      if (attempts > 100) {\n",
       "        console.log(\"Bokeh: ERROR: Unable to run BokehJS code because BokehJS library is missing\")\n",
       "        clearInterval(timer);\n",
       "      }\n",
       "    }, 10, root)\n",
       "  }\n",
       "})(window);"
      ],
      "application/vnd.bokehjs_exec.v0+json": ""
     },
     "metadata": {
      "application/vnd.bokehjs_exec.v0+json": {
       "id": "de086bc0-f94a-455f-98f0-441e9e0c5551"
      }
     },
     "output_type": "display_data"
    }
   ],
   "source": [
    "from bokeh.models.tools import HoverTool\n",
    "from bokeh.sampledata.glucose import data\n",
    "\n",
    "subset = data.loc['2010-10-06']\n",
    "\n",
    "x, y = subset.index.to_series(), subset['glucose']\n",
    "\n",
    "# Basic plot setup\n",
    "p = figure(width=600, height=300, x_axis_type=\"datetime\", title='Hover over points')\n",
    "\n",
    "p.line(x, y, line_dash=\"4 4\", line_width=1, color='gray')\n",
    "\n",
    "cr = p.circle(x, y, size=20,\n",
    "              fill_color=\"grey\", hover_fill_color=\"firebrick\",\n",
    "              fill_alpha=0.05, hover_alpha=0.3,\n",
    "              line_color=None, hover_line_color=\"white\")\n",
    "\n",
    "p.add_tools(HoverTool(tooltips=None, renderers=[cr], mode='hline'))\n",
    "\n",
    "show(p)"
   ]
  },
  {
   "cell_type": "code",
   "execution_count": 8,
   "metadata": {
    "slideshow": {
     "slide_type": "fragment"
    }
   },
   "outputs": [],
   "source": [
    "# EXERCISE: experiment with standard, selected, hover glyph visual properties\n"
   ]
  },
  {
   "cell_type": "markdown",
   "metadata": {
    "slideshow": {
     "slide_type": "slide"
    }
   },
   "source": [
    "# Axes\n",
    "\n",
    "Next we will take a look at [stlying of Axes](http://bokeh.pydata.org/en/latest/docs/user_guide/styling.html#axes).\n",
    "\n",
    "To style axes, you first must get ahold of `Axis` objects. The simplest way is to use some convenience methods on `Plot`: [axis](http://bokeh.pydata.org/en/latest/docs/reference/plotting.html#bokeh.plotting.Figure.axis), [xaxis](http://bokeh.pydata.org/en/latest/docs/reference/plotting.html#bokeh.plotting.Figure.xaxis), and [yaxis](http://bokeh.pydata.org/en/latest/docs/reference/plotting.html#bokeh.plotting.Figure.yaxis). These methods return lists of axis objects:\n",
    "\n",
    "```\n",
    ">>> p.xaxis\n",
    "[<bokeh.models.axes.LinearAxis at 0x106fa2390>]\n",
    "```\n",
    "However, you can set properties on all the elements of the list as if it was a single object:\n",
    "```\n",
    "p.xaxis.axis_label = \"Temperature\"\n",
    "p.axis.major_label_text_color = \"orange\"\n",
    "```\n",
    "These are referred to as \"splattable\" lists, and tab completion works on them as well. \n"
   ]
  },
  {
   "cell_type": "code",
   "execution_count": 9,
   "metadata": {},
   "outputs": [],
   "source": [
    "# EXERCISE Try out tab completion. Type p.xaxis.<press tab key> to see a list of attributes that can be set.\n",
    "\n"
   ]
  },
  {
   "cell_type": "markdown",
   "metadata": {},
   "source": [
    "## Axis properties\n",
    "\n",
    "Axes objects have many configurable properties that afford control over most visual aspects of an axis. These can be grouped by function according to prefix:\n",
    "\n",
    "* **axis**  [line properties](http://bokeh.pydata.org/en/latest/docs/user_guide/styling.html#line-properties) e.g `axis_line_width`\n",
    "\n",
    "* **axis_label** [text properties](http://bokeh.pydata.org/en/latest/docs/user_guide/styling.html#text-properties)  e.g. `axis_label_text_color`, as well as ``axis_label_standoff``\n",
    "\n",
    "* **major_label** [text properties](http://bokeh.pydata.org/en/latest/docs/user_guide/styling.html#text-properties) e.g. `major_label_text_font_size`, as well as ``major_label_orientation``\n",
    "\n",
    "* **major_tick** [line_properties](http://bokeh.pydata.org/en/latest/docs/user_guide/styling.html#line-properties) e.g. `major_tick_line_dash`, as well as  ``major_tick_in`` and ``major_tick_out``\n",
    "\n",
    "* **minor_tick** [line properties](http://bokeh.pydata.org/en/latest/docs/user_guide/styling.html#line-properties) e.g. `minor_tick_line_width`, as well as ``minor_tick_in`` and ``minor_tick_out``\n",
    "\n",
    "As a simple first case, let's change the orientation of the major tick labels on both axes of a plot:"
   ]
  },
  {
   "cell_type": "code",
   "execution_count": 10,
   "metadata": {},
   "outputs": [
    {
     "data": {
      "text/html": [
       "\n",
       "\n",
       "\n",
       "\n",
       "\n",
       "\n",
       "  <div class=\"bk-root\" id=\"b3fcb6d9-754c-41bc-b2b9-358d5469520e\"></div>\n"
      ]
     },
     "metadata": {},
     "output_type": "display_data"
    },
    {
     "data": {
      "application/javascript": [
       "(function(root) {\n",
       "  function embed_document(root) {\n",
       "    \n",
       "  var docs_json = {\"3208dbcd-a792-40d0-ad47-af47eae7649f\":{\"roots\":{\"references\":[{\"attributes\":{\"dimension\":1,\"plot\":{\"id\":\"eb2f05c7-c86c-405d-93ca-2686aa9bd1c3\",\"subtype\":\"Figure\",\"type\":\"Plot\"},\"ticker\":{\"id\":\"c7b0f1e8-94c5-4a8d-b908-2b333089ba3d\",\"type\":\"BasicTicker\"}},\"id\":\"f1c9bc9b-1030-452a-801a-9da9b9e16d80\",\"type\":\"Grid\"},{\"attributes\":{\"formatter\":{\"id\":\"7fc03d4f-1823-40ae-b941-bf29aaf2312f\",\"type\":\"BasicTickFormatter\"},\"major_label_orientation\":0.7853981633974483,\"plot\":{\"id\":\"eb2f05c7-c86c-405d-93ca-2686aa9bd1c3\",\"subtype\":\"Figure\",\"type\":\"Plot\"},\"ticker\":{\"id\":\"72f47d04-7932-4491-91ab-8988c01ade57\",\"type\":\"BasicTicker\"}},\"id\":\"a15cc0ed-d6c7-4c57-981f-be24d1d1eedb\",\"type\":\"LinearAxis\"},{\"attributes\":{\"plot\":{\"id\":\"eb2f05c7-c86c-405d-93ca-2686aa9bd1c3\",\"subtype\":\"Figure\",\"type\":\"Plot\"},\"ticker\":{\"id\":\"72f47d04-7932-4491-91ab-8988c01ade57\",\"type\":\"BasicTicker\"}},\"id\":\"655b7b14-81bf-42fe-83e9-ee39d8f74be6\",\"type\":\"Grid\"},{\"attributes\":{},\"id\":\"1474dcef-e753-4047-afc7-f15ee0079c3f\",\"type\":\"WheelZoomTool\"},{\"attributes\":{\"plot\":null,\"text\":\"\"},\"id\":\"de200d2c-e560-4a67-b01a-a9d1c73e7b83\",\"type\":\"Title\"},{\"attributes\":{},\"id\":\"72f47d04-7932-4491-91ab-8988c01ade57\",\"type\":\"BasicTicker\"},{\"attributes\":{},\"id\":\"f74ee105-7bfb-4e3b-afb1-2b151b61aa0b\",\"type\":\"PanTool\"},{\"attributes\":{},\"id\":\"c7b0f1e8-94c5-4a8d-b908-2b333089ba3d\",\"type\":\"BasicTicker\"},{\"attributes\":{\"bottom_units\":\"screen\",\"fill_alpha\":{\"value\":0.5},\"fill_color\":{\"value\":\"lightgrey\"},\"left_units\":\"screen\",\"level\":\"overlay\",\"line_alpha\":{\"value\":1.0},\"line_color\":{\"value\":\"black\"},\"line_dash\":[4,4],\"line_width\":{\"value\":2},\"plot\":null,\"render_mode\":\"css\",\"right_units\":\"screen\",\"top_units\":\"screen\"},\"id\":\"6752acc4-433f-4a94-8e1d-cb8ab9ef76d0\",\"type\":\"BoxAnnotation\"},{\"attributes\":{\"active_drag\":\"auto\",\"active_inspect\":\"auto\",\"active_multi\":null,\"active_scroll\":\"auto\",\"active_tap\":\"auto\",\"tools\":[{\"id\":\"f74ee105-7bfb-4e3b-afb1-2b151b61aa0b\",\"type\":\"PanTool\"},{\"id\":\"1474dcef-e753-4047-afc7-f15ee0079c3f\",\"type\":\"WheelZoomTool\"},{\"id\":\"773ece4b-55b1-43c8-a743-e7bb3841c937\",\"type\":\"BoxZoomTool\"},{\"id\":\"46622cc1-33a8-46e9-bbfc-2425b2cb546d\",\"type\":\"SaveTool\"},{\"id\":\"622e3c5d-e387-4b19-b83a-b1463ee8ea25\",\"type\":\"ResetTool\"},{\"id\":\"5c5bb658-0206-4684-ad52-6284f8513b00\",\"type\":\"HelpTool\"}]},\"id\":\"cf7f4476-3c0d-4d76-8b85-936b8ed35b78\",\"type\":\"Toolbar\"},{\"attributes\":{},\"id\":\"5c5bb658-0206-4684-ad52-6284f8513b00\",\"type\":\"HelpTool\"},{\"attributes\":{\"fill_color\":{\"value\":\"#1f77b4\"},\"line_color\":{\"value\":\"#1f77b4\"},\"line_width\":{\"value\":2},\"size\":{\"units\":\"screen\",\"value\":10},\"x\":{\"field\":\"x\"},\"y\":{\"field\":\"y\"}},\"id\":\"ad015f06-8667-4502-a312-09d2a0847f49\",\"type\":\"X\"},{\"attributes\":{\"below\":[{\"id\":\"a15cc0ed-d6c7-4c57-981f-be24d1d1eedb\",\"type\":\"LinearAxis\"}],\"left\":[{\"id\":\"438de852-9d9b-4979-9e75-1e40aba207ea\",\"type\":\"LinearAxis\"}],\"plot_height\":400,\"plot_width\":400,\"renderers\":[{\"id\":\"a15cc0ed-d6c7-4c57-981f-be24d1d1eedb\",\"type\":\"LinearAxis\"},{\"id\":\"655b7b14-81bf-42fe-83e9-ee39d8f74be6\",\"type\":\"Grid\"},{\"id\":\"438de852-9d9b-4979-9e75-1e40aba207ea\",\"type\":\"LinearAxis\"},{\"id\":\"f1c9bc9b-1030-452a-801a-9da9b9e16d80\",\"type\":\"Grid\"},{\"id\":\"6752acc4-433f-4a94-8e1d-cb8ab9ef76d0\",\"type\":\"BoxAnnotation\"},{\"id\":\"bbd77cb9-0d91-46e0-9329-cce56a361855\",\"type\":\"GlyphRenderer\"}],\"title\":{\"id\":\"de200d2c-e560-4a67-b01a-a9d1c73e7b83\",\"type\":\"Title\"},\"toolbar\":{\"id\":\"cf7f4476-3c0d-4d76-8b85-936b8ed35b78\",\"type\":\"Toolbar\"},\"x_range\":{\"id\":\"ccac128f-c3d7-42a6-91f8-67cd5caa8984\",\"type\":\"DataRange1d\"},\"x_scale\":{\"id\":\"8beb2170-e02b-47ed-957f-e6c20bf4970c\",\"type\":\"LinearScale\"},\"y_range\":{\"id\":\"1e55b3c5-e131-4556-b6ec-92db6fe3b895\",\"type\":\"DataRange1d\"},\"y_scale\":{\"id\":\"6b919441-6739-4124-bf11-90b015aabb11\",\"type\":\"LinearScale\"}},\"id\":\"eb2f05c7-c86c-405d-93ca-2686aa9bd1c3\",\"subtype\":\"Figure\",\"type\":\"Plot\"},{\"attributes\":{},\"id\":\"46622cc1-33a8-46e9-bbfc-2425b2cb546d\",\"type\":\"SaveTool\"},{\"attributes\":{},\"id\":\"8beb2170-e02b-47ed-957f-e6c20bf4970c\",\"type\":\"LinearScale\"},{\"attributes\":{\"overlay\":{\"id\":\"6752acc4-433f-4a94-8e1d-cb8ab9ef76d0\",\"type\":\"BoxAnnotation\"}},\"id\":\"773ece4b-55b1-43c8-a743-e7bb3841c937\",\"type\":\"BoxZoomTool\"},{\"attributes\":{\"callback\":null},\"id\":\"ccac128f-c3d7-42a6-91f8-67cd5caa8984\",\"type\":\"DataRange1d\"},{\"attributes\":{\"callback\":null},\"id\":\"1e55b3c5-e131-4556-b6ec-92db6fe3b895\",\"type\":\"DataRange1d\"},{\"attributes\":{},\"id\":\"622e3c5d-e387-4b19-b83a-b1463ee8ea25\",\"type\":\"ResetTool\"},{\"attributes\":{\"fill_alpha\":{\"value\":0.1},\"fill_color\":{\"value\":\"#1f77b4\"},\"line_alpha\":{\"value\":0.1},\"line_color\":{\"value\":\"#1f77b4\"},\"line_width\":{\"value\":2},\"size\":{\"units\":\"screen\",\"value\":10},\"x\":{\"field\":\"x\"},\"y\":{\"field\":\"y\"}},\"id\":\"7cae24d8-c416-4cc2-a6a7-880e270c126c\",\"type\":\"X\"},{\"attributes\":{},\"id\":\"6b919441-6739-4124-bf11-90b015aabb11\",\"type\":\"LinearScale\"},{\"attributes\":{\"formatter\":{\"id\":\"4bc24e18-a479-4b9e-acfd-319f92872a19\",\"type\":\"BasicTickFormatter\"},\"major_label_orientation\":\"vertical\",\"plot\":{\"id\":\"eb2f05c7-c86c-405d-93ca-2686aa9bd1c3\",\"subtype\":\"Figure\",\"type\":\"Plot\"},\"ticker\":{\"id\":\"c7b0f1e8-94c5-4a8d-b908-2b333089ba3d\",\"type\":\"BasicTicker\"}},\"id\":\"438de852-9d9b-4979-9e75-1e40aba207ea\",\"type\":\"LinearAxis\"},{\"attributes\":{\"callback\":null,\"data\":{\"x\":[1,2,3,4,5],\"y\":[2,5,8,2,7]},\"selected\":{\"id\":\"ce03cea8-0630-46d9-933e-6a07eafc28e5\",\"type\":\"Selection\"},\"selection_policy\":{\"id\":\"01e5b0ab-7a1e-4ea4-93a7-11a03fc93f79\",\"type\":\"UnionRenderers\"}},\"id\":\"006dcfa1-aee3-4379-ac3e-4723d9c7d041\",\"type\":\"ColumnDataSource\"},{\"attributes\":{\"source\":{\"id\":\"006dcfa1-aee3-4379-ac3e-4723d9c7d041\",\"type\":\"ColumnDataSource\"}},\"id\":\"e5ce0399-17a7-47d4-a6ab-3f0a99a964e6\",\"type\":\"CDSView\"},{\"attributes\":{\"data_source\":{\"id\":\"006dcfa1-aee3-4379-ac3e-4723d9c7d041\",\"type\":\"ColumnDataSource\"},\"glyph\":{\"id\":\"ad015f06-8667-4502-a312-09d2a0847f49\",\"type\":\"X\"},\"hover_glyph\":null,\"muted_glyph\":null,\"nonselection_glyph\":{\"id\":\"7cae24d8-c416-4cc2-a6a7-880e270c126c\",\"type\":\"X\"},\"selection_glyph\":null,\"view\":{\"id\":\"e5ce0399-17a7-47d4-a6ab-3f0a99a964e6\",\"type\":\"CDSView\"}},\"id\":\"bbd77cb9-0d91-46e0-9329-cce56a361855\",\"type\":\"GlyphRenderer\"},{\"attributes\":{},\"id\":\"ce03cea8-0630-46d9-933e-6a07eafc28e5\",\"type\":\"Selection\"},{\"attributes\":{},\"id\":\"7fc03d4f-1823-40ae-b941-bf29aaf2312f\",\"type\":\"BasicTickFormatter\"},{\"attributes\":{},\"id\":\"4bc24e18-a479-4b9e-acfd-319f92872a19\",\"type\":\"BasicTickFormatter\"},{\"attributes\":{},\"id\":\"01e5b0ab-7a1e-4ea4-93a7-11a03fc93f79\",\"type\":\"UnionRenderers\"}],\"root_ids\":[\"eb2f05c7-c86c-405d-93ca-2686aa9bd1c3\"]},\"title\":\"Bokeh Application\",\"version\":\"0.13.0\"}};\n",
       "  var render_items = [{\"docid\":\"3208dbcd-a792-40d0-ad47-af47eae7649f\",\"roots\":{\"eb2f05c7-c86c-405d-93ca-2686aa9bd1c3\":\"b3fcb6d9-754c-41bc-b2b9-358d5469520e\"}}];\n",
       "  root.Bokeh.embed.embed_items_notebook(docs_json, render_items);\n",
       "\n",
       "  }\n",
       "  if (root.Bokeh !== undefined) {\n",
       "    embed_document(root);\n",
       "  } else {\n",
       "    var attempts = 0;\n",
       "    var timer = setInterval(function(root) {\n",
       "      if (root.Bokeh !== undefined) {\n",
       "        embed_document(root);\n",
       "        clearInterval(timer);\n",
       "      }\n",
       "      attempts++;\n",
       "      if (attempts > 100) {\n",
       "        console.log(\"Bokeh: ERROR: Unable to run BokehJS code because BokehJS library is missing\")\n",
       "        clearInterval(timer);\n",
       "      }\n",
       "    }, 10, root)\n",
       "  }\n",
       "})(window);"
      ],
      "application/vnd.bokehjs_exec.v0+json": ""
     },
     "metadata": {
      "application/vnd.bokehjs_exec.v0+json": {
       "id": "eb2f05c7-c86c-405d-93ca-2686aa9bd1c3"
      }
     },
     "output_type": "display_data"
    }
   ],
   "source": [
    "from math import pi\n",
    "\n",
    "p = figure(plot_width=400, plot_height=400)\n",
    "p.x([1,2,3,4,5], [2,5,8,2,7], size=10, line_width=2)\n",
    "\n",
    "p.xaxis.major_label_orientation = pi/4\n",
    "p.yaxis.major_label_orientation = \"vertical\"\n",
    "\n",
    "show(p)"
   ]
  },
  {
   "cell_type": "markdown",
   "metadata": {},
   "source": [
    "The next example shows customizations on several of the different Axis properties at once:"
   ]
  },
  {
   "cell_type": "code",
   "execution_count": 11,
   "metadata": {},
   "outputs": [
    {
     "data": {
      "text/html": [
       "\n",
       "\n",
       "\n",
       "\n",
       "\n",
       "\n",
       "  <div class=\"bk-root\" id=\"89353b6c-6192-425b-8960-d792f4f73900\"></div>\n"
      ]
     },
     "metadata": {},
     "output_type": "display_data"
    },
    {
     "data": {
      "application/javascript": [
       "(function(root) {\n",
       "  function embed_document(root) {\n",
       "    \n",
       "  var docs_json = {\"2da11e60-333d-47b5-a155-28cc0f2a66b4\":{\"roots\":{\"references\":[{\"attributes\":{\"bottom_units\":\"screen\",\"fill_alpha\":{\"value\":0.5},\"fill_color\":{\"value\":\"lightgrey\"},\"left_units\":\"screen\",\"level\":\"overlay\",\"line_alpha\":{\"value\":1.0},\"line_color\":{\"value\":\"black\"},\"line_dash\":[4,4],\"line_width\":{\"value\":2},\"plot\":null,\"render_mode\":\"css\",\"right_units\":\"screen\",\"top_units\":\"screen\"},\"id\":\"73d1de77-2585-49dc-a3bf-91f402f35c90\",\"type\":\"BoxAnnotation\"},{\"attributes\":{},\"id\":\"23a1d4b6-ad64-46e6-85ca-0462c70f816b\",\"type\":\"LinearScale\"},{\"attributes\":{},\"id\":\"9fcd6f96-8c33-4733-9087-c6ca8ba4d000\",\"type\":\"SaveTool\"},{\"attributes\":{\"plot\":null,\"text\":\"\"},\"id\":\"deba99fe-c49d-47cc-9da1-1fd111d9fbdc\",\"type\":\"Title\"},{\"attributes\":{},\"id\":\"e89c6972-43a1-42b5-a3a1-93567044252b\",\"type\":\"WheelZoomTool\"},{\"attributes\":{},\"id\":\"66a24119-bd52-42b3-ac73-30accd11fbd7\",\"type\":\"ResetTool\"},{\"attributes\":{\"overlay\":{\"id\":\"73d1de77-2585-49dc-a3bf-91f402f35c90\",\"type\":\"BoxAnnotation\"}},\"id\":\"cc4049e5-3a3e-4bd7-a529-cced5dc40312\",\"type\":\"BoxZoomTool\"},{\"attributes\":{\"callback\":null,\"data\":{\"x\":[1,2,3,4,5],\"y\":[2,5,8,2,7]},\"selected\":{\"id\":\"33672eb3-c206-4db5-a1f6-a1c2c361a547\",\"type\":\"Selection\"},\"selection_policy\":{\"id\":\"6ac5adcb-63bc-44a7-bc30-c43cf915d61d\",\"type\":\"UnionRenderers\"}},\"id\":\"87fa1957-0a3f-49e0-a978-e8b45db1220e\",\"type\":\"ColumnDataSource\"},{\"attributes\":{},\"id\":\"9b120134-e623-4b62-95ab-60738de79bbb\",\"type\":\"HelpTool\"},{\"attributes\":{\"below\":[{\"id\":\"50cdf936-1755-4387-82ab-4b890829ae0a\",\"type\":\"LinearAxis\"}],\"left\":[{\"id\":\"949aee27-9358-43bc-a292-d3df82f04d16\",\"type\":\"LinearAxis\"}],\"plot_height\":400,\"plot_width\":400,\"renderers\":[{\"id\":\"50cdf936-1755-4387-82ab-4b890829ae0a\",\"type\":\"LinearAxis\"},{\"id\":\"ffb16f54-add5-4992-9b96-be521732a2f9\",\"type\":\"Grid\"},{\"id\":\"949aee27-9358-43bc-a292-d3df82f04d16\",\"type\":\"LinearAxis\"},{\"id\":\"0aac3160-66b1-40c8-9c0b-7497c7499a11\",\"type\":\"Grid\"},{\"id\":\"73d1de77-2585-49dc-a3bf-91f402f35c90\",\"type\":\"BoxAnnotation\"},{\"id\":\"cc613089-3253-4479-9d06-698291c1ed67\",\"type\":\"GlyphRenderer\"}],\"title\":{\"id\":\"deba99fe-c49d-47cc-9da1-1fd111d9fbdc\",\"type\":\"Title\"},\"toolbar\":{\"id\":\"38300cb6-bc7c-4d5a-8687-d14facf20ea0\",\"type\":\"Toolbar\"},\"x_range\":{\"id\":\"4d1a0e36-78e4-4c65-ad94-136f699ddd58\",\"type\":\"DataRange1d\"},\"x_scale\":{\"id\":\"161db2a0-b463-4dd8-b2e5-413066a2153b\",\"type\":\"LinearScale\"},\"y_range\":{\"id\":\"c6d568b2-2ce7-4bd2-91ae-0a30e2df1218\",\"type\":\"DataRange1d\"},\"y_scale\":{\"id\":\"23a1d4b6-ad64-46e6-85ca-0462c70f816b\",\"type\":\"LinearScale\"}},\"id\":\"334341b1-63e4-4894-a51d-fb28e0135178\",\"subtype\":\"Figure\",\"type\":\"Plot\"},{\"attributes\":{},\"id\":\"5e1d22d6-cdd1-4e45-a641-95bf02f26544\",\"type\":\"BasicTickFormatter\"},{\"attributes\":{\"fill_alpha\":{\"value\":0.1},\"fill_color\":{\"value\":\"#1f77b4\"},\"line_alpha\":{\"value\":0.1},\"line_color\":{\"value\":\"#1f77b4\"},\"size\":{\"units\":\"screen\",\"value\":12},\"x\":{\"field\":\"x\"},\"y\":{\"field\":\"y\"}},\"id\":\"a5426ca0-1811-466e-b872-555735b02b18\",\"type\":\"Asterisk\"},{\"attributes\":{\"fill_color\":{\"value\":\"olive\"},\"line_color\":{\"value\":\"olive\"},\"size\":{\"units\":\"screen\",\"value\":12},\"x\":{\"field\":\"x\"},\"y\":{\"field\":\"y\"}},\"id\":\"d559f404-0a2a-446d-a0df-2c5a8e1c32e9\",\"type\":\"Asterisk\"},{\"attributes\":{},\"id\":\"161db2a0-b463-4dd8-b2e5-413066a2153b\",\"type\":\"LinearScale\"},{\"attributes\":{},\"id\":\"6ac5adcb-63bc-44a7-bc30-c43cf915d61d\",\"type\":\"UnionRenderers\"},{\"attributes\":{},\"id\":\"a0db3abc-b485-4e24-bbb3-77231b29b333\",\"type\":\"BasicTickFormatter\"},{\"attributes\":{\"callback\":null},\"id\":\"c6d568b2-2ce7-4bd2-91ae-0a30e2df1218\",\"type\":\"DataRange1d\"},{\"attributes\":{},\"id\":\"33672eb3-c206-4db5-a1f6-a1c2c361a547\",\"type\":\"Selection\"},{\"attributes\":{\"axis_label\":\"Temp\",\"axis_line_color\":{\"value\":\"red\"},\"axis_line_width\":{\"value\":3},\"formatter\":{\"id\":\"5e1d22d6-cdd1-4e45-a641-95bf02f26544\",\"type\":\"BasicTickFormatter\"},\"minor_tick_in\":-3,\"minor_tick_out\":6,\"plot\":{\"id\":\"334341b1-63e4-4894-a51d-fb28e0135178\",\"subtype\":\"Figure\",\"type\":\"Plot\"},\"ticker\":{\"id\":\"abf4b509-2bb5-490b-9e8c-9544cde9beb7\",\"type\":\"BasicTicker\"}},\"id\":\"50cdf936-1755-4387-82ab-4b890829ae0a\",\"type\":\"LinearAxis\"},{\"attributes\":{\"active_drag\":\"auto\",\"active_inspect\":\"auto\",\"active_multi\":null,\"active_scroll\":\"auto\",\"active_tap\":\"auto\",\"tools\":[{\"id\":\"c325502f-4ec9-4a6d-b49c-e3e3ea46588b\",\"type\":\"PanTool\"},{\"id\":\"e89c6972-43a1-42b5-a3a1-93567044252b\",\"type\":\"WheelZoomTool\"},{\"id\":\"cc4049e5-3a3e-4bd7-a529-cced5dc40312\",\"type\":\"BoxZoomTool\"},{\"id\":\"9fcd6f96-8c33-4733-9087-c6ca8ba4d000\",\"type\":\"SaveTool\"},{\"id\":\"66a24119-bd52-42b3-ac73-30accd11fbd7\",\"type\":\"ResetTool\"},{\"id\":\"9b120134-e623-4b62-95ab-60738de79bbb\",\"type\":\"HelpTool\"}]},\"id\":\"38300cb6-bc7c-4d5a-8687-d14facf20ea0\",\"type\":\"Toolbar\"},{\"attributes\":{\"source\":{\"id\":\"87fa1957-0a3f-49e0-a978-e8b45db1220e\",\"type\":\"ColumnDataSource\"}},\"id\":\"ccc6a06a-8f2b-4c9b-a50a-bcb01632c1d8\",\"type\":\"CDSView\"},{\"attributes\":{\"dimension\":1,\"plot\":{\"id\":\"334341b1-63e4-4894-a51d-fb28e0135178\",\"subtype\":\"Figure\",\"type\":\"Plot\"},\"ticker\":{\"id\":\"29e02b71-12ce-432c-9de2-7f9e14a30414\",\"type\":\"BasicTicker\"}},\"id\":\"0aac3160-66b1-40c8-9c0b-7497c7499a11\",\"type\":\"Grid\"},{\"attributes\":{\"callback\":null},\"id\":\"4d1a0e36-78e4-4c65-ad94-136f699ddd58\",\"type\":\"DataRange1d\"},{\"attributes\":{},\"id\":\"c325502f-4ec9-4a6d-b49c-e3e3ea46588b\",\"type\":\"PanTool\"},{\"attributes\":{},\"id\":\"abf4b509-2bb5-490b-9e8c-9544cde9beb7\",\"type\":\"BasicTicker\"},{\"attributes\":{\"data_source\":{\"id\":\"87fa1957-0a3f-49e0-a978-e8b45db1220e\",\"type\":\"ColumnDataSource\"},\"glyph\":{\"id\":\"d559f404-0a2a-446d-a0df-2c5a8e1c32e9\",\"type\":\"Asterisk\"},\"hover_glyph\":null,\"muted_glyph\":null,\"nonselection_glyph\":{\"id\":\"a5426ca0-1811-466e-b872-555735b02b18\",\"type\":\"Asterisk\"},\"selection_glyph\":null,\"view\":{\"id\":\"ccc6a06a-8f2b-4c9b-a50a-bcb01632c1d8\",\"type\":\"CDSView\"}},\"id\":\"cc613089-3253-4479-9d06-698291c1ed67\",\"type\":\"GlyphRenderer\"},{\"attributes\":{\"axis_label\":\"Pressure\",\"formatter\":{\"id\":\"a0db3abc-b485-4e24-bbb3-77231b29b333\",\"type\":\"BasicTickFormatter\"},\"major_label_orientation\":\"vertical\",\"major_label_text_color\":{\"value\":\"orange\"},\"minor_tick_in\":-3,\"minor_tick_out\":6,\"plot\":{\"id\":\"334341b1-63e4-4894-a51d-fb28e0135178\",\"subtype\":\"Figure\",\"type\":\"Plot\"},\"ticker\":{\"id\":\"29e02b71-12ce-432c-9de2-7f9e14a30414\",\"type\":\"BasicTicker\"}},\"id\":\"949aee27-9358-43bc-a292-d3df82f04d16\",\"type\":\"LinearAxis\"},{\"attributes\":{},\"id\":\"29e02b71-12ce-432c-9de2-7f9e14a30414\",\"type\":\"BasicTicker\"},{\"attributes\":{\"plot\":{\"id\":\"334341b1-63e4-4894-a51d-fb28e0135178\",\"subtype\":\"Figure\",\"type\":\"Plot\"},\"ticker\":{\"id\":\"abf4b509-2bb5-490b-9e8c-9544cde9beb7\",\"type\":\"BasicTicker\"}},\"id\":\"ffb16f54-add5-4992-9b96-be521732a2f9\",\"type\":\"Grid\"}],\"root_ids\":[\"334341b1-63e4-4894-a51d-fb28e0135178\"]},\"title\":\"Bokeh Application\",\"version\":\"0.13.0\"}};\n",
       "  var render_items = [{\"docid\":\"2da11e60-333d-47b5-a155-28cc0f2a66b4\",\"roots\":{\"334341b1-63e4-4894-a51d-fb28e0135178\":\"89353b6c-6192-425b-8960-d792f4f73900\"}}];\n",
       "  root.Bokeh.embed.embed_items_notebook(docs_json, render_items);\n",
       "\n",
       "  }\n",
       "  if (root.Bokeh !== undefined) {\n",
       "    embed_document(root);\n",
       "  } else {\n",
       "    var attempts = 0;\n",
       "    var timer = setInterval(function(root) {\n",
       "      if (root.Bokeh !== undefined) {\n",
       "        embed_document(root);\n",
       "        clearInterval(timer);\n",
       "      }\n",
       "      attempts++;\n",
       "      if (attempts > 100) {\n",
       "        console.log(\"Bokeh: ERROR: Unable to run BokehJS code because BokehJS library is missing\")\n",
       "        clearInterval(timer);\n",
       "      }\n",
       "    }, 10, root)\n",
       "  }\n",
       "})(window);"
      ],
      "application/vnd.bokehjs_exec.v0+json": ""
     },
     "metadata": {
      "application/vnd.bokehjs_exec.v0+json": {
       "id": "334341b1-63e4-4894-a51d-fb28e0135178"
      }
     },
     "output_type": "display_data"
    }
   ],
   "source": [
    "p = figure(plot_width=400, plot_height=400)\n",
    "p.asterisk([1,2,3,4,5], [2,5,8,2,7], size=12, color=\"olive\")\n",
    "\n",
    "# change just some things about the x-axes\n",
    "p.xaxis.axis_label = \"Temp\"\n",
    "p.xaxis.axis_line_width = 3\n",
    "p.xaxis.axis_line_color = \"red\"\n",
    "\n",
    "# change just some things about the y-axes\n",
    "p.yaxis.axis_label = \"Pressure\"\n",
    "p.yaxis.major_label_text_color = \"orange\"\n",
    "p.yaxis.major_label_orientation = \"vertical\"\n",
    "\n",
    "# change things on all axes\n",
    "p.axis.minor_tick_in = -3\n",
    "p.axis.minor_tick_out = 6\n",
    "\n",
    "show(p)"
   ]
  },
  {
   "cell_type": "code",
   "execution_count": 12,
   "metadata": {},
   "outputs": [],
   "source": [
    "# EXERCISE Create a plot of your own and customize several axis properties\n"
   ]
  },
  {
   "cell_type": "markdown",
   "metadata": {},
   "source": [
    "## Configuring tick labels\n",
    "\n",
    "All Bokeh axes have a `formatter` property, whose value is a `TickFormatter` object that Bokeh uses to format the ticks displayed by that axis. Bokeh will configure default tick formatters for numeric, datetime, or categotical axes. But often we would like to customize the appearance of tick labels. This can be accomplished by changing properties on the default formatter that Bokeh chooses, or by replacing the formatter with a new type entirely. \n",
    "\n",
    "Let's first look at changing the properties of a default formatter. The default datetime formatter is configure to show *month/day* when the axis is on the scale of days. If would like the also always show the year, we can change the `days` property to a format that includes the year, as done below. "
   ]
  },
  {
   "cell_type": "code",
   "execution_count": 13,
   "metadata": {},
   "outputs": [
    {
     "data": {
      "text/html": [
       "\n",
       "\n",
       "\n",
       "\n",
       "\n",
       "\n",
       "  <div class=\"bk-root\" id=\"a8d999c4-12a6-4070-88df-227e8cf3d816\"></div>\n"
      ]
     },
     "metadata": {},
     "output_type": "display_data"
    },
    {
     "data": {
      "application/javascript": [
       "(function(root) {\n",
       "  function embed_document(root) {\n",
       "    \n",
       "  var docs_json = {\"b20369ed-8ea0-43b3-8532-a3ed8ce88a58\":{\"roots\":{\"references\":[{\"attributes\":{\"base\":24,\"mantissas\":[1,2,4,6,8,12],\"max_interval\":43200000.0,\"min_interval\":3600000.0,\"num_minor_ticks\":0},\"id\":\"bbffd3df-ee18-49a8-a2fe-0d9caa37d4bf\",\"type\":\"AdaptiveTicker\"},{\"attributes\":{\"base\":60,\"mantissas\":[1,2,5,10,15,20,30],\"max_interval\":1800000.0,\"min_interval\":1000.0,\"num_minor_ticks\":0},\"id\":\"a9329d94-0f0b-4c74-885f-3324b4da3648\",\"type\":\"AdaptiveTicker\"},{\"attributes\":{},\"id\":\"28c83c1f-a9c5-45bd-89e4-a72d9082f1aa\",\"type\":\"YearsTicker\"},{\"attributes\":{\"source\":{\"id\":\"09e18281-1164-495f-8e2e-ca15a7e58558\",\"type\":\"ColumnDataSource\"}},\"id\":\"d0bd0274-d571-417f-9ffd-b42f8eb93c0c\",\"type\":\"CDSView\"},{\"attributes\":{\"bottom_units\":\"screen\",\"fill_alpha\":{\"value\":0.5},\"fill_color\":{\"value\":\"lightgrey\"},\"left_units\":\"screen\",\"level\":\"overlay\",\"line_alpha\":{\"value\":1.0},\"line_color\":{\"value\":\"black\"},\"line_dash\":[4,4],\"line_width\":{\"value\":2},\"plot\":null,\"render_mode\":\"css\",\"right_units\":\"screen\",\"top_units\":\"screen\"},\"id\":\"c252eb49-02bf-406f-9896-18cd9b0c1ec0\",\"type\":\"BoxAnnotation\"},{\"attributes\":{},\"id\":\"12070b76-e096-4a61-99b1-040f1c04f9c1\",\"type\":\"HelpTool\"},{\"attributes\":{},\"id\":\"ff2612be-23b3-40a3-a94e-7957a6d2cba2\",\"type\":\"Selection\"},{\"attributes\":{},\"id\":\"fd91e709-7ca1-4d9e-a16e-c3d64031f8ec\",\"type\":\"UnionRenderers\"},{\"attributes\":{\"mantissas\":[1,2,5],\"max_interval\":500.0,\"num_minor_ticks\":0},\"id\":\"ff98ea8a-05ad-4481-bd5d-ef372ead35af\",\"type\":\"AdaptiveTicker\"},{\"attributes\":{\"plot\":{\"id\":\"f916d906-2ff8-42e7-937c-b8cd0a1a3d0f\",\"subtype\":\"Figure\",\"type\":\"Plot\"},\"ticker\":{\"id\":\"ec8f30eb-36fb-43a6-88c6-379fa0dfc27f\",\"type\":\"DatetimeTicker\"}},\"id\":\"62efcd53-c288-4044-b556-ea90f4cf1d92\",\"type\":\"Grid\"},{\"attributes\":{\"data_source\":{\"id\":\"09e18281-1164-495f-8e2e-ca15a7e58558\",\"type\":\"ColumnDataSource\"},\"glyph\":{\"id\":\"77455a5a-7d96-4605-b8ae-c06e1d48983c\",\"type\":\"Line\"},\"hover_glyph\":null,\"muted_glyph\":null,\"nonselection_glyph\":{\"id\":\"0da29c74-cb5b-416d-8e22-dd0ecf9087d7\",\"type\":\"Line\"},\"selection_glyph\":null,\"view\":{\"id\":\"d0bd0274-d571-417f-9ffd-b42f8eb93c0c\",\"type\":\"CDSView\"}},\"id\":\"682427f1-1c38-4eb8-aaa2-e31cdf0f63f5\",\"type\":\"GlyphRenderer\"},{\"attributes\":{\"months\":[0,6]},\"id\":\"fc06a93e-c2de-41a1-98b9-3c9c7ebf0f7e\",\"type\":\"MonthsTicker\"},{\"attributes\":{\"months\":[0,4,8]},\"id\":\"2debc777-2405-41e2-8b43-0452c7a8d1e5\",\"type\":\"MonthsTicker\"},{\"attributes\":{},\"id\":\"879f89c8-b4c9-4c87-806c-a33d4958dc7f\",\"type\":\"ResetTool\"},{\"attributes\":{},\"id\":\"b540f9bf-345e-4c3c-ae09-5ce2195c7061\",\"type\":\"BasicTickFormatter\"},{\"attributes\":{\"active_drag\":\"auto\",\"active_inspect\":\"auto\",\"active_multi\":null,\"active_scroll\":\"auto\",\"active_tap\":\"auto\",\"tools\":[{\"id\":\"cca51adc-f5a6-450c-9308-c7943b12813a\",\"type\":\"PanTool\"},{\"id\":\"e37d3617-6144-4dbb-8f2d-e1f8875e2794\",\"type\":\"WheelZoomTool\"},{\"id\":\"ca190719-ca65-4073-82db-b65de466220c\",\"type\":\"BoxZoomTool\"},{\"id\":\"ca07140b-01ad-4fc3-9d29-7bbef20d76ef\",\"type\":\"SaveTool\"},{\"id\":\"879f89c8-b4c9-4c87-806c-a33d4958dc7f\",\"type\":\"ResetTool\"},{\"id\":\"12070b76-e096-4a61-99b1-040f1c04f9c1\",\"type\":\"HelpTool\"}]},\"id\":\"78c28583-187f-48d7-b820-a215b573504d\",\"type\":\"Toolbar\"},{\"attributes\":{\"dimension\":1,\"plot\":{\"id\":\"f916d906-2ff8-42e7-937c-b8cd0a1a3d0f\",\"subtype\":\"Figure\",\"type\":\"Plot\"},\"ticker\":{\"id\":\"a886cafa-5357-4162-aba1-8430e00be068\",\"type\":\"BasicTicker\"}},\"id\":\"cb0f6cba-00b4-43ea-b6a7-9749f22bcae6\",\"type\":\"Grid\"},{\"attributes\":{},\"id\":\"cca51adc-f5a6-450c-9308-c7943b12813a\",\"type\":\"PanTool\"},{\"attributes\":{},\"id\":\"af59c56b-68a9-4c71-a671-68732fdb2dff\",\"type\":\"LinearScale\"},{\"attributes\":{\"callback\":null},\"id\":\"eafa49ff-9b2f-40f1-9a12-51d65c614675\",\"type\":\"DataRange1d\"},{\"attributes\":{\"callback\":null,\"data\":{\"x\":{\"__ndarray__\":\"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\",\"dtype\":\"float64\",\"shape\":[2217]},\"y\":[92,100,108,115,120,124,128,133,137,142,147,152,157,162,167,171,175,179,185,192,200,207,212,215,217,219,218,219,217,216,216,216,215,214,212,211,209,207,204,203,203,203,203,204,203,202,201,200,199,199,197,193,189,185,182,182,183,184,184,182,177,174,172,170,168,167,166,164,162,160,158,155,152,150,147,140,131,124,120,116,114,114,116,118,119,120,120,120,119,117,114,112,112,111,111,112,111,111,110,108,106,106,106,106,104,101,101,103,102,100,99,100,100,99,99,99,100,99,98,97,97,96,92,90,89,86,85,85,84,84,81,80,81,86,99,115,125,130,129,128,123,118,113,111,112,111,109,108,105,101,100,102,107,113,119,125,129,131,129,128,127,127,127,125,122,117,113,108,103,98,93,89,86,85,83,82,81,82,84,87,92,99,107,121,133,142,146,149,150,151,151,152,152,150,148,161,160,158,157,157,157,156,153,149,147,145,144,145,149,154,159,163,164,164,164,163,162,158,154,153,154,155,157,159,158,156,152,148,144,139,134,128,123,121,119,117,115,115,112,109,106,105,103,101,97,93,89,86,85,88,93,100,106,113,119,125,131,137,142,149,159,172,186,197,204,207,208,207,205,202,199,197,193,185,176,178,177,177,176,173,171,170,169,167,166,165,163,163,162,160,156,150,150,150,151,150,150,150,149,149,148,149,147,145,143,139,141,145,147,147,146,145,141,138,136,135,134,133,132,129,124,120,118,112,114,119,123,125,126,127,128,135,143,148,151,153,154,155,156,156,157,157,156,155,154,147,137,131,128,129,131,132,133,135,135,133,131,132,135,138,139,138,136,132,128,126,125,120,113,108,106,105,108,111,113,116,120,120,120,119,118,118,118,118,117,116,113,106,98,93,97,107,115,122,120,113,102,94,95,96,90,88,83,83,85,90,97,98,99,94,89,95,105,111,113,106,95,90,91,96,101,104,109,112,120,123,118,115,123,130,128,130,136,131,121,113,110,108,109,111,115,120,115,108,105,105,104,106,110,111,115,115,117,114,111,107,105,109,111,110,111,115,121,126,135,142,145,147,150,153,156,160,162,161,160,160,159,157,154,152,152,150,143,138,132,128,124,119,112,105,98,92,94,98,106,118,126,128,127,123,123,121,118,115,112,112,114,113,105,78,209,204,214,252,282,290,295,292,284,268,263,262,263,263,262,258,249,236,179,165,157,152,150,149,150,154,158,163,166,166,163,159,158,161,170,176,178,174,170,166,160,156,151,148,147,145,142,141,145,144,144,153,155,152,147,143,145,152,156,157,156,155,155,156,158,158,158,156,152,146,139,139,141,143,145,147,148,149,149,149,148,147,144,140,139,139,138,137,136,135,134,133,134,136,137,136,134,135,139,142,143,141,138,141,145,148,151,152,154,156,155,155,159,163,166,166,166,164,162,160,158,157,155,153,150,150,149,149,149,149,150,152,154,155,155,156,156,157,160,163,165,165,164,163,121,119,117,114,113,112,113,113,113,113,112,113,113,113,114,112,110,109,109,109,108,108,90,90,94,99,107,116,125,130,132,130,124,117,110,103,95,88,81,77,75,63,65,70,73,78,80,80,79,80,83,86,89,94,96,98,104,105,106,106,107,107,109,114,118,121,123,124,123,122,122,123,123,123,124,123,123,124,127,132,137,139,140,140,142,147,152,156,160,165,168,169,169,165,162,160,158,156,154,150,146,144,141,138,136,133,129,124,118,112,107,106,107,108,109,110,111,112,112,113,114,115,116,117,118,119,122,125,128,130,130,131,130,128,126,123,120,116,93,89,86,84,82,79,76,74,72,71,69,70,68,67,66,67,68,69,69,69,68,68,67,66,65,64,63,61,61,60,60,61,63,64,64,64,63,64,65,66,67,67,66,66,67,68,69,71,73,72,71,70,71,72,74,75,76,78,79,80,81,82,84,86,88,88,87,86,85,86,86,86,86,87,87,88,88,88,89,87,83,79,78,82,85,87,88,89,89,89,87,86,88,89,90,89,90,92,91,90,89,88,87,87,89,90,91,92,94,108,110,110,111,111,111,112,113,114,116,116,116,117,119,121,124,127,131,138,145,150,155,161,165,169,173,177,182,185,185,184,189,193,195,198,198,197,196,196,199,202,202,201,202,204,205,205,203,202,201,197,197,198,199,200,199,195,190,184,180,178,179,180,179,176,175,174,172,169,168,167,170,180,191,203,214,219,219,222,227,228,226,223,221,219,219,218,218,219,218,216,214,214,211,208,207,206,206,205,202,199,193,190,187,182,179,176,173,170,167,163,158,152,146,141,135,129,122,114,108,102,97,90,85,81,77,73,68,65,62,61,61,61,61,61,60,59,59,60,61,64,69,75,82,92,104,117,128,137,144,149,153,156,160,164,169,175,180,184,188,191,193,195,196,200,203,207,212,218,223,228,231,234,235,236,327,327,330,333,328,321,316,308,298,287,274,263,255,249,243,239,234,230,225,220,215,210,206,204,204,199,195,190,185,181,177,175,173,171,170,169,169,168,167,166,166,166,163,161,159,158,157,156,154,152,150,149,149,150,150,151,151,152,153,153,153,154,154,154,154,153,152,152,150,149,148,146,145,144,144,143,142,142,141,140,139,137,137,138,136,137,137,136,137,136,134,133,132,132,132,132,132,134,136,138,141,142,142,143,145,150,154,156,158,160,162,164,167,169,172,175,176,175,174,172,170,171,173,178,185,191,198,210,223,235,244,254,265,273,283,290,296,302,307,309,313,316,318,320,322,320,319,317,313,311,306,300,297,294,293,290,287,286,285,282,279,274,271,270,270,269,274,271,267,264,262,259,255,250,244,237,232,227,223,220,215,210,205,199,195,193,197,206,221,239,258,276,291,302,311,318,323,324,322,320,319,320,319,317,314,311,307,302,294,286,280,276,272,267,259,251,245,241,241,241,242,244,245,245,242,237,232,228,225,216,215,216,217,217,215,211,206,202,200,201,203,201,196,188,176,163,149,138,129,119,108,98,89,79,71,66,66,67,67,68,69,71,74,77,79,81,85,91,99,109,119,132,145,157,168,175,179,183,185,188,188,187,184,179,172,163,159,157,155,153,151,149,148,148,148,147,146,145,145,144,143,143,143,144,145,146,145,144,143,142,140,140,140,140,140,143,147,150,152,152,152,154,155,142,140,138,134,131,130,128,127,126,126,126,126,127,129,131,132,134,136,136,136,136,135,134,132,130,130,130,129,128,127,125,124,123,123,122,121,120,118,115,112,111,111,110,110,109,108,107,107,107,108,107,105,105,105,105,104,103,102,99,97,96,94,94,93,93,92,91,92,94,95,96,97,99,102,104,112,112,112,111,110,107,104,105,105,103,99,96,94,95,102,114,128,144,160,173,185,196,205,209,214,219,226,234,241,248,255,260,265,268,270,272,271,271,268,265,261,256,253,250,246,244,241,237,233,229,225,222,204,200,197,193,190,186,182,179,175,171,168,164,158,154,151,148,145,141,133,139,152,173,196,217,233,244,249,250,253,256,260,263,265,265,264,260,254,246,234,217,200,188,181,175,169,164,159,154,147,138,132,129,127,123,117,111,106,104,103,100,94,88,83,78,75,73,71,69,68,67,67,68,70,71,71,70,69,68,67,67,67,66,67,69,71,74,76,78,80,80,80,80,80,80,82,84,87,90,92,87,87,86,86,86,86,87,87,87,85,83,82,83,87,95,107,118,130,141,149,172,179,187,201,214,221,225,230,232,230,223,216,208,199,191,185,181,177,176,177,176,173,171,169,163,154,152,153,154,154,153,151,150,150,150,152,149,147,148,150,152,152,152,151,151,150,149,147,146,143,140,138,136,137,138,140,138,135,132,130,129,129,129,130,130,129,128,128,128,129,129,128,127,126,125,125,125,125,124,124,121,120,120,123,124,123,122,120,115,113,114,114,115,116,115,112,111,111,109,108,107,107,110,113,114,115,115,115,114,113,113,116,119,120,121,121,122,123,124,125,126,126,126,126,126,127,127,125,122,118,115,111,112,115,117,120,124,127,131,137,143,148,153,159,166,172,178,184,191,199,206,212,217,223,229,232,233,235,237,240,241,243,246,247,246,243,240,234,229,225,221,217,216,215,215,215,212,208,203,199,196,194,190,185,180,177,163,158,152,149,153,163,174,182,188,192,195,197,201,204,205,203,199,195,189,184,176,169,162,150,138,128,119,110,100,90,80,73,68,64,63,63,66,68,70,71,72,74,80,94,116,141,164,183,198,210,220,228,233,237,241,247,252,256,260,259,258,256,251,245,238,234,227,221,215,208,207,207,203,201,201,199,179,176,171,163,152,137,119,98,77,61,50,45,47,59,71,86,99,109,116,117,115,111,107,102,96,91,90,94,97,97,95,92,87,84,84,83,84,86,86,86,84,82,82,81,81,82,84,87,89,91,92,94,93,93,94,96,100,101,99,97,96,96,97,97,98,99,101,102,106,114,121,127,130,124,105,109,119,127,129,132,129,126,126,126,126,126,125,124,125,130,130,128,126,126,126,126,126,126,126,127,128,129,129,127,128,136,141,143,141,138,131,129,133,134,130,129,134,137,139,138,130,122,118,115,114,113,113,112,112,117,118,117,118,118,117,117,114,112,115,118,124,126,119,121,122,274,285,293,297,298,298,296,293,289,282,275,267,256,249,242,233,225,217,217,215,203,190,185,193,202,202,194,182,170,143,130,120,110,102,93,80,67,57,52,50,49,49,54,72,93,104,114,125,134,140,145,145,141,136,130,124,118,116,114,112,108,105,102,99,95,91,88,85,83,82,80,79,79,83,86,87,88,89,89,88,88,90,92,88,86,86,86,84,82,84,88,90,94,99,104,107,107,105,104,103,95,94,93,93,93,93,93,94,99,109,122,172,169,164,156,147,137,126,115,104,99,99,103,106,111,115,117,118,120,120,120,120,119,119,118,118,117,116,115,115,116,116,115,115,114,112,109,110,111,111,110,109,109,109,108,107,106,105,101,100,99,99,98,97,97]},\"selected\":{\"id\":\"ff2612be-23b3-40a3-a94e-7957a6d2cba2\",\"type\":\"Selection\"},\"selection_policy\":{\"id\":\"fd91e709-7ca1-4d9e-a16e-c3d64031f8ec\",\"type\":\"UnionRenderers\"}},\"id\":\"09e18281-1164-495f-8e2e-ca15a7e58558\",\"type\":\"ColumnDataSource\"},{\"attributes\":{\"plot\":null,\"text\":\"Glocose Range\"},\"id\":\"58719b1a-dd78-4561-befa-33d93816f400\",\"type\":\"Title\"},{\"attributes\":{\"formatter\":{\"id\":\"b540f9bf-345e-4c3c-ae09-5ce2195c7061\",\"type\":\"BasicTickFormatter\"},\"plot\":{\"id\":\"f916d906-2ff8-42e7-937c-b8cd0a1a3d0f\",\"subtype\":\"Figure\",\"type\":\"Plot\"},\"ticker\":{\"id\":\"a886cafa-5357-4162-aba1-8430e00be068\",\"type\":\"BasicTicker\"}},\"id\":\"e0ad2f4e-ff15-40e8-892f-d225199efcad\",\"type\":\"LinearAxis\"},{\"attributes\":{\"formatter\":{\"id\":\"ef46b5a6-221a-4d95-ac55-2fd3f711d75d\",\"type\":\"DatetimeTickFormatter\"},\"major_label_orientation\":1.0471975511965976,\"plot\":{\"id\":\"f916d906-2ff8-42e7-937c-b8cd0a1a3d0f\",\"subtype\":\"Figure\",\"type\":\"Plot\"},\"ticker\":{\"id\":\"ec8f30eb-36fb-43a6-88c6-379fa0dfc27f\",\"type\":\"DatetimeTicker\"}},\"id\":\"a65fe4fd-04c9-4217-a3c3-c83e75e498f4\",\"type\":\"DatetimeAxis\"},{\"attributes\":{},\"id\":\"a886cafa-5357-4162-aba1-8430e00be068\",\"type\":\"BasicTicker\"},{\"attributes\":{\"num_minor_ticks\":5,\"tickers\":[{\"id\":\"ff98ea8a-05ad-4481-bd5d-ef372ead35af\",\"type\":\"AdaptiveTicker\"},{\"id\":\"a9329d94-0f0b-4c74-885f-3324b4da3648\",\"type\":\"AdaptiveTicker\"},{\"id\":\"bbffd3df-ee18-49a8-a2fe-0d9caa37d4bf\",\"type\":\"AdaptiveTicker\"},{\"id\":\"7db2c399-8602-4a35-aab0-cb62a9997fa6\",\"type\":\"DaysTicker\"},{\"id\":\"5c16b547-062e-4897-a6d4-7a59d0b92813\",\"type\":\"DaysTicker\"},{\"id\":\"417dc3cd-0176-4a49-98e0-b074387677d2\",\"type\":\"DaysTicker\"},{\"id\":\"c93606ad-1ab1-47fe-bc0e-4a602a29c5be\",\"type\":\"DaysTicker\"},{\"id\":\"35b97ef9-7e03-45d5-bf8a-7b49e4f4fe00\",\"type\":\"MonthsTicker\"},{\"id\":\"49c7165b-43cf-434a-abc8-c4e08ef2fb53\",\"type\":\"MonthsTicker\"},{\"id\":\"2debc777-2405-41e2-8b43-0452c7a8d1e5\",\"type\":\"MonthsTicker\"},{\"id\":\"fc06a93e-c2de-41a1-98b9-3c9c7ebf0f7e\",\"type\":\"MonthsTicker\"},{\"id\":\"28c83c1f-a9c5-45bd-89e4-a72d9082f1aa\",\"type\":\"YearsTicker\"}]},\"id\":\"ec8f30eb-36fb-43a6-88c6-379fa0dfc27f\",\"type\":\"DatetimeTicker\"},{\"attributes\":{},\"id\":\"e37d3617-6144-4dbb-8f2d-e1f8875e2794\",\"type\":\"WheelZoomTool\"},{\"attributes\":{\"line_color\":\"#1f77b4\",\"x\":{\"field\":\"x\"},\"y\":{\"field\":\"y\"}},\"id\":\"77455a5a-7d96-4605-b8ae-c06e1d48983c\",\"type\":\"Line\"},{\"attributes\":{\"overlay\":{\"id\":\"c252eb49-02bf-406f-9896-18cd9b0c1ec0\",\"type\":\"BoxAnnotation\"}},\"id\":\"ca190719-ca65-4073-82db-b65de466220c\",\"type\":\"BoxZoomTool\"},{\"attributes\":{\"callback\":null},\"id\":\"46d2ebff-6064-4410-a207-3eb5e0a48e12\",\"type\":\"DataRange1d\"},{\"attributes\":{},\"id\":\"ca07140b-01ad-4fc3-9d29-7bbef20d76ef\",\"type\":\"SaveTool\"},{\"attributes\":{\"months\":[0,2,4,6,8,10]},\"id\":\"49c7165b-43cf-434a-abc8-c4e08ef2fb53\",\"type\":\"MonthsTicker\"},{\"attributes\":{\"below\":[{\"id\":\"a65fe4fd-04c9-4217-a3c3-c83e75e498f4\",\"type\":\"DatetimeAxis\"}],\"left\":[{\"id\":\"e0ad2f4e-ff15-40e8-892f-d225199efcad\",\"type\":\"LinearAxis\"}],\"plot_height\":350,\"plot_width\":800,\"renderers\":[{\"id\":\"a65fe4fd-04c9-4217-a3c3-c83e75e498f4\",\"type\":\"DatetimeAxis\"},{\"id\":\"62efcd53-c288-4044-b556-ea90f4cf1d92\",\"type\":\"Grid\"},{\"id\":\"e0ad2f4e-ff15-40e8-892f-d225199efcad\",\"type\":\"LinearAxis\"},{\"id\":\"cb0f6cba-00b4-43ea-b6a7-9749f22bcae6\",\"type\":\"Grid\"},{\"id\":\"c252eb49-02bf-406f-9896-18cd9b0c1ec0\",\"type\":\"BoxAnnotation\"},{\"id\":\"682427f1-1c38-4eb8-aaa2-e31cdf0f63f5\",\"type\":\"GlyphRenderer\"}],\"title\":{\"id\":\"58719b1a-dd78-4561-befa-33d93816f400\",\"type\":\"Title\"},\"toolbar\":{\"id\":\"78c28583-187f-48d7-b820-a215b573504d\",\"type\":\"Toolbar\"},\"x_range\":{\"id\":\"eafa49ff-9b2f-40f1-9a12-51d65c614675\",\"type\":\"DataRange1d\"},\"x_scale\":{\"id\":\"b9d68b67-f01e-4720-911b-77669b0a6a9c\",\"type\":\"LinearScale\"},\"y_range\":{\"id\":\"46d2ebff-6064-4410-a207-3eb5e0a48e12\",\"type\":\"DataRange1d\"},\"y_scale\":{\"id\":\"af59c56b-68a9-4c71-a671-68732fdb2dff\",\"type\":\"LinearScale\"}},\"id\":\"f916d906-2ff8-42e7-937c-b8cd0a1a3d0f\",\"subtype\":\"Figure\",\"type\":\"Plot\"},{\"attributes\":{\"months\":[0,1,2,3,4,5,6,7,8,9,10,11]},\"id\":\"35b97ef9-7e03-45d5-bf8a-7b49e4f4fe00\",\"type\":\"MonthsTicker\"},{\"attributes\":{\"days\":[1,8,15,22]},\"id\":\"417dc3cd-0176-4a49-98e0-b074387677d2\",\"type\":\"DaysTicker\"},{\"attributes\":{\"days\":[1,15]},\"id\":\"c93606ad-1ab1-47fe-bc0e-4a602a29c5be\",\"type\":\"DaysTicker\"},{\"attributes\":{},\"id\":\"b9d68b67-f01e-4720-911b-77669b0a6a9c\",\"type\":\"LinearScale\"},{\"attributes\":{\"line_alpha\":0.1,\"line_color\":\"#1f77b4\",\"x\":{\"field\":\"x\"},\"y\":{\"field\":\"y\"}},\"id\":\"0da29c74-cb5b-416d-8e22-dd0ecf9087d7\",\"type\":\"Line\"},{\"attributes\":{\"days\":[\"%m/%d/%Y\"]},\"id\":\"ef46b5a6-221a-4d95-ac55-2fd3f711d75d\",\"type\":\"DatetimeTickFormatter\"},{\"attributes\":{\"days\":[1,4,7,10,13,16,19,22,25,28]},\"id\":\"5c16b547-062e-4897-a6d4-7a59d0b92813\",\"type\":\"DaysTicker\"},{\"attributes\":{\"days\":[1,2,3,4,5,6,7,8,9,10,11,12,13,14,15,16,17,18,19,20,21,22,23,24,25,26,27,28,29,30,31]},\"id\":\"7db2c399-8602-4a35-aab0-cb62a9997fa6\",\"type\":\"DaysTicker\"}],\"root_ids\":[\"f916d906-2ff8-42e7-937c-b8cd0a1a3d0f\"]},\"title\":\"Bokeh Application\",\"version\":\"0.13.0\"}};\n",
       "  var render_items = [{\"docid\":\"b20369ed-8ea0-43b3-8532-a3ed8ce88a58\",\"roots\":{\"f916d906-2ff8-42e7-937c-b8cd0a1a3d0f\":\"a8d999c4-12a6-4070-88df-227e8cf3d816\"}}];\n",
       "  root.Bokeh.embed.embed_items_notebook(docs_json, render_items);\n",
       "\n",
       "  }\n",
       "  if (root.Bokeh !== undefined) {\n",
       "    embed_document(root);\n",
       "  } else {\n",
       "    var attempts = 0;\n",
       "    var timer = setInterval(function(root) {\n",
       "      if (root.Bokeh !== undefined) {\n",
       "        embed_document(root);\n",
       "        clearInterval(timer);\n",
       "      }\n",
       "      attempts++;\n",
       "      if (attempts > 100) {\n",
       "        console.log(\"Bokeh: ERROR: Unable to run BokehJS code because BokehJS library is missing\")\n",
       "        clearInterval(timer);\n",
       "      }\n",
       "    }, 10, root)\n",
       "  }\n",
       "})(window);"
      ],
      "application/vnd.bokehjs_exec.v0+json": ""
     },
     "metadata": {
      "application/vnd.bokehjs_exec.v0+json": {
       "id": "f916d906-2ff8-42e7-937c-b8cd0a1a3d0f"
      }
     },
     "output_type": "display_data"
    }
   ],
   "source": [
    "from math import pi\n",
    "from bokeh.sampledata.glucose import data\n",
    "\n",
    "week = data.loc['2010-10-01':'2010-10-08']\n",
    "\n",
    "p = figure(x_axis_type=\"datetime\", title=\"Glocose Range\", plot_height=350, plot_width=800)\n",
    "p.xaxis[0].formatter.days = '%m/%d/%Y'\n",
    "p.xaxis.major_label_orientation = pi/3\n",
    "\n",
    "p.line(week.index, week.glucose)\n",
    "\n",
    "show(p)"
   ]
  },
  {
   "cell_type": "markdown",
   "metadata": {},
   "source": [
    "See the reference guide entry for [DatetimeTickFormatter](http://bokeh.pydata.org/en/latest/docs/reference/models/formatters.html#bokeh.models.formatters.DatetimeTickFormatter) to see other properties that can be updated. \n",
    "\n",
    "*Note: It's worth noting a little quirk here, because of the way \"splattable\" lists work, we do have to be explicit about which formatter object we want to update, i.e. `p.xaxis[0].formatter`*\n",
    "\n",
    "In addition to the tick formatters that Bokeh will use by default, there are others such as the [`NumeralTickFormatter`](http://bokeh.pydata.org/en/latest/docs/user_guide/styling.html#numeraltickformatter) that we can configure explicitly. The example below shows how to set a formatter on each axis. "
   ]
  },
  {
   "cell_type": "code",
   "execution_count": 14,
   "metadata": {},
   "outputs": [
    {
     "data": {
      "text/html": [
       "\n",
       "\n",
       "\n",
       "\n",
       "\n",
       "\n",
       "  <div class=\"bk-root\" id=\"378cc23a-7a94-4175-ae25-b1f7e1c5bcf6\"></div>\n"
      ]
     },
     "metadata": {},
     "output_type": "display_data"
    },
    {
     "data": {
      "application/javascript": [
       "(function(root) {\n",
       "  function embed_document(root) {\n",
       "    \n",
       "  var docs_json = {\"0cbbe9b9-603b-4f4e-baa3-22136d5b1b8f\":{\"roots\":{\"references\":[{\"attributes\":{\"active_drag\":\"auto\",\"active_inspect\":\"auto\",\"active_multi\":null,\"active_scroll\":\"auto\",\"active_tap\":\"auto\",\"tools\":[{\"id\":\"e6a154ff-df63-4729-91c6-83fd616cdcb1\",\"type\":\"PanTool\"},{\"id\":\"26c4c445-0632-4aaa-a0e7-45260e2df3c9\",\"type\":\"WheelZoomTool\"},{\"id\":\"f18cf35c-6499-46a7-aef6-6143a27380fb\",\"type\":\"BoxZoomTool\"},{\"id\":\"fbd75d4c-0cdc-4523-bede-70b52f970849\",\"type\":\"SaveTool\"},{\"id\":\"79a68031-935f-45de-b2fa-a40e0a361163\",\"type\":\"ResetTool\"},{\"id\":\"37308ab8-cd90-47cb-9522-abea73f432af\",\"type\":\"HelpTool\"}]},\"id\":\"4c2b19f8-309a-4569-8c13-15a4c9ae38f7\",\"type\":\"Toolbar\"},{\"attributes\":{\"overlay\":{\"id\":\"3eea62c6-1c71-408b-8280-3a975424c436\",\"type\":\"BoxAnnotation\"}},\"id\":\"f18cf35c-6499-46a7-aef6-6143a27380fb\",\"type\":\"BoxZoomTool\"},{\"attributes\":{},\"id\":\"26c4c445-0632-4aaa-a0e7-45260e2df3c9\",\"type\":\"WheelZoomTool\"},{\"attributes\":{},\"id\":\"fbd75d4c-0cdc-4523-bede-70b52f970849\",\"type\":\"SaveTool\"},{\"attributes\":{\"formatter\":{\"id\":\"fd48c8be-bd50-4cef-a1b1-e21423e1bf5f\",\"type\":\"NumeralTickFormatter\"},\"plot\":{\"id\":\"43ab8ec8-6f3b-4e34-b589-ad8dbf38e06b\",\"subtype\":\"Figure\",\"type\":\"Plot\"},\"ticker\":{\"id\":\"a34aeca5-375a-48c4-b4da-b9994ceefe5b\",\"type\":\"BasicTicker\"}},\"id\":\"10b7d8c0-8442-4d92-82f4-f81429034f78\",\"type\":\"LinearAxis\"},{\"attributes\":{\"bottom_units\":\"screen\",\"fill_alpha\":{\"value\":0.5},\"fill_color\":{\"value\":\"lightgrey\"},\"left_units\":\"screen\",\"level\":\"overlay\",\"line_alpha\":{\"value\":1.0},\"line_color\":{\"value\":\"black\"},\"line_dash\":[4,4],\"line_width\":{\"value\":2},\"plot\":null,\"render_mode\":\"css\",\"right_units\":\"screen\",\"top_units\":\"screen\"},\"id\":\"3eea62c6-1c71-408b-8280-3a975424c436\",\"type\":\"BoxAnnotation\"},{\"attributes\":{\"dimension\":1,\"plot\":{\"id\":\"43ab8ec8-6f3b-4e34-b589-ad8dbf38e06b\",\"subtype\":\"Figure\",\"type\":\"Plot\"},\"ticker\":{\"id\":\"91c86826-bbfa-4751-bdea-6579fa2e8046\",\"type\":\"BasicTicker\"}},\"id\":\"5dde075c-fa90-473e-853b-7dfa3737137b\",\"type\":\"Grid\"},{\"attributes\":{},\"id\":\"37308ab8-cd90-47cb-9522-abea73f432af\",\"type\":\"HelpTool\"},{\"attributes\":{\"data_source\":{\"id\":\"33d6aaf9-ce7b-4adf-acb6-11cebabb0b1f\",\"type\":\"ColumnDataSource\"},\"glyph\":{\"id\":\"1d2e3cd9-35d2-4eba-9edc-ec0c9cd2f4c5\",\"type\":\"Circle\"},\"hover_glyph\":null,\"muted_glyph\":null,\"nonselection_glyph\":{\"id\":\"459bcaca-1552-4524-b597-01a589608807\",\"type\":\"Circle\"},\"selection_glyph\":null,\"view\":{\"id\":\"94f6015c-46f2-4332-99a7-a56ab3341cca\",\"type\":\"CDSView\"}},\"id\":\"332751a8-48c6-4981-ab9a-dff480a53eb1\",\"type\":\"GlyphRenderer\"},{\"attributes\":{},\"id\":\"8a2cc1ed-7a7d-44c9-92c8-b78e6421560a\",\"type\":\"Selection\"},{\"attributes\":{},\"id\":\"613e5b89-529a-4d80-afc1-15a0567798de\",\"type\":\"UnionRenderers\"},{\"attributes\":{},\"id\":\"a34aeca5-375a-48c4-b4da-b9994ceefe5b\",\"type\":\"BasicTicker\"},{\"attributes\":{},\"id\":\"8a514c40-607d-4709-8d6e-1ca0b8b574d1\",\"type\":\"LinearScale\"},{\"attributes\":{\"fill_color\":{\"value\":\"#1f77b4\"},\"line_color\":{\"value\":\"#1f77b4\"},\"size\":{\"units\":\"screen\",\"value\":10},\"x\":{\"field\":\"x\"},\"y\":{\"field\":\"y\"}},\"id\":\"1d2e3cd9-35d2-4eba-9edc-ec0c9cd2f4c5\",\"type\":\"Circle\"},{\"attributes\":{\"below\":[{\"id\":\"10b7d8c0-8442-4d92-82f4-f81429034f78\",\"type\":\"LinearAxis\"}],\"left\":[{\"id\":\"cda9a888-adc2-495c-9e60-0c23b29a138b\",\"type\":\"LinearAxis\"}],\"plot_height\":300,\"plot_width\":800,\"renderers\":[{\"id\":\"10b7d8c0-8442-4d92-82f4-f81429034f78\",\"type\":\"LinearAxis\"},{\"id\":\"63f1b3bd-6669-4157-ae86-987aff37d6df\",\"type\":\"Grid\"},{\"id\":\"cda9a888-adc2-495c-9e60-0c23b29a138b\",\"type\":\"LinearAxis\"},{\"id\":\"5dde075c-fa90-473e-853b-7dfa3737137b\",\"type\":\"Grid\"},{\"id\":\"3eea62c6-1c71-408b-8280-3a975424c436\",\"type\":\"BoxAnnotation\"},{\"id\":\"332751a8-48c6-4981-ab9a-dff480a53eb1\",\"type\":\"GlyphRenderer\"}],\"title\":{\"id\":\"19ca5a7f-d174-49e8-a1ea-d51dc5269885\",\"type\":\"Title\"},\"toolbar\":{\"id\":\"4c2b19f8-309a-4569-8c13-15a4c9ae38f7\",\"type\":\"Toolbar\"},\"x_range\":{\"id\":\"71f01759-e922-40af-bad8-2782c1cabfc2\",\"type\":\"DataRange1d\"},\"x_scale\":{\"id\":\"c0d0169c-2d44-4155-8a9e-de4fecdf0a90\",\"type\":\"LinearScale\"},\"y_range\":{\"id\":\"6bf30ce2-f03f-4ca1-813f-cca2f88b855c\",\"type\":\"DataRange1d\"},\"y_scale\":{\"id\":\"8a514c40-607d-4709-8d6e-1ca0b8b574d1\",\"type\":\"LinearScale\"}},\"id\":\"43ab8ec8-6f3b-4e34-b589-ad8dbf38e06b\",\"subtype\":\"Figure\",\"type\":\"Plot\"},{\"attributes\":{\"format\":\"0.0%\"},\"id\":\"fd48c8be-bd50-4cef-a1b1-e21423e1bf5f\",\"type\":\"NumeralTickFormatter\"},{\"attributes\":{\"plot\":null,\"text\":\"\"},\"id\":\"19ca5a7f-d174-49e8-a1ea-d51dc5269885\",\"type\":\"Title\"},{\"attributes\":{\"format\":\"$0.00\"},\"id\":\"954845f2-360c-4ea8-b09c-23741402644c\",\"type\":\"NumeralTickFormatter\"},{\"attributes\":{},\"id\":\"e6a154ff-df63-4729-91c6-83fd616cdcb1\",\"type\":\"PanTool\"},{\"attributes\":{\"fill_alpha\":{\"value\":0.1},\"fill_color\":{\"value\":\"#1f77b4\"},\"line_alpha\":{\"value\":0.1},\"line_color\":{\"value\":\"#1f77b4\"},\"size\":{\"units\":\"screen\",\"value\":10},\"x\":{\"field\":\"x\"},\"y\":{\"field\":\"y\"}},\"id\":\"459bcaca-1552-4524-b597-01a589608807\",\"type\":\"Circle\"},{\"attributes\":{},\"id\":\"91c86826-bbfa-4751-bdea-6579fa2e8046\",\"type\":\"BasicTicker\"},{\"attributes\":{\"plot\":{\"id\":\"43ab8ec8-6f3b-4e34-b589-ad8dbf38e06b\",\"subtype\":\"Figure\",\"type\":\"Plot\"},\"ticker\":{\"id\":\"a34aeca5-375a-48c4-b4da-b9994ceefe5b\",\"type\":\"BasicTicker\"}},\"id\":\"63f1b3bd-6669-4157-ae86-987aff37d6df\",\"type\":\"Grid\"},{\"attributes\":{},\"id\":\"c0d0169c-2d44-4155-8a9e-de4fecdf0a90\",\"type\":\"LinearScale\"},{\"attributes\":{\"callback\":null},\"id\":\"6bf30ce2-f03f-4ca1-813f-cca2f88b855c\",\"type\":\"DataRange1d\"},{\"attributes\":{\"callback\":null,\"data\":{\"x\":[1,2,3,4,5],\"y\":[2,5,8,2,7]},\"selected\":{\"id\":\"8a2cc1ed-7a7d-44c9-92c8-b78e6421560a\",\"type\":\"Selection\"},\"selection_policy\":{\"id\":\"613e5b89-529a-4d80-afc1-15a0567798de\",\"type\":\"UnionRenderers\"}},\"id\":\"33d6aaf9-ce7b-4adf-acb6-11cebabb0b1f\",\"type\":\"ColumnDataSource\"},{\"attributes\":{\"source\":{\"id\":\"33d6aaf9-ce7b-4adf-acb6-11cebabb0b1f\",\"type\":\"ColumnDataSource\"}},\"id\":\"94f6015c-46f2-4332-99a7-a56ab3341cca\",\"type\":\"CDSView\"},{\"attributes\":{\"formatter\":{\"id\":\"954845f2-360c-4ea8-b09c-23741402644c\",\"type\":\"NumeralTickFormatter\"},\"plot\":{\"id\":\"43ab8ec8-6f3b-4e34-b589-ad8dbf38e06b\",\"subtype\":\"Figure\",\"type\":\"Plot\"},\"ticker\":{\"id\":\"91c86826-bbfa-4751-bdea-6579fa2e8046\",\"type\":\"BasicTicker\"}},\"id\":\"cda9a888-adc2-495c-9e60-0c23b29a138b\",\"type\":\"LinearAxis\"},{\"attributes\":{\"callback\":null},\"id\":\"71f01759-e922-40af-bad8-2782c1cabfc2\",\"type\":\"DataRange1d\"},{\"attributes\":{},\"id\":\"79a68031-935f-45de-b2fa-a40e0a361163\",\"type\":\"ResetTool\"}],\"root_ids\":[\"43ab8ec8-6f3b-4e34-b589-ad8dbf38e06b\"]},\"title\":\"Bokeh Application\",\"version\":\"0.13.0\"}};\n",
       "  var render_items = [{\"docid\":\"0cbbe9b9-603b-4f4e-baa3-22136d5b1b8f\",\"roots\":{\"43ab8ec8-6f3b-4e34-b589-ad8dbf38e06b\":\"378cc23a-7a94-4175-ae25-b1f7e1c5bcf6\"}}];\n",
       "  root.Bokeh.embed.embed_items_notebook(docs_json, render_items);\n",
       "\n",
       "  }\n",
       "  if (root.Bokeh !== undefined) {\n",
       "    embed_document(root);\n",
       "  } else {\n",
       "    var attempts = 0;\n",
       "    var timer = setInterval(function(root) {\n",
       "      if (root.Bokeh !== undefined) {\n",
       "        embed_document(root);\n",
       "        clearInterval(timer);\n",
       "      }\n",
       "      attempts++;\n",
       "      if (attempts > 100) {\n",
       "        console.log(\"Bokeh: ERROR: Unable to run BokehJS code because BokehJS library is missing\")\n",
       "        clearInterval(timer);\n",
       "      }\n",
       "    }, 10, root)\n",
       "  }\n",
       "})(window);"
      ],
      "application/vnd.bokehjs_exec.v0+json": ""
     },
     "metadata": {
      "application/vnd.bokehjs_exec.v0+json": {
       "id": "43ab8ec8-6f3b-4e34-b589-ad8dbf38e06b"
      }
     },
     "output_type": "display_data"
    }
   ],
   "source": [
    "from bokeh.models import NumeralTickFormatter\n",
    "\n",
    "p = figure(plot_height=300, plot_width=800)\n",
    "p.circle([1,2,3,4,5], [2,5,8,2,7], size=10)\n",
    "\n",
    "p.xaxis.formatter = NumeralTickFormatter(format=\"0.0%\")\n",
    "p.yaxis.formatter = NumeralTickFormatter(format=\"$0.00\")\n",
    "\n",
    "show(p)"
   ]
  },
  {
   "cell_type": "markdown",
   "metadata": {},
   "source": [
    "Try experimenting with the format argument and re-execute the cell above.\n",
    "\n",
    "There are many other possibilities for controlling tick formatting, including the possibility of supplying a JavaScript snippet to perform arbitrary formatting in the browser. See the [Tick Label Formats](http://bokeh.pydata.org/en/latest/docs/user_guide/styling.html#tick-label-formats) for more details.  \n",
    "\n",
    "\n",
    "It is also possible to customize *where* ticks will be drawn. See the [Tick Locations](http://bokeh.pydata.org/en/latest/docs/user_guide/styling.html#tick-locations) section of the User's Guide for more information."
   ]
  },
  {
   "cell_type": "markdown",
   "metadata": {},
   "source": [
    "# Grids\n",
    "\n",
    "It is also possible to control the [styling of Grids](http://bokeh.pydata.org/en/latest/docs/user_guide/styling.html#grids)\n",
    "\n",
    "Grids properties in Bokeh have two possible prefixes:\n",
    "\n",
    "* **grid** properties (which are [line properties](http://bokeh.pydata.org/en/latest/docs/user_guide/styling.html#line-properties)) control the \"grid lines\"\n",
    "* **band** properties (which are [fill properties](http://bokeh.pydata.org/en/latest/docs/user_guide/styling.html#fill-properties)) control shaded bands between grid lines\n",
    "\n",
    "In this first example we turn off the vertical grid lines (by setting the line color to None) and set the horizontal grid to be light and dashed."
   ]
  },
  {
   "cell_type": "code",
   "execution_count": 15,
   "metadata": {},
   "outputs": [
    {
     "data": {
      "text/html": [
       "\n",
       "\n",
       "\n",
       "\n",
       "\n",
       "\n",
       "  <div class=\"bk-root\" id=\"e8db4743-2835-4ac2-8e2a-ab095f4e5d56\"></div>\n"
      ]
     },
     "metadata": {},
     "output_type": "display_data"
    },
    {
     "data": {
      "application/javascript": [
       "(function(root) {\n",
       "  function embed_document(root) {\n",
       "    \n",
       "  var docs_json = {\"2c7071a4-d93b-4076-ab36-e72ae14eef05\":{\"roots\":{\"references\":[{\"attributes\":{},\"id\":\"1d31b1b3-d6d4-45d6-8766-8b8a8c5b0cc5\",\"type\":\"BasicTicker\"},{\"attributes\":{},\"id\":\"a3b7edec-2dfc-4072-9a58-1d752893d995\",\"type\":\"LinearScale\"},{\"attributes\":{\"formatter\":{\"id\":\"2127cc8b-b8d5-4f0b-8881-f4c968017756\",\"type\":\"BasicTickFormatter\"},\"plot\":{\"id\":\"1feb7f67-cee7-4ff1-a681-ee7f3359a64e\",\"subtype\":\"Figure\",\"type\":\"Plot\"},\"ticker\":{\"id\":\"336ab40f-ceef-4c5b-ae5a-065b26f2e741\",\"type\":\"BasicTicker\"}},\"id\":\"e344f92b-ac70-4bad-8a8f-45b85b898a4d\",\"type\":\"LinearAxis\"},{\"attributes\":{\"source\":{\"id\":\"b166177d-0f50-4a58-8a1f-0a3d49a9486b\",\"type\":\"ColumnDataSource\"}},\"id\":\"55004c3d-81a6-495e-838c-9389c3116aeb\",\"type\":\"CDSView\"},{\"attributes\":{\"grid_line_color\":{\"value\":null},\"plot\":{\"id\":\"1feb7f67-cee7-4ff1-a681-ee7f3359a64e\",\"subtype\":\"Figure\",\"type\":\"Plot\"},\"ticker\":{\"id\":\"336ab40f-ceef-4c5b-ae5a-065b26f2e741\",\"type\":\"BasicTicker\"}},\"id\":\"d24a6666-0ad6-4b54-8226-96a4f6258882\",\"type\":\"Grid\"},{\"attributes\":{\"formatter\":{\"id\":\"e878d5f4-0dd6-4697-9015-647cf1985244\",\"type\":\"BasicTickFormatter\"},\"plot\":{\"id\":\"1feb7f67-cee7-4ff1-a681-ee7f3359a64e\",\"subtype\":\"Figure\",\"type\":\"Plot\"},\"ticker\":{\"id\":\"1d31b1b3-d6d4-45d6-8766-8b8a8c5b0cc5\",\"type\":\"BasicTicker\"}},\"id\":\"48a7a7e6-e713-467c-9d00-c2a13df58e39\",\"type\":\"LinearAxis\"},{\"attributes\":{\"callback\":null},\"id\":\"8eb639ae-c7fc-4bbd-ac95-9aee6bccf910\",\"type\":\"DataRange1d\"},{\"attributes\":{},\"id\":\"336ab40f-ceef-4c5b-ae5a-065b26f2e741\",\"type\":\"BasicTicker\"},{\"attributes\":{\"overlay\":{\"id\":\"4756d4bf-2f51-453c-8ff3-2f05e63871db\",\"type\":\"BoxAnnotation\"}},\"id\":\"0122a31f-67dd-4e4c-bf2f-a1711c9644f3\",\"type\":\"BoxZoomTool\"},{\"attributes\":{\"fill_alpha\":{\"value\":0.1},\"fill_color\":{\"value\":\"#1f77b4\"},\"line_alpha\":{\"value\":0.1},\"line_color\":{\"value\":\"#1f77b4\"},\"size\":{\"units\":\"screen\",\"value\":10},\"x\":{\"field\":\"x\"},\"y\":{\"field\":\"y\"}},\"id\":\"d126b117-479c-40cb-8ae5-2d741ef09673\",\"type\":\"Circle\"},{\"attributes\":{},\"id\":\"2127cc8b-b8d5-4f0b-8881-f4c968017756\",\"type\":\"BasicTickFormatter\"},{\"attributes\":{},\"id\":\"2ae5063f-af72-4c2d-8c27-b19e83201ab9\",\"type\":\"LinearScale\"},{\"attributes\":{},\"id\":\"e2ff1775-0b4a-49a5-8636-ca5d2b3f7601\",\"type\":\"HelpTool\"},{\"attributes\":{\"callback\":null},\"id\":\"57331c76-415d-4368-82a2-df723107187f\",\"type\":\"DataRange1d\"},{\"attributes\":{},\"id\":\"c84b2e30-9517-44d0-b0a7-6fa3ff6b0456\",\"type\":\"ResetTool\"},{\"attributes\":{},\"id\":\"4b78b54e-be96-488e-b359-f85dc7924b92\",\"type\":\"SaveTool\"},{\"attributes\":{},\"id\":\"ab117e9b-b4f0-48e9-b793-be0bafecce76\",\"type\":\"PanTool\"},{\"attributes\":{},\"id\":\"c4decb7e-bd45-4a41-96b2-dd0fbc127ced\",\"type\":\"WheelZoomTool\"},{\"attributes\":{},\"id\":\"2121dbb1-7ae7-4b8c-ab0f-3c09206b463e\",\"type\":\"UnionRenderers\"},{\"attributes\":{\"plot\":null,\"text\":\"\"},\"id\":\"1a81fe57-26ca-4f07-b73f-2e1066aa4319\",\"type\":\"Title\"},{\"attributes\":{},\"id\":\"56b4dc94-295a-451d-957c-06d1157890df\",\"type\":\"Selection\"},{\"attributes\":{\"bottom_units\":\"screen\",\"fill_alpha\":{\"value\":0.5},\"fill_color\":{\"value\":\"lightgrey\"},\"left_units\":\"screen\",\"level\":\"overlay\",\"line_alpha\":{\"value\":1.0},\"line_color\":{\"value\":\"black\"},\"line_dash\":[4,4],\"line_width\":{\"value\":2},\"plot\":null,\"render_mode\":\"css\",\"right_units\":\"screen\",\"top_units\":\"screen\"},\"id\":\"4756d4bf-2f51-453c-8ff3-2f05e63871db\",\"type\":\"BoxAnnotation\"},{\"attributes\":{},\"id\":\"e878d5f4-0dd6-4697-9015-647cf1985244\",\"type\":\"BasicTickFormatter\"},{\"attributes\":{\"dimension\":1,\"grid_line_alpha\":{\"value\":0.5},\"grid_line_dash\":[6,4],\"plot\":{\"id\":\"1feb7f67-cee7-4ff1-a681-ee7f3359a64e\",\"subtype\":\"Figure\",\"type\":\"Plot\"},\"ticker\":{\"id\":\"1d31b1b3-d6d4-45d6-8766-8b8a8c5b0cc5\",\"type\":\"BasicTicker\"}},\"id\":\"964dc0c1-2d7b-41b1-86ee-ef3ab9b9e2f2\",\"type\":\"Grid\"},{\"attributes\":{\"callback\":null,\"data\":{\"x\":[1,2,3,4,5],\"y\":[2,5,8,2,7]},\"selected\":{\"id\":\"56b4dc94-295a-451d-957c-06d1157890df\",\"type\":\"Selection\"},\"selection_policy\":{\"id\":\"2121dbb1-7ae7-4b8c-ab0f-3c09206b463e\",\"type\":\"UnionRenderers\"}},\"id\":\"b166177d-0f50-4a58-8a1f-0a3d49a9486b\",\"type\":\"ColumnDataSource\"},{\"attributes\":{\"below\":[{\"id\":\"e344f92b-ac70-4bad-8a8f-45b85b898a4d\",\"type\":\"LinearAxis\"}],\"left\":[{\"id\":\"48a7a7e6-e713-467c-9d00-c2a13df58e39\",\"type\":\"LinearAxis\"}],\"plot_height\":400,\"plot_width\":400,\"renderers\":[{\"id\":\"e344f92b-ac70-4bad-8a8f-45b85b898a4d\",\"type\":\"LinearAxis\"},{\"id\":\"d24a6666-0ad6-4b54-8226-96a4f6258882\",\"type\":\"Grid\"},{\"id\":\"48a7a7e6-e713-467c-9d00-c2a13df58e39\",\"type\":\"LinearAxis\"},{\"id\":\"964dc0c1-2d7b-41b1-86ee-ef3ab9b9e2f2\",\"type\":\"Grid\"},{\"id\":\"4756d4bf-2f51-453c-8ff3-2f05e63871db\",\"type\":\"BoxAnnotation\"},{\"id\":\"84a3e26d-594d-4b3c-a333-e574c5a630d2\",\"type\":\"GlyphRenderer\"}],\"title\":{\"id\":\"1a81fe57-26ca-4f07-b73f-2e1066aa4319\",\"type\":\"Title\"},\"toolbar\":{\"id\":\"3695b8d3-24e7-49f7-ba6a-d63c10d4f09d\",\"type\":\"Toolbar\"},\"x_range\":{\"id\":\"57331c76-415d-4368-82a2-df723107187f\",\"type\":\"DataRange1d\"},\"x_scale\":{\"id\":\"2ae5063f-af72-4c2d-8c27-b19e83201ab9\",\"type\":\"LinearScale\"},\"y_range\":{\"id\":\"8eb639ae-c7fc-4bbd-ac95-9aee6bccf910\",\"type\":\"DataRange1d\"},\"y_scale\":{\"id\":\"a3b7edec-2dfc-4072-9a58-1d752893d995\",\"type\":\"LinearScale\"}},\"id\":\"1feb7f67-cee7-4ff1-a681-ee7f3359a64e\",\"subtype\":\"Figure\",\"type\":\"Plot\"},{\"attributes\":{\"fill_color\":{\"value\":\"#1f77b4\"},\"line_color\":{\"value\":\"#1f77b4\"},\"size\":{\"units\":\"screen\",\"value\":10},\"x\":{\"field\":\"x\"},\"y\":{\"field\":\"y\"}},\"id\":\"507474c1-8046-4b33-beb5-1793b574abf2\",\"type\":\"Circle\"},{\"attributes\":{\"active_drag\":\"auto\",\"active_inspect\":\"auto\",\"active_multi\":null,\"active_scroll\":\"auto\",\"active_tap\":\"auto\",\"tools\":[{\"id\":\"ab117e9b-b4f0-48e9-b793-be0bafecce76\",\"type\":\"PanTool\"},{\"id\":\"c4decb7e-bd45-4a41-96b2-dd0fbc127ced\",\"type\":\"WheelZoomTool\"},{\"id\":\"0122a31f-67dd-4e4c-bf2f-a1711c9644f3\",\"type\":\"BoxZoomTool\"},{\"id\":\"4b78b54e-be96-488e-b359-f85dc7924b92\",\"type\":\"SaveTool\"},{\"id\":\"c84b2e30-9517-44d0-b0a7-6fa3ff6b0456\",\"type\":\"ResetTool\"},{\"id\":\"e2ff1775-0b4a-49a5-8636-ca5d2b3f7601\",\"type\":\"HelpTool\"}]},\"id\":\"3695b8d3-24e7-49f7-ba6a-d63c10d4f09d\",\"type\":\"Toolbar\"},{\"attributes\":{\"data_source\":{\"id\":\"b166177d-0f50-4a58-8a1f-0a3d49a9486b\",\"type\":\"ColumnDataSource\"},\"glyph\":{\"id\":\"507474c1-8046-4b33-beb5-1793b574abf2\",\"type\":\"Circle\"},\"hover_glyph\":null,\"muted_glyph\":null,\"nonselection_glyph\":{\"id\":\"d126b117-479c-40cb-8ae5-2d741ef09673\",\"type\":\"Circle\"},\"selection_glyph\":null,\"view\":{\"id\":\"55004c3d-81a6-495e-838c-9389c3116aeb\",\"type\":\"CDSView\"}},\"id\":\"84a3e26d-594d-4b3c-a333-e574c5a630d2\",\"type\":\"GlyphRenderer\"}],\"root_ids\":[\"1feb7f67-cee7-4ff1-a681-ee7f3359a64e\"]},\"title\":\"Bokeh Application\",\"version\":\"0.13.0\"}};\n",
       "  var render_items = [{\"docid\":\"2c7071a4-d93b-4076-ab36-e72ae14eef05\",\"roots\":{\"1feb7f67-cee7-4ff1-a681-ee7f3359a64e\":\"e8db4743-2835-4ac2-8e2a-ab095f4e5d56\"}}];\n",
       "  root.Bokeh.embed.embed_items_notebook(docs_json, render_items);\n",
       "\n",
       "  }\n",
       "  if (root.Bokeh !== undefined) {\n",
       "    embed_document(root);\n",
       "  } else {\n",
       "    var attempts = 0;\n",
       "    var timer = setInterval(function(root) {\n",
       "      if (root.Bokeh !== undefined) {\n",
       "        embed_document(root);\n",
       "        clearInterval(timer);\n",
       "      }\n",
       "      attempts++;\n",
       "      if (attempts > 100) {\n",
       "        console.log(\"Bokeh: ERROR: Unable to run BokehJS code because BokehJS library is missing\")\n",
       "        clearInterval(timer);\n",
       "      }\n",
       "    }, 10, root)\n",
       "  }\n",
       "})(window);"
      ],
      "application/vnd.bokehjs_exec.v0+json": ""
     },
     "metadata": {
      "application/vnd.bokehjs_exec.v0+json": {
       "id": "1feb7f67-cee7-4ff1-a681-ee7f3359a64e"
      }
     },
     "output_type": "display_data"
    }
   ],
   "source": [
    "p = figure(plot_width=400, plot_height=400)\n",
    "p.circle([1,2,3,4,5], [2,5,8,2,7], size=10)\n",
    "\n",
    "# change just some things about the x-grid\n",
    "p.xgrid.grid_line_color = None\n",
    "\n",
    "# change just some things about the y-grid\n",
    "p.ygrid.grid_line_alpha = 0.5\n",
    "p.ygrid.grid_line_dash = [6, 4]\n",
    "\n",
    "show(p)"
   ]
  },
  {
   "cell_type": "markdown",
   "metadata": {},
   "source": [
    "The next example shows how the \"band\" properties of a plot can be specified"
   ]
  },
  {
   "cell_type": "code",
   "execution_count": 16,
   "metadata": {},
   "outputs": [
    {
     "data": {
      "text/html": [
       "\n",
       "\n",
       "\n",
       "\n",
       "\n",
       "\n",
       "  <div class=\"bk-root\" id=\"09484404-377a-470e-94c3-083498fe7803\"></div>\n"
      ]
     },
     "metadata": {},
     "output_type": "display_data"
    },
    {
     "data": {
      "application/javascript": [
       "(function(root) {\n",
       "  function embed_document(root) {\n",
       "    \n",
       "  var docs_json = {\"0d75d633-0791-4c1a-956a-b487264deed5\":{\"roots\":{\"references\":[{\"attributes\":{\"fill_alpha\":{\"value\":0.1},\"fill_color\":{\"value\":\"#1f77b4\"},\"line_alpha\":{\"value\":0.1},\"line_color\":{\"value\":\"#1f77b4\"},\"size\":{\"units\":\"screen\",\"value\":10},\"x\":{\"field\":\"x\"},\"y\":{\"field\":\"y\"}},\"id\":\"c03767ea-24aa-4e99-aac6-e61ee1f8cd49\",\"type\":\"Circle\"},{\"attributes\":{},\"id\":\"fe36e26f-7fdf-4e72-a1c9-3aeb8220786c\",\"type\":\"BasicTicker\"},{\"attributes\":{\"bottom_units\":\"screen\",\"fill_alpha\":{\"value\":0.5},\"fill_color\":{\"value\":\"lightgrey\"},\"left_units\":\"screen\",\"level\":\"overlay\",\"line_alpha\":{\"value\":1.0},\"line_color\":{\"value\":\"black\"},\"line_dash\":[4,4],\"line_width\":{\"value\":2},\"plot\":null,\"render_mode\":\"css\",\"right_units\":\"screen\",\"top_units\":\"screen\"},\"id\":\"567070dd-1351-46e0-891b-e5252aed221a\",\"type\":\"BoxAnnotation\"},{\"attributes\":{\"fill_color\":{\"value\":\"#1f77b4\"},\"line_color\":{\"value\":\"#1f77b4\"},\"size\":{\"units\":\"screen\",\"value\":10},\"x\":{\"field\":\"x\"},\"y\":{\"field\":\"y\"}},\"id\":\"a446735e-d62e-45ea-8cae-8b0e865971da\",\"type\":\"Circle\"},{\"attributes\":{\"grid_line_color\":{\"value\":null},\"plot\":{\"id\":\"71ddda13-8b9c-4ae7-9af9-797b1efc49ba\",\"subtype\":\"Figure\",\"type\":\"Plot\"},\"ticker\":{\"id\":\"86e2bbb8-980d-4302-a4a4-241a778cd4b5\",\"type\":\"BasicTicker\"}},\"id\":\"c5251383-7fb0-4f1f-af0a-466ccda66432\",\"type\":\"Grid\"},{\"attributes\":{\"data_source\":{\"id\":\"9893066d-643c-460a-8385-45af6872c3e7\",\"type\":\"ColumnDataSource\"},\"glyph\":{\"id\":\"a446735e-d62e-45ea-8cae-8b0e865971da\",\"type\":\"Circle\"},\"hover_glyph\":null,\"muted_glyph\":null,\"nonselection_glyph\":{\"id\":\"c03767ea-24aa-4e99-aac6-e61ee1f8cd49\",\"type\":\"Circle\"},\"selection_glyph\":null,\"view\":{\"id\":\"bc6f6c1a-e46a-4fec-86b3-1e0896f52077\",\"type\":\"CDSView\"}},\"id\":\"f08b4c16-0933-45c8-8ba3-6035bc8331b2\",\"type\":\"GlyphRenderer\"},{\"attributes\":{\"overlay\":{\"id\":\"567070dd-1351-46e0-891b-e5252aed221a\",\"type\":\"BoxAnnotation\"}},\"id\":\"b46cf25f-255f-4427-a693-ad472024ead1\",\"type\":\"BoxZoomTool\"},{\"attributes\":{},\"id\":\"d6fbd666-41ba-4dc1-b631-6a3797bcb4b7\",\"type\":\"HelpTool\"},{\"attributes\":{},\"id\":\"3a4644f8-c8c0-4841-a6c2-c5f8965ce4a3\",\"type\":\"ResetTool\"},{\"attributes\":{},\"id\":\"22f6bcdb-4e9c-470a-b043-5928d99aac91\",\"type\":\"SaveTool\"},{\"attributes\":{\"formatter\":{\"id\":\"8289c4a0-d233-4c0e-8454-dcd04d2359f8\",\"type\":\"BasicTickFormatter\"},\"plot\":{\"id\":\"71ddda13-8b9c-4ae7-9af9-797b1efc49ba\",\"subtype\":\"Figure\",\"type\":\"Plot\"},\"ticker\":{\"id\":\"86e2bbb8-980d-4302-a4a4-241a778cd4b5\",\"type\":\"BasicTicker\"}},\"id\":\"fe3f2aa1-3559-4e20-a238-d164873177ba\",\"type\":\"LinearAxis\"},{\"attributes\":{\"below\":[{\"id\":\"fe3f2aa1-3559-4e20-a238-d164873177ba\",\"type\":\"LinearAxis\"}],\"left\":[{\"id\":\"b20a0597-bce1-4594-97fb-b01d92ef5dcc\",\"type\":\"LinearAxis\"}],\"plot_height\":400,\"plot_width\":400,\"renderers\":[{\"id\":\"fe3f2aa1-3559-4e20-a238-d164873177ba\",\"type\":\"LinearAxis\"},{\"id\":\"c5251383-7fb0-4f1f-af0a-466ccda66432\",\"type\":\"Grid\"},{\"id\":\"b20a0597-bce1-4594-97fb-b01d92ef5dcc\",\"type\":\"LinearAxis\"},{\"id\":\"b6bf19c1-ee2c-4ce5-98bf-37ee47d64800\",\"type\":\"Grid\"},{\"id\":\"567070dd-1351-46e0-891b-e5252aed221a\",\"type\":\"BoxAnnotation\"},{\"id\":\"f08b4c16-0933-45c8-8ba3-6035bc8331b2\",\"type\":\"GlyphRenderer\"}],\"title\":{\"id\":\"1a8d1ad7-f287-4bae-bea4-1d8bea39b20f\",\"type\":\"Title\"},\"toolbar\":{\"id\":\"50715af1-963e-4829-9ac1-165152c5f61e\",\"type\":\"Toolbar\"},\"x_range\":{\"id\":\"ef22ee6f-1365-4669-8ee9-f4c29dda3ddb\",\"type\":\"DataRange1d\"},\"x_scale\":{\"id\":\"70c44037-c0c2-43b9-a0a4-5fb446b04d59\",\"type\":\"LinearScale\"},\"y_range\":{\"id\":\"969ee8c1-e782-4d8a-850b-3dd9e8feac4f\",\"type\":\"DataRange1d\"},\"y_scale\":{\"id\":\"5d24dbf0-5bf5-4482-9b07-45a446fa29ca\",\"type\":\"LinearScale\"}},\"id\":\"71ddda13-8b9c-4ae7-9af9-797b1efc49ba\",\"subtype\":\"Figure\",\"type\":\"Plot\"},{\"attributes\":{},\"id\":\"11bb653d-cd99-4523-98cc-2dce71a41336\",\"type\":\"WheelZoomTool\"},{\"attributes\":{},\"id\":\"c68ba4d4-2ccb-42fa-9c13-2c249f071e87\",\"type\":\"PanTool\"},{\"attributes\":{\"callback\":null,\"data\":{\"x\":[1,2,3,4,5],\"y\":[2,5,8,2,7]},\"selected\":{\"id\":\"9c00eacf-1010-4ea7-aa57-d6ec171d9a5c\",\"type\":\"Selection\"},\"selection_policy\":{\"id\":\"8a6d44e3-ccae-4fd6-b522-b18daa8706a4\",\"type\":\"UnionRenderers\"}},\"id\":\"9893066d-643c-460a-8385-45af6872c3e7\",\"type\":\"ColumnDataSource\"},{\"attributes\":{},\"id\":\"8d21f50d-a94f-4118-bad4-dd2c2af4bc8f\",\"type\":\"BasicTickFormatter\"},{\"attributes\":{},\"id\":\"5d24dbf0-5bf5-4482-9b07-45a446fa29ca\",\"type\":\"LinearScale\"},{\"attributes\":{\"formatter\":{\"id\":\"8d21f50d-a94f-4118-bad4-dd2c2af4bc8f\",\"type\":\"BasicTickFormatter\"},\"plot\":{\"id\":\"71ddda13-8b9c-4ae7-9af9-797b1efc49ba\",\"subtype\":\"Figure\",\"type\":\"Plot\"},\"ticker\":{\"id\":\"fe36e26f-7fdf-4e72-a1c9-3aeb8220786c\",\"type\":\"BasicTicker\"}},\"id\":\"b20a0597-bce1-4594-97fb-b01d92ef5dcc\",\"type\":\"LinearAxis\"},{\"attributes\":{\"band_fill_alpha\":{\"value\":0.1},\"band_fill_color\":{\"value\":\"navy\"},\"dimension\":1,\"plot\":{\"id\":\"71ddda13-8b9c-4ae7-9af9-797b1efc49ba\",\"subtype\":\"Figure\",\"type\":\"Plot\"},\"ticker\":{\"id\":\"fe36e26f-7fdf-4e72-a1c9-3aeb8220786c\",\"type\":\"BasicTicker\"}},\"id\":\"b6bf19c1-ee2c-4ce5-98bf-37ee47d64800\",\"type\":\"Grid\"},{\"attributes\":{\"callback\":null},\"id\":\"ef22ee6f-1365-4669-8ee9-f4c29dda3ddb\",\"type\":\"DataRange1d\"},{\"attributes\":{},\"id\":\"8289c4a0-d233-4c0e-8454-dcd04d2359f8\",\"type\":\"BasicTickFormatter\"},{\"attributes\":{\"source\":{\"id\":\"9893066d-643c-460a-8385-45af6872c3e7\",\"type\":\"ColumnDataSource\"}},\"id\":\"bc6f6c1a-e46a-4fec-86b3-1e0896f52077\",\"type\":\"CDSView\"},{\"attributes\":{},\"id\":\"8a6d44e3-ccae-4fd6-b522-b18daa8706a4\",\"type\":\"UnionRenderers\"},{\"attributes\":{},\"id\":\"70c44037-c0c2-43b9-a0a4-5fb446b04d59\",\"type\":\"LinearScale\"},{\"attributes\":{\"active_drag\":\"auto\",\"active_inspect\":\"auto\",\"active_multi\":null,\"active_scroll\":\"auto\",\"active_tap\":\"auto\",\"tools\":[{\"id\":\"c68ba4d4-2ccb-42fa-9c13-2c249f071e87\",\"type\":\"PanTool\"},{\"id\":\"11bb653d-cd99-4523-98cc-2dce71a41336\",\"type\":\"WheelZoomTool\"},{\"id\":\"b46cf25f-255f-4427-a693-ad472024ead1\",\"type\":\"BoxZoomTool\"},{\"id\":\"22f6bcdb-4e9c-470a-b043-5928d99aac91\",\"type\":\"SaveTool\"},{\"id\":\"3a4644f8-c8c0-4841-a6c2-c5f8965ce4a3\",\"type\":\"ResetTool\"},{\"id\":\"d6fbd666-41ba-4dc1-b631-6a3797bcb4b7\",\"type\":\"HelpTool\"}]},\"id\":\"50715af1-963e-4829-9ac1-165152c5f61e\",\"type\":\"Toolbar\"},{\"attributes\":{\"callback\":null},\"id\":\"969ee8c1-e782-4d8a-850b-3dd9e8feac4f\",\"type\":\"DataRange1d\"},{\"attributes\":{},\"id\":\"9c00eacf-1010-4ea7-aa57-d6ec171d9a5c\",\"type\":\"Selection\"},{\"attributes\":{\"plot\":null,\"text\":\"\"},\"id\":\"1a8d1ad7-f287-4bae-bea4-1d8bea39b20f\",\"type\":\"Title\"},{\"attributes\":{},\"id\":\"86e2bbb8-980d-4302-a4a4-241a778cd4b5\",\"type\":\"BasicTicker\"}],\"root_ids\":[\"71ddda13-8b9c-4ae7-9af9-797b1efc49ba\"]},\"title\":\"Bokeh Application\",\"version\":\"0.13.0\"}};\n",
       "  var render_items = [{\"docid\":\"0d75d633-0791-4c1a-956a-b487264deed5\",\"roots\":{\"71ddda13-8b9c-4ae7-9af9-797b1efc49ba\":\"09484404-377a-470e-94c3-083498fe7803\"}}];\n",
       "  root.Bokeh.embed.embed_items_notebook(docs_json, render_items);\n",
       "\n",
       "  }\n",
       "  if (root.Bokeh !== undefined) {\n",
       "    embed_document(root);\n",
       "  } else {\n",
       "    var attempts = 0;\n",
       "    var timer = setInterval(function(root) {\n",
       "      if (root.Bokeh !== undefined) {\n",
       "        embed_document(root);\n",
       "        clearInterval(timer);\n",
       "      }\n",
       "      attempts++;\n",
       "      if (attempts > 100) {\n",
       "        console.log(\"Bokeh: ERROR: Unable to run BokehJS code because BokehJS library is missing\")\n",
       "        clearInterval(timer);\n",
       "      }\n",
       "    }, 10, root)\n",
       "  }\n",
       "})(window);"
      ],
      "application/vnd.bokehjs_exec.v0+json": ""
     },
     "metadata": {
      "application/vnd.bokehjs_exec.v0+json": {
       "id": "71ddda13-8b9c-4ae7-9af9-797b1efc49ba"
      }
     },
     "output_type": "display_data"
    }
   ],
   "source": [
    "p = figure(plot_width=400, plot_height=400)\n",
    "p.circle([1,2,3,4,5], [2,5,8,2,7], size=10)\n",
    "\n",
    "# change just some things about the x-grid\n",
    "p.xgrid.grid_line_color = None\n",
    "\n",
    "# change just some things about the y-grid\n",
    "p.ygrid.band_fill_alpha = 0.1\n",
    "p.ygrid.band_fill_color = \"navy\"\n",
    "\n",
    "show(p)"
   ]
  },
  {
   "cell_type": "code",
   "execution_count": 17,
   "metadata": {},
   "outputs": [],
   "source": [
    "# EXERCISE Create a plot of your own and customize several grid properties\n"
   ]
  },
  {
   "cell_type": "code",
   "execution_count": null,
   "metadata": {},
   "outputs": [],
   "source": []
  },
  {
   "cell_type": "code",
   "execution_count": null,
   "metadata": {},
   "outputs": [],
   "source": []
  },
  {
   "cell_type": "code",
   "execution_count": null,
   "metadata": {},
   "outputs": [],
   "source": []
  },
  {
   "cell_type": "code",
   "execution_count": null,
   "metadata": {},
   "outputs": [],
   "source": []
  },
  {
   "cell_type": "markdown",
   "metadata": {},
   "source": [
    "Glyph renderers, axes, grids, and annotations all have a visible property that can be used to turn them on and off."
   ]
  },
  {
   "cell_type": "code",
   "execution_count": 4,
   "metadata": {},
   "outputs": [
    {
     "data": {
      "text/html": [
       "\n",
       "\n",
       "\n",
       "\n",
       "\n",
       "\n",
       "  <div class=\"bk-root\" id=\"660c443d-219e-483d-9923-25f4ddd522ea\"></div>\n"
      ]
     },
     "metadata": {},
     "output_type": "display_data"
    },
    {
     "data": {
      "application/javascript": [
       "(function(root) {\n",
       "  function embed_document(root) {\n",
       "    \n",
       "  var docs_json = {\"8a6acd3e-a319-4e89-92ea-01804fa23cdb\":{\"roots\":{\"references\":[{\"attributes\":{\"formatter\":{\"id\":\"769a5858-fcf0-46b6-baa1-54f1d95da608\",\"type\":\"BasicTickFormatter\"},\"plot\":{\"id\":\"6834d175-2f48-4e31-b00d-9646d9a4391e\",\"subtype\":\"Figure\",\"type\":\"Plot\"},\"ticker\":{\"id\":\"40bbd10d-3e25-4363-b69e-cca0f9bdfc18\",\"type\":\"BasicTicker\"}},\"id\":\"a5237808-d92f-4e6f-8304-779dd8a1c7ac\",\"type\":\"LinearAxis\"},{\"attributes\":{\"plot\":{\"id\":\"6834d175-2f48-4e31-b00d-9646d9a4391e\",\"subtype\":\"Figure\",\"type\":\"Plot\"},\"ticker\":{\"id\":\"3b310070-bac4-46f9-bf91-291e9b6a132a\",\"type\":\"BasicTicker\"},\"visible\":false},\"id\":\"fba27aa1-a3d5-44e5-b393-992c7b920bb6\",\"type\":\"Grid\"},{\"attributes\":{\"callback\":null,\"data\":{\"x\":[1,2,3],\"y\":[1,2,1]},\"selected\":{\"id\":\"d290cb75-0e7b-4d22-b61e-504199d024d7\",\"type\":\"Selection\"},\"selection_policy\":{\"id\":\"0dc1a2c2-a86c-4da9-94c7-c66eedf525bb\",\"type\":\"UnionRenderers\"}},\"id\":\"6c31565a-cf21-45df-a59f-6d0f108d12eb\",\"type\":\"ColumnDataSource\"},{\"attributes\":{\"plot\":null,\"text\":\"\"},\"id\":\"e4e48222-489a-4ed4-a5b2-22258d680709\",\"type\":\"Title\"},{\"attributes\":{\"line_alpha\":0.1,\"line_color\":\"#1f77b4\",\"x\":{\"field\":\"x\"},\"y\":{\"field\":\"y\"}},\"id\":\"b77584fd-6234-478b-ac33-a0c8f1d2fc5f\",\"type\":\"Line\"},{\"attributes\":{},\"id\":\"769a5858-fcf0-46b6-baa1-54f1d95da608\",\"type\":\"BasicTickFormatter\"},{\"attributes\":{\"callback\":null},\"id\":\"05630c1a-1997-499a-8f48-8da3f995e872\",\"type\":\"DataRange1d\"},{\"attributes\":{\"active_drag\":\"auto\",\"active_inspect\":\"auto\",\"active_multi\":null,\"active_scroll\":\"auto\",\"active_tap\":\"auto\"},\"id\":\"ac906685-7f75-4df0-8f30-7d5f93b234a0\",\"type\":\"Toolbar\"},{\"attributes\":{},\"id\":\"3b310070-bac4-46f9-bf91-291e9b6a132a\",\"type\":\"BasicTicker\"},{\"attributes\":{\"source\":{\"id\":\"6c31565a-cf21-45df-a59f-6d0f108d12eb\",\"type\":\"ColumnDataSource\"}},\"id\":\"f997478f-45e8-4f1c-b32f-72c9ee8c627a\",\"type\":\"CDSView\"},{\"attributes\":{},\"id\":\"b9aec33a-55d0-474c-87f0-bcf2adce3ff4\",\"type\":\"LinearScale\"},{\"attributes\":{\"source\":{\"id\":\"16cc5ef7-ec25-4009-ace1-84cd7127e066\",\"type\":\"ColumnDataSource\"}},\"id\":\"57fcc904-6ff2-460e-881c-abc36a5e48fe\",\"type\":\"CDSView\"},{\"attributes\":{},\"id\":\"76a76ee7-28fc-471b-b63e-dc9a9aff63b4\",\"type\":\"UnionRenderers\"},{\"attributes\":{\"dimension\":1,\"plot\":{\"id\":\"6834d175-2f48-4e31-b00d-9646d9a4391e\",\"subtype\":\"Figure\",\"type\":\"Plot\"},\"ticker\":{\"id\":\"40bbd10d-3e25-4363-b69e-cca0f9bdfc18\",\"type\":\"BasicTicker\"}},\"id\":\"ea80f43e-a81f-4601-8f13-9ffff8c70c7c\",\"type\":\"Grid\"},{\"attributes\":{\"callback\":null},\"id\":\"1f14c3a1-24a7-4013-9bac-db027e2e9224\",\"type\":\"DataRange1d\"},{\"attributes\":{\"below\":[{\"id\":\"cfbf1db4-870e-4f8c-a3d0-5e18da94e052\",\"type\":\"LinearAxis\"}],\"left\":[{\"id\":\"a5237808-d92f-4e6f-8304-779dd8a1c7ac\",\"type\":\"LinearAxis\"}],\"plot_height\":200,\"plot_width\":500,\"renderers\":[{\"id\":\"cfbf1db4-870e-4f8c-a3d0-5e18da94e052\",\"type\":\"LinearAxis\"},{\"id\":\"fba27aa1-a3d5-44e5-b393-992c7b920bb6\",\"type\":\"Grid\"},{\"id\":\"a5237808-d92f-4e6f-8304-779dd8a1c7ac\",\"type\":\"LinearAxis\"},{\"id\":\"ea80f43e-a81f-4601-8f13-9ffff8c70c7c\",\"type\":\"Grid\"},{\"id\":\"df5685c9-a114-47d0-9e2f-aa8e0d71611d\",\"type\":\"GlyphRenderer\"},{\"id\":\"ae37278d-e3fb-45ca-8930-c63246b56d5e\",\"type\":\"GlyphRenderer\"}],\"title\":{\"id\":\"e4e48222-489a-4ed4-a5b2-22258d680709\",\"type\":\"Title\"},\"toolbar\":{\"id\":\"ac906685-7f75-4df0-8f30-7d5f93b234a0\",\"type\":\"Toolbar\"},\"x_range\":{\"id\":\"05630c1a-1997-499a-8f48-8da3f995e872\",\"type\":\"DataRange1d\"},\"x_scale\":{\"id\":\"b9aec33a-55d0-474c-87f0-bcf2adce3ff4\",\"type\":\"LinearScale\"},\"y_range\":{\"id\":\"1f14c3a1-24a7-4013-9bac-db027e2e9224\",\"type\":\"DataRange1d\"},\"y_scale\":{\"id\":\"50ae869f-949b-43a7-a057-3f43e2632853\",\"type\":\"LinearScale\"}},\"id\":\"6834d175-2f48-4e31-b00d-9646d9a4391e\",\"subtype\":\"Figure\",\"type\":\"Plot\"},{\"attributes\":{\"line_color\":\"pink\",\"x\":{\"field\":\"x\"},\"y\":{\"field\":\"y\"}},\"id\":\"092a3ddc-4a8d-4e26-90af-b17848310183\",\"type\":\"Line\"},{\"attributes\":{\"line_alpha\":0.1,\"line_color\":\"#1f77b4\",\"x\":{\"field\":\"x\"},\"y\":{\"field\":\"y\"}},\"id\":\"1f135d76-98f9-4f7e-972b-3eab86eac5ae\",\"type\":\"Line\"},{\"attributes\":{},\"id\":\"3383590d-8d87-4ade-9366-41046bed1f6a\",\"type\":\"BasicTickFormatter\"},{\"attributes\":{},\"id\":\"50ae869f-949b-43a7-a057-3f43e2632853\",\"type\":\"LinearScale\"},{\"attributes\":{},\"id\":\"40bbd10d-3e25-4363-b69e-cca0f9bdfc18\",\"type\":\"BasicTicker\"},{\"attributes\":{\"data_source\":{\"id\":\"6c31565a-cf21-45df-a59f-6d0f108d12eb\",\"type\":\"ColumnDataSource\"},\"glyph\":{\"id\":\"8ba919d8-9977-4d35-a56c-f03fc5538de2\",\"type\":\"Line\"},\"hover_glyph\":null,\"muted_glyph\":null,\"nonselection_glyph\":{\"id\":\"b77584fd-6234-478b-ac33-a0c8f1d2fc5f\",\"type\":\"Line\"},\"selection_glyph\":null,\"view\":{\"id\":\"f997478f-45e8-4f1c-b32f-72c9ee8c627a\",\"type\":\"CDSView\"}},\"id\":\"df5685c9-a114-47d0-9e2f-aa8e0d71611d\",\"type\":\"GlyphRenderer\"},{\"attributes\":{},\"id\":\"0dc1a2c2-a86c-4da9-94c7-c66eedf525bb\",\"type\":\"UnionRenderers\"},{\"attributes\":{\"data_source\":{\"id\":\"16cc5ef7-ec25-4009-ace1-84cd7127e066\",\"type\":\"ColumnDataSource\"},\"glyph\":{\"id\":\"092a3ddc-4a8d-4e26-90af-b17848310183\",\"type\":\"Line\"},\"hover_glyph\":null,\"muted_glyph\":null,\"nonselection_glyph\":{\"id\":\"1f135d76-98f9-4f7e-972b-3eab86eac5ae\",\"type\":\"Line\"},\"selection_glyph\":null,\"view\":{\"id\":\"57fcc904-6ff2-460e-881c-abc36a5e48fe\",\"type\":\"CDSView\"},\"visible\":false},\"id\":\"ae37278d-e3fb-45ca-8930-c63246b56d5e\",\"type\":\"GlyphRenderer\"},{\"attributes\":{\"line_color\":\"blue\",\"x\":{\"field\":\"x\"},\"y\":{\"field\":\"y\"}},\"id\":\"8ba919d8-9977-4d35-a56c-f03fc5538de2\",\"type\":\"Line\"},{\"attributes\":{},\"id\":\"d290cb75-0e7b-4d22-b61e-504199d024d7\",\"type\":\"Selection\"},{\"attributes\":{\"formatter\":{\"id\":\"3383590d-8d87-4ade-9366-41046bed1f6a\",\"type\":\"BasicTickFormatter\"},\"plot\":{\"id\":\"6834d175-2f48-4e31-b00d-9646d9a4391e\",\"subtype\":\"Figure\",\"type\":\"Plot\"},\"ticker\":{\"id\":\"3b310070-bac4-46f9-bf91-291e9b6a132a\",\"type\":\"BasicTicker\"},\"visible\":false},\"id\":\"cfbf1db4-870e-4f8c-a3d0-5e18da94e052\",\"type\":\"LinearAxis\"},{\"attributes\":{},\"id\":\"d83dda07-c4d5-4b67-b00b-56403463d611\",\"type\":\"Selection\"},{\"attributes\":{\"callback\":null,\"data\":{\"x\":[1,2,3],\"y\":[2,1,2]},\"selected\":{\"id\":\"d83dda07-c4d5-4b67-b00b-56403463d611\",\"type\":\"Selection\"},\"selection_policy\":{\"id\":\"76a76ee7-28fc-471b-b63e-dc9a9aff63b4\",\"type\":\"UnionRenderers\"}},\"id\":\"16cc5ef7-ec25-4009-ace1-84cd7127e066\",\"type\":\"ColumnDataSource\"}],\"root_ids\":[\"6834d175-2f48-4e31-b00d-9646d9a4391e\"]},\"title\":\"Bokeh Application\",\"version\":\"0.13.0\"}};\n",
       "  var render_items = [{\"docid\":\"8a6acd3e-a319-4e89-92ea-01804fa23cdb\",\"roots\":{\"6834d175-2f48-4e31-b00d-9646d9a4391e\":\"660c443d-219e-483d-9923-25f4ddd522ea\"}}];\n",
       "  root.Bokeh.embed.embed_items_notebook(docs_json, render_items);\n",
       "\n",
       "  }\n",
       "  if (root.Bokeh !== undefined) {\n",
       "    embed_document(root);\n",
       "  } else {\n",
       "    var attempts = 0;\n",
       "    var timer = setInterval(function(root) {\n",
       "      if (root.Bokeh !== undefined) {\n",
       "        embed_document(root);\n",
       "        clearInterval(timer);\n",
       "      }\n",
       "      attempts++;\n",
       "      if (attempts > 100) {\n",
       "        console.log(\"Bokeh: ERROR: Unable to run BokehJS code because BokehJS library is missing\")\n",
       "        clearInterval(timer);\n",
       "      }\n",
       "    }, 10, root)\n",
       "  }\n",
       "})(window);"
      ],
      "application/vnd.bokehjs_exec.v0+json": ""
     },
     "metadata": {
      "application/vnd.bokehjs_exec.v0+json": {
       "id": "6834d175-2f48-4e31-b00d-9646d9a4391e"
      }
     },
     "output_type": "display_data"
    }
   ],
   "source": [
    "from bokeh.io import output_file, show\n",
    "from bokeh.plotting import figure\n",
    "\n",
    "# We set-up a standard figure with two lines\n",
    "p = figure(plot_width=500, plot_height=200, tools='')\n",
    "visible_line = p.line([1, 2, 3], [1, 2, 1], line_color=\"blue\")\n",
    "invisible_line = p.line([1, 2, 3], [2, 1, 2], line_color=\"pink\")\n",
    "\n",
    "# We hide the xaxis, the xgrid lines, and the pink line\n",
    "invisible_line.visible = False\n",
    "p.xaxis.visible = False\n",
    "p.xgrid.visible = False\n",
    "\n",
    "#output_file(\"styling_visible_property.html\")\n",
    "\n",
    "show(p)"
   ]
  },
  {
   "cell_type": "code",
   "execution_count": 12,
   "metadata": {},
   "outputs": [
    {
     "data": {
      "text/html": [
       "\n",
       "\n",
       "\n",
       "\n",
       "\n",
       "\n",
       "  <div class=\"bk-root\" id=\"42950ba2-b74a-49b2-b0a7-f536510d683f\"></div>\n"
      ]
     },
     "metadata": {},
     "output_type": "display_data"
    },
    {
     "data": {
      "application/javascript": [
       "(function(root) {\n",
       "  function embed_document(root) {\n",
       "    \n",
       "  var docs_json = {\"c53563ad-36e0-43dd-90ee-08f0cd7c5ac7\":{\"roots\":{\"references\":[{\"attributes\":{},\"id\":\"75fd0733-cec3-4f70-a635-6ed605048a95\",\"type\":\"UnionRenderers\"},{\"attributes\":{},\"id\":\"fdc0d44c-125b-404c-a373-3f5abffad0aa\",\"type\":\"BasicTicker\"},{\"attributes\":{\"fill_alpha\":{\"value\":0.1},\"fill_color\":{\"value\":\"green\"},\"left\":1.5,\"plot\":{\"id\":\"e4519c46-380f-4943-a03f-3d0eb7db555a\",\"subtype\":\"Figure\",\"type\":\"Plot\"},\"right\":2.5},\"id\":\"43246e83-9faf-4d50-8390-157feeb67d06\",\"type\":\"BoxAnnotation\"},{\"attributes\":{\"line_alpha\":0.1,\"line_color\":\"#1f77b4\",\"x\":{\"field\":\"x\"},\"y\":{\"field\":\"y\"}},\"id\":\"0817dcf2-67dd-4190-9a55-cdac9e7d676e\",\"type\":\"Line\"},{\"attributes\":{\"active_drag\":\"auto\",\"active_inspect\":\"auto\",\"active_multi\":null,\"active_scroll\":\"auto\",\"active_tap\":\"auto\"},\"id\":\"659ec302-d657-4165-9776-b4272444b5e4\",\"type\":\"Toolbar\"},{\"attributes\":{\"data_source\":{\"id\":\"8d8f3ee2-bb07-4fd3-9d73-e37e811c3191\",\"type\":\"ColumnDataSource\"},\"glyph\":{\"id\":\"e5d184e6-03c4-4460-9e45-80464d82e424\",\"type\":\"Line\"},\"hover_glyph\":null,\"muted_glyph\":null,\"nonselection_glyph\":{\"id\":\"f4d213bb-6a58-40bc-aeb0-a92112e38a95\",\"type\":\"Line\"},\"selection_glyph\":null,\"view\":{\"id\":\"d9869db2-3b35-486a-89bf-d95cf961ae57\",\"type\":\"CDSView\"}},\"id\":\"ddd04cb4-c103-4d28-b3d7-16692c6be712\",\"type\":\"GlyphRenderer\"},{\"attributes\":{\"button_type\":\"success\",\"callback\":{\"id\":\"8dcc8609-281d-43e7-b286-9b5d8f2d5bf0\",\"type\":\"CustomJS\"},\"icon\":null,\"label\":\"Green Box\"},\"id\":\"facf1f9f-1c2b-4cdd-b826-f8478be75267\",\"type\":\"Toggle\"},{\"attributes\":{},\"id\":\"b932625b-b509-476f-9b7e-47abf76a6b33\",\"type\":\"BasicTickFormatter\"},{\"attributes\":{\"callback\":null,\"data\":{\"x\":[1,2,3],\"y\":[1,2,1]},\"selected\":{\"id\":\"ad840337-5183-4514-b214-16e4ff7f0e7c\",\"type\":\"Selection\"},\"selection_policy\":{\"id\":\"75fd0733-cec3-4f70-a635-6ed605048a95\",\"type\":\"UnionRenderers\"}},\"id\":\"8d8f3ee2-bb07-4fd3-9d73-e37e811c3191\",\"type\":\"ColumnDataSource\"},{\"attributes\":{\"callback\":null,\"data\":{\"x\":[1,2,3],\"y\":[2,1,2]},\"selected\":{\"id\":\"bb879083-49e8-42da-b705-5dae782f73f4\",\"type\":\"Selection\"},\"selection_policy\":{\"id\":\"a3b680ee-a3b5-4652-aefc-8700d540ca48\",\"type\":\"UnionRenderers\"}},\"id\":\"3c93d8e5-acb3-4d31-a4ab-ead6c6d009db\",\"type\":\"ColumnDataSource\"},{\"attributes\":{\"line_color\":\"pink\",\"x\":{\"field\":\"x\"},\"y\":{\"field\":\"y\"}},\"id\":\"f2d502d8-a4a8-43a1-9788-de92e7ddea4a\",\"type\":\"Line\"},{\"attributes\":{\"args\":{\"object\":{\"id\":\"43246e83-9faf-4d50-8390-157feeb67d06\",\"type\":\"BoxAnnotation\"},\"toggle\":{\"id\":\"facf1f9f-1c2b-4cdd-b826-f8478be75267\",\"type\":\"Toggle\"}},\"code\":\"object.visible = toggle.active;\\n\"},\"id\":\"8dcc8609-281d-43e7-b286-9b5d8f2d5bf0\",\"type\":\"CustomJS\"},{\"attributes\":{\"line_alpha\":0.1,\"line_color\":\"#1f77b4\",\"x\":{\"field\":\"x\"},\"y\":{\"field\":\"y\"}},\"id\":\"f4d213bb-6a58-40bc-aeb0-a92112e38a95\",\"type\":\"Line\"},{\"attributes\":{\"args\":{\"object\":{\"id\":\"a1285ca4-4a14-4740-9d7a-3476e802aecf\",\"type\":\"GlyphRenderer\"},\"toggle\":{\"id\":\"3e875216-fca8-41ee-a5e1-685fc1037e9e\",\"type\":\"Toggle\"}},\"code\":\"object.visible = toggle.active;\\n\"},\"id\":\"dc39cc31-455d-4500-abe1-41a38934c9e9\",\"type\":\"CustomJS\"},{\"attributes\":{},\"id\":\"bb879083-49e8-42da-b705-5dae782f73f4\",\"type\":\"Selection\"},{\"attributes\":{},\"id\":\"2a94431b-fe1f-4381-89cc-82fcccf8a6fc\",\"type\":\"LinearScale\"},{\"attributes\":{\"formatter\":{\"id\":\"b932625b-b509-476f-9b7e-47abf76a6b33\",\"type\":\"BasicTickFormatter\"},\"plot\":{\"id\":\"e4519c46-380f-4943-a03f-3d0eb7db555a\",\"subtype\":\"Figure\",\"type\":\"Plot\"},\"ticker\":{\"id\":\"fdc0d44c-125b-404c-a373-3f5abffad0aa\",\"type\":\"BasicTicker\"}},\"id\":\"c858f679-38f1-4d74-9129-fa4814e643ce\",\"type\":\"LinearAxis\"},{\"attributes\":{\"callback\":null},\"id\":\"7402746a-5c58-487e-83e7-ec6403e1d7bd\",\"type\":\"DataRange1d\"},{\"attributes\":{\"children\":[{\"id\":\"e4519c46-380f-4943-a03f-3d0eb7db555a\",\"subtype\":\"Figure\",\"type\":\"Plot\"}]},\"id\":\"8bb917eb-1364-4ebe-b74d-7a1f0b0f3853\",\"type\":\"Row\"},{\"attributes\":{\"formatter\":{\"id\":\"982e558a-876b-485b-8932-ea6eb126bc10\",\"type\":\"BasicTickFormatter\"},\"plot\":{\"id\":\"e4519c46-380f-4943-a03f-3d0eb7db555a\",\"subtype\":\"Figure\",\"type\":\"Plot\"},\"ticker\":{\"id\":\"9f944877-1b33-4a79-b1f4-28e177da3190\",\"type\":\"BasicTicker\"}},\"id\":\"f72cbe38-93fb-42e9-9308-16882732ae21\",\"type\":\"LinearAxis\"},{\"attributes\":{},\"id\":\"982e558a-876b-485b-8932-ea6eb126bc10\",\"type\":\"BasicTickFormatter\"},{\"attributes\":{\"below\":[{\"id\":\"c858f679-38f1-4d74-9129-fa4814e643ce\",\"type\":\"LinearAxis\"}],\"left\":[{\"id\":\"f72cbe38-93fb-42e9-9308-16882732ae21\",\"type\":\"LinearAxis\"}],\"plot_height\":200,\"renderers\":[{\"id\":\"c858f679-38f1-4d74-9129-fa4814e643ce\",\"type\":\"LinearAxis\"},{\"id\":\"528c5ae6-e1b3-435d-b2aa-8b4733dd15d3\",\"type\":\"Grid\"},{\"id\":\"f72cbe38-93fb-42e9-9308-16882732ae21\",\"type\":\"LinearAxis\"},{\"id\":\"f477491d-577e-4acb-846e-3b183404c752\",\"type\":\"Grid\"},{\"id\":\"ddd04cb4-c103-4d28-b3d7-16692c6be712\",\"type\":\"GlyphRenderer\"},{\"id\":\"a1285ca4-4a14-4740-9d7a-3476e802aecf\",\"type\":\"GlyphRenderer\"},{\"id\":\"43246e83-9faf-4d50-8390-157feeb67d06\",\"type\":\"BoxAnnotation\"}],\"title\":{\"id\":\"ba8a924a-c339-495f-842b-6bdb573a871b\",\"type\":\"Title\"},\"toolbar\":{\"id\":\"659ec302-d657-4165-9776-b4272444b5e4\",\"type\":\"Toolbar\"},\"x_range\":{\"id\":\"7402746a-5c58-487e-83e7-ec6403e1d7bd\",\"type\":\"DataRange1d\"},\"x_scale\":{\"id\":\"1e0fdb8a-9698-43e0-9597-8b341a2d9416\",\"type\":\"LinearScale\"},\"y_range\":{\"id\":\"54d49679-437c-412c-bbc9-53d07e6d9b34\",\"type\":\"DataRange1d\"},\"y_scale\":{\"id\":\"2a94431b-fe1f-4381-89cc-82fcccf8a6fc\",\"type\":\"LinearScale\"}},\"id\":\"e4519c46-380f-4943-a03f-3d0eb7db555a\",\"subtype\":\"Figure\",\"type\":\"Plot\"},{\"attributes\":{\"data_source\":{\"id\":\"3c93d8e5-acb3-4d31-a4ab-ead6c6d009db\",\"type\":\"ColumnDataSource\"},\"glyph\":{\"id\":\"f2d502d8-a4a8-43a1-9788-de92e7ddea4a\",\"type\":\"Line\"},\"hover_glyph\":null,\"muted_glyph\":null,\"nonselection_glyph\":{\"id\":\"0817dcf2-67dd-4190-9a55-cdac9e7d676e\",\"type\":\"Line\"},\"selection_glyph\":null,\"view\":{\"id\":\"74763101-3d68-4ef1-ad62-5077008fffed\",\"type\":\"CDSView\"}},\"id\":\"a1285ca4-4a14-4740-9d7a-3476e802aecf\",\"type\":\"GlyphRenderer\"},{\"attributes\":{\"children\":[{\"id\":\"3e875216-fca8-41ee-a5e1-685fc1037e9e\",\"type\":\"Toggle\"}]},\"id\":\"5e67aae3-dcd9-4798-b4e8-018316b897fd\",\"type\":\"WidgetBox\"},{\"attributes\":{\"dimension\":1,\"plot\":{\"id\":\"e4519c46-380f-4943-a03f-3d0eb7db555a\",\"subtype\":\"Figure\",\"type\":\"Plot\"},\"ticker\":{\"id\":\"9f944877-1b33-4a79-b1f4-28e177da3190\",\"type\":\"BasicTicker\"}},\"id\":\"f477491d-577e-4acb-846e-3b183404c752\",\"type\":\"Grid\"},{\"attributes\":{\"children\":[{\"id\":\"8bb917eb-1364-4ebe-b74d-7a1f0b0f3853\",\"type\":\"Row\"},{\"id\":\"ac74a13a-8e63-4c26-8a27-0854eacf7c1d\",\"type\":\"Row\"}]},\"id\":\"363a9eee-56b7-4d4b-aa74-4aca029571a7\",\"type\":\"Column\"},{\"attributes\":{},\"id\":\"ad840337-5183-4514-b214-16e4ff7f0e7c\",\"type\":\"Selection\"},{\"attributes\":{\"button_type\":\"success\",\"callback\":{\"id\":\"dc39cc31-455d-4500-abe1-41a38934c9e9\",\"type\":\"CustomJS\"},\"icon\":null,\"label\":\"Pink Line\"},\"id\":\"3e875216-fca8-41ee-a5e1-685fc1037e9e\",\"type\":\"Toggle\"},{\"attributes\":{\"source\":{\"id\":\"8d8f3ee2-bb07-4fd3-9d73-e37e811c3191\",\"type\":\"ColumnDataSource\"}},\"id\":\"d9869db2-3b35-486a-89bf-d95cf961ae57\",\"type\":\"CDSView\"},{\"attributes\":{},\"id\":\"1e0fdb8a-9698-43e0-9597-8b341a2d9416\",\"type\":\"LinearScale\"},{\"attributes\":{\"callback\":null},\"id\":\"54d49679-437c-412c-bbc9-53d07e6d9b34\",\"type\":\"DataRange1d\"},{\"attributes\":{},\"id\":\"9f944877-1b33-4a79-b1f4-28e177da3190\",\"type\":\"BasicTicker\"},{\"attributes\":{\"children\":[{\"id\":\"0939f596-54e1-4dfd-90b8-0ccfd0bbe7fe\",\"type\":\"WidgetBox\"},{\"id\":\"5e67aae3-dcd9-4798-b4e8-018316b897fd\",\"type\":\"WidgetBox\"}]},\"id\":\"ac74a13a-8e63-4c26-8a27-0854eacf7c1d\",\"type\":\"Row\"},{\"attributes\":{\"source\":{\"id\":\"3c93d8e5-acb3-4d31-a4ab-ead6c6d009db\",\"type\":\"ColumnDataSource\"}},\"id\":\"74763101-3d68-4ef1-ad62-5077008fffed\",\"type\":\"CDSView\"},{\"attributes\":{},\"id\":\"a3b680ee-a3b5-4652-aefc-8700d540ca48\",\"type\":\"UnionRenderers\"},{\"attributes\":{\"line_color\":\"blue\",\"x\":{\"field\":\"x\"},\"y\":{\"field\":\"y\"}},\"id\":\"e5d184e6-03c4-4460-9e45-80464d82e424\",\"type\":\"Line\"},{\"attributes\":{\"plot\":null,\"text\":\"\"},\"id\":\"ba8a924a-c339-495f-842b-6bdb573a871b\",\"type\":\"Title\"},{\"attributes\":{\"children\":[{\"id\":\"facf1f9f-1c2b-4cdd-b826-f8478be75267\",\"type\":\"Toggle\"}]},\"id\":\"0939f596-54e1-4dfd-90b8-0ccfd0bbe7fe\",\"type\":\"WidgetBox\"},{\"attributes\":{\"plot\":{\"id\":\"e4519c46-380f-4943-a03f-3d0eb7db555a\",\"subtype\":\"Figure\",\"type\":\"Plot\"},\"ticker\":{\"id\":\"fdc0d44c-125b-404c-a373-3f5abffad0aa\",\"type\":\"BasicTicker\"}},\"id\":\"528c5ae6-e1b3-435d-b2aa-8b4733dd15d3\",\"type\":\"Grid\"}],\"root_ids\":[\"363a9eee-56b7-4d4b-aa74-4aca029571a7\"]},\"title\":\"Bokeh Application\",\"version\":\"0.13.0\"}};\n",
       "  var render_items = [{\"docid\":\"c53563ad-36e0-43dd-90ee-08f0cd7c5ac7\",\"roots\":{\"363a9eee-56b7-4d4b-aa74-4aca029571a7\":\"42950ba2-b74a-49b2-b0a7-f536510d683f\"}}];\n",
       "  root.Bokeh.embed.embed_items_notebook(docs_json, render_items);\n",
       "\n",
       "  }\n",
       "  if (root.Bokeh !== undefined) {\n",
       "    embed_document(root);\n",
       "  } else {\n",
       "    var attempts = 0;\n",
       "    var timer = setInterval(function(root) {\n",
       "      if (root.Bokeh !== undefined) {\n",
       "        embed_document(root);\n",
       "        clearInterval(timer);\n",
       "      }\n",
       "      attempts++;\n",
       "      if (attempts > 100) {\n",
       "        console.log(\"Bokeh: ERROR: Unable to run BokehJS code because BokehJS library is missing\")\n",
       "        clearInterval(timer);\n",
       "      }\n",
       "    }, 10, root)\n",
       "  }\n",
       "})(window);"
      ],
      "application/vnd.bokehjs_exec.v0+json": ""
     },
     "metadata": {
      "application/vnd.bokehjs_exec.v0+json": {
       "id": "363a9eee-56b7-4d4b-aa74-4aca029571a7"
      }
     },
     "output_type": "display_data"
    }
   ],
   "source": [
    "from bokeh.io import output_file, show\n",
    "from bokeh.plotting import figure\n",
    "from bokeh.layouts import layout\n",
    "from bokeh.models import Toggle, BoxAnnotation, CustomJS\n",
    "\n",
    "# We set-up the same standard figure with two lines and now a box over top\n",
    "p = figure(plot_width=600, plot_height=200, tools='')\n",
    "visible_line = p.line([1, 2, 3], [1, 2, 1], line_color=\"blue\")\n",
    "invisible_line = p.line([1, 2, 3], [2, 1, 2], line_color=\"pink\")\n",
    "\n",
    "box = BoxAnnotation(left=1.5, right=2.5, fill_color='green', fill_alpha=0.1)\n",
    "p.add_layout(box)\n",
    "\n",
    "# We write coffeescript to link toggle with visible property of box and line\n",
    "code = '''\\\n",
    "object.visible = toggle.active\n",
    "'''\n",
    "\n",
    "callback1 = CustomJS.from_coffeescript(code=code, args={})\n",
    "toggle1 = Toggle(label=\"Green Box\", button_type=\"success\", callback=callback1)\n",
    "callback1.args = {'toggle': toggle1, 'object': box}\n",
    "\n",
    "callback2 = CustomJS.from_coffeescript(code=code, args={})\n",
    "toggle2 = Toggle(label=\"Pink Line\", button_type=\"success\", callback=callback2)\n",
    "callback2.args = {'toggle': toggle2, 'object': invisible_line}\n",
    "\n",
    "#output_file(\"styling_visible_annotation_with_interaction.html\")\n",
    "\n",
    "show(layout([p], [toggle1, toggle2]))"
   ]
  },
  {
   "cell_type": "code",
   "execution_count": null,
   "metadata": {},
   "outputs": [],
   "source": []
  },
  {
   "cell_type": "code",
   "execution_count": null,
   "metadata": {},
   "outputs": [],
   "source": []
  },
  {
   "cell_type": "code",
   "execution_count": null,
   "metadata": {},
   "outputs": [],
   "source": []
  },
  {
   "cell_type": "code",
   "execution_count": null,
   "metadata": {},
   "outputs": [],
   "source": []
  }
 ],
 "metadata": {
  "celltoolbar": "Slideshow",
  "kernelspec": {
   "display_name": "Python 3",
   "language": "python",
   "name": "python3"
  },
  "language_info": {
   "codemirror_mode": {
    "name": "ipython",
    "version": 3
   },
   "file_extension": ".py",
   "mimetype": "text/x-python",
   "name": "python",
   "nbconvert_exporter": "python",
   "pygments_lexer": "ipython3",
   "version": "3.5.6"
  }
 },
 "nbformat": 4,
 "nbformat_minor": 1
}
