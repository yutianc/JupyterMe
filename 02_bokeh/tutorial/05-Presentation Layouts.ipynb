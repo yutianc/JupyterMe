{
 "cells": [
  {
   "cell_type": "markdown",
   "metadata": {
    "collapsed": true
   },
   "source": [
    "<table style=\"float:left; border:none\">\n",
    "   <tr style=\"border:none; background-color: #ffffff\">\n",
    "       <td style=\"border:none\">\n",
    "           <a href=\"http://bokeh.pydata.org/\">     \n",
    "           <img \n",
    "               src=\"assets/bokeh-transparent.png\" \n",
    "               style=\"width:50px\"\n",
    "           >\n",
    "           </a>    \n",
    "       </td>\n",
    "       <td style=\"border:none\">\n",
    "           <h1>Bokeh Tutorial</h1>\n",
    "       </td>\n",
    "   </tr>\n",
    "</table>\n",
    "\n",
    "<div style=\"float:right;\"><h2>05. Presentation and Layout</h2></div>"
   ]
  },
  {
   "cell_type": "code",
   "execution_count": 1,
   "metadata": {},
   "outputs": [
    {
     "data": {
      "text/html": [
       "\n",
       "    <div class=\"bk-root\">\n",
       "        <a href=\"https://bokeh.pydata.org\" target=\"_blank\" class=\"bk-logo bk-logo-small bk-logo-notebook\"></a>\n",
       "        <span id=\"45970bb2-7275-4e07-84ad-da00ea68784a\">Loading BokehJS ...</span>\n",
       "    </div>"
      ]
     },
     "metadata": {},
     "output_type": "display_data"
    },
    {
     "data": {
      "application/javascript": [
       "\n",
       "(function(root) {\n",
       "  function now() {\n",
       "    return new Date();\n",
       "  }\n",
       "\n",
       "  var force = true;\n",
       "\n",
       "  if (typeof (root._bokeh_onload_callbacks) === \"undefined\" || force === true) {\n",
       "    root._bokeh_onload_callbacks = [];\n",
       "    root._bokeh_is_loading = undefined;\n",
       "  }\n",
       "\n",
       "  var JS_MIME_TYPE = 'application/javascript';\n",
       "  var HTML_MIME_TYPE = 'text/html';\n",
       "  var EXEC_MIME_TYPE = 'application/vnd.bokehjs_exec.v0+json';\n",
       "  var CLASS_NAME = 'output_bokeh rendered_html';\n",
       "\n",
       "  /**\n",
       "   * Render data to the DOM node\n",
       "   */\n",
       "  function render(props, node) {\n",
       "    var script = document.createElement(\"script\");\n",
       "    node.appendChild(script);\n",
       "  }\n",
       "\n",
       "  /**\n",
       "   * Handle when an output is cleared or removed\n",
       "   */\n",
       "  function handleClearOutput(event, handle) {\n",
       "    var cell = handle.cell;\n",
       "\n",
       "    var id = cell.output_area._bokeh_element_id;\n",
       "    var server_id = cell.output_area._bokeh_server_id;\n",
       "    // Clean up Bokeh references\n",
       "    if (id != null && id in Bokeh.index) {\n",
       "      Bokeh.index[id].model.document.clear();\n",
       "      delete Bokeh.index[id];\n",
       "    }\n",
       "\n",
       "    if (server_id !== undefined) {\n",
       "      // Clean up Bokeh references\n",
       "      var cmd = \"from bokeh.io.state import curstate; print(curstate().uuid_to_server['\" + server_id + \"'].get_sessions()[0].document.roots[0]._id)\";\n",
       "      cell.notebook.kernel.execute(cmd, {\n",
       "        iopub: {\n",
       "          output: function(msg) {\n",
       "            var id = msg.content.text.trim();\n",
       "            if (id in Bokeh.index) {\n",
       "              Bokeh.index[id].model.document.clear();\n",
       "              delete Bokeh.index[id];\n",
       "            }\n",
       "          }\n",
       "        }\n",
       "      });\n",
       "      // Destroy server and session\n",
       "      var cmd = \"import bokeh.io.notebook as ion; ion.destroy_server('\" + server_id + \"')\";\n",
       "      cell.notebook.kernel.execute(cmd);\n",
       "    }\n",
       "  }\n",
       "\n",
       "  /**\n",
       "   * Handle when a new output is added\n",
       "   */\n",
       "  function handleAddOutput(event, handle) {\n",
       "    var output_area = handle.output_area;\n",
       "    var output = handle.output;\n",
       "\n",
       "    // limit handleAddOutput to display_data with EXEC_MIME_TYPE content only\n",
       "    if ((output.output_type != \"display_data\") || (!output.data.hasOwnProperty(EXEC_MIME_TYPE))) {\n",
       "      return\n",
       "    }\n",
       "\n",
       "    var toinsert = output_area.element.find(\".\" + CLASS_NAME.split(' ')[0]);\n",
       "\n",
       "    if (output.metadata[EXEC_MIME_TYPE][\"id\"] !== undefined) {\n",
       "      toinsert[toinsert.length - 1].firstChild.textContent = output.data[JS_MIME_TYPE];\n",
       "      // store reference to embed id on output_area\n",
       "      output_area._bokeh_element_id = output.metadata[EXEC_MIME_TYPE][\"id\"];\n",
       "    }\n",
       "    if (output.metadata[EXEC_MIME_TYPE][\"server_id\"] !== undefined) {\n",
       "      var bk_div = document.createElement(\"div\");\n",
       "      bk_div.innerHTML = output.data[HTML_MIME_TYPE];\n",
       "      var script_attrs = bk_div.children[0].attributes;\n",
       "      for (var i = 0; i < script_attrs.length; i++) {\n",
       "        toinsert[toinsert.length - 1].firstChild.setAttribute(script_attrs[i].name, script_attrs[i].value);\n",
       "      }\n",
       "      // store reference to server id on output_area\n",
       "      output_area._bokeh_server_id = output.metadata[EXEC_MIME_TYPE][\"server_id\"];\n",
       "    }\n",
       "  }\n",
       "\n",
       "  function register_renderer(events, OutputArea) {\n",
       "\n",
       "    function append_mime(data, metadata, element) {\n",
       "      // create a DOM node to render to\n",
       "      var toinsert = this.create_output_subarea(\n",
       "        metadata,\n",
       "        CLASS_NAME,\n",
       "        EXEC_MIME_TYPE\n",
       "      );\n",
       "      this.keyboard_manager.register_events(toinsert);\n",
       "      // Render to node\n",
       "      var props = {data: data, metadata: metadata[EXEC_MIME_TYPE]};\n",
       "      render(props, toinsert[toinsert.length - 1]);\n",
       "      element.append(toinsert);\n",
       "      return toinsert\n",
       "    }\n",
       "\n",
       "    /* Handle when an output is cleared or removed */\n",
       "    events.on('clear_output.CodeCell', handleClearOutput);\n",
       "    events.on('delete.Cell', handleClearOutput);\n",
       "\n",
       "    /* Handle when a new output is added */\n",
       "    events.on('output_added.OutputArea', handleAddOutput);\n",
       "\n",
       "    /**\n",
       "     * Register the mime type and append_mime function with output_area\n",
       "     */\n",
       "    OutputArea.prototype.register_mime_type(EXEC_MIME_TYPE, append_mime, {\n",
       "      /* Is output safe? */\n",
       "      safe: true,\n",
       "      /* Index of renderer in `output_area.display_order` */\n",
       "      index: 0\n",
       "    });\n",
       "  }\n",
       "\n",
       "  // register the mime type if in Jupyter Notebook environment and previously unregistered\n",
       "  if (root.Jupyter !== undefined) {\n",
       "    var events = require('base/js/events');\n",
       "    var OutputArea = require('notebook/js/outputarea').OutputArea;\n",
       "\n",
       "    if (OutputArea.prototype.mime_types().indexOf(EXEC_MIME_TYPE) == -1) {\n",
       "      register_renderer(events, OutputArea);\n",
       "    }\n",
       "  }\n",
       "\n",
       "  \n",
       "  if (typeof (root._bokeh_timeout) === \"undefined\" || force === true) {\n",
       "    root._bokeh_timeout = Date.now() + 5000;\n",
       "    root._bokeh_failed_load = false;\n",
       "  }\n",
       "\n",
       "  var NB_LOAD_WARNING = {'data': {'text/html':\n",
       "     \"<div style='background-color: #fdd'>\\n\"+\n",
       "     \"<p>\\n\"+\n",
       "     \"BokehJS does not appear to have successfully loaded. If loading BokehJS from CDN, this \\n\"+\n",
       "     \"may be due to a slow or bad network connection. Possible fixes:\\n\"+\n",
       "     \"</p>\\n\"+\n",
       "     \"<ul>\\n\"+\n",
       "     \"<li>re-rerun `output_notebook()` to attempt to load from CDN again, or</li>\\n\"+\n",
       "     \"<li>use INLINE resources instead, as so:</li>\\n\"+\n",
       "     \"</ul>\\n\"+\n",
       "     \"<code>\\n\"+\n",
       "     \"from bokeh.resources import INLINE\\n\"+\n",
       "     \"output_notebook(resources=INLINE)\\n\"+\n",
       "     \"</code>\\n\"+\n",
       "     \"</div>\"}};\n",
       "\n",
       "  function display_loaded() {\n",
       "    var el = document.getElementById(\"45970bb2-7275-4e07-84ad-da00ea68784a\");\n",
       "    if (el != null) {\n",
       "      el.textContent = \"BokehJS is loading...\";\n",
       "    }\n",
       "    if (root.Bokeh !== undefined) {\n",
       "      if (el != null) {\n",
       "        el.textContent = \"BokehJS \" + root.Bokeh.version + \" successfully loaded.\";\n",
       "      }\n",
       "    } else if (Date.now() < root._bokeh_timeout) {\n",
       "      setTimeout(display_loaded, 100)\n",
       "    }\n",
       "  }\n",
       "\n",
       "\n",
       "  function run_callbacks() {\n",
       "    try {\n",
       "      root._bokeh_onload_callbacks.forEach(function(callback) { callback() });\n",
       "    }\n",
       "    finally {\n",
       "      delete root._bokeh_onload_callbacks\n",
       "    }\n",
       "    console.info(\"Bokeh: all callbacks have finished\");\n",
       "  }\n",
       "\n",
       "  function load_libs(js_urls, callback) {\n",
       "    root._bokeh_onload_callbacks.push(callback);\n",
       "    if (root._bokeh_is_loading > 0) {\n",
       "      console.log(\"Bokeh: BokehJS is being loaded, scheduling callback at\", now());\n",
       "      return null;\n",
       "    }\n",
       "    if (js_urls == null || js_urls.length === 0) {\n",
       "      run_callbacks();\n",
       "      return null;\n",
       "    }\n",
       "    console.log(\"Bokeh: BokehJS not loaded, scheduling load and callback at\", now());\n",
       "    root._bokeh_is_loading = js_urls.length;\n",
       "    for (var i = 0; i < js_urls.length; i++) {\n",
       "      var url = js_urls[i];\n",
       "      var s = document.createElement('script');\n",
       "      s.src = url;\n",
       "      s.async = false;\n",
       "      s.onreadystatechange = s.onload = function() {\n",
       "        root._bokeh_is_loading--;\n",
       "        if (root._bokeh_is_loading === 0) {\n",
       "          console.log(\"Bokeh: all BokehJS libraries loaded\");\n",
       "          run_callbacks()\n",
       "        }\n",
       "      };\n",
       "      s.onerror = function() {\n",
       "        console.warn(\"failed to load library \" + url);\n",
       "      };\n",
       "      console.log(\"Bokeh: injecting script tag for BokehJS library: \", url);\n",
       "      document.getElementsByTagName(\"head\")[0].appendChild(s);\n",
       "    }\n",
       "  };var element = document.getElementById(\"45970bb2-7275-4e07-84ad-da00ea68784a\");\n",
       "  if (element == null) {\n",
       "    console.log(\"Bokeh: ERROR: autoload.js configured with elementid '45970bb2-7275-4e07-84ad-da00ea68784a' but no matching script tag was found. \")\n",
       "    return false;\n",
       "  }\n",
       "\n",
       "  var js_urls = [\"https://cdn.pydata.org/bokeh/release/bokeh-0.13.0.min.js\", \"https://cdn.pydata.org/bokeh/release/bokeh-widgets-0.13.0.min.js\", \"https://cdn.pydata.org/bokeh/release/bokeh-tables-0.13.0.min.js\", \"https://cdn.pydata.org/bokeh/release/bokeh-gl-0.13.0.min.js\"];\n",
       "\n",
       "  var inline_js = [\n",
       "    function(Bokeh) {\n",
       "      Bokeh.set_log_level(\"info\");\n",
       "    },\n",
       "    \n",
       "    function(Bokeh) {\n",
       "      \n",
       "    },\n",
       "    function(Bokeh) {\n",
       "      console.log(\"Bokeh: injecting CSS: https://cdn.pydata.org/bokeh/release/bokeh-0.13.0.min.css\");\n",
       "      Bokeh.embed.inject_css(\"https://cdn.pydata.org/bokeh/release/bokeh-0.13.0.min.css\");\n",
       "      console.log(\"Bokeh: injecting CSS: https://cdn.pydata.org/bokeh/release/bokeh-widgets-0.13.0.min.css\");\n",
       "      Bokeh.embed.inject_css(\"https://cdn.pydata.org/bokeh/release/bokeh-widgets-0.13.0.min.css\");\n",
       "      console.log(\"Bokeh: injecting CSS: https://cdn.pydata.org/bokeh/release/bokeh-tables-0.13.0.min.css\");\n",
       "      Bokeh.embed.inject_css(\"https://cdn.pydata.org/bokeh/release/bokeh-tables-0.13.0.min.css\");\n",
       "    }\n",
       "  ];\n",
       "\n",
       "  function run_inline_js() {\n",
       "    \n",
       "    if ((root.Bokeh !== undefined) || (force === true)) {\n",
       "      for (var i = 0; i < inline_js.length; i++) {\n",
       "        inline_js[i].call(root, root.Bokeh);\n",
       "      }if (force === true) {\n",
       "        display_loaded();\n",
       "      }} else if (Date.now() < root._bokeh_timeout) {\n",
       "      setTimeout(run_inline_js, 100);\n",
       "    } else if (!root._bokeh_failed_load) {\n",
       "      console.log(\"Bokeh: BokehJS failed to load within specified timeout.\");\n",
       "      root._bokeh_failed_load = true;\n",
       "    } else if (force !== true) {\n",
       "      var cell = $(document.getElementById(\"45970bb2-7275-4e07-84ad-da00ea68784a\")).parents('.cell').data().cell;\n",
       "      cell.output_area.append_execute_result(NB_LOAD_WARNING)\n",
       "    }\n",
       "\n",
       "  }\n",
       "\n",
       "  if (root._bokeh_is_loading === 0) {\n",
       "    console.log(\"Bokeh: BokehJS loaded, going straight to plotting\");\n",
       "    run_inline_js();\n",
       "  } else {\n",
       "    load_libs(js_urls, function() {\n",
       "      console.log(\"Bokeh: BokehJS plotting callback run at\", now());\n",
       "      run_inline_js();\n",
       "    });\n",
       "  }\n",
       "}(window));"
      ],
      "application/vnd.bokehjs_load.v0+json": "\n(function(root) {\n  function now() {\n    return new Date();\n  }\n\n  var force = true;\n\n  if (typeof (root._bokeh_onload_callbacks) === \"undefined\" || force === true) {\n    root._bokeh_onload_callbacks = [];\n    root._bokeh_is_loading = undefined;\n  }\n\n  \n\n  \n  if (typeof (root._bokeh_timeout) === \"undefined\" || force === true) {\n    root._bokeh_timeout = Date.now() + 5000;\n    root._bokeh_failed_load = false;\n  }\n\n  var NB_LOAD_WARNING = {'data': {'text/html':\n     \"<div style='background-color: #fdd'>\\n\"+\n     \"<p>\\n\"+\n     \"BokehJS does not appear to have successfully loaded. If loading BokehJS from CDN, this \\n\"+\n     \"may be due to a slow or bad network connection. Possible fixes:\\n\"+\n     \"</p>\\n\"+\n     \"<ul>\\n\"+\n     \"<li>re-rerun `output_notebook()` to attempt to load from CDN again, or</li>\\n\"+\n     \"<li>use INLINE resources instead, as so:</li>\\n\"+\n     \"</ul>\\n\"+\n     \"<code>\\n\"+\n     \"from bokeh.resources import INLINE\\n\"+\n     \"output_notebook(resources=INLINE)\\n\"+\n     \"</code>\\n\"+\n     \"</div>\"}};\n\n  function display_loaded() {\n    var el = document.getElementById(\"45970bb2-7275-4e07-84ad-da00ea68784a\");\n    if (el != null) {\n      el.textContent = \"BokehJS is loading...\";\n    }\n    if (root.Bokeh !== undefined) {\n      if (el != null) {\n        el.textContent = \"BokehJS \" + root.Bokeh.version + \" successfully loaded.\";\n      }\n    } else if (Date.now() < root._bokeh_timeout) {\n      setTimeout(display_loaded, 100)\n    }\n  }\n\n\n  function run_callbacks() {\n    try {\n      root._bokeh_onload_callbacks.forEach(function(callback) { callback() });\n    }\n    finally {\n      delete root._bokeh_onload_callbacks\n    }\n    console.info(\"Bokeh: all callbacks have finished\");\n  }\n\n  function load_libs(js_urls, callback) {\n    root._bokeh_onload_callbacks.push(callback);\n    if (root._bokeh_is_loading > 0) {\n      console.log(\"Bokeh: BokehJS is being loaded, scheduling callback at\", now());\n      return null;\n    }\n    if (js_urls == null || js_urls.length === 0) {\n      run_callbacks();\n      return null;\n    }\n    console.log(\"Bokeh: BokehJS not loaded, scheduling load and callback at\", now());\n    root._bokeh_is_loading = js_urls.length;\n    for (var i = 0; i < js_urls.length; i++) {\n      var url = js_urls[i];\n      var s = document.createElement('script');\n      s.src = url;\n      s.async = false;\n      s.onreadystatechange = s.onload = function() {\n        root._bokeh_is_loading--;\n        if (root._bokeh_is_loading === 0) {\n          console.log(\"Bokeh: all BokehJS libraries loaded\");\n          run_callbacks()\n        }\n      };\n      s.onerror = function() {\n        console.warn(\"failed to load library \" + url);\n      };\n      console.log(\"Bokeh: injecting script tag for BokehJS library: \", url);\n      document.getElementsByTagName(\"head\")[0].appendChild(s);\n    }\n  };var element = document.getElementById(\"45970bb2-7275-4e07-84ad-da00ea68784a\");\n  if (element == null) {\n    console.log(\"Bokeh: ERROR: autoload.js configured with elementid '45970bb2-7275-4e07-84ad-da00ea68784a' but no matching script tag was found. \")\n    return false;\n  }\n\n  var js_urls = [\"https://cdn.pydata.org/bokeh/release/bokeh-0.13.0.min.js\", \"https://cdn.pydata.org/bokeh/release/bokeh-widgets-0.13.0.min.js\", \"https://cdn.pydata.org/bokeh/release/bokeh-tables-0.13.0.min.js\", \"https://cdn.pydata.org/bokeh/release/bokeh-gl-0.13.0.min.js\"];\n\n  var inline_js = [\n    function(Bokeh) {\n      Bokeh.set_log_level(\"info\");\n    },\n    \n    function(Bokeh) {\n      \n    },\n    function(Bokeh) {\n      console.log(\"Bokeh: injecting CSS: https://cdn.pydata.org/bokeh/release/bokeh-0.13.0.min.css\");\n      Bokeh.embed.inject_css(\"https://cdn.pydata.org/bokeh/release/bokeh-0.13.0.min.css\");\n      console.log(\"Bokeh: injecting CSS: https://cdn.pydata.org/bokeh/release/bokeh-widgets-0.13.0.min.css\");\n      Bokeh.embed.inject_css(\"https://cdn.pydata.org/bokeh/release/bokeh-widgets-0.13.0.min.css\");\n      console.log(\"Bokeh: injecting CSS: https://cdn.pydata.org/bokeh/release/bokeh-tables-0.13.0.min.css\");\n      Bokeh.embed.inject_css(\"https://cdn.pydata.org/bokeh/release/bokeh-tables-0.13.0.min.css\");\n    }\n  ];\n\n  function run_inline_js() {\n    \n    if ((root.Bokeh !== undefined) || (force === true)) {\n      for (var i = 0; i < inline_js.length; i++) {\n        inline_js[i].call(root, root.Bokeh);\n      }if (force === true) {\n        display_loaded();\n      }} else if (Date.now() < root._bokeh_timeout) {\n      setTimeout(run_inline_js, 100);\n    } else if (!root._bokeh_failed_load) {\n      console.log(\"Bokeh: BokehJS failed to load within specified timeout.\");\n      root._bokeh_failed_load = true;\n    } else if (force !== true) {\n      var cell = $(document.getElementById(\"45970bb2-7275-4e07-84ad-da00ea68784a\")).parents('.cell').data().cell;\n      cell.output_area.append_execute_result(NB_LOAD_WARNING)\n    }\n\n  }\n\n  if (root._bokeh_is_loading === 0) {\n    console.log(\"Bokeh: BokehJS loaded, going straight to plotting\");\n    run_inline_js();\n  } else {\n    load_libs(js_urls, function() {\n      console.log(\"Bokeh: BokehJS plotting callback run at\", now());\n      run_inline_js();\n    });\n  }\n}(window));"
     },
     "metadata": {},
     "output_type": "display_data"
    }
   ],
   "source": [
    "from bokeh.io import output_notebook, show\n",
    "from bokeh.plotting import figure\n",
    "\n",
    "output_notebook()"
   ]
  },
  {
   "cell_type": "markdown",
   "metadata": {
    "slideshow": {
     "slide_type": "slide"
    }
   },
   "source": [
    "In the previous chapters we started to learn how to create single plots using differnet kinds of data. But we often want to plot more than one thing. Boeh plots can be individually embedded in HTML documents, but it's often easier to\n",
    "combine multiple plots in one of Bokeh's built-in layouts. We will learn how to do that in this chapter\n",
    "\n",
    "The cell below defines a few data variables we will use in examples."
   ]
  },
  {
   "cell_type": "code",
   "execution_count": 2,
   "metadata": {},
   "outputs": [],
   "source": [
    "x = list(range(11))\n",
    "y0, y1, y2 = x, [10-i for i in x], [abs(i-5) for i in x]"
   ]
  },
  {
   "cell_type": "markdown",
   "metadata": {
    "slideshow": {
     "slide_type": "slide"
    }
   },
   "source": [
    "# Rows and Columns\n",
    "The `bokeh.layouts` modules provides the ``row`` and ``column`` functions to arrange plot objects in vertical or horizontal layouts. Below is an example of three plots arranged in a row."
   ]
  },
  {
   "cell_type": "code",
   "execution_count": 3,
   "metadata": {
    "slideshow": {
     "slide_type": "subslide"
    }
   },
   "outputs": [
    {
     "data": {
      "text/html": [
       "\n",
       "\n",
       "\n",
       "\n",
       "\n",
       "\n",
       "  <div class=\"bk-root\" id=\"db00649a-09e0-4d9e-b7e9-8d2d4c74ac2e\"></div>\n"
      ]
     },
     "metadata": {},
     "output_type": "display_data"
    },
    {
     "data": {
      "application/javascript": [
       "(function(root) {\n",
       "  function embed_document(root) {\n",
       "    \n",
       "  var docs_json = {\"424f2452-81e8-4978-9882-ef05447cb2e1\":{\"roots\":{\"references\":[{\"attributes\":{},\"id\":\"2b1c141d-b269-4de8-ac18-13dd3bf248aa\",\"type\":\"LinearScale\"},{\"attributes\":{},\"id\":\"772fcf44-d61c-496b-bfa7-507fdc0ce508\",\"type\":\"BasicTickFormatter\"},{\"attributes\":{\"formatter\":{\"id\":\"b784613a-27c9-46ac-b2af-3ec054f93093\",\"type\":\"BasicTickFormatter\"},\"plot\":{\"id\":\"b4caddf3-9a77-48e4-b5e4-85669e62e42d\",\"subtype\":\"Figure\",\"type\":\"Plot\"},\"ticker\":{\"id\":\"bf00bd99-a24f-437e-b4b4-e5b2b1ab0b78\",\"type\":\"BasicTicker\"}},\"id\":\"87c4bd61-a191-4a57-ada2-2f62c1c71196\",\"type\":\"LinearAxis\"},{\"attributes\":{},\"id\":\"3abde348-101b-4c1e-ad17-227750239d98\",\"type\":\"Selection\"},{\"attributes\":{\"fill_alpha\":{\"value\":0.1},\"fill_color\":{\"value\":\"#1f77b4\"},\"line_alpha\":{\"value\":0.1},\"line_color\":{\"value\":\"#1f77b4\"},\"size\":{\"units\":\"screen\",\"value\":10},\"x\":{\"field\":\"x\"},\"y\":{\"field\":\"y\"}},\"id\":\"61403a82-45ab-4ccf-b742-b44ff1914d01\",\"type\":\"Circle\"},{\"attributes\":{\"bottom_units\":\"screen\",\"fill_alpha\":{\"value\":0.5},\"fill_color\":{\"value\":\"lightgrey\"},\"left_units\":\"screen\",\"level\":\"overlay\",\"line_alpha\":{\"value\":1.0},\"line_color\":{\"value\":\"black\"},\"line_dash\":[4,4],\"line_width\":{\"value\":2},\"plot\":null,\"render_mode\":\"css\",\"right_units\":\"screen\",\"top_units\":\"screen\"},\"id\":\"d2fef0e3-1713-4396-927b-3369a71e329a\",\"type\":\"BoxAnnotation\"},{\"attributes\":{\"fill_alpha\":{\"value\":0.5},\"fill_color\":{\"value\":\"firebrick\"},\"line_alpha\":{\"value\":0.5},\"line_color\":{\"value\":\"firebrick\"},\"size\":{\"units\":\"screen\",\"value\":10},\"x\":{\"field\":\"x\"},\"y\":{\"field\":\"y\"}},\"id\":\"0c15f8b6-1ff7-4210-beac-673bac419d6b\",\"type\":\"Triangle\"},{\"attributes\":{\"fill_alpha\":{\"value\":0.1},\"fill_color\":{\"value\":\"#1f77b4\"},\"line_alpha\":{\"value\":0.1},\"line_color\":{\"value\":\"#1f77b4\"},\"size\":{\"units\":\"screen\",\"value\":10},\"x\":{\"field\":\"x\"},\"y\":{\"field\":\"y\"}},\"id\":\"caa47968-c8b5-4b10-9335-ce4c71ee5d46\",\"type\":\"Square\"},{\"attributes\":{\"dimension\":1,\"plot\":{\"id\":\"720fd97e-a984-4e97-a06b-87ac276ff232\",\"subtype\":\"Figure\",\"type\":\"Plot\"},\"ticker\":{\"id\":\"ba87164f-a616-4549-8b2a-bebafa0c87fe\",\"type\":\"BasicTicker\"}},\"id\":\"aa81adec-75b2-4596-af7b-c34e9d20e072\",\"type\":\"Grid\"},{\"attributes\":{\"overlay\":{\"id\":\"ed1b8cc7-6a83-4653-89cc-9e738f9f54c2\",\"type\":\"BoxAnnotation\"}},\"id\":\"3c809fbd-1717-4907-a28e-ab8fb2d1aaf6\",\"type\":\"BoxZoomTool\"},{\"attributes\":{\"formatter\":{\"id\":\"2dbc434a-968e-475e-9ac2-8bec30966cc7\",\"type\":\"BasicTickFormatter\"},\"plot\":{\"id\":\"720fd97e-a984-4e97-a06b-87ac276ff232\",\"subtype\":\"Figure\",\"type\":\"Plot\"},\"ticker\":{\"id\":\"2e8326f2-85e4-4fc3-b435-8f1d14d79ff3\",\"type\":\"BasicTicker\"}},\"id\":\"8a93474b-c56a-42da-b50a-f87817007794\",\"type\":\"LinearAxis\"},{\"attributes\":{},\"id\":\"2dbc434a-968e-475e-9ac2-8bec30966cc7\",\"type\":\"BasicTickFormatter\"},{\"attributes\":{},\"id\":\"79283b70-0b9b-4936-b854-9d4292a15b5d\",\"type\":\"LinearScale\"},{\"attributes\":{\"formatter\":{\"id\":\"10052e48-ab69-452c-8262-434ef3446119\",\"type\":\"BasicTickFormatter\"},\"plot\":{\"id\":\"b4caddf3-9a77-48e4-b5e4-85669e62e42d\",\"subtype\":\"Figure\",\"type\":\"Plot\"},\"ticker\":{\"id\":\"623fff3e-9587-4769-b2ee-916e146164af\",\"type\":\"BasicTicker\"}},\"id\":\"35c8ab6a-9b0b-42ca-8167-8a1bda51a4ce\",\"type\":\"LinearAxis\"},{\"attributes\":{},\"id\":\"94732834-2210-451d-99d5-6bd8c53c988f\",\"type\":\"PanTool\"},{\"attributes\":{},\"id\":\"144351a0-f7ab-419e-9104-c056459f8015\",\"type\":\"BasicTickFormatter\"},{\"attributes\":{\"plot\":{\"id\":\"d4f85261-0a22-46f9-aaa5-c33d8d3172b9\",\"subtype\":\"Figure\",\"type\":\"Plot\"},\"ticker\":{\"id\":\"12a8ba72-15a5-499b-a211-b3da47be714b\",\"type\":\"BasicTicker\"}},\"id\":\"ce07a23f-19a2-4880-8259-000d6279f9b4\",\"type\":\"Grid\"},{\"attributes\":{},\"id\":\"a0cfb7d8-167d-4255-a983-f77f09d35dd5\",\"type\":\"ResetTool\"},{\"attributes\":{\"formatter\":{\"id\":\"408a8930-523d-48df-8e15-acb7e34c4d22\",\"type\":\"BasicTickFormatter\"},\"plot\":{\"id\":\"d4f85261-0a22-46f9-aaa5-c33d8d3172b9\",\"subtype\":\"Figure\",\"type\":\"Plot\"},\"ticker\":{\"id\":\"12a8ba72-15a5-499b-a211-b3da47be714b\",\"type\":\"BasicTicker\"}},\"id\":\"96143d85-04ba-46e0-9b2d-2a6a11402dd0\",\"type\":\"LinearAxis\"},{\"attributes\":{},\"id\":\"edcc93c9-50f2-40b2-9532-43b77a181eb7\",\"type\":\"WheelZoomTool\"},{\"attributes\":{\"overlay\":{\"id\":\"d2fef0e3-1713-4396-927b-3369a71e329a\",\"type\":\"BoxAnnotation\"}},\"id\":\"161a79b0-5f90-4c6f-8048-ab77ca109c36\",\"type\":\"BoxZoomTool\"},{\"attributes\":{\"below\":[{\"id\":\"87c4bd61-a191-4a57-ada2-2f62c1c71196\",\"type\":\"LinearAxis\"}],\"left\":[{\"id\":\"35c8ab6a-9b0b-42ca-8167-8a1bda51a4ce\",\"type\":\"LinearAxis\"}],\"plot_height\":250,\"plot_width\":250,\"renderers\":[{\"id\":\"87c4bd61-a191-4a57-ada2-2f62c1c71196\",\"type\":\"LinearAxis\"},{\"id\":\"023b79f2-07df-46cf-81f4-f9e0f8b367e7\",\"type\":\"Grid\"},{\"id\":\"35c8ab6a-9b0b-42ca-8167-8a1bda51a4ce\",\"type\":\"LinearAxis\"},{\"id\":\"7c8605e8-9be7-4391-809f-03222447e8b7\",\"type\":\"Grid\"},{\"id\":\"ed1b8cc7-6a83-4653-89cc-9e738f9f54c2\",\"type\":\"BoxAnnotation\"},{\"id\":\"d84732d5-9b61-43de-9fdb-fbf0434133c2\",\"type\":\"GlyphRenderer\"}],\"title\":{\"id\":\"45d4502e-94b4-4984-b58f-29f0c3c7821e\",\"type\":\"Title\"},\"toolbar\":{\"id\":\"9450f3f1-efd7-4d6b-8bbf-0a39ccaeabf1\",\"type\":\"Toolbar\"},\"x_range\":{\"id\":\"528b6c8f-5545-4b46-bf34-c9c1ee256c65\",\"type\":\"DataRange1d\"},\"x_scale\":{\"id\":\"df5c6cff-3d33-42f2-af18-f2d72f300121\",\"type\":\"LinearScale\"},\"y_range\":{\"id\":\"10392347-039a-4f83-9e83-cb298d8b5b78\",\"type\":\"DataRange1d\"},\"y_scale\":{\"id\":\"02bf9820-4fcf-4bca-9091-42ead9896296\",\"type\":\"LinearScale\"}},\"id\":\"b4caddf3-9a77-48e4-b5e4-85669e62e42d\",\"subtype\":\"Figure\",\"type\":\"Plot\"},{\"attributes\":{},\"id\":\"5a2d3c59-5c74-4044-9c0e-20e52380a862\",\"type\":\"Selection\"},{\"attributes\":{\"source\":{\"id\":\"595b1f05-101e-4950-b688-5ffa106a7e1f\",\"type\":\"ColumnDataSource\"}},\"id\":\"41144b07-f045-467f-9ba6-59d88bcfa673\",\"type\":\"CDSView\"},{\"attributes\":{\"active_drag\":\"auto\",\"active_inspect\":\"auto\",\"active_multi\":null,\"active_scroll\":\"auto\",\"active_tap\":\"auto\",\"tools\":[{\"id\":\"94732834-2210-451d-99d5-6bd8c53c988f\",\"type\":\"PanTool\"},{\"id\":\"97ca4ce4-495d-4883-be68-043b5ea16089\",\"type\":\"WheelZoomTool\"},{\"id\":\"3c809fbd-1717-4907-a28e-ab8fb2d1aaf6\",\"type\":\"BoxZoomTool\"},{\"id\":\"21d88032-f548-4686-a70c-5508e6f49a09\",\"type\":\"SaveTool\"},{\"id\":\"a0cfb7d8-167d-4255-a983-f77f09d35dd5\",\"type\":\"ResetTool\"},{\"id\":\"7e25a291-35c8-4b5e-9bab-5a8376d6bdf3\",\"type\":\"HelpTool\"}]},\"id\":\"9450f3f1-efd7-4d6b-8bbf-0a39ccaeabf1\",\"type\":\"Toolbar\"},{\"attributes\":{\"dimension\":1,\"plot\":{\"id\":\"b4caddf3-9a77-48e4-b5e4-85669e62e42d\",\"subtype\":\"Figure\",\"type\":\"Plot\"},\"ticker\":{\"id\":\"623fff3e-9587-4769-b2ee-916e146164af\",\"type\":\"BasicTicker\"}},\"id\":\"7c8605e8-9be7-4391-809f-03222447e8b7\",\"type\":\"Grid\"},{\"attributes\":{\"dimension\":1,\"plot\":{\"id\":\"d4f85261-0a22-46f9-aaa5-c33d8d3172b9\",\"subtype\":\"Figure\",\"type\":\"Plot\"},\"ticker\":{\"id\":\"f9edb028-3cd7-4d6b-8e86-1e91ac84bc2d\",\"type\":\"BasicTicker\"}},\"id\":\"5e143750-3e19-4e4f-b75d-4d3b8cb45079\",\"type\":\"Grid\"},{\"attributes\":{\"data_source\":{\"id\":\"5c95c37b-d462-4a43-a704-d49fa77bd4ae\",\"type\":\"ColumnDataSource\"},\"glyph\":{\"id\":\"0c15f8b6-1ff7-4210-beac-673bac419d6b\",\"type\":\"Triangle\"},\"hover_glyph\":null,\"muted_glyph\":null,\"nonselection_glyph\":{\"id\":\"c58fb81b-4ab8-45b7-b10b-db08787bda9f\",\"type\":\"Triangle\"},\"selection_glyph\":null,\"view\":{\"id\":\"78f2b7de-fca6-4fd0-94d3-4d95593593b6\",\"type\":\"CDSView\"}},\"id\":\"d6bb3d87-dd6a-4e1f-875a-341a893dfb9d\",\"type\":\"GlyphRenderer\"},{\"attributes\":{},\"id\":\"5b560262-d189-4127-8de3-7a136a432863\",\"type\":\"WheelZoomTool\"},{\"attributes\":{},\"id\":\"689c4163-a137-4ca5-8580-f9b2fee24698\",\"type\":\"UnionRenderers\"},{\"attributes\":{\"callback\":null,\"data\":{\"x\":[0,1,2,3,4,5,6,7,8,9,10],\"y\":[0,1,2,3,4,5,6,7,8,9,10]},\"selected\":{\"id\":\"3abde348-101b-4c1e-ad17-227750239d98\",\"type\":\"Selection\"},\"selection_policy\":{\"id\":\"f4ab961a-dfed-429f-aff0-c73348841a08\",\"type\":\"UnionRenderers\"}},\"id\":\"f28b84a1-6c69-4f13-96bf-d5df97205fff\",\"type\":\"ColumnDataSource\"},{\"attributes\":{\"plot\":null,\"text\":\"\"},\"id\":\"45d4502e-94b4-4984-b58f-29f0c3c7821e\",\"type\":\"Title\"},{\"attributes\":{},\"id\":\"df5c6cff-3d33-42f2-af18-f2d72f300121\",\"type\":\"LinearScale\"},{\"attributes\":{},\"id\":\"408a8930-523d-48df-8e15-acb7e34c4d22\",\"type\":\"BasicTickFormatter\"},{\"attributes\":{},\"id\":\"f4ab961a-dfed-429f-aff0-c73348841a08\",\"type\":\"UnionRenderers\"},{\"attributes\":{\"children\":[{\"id\":\"720fd97e-a984-4e97-a06b-87ac276ff232\",\"subtype\":\"Figure\",\"type\":\"Plot\"},{\"id\":\"d4f85261-0a22-46f9-aaa5-c33d8d3172b9\",\"subtype\":\"Figure\",\"type\":\"Plot\"},{\"id\":\"b4caddf3-9a77-48e4-b5e4-85669e62e42d\",\"subtype\":\"Figure\",\"type\":\"Plot\"}]},\"id\":\"5bd3044e-fa9b-419b-87f7-2373c301273b\",\"type\":\"Row\"},{\"attributes\":{},\"id\":\"bf00bd99-a24f-437e-b4b4-e5b2b1ab0b78\",\"type\":\"BasicTicker\"},{\"attributes\":{\"active_drag\":\"auto\",\"active_inspect\":\"auto\",\"active_multi\":null,\"active_scroll\":\"auto\",\"active_tap\":\"auto\",\"tools\":[{\"id\":\"7b5119f5-62fe-4d35-b161-acf1bca705c6\",\"type\":\"PanTool\"},{\"id\":\"edcc93c9-50f2-40b2-9532-43b77a181eb7\",\"type\":\"WheelZoomTool\"},{\"id\":\"ac059a97-0195-4703-a0d0-239269f01b0f\",\"type\":\"BoxZoomTool\"},{\"id\":\"b3acd853-7be0-4588-9068-36dfefca41fd\",\"type\":\"SaveTool\"},{\"id\":\"3bad779b-5eb8-4cd7-8da5-8fff0567da43\",\"type\":\"ResetTool\"},{\"id\":\"4113c4ea-878f-4ede-9f94-e74421c28f33\",\"type\":\"HelpTool\"}]},\"id\":\"9e83f40b-8839-4c55-833d-3a2d02a9b732\",\"type\":\"Toolbar\"},{\"attributes\":{\"callback\":null},\"id\":\"927216f7-5bba-48b2-a716-e65e2742ca38\",\"type\":\"DataRange1d\"},{\"attributes\":{},\"id\":\"ee5f27f1-215e-440c-91fc-055be385fb87\",\"type\":\"ResetTool\"},{\"attributes\":{},\"id\":\"36717157-8736-4f7b-b025-f7d347f6c8b1\",\"type\":\"UnionRenderers\"},{\"attributes\":{\"callback\":null,\"data\":{\"x\":[0,1,2,3,4,5,6,7,8,9,10],\"y\":[10,9,8,7,6,5,4,3,2,1,0]},\"selected\":{\"id\":\"5a2d3c59-5c74-4044-9c0e-20e52380a862\",\"type\":\"Selection\"},\"selection_policy\":{\"id\":\"689c4163-a137-4ca5-8580-f9b2fee24698\",\"type\":\"UnionRenderers\"}},\"id\":\"5c95c37b-d462-4a43-a704-d49fa77bd4ae\",\"type\":\"ColumnDataSource\"},{\"attributes\":{},\"id\":\"f9edb028-3cd7-4d6b-8e86-1e91ac84bc2d\",\"type\":\"BasicTicker\"},{\"attributes\":{},\"id\":\"9c1799ca-fba9-4b63-bd06-4f51cce9a0e6\",\"type\":\"LinearScale\"},{\"attributes\":{\"active_drag\":\"auto\",\"active_inspect\":\"auto\",\"active_multi\":null,\"active_scroll\":\"auto\",\"active_tap\":\"auto\",\"tools\":[{\"id\":\"102b03b4-b91a-46a1-9a92-58f6f3a8804e\",\"type\":\"PanTool\"},{\"id\":\"5b560262-d189-4127-8de3-7a136a432863\",\"type\":\"WheelZoomTool\"},{\"id\":\"161a79b0-5f90-4c6f-8048-ab77ca109c36\",\"type\":\"BoxZoomTool\"},{\"id\":\"e34900c3-1746-4de3-9d28-946a5a674b53\",\"type\":\"SaveTool\"},{\"id\":\"ee5f27f1-215e-440c-91fc-055be385fb87\",\"type\":\"ResetTool\"},{\"id\":\"17d274b6-e2b1-4385-a9b6-13dc9c9c9417\",\"type\":\"HelpTool\"}]},\"id\":\"a53ff9ba-fee5-46ca-86cc-c743a4bec6c6\",\"type\":\"Toolbar\"},{\"attributes\":{\"below\":[{\"id\":\"8a93474b-c56a-42da-b50a-f87817007794\",\"type\":\"LinearAxis\"}],\"left\":[{\"id\":\"cc530921-dce3-4a71-a6ff-3996af951a09\",\"type\":\"LinearAxis\"}],\"plot_height\":250,\"plot_width\":250,\"renderers\":[{\"id\":\"8a93474b-c56a-42da-b50a-f87817007794\",\"type\":\"LinearAxis\"},{\"id\":\"766a4c7d-ca78-4717-afcc-17f3540288eb\",\"type\":\"Grid\"},{\"id\":\"cc530921-dce3-4a71-a6ff-3996af951a09\",\"type\":\"LinearAxis\"},{\"id\":\"aa81adec-75b2-4596-af7b-c34e9d20e072\",\"type\":\"Grid\"},{\"id\":\"cf4ffa35-bed1-4f8a-b1b5-aafb45a465b8\",\"type\":\"BoxAnnotation\"},{\"id\":\"6bdac9bc-97de-4420-a5c0-2cfc2506e525\",\"type\":\"GlyphRenderer\"}],\"title\":{\"id\":\"c9f9d26a-012d-45e7-a2be-f29db9282293\",\"type\":\"Title\"},\"toolbar\":{\"id\":\"9e83f40b-8839-4c55-833d-3a2d02a9b732\",\"type\":\"Toolbar\"},\"x_range\":{\"id\":\"df42d083-ac01-4678-9d33-639adc146686\",\"type\":\"DataRange1d\"},\"x_scale\":{\"id\":\"9c1799ca-fba9-4b63-bd06-4f51cce9a0e6\",\"type\":\"LinearScale\"},\"y_range\":{\"id\":\"7e564fe2-46fa-4b61-b984-1e6979437198\",\"type\":\"DataRange1d\"},\"y_scale\":{\"id\":\"79283b70-0b9b-4936-b854-9d4292a15b5d\",\"type\":\"LinearScale\"}},\"id\":\"720fd97e-a984-4e97-a06b-87ac276ff232\",\"subtype\":\"Figure\",\"type\":\"Plot\"},{\"attributes\":{},\"id\":\"b3acd853-7be0-4588-9068-36dfefca41fd\",\"type\":\"SaveTool\"},{\"attributes\":{},\"id\":\"ba87164f-a616-4549-8b2a-bebafa0c87fe\",\"type\":\"BasicTicker\"},{\"attributes\":{\"overlay\":{\"id\":\"cf4ffa35-bed1-4f8a-b1b5-aafb45a465b8\",\"type\":\"BoxAnnotation\"}},\"id\":\"ac059a97-0195-4703-a0d0-239269f01b0f\",\"type\":\"BoxZoomTool\"},{\"attributes\":{},\"id\":\"10052e48-ab69-452c-8262-434ef3446119\",\"type\":\"BasicTickFormatter\"},{\"attributes\":{},\"id\":\"102b03b4-b91a-46a1-9a92-58f6f3a8804e\",\"type\":\"PanTool\"},{\"attributes\":{\"callback\":null,\"data\":{\"x\":[0,1,2,3,4,5,6,7,8,9,10],\"y\":[5,4,3,2,1,0,1,2,3,4,5]},\"selected\":{\"id\":\"4bd4fcef-2878-4bc4-bac1-19c64f8a849b\",\"type\":\"Selection\"},\"selection_policy\":{\"id\":\"36717157-8736-4f7b-b025-f7d347f6c8b1\",\"type\":\"UnionRenderers\"}},\"id\":\"595b1f05-101e-4950-b688-5ffa106a7e1f\",\"type\":\"ColumnDataSource\"},{\"attributes\":{},\"id\":\"b784613a-27c9-46ac-b2af-3ec054f93093\",\"type\":\"BasicTickFormatter\"},{\"attributes\":{},\"id\":\"fddeaa15-7bbe-49b8-89a7-f6a568db5861\",\"type\":\"LinearScale\"},{\"attributes\":{},\"id\":\"17d274b6-e2b1-4385-a9b6-13dc9c9c9417\",\"type\":\"HelpTool\"},{\"attributes\":{},\"id\":\"3bad779b-5eb8-4cd7-8da5-8fff0567da43\",\"type\":\"ResetTool\"},{\"attributes\":{},\"id\":\"12a8ba72-15a5-499b-a211-b3da47be714b\",\"type\":\"BasicTicker\"},{\"attributes\":{\"callback\":null},\"id\":\"df42d083-ac01-4678-9d33-639adc146686\",\"type\":\"DataRange1d\"},{\"attributes\":{},\"id\":\"4113c4ea-878f-4ede-9f94-e74421c28f33\",\"type\":\"HelpTool\"},{\"attributes\":{},\"id\":\"623fff3e-9587-4769-b2ee-916e146164af\",\"type\":\"BasicTicker\"},{\"attributes\":{\"fill_alpha\":{\"value\":0.5},\"fill_color\":{\"value\":\"navy\"},\"line_alpha\":{\"value\":0.5},\"line_color\":{\"value\":\"navy\"},\"size\":{\"units\":\"screen\",\"value\":10},\"x\":{\"field\":\"x\"},\"y\":{\"field\":\"y\"}},\"id\":\"80798a9b-1c41-443d-819f-a90d99c4b709\",\"type\":\"Circle\"},{\"attributes\":{\"source\":{\"id\":\"5c95c37b-d462-4a43-a704-d49fa77bd4ae\",\"type\":\"ColumnDataSource\"}},\"id\":\"78f2b7de-fca6-4fd0-94d3-4d95593593b6\",\"type\":\"CDSView\"},{\"attributes\":{\"plot\":null,\"text\":\"\"},\"id\":\"94d53ed3-09e8-42d2-8590-5997cdfb4c84\",\"type\":\"Title\"},{\"attributes\":{},\"id\":\"02bf9820-4fcf-4bca-9091-42ead9896296\",\"type\":\"LinearScale\"},{\"attributes\":{},\"id\":\"97ca4ce4-495d-4883-be68-043b5ea16089\",\"type\":\"WheelZoomTool\"},{\"attributes\":{\"data_source\":{\"id\":\"f28b84a1-6c69-4f13-96bf-d5df97205fff\",\"type\":\"ColumnDataSource\"},\"glyph\":{\"id\":\"80798a9b-1c41-443d-819f-a90d99c4b709\",\"type\":\"Circle\"},\"hover_glyph\":null,\"muted_glyph\":null,\"nonselection_glyph\":{\"id\":\"61403a82-45ab-4ccf-b742-b44ff1914d01\",\"type\":\"Circle\"},\"selection_glyph\":null,\"view\":{\"id\":\"d304f984-a4b2-480e-985b-5aeee153af46\",\"type\":\"CDSView\"}},\"id\":\"6bdac9bc-97de-4420-a5c0-2cfc2506e525\",\"type\":\"GlyphRenderer\"},{\"attributes\":{\"callback\":null},\"id\":\"528b6c8f-5545-4b46-bf34-c9c1ee256c65\",\"type\":\"DataRange1d\"},{\"attributes\":{\"plot\":null,\"text\":\"\"},\"id\":\"c9f9d26a-012d-45e7-a2be-f29db9282293\",\"type\":\"Title\"},{\"attributes\":{},\"id\":\"7e25a291-35c8-4b5e-9bab-5a8376d6bdf3\",\"type\":\"HelpTool\"},{\"attributes\":{},\"id\":\"e34900c3-1746-4de3-9d28-946a5a674b53\",\"type\":\"SaveTool\"},{\"attributes\":{\"callback\":null},\"id\":\"7e564fe2-46fa-4b61-b984-1e6979437198\",\"type\":\"DataRange1d\"},{\"attributes\":{},\"id\":\"2e8326f2-85e4-4fc3-b435-8f1d14d79ff3\",\"type\":\"BasicTicker\"},{\"attributes\":{},\"id\":\"4bd4fcef-2878-4bc4-bac1-19c64f8a849b\",\"type\":\"Selection\"},{\"attributes\":{\"callback\":null},\"id\":\"10392347-039a-4f83-9e83-cb298d8b5b78\",\"type\":\"DataRange1d\"},{\"attributes\":{\"formatter\":{\"id\":\"772fcf44-d61c-496b-bfa7-507fdc0ce508\",\"type\":\"BasicTickFormatter\"},\"plot\":{\"id\":\"720fd97e-a984-4e97-a06b-87ac276ff232\",\"subtype\":\"Figure\",\"type\":\"Plot\"},\"ticker\":{\"id\":\"ba87164f-a616-4549-8b2a-bebafa0c87fe\",\"type\":\"BasicTicker\"}},\"id\":\"cc530921-dce3-4a71-a6ff-3996af951a09\",\"type\":\"LinearAxis\"},{\"attributes\":{\"source\":{\"id\":\"f28b84a1-6c69-4f13-96bf-d5df97205fff\",\"type\":\"ColumnDataSource\"}},\"id\":\"d304f984-a4b2-480e-985b-5aeee153af46\",\"type\":\"CDSView\"},{\"attributes\":{\"formatter\":{\"id\":\"144351a0-f7ab-419e-9104-c056459f8015\",\"type\":\"BasicTickFormatter\"},\"plot\":{\"id\":\"d4f85261-0a22-46f9-aaa5-c33d8d3172b9\",\"subtype\":\"Figure\",\"type\":\"Plot\"},\"ticker\":{\"id\":\"f9edb028-3cd7-4d6b-8e86-1e91ac84bc2d\",\"type\":\"BasicTicker\"}},\"id\":\"3fe567b1-706b-47d7-b6db-4b8016c07172\",\"type\":\"LinearAxis\"},{\"attributes\":{},\"id\":\"7b5119f5-62fe-4d35-b161-acf1bca705c6\",\"type\":\"PanTool\"},{\"attributes\":{},\"id\":\"21d88032-f548-4686-a70c-5508e6f49a09\",\"type\":\"SaveTool\"},{\"attributes\":{\"plot\":{\"id\":\"720fd97e-a984-4e97-a06b-87ac276ff232\",\"subtype\":\"Figure\",\"type\":\"Plot\"},\"ticker\":{\"id\":\"2e8326f2-85e4-4fc3-b435-8f1d14d79ff3\",\"type\":\"BasicTicker\"}},\"id\":\"766a4c7d-ca78-4717-afcc-17f3540288eb\",\"type\":\"Grid\"},{\"attributes\":{\"fill_alpha\":{\"value\":0.1},\"fill_color\":{\"value\":\"#1f77b4\"},\"line_alpha\":{\"value\":0.1},\"line_color\":{\"value\":\"#1f77b4\"},\"size\":{\"units\":\"screen\",\"value\":10},\"x\":{\"field\":\"x\"},\"y\":{\"field\":\"y\"}},\"id\":\"c58fb81b-4ab8-45b7-b10b-db08787bda9f\",\"type\":\"Triangle\"},{\"attributes\":{\"bottom_units\":\"screen\",\"fill_alpha\":{\"value\":0.5},\"fill_color\":{\"value\":\"lightgrey\"},\"left_units\":\"screen\",\"level\":\"overlay\",\"line_alpha\":{\"value\":1.0},\"line_color\":{\"value\":\"black\"},\"line_dash\":[4,4],\"line_width\":{\"value\":2},\"plot\":null,\"render_mode\":\"css\",\"right_units\":\"screen\",\"top_units\":\"screen\"},\"id\":\"ed1b8cc7-6a83-4653-89cc-9e738f9f54c2\",\"type\":\"BoxAnnotation\"},{\"attributes\":{\"bottom_units\":\"screen\",\"fill_alpha\":{\"value\":0.5},\"fill_color\":{\"value\":\"lightgrey\"},\"left_units\":\"screen\",\"level\":\"overlay\",\"line_alpha\":{\"value\":1.0},\"line_color\":{\"value\":\"black\"},\"line_dash\":[4,4],\"line_width\":{\"value\":2},\"plot\":null,\"render_mode\":\"css\",\"right_units\":\"screen\",\"top_units\":\"screen\"},\"id\":\"cf4ffa35-bed1-4f8a-b1b5-aafb45a465b8\",\"type\":\"BoxAnnotation\"},{\"attributes\":{\"below\":[{\"id\":\"96143d85-04ba-46e0-9b2d-2a6a11402dd0\",\"type\":\"LinearAxis\"}],\"left\":[{\"id\":\"3fe567b1-706b-47d7-b6db-4b8016c07172\",\"type\":\"LinearAxis\"}],\"plot_height\":250,\"plot_width\":250,\"renderers\":[{\"id\":\"96143d85-04ba-46e0-9b2d-2a6a11402dd0\",\"type\":\"LinearAxis\"},{\"id\":\"ce07a23f-19a2-4880-8259-000d6279f9b4\",\"type\":\"Grid\"},{\"id\":\"3fe567b1-706b-47d7-b6db-4b8016c07172\",\"type\":\"LinearAxis\"},{\"id\":\"5e143750-3e19-4e4f-b75d-4d3b8cb45079\",\"type\":\"Grid\"},{\"id\":\"d2fef0e3-1713-4396-927b-3369a71e329a\",\"type\":\"BoxAnnotation\"},{\"id\":\"d6bb3d87-dd6a-4e1f-875a-341a893dfb9d\",\"type\":\"GlyphRenderer\"}],\"title\":{\"id\":\"94d53ed3-09e8-42d2-8590-5997cdfb4c84\",\"type\":\"Title\"},\"toolbar\":{\"id\":\"a53ff9ba-fee5-46ca-86cc-c743a4bec6c6\",\"type\":\"Toolbar\"},\"x_range\":{\"id\":\"d2b1d41e-4408-4c42-8a94-a220db332a3a\",\"type\":\"DataRange1d\"},\"x_scale\":{\"id\":\"2b1c141d-b269-4de8-ac18-13dd3bf248aa\",\"type\":\"LinearScale\"},\"y_range\":{\"id\":\"927216f7-5bba-48b2-a716-e65e2742ca38\",\"type\":\"DataRange1d\"},\"y_scale\":{\"id\":\"fddeaa15-7bbe-49b8-89a7-f6a568db5861\",\"type\":\"LinearScale\"}},\"id\":\"d4f85261-0a22-46f9-aaa5-c33d8d3172b9\",\"subtype\":\"Figure\",\"type\":\"Plot\"},{\"attributes\":{\"plot\":{\"id\":\"b4caddf3-9a77-48e4-b5e4-85669e62e42d\",\"subtype\":\"Figure\",\"type\":\"Plot\"},\"ticker\":{\"id\":\"bf00bd99-a24f-437e-b4b4-e5b2b1ab0b78\",\"type\":\"BasicTicker\"}},\"id\":\"023b79f2-07df-46cf-81f4-f9e0f8b367e7\",\"type\":\"Grid\"},{\"attributes\":{\"callback\":null},\"id\":\"d2b1d41e-4408-4c42-8a94-a220db332a3a\",\"type\":\"DataRange1d\"},{\"attributes\":{\"data_source\":{\"id\":\"595b1f05-101e-4950-b688-5ffa106a7e1f\",\"type\":\"ColumnDataSource\"},\"glyph\":{\"id\":\"a4991052-8e5f-4b4e-aa49-c1b9a8f4dcc3\",\"type\":\"Square\"},\"hover_glyph\":null,\"muted_glyph\":null,\"nonselection_glyph\":{\"id\":\"caa47968-c8b5-4b10-9335-ce4c71ee5d46\",\"type\":\"Square\"},\"selection_glyph\":null,\"view\":{\"id\":\"41144b07-f045-467f-9ba6-59d88bcfa673\",\"type\":\"CDSView\"}},\"id\":\"d84732d5-9b61-43de-9fdb-fbf0434133c2\",\"type\":\"GlyphRenderer\"},{\"attributes\":{\"fill_alpha\":{\"value\":0.5},\"fill_color\":{\"value\":\"olive\"},\"line_alpha\":{\"value\":0.5},\"line_color\":{\"value\":\"olive\"},\"size\":{\"units\":\"screen\",\"value\":10},\"x\":{\"field\":\"x\"},\"y\":{\"field\":\"y\"}},\"id\":\"a4991052-8e5f-4b4e-aa49-c1b9a8f4dcc3\",\"type\":\"Square\"}],\"root_ids\":[\"5bd3044e-fa9b-419b-87f7-2373c301273b\"]},\"title\":\"Bokeh Application\",\"version\":\"0.13.0\"}};\n",
       "  var render_items = [{\"docid\":\"424f2452-81e8-4978-9882-ef05447cb2e1\",\"roots\":{\"5bd3044e-fa9b-419b-87f7-2373c301273b\":\"db00649a-09e0-4d9e-b7e9-8d2d4c74ac2e\"}}];\n",
       "  root.Bokeh.embed.embed_items_notebook(docs_json, render_items);\n",
       "\n",
       "  }\n",
       "  if (root.Bokeh !== undefined) {\n",
       "    embed_document(root);\n",
       "  } else {\n",
       "    var attempts = 0;\n",
       "    var timer = setInterval(function(root) {\n",
       "      if (root.Bokeh !== undefined) {\n",
       "        embed_document(root);\n",
       "        clearInterval(timer);\n",
       "      }\n",
       "      attempts++;\n",
       "      if (attempts > 100) {\n",
       "        console.log(\"Bokeh: ERROR: Unable to run BokehJS code because BokehJS library is missing\")\n",
       "        clearInterval(timer);\n",
       "      }\n",
       "    }, 10, root)\n",
       "  }\n",
       "})(window);"
      ],
      "application/vnd.bokehjs_exec.v0+json": ""
     },
     "metadata": {
      "application/vnd.bokehjs_exec.v0+json": {
       "id": "5bd3044e-fa9b-419b-87f7-2373c301273b"
      }
     },
     "output_type": "display_data"
    }
   ],
   "source": [
    "from bokeh.layouts import row\n",
    "\n",
    "# create a new plot\n",
    "s1 = figure(width=250, plot_height=250)\n",
    "s1.circle(x, y0, size=10, color=\"navy\", alpha=0.5)\n",
    "\n",
    "# create another one\n",
    "s2 = figure(width=250, height=250)\n",
    "s2.triangle(x, y1, size=10, color=\"firebrick\", alpha=0.5)\n",
    "\n",
    "# create and another\n",
    "s3 = figure(width=250, height=250)\n",
    "s3.square(x, y2, size=10, color=\"olive\", alpha=0.5)\n",
    "\n",
    "# show the results in a row\n",
    "show(row(s1, s2, s3))"
   ]
  },
  {
   "cell_type": "code",
   "execution_count": 4,
   "metadata": {
    "slideshow": {
     "slide_type": "subslide"
    }
   },
   "outputs": [
    {
     "data": {
      "text/html": [
       "\n",
       "\n",
       "\n",
       "\n",
       "\n",
       "\n",
       "  <div class=\"bk-root\" id=\"7ed21884-0151-4f35-a034-8ca3cae663cf\"></div>\n"
      ]
     },
     "metadata": {},
     "output_type": "display_data"
    },
    {
     "data": {
      "application/javascript": [
       "(function(root) {\n",
       "  function embed_document(root) {\n",
       "    \n",
       "  var docs_json = {\"e2908e5b-adde-4366-85aa-1e36f2147fc4\":{\"roots\":{\"references\":[{\"attributes\":{\"dimension\":1,\"plot\":{\"id\":\"10a16295-59c4-42ed-92a8-3045fc661697\",\"subtype\":\"Figure\",\"type\":\"Plot\"},\"ticker\":{\"id\":\"e7f406a1-efa8-4168-9456-8bc675008e4a\",\"type\":\"BasicTicker\"}},\"id\":\"a8fbff82-2ffa-498c-a180-e9f6c77cdc59\",\"type\":\"Grid\"},{\"attributes\":{\"formatter\":{\"id\":\"84b76eee-ad1b-4e9a-9168-c3a759c764d9\",\"type\":\"BasicTickFormatter\"},\"plot\":{\"id\":\"35b60fa6-88bd-450e-a16d-34e66b030fbd\",\"subtype\":\"Figure\",\"type\":\"Plot\"},\"ticker\":{\"id\":\"1802ac39-7596-4ad7-bd53-0e1ecc4cb12e\",\"type\":\"BasicTicker\"}},\"id\":\"bd07df49-9a27-4e9e-b1a3-0d1fe52b65be\",\"type\":\"LinearAxis\"},{\"attributes\":{},\"id\":\"bed5d32f-4298-45bf-97b4-9327c9bb6487\",\"type\":\"LinearScale\"},{\"attributes\":{\"bottom_units\":\"screen\",\"fill_alpha\":{\"value\":0.5},\"fill_color\":{\"value\":\"lightgrey\"},\"left_units\":\"screen\",\"level\":\"overlay\",\"line_alpha\":{\"value\":1.0},\"line_color\":{\"value\":\"black\"},\"line_dash\":[4,4],\"line_width\":{\"value\":2},\"plot\":null,\"render_mode\":\"css\",\"right_units\":\"screen\",\"top_units\":\"screen\"},\"id\":\"93f9ecdd-1131-40ec-b774-4567d3878537\",\"type\":\"BoxAnnotation\"},{\"attributes\":{},\"id\":\"e7f406a1-efa8-4168-9456-8bc675008e4a\",\"type\":\"BasicTicker\"},{\"attributes\":{\"source\":{\"id\":\"455a5bbb-cfd3-4cc3-b98e-56a6733eee52\",\"type\":\"ColumnDataSource\"}},\"id\":\"87336836-f822-4bef-ad04-d07fbe3c247c\",\"type\":\"CDSView\"},{\"attributes\":{},\"id\":\"40f79de9-4ad4-4101-b0c3-b61fcf43eee5\",\"type\":\"SaveTool\"},{\"attributes\":{\"data_source\":{\"id\":\"79930257-2be7-4fef-a2f9-c1db338824ff\",\"type\":\"ColumnDataSource\"},\"glyph\":{\"id\":\"a5b7a75f-cb70-4834-ae56-5255965dd16f\",\"type\":\"Circle\"},\"hover_glyph\":null,\"muted_glyph\":null,\"nonselection_glyph\":{\"id\":\"e18aed9d-5aa9-4d6b-be67-477c1800ebbe\",\"type\":\"Circle\"},\"selection_glyph\":null,\"view\":{\"id\":\"464b5881-334f-4df0-b010-5008ed1289dc\",\"type\":\"CDSView\"}},\"id\":\"0ada5718-6656-4b14-a721-9cee0443338d\",\"type\":\"GlyphRenderer\"},{\"attributes\":{\"plot\":{\"id\":\"10a16295-59c4-42ed-92a8-3045fc661697\",\"subtype\":\"Figure\",\"type\":\"Plot\"},\"ticker\":{\"id\":\"6d0788bc-f9d1-4043-b08a-eb544c4669c3\",\"type\":\"BasicTicker\"}},\"id\":\"123222f2-41f7-4acf-bf35-5abcb6d22803\",\"type\":\"Grid\"},{\"attributes\":{\"below\":[{\"id\":\"4a8c4170-040f-4f61-b8d0-ae7b46117109\",\"type\":\"LinearAxis\"}],\"left\":[{\"id\":\"12ea1633-d4e6-47ae-9d42-564139fe1817\",\"type\":\"LinearAxis\"}],\"plot_height\":250,\"plot_width\":250,\"renderers\":[{\"id\":\"4a8c4170-040f-4f61-b8d0-ae7b46117109\",\"type\":\"LinearAxis\"},{\"id\":\"123222f2-41f7-4acf-bf35-5abcb6d22803\",\"type\":\"Grid\"},{\"id\":\"12ea1633-d4e6-47ae-9d42-564139fe1817\",\"type\":\"LinearAxis\"},{\"id\":\"a8fbff82-2ffa-498c-a180-e9f6c77cdc59\",\"type\":\"Grid\"},{\"id\":\"0a84f279-0beb-49aa-9b6d-ebac326dd44a\",\"type\":\"BoxAnnotation\"},{\"id\":\"55d3f79e-04d1-4f6a-8361-70f771eb5244\",\"type\":\"GlyphRenderer\"}],\"title\":{\"id\":\"600c9207-db84-4b69-b2e8-da5907931fcc\",\"type\":\"Title\"},\"toolbar\":{\"id\":\"0647c471-205b-49b0-9c21-36196a643433\",\"type\":\"Toolbar\"},\"x_range\":{\"id\":\"4773cc4c-33ad-427a-a0bc-780fbdb3d038\",\"type\":\"DataRange1d\"},\"x_scale\":{\"id\":\"dacdf0f5-e824-4fbf-866c-5264337062bc\",\"type\":\"LinearScale\"},\"y_range\":{\"id\":\"45a43804-ecd2-4b02-a8b3-d04ce383d3f2\",\"type\":\"DataRange1d\"},\"y_scale\":{\"id\":\"fe7b2237-1451-44bb-b2bd-3a9732ff7aa8\",\"type\":\"LinearScale\"}},\"id\":\"10a16295-59c4-42ed-92a8-3045fc661697\",\"subtype\":\"Figure\",\"type\":\"Plot\"},{\"attributes\":{\"formatter\":{\"id\":\"ad53b48f-8f78-4090-aa83-7fe5abed14c6\",\"type\":\"BasicTickFormatter\"},\"plot\":{\"id\":\"10a16295-59c4-42ed-92a8-3045fc661697\",\"subtype\":\"Figure\",\"type\":\"Plot\"},\"ticker\":{\"id\":\"e7f406a1-efa8-4168-9456-8bc675008e4a\",\"type\":\"BasicTicker\"}},\"id\":\"12ea1633-d4e6-47ae-9d42-564139fe1817\",\"type\":\"LinearAxis\"},{\"attributes\":{},\"id\":\"6114b628-558d-4566-a21e-26de7ff624ec\",\"type\":\"BasicTicker\"},{\"attributes\":{},\"id\":\"9daa37f3-dab9-4a42-8069-662ce2b30a4a\",\"type\":\"LinearScale\"},{\"attributes\":{},\"id\":\"96b1deee-a5cf-4200-b6be-ae2989903bb8\",\"type\":\"ResetTool\"},{\"attributes\":{},\"id\":\"523ff92e-a22b-4f35-8bac-bbdc867264cc\",\"type\":\"UnionRenderers\"},{\"attributes\":{\"fill_alpha\":{\"value\":0.5},\"fill_color\":{\"value\":\"firebrick\"},\"line_alpha\":{\"value\":0.5},\"line_color\":{\"value\":\"firebrick\"},\"size\":{\"units\":\"screen\",\"value\":10},\"x\":{\"field\":\"x\"},\"y\":{\"field\":\"y\"}},\"id\":\"50d42b10-90f7-44ce-835a-8e40bff804f9\",\"type\":\"Triangle\"},{\"attributes\":{},\"id\":\"ff785231-c43f-4745-a86e-5768f75f824d\",\"type\":\"PanTool\"},{\"attributes\":{\"dimension\":1,\"plot\":{\"id\":\"9a18590d-9425-4a8c-9cd0-bdbcd9690b08\",\"subtype\":\"Figure\",\"type\":\"Plot\"},\"ticker\":{\"id\":\"7f54184f-26ad-4b8e-8033-e60d8601d1a8\",\"type\":\"BasicTicker\"}},\"id\":\"a569b8c1-429f-4bad-817d-020055f00adb\",\"type\":\"Grid\"},{\"attributes\":{\"callback\":null,\"data\":{\"x\":[0,1,2,3,4,5,6,7,8,9,10],\"y\":[5,4,3,2,1,0,1,2,3,4,5]},\"selected\":{\"id\":\"8f6bd1ed-95dc-4632-86f4-ddc3d1b4ebee\",\"type\":\"Selection\"},\"selection_policy\":{\"id\":\"523ff92e-a22b-4f35-8bac-bbdc867264cc\",\"type\":\"UnionRenderers\"}},\"id\":\"b8592f5d-0598-4d4d-a704-8c66ae85b0f8\",\"type\":\"ColumnDataSource\"},{\"attributes\":{},\"id\":\"31caec63-cc01-4540-88bb-644a32160bb5\",\"type\":\"Selection\"},{\"attributes\":{\"children\":[{\"id\":\"9a18590d-9425-4a8c-9cd0-bdbcd9690b08\",\"subtype\":\"Figure\",\"type\":\"Plot\"},{\"id\":\"10a16295-59c4-42ed-92a8-3045fc661697\",\"subtype\":\"Figure\",\"type\":\"Plot\"},{\"id\":\"35b60fa6-88bd-450e-a16d-34e66b030fbd\",\"subtype\":\"Figure\",\"type\":\"Plot\"}]},\"id\":\"4bffb120-0567-4061-8cfa-e3667cef8799\",\"type\":\"Column\"},{\"attributes\":{\"active_drag\":\"auto\",\"active_inspect\":\"auto\",\"active_multi\":null,\"active_scroll\":\"auto\",\"active_tap\":\"auto\",\"tools\":[{\"id\":\"21080db1-0e1e-4e3d-9e7a-e02edd44325c\",\"type\":\"PanTool\"},{\"id\":\"2f83e32f-bff7-4b34-83aa-7e097553fc12\",\"type\":\"WheelZoomTool\"},{\"id\":\"0e596bc6-f203-42d8-aed7-7195ed5da89d\",\"type\":\"BoxZoomTool\"},{\"id\":\"40f79de9-4ad4-4101-b0c3-b61fcf43eee5\",\"type\":\"SaveTool\"},{\"id\":\"96b1deee-a5cf-4200-b6be-ae2989903bb8\",\"type\":\"ResetTool\"},{\"id\":\"e8dfd72a-aea3-44d6-9b0e-4dfc600b8029\",\"type\":\"HelpTool\"}]},\"id\":\"64c81731-4ab2-4156-915e-8ceba7008a0d\",\"type\":\"Toolbar\"},{\"attributes\":{\"bottom_units\":\"screen\",\"fill_alpha\":{\"value\":0.5},\"fill_color\":{\"value\":\"lightgrey\"},\"left_units\":\"screen\",\"level\":\"overlay\",\"line_alpha\":{\"value\":1.0},\"line_color\":{\"value\":\"black\"},\"line_dash\":[4,4],\"line_width\":{\"value\":2},\"plot\":null,\"render_mode\":\"css\",\"right_units\":\"screen\",\"top_units\":\"screen\"},\"id\":\"a3e8e4b7-4f5b-4277-a29f-e0b7c3acf9e3\",\"type\":\"BoxAnnotation\"},{\"attributes\":{},\"id\":\"71af7ea2-f44a-470e-b03d-61d2e872f466\",\"type\":\"BasicTickFormatter\"},{\"attributes\":{\"formatter\":{\"id\":\"1862c1dd-13b8-4b5f-90b4-15dcfbe11c09\",\"type\":\"BasicTickFormatter\"},\"plot\":{\"id\":\"9a18590d-9425-4a8c-9cd0-bdbcd9690b08\",\"subtype\":\"Figure\",\"type\":\"Plot\"},\"ticker\":{\"id\":\"34e5eb7f-cb12-4069-9a59-8cb9015618ab\",\"type\":\"BasicTicker\"}},\"id\":\"9fb39a83-721f-4fb9-8098-82c9b61c2e22\",\"type\":\"LinearAxis\"},{\"attributes\":{},\"id\":\"1b8f85f8-3682-4947-84b6-7255359ad362\",\"type\":\"UnionRenderers\"},{\"attributes\":{\"fill_alpha\":{\"value\":0.1},\"fill_color\":{\"value\":\"#1f77b4\"},\"line_alpha\":{\"value\":0.1},\"line_color\":{\"value\":\"#1f77b4\"},\"size\":{\"units\":\"screen\",\"value\":10},\"x\":{\"field\":\"x\"},\"y\":{\"field\":\"y\"}},\"id\":\"3f4c506e-548e-42b0-afd0-c3bad66cd591\",\"type\":\"Triangle\"},{\"attributes\":{},\"id\":\"7f54184f-26ad-4b8e-8033-e60d8601d1a8\",\"type\":\"BasicTicker\"},{\"attributes\":{\"fill_alpha\":{\"value\":0.5},\"fill_color\":{\"value\":\"olive\"},\"line_alpha\":{\"value\":0.5},\"line_color\":{\"value\":\"olive\"},\"size\":{\"units\":\"screen\",\"value\":10},\"x\":{\"field\":\"x\"},\"y\":{\"field\":\"y\"}},\"id\":\"09095f52-33f3-46d2-94de-38e6aa150539\",\"type\":\"Square\"},{\"attributes\":{},\"id\":\"1862c1dd-13b8-4b5f-90b4-15dcfbe11c09\",\"type\":\"BasicTickFormatter\"},{\"attributes\":{},\"id\":\"d33788f1-a943-45bf-bcef-c1b67491a266\",\"type\":\"BasicTickFormatter\"},{\"attributes\":{},\"id\":\"bc86fc69-0f8e-48fe-bb33-58ee3f70e2bc\",\"type\":\"WheelZoomTool\"},{\"attributes\":{},\"id\":\"e8dfd72a-aea3-44d6-9b0e-4dfc600b8029\",\"type\":\"HelpTool\"},{\"attributes\":{\"fill_alpha\":{\"value\":0.1},\"fill_color\":{\"value\":\"#1f77b4\"},\"line_alpha\":{\"value\":0.1},\"line_color\":{\"value\":\"#1f77b4\"},\"size\":{\"units\":\"screen\",\"value\":10},\"x\":{\"field\":\"x\"},\"y\":{\"field\":\"y\"}},\"id\":\"cb787ae9-705b-4e71-b4ee-e63bb6ed013b\",\"type\":\"Square\"},{\"attributes\":{\"below\":[{\"id\":\"48cf9cfb-096c-4eda-bbae-0432c9cd97ee\",\"type\":\"LinearAxis\"}],\"left\":[{\"id\":\"bd07df49-9a27-4e9e-b1a3-0d1fe52b65be\",\"type\":\"LinearAxis\"}],\"plot_height\":250,\"plot_width\":250,\"renderers\":[{\"id\":\"48cf9cfb-096c-4eda-bbae-0432c9cd97ee\",\"type\":\"LinearAxis\"},{\"id\":\"8ead03f7-2e84-4868-b48c-252056ba1429\",\"type\":\"Grid\"},{\"id\":\"bd07df49-9a27-4e9e-b1a3-0d1fe52b65be\",\"type\":\"LinearAxis\"},{\"id\":\"3f23c02e-c151-43bd-ae97-409805794ba8\",\"type\":\"Grid\"},{\"id\":\"93f9ecdd-1131-40ec-b774-4567d3878537\",\"type\":\"BoxAnnotation\"},{\"id\":\"19ac20af-b64a-4c8d-97e2-1b91094aa50d\",\"type\":\"GlyphRenderer\"}],\"title\":{\"id\":\"2c7fa4ca-a900-46a2-b838-17897fe94d31\",\"type\":\"Title\"},\"toolbar\":{\"id\":\"d9b65ba5-d918-4248-8a6b-a23f7f8e6984\",\"type\":\"Toolbar\"},\"x_range\":{\"id\":\"9a486cf6-7d76-4d5e-b700-4f7fa30164af\",\"type\":\"DataRange1d\"},\"x_scale\":{\"id\":\"bed5d32f-4298-45bf-97b4-9327c9bb6487\",\"type\":\"LinearScale\"},\"y_range\":{\"id\":\"b0e822f2-97c0-4345-b6a7-554143cc3613\",\"type\":\"DataRange1d\"},\"y_scale\":{\"id\":\"ec66b621-b27d-49ac-a851-e5ef4f8d1328\",\"type\":\"LinearScale\"}},\"id\":\"35b60fa6-88bd-450e-a16d-34e66b030fbd\",\"subtype\":\"Figure\",\"type\":\"Plot\"},{\"attributes\":{},\"id\":\"141e883a-43e4-4e3c-8d6c-5bbbc6ed1052\",\"type\":\"UnionRenderers\"},{\"attributes\":{\"fill_alpha\":{\"value\":0.5},\"fill_color\":{\"value\":\"navy\"},\"line_alpha\":{\"value\":0.5},\"line_color\":{\"value\":\"navy\"},\"size\":{\"units\":\"screen\",\"value\":10},\"x\":{\"field\":\"x\"},\"y\":{\"field\":\"y\"}},\"id\":\"a5b7a75f-cb70-4834-ae56-5255965dd16f\",\"type\":\"Circle\"},{\"attributes\":{},\"id\":\"ec66b621-b27d-49ac-a851-e5ef4f8d1328\",\"type\":\"LinearScale\"},{\"attributes\":{\"formatter\":{\"id\":\"b74004c9-2065-4623-bfa3-34eb8c6a0ef2\",\"type\":\"BasicTickFormatter\"},\"plot\":{\"id\":\"9a18590d-9425-4a8c-9cd0-bdbcd9690b08\",\"subtype\":\"Figure\",\"type\":\"Plot\"},\"ticker\":{\"id\":\"7f54184f-26ad-4b8e-8033-e60d8601d1a8\",\"type\":\"BasicTicker\"}},\"id\":\"e709cd25-a7de-4de9-836e-f4031236cbc1\",\"type\":\"LinearAxis\"},{\"attributes\":{\"below\":[{\"id\":\"9fb39a83-721f-4fb9-8098-82c9b61c2e22\",\"type\":\"LinearAxis\"}],\"left\":[{\"id\":\"e709cd25-a7de-4de9-836e-f4031236cbc1\",\"type\":\"LinearAxis\"}],\"plot_height\":250,\"plot_width\":250,\"renderers\":[{\"id\":\"9fb39a83-721f-4fb9-8098-82c9b61c2e22\",\"type\":\"LinearAxis\"},{\"id\":\"beb7aa96-1686-487f-9a48-58bf7086a5b3\",\"type\":\"Grid\"},{\"id\":\"e709cd25-a7de-4de9-836e-f4031236cbc1\",\"type\":\"LinearAxis\"},{\"id\":\"a569b8c1-429f-4bad-817d-020055f00adb\",\"type\":\"Grid\"},{\"id\":\"a3e8e4b7-4f5b-4277-a29f-e0b7c3acf9e3\",\"type\":\"BoxAnnotation\"},{\"id\":\"0ada5718-6656-4b14-a721-9cee0443338d\",\"type\":\"GlyphRenderer\"}],\"title\":{\"id\":\"3fe31d2b-4fd2-4c8b-a23c-8e1bdd56b03a\",\"type\":\"Title\"},\"toolbar\":{\"id\":\"64c81731-4ab2-4156-915e-8ceba7008a0d\",\"type\":\"Toolbar\"},\"x_range\":{\"id\":\"46b7a440-199e-4ebf-bdab-edaed3a571ec\",\"type\":\"DataRange1d\"},\"x_scale\":{\"id\":\"9daa37f3-dab9-4a42-8069-662ce2b30a4a\",\"type\":\"LinearScale\"},\"y_range\":{\"id\":\"3e8fa4ca-1def-4c65-a362-4b3ad8144ca9\",\"type\":\"DataRange1d\"},\"y_scale\":{\"id\":\"a76a5f00-4b80-4258-a0ce-f1b4ff3f7374\",\"type\":\"LinearScale\"}},\"id\":\"9a18590d-9425-4a8c-9cd0-bdbcd9690b08\",\"subtype\":\"Figure\",\"type\":\"Plot\"},{\"attributes\":{\"plot\":null,\"text\":\"\"},\"id\":\"600c9207-db84-4b69-b2e8-da5907931fcc\",\"type\":\"Title\"},{\"attributes\":{},\"id\":\"daa619d7-18d0-4d28-90d8-60f0648cd8a7\",\"type\":\"HelpTool\"},{\"attributes\":{},\"id\":\"6c432fc3-452b-4fb5-9420-c49592e0dc19\",\"type\":\"ResetTool\"},{\"attributes\":{\"callback\":null},\"id\":\"b0e822f2-97c0-4345-b6a7-554143cc3613\",\"type\":\"DataRange1d\"},{\"attributes\":{},\"id\":\"ad53b48f-8f78-4090-aa83-7fe5abed14c6\",\"type\":\"BasicTickFormatter\"},{\"attributes\":{\"callback\":null,\"data\":{\"x\":[0,1,2,3,4,5,6,7,8,9,10],\"y\":[10,9,8,7,6,5,4,3,2,1,0]},\"selected\":{\"id\":\"a13557f0-b171-47ca-bc0d-9bb0cc406371\",\"type\":\"Selection\"},\"selection_policy\":{\"id\":\"1b8f85f8-3682-4947-84b6-7255359ad362\",\"type\":\"UnionRenderers\"}},\"id\":\"455a5bbb-cfd3-4cc3-b98e-56a6733eee52\",\"type\":\"ColumnDataSource\"},{\"attributes\":{\"callback\":null},\"id\":\"46b7a440-199e-4ebf-bdab-edaed3a571ec\",\"type\":\"DataRange1d\"},{\"attributes\":{},\"id\":\"e7b0f40e-d574-47d2-a0b5-c1e8337d8783\",\"type\":\"HelpTool\"},{\"attributes\":{\"plot\":{\"id\":\"35b60fa6-88bd-450e-a16d-34e66b030fbd\",\"subtype\":\"Figure\",\"type\":\"Plot\"},\"ticker\":{\"id\":\"6114b628-558d-4566-a21e-26de7ff624ec\",\"type\":\"BasicTicker\"}},\"id\":\"8ead03f7-2e84-4868-b48c-252056ba1429\",\"type\":\"Grid\"},{\"attributes\":{},\"id\":\"5edf791a-9fa3-4fcb-a8a9-f94c71533abd\",\"type\":\"SaveTool\"},{\"attributes\":{},\"id\":\"84b76eee-ad1b-4e9a-9168-c3a759c764d9\",\"type\":\"BasicTickFormatter\"},{\"attributes\":{\"data_source\":{\"id\":\"455a5bbb-cfd3-4cc3-b98e-56a6733eee52\",\"type\":\"ColumnDataSource\"},\"glyph\":{\"id\":\"50d42b10-90f7-44ce-835a-8e40bff804f9\",\"type\":\"Triangle\"},\"hover_glyph\":null,\"muted_glyph\":null,\"nonselection_glyph\":{\"id\":\"3f4c506e-548e-42b0-afd0-c3bad66cd591\",\"type\":\"Triangle\"},\"selection_glyph\":null,\"view\":{\"id\":\"87336836-f822-4bef-ad04-d07fbe3c247c\",\"type\":\"CDSView\"}},\"id\":\"55d3f79e-04d1-4f6a-8361-70f771eb5244\",\"type\":\"GlyphRenderer\"},{\"attributes\":{},\"id\":\"21080db1-0e1e-4e3d-9e7a-e02edd44325c\",\"type\":\"PanTool\"},{\"attributes\":{\"plot\":null,\"text\":\"\"},\"id\":\"2c7fa4ca-a900-46a2-b838-17897fe94d31\",\"type\":\"Title\"},{\"attributes\":{\"overlay\":{\"id\":\"93f9ecdd-1131-40ec-b774-4567d3878537\",\"type\":\"BoxAnnotation\"}},\"id\":\"a5e9610a-dbb5-4a41-b950-518aeee2a1f6\",\"type\":\"BoxZoomTool\"},{\"attributes\":{},\"id\":\"2f83e32f-bff7-4b34-83aa-7e097553fc12\",\"type\":\"WheelZoomTool\"},{\"attributes\":{},\"id\":\"fe7b2237-1451-44bb-b2bd-3a9732ff7aa8\",\"type\":\"LinearScale\"},{\"attributes\":{},\"id\":\"eb9e7fbf-6576-4427-8d3e-b836233a35c5\",\"type\":\"PanTool\"},{\"attributes\":{\"dimension\":1,\"plot\":{\"id\":\"35b60fa6-88bd-450e-a16d-34e66b030fbd\",\"subtype\":\"Figure\",\"type\":\"Plot\"},\"ticker\":{\"id\":\"1802ac39-7596-4ad7-bd53-0e1ecc4cb12e\",\"type\":\"BasicTicker\"}},\"id\":\"3f23c02e-c151-43bd-ae97-409805794ba8\",\"type\":\"Grid\"},{\"attributes\":{},\"id\":\"0cac2f5b-b6f9-4f52-a585-2d0c74ffc85a\",\"type\":\"ResetTool\"},{\"attributes\":{},\"id\":\"8f6bd1ed-95dc-4632-86f4-ddc3d1b4ebee\",\"type\":\"Selection\"},{\"attributes\":{\"plot\":{\"id\":\"9a18590d-9425-4a8c-9cd0-bdbcd9690b08\",\"subtype\":\"Figure\",\"type\":\"Plot\"},\"ticker\":{\"id\":\"34e5eb7f-cb12-4069-9a59-8cb9015618ab\",\"type\":\"BasicTicker\"}},\"id\":\"beb7aa96-1686-487f-9a48-58bf7086a5b3\",\"type\":\"Grid\"},{\"attributes\":{\"callback\":null},\"id\":\"45a43804-ecd2-4b02-a8b3-d04ce383d3f2\",\"type\":\"DataRange1d\"},{\"attributes\":{\"callback\":null},\"id\":\"9a486cf6-7d76-4d5e-b700-4f7fa30164af\",\"type\":\"DataRange1d\"},{\"attributes\":{\"active_drag\":\"auto\",\"active_inspect\":\"auto\",\"active_multi\":null,\"active_scroll\":\"auto\",\"active_tap\":\"auto\",\"tools\":[{\"id\":\"eb9e7fbf-6576-4427-8d3e-b836233a35c5\",\"type\":\"PanTool\"},{\"id\":\"bc86fc69-0f8e-48fe-bb33-58ee3f70e2bc\",\"type\":\"WheelZoomTool\"},{\"id\":\"021e59fd-22cf-41d6-bf5b-f371d39ba474\",\"type\":\"BoxZoomTool\"},{\"id\":\"a3d65581-64c7-4782-857c-39ef0950236f\",\"type\":\"SaveTool\"},{\"id\":\"6c432fc3-452b-4fb5-9420-c49592e0dc19\",\"type\":\"ResetTool\"},{\"id\":\"e7b0f40e-d574-47d2-a0b5-c1e8337d8783\",\"type\":\"HelpTool\"}]},\"id\":\"0647c471-205b-49b0-9c21-36196a643433\",\"type\":\"Toolbar\"},{\"attributes\":{},\"id\":\"a76a5f00-4b80-4258-a0ce-f1b4ff3f7374\",\"type\":\"LinearScale\"},{\"attributes\":{},\"id\":\"a3d65581-64c7-4782-857c-39ef0950236f\",\"type\":\"SaveTool\"},{\"attributes\":{\"callback\":null,\"data\":{\"x\":[0,1,2,3,4,5,6,7,8,9,10],\"y\":[0,1,2,3,4,5,6,7,8,9,10]},\"selected\":{\"id\":\"31caec63-cc01-4540-88bb-644a32160bb5\",\"type\":\"Selection\"},\"selection_policy\":{\"id\":\"141e883a-43e4-4e3c-8d6c-5bbbc6ed1052\",\"type\":\"UnionRenderers\"}},\"id\":\"79930257-2be7-4fef-a2f9-c1db338824ff\",\"type\":\"ColumnDataSource\"},{\"attributes\":{},\"id\":\"1802ac39-7596-4ad7-bd53-0e1ecc4cb12e\",\"type\":\"BasicTicker\"},{\"attributes\":{},\"id\":\"dacdf0f5-e824-4fbf-866c-5264337062bc\",\"type\":\"LinearScale\"},{\"attributes\":{},\"id\":\"7e0dc4b5-36e9-4eb6-8f39-50e6c9b2723f\",\"type\":\"WheelZoomTool\"},{\"attributes\":{\"overlay\":{\"id\":\"0a84f279-0beb-49aa-9b6d-ebac326dd44a\",\"type\":\"BoxAnnotation\"}},\"id\":\"021e59fd-22cf-41d6-bf5b-f371d39ba474\",\"type\":\"BoxZoomTool\"},{\"attributes\":{\"bottom_units\":\"screen\",\"fill_alpha\":{\"value\":0.5},\"fill_color\":{\"value\":\"lightgrey\"},\"left_units\":\"screen\",\"level\":\"overlay\",\"line_alpha\":{\"value\":1.0},\"line_color\":{\"value\":\"black\"},\"line_dash\":[4,4],\"line_width\":{\"value\":2},\"plot\":null,\"render_mode\":\"css\",\"right_units\":\"screen\",\"top_units\":\"screen\"},\"id\":\"0a84f279-0beb-49aa-9b6d-ebac326dd44a\",\"type\":\"BoxAnnotation\"},{\"attributes\":{\"formatter\":{\"id\":\"d33788f1-a943-45bf-bcef-c1b67491a266\",\"type\":\"BasicTickFormatter\"},\"plot\":{\"id\":\"35b60fa6-88bd-450e-a16d-34e66b030fbd\",\"subtype\":\"Figure\",\"type\":\"Plot\"},\"ticker\":{\"id\":\"6114b628-558d-4566-a21e-26de7ff624ec\",\"type\":\"BasicTicker\"}},\"id\":\"48cf9cfb-096c-4eda-bbae-0432c9cd97ee\",\"type\":\"LinearAxis\"},{\"attributes\":{\"plot\":null,\"text\":\"\"},\"id\":\"3fe31d2b-4fd2-4c8b-a23c-8e1bdd56b03a\",\"type\":\"Title\"},{\"attributes\":{\"callback\":null},\"id\":\"3e8fa4ca-1def-4c65-a362-4b3ad8144ca9\",\"type\":\"DataRange1d\"},{\"attributes\":{\"active_drag\":\"auto\",\"active_inspect\":\"auto\",\"active_multi\":null,\"active_scroll\":\"auto\",\"active_tap\":\"auto\",\"tools\":[{\"id\":\"ff785231-c43f-4745-a86e-5768f75f824d\",\"type\":\"PanTool\"},{\"id\":\"7e0dc4b5-36e9-4eb6-8f39-50e6c9b2723f\",\"type\":\"WheelZoomTool\"},{\"id\":\"a5e9610a-dbb5-4a41-b950-518aeee2a1f6\",\"type\":\"BoxZoomTool\"},{\"id\":\"5edf791a-9fa3-4fcb-a8a9-f94c71533abd\",\"type\":\"SaveTool\"},{\"id\":\"0cac2f5b-b6f9-4f52-a585-2d0c74ffc85a\",\"type\":\"ResetTool\"},{\"id\":\"daa619d7-18d0-4d28-90d8-60f0648cd8a7\",\"type\":\"HelpTool\"}]},\"id\":\"d9b65ba5-d918-4248-8a6b-a23f7f8e6984\",\"type\":\"Toolbar\"},{\"attributes\":{\"source\":{\"id\":\"b8592f5d-0598-4d4d-a704-8c66ae85b0f8\",\"type\":\"ColumnDataSource\"}},\"id\":\"d980b8c5-07a8-4029-ba8c-1b574b2e0a98\",\"type\":\"CDSView\"},{\"attributes\":{\"callback\":null},\"id\":\"4773cc4c-33ad-427a-a0bc-780fbdb3d038\",\"type\":\"DataRange1d\"},{\"attributes\":{},\"id\":\"6d0788bc-f9d1-4043-b08a-eb544c4669c3\",\"type\":\"BasicTicker\"},{\"attributes\":{},\"id\":\"34e5eb7f-cb12-4069-9a59-8cb9015618ab\",\"type\":\"BasicTicker\"},{\"attributes\":{},\"id\":\"b74004c9-2065-4623-bfa3-34eb8c6a0ef2\",\"type\":\"BasicTickFormatter\"},{\"attributes\":{\"fill_alpha\":{\"value\":0.1},\"fill_color\":{\"value\":\"#1f77b4\"},\"line_alpha\":{\"value\":0.1},\"line_color\":{\"value\":\"#1f77b4\"},\"size\":{\"units\":\"screen\",\"value\":10},\"x\":{\"field\":\"x\"},\"y\":{\"field\":\"y\"}},\"id\":\"e18aed9d-5aa9-4d6b-be67-477c1800ebbe\",\"type\":\"Circle\"},{\"attributes\":{\"source\":{\"id\":\"79930257-2be7-4fef-a2f9-c1db338824ff\",\"type\":\"ColumnDataSource\"}},\"id\":\"464b5881-334f-4df0-b010-5008ed1289dc\",\"type\":\"CDSView\"},{\"attributes\":{},\"id\":\"a13557f0-b171-47ca-bc0d-9bb0cc406371\",\"type\":\"Selection\"},{\"attributes\":{\"overlay\":{\"id\":\"a3e8e4b7-4f5b-4277-a29f-e0b7c3acf9e3\",\"type\":\"BoxAnnotation\"}},\"id\":\"0e596bc6-f203-42d8-aed7-7195ed5da89d\",\"type\":\"BoxZoomTool\"},{\"attributes\":{\"formatter\":{\"id\":\"71af7ea2-f44a-470e-b03d-61d2e872f466\",\"type\":\"BasicTickFormatter\"},\"plot\":{\"id\":\"10a16295-59c4-42ed-92a8-3045fc661697\",\"subtype\":\"Figure\",\"type\":\"Plot\"},\"ticker\":{\"id\":\"6d0788bc-f9d1-4043-b08a-eb544c4669c3\",\"type\":\"BasicTicker\"}},\"id\":\"4a8c4170-040f-4f61-b8d0-ae7b46117109\",\"type\":\"LinearAxis\"},{\"attributes\":{\"data_source\":{\"id\":\"b8592f5d-0598-4d4d-a704-8c66ae85b0f8\",\"type\":\"ColumnDataSource\"},\"glyph\":{\"id\":\"09095f52-33f3-46d2-94de-38e6aa150539\",\"type\":\"Square\"},\"hover_glyph\":null,\"muted_glyph\":null,\"nonselection_glyph\":{\"id\":\"cb787ae9-705b-4e71-b4ee-e63bb6ed013b\",\"type\":\"Square\"},\"selection_glyph\":null,\"view\":{\"id\":\"d980b8c5-07a8-4029-ba8c-1b574b2e0a98\",\"type\":\"CDSView\"}},\"id\":\"19ac20af-b64a-4c8d-97e2-1b91094aa50d\",\"type\":\"GlyphRenderer\"}],\"root_ids\":[\"4bffb120-0567-4061-8cfa-e3667cef8799\"]},\"title\":\"Bokeh Application\",\"version\":\"0.13.0\"}};\n",
       "  var render_items = [{\"docid\":\"e2908e5b-adde-4366-85aa-1e36f2147fc4\",\"roots\":{\"4bffb120-0567-4061-8cfa-e3667cef8799\":\"7ed21884-0151-4f35-a034-8ca3cae663cf\"}}];\n",
       "  root.Bokeh.embed.embed_items_notebook(docs_json, render_items);\n",
       "\n",
       "  }\n",
       "  if (root.Bokeh !== undefined) {\n",
       "    embed_document(root);\n",
       "  } else {\n",
       "    var attempts = 0;\n",
       "    var timer = setInterval(function(root) {\n",
       "      if (root.Bokeh !== undefined) {\n",
       "        embed_document(root);\n",
       "        clearInterval(timer);\n",
       "      }\n",
       "      attempts++;\n",
       "      if (attempts > 100) {\n",
       "        console.log(\"Bokeh: ERROR: Unable to run BokehJS code because BokehJS library is missing\")\n",
       "        clearInterval(timer);\n",
       "      }\n",
       "    }, 10, root)\n",
       "  }\n",
       "})(window);"
      ],
      "application/vnd.bokehjs_exec.v0+json": ""
     },
     "metadata": {
      "application/vnd.bokehjs_exec.v0+json": {
       "id": "4bffb120-0567-4061-8cfa-e3667cef8799"
      }
     },
     "output_type": "display_data"
    }
   ],
   "source": [
    "# EXERCISE: use column to arrange a few plots vertically\n",
    "\n",
    "from bokeh.layouts import column\n",
    "\n",
    "# create a new plot\n",
    "s1 = figure(width=250, plot_height=250)\n",
    "s1.circle(x, y0, size=10, color=\"navy\", alpha=0.5)\n",
    "\n",
    "# create another one\n",
    "s2 = figure(width=250, height=250)\n",
    "s2.triangle(x, y1, size=10, color=\"firebrick\", alpha=0.5)\n",
    "\n",
    "# create and another\n",
    "s3 = figure(width=250, height=250)\n",
    "s3.square(x, y2, size=10, color=\"olive\", alpha=0.5)\n",
    "\n",
    "# show the results in a row\n",
    "show(column(s1, s2, s3))\n"
   ]
  },
  {
   "cell_type": "markdown",
   "metadata": {
    "collapsed": true,
    "slideshow": {
     "slide_type": "slide"
    }
   },
   "source": [
    "# Grid plots\n",
    "\n",
    "Bokeh also provides a `gridplot` layout in `bokeh.layouts` for arranging plots in a grid, as show in the example below."
   ]
  },
  {
   "cell_type": "code",
   "execution_count": 5,
   "metadata": {
    "slideshow": {
     "slide_type": "subslide"
    }
   },
   "outputs": [
    {
     "data": {
      "text/html": [
       "\n",
       "\n",
       "\n",
       "\n",
       "\n",
       "\n",
       "  <div class=\"bk-root\" id=\"1c60af4c-a7bc-4db5-ac31-b3e3be6378b4\"></div>\n"
      ]
     },
     "metadata": {},
     "output_type": "display_data"
    },
    {
     "data": {
      "application/javascript": [
       "(function(root) {\n",
       "  function embed_document(root) {\n",
       "    \n",
       "  var docs_json = {\"d3069ecf-ecf3-4886-a14c-e273ff89f935\":{\"roots\":{\"references\":[{\"attributes\":{\"source\":{\"id\":\"72f8c41a-372b-4a43-9853-62c90f188293\",\"type\":\"ColumnDataSource\"}},\"id\":\"767a5d8b-f082-4265-84cd-46f11aa12508\",\"type\":\"CDSView\"},{\"attributes\":{\"plot\":null,\"text\":\"\"},\"id\":\"7219e981-44a7-4026-bb2f-fc8fb1070657\",\"type\":\"Title\"},{\"attributes\":{},\"id\":\"9e8ece9e-2841-4568-979a-e13aea25f143\",\"type\":\"SaveTool\"},{\"attributes\":{\"formatter\":{\"id\":\"99f45ef2-7405-4eca-a008-eda937f3f699\",\"type\":\"BasicTickFormatter\"},\"plot\":{\"id\":\"9612c1f3-d24d-4b24-a362-dd1c7c8bd794\",\"subtype\":\"Figure\",\"type\":\"Plot\"},\"ticker\":{\"id\":\"a9d8f97d-0420-41c5-9b5a-2f0d2456fe7b\",\"type\":\"BasicTicker\"}},\"id\":\"44d96f89-19ab-4f23-92d4-8389ade38776\",\"type\":\"LinearAxis\"},{\"attributes\":{},\"id\":\"5609460a-5091-400b-9e7d-2db865db89f3\",\"type\":\"SaveTool\"},{\"attributes\":{\"plot\":{\"id\":\"9612c1f3-d24d-4b24-a362-dd1c7c8bd794\",\"subtype\":\"Figure\",\"type\":\"Plot\"},\"ticker\":{\"id\":\"1de4b787-1704-4f8d-b753-718324daf752\",\"type\":\"BasicTicker\"}},\"id\":\"c43dc782-464b-4942-8c3a-698181f35034\",\"type\":\"Grid\"},{\"attributes\":{\"dimension\":1,\"plot\":{\"id\":\"e00e9f40-2410-4083-b53a-3db374d7a981\",\"subtype\":\"Figure\",\"type\":\"Plot\"},\"ticker\":{\"id\":\"b7d49c26-aebc-49fe-81b7-6b1ef17b9937\",\"type\":\"BasicTicker\"}},\"id\":\"24d3cce9-98dc-419e-8b8c-78599ae20aa4\",\"type\":\"Grid\"},{\"attributes\":{\"fill_alpha\":{\"value\":0.5},\"fill_color\":{\"value\":\"olive\"},\"line_alpha\":{\"value\":0.5},\"line_color\":{\"value\":\"olive\"},\"size\":{\"units\":\"screen\",\"value\":10},\"x\":{\"field\":\"x\"},\"y\":{\"field\":\"y\"}},\"id\":\"bfde70bc-dc75-432f-9c73-e771d9c20650\",\"type\":\"Square\"},{\"attributes\":{},\"id\":\"c36cf2c6-cec2-4860-a42e-bd129f0f117b\",\"type\":\"UnionRenderers\"},{\"attributes\":{\"children\":[{\"id\":\"9612c1f3-d24d-4b24-a362-dd1c7c8bd794\",\"subtype\":\"Figure\",\"type\":\"Plot\"},{\"id\":\"ed6b38cf-6012-4ce1-bac2-8d5c31eaf6ad\",\"type\":\"Spacer\"}]},\"id\":\"bea3d37c-eb51-4a49-b39c-674f459eaf61\",\"type\":\"Row\"},{\"attributes\":{},\"id\":\"f01a796a-8e83-415e-8557-459c422e5606\",\"type\":\"BasicTickFormatter\"},{\"attributes\":{\"dimension\":1,\"plot\":{\"id\":\"b9c4f5ed-b46c-471d-ab8d-828243bae0f6\",\"subtype\":\"Figure\",\"type\":\"Plot\"},\"ticker\":{\"id\":\"4515fdc0-95e9-4543-9db4-78740ab0b304\",\"type\":\"BasicTicker\"}},\"id\":\"27b81962-b781-4fdf-802b-71beb6ec3731\",\"type\":\"Grid\"},{\"attributes\":{\"formatter\":{\"id\":\"9da19207-11c7-4ecb-8c63-82dc4e6f61d2\",\"type\":\"BasicTickFormatter\"},\"plot\":{\"id\":\"b9c4f5ed-b46c-471d-ab8d-828243bae0f6\",\"subtype\":\"Figure\",\"type\":\"Plot\"},\"ticker\":{\"id\":\"d3e63b08-a0f6-4992-acf8-3702511fe6e9\",\"type\":\"BasicTicker\"}},\"id\":\"23c4d2be-2fb3-4b32-a7ec-a94f26e1e573\",\"type\":\"LinearAxis\"},{\"attributes\":{},\"id\":\"a9a2f170-7f09-425a-8ee8-6efb7bac2978\",\"type\":\"SaveTool\"},{\"attributes\":{},\"id\":\"4bc0d4ce-0fc9-4172-9370-deba39256aef\",\"type\":\"BasicTicker\"},{\"attributes\":{\"height\":250,\"width\":250},\"id\":\"ed6b38cf-6012-4ce1-bac2-8d5c31eaf6ad\",\"type\":\"Spacer\"},{\"attributes\":{},\"id\":\"87b9a98d-5d2b-44cf-8e19-bc6574106701\",\"type\":\"WheelZoomTool\"},{\"attributes\":{},\"id\":\"2a7b7065-c317-492b-a633-5fd9e6c6df03\",\"type\":\"HelpTool\"},{\"attributes\":{},\"id\":\"b6acc327-c85c-4a46-83b8-0bef5184db4e\",\"type\":\"BasicTickFormatter\"},{\"attributes\":{\"overlay\":{\"id\":\"7a41ab59-98f5-4585-85ae-038b2c33b950\",\"type\":\"BoxAnnotation\"}},\"id\":\"f28c2528-24c4-4f38-a39b-9eabda66ec1a\",\"type\":\"BoxZoomTool\"},{\"attributes\":{\"fill_alpha\":{\"value\":0.1},\"fill_color\":{\"value\":\"#1f77b4\"},\"line_alpha\":{\"value\":0.1},\"line_color\":{\"value\":\"#1f77b4\"},\"size\":{\"units\":\"screen\",\"value\":10},\"x\":{\"field\":\"x\"},\"y\":{\"field\":\"y\"}},\"id\":\"499dd48b-db3a-4fc6-8aa4-b694116bb244\",\"type\":\"Square\"},{\"attributes\":{},\"id\":\"ce07e609-1cba-43e1-af49-a060b018865a\",\"type\":\"HelpTool\"},{\"attributes\":{\"formatter\":{\"id\":\"b26f2b7d-0d04-4cc7-bd53-952e5a5c7011\",\"type\":\"BasicTickFormatter\"},\"plot\":{\"id\":\"e00e9f40-2410-4083-b53a-3db374d7a981\",\"subtype\":\"Figure\",\"type\":\"Plot\"},\"ticker\":{\"id\":\"4bc0d4ce-0fc9-4172-9370-deba39256aef\",\"type\":\"BasicTicker\"}},\"id\":\"be871233-c53c-40a7-80c9-e832b9cdef4d\",\"type\":\"LinearAxis\"},{\"attributes\":{},\"id\":\"b7d49c26-aebc-49fe-81b7-6b1ef17b9937\",\"type\":\"BasicTicker\"},{\"attributes\":{\"data_source\":{\"id\":\"0c3da840-00e1-4e9d-9138-3b885667e0a0\",\"type\":\"ColumnDataSource\"},\"glyph\":{\"id\":\"a49ee21d-3225-4605-b11a-90f198c89f58\",\"type\":\"Triangle\"},\"hover_glyph\":null,\"muted_glyph\":null,\"nonselection_glyph\":{\"id\":\"113a9075-e32f-4233-93ee-2e4a37af1bc6\",\"type\":\"Triangle\"},\"selection_glyph\":null,\"view\":{\"id\":\"a9e872e8-3321-4b31-9cb0-fb6e18fdfe35\",\"type\":\"CDSView\"}},\"id\":\"c898afb2-7a73-40e1-9ad6-3adcc19c6a8a\",\"type\":\"GlyphRenderer\"},{\"attributes\":{\"callback\":null,\"data\":{\"x\":[0,1,2,3,4,5,6,7,8,9,10],\"y\":[0,1,2,3,4,5,6,7,8,9,10]},\"selected\":{\"id\":\"62585907-d983-4163-adf0-66034e5776c1\",\"type\":\"Selection\"},\"selection_policy\":{\"id\":\"4c193488-3d36-46cf-ae53-131e8f33d42d\",\"type\":\"UnionRenderers\"}},\"id\":\"ad6c8142-7362-45c7-8162-61955edfe95d\",\"type\":\"ColumnDataSource\"},{\"attributes\":{},\"id\":\"58eaf4e1-9d77-4915-860d-9513fa286d08\",\"type\":\"ResetTool\"},{\"attributes\":{},\"id\":\"7123fb28-e2bf-480e-a1e0-e7cd778eaed2\",\"type\":\"UnionRenderers\"},{\"attributes\":{},\"id\":\"618954ab-34cc-453c-bb09-accbd7bbc3e7\",\"type\":\"PanTool\"},{\"attributes\":{},\"id\":\"df9f27bb-d637-4f3a-bf85-f4c2e25d1169\",\"type\":\"BasicTickFormatter\"},{\"attributes\":{\"callback\":null},\"id\":\"cbc48cc5-0194-404b-9f27-ac4e76bc86f4\",\"type\":\"DataRange1d\"},{\"attributes\":{\"dimension\":1,\"plot\":{\"id\":\"9612c1f3-d24d-4b24-a362-dd1c7c8bd794\",\"subtype\":\"Figure\",\"type\":\"Plot\"},\"ticker\":{\"id\":\"a9d8f97d-0420-41c5-9b5a-2f0d2456fe7b\",\"type\":\"BasicTicker\"}},\"id\":\"3b037c92-3103-4bf5-b4ac-e88cd407c84f\",\"type\":\"Grid\"},{\"attributes\":{},\"id\":\"c4cdf23b-a533-41eb-be30-c07602e89663\",\"type\":\"LinearScale\"},{\"attributes\":{\"fill_alpha\":{\"value\":0.1},\"fill_color\":{\"value\":\"#1f77b4\"},\"line_alpha\":{\"value\":0.1},\"line_color\":{\"value\":\"#1f77b4\"},\"size\":{\"units\":\"screen\",\"value\":10},\"x\":{\"field\":\"x\"},\"y\":{\"field\":\"y\"}},\"id\":\"113a9075-e32f-4233-93ee-2e4a37af1bc6\",\"type\":\"Triangle\"},{\"attributes\":{},\"id\":\"62585907-d983-4163-adf0-66034e5776c1\",\"type\":\"Selection\"},{\"attributes\":{},\"id\":\"eb9f6c42-9f50-4321-8fd6-09cba12113dd\",\"type\":\"ResetTool\"},{\"attributes\":{\"formatter\":{\"id\":\"b6acc327-c85c-4a46-83b8-0bef5184db4e\",\"type\":\"BasicTickFormatter\"},\"plot\":{\"id\":\"b9c4f5ed-b46c-471d-ab8d-828243bae0f6\",\"subtype\":\"Figure\",\"type\":\"Plot\"},\"ticker\":{\"id\":\"4515fdc0-95e9-4543-9db4-78740ab0b304\",\"type\":\"BasicTicker\"}},\"id\":\"17aa0757-aca5-403f-86ef-9ff552345a73\",\"type\":\"LinearAxis\"},{\"attributes\":{\"fill_alpha\":{\"value\":0.5},\"fill_color\":{\"value\":\"firebrick\"},\"line_alpha\":{\"value\":0.5},\"line_color\":{\"value\":\"firebrick\"},\"size\":{\"units\":\"screen\",\"value\":10},\"x\":{\"field\":\"x\"},\"y\":{\"field\":\"y\"}},\"id\":\"a49ee21d-3225-4605-b11a-90f198c89f58\",\"type\":\"Triangle\"},{\"attributes\":{},\"id\":\"9cec4765-62d0-49c0-8b72-ad3db9581777\",\"type\":\"Selection\"},{\"attributes\":{\"active_drag\":\"auto\",\"active_inspect\":\"auto\",\"active_multi\":null,\"active_scroll\":\"auto\",\"active_tap\":\"auto\",\"tools\":[{\"id\":\"618954ab-34cc-453c-bb09-accbd7bbc3e7\",\"type\":\"PanTool\"},{\"id\":\"87b9a98d-5d2b-44cf-8e19-bc6574106701\",\"type\":\"WheelZoomTool\"},{\"id\":\"26b2eece-77d2-4202-b17e-f70dfa56588c\",\"type\":\"BoxZoomTool\"},{\"id\":\"9e8ece9e-2841-4568-979a-e13aea25f143\",\"type\":\"SaveTool\"},{\"id\":\"58eaf4e1-9d77-4915-860d-9513fa286d08\",\"type\":\"ResetTool\"},{\"id\":\"60de8b23-934f-49f4-ba1e-d77de5d8755c\",\"type\":\"HelpTool\"}]},\"id\":\"c7ef74e7-ad76-44fd-b7c0-0701f731e21b\",\"type\":\"Toolbar\"},{\"attributes\":{\"callback\":null,\"data\":{\"x\":[0,1,2,3,4,5,6,7,8,9,10],\"y\":[10,9,8,7,6,5,4,3,2,1,0]},\"selected\":{\"id\":\"9cec4765-62d0-49c0-8b72-ad3db9581777\",\"type\":\"Selection\"},\"selection_policy\":{\"id\":\"c36cf2c6-cec2-4860-a42e-bd129f0f117b\",\"type\":\"UnionRenderers\"}},\"id\":\"0c3da840-00e1-4e9d-9138-3b885667e0a0\",\"type\":\"ColumnDataSource\"},{\"attributes\":{\"fill_alpha\":{\"value\":0.5},\"fill_color\":{\"value\":\"navy\"},\"line_alpha\":{\"value\":0.5},\"line_color\":{\"value\":\"navy\"},\"size\":{\"units\":\"screen\",\"value\":10},\"x\":{\"field\":\"x\"},\"y\":{\"field\":\"y\"}},\"id\":\"bb530b91-9ff4-484a-8d78-a56121401bc2\",\"type\":\"Circle\"},{\"attributes\":{},\"id\":\"45400944-8be5-4561-a305-ca750cdccfe4\",\"type\":\"PanTool\"},{\"attributes\":{\"callback\":null},\"id\":\"620c2b71-0300-4b39-9ccd-c1633a266b57\",\"type\":\"DataRange1d\"},{\"attributes\":{\"plot\":null,\"text\":\"\"},\"id\":\"ea362ad0-35e6-4e7f-9b62-51a58c841d6f\",\"type\":\"Title\"},{\"attributes\":{\"overlay\":{\"id\":\"cfabebdf-6fc0-4a86-bf61-80573911cfbf\",\"type\":\"BoxAnnotation\"}},\"id\":\"8d01b842-3367-4767-99dd-5e92456d27a4\",\"type\":\"BoxZoomTool\"},{\"attributes\":{\"plot\":{\"id\":\"e00e9f40-2410-4083-b53a-3db374d7a981\",\"subtype\":\"Figure\",\"type\":\"Plot\"},\"ticker\":{\"id\":\"4bc0d4ce-0fc9-4172-9370-deba39256aef\",\"type\":\"BasicTicker\"}},\"id\":\"70cd77c1-16d6-4dfd-88f0-34af2a2d21f1\",\"type\":\"Grid\"},{\"attributes\":{\"active_drag\":\"auto\",\"active_inspect\":\"auto\",\"active_multi\":null,\"active_scroll\":\"auto\",\"active_tap\":\"auto\",\"tools\":[{\"id\":\"45400944-8be5-4561-a305-ca750cdccfe4\",\"type\":\"PanTool\"},{\"id\":\"2fbd799b-8f00-4eab-bb9e-9aaf13f80424\",\"type\":\"WheelZoomTool\"},{\"id\":\"f28c2528-24c4-4f38-a39b-9eabda66ec1a\",\"type\":\"BoxZoomTool\"},{\"id\":\"5609460a-5091-400b-9e7d-2db865db89f3\",\"type\":\"SaveTool\"},{\"id\":\"63819b87-61ef-4db6-a872-01e5c953baed\",\"type\":\"ResetTool\"},{\"id\":\"ce07e609-1cba-43e1-af49-a060b018865a\",\"type\":\"HelpTool\"}]},\"id\":\"bb5298b6-ca84-4419-9ee8-75f073a7c707\",\"type\":\"Toolbar\"},{\"attributes\":{\"below\":[{\"id\":\"be871233-c53c-40a7-80c9-e832b9cdef4d\",\"type\":\"LinearAxis\"}],\"left\":[{\"id\":\"bb4b849f-af96-4aeb-a1f8-555d0a1162dd\",\"type\":\"LinearAxis\"}],\"plot_height\":250,\"plot_width\":250,\"renderers\":[{\"id\":\"be871233-c53c-40a7-80c9-e832b9cdef4d\",\"type\":\"LinearAxis\"},{\"id\":\"70cd77c1-16d6-4dfd-88f0-34af2a2d21f1\",\"type\":\"Grid\"},{\"id\":\"bb4b849f-af96-4aeb-a1f8-555d0a1162dd\",\"type\":\"LinearAxis\"},{\"id\":\"24d3cce9-98dc-419e-8b8c-78599ae20aa4\",\"type\":\"Grid\"},{\"id\":\"cfabebdf-6fc0-4a86-bf61-80573911cfbf\",\"type\":\"BoxAnnotation\"},{\"id\":\"a0c71c7a-874f-4e60-b0aa-db9d17a22b16\",\"type\":\"GlyphRenderer\"}],\"title\":{\"id\":\"7219e981-44a7-4026-bb2f-fc8fb1070657\",\"type\":\"Title\"},\"toolbar\":{\"id\":\"7e3b2fcc-09bf-4102-adde-bf234b8f4ac3\",\"type\":\"Toolbar\"},\"toolbar_location\":null,\"x_range\":{\"id\":\"cbc48cc5-0194-404b-9f27-ac4e76bc86f4\",\"type\":\"DataRange1d\"},\"x_scale\":{\"id\":\"6e420fb7-8769-4ebc-b9bb-bdb6f4e6344d\",\"type\":\"LinearScale\"},\"y_range\":{\"id\":\"f59043cd-ce21-41d4-99f2-6533d54f6c91\",\"type\":\"DataRange1d\"},\"y_scale\":{\"id\":\"62ac6eed-3f0c-4860-a0ac-1589a8e6cc9d\",\"type\":\"LinearScale\"}},\"id\":\"e00e9f40-2410-4083-b53a-3db374d7a981\",\"subtype\":\"Figure\",\"type\":\"Plot\"},{\"attributes\":{\"data_source\":{\"id\":\"72f8c41a-372b-4a43-9853-62c90f188293\",\"type\":\"ColumnDataSource\"},\"glyph\":{\"id\":\"bfde70bc-dc75-432f-9c73-e771d9c20650\",\"type\":\"Square\"},\"hover_glyph\":null,\"muted_glyph\":null,\"nonselection_glyph\":{\"id\":\"499dd48b-db3a-4fc6-8aa4-b694116bb244\",\"type\":\"Square\"},\"selection_glyph\":null,\"view\":{\"id\":\"767a5d8b-f082-4265-84cd-46f11aa12508\",\"type\":\"CDSView\"}},\"id\":\"1ca6f961-e06e-4a43-81bb-6275e0df14ac\",\"type\":\"GlyphRenderer\"},{\"attributes\":{\"bottom_units\":\"screen\",\"fill_alpha\":{\"value\":0.5},\"fill_color\":{\"value\":\"lightgrey\"},\"left_units\":\"screen\",\"level\":\"overlay\",\"line_alpha\":{\"value\":1.0},\"line_color\":{\"value\":\"black\"},\"line_dash\":[4,4],\"line_width\":{\"value\":2},\"plot\":null,\"render_mode\":\"css\",\"right_units\":\"screen\",\"top_units\":\"screen\"},\"id\":\"cfabebdf-6fc0-4a86-bf61-80573911cfbf\",\"type\":\"BoxAnnotation\"},{\"attributes\":{\"source\":{\"id\":\"ad6c8142-7362-45c7-8162-61955edfe95d\",\"type\":\"ColumnDataSource\"}},\"id\":\"d22f366e-7e0c-486d-8f63-154f93292d95\",\"type\":\"CDSView\"},{\"attributes\":{\"bottom_units\":\"screen\",\"fill_alpha\":{\"value\":0.5},\"fill_color\":{\"value\":\"lightgrey\"},\"left_units\":\"screen\",\"level\":\"overlay\",\"line_alpha\":{\"value\":1.0},\"line_color\":{\"value\":\"black\"},\"line_dash\":[4,4],\"line_width\":{\"value\":2},\"plot\":null,\"render_mode\":\"css\",\"right_units\":\"screen\",\"top_units\":\"screen\"},\"id\":\"7af0f819-0d75-45bb-b89b-8f73e3583ed2\",\"type\":\"BoxAnnotation\"},{\"attributes\":{},\"id\":\"5e017a59-30b4-4230-a63f-29c5aec81757\",\"type\":\"Selection\"},{\"attributes\":{},\"id\":\"499a8e56-92d4-4f97-b729-142b8a73f333\",\"type\":\"LinearScale\"},{\"attributes\":{},\"id\":\"3c48e16c-84b1-4edf-a18c-94788892abc7\",\"type\":\"LinearScale\"},{\"attributes\":{},\"id\":\"4515fdc0-95e9-4543-9db4-78740ab0b304\",\"type\":\"BasicTicker\"},{\"attributes\":{\"overlay\":{\"id\":\"7af0f819-0d75-45bb-b89b-8f73e3583ed2\",\"type\":\"BoxAnnotation\"}},\"id\":\"26b2eece-77d2-4202-b17e-f70dfa56588c\",\"type\":\"BoxZoomTool\"},{\"attributes\":{},\"id\":\"9da19207-11c7-4ecb-8c63-82dc4e6f61d2\",\"type\":\"BasicTickFormatter\"},{\"attributes\":{\"bottom_units\":\"screen\",\"fill_alpha\":{\"value\":0.5},\"fill_color\":{\"value\":\"lightgrey\"},\"left_units\":\"screen\",\"level\":\"overlay\",\"line_alpha\":{\"value\":1.0},\"line_color\":{\"value\":\"black\"},\"line_dash\":[4,4],\"line_width\":{\"value\":2},\"plot\":null,\"render_mode\":\"css\",\"right_units\":\"screen\",\"top_units\":\"screen\"},\"id\":\"7a41ab59-98f5-4585-85ae-038b2c33b950\",\"type\":\"BoxAnnotation\"},{\"attributes\":{},\"id\":\"6e420fb7-8769-4ebc-b9bb-bdb6f4e6344d\",\"type\":\"LinearScale\"},{\"attributes\":{},\"id\":\"62ac6eed-3f0c-4860-a0ac-1589a8e6cc9d\",\"type\":\"LinearScale\"},{\"attributes\":{},\"id\":\"ba3c2a8b-b5cc-4662-bf6e-c08f13607ebb\",\"type\":\"LinearScale\"},{\"attributes\":{\"callback\":null},\"id\":\"f59043cd-ce21-41d4-99f2-6533d54f6c91\",\"type\":\"DataRange1d\"},{\"attributes\":{\"source\":{\"id\":\"0c3da840-00e1-4e9d-9138-3b885667e0a0\",\"type\":\"ColumnDataSource\"}},\"id\":\"a9e872e8-3321-4b31-9cb0-fb6e18fdfe35\",\"type\":\"CDSView\"},{\"attributes\":{},\"id\":\"60de8b23-934f-49f4-ba1e-d77de5d8755c\",\"type\":\"HelpTool\"},{\"attributes\":{\"callback\":null},\"id\":\"ee13299e-c10a-47f6-85ca-95a6af80b379\",\"type\":\"DataRange1d\"},{\"attributes\":{\"formatter\":{\"id\":\"df9f27bb-d637-4f3a-bf85-f4c2e25d1169\",\"type\":\"BasicTickFormatter\"},\"plot\":{\"id\":\"e00e9f40-2410-4083-b53a-3db374d7a981\",\"subtype\":\"Figure\",\"type\":\"Plot\"},\"ticker\":{\"id\":\"b7d49c26-aebc-49fe-81b7-6b1ef17b9937\",\"type\":\"BasicTicker\"}},\"id\":\"bb4b849f-af96-4aeb-a1f8-555d0a1162dd\",\"type\":\"LinearAxis\"},{\"attributes\":{},\"id\":\"2fbd799b-8f00-4eab-bb9e-9aaf13f80424\",\"type\":\"WheelZoomTool\"},{\"attributes\":{\"plot\":null,\"text\":\"\"},\"id\":\"6095ddd9-6135-426d-a893-65efc57215e0\",\"type\":\"Title\"},{\"attributes\":{\"fill_alpha\":{\"value\":0.1},\"fill_color\":{\"value\":\"#1f77b4\"},\"line_alpha\":{\"value\":0.1},\"line_color\":{\"value\":\"#1f77b4\"},\"size\":{\"units\":\"screen\",\"value\":10},\"x\":{\"field\":\"x\"},\"y\":{\"field\":\"y\"}},\"id\":\"9d058bb2-43ac-4332-9243-513e39e4e19a\",\"type\":\"Circle\"},{\"attributes\":{\"callback\":null,\"data\":{\"x\":[0,1,2,3,4,5,6,7,8,9,10],\"y\":[5,4,3,2,1,0,1,2,3,4,5]},\"selected\":{\"id\":\"5e017a59-30b4-4230-a63f-29c5aec81757\",\"type\":\"Selection\"},\"selection_policy\":{\"id\":\"7123fb28-e2bf-480e-a1e0-e7cd778eaed2\",\"type\":\"UnionRenderers\"}},\"id\":\"72f8c41a-372b-4a43-9853-62c90f188293\",\"type\":\"ColumnDataSource\"},{\"attributes\":{\"below\":[{\"id\":\"23c4d2be-2fb3-4b32-a7ec-a94f26e1e573\",\"type\":\"LinearAxis\"}],\"left\":[{\"id\":\"17aa0757-aca5-403f-86ef-9ff552345a73\",\"type\":\"LinearAxis\"}],\"plot_height\":250,\"plot_width\":250,\"renderers\":[{\"id\":\"23c4d2be-2fb3-4b32-a7ec-a94f26e1e573\",\"type\":\"LinearAxis\"},{\"id\":\"07a10e8b-8394-4beb-8c7b-990fdfb3a66a\",\"type\":\"Grid\"},{\"id\":\"17aa0757-aca5-403f-86ef-9ff552345a73\",\"type\":\"LinearAxis\"},{\"id\":\"27b81962-b781-4fdf-802b-71beb6ec3731\",\"type\":\"Grid\"},{\"id\":\"7a41ab59-98f5-4585-85ae-038b2c33b950\",\"type\":\"BoxAnnotation\"},{\"id\":\"c898afb2-7a73-40e1-9ad6-3adcc19c6a8a\",\"type\":\"GlyphRenderer\"}],\"title\":{\"id\":\"6095ddd9-6135-426d-a893-65efc57215e0\",\"type\":\"Title\"},\"toolbar\":{\"id\":\"bb5298b6-ca84-4419-9ee8-75f073a7c707\",\"type\":\"Toolbar\"},\"toolbar_location\":null,\"x_range\":{\"id\":\"620c2b71-0300-4b39-9ccd-c1633a266b57\",\"type\":\"DataRange1d\"},\"x_scale\":{\"id\":\"ba3c2a8b-b5cc-4662-bf6e-c08f13607ebb\",\"type\":\"LinearScale\"},\"y_range\":{\"id\":\"f91d46a3-04c3-4a63-82bc-42f8afe36149\",\"type\":\"DataRange1d\"},\"y_scale\":{\"id\":\"c4cdf23b-a533-41eb-be30-c07602e89663\",\"type\":\"LinearScale\"}},\"id\":\"b9c4f5ed-b46c-471d-ab8d-828243bae0f6\",\"subtype\":\"Figure\",\"type\":\"Plot\"},{\"attributes\":{\"active_drag\":\"auto\",\"active_inspect\":\"auto\",\"active_multi\":null,\"active_scroll\":\"auto\",\"active_tap\":\"auto\",\"tools\":[{\"id\":\"82591114-0b11-45bb-8aa4-87c78b3f4744\",\"type\":\"PanTool\"},{\"id\":\"2899e1f7-1427-479e-b8e5-10f14a0e64ba\",\"type\":\"WheelZoomTool\"},{\"id\":\"8d01b842-3367-4767-99dd-5e92456d27a4\",\"type\":\"BoxZoomTool\"},{\"id\":\"a9a2f170-7f09-425a-8ee8-6efb7bac2978\",\"type\":\"SaveTool\"},{\"id\":\"eb9f6c42-9f50-4321-8fd6-09cba12113dd\",\"type\":\"ResetTool\"},{\"id\":\"2a7b7065-c317-492b-a633-5fd9e6c6df03\",\"type\":\"HelpTool\"}]},\"id\":\"7e3b2fcc-09bf-4102-adde-bf234b8f4ac3\",\"type\":\"Toolbar\"},{\"attributes\":{\"data_source\":{\"id\":\"ad6c8142-7362-45c7-8162-61955edfe95d\",\"type\":\"ColumnDataSource\"},\"glyph\":{\"id\":\"bb530b91-9ff4-484a-8d78-a56121401bc2\",\"type\":\"Circle\"},\"hover_glyph\":null,\"muted_glyph\":null,\"nonselection_glyph\":{\"id\":\"9d058bb2-43ac-4332-9243-513e39e4e19a\",\"type\":\"Circle\"},\"selection_glyph\":null,\"view\":{\"id\":\"d22f366e-7e0c-486d-8f63-154f93292d95\",\"type\":\"CDSView\"}},\"id\":\"a0c71c7a-874f-4e60-b0aa-db9d17a22b16\",\"type\":\"GlyphRenderer\"},{\"attributes\":{\"children\":[{\"id\":\"ea455159-6fcf-4596-9226-af385fffd67c\",\"type\":\"Row\"},{\"id\":\"bea3d37c-eb51-4a49-b39c-674f459eaf61\",\"type\":\"Row\"}]},\"id\":\"555543b9-d1a7-48db-abef-93094d3f10e2\",\"type\":\"Column\"},{\"attributes\":{},\"id\":\"2899e1f7-1427-479e-b8e5-10f14a0e64ba\",\"type\":\"WheelZoomTool\"},{\"attributes\":{},\"id\":\"a9d8f97d-0420-41c5-9b5a-2f0d2456fe7b\",\"type\":\"BasicTicker\"},{\"attributes\":{\"callback\":null},\"id\":\"8463928e-9e72-400e-9b93-b9248f1de876\",\"type\":\"DataRange1d\"},{\"attributes\":{\"children\":[{\"id\":\"e00e9f40-2410-4083-b53a-3db374d7a981\",\"subtype\":\"Figure\",\"type\":\"Plot\"},{\"id\":\"b9c4f5ed-b46c-471d-ab8d-828243bae0f6\",\"subtype\":\"Figure\",\"type\":\"Plot\"}]},\"id\":\"ea455159-6fcf-4596-9226-af385fffd67c\",\"type\":\"Row\"},{\"attributes\":{\"formatter\":{\"id\":\"f01a796a-8e83-415e-8557-459c422e5606\",\"type\":\"BasicTickFormatter\"},\"plot\":{\"id\":\"9612c1f3-d24d-4b24-a362-dd1c7c8bd794\",\"subtype\":\"Figure\",\"type\":\"Plot\"},\"ticker\":{\"id\":\"1de4b787-1704-4f8d-b753-718324daf752\",\"type\":\"BasicTicker\"}},\"id\":\"eeee00bb-5574-4daf-8d9f-f17e87e43989\",\"type\":\"LinearAxis\"},{\"attributes\":{},\"id\":\"99f45ef2-7405-4eca-a008-eda937f3f699\",\"type\":\"BasicTickFormatter\"},{\"attributes\":{\"plot\":{\"id\":\"b9c4f5ed-b46c-471d-ab8d-828243bae0f6\",\"subtype\":\"Figure\",\"type\":\"Plot\"},\"ticker\":{\"id\":\"d3e63b08-a0f6-4992-acf8-3702511fe6e9\",\"type\":\"BasicTicker\"}},\"id\":\"07a10e8b-8394-4beb-8c7b-990fdfb3a66a\",\"type\":\"Grid\"},{\"attributes\":{},\"id\":\"d3e63b08-a0f6-4992-acf8-3702511fe6e9\",\"type\":\"BasicTicker\"},{\"attributes\":{\"below\":[{\"id\":\"eeee00bb-5574-4daf-8d9f-f17e87e43989\",\"type\":\"LinearAxis\"}],\"left\":[{\"id\":\"44d96f89-19ab-4f23-92d4-8389ade38776\",\"type\":\"LinearAxis\"}],\"plot_height\":250,\"plot_width\":250,\"renderers\":[{\"id\":\"eeee00bb-5574-4daf-8d9f-f17e87e43989\",\"type\":\"LinearAxis\"},{\"id\":\"c43dc782-464b-4942-8c3a-698181f35034\",\"type\":\"Grid\"},{\"id\":\"44d96f89-19ab-4f23-92d4-8389ade38776\",\"type\":\"LinearAxis\"},{\"id\":\"3b037c92-3103-4bf5-b4ac-e88cd407c84f\",\"type\":\"Grid\"},{\"id\":\"7af0f819-0d75-45bb-b89b-8f73e3583ed2\",\"type\":\"BoxAnnotation\"},{\"id\":\"1ca6f961-e06e-4a43-81bb-6275e0df14ac\",\"type\":\"GlyphRenderer\"}],\"title\":{\"id\":\"ea362ad0-35e6-4e7f-9b62-51a58c841d6f\",\"type\":\"Title\"},\"toolbar\":{\"id\":\"c7ef74e7-ad76-44fd-b7c0-0701f731e21b\",\"type\":\"Toolbar\"},\"toolbar_location\":null,\"x_range\":{\"id\":\"8463928e-9e72-400e-9b93-b9248f1de876\",\"type\":\"DataRange1d\"},\"x_scale\":{\"id\":\"499a8e56-92d4-4f97-b729-142b8a73f333\",\"type\":\"LinearScale\"},\"y_range\":{\"id\":\"ee13299e-c10a-47f6-85ca-95a6af80b379\",\"type\":\"DataRange1d\"},\"y_scale\":{\"id\":\"3c48e16c-84b1-4edf-a18c-94788892abc7\",\"type\":\"LinearScale\"}},\"id\":\"9612c1f3-d24d-4b24-a362-dd1c7c8bd794\",\"subtype\":\"Figure\",\"type\":\"Plot\"},{\"attributes\":{},\"id\":\"b26f2b7d-0d04-4cc7-bd53-952e5a5c7011\",\"type\":\"BasicTickFormatter\"},{\"attributes\":{\"callback\":null},\"id\":\"f91d46a3-04c3-4a63-82bc-42f8afe36149\",\"type\":\"DataRange1d\"},{\"attributes\":{},\"id\":\"1de4b787-1704-4f8d-b753-718324daf752\",\"type\":\"BasicTicker\"},{\"attributes\":{},\"id\":\"63819b87-61ef-4db6-a872-01e5c953baed\",\"type\":\"ResetTool\"},{\"attributes\":{},\"id\":\"4c193488-3d36-46cf-ae53-131e8f33d42d\",\"type\":\"UnionRenderers\"},{\"attributes\":{},\"id\":\"82591114-0b11-45bb-8aa4-87c78b3f4744\",\"type\":\"PanTool\"}],\"root_ids\":[\"555543b9-d1a7-48db-abef-93094d3f10e2\"]},\"title\":\"Bokeh Application\",\"version\":\"0.13.0\"}};\n",
       "  var render_items = [{\"docid\":\"d3069ecf-ecf3-4886-a14c-e273ff89f935\",\"roots\":{\"555543b9-d1a7-48db-abef-93094d3f10e2\":\"1c60af4c-a7bc-4db5-ac31-b3e3be6378b4\"}}];\n",
       "  root.Bokeh.embed.embed_items_notebook(docs_json, render_items);\n",
       "\n",
       "  }\n",
       "  if (root.Bokeh !== undefined) {\n",
       "    embed_document(root);\n",
       "  } else {\n",
       "    var attempts = 0;\n",
       "    var timer = setInterval(function(root) {\n",
       "      if (root.Bokeh !== undefined) {\n",
       "        embed_document(root);\n",
       "        clearInterval(timer);\n",
       "      }\n",
       "      attempts++;\n",
       "      if (attempts > 100) {\n",
       "        console.log(\"Bokeh: ERROR: Unable to run BokehJS code because BokehJS library is missing\")\n",
       "        clearInterval(timer);\n",
       "      }\n",
       "    }, 10, root)\n",
       "  }\n",
       "})(window);"
      ],
      "application/vnd.bokehjs_exec.v0+json": ""
     },
     "metadata": {
      "application/vnd.bokehjs_exec.v0+json": {
       "id": "555543b9-d1a7-48db-abef-93094d3f10e2"
      }
     },
     "output_type": "display_data"
    }
   ],
   "source": [
    "from bokeh.layouts import gridplot\n",
    "\n",
    "# create a new plot\n",
    "s1 = figure(width=250, plot_height=250)\n",
    "s1.circle(x, y0, size=10, color=\"navy\", alpha=0.5)\n",
    "\n",
    "# create another one\n",
    "s2 = figure(width=250, height=250)\n",
    "s2.triangle(x, y1, size=10, color=\"firebrick\", alpha=0.5)\n",
    "\n",
    "# create and another\n",
    "s3 = figure(width=250, height=250)\n",
    "s3.square(x, y2, size=10, color=\"olive\", alpha=0.5)\n",
    "\n",
    "# put all the plots in a gridplot\n",
    "p = gridplot([[s1, s2], [s3, None]], toolbar_location=None)\n",
    "\n",
    "# show the results\n",
    "show(p)"
   ]
  },
  {
   "cell_type": "code",
   "execution_count": 17,
   "metadata": {},
   "outputs": [
    {
     "data": {
      "text/html": [
       "\n",
       "\n",
       "\n",
       "\n",
       "\n",
       "\n",
       "  <div class=\"bk-root\" id=\"a302f260-7b56-4f36-847f-c6b2586028e1\"></div>\n"
      ]
     },
     "metadata": {},
     "output_type": "display_data"
    },
    {
     "data": {
      "application/javascript": [
       "(function(root) {\n",
       "  function embed_document(root) {\n",
       "    \n",
       "  var docs_json = {\"4c6fd049-045c-44f4-9ddf-4a6154469dc1\":{\"roots\":{\"references\":[{\"attributes\":{\"fill_alpha\":{\"value\":0.1},\"fill_color\":{\"value\":\"#1f77b4\"},\"line_alpha\":{\"value\":0.1},\"line_color\":{\"value\":\"#1f77b4\"},\"size\":{\"units\":\"screen\",\"value\":10},\"x\":{\"field\":\"x\"},\"y\":{\"field\":\"y\"}},\"id\":\"0a0a4f7d-d469-4280-8f91-7ea9b9298aee\",\"type\":\"Square\"},{\"attributes\":{\"fill_alpha\":{\"value\":0.1},\"fill_color\":{\"value\":\"#1f77b4\"},\"line_alpha\":{\"value\":0.1},\"line_color\":{\"value\":\"#1f77b4\"},\"size\":{\"units\":\"screen\",\"value\":10},\"x\":{\"field\":\"x\"},\"y\":{\"field\":\"y\"}},\"id\":\"7a481a17-bd20-401d-9bbb-9a02ba1fa722\",\"type\":\"Triangle\"},{\"attributes\":{},\"id\":\"10019d55-2148-4ccb-867d-7d581f50cd85\",\"type\":\"ResetTool\"},{\"attributes\":{},\"id\":\"d8537089-b5bf-4e8b-8735-1340d8384eb6\",\"type\":\"BasicTicker\"},{\"attributes\":{},\"id\":\"8eac8e57-35c0-437f-9007-3307ecd72c9d\",\"type\":\"LinearScale\"},{\"attributes\":{},\"id\":\"efbe51a3-d42e-4228-b723-896d511ff0bf\",\"type\":\"PanTool\"},{\"attributes\":{},\"id\":\"833c6bcb-b860-4279-bda5-f580d7a8f973\",\"type\":\"LinearScale\"},{\"attributes\":{},\"id\":\"46d617cd-d71e-46d6-9a0e-014074f93de9\",\"type\":\"BasicTickFormatter\"},{\"attributes\":{},\"id\":\"a061f0e5-3d50-4097-8665-74382f119a75\",\"type\":\"SaveTool\"},{\"attributes\":{},\"id\":\"18c2dd13-de29-46e1-af70-e6eb5a8abb54\",\"type\":\"Selection\"},{\"attributes\":{\"callback\":null},\"id\":\"1c076e70-aa31-4bed-8f18-3d8c56c148ec\",\"type\":\"DataRange1d\"},{\"attributes\":{\"source\":{\"id\":\"8bfd8124-3afb-4f6f-90f6-bd6c5efda0f2\",\"type\":\"ColumnDataSource\"}},\"id\":\"504a9949-a03f-437a-84fd-f034ceb49e5d\",\"type\":\"CDSView\"},{\"attributes\":{},\"id\":\"96decacc-daba-4704-b1cd-7e3da67a6b08\",\"type\":\"LinearScale\"},{\"attributes\":{},\"id\":\"91360bbf-5ba5-4c3f-b158-30ad6125e79a\",\"type\":\"WheelZoomTool\"},{\"attributes\":{\"callback\":null},\"id\":\"b2683c00-7aaf-4f6a-a7f0-e3552b86b070\",\"type\":\"DataRange1d\"},{\"attributes\":{\"data_source\":{\"id\":\"8bfd8124-3afb-4f6f-90f6-bd6c5efda0f2\",\"type\":\"ColumnDataSource\"},\"glyph\":{\"id\":\"8c2f7607-6453-454c-b003-d1ab2358938c\",\"type\":\"Triangle\"},\"hover_glyph\":null,\"muted_glyph\":null,\"nonselection_glyph\":{\"id\":\"7a481a17-bd20-401d-9bbb-9a02ba1fa722\",\"type\":\"Triangle\"},\"selection_glyph\":null,\"view\":{\"id\":\"504a9949-a03f-437a-84fd-f034ceb49e5d\",\"type\":\"CDSView\"}},\"id\":\"3d5dcc75-cb68-4760-a78b-7207745e8ab8\",\"type\":\"GlyphRenderer\"},{\"attributes\":{},\"id\":\"6847489e-21f8-4b8f-a320-3093ef4c8cba\",\"type\":\"BasicTicker\"},{\"attributes\":{\"callback\":null},\"id\":\"4c1341d0-d8c0-4520-aa36-9e2573ae1143\",\"type\":\"DataRange1d\"},{\"attributes\":{},\"id\":\"95cd7512-52f7-4951-a542-4a21ed022902\",\"type\":\"BasicTicker\"},{\"attributes\":{},\"id\":\"db280758-3f6a-41a7-93e3-ba78a679a0e0\",\"type\":\"BasicTickFormatter\"},{\"attributes\":{\"dimension\":1,\"plot\":{\"id\":\"4c55e527-d32c-4699-9ec8-1debef4e3f50\",\"subtype\":\"Figure\",\"type\":\"Plot\"},\"ticker\":{\"id\":\"d8537089-b5bf-4e8b-8735-1340d8384eb6\",\"type\":\"BasicTicker\"}},\"id\":\"82b28fb2-815f-4e4d-a8d8-88cc3a7c862c\",\"type\":\"Grid\"},{\"attributes\":{\"dimension\":1,\"plot\":{\"id\":\"e3c1f3be-d189-4350-a51d-a8a33377bce0\",\"subtype\":\"Figure\",\"type\":\"Plot\"},\"ticker\":{\"id\":\"797ac1eb-4bd5-473d-a4cb-4b0c13b9085e\",\"type\":\"BasicTicker\"}},\"id\":\"1f204924-389e-481a-94db-468b88c1524c\",\"type\":\"Grid\"},{\"attributes\":{},\"id\":\"2e4f140c-0d11-4037-b635-c9e2ab22a921\",\"type\":\"Selection\"},{\"attributes\":{},\"id\":\"060b7ebd-7121-49d4-946f-8f87c29d3d71\",\"type\":\"BasicTickFormatter\"},{\"attributes\":{\"active_drag\":\"auto\",\"active_inspect\":\"auto\",\"active_multi\":null,\"active_scroll\":\"auto\",\"active_tap\":\"auto\",\"tools\":[{\"id\":\"f07cf0f5-922d-40e6-9ab4-c2d896b2c099\",\"type\":\"PanTool\"},{\"id\":\"91360bbf-5ba5-4c3f-b158-30ad6125e79a\",\"type\":\"WheelZoomTool\"},{\"id\":\"041d95ec-3736-47fa-8b3c-344754007c88\",\"type\":\"BoxZoomTool\"},{\"id\":\"f6173408-051c-4e5f-9b75-f0b37917fa20\",\"type\":\"SaveTool\"},{\"id\":\"bbb18667-4e33-49d8-92b2-52799f2f0b90\",\"type\":\"ResetTool\"},{\"id\":\"3f488cf0-1230-4bcc-9256-2371be752710\",\"type\":\"HelpTool\"}]},\"id\":\"773f8cd4-1459-4baa-a75e-02f9f93ae038\",\"type\":\"Toolbar\"},{\"attributes\":{},\"id\":\"2db7dfd0-85d5-40f3-9178-7a1c47f0ec3d\",\"type\":\"LinearScale\"},{\"attributes\":{},\"id\":\"bbb18667-4e33-49d8-92b2-52799f2f0b90\",\"type\":\"ResetTool\"},{\"attributes\":{},\"id\":\"de570f77-28a0-4447-8150-c82172a07ba9\",\"type\":\"WheelZoomTool\"},{\"attributes\":{},\"id\":\"f6173408-051c-4e5f-9b75-f0b37917fa20\",\"type\":\"SaveTool\"},{\"attributes\":{\"fill_alpha\":{\"value\":0.1},\"fill_color\":{\"value\":\"#1f77b4\"},\"line_alpha\":{\"value\":0.1},\"line_color\":{\"value\":\"#1f77b4\"},\"size\":{\"units\":\"screen\",\"value\":10},\"x\":{\"field\":\"x\"},\"y\":{\"field\":\"y\"}},\"id\":\"ed5b4385-e65c-42f0-a32e-f25fb08f2d75\",\"type\":\"Circle\"},{\"attributes\":{\"data_source\":{\"id\":\"1464fc41-33a0-4b8f-8bac-85382b50d801\",\"type\":\"ColumnDataSource\"},\"glyph\":{\"id\":\"49159b58-51ad-4429-82f5-969d19f0cc96\",\"type\":\"Circle\"},\"hover_glyph\":null,\"muted_glyph\":null,\"nonselection_glyph\":{\"id\":\"ed5b4385-e65c-42f0-a32e-f25fb08f2d75\",\"type\":\"Circle\"},\"selection_glyph\":null,\"view\":{\"id\":\"cfa29100-0bea-4413-b520-0c993809108f\",\"type\":\"CDSView\"}},\"id\":\"98b2ee35-630f-4cbc-8b7f-15d8e44dbf47\",\"type\":\"GlyphRenderer\"},{\"attributes\":{\"below\":[{\"id\":\"56d2980a-e10c-431b-9f93-27109321d6a3\",\"type\":\"LinearAxis\"}],\"left\":[{\"id\":\"586849d2-44ef-4940-962c-3d9128486151\",\"type\":\"LinearAxis\"}],\"plot_height\":250,\"plot_width\":250,\"renderers\":[{\"id\":\"56d2980a-e10c-431b-9f93-27109321d6a3\",\"type\":\"LinearAxis\"},{\"id\":\"4bb8cf1e-ac3d-4fde-9dd6-faf713ade857\",\"type\":\"Grid\"},{\"id\":\"586849d2-44ef-4940-962c-3d9128486151\",\"type\":\"LinearAxis\"},{\"id\":\"1f204924-389e-481a-94db-468b88c1524c\",\"type\":\"Grid\"},{\"id\":\"74608c56-18e1-4101-9e4a-bb7998f82ea8\",\"type\":\"BoxAnnotation\"},{\"id\":\"8e4176be-80e2-4a60-b40e-79d7e2676ea4\",\"type\":\"GlyphRenderer\"}],\"title\":{\"id\":\"cc311493-7f72-4033-811a-58faa34f5907\",\"type\":\"Title\"},\"toolbar\":{\"id\":\"b142eaca-5906-4631-82c5-d82dfce13a43\",\"type\":\"Toolbar\"},\"x_range\":{\"id\":\"d5b36450-4241-4732-ae8c-9563d9d0d86e\",\"type\":\"DataRange1d\"},\"x_scale\":{\"id\":\"fad3a452-1bf8-4392-bd86-4a5b9ccbe079\",\"type\":\"LinearScale\"},\"y_range\":{\"id\":\"d5dfa19b-c0f8-4b76-b44d-6c316fd81845\",\"type\":\"DataRange1d\"},\"y_scale\":{\"id\":\"2db7dfd0-85d5-40f3-9178-7a1c47f0ec3d\",\"type\":\"LinearScale\"}},\"id\":\"e3c1f3be-d189-4350-a51d-a8a33377bce0\",\"subtype\":\"Figure\",\"type\":\"Plot\"},{\"attributes\":{\"plot\":{\"id\":\"4c55e527-d32c-4699-9ec8-1debef4e3f50\",\"subtype\":\"Figure\",\"type\":\"Plot\"},\"ticker\":{\"id\":\"6847489e-21f8-4b8f-a320-3093ef4c8cba\",\"type\":\"BasicTicker\"}},\"id\":\"de51722d-74bb-4caa-834f-25db76b36dbd\",\"type\":\"Grid\"},{\"attributes\":{\"formatter\":{\"id\":\"8d8021dd-5008-4252-b1b7-bbbe785c3c08\",\"type\":\"BasicTickFormatter\"},\"plot\":{\"id\":\"4c55e527-d32c-4699-9ec8-1debef4e3f50\",\"subtype\":\"Figure\",\"type\":\"Plot\"},\"ticker\":{\"id\":\"d8537089-b5bf-4e8b-8735-1340d8384eb6\",\"type\":\"BasicTicker\"}},\"id\":\"1c53c817-914a-437a-b995-841fc8f58a73\",\"type\":\"LinearAxis\"},{\"attributes\":{\"fill_alpha\":{\"value\":0.5},\"fill_color\":{\"value\":\"navy\"},\"line_alpha\":{\"value\":0.5},\"line_color\":{\"value\":\"navy\"},\"size\":{\"units\":\"screen\",\"value\":10},\"x\":{\"field\":\"x\"},\"y\":{\"field\":\"y\"}},\"id\":\"49159b58-51ad-4429-82f5-969d19f0cc96\",\"type\":\"Circle\"},{\"attributes\":{},\"id\":\"722fb4ea-4641-4d4c-87d9-ce2a38895719\",\"type\":\"UnionRenderers\"},{\"attributes\":{},\"id\":\"5bc3fed7-725a-40ce-a9b7-9fdb9b9181c5\",\"type\":\"HelpTool\"},{\"attributes\":{\"plot\":null,\"text\":\"\"},\"id\":\"733ae89d-8ab3-4799-b174-6356042ac25f\",\"type\":\"Title\"},{\"attributes\":{\"callback\":null,\"data\":{\"x\":[0,1,2,3,4,5,6,7,8,9,10],\"y\":[0,1,2,3,4,5,6,7,8,9,10]},\"selected\":{\"id\":\"86d1ff36-d448-4a8e-9338-3fa3ed2b9935\",\"type\":\"Selection\"},\"selection_policy\":{\"id\":\"125fab40-02fa-4840-a954-432942e4cc87\",\"type\":\"UnionRenderers\"}},\"id\":\"1464fc41-33a0-4b8f-8bac-85382b50d801\",\"type\":\"ColumnDataSource\"},{\"attributes\":{},\"id\":\"eef5aa2e-87c0-4361-a24f-fa88203a9448\",\"type\":\"PanTool\"},{\"attributes\":{},\"id\":\"125fab40-02fa-4840-a954-432942e4cc87\",\"type\":\"UnionRenderers\"},{\"attributes\":{\"below\":[{\"id\":\"13f79f6a-bd9f-45a5-818a-986a21d8e9f6\",\"type\":\"LinearAxis\"}],\"left\":[{\"id\":\"13e4f77f-a22c-461c-8dc2-8d70b78369cf\",\"type\":\"LinearAxis\"}],\"plot_height\":250,\"plot_width\":250,\"renderers\":[{\"id\":\"13f79f6a-bd9f-45a5-818a-986a21d8e9f6\",\"type\":\"LinearAxis\"},{\"id\":\"828b0c21-0dc7-45b1-aeee-daab21b61ea9\",\"type\":\"Grid\"},{\"id\":\"13e4f77f-a22c-461c-8dc2-8d70b78369cf\",\"type\":\"LinearAxis\"},{\"id\":\"bd7828ac-6c0c-4243-a6b9-ebda42102ba1\",\"type\":\"Grid\"},{\"id\":\"4d7b5694-79e7-43e7-b679-1719d980c026\",\"type\":\"BoxAnnotation\"},{\"id\":\"98b2ee35-630f-4cbc-8b7f-15d8e44dbf47\",\"type\":\"GlyphRenderer\"}],\"title\":{\"id\":\"733ae89d-8ab3-4799-b174-6356042ac25f\",\"type\":\"Title\"},\"toolbar\":{\"id\":\"773f8cd4-1459-4baa-a75e-02f9f93ae038\",\"type\":\"Toolbar\"},\"x_range\":{\"id\":\"b2683c00-7aaf-4f6a-a7f0-e3552b86b070\",\"type\":\"DataRange1d\"},\"x_scale\":{\"id\":\"8eac8e57-35c0-437f-9007-3307ecd72c9d\",\"type\":\"LinearScale\"},\"y_range\":{\"id\":\"96ae69a6-29ce-45e2-99fa-31bea0ab5518\",\"type\":\"DataRange1d\"},\"y_scale\":{\"id\":\"833c6bcb-b860-4279-bda5-f580d7a8f973\",\"type\":\"LinearScale\"}},\"id\":\"606d40d8-9b84-4c31-a0a3-a05c4937f8bf\",\"subtype\":\"Figure\",\"type\":\"Plot\"},{\"attributes\":{},\"id\":\"bfd9a1b0-884c-4f2e-a755-882d5dfcddf3\",\"type\":\"BasicTicker\"},{\"attributes\":{},\"id\":\"5ee3199e-e2eb-4923-bd5f-3eca6ff181a3\",\"type\":\"HelpTool\"},{\"attributes\":{},\"id\":\"8d8021dd-5008-4252-b1b7-bbbe785c3c08\",\"type\":\"BasicTickFormatter\"},{\"attributes\":{\"source\":{\"id\":\"89bcb927-c9f5-4b97-a8f3-f26e8506ea9d\",\"type\":\"ColumnDataSource\"}},\"id\":\"0a11daa0-caf4-4b04-b46e-6ebb5aec8b44\",\"type\":\"CDSView\"},{\"attributes\":{\"fill_alpha\":{\"value\":0.5},\"fill_color\":{\"value\":\"olive\"},\"line_alpha\":{\"value\":0.5},\"line_color\":{\"value\":\"olive\"},\"size\":{\"units\":\"screen\",\"value\":10},\"x\":{\"field\":\"x\"},\"y\":{\"field\":\"y\"}},\"id\":\"d208541b-290a-4267-8960-f5b81b3fa22e\",\"type\":\"Square\"},{\"attributes\":{},\"id\":\"797ac1eb-4bd5-473d-a4cb-4b0c13b9085e\",\"type\":\"BasicTicker\"},{\"attributes\":{},\"id\":\"e8fc3870-c597-4ecc-a657-079f65e2a9ed\",\"type\":\"SaveTool\"},{\"attributes\":{\"callback\":null},\"id\":\"d5dfa19b-c0f8-4b76-b44d-6c316fd81845\",\"type\":\"DataRange1d\"},{\"attributes\":{\"callback\":null},\"id\":\"96ae69a6-29ce-45e2-99fa-31bea0ab5518\",\"type\":\"DataRange1d\"},{\"attributes\":{\"overlay\":{\"id\":\"a7cc9c7f-e70b-4a28-a732-58e4938eb446\",\"type\":\"BoxAnnotation\"}},\"id\":\"cbf6dd63-709c-4001-a531-75c2cc203029\",\"type\":\"BoxZoomTool\"},{\"attributes\":{},\"id\":\"fad3a452-1bf8-4392-bd86-4a5b9ccbe079\",\"type\":\"LinearScale\"},{\"attributes\":{\"formatter\":{\"id\":\"2e8e74e7-40b6-4cb6-a0e8-d557d2fab9dd\",\"type\":\"BasicTickFormatter\"},\"plot\":{\"id\":\"606d40d8-9b84-4c31-a0a3-a05c4937f8bf\",\"subtype\":\"Figure\",\"type\":\"Plot\"},\"ticker\":{\"id\":\"bfd9a1b0-884c-4f2e-a755-882d5dfcddf3\",\"type\":\"BasicTicker\"}},\"id\":\"13e4f77f-a22c-461c-8dc2-8d70b78369cf\",\"type\":\"LinearAxis\"},{\"attributes\":{},\"id\":\"aef72907-35dd-40ef-a994-0778d8b4b839\",\"type\":\"WheelZoomTool\"},{\"attributes\":{},\"id\":\"86d1ff36-d448-4a8e-9338-3fa3ed2b9935\",\"type\":\"Selection\"},{\"attributes\":{},\"id\":\"f07cf0f5-922d-40e6-9ab4-c2d896b2c099\",\"type\":\"PanTool\"},{\"attributes\":{\"children\":[{\"id\":\"606d40d8-9b84-4c31-a0a3-a05c4937f8bf\",\"subtype\":\"Figure\",\"type\":\"Plot\"}]},\"id\":\"6e567e33-eab9-46aa-8314-cc08f6f22219\",\"type\":\"Row\"},{\"attributes\":{},\"id\":\"2a1b6b55-7535-4677-8911-7aa359f98c29\",\"type\":\"ResetTool\"},{\"attributes\":{\"callback\":null,\"data\":{\"x\":[0,1,2,3,4,5,6,7,8,9,10],\"y\":[10,9,8,7,6,5,4,3,2,1,0]},\"selected\":{\"id\":\"2e4f140c-0d11-4037-b635-c9e2ab22a921\",\"type\":\"Selection\"},\"selection_policy\":{\"id\":\"4b922bda-e04d-45b8-a7f9-adb35714b9ee\",\"type\":\"UnionRenderers\"}},\"id\":\"8bfd8124-3afb-4f6f-90f6-bd6c5efda0f2\",\"type\":\"ColumnDataSource\"},{\"attributes\":{\"overlay\":{\"id\":\"74608c56-18e1-4101-9e4a-bb7998f82ea8\",\"type\":\"BoxAnnotation\"}},\"id\":\"5362f553-0526-48d7-8f7e-85853b3d2520\",\"type\":\"BoxZoomTool\"},{\"attributes\":{\"data_source\":{\"id\":\"89bcb927-c9f5-4b97-a8f3-f26e8506ea9d\",\"type\":\"ColumnDataSource\"},\"glyph\":{\"id\":\"d208541b-290a-4267-8960-f5b81b3fa22e\",\"type\":\"Square\"},\"hover_glyph\":null,\"muted_glyph\":null,\"nonselection_glyph\":{\"id\":\"0a0a4f7d-d469-4280-8f91-7ea9b9298aee\",\"type\":\"Square\"},\"selection_glyph\":null,\"view\":{\"id\":\"0a11daa0-caf4-4b04-b46e-6ebb5aec8b44\",\"type\":\"CDSView\"}},\"id\":\"8e4176be-80e2-4a60-b40e-79d7e2676ea4\",\"type\":\"GlyphRenderer\"},{\"attributes\":{\"fill_alpha\":{\"value\":0.5},\"fill_color\":{\"value\":\"firebrick\"},\"line_alpha\":{\"value\":0.5},\"line_color\":{\"value\":\"firebrick\"},\"size\":{\"units\":\"screen\",\"value\":10},\"x\":{\"field\":\"x\"},\"y\":{\"field\":\"y\"}},\"id\":\"8c2f7607-6453-454c-b003-d1ab2358938c\",\"type\":\"Triangle\"},{\"attributes\":{\"plot\":null,\"text\":\"\"},\"id\":\"cc311493-7f72-4033-811a-58faa34f5907\",\"type\":\"Title\"},{\"attributes\":{\"callback\":null},\"id\":\"d5b36450-4241-4732-ae8c-9563d9d0d86e\",\"type\":\"DataRange1d\"},{\"attributes\":{\"children\":[{\"id\":\"4c55e527-d32c-4699-9ec8-1debef4e3f50\",\"subtype\":\"Figure\",\"type\":\"Plot\"},{\"id\":\"e3c1f3be-d189-4350-a51d-a8a33377bce0\",\"subtype\":\"Figure\",\"type\":\"Plot\"}]},\"id\":\"52f77b4d-e75d-42f0-929e-7b8941aad9aa\",\"type\":\"Row\"},{\"attributes\":{\"formatter\":{\"id\":\"4f3518c5-a239-4b43-8c8c-567d72fc871f\",\"type\":\"BasicTickFormatter\"},\"plot\":{\"id\":\"e3c1f3be-d189-4350-a51d-a8a33377bce0\",\"subtype\":\"Figure\",\"type\":\"Plot\"},\"ticker\":{\"id\":\"2570acf1-450d-4183-b37d-c47cda4ef7d1\",\"type\":\"BasicTicker\"}},\"id\":\"56d2980a-e10c-431b-9f93-27109321d6a3\",\"type\":\"LinearAxis\"},{\"attributes\":{},\"id\":\"4b922bda-e04d-45b8-a7f9-adb35714b9ee\",\"type\":\"UnionRenderers\"},{\"attributes\":{\"bottom_units\":\"screen\",\"fill_alpha\":{\"value\":0.5},\"fill_color\":{\"value\":\"lightgrey\"},\"left_units\":\"screen\",\"level\":\"overlay\",\"line_alpha\":{\"value\":1.0},\"line_color\":{\"value\":\"black\"},\"line_dash\":[4,4],\"line_width\":{\"value\":2},\"plot\":null,\"render_mode\":\"css\",\"right_units\":\"screen\",\"top_units\":\"screen\"},\"id\":\"4d7b5694-79e7-43e7-b679-1719d980c026\",\"type\":\"BoxAnnotation\"},{\"attributes\":{\"plot\":{\"id\":\"e3c1f3be-d189-4350-a51d-a8a33377bce0\",\"subtype\":\"Figure\",\"type\":\"Plot\"},\"ticker\":{\"id\":\"2570acf1-450d-4183-b37d-c47cda4ef7d1\",\"type\":\"BasicTicker\"}},\"id\":\"4bb8cf1e-ac3d-4fde-9dd6-faf713ade857\",\"type\":\"Grid\"},{\"attributes\":{\"formatter\":{\"id\":\"db280758-3f6a-41a7-93e3-ba78a679a0e0\",\"type\":\"BasicTickFormatter\"},\"plot\":{\"id\":\"606d40d8-9b84-4c31-a0a3-a05c4937f8bf\",\"subtype\":\"Figure\",\"type\":\"Plot\"},\"ticker\":{\"id\":\"95cd7512-52f7-4951-a542-4a21ed022902\",\"type\":\"BasicTicker\"}},\"id\":\"13f79f6a-bd9f-45a5-818a-986a21d8e9f6\",\"type\":\"LinearAxis\"},{\"attributes\":{\"bottom_units\":\"screen\",\"fill_alpha\":{\"value\":0.5},\"fill_color\":{\"value\":\"lightgrey\"},\"left_units\":\"screen\",\"level\":\"overlay\",\"line_alpha\":{\"value\":1.0},\"line_color\":{\"value\":\"black\"},\"line_dash\":[4,4],\"line_width\":{\"value\":2},\"plot\":null,\"render_mode\":\"css\",\"right_units\":\"screen\",\"top_units\":\"screen\"},\"id\":\"74608c56-18e1-4101-9e4a-bb7998f82ea8\",\"type\":\"BoxAnnotation\"},{\"attributes\":{\"children\":[{\"id\":\"6e567e33-eab9-46aa-8314-cc08f6f22219\",\"type\":\"Row\"},{\"id\":\"52f77b4d-e75d-42f0-929e-7b8941aad9aa\",\"type\":\"Row\"}]},\"id\":\"6d568884-e260-4fb4-918e-8f6f0655df80\",\"type\":\"Column\"},{\"attributes\":{\"plot\":{\"id\":\"606d40d8-9b84-4c31-a0a3-a05c4937f8bf\",\"subtype\":\"Figure\",\"type\":\"Plot\"},\"ticker\":{\"id\":\"95cd7512-52f7-4951-a542-4a21ed022902\",\"type\":\"BasicTicker\"}},\"id\":\"828b0c21-0dc7-45b1-aeee-daab21b61ea9\",\"type\":\"Grid\"},{\"attributes\":{},\"id\":\"4655a6fe-350a-469d-9b16-1c39f8535036\",\"type\":\"LinearScale\"},{\"attributes\":{\"below\":[{\"id\":\"827e0591-bd54-447c-ad2e-af96c032712e\",\"type\":\"LinearAxis\"}],\"left\":[{\"id\":\"1c53c817-914a-437a-b995-841fc8f58a73\",\"type\":\"LinearAxis\"}],\"plot_height\":250,\"plot_width\":250,\"renderers\":[{\"id\":\"827e0591-bd54-447c-ad2e-af96c032712e\",\"type\":\"LinearAxis\"},{\"id\":\"de51722d-74bb-4caa-834f-25db76b36dbd\",\"type\":\"Grid\"},{\"id\":\"1c53c817-914a-437a-b995-841fc8f58a73\",\"type\":\"LinearAxis\"},{\"id\":\"82b28fb2-815f-4e4d-a8d8-88cc3a7c862c\",\"type\":\"Grid\"},{\"id\":\"a7cc9c7f-e70b-4a28-a732-58e4938eb446\",\"type\":\"BoxAnnotation\"},{\"id\":\"3d5dcc75-cb68-4760-a78b-7207745e8ab8\",\"type\":\"GlyphRenderer\"}],\"title\":{\"id\":\"135881d4-2847-4464-bb89-13f4f2d1a141\",\"type\":\"Title\"},\"toolbar\":{\"id\":\"ec25263b-12c6-4274-bfdc-9a22bcf42e92\",\"type\":\"Toolbar\"},\"x_range\":{\"id\":\"1c076e70-aa31-4bed-8f18-3d8c56c148ec\",\"type\":\"DataRange1d\"},\"x_scale\":{\"id\":\"4655a6fe-350a-469d-9b16-1c39f8535036\",\"type\":\"LinearScale\"},\"y_range\":{\"id\":\"4c1341d0-d8c0-4520-aa36-9e2573ae1143\",\"type\":\"DataRange1d\"},\"y_scale\":{\"id\":\"96decacc-daba-4704-b1cd-7e3da67a6b08\",\"type\":\"LinearScale\"}},\"id\":\"4c55e527-d32c-4699-9ec8-1debef4e3f50\",\"subtype\":\"Figure\",\"type\":\"Plot\"},{\"attributes\":{},\"id\":\"3f488cf0-1230-4bcc-9256-2371be752710\",\"type\":\"HelpTool\"},{\"attributes\":{},\"id\":\"2570acf1-450d-4183-b37d-c47cda4ef7d1\",\"type\":\"BasicTicker\"},{\"attributes\":{\"formatter\":{\"id\":\"060b7ebd-7121-49d4-946f-8f87c29d3d71\",\"type\":\"BasicTickFormatter\"},\"plot\":{\"id\":\"e3c1f3be-d189-4350-a51d-a8a33377bce0\",\"subtype\":\"Figure\",\"type\":\"Plot\"},\"ticker\":{\"id\":\"797ac1eb-4bd5-473d-a4cb-4b0c13b9085e\",\"type\":\"BasicTicker\"}},\"id\":\"586849d2-44ef-4940-962c-3d9128486151\",\"type\":\"LinearAxis\"},{\"attributes\":{\"source\":{\"id\":\"1464fc41-33a0-4b8f-8bac-85382b50d801\",\"type\":\"ColumnDataSource\"}},\"id\":\"cfa29100-0bea-4413-b520-0c993809108f\",\"type\":\"CDSView\"},{\"attributes\":{\"active_drag\":\"auto\",\"active_inspect\":\"auto\",\"active_multi\":null,\"active_scroll\":\"auto\",\"active_tap\":\"auto\",\"tools\":[{\"id\":\"eef5aa2e-87c0-4361-a24f-fa88203a9448\",\"type\":\"PanTool\"},{\"id\":\"aef72907-35dd-40ef-a994-0778d8b4b839\",\"type\":\"WheelZoomTool\"},{\"id\":\"5362f553-0526-48d7-8f7e-85853b3d2520\",\"type\":\"BoxZoomTool\"},{\"id\":\"a061f0e5-3d50-4097-8665-74382f119a75\",\"type\":\"SaveTool\"},{\"id\":\"10019d55-2148-4ccb-867d-7d581f50cd85\",\"type\":\"ResetTool\"},{\"id\":\"5bc3fed7-725a-40ce-a9b7-9fdb9b9181c5\",\"type\":\"HelpTool\"}]},\"id\":\"b142eaca-5906-4631-82c5-d82dfce13a43\",\"type\":\"Toolbar\"},{\"attributes\":{\"overlay\":{\"id\":\"4d7b5694-79e7-43e7-b679-1719d980c026\",\"type\":\"BoxAnnotation\"}},\"id\":\"041d95ec-3736-47fa-8b3c-344754007c88\",\"type\":\"BoxZoomTool\"},{\"attributes\":{},\"id\":\"4f3518c5-a239-4b43-8c8c-567d72fc871f\",\"type\":\"BasicTickFormatter\"},{\"attributes\":{\"dimension\":1,\"plot\":{\"id\":\"606d40d8-9b84-4c31-a0a3-a05c4937f8bf\",\"subtype\":\"Figure\",\"type\":\"Plot\"},\"ticker\":{\"id\":\"bfd9a1b0-884c-4f2e-a755-882d5dfcddf3\",\"type\":\"BasicTicker\"}},\"id\":\"bd7828ac-6c0c-4243-a6b9-ebda42102ba1\",\"type\":\"Grid\"},{\"attributes\":{\"formatter\":{\"id\":\"46d617cd-d71e-46d6-9a0e-014074f93de9\",\"type\":\"BasicTickFormatter\"},\"plot\":{\"id\":\"4c55e527-d32c-4699-9ec8-1debef4e3f50\",\"subtype\":\"Figure\",\"type\":\"Plot\"},\"ticker\":{\"id\":\"6847489e-21f8-4b8f-a320-3093ef4c8cba\",\"type\":\"BasicTicker\"}},\"id\":\"827e0591-bd54-447c-ad2e-af96c032712e\",\"type\":\"LinearAxis\"},{\"attributes\":{\"plot\":null,\"text\":\"\"},\"id\":\"135881d4-2847-4464-bb89-13f4f2d1a141\",\"type\":\"Title\"},{\"attributes\":{\"callback\":null,\"data\":{\"x\":[0,1,2,3,4,5,6,7,8,9,10],\"y\":[5,4,3,2,1,0,1,2,3,4,5]},\"selected\":{\"id\":\"18c2dd13-de29-46e1-af70-e6eb5a8abb54\",\"type\":\"Selection\"},\"selection_policy\":{\"id\":\"722fb4ea-4641-4d4c-87d9-ce2a38895719\",\"type\":\"UnionRenderers\"}},\"id\":\"89bcb927-c9f5-4b97-a8f3-f26e8506ea9d\",\"type\":\"ColumnDataSource\"},{\"attributes\":{\"bottom_units\":\"screen\",\"fill_alpha\":{\"value\":0.5},\"fill_color\":{\"value\":\"lightgrey\"},\"left_units\":\"screen\",\"level\":\"overlay\",\"line_alpha\":{\"value\":1.0},\"line_color\":{\"value\":\"black\"},\"line_dash\":[4,4],\"line_width\":{\"value\":2},\"plot\":null,\"render_mode\":\"css\",\"right_units\":\"screen\",\"top_units\":\"screen\"},\"id\":\"a7cc9c7f-e70b-4a28-a732-58e4938eb446\",\"type\":\"BoxAnnotation\"},{\"attributes\":{},\"id\":\"2e8e74e7-40b6-4cb6-a0e8-d557d2fab9dd\",\"type\":\"BasicTickFormatter\"},{\"attributes\":{\"active_drag\":\"auto\",\"active_inspect\":\"auto\",\"active_multi\":null,\"active_scroll\":\"auto\",\"active_tap\":\"auto\",\"tools\":[{\"id\":\"efbe51a3-d42e-4228-b723-896d511ff0bf\",\"type\":\"PanTool\"},{\"id\":\"de570f77-28a0-4447-8150-c82172a07ba9\",\"type\":\"WheelZoomTool\"},{\"id\":\"cbf6dd63-709c-4001-a531-75c2cc203029\",\"type\":\"BoxZoomTool\"},{\"id\":\"e8fc3870-c597-4ecc-a657-079f65e2a9ed\",\"type\":\"SaveTool\"},{\"id\":\"2a1b6b55-7535-4677-8911-7aa359f98c29\",\"type\":\"ResetTool\"},{\"id\":\"5ee3199e-e2eb-4923-bd5f-3eca6ff181a3\",\"type\":\"HelpTool\"}]},\"id\":\"ec25263b-12c6-4274-bfdc-9a22bcf42e92\",\"type\":\"Toolbar\"}],\"root_ids\":[\"6d568884-e260-4fb4-918e-8f6f0655df80\"]},\"title\":\"Bokeh Application\",\"version\":\"0.13.0\"}};\n",
       "  var render_items = [{\"docid\":\"4c6fd049-045c-44f4-9ddf-4a6154469dc1\",\"roots\":{\"6d568884-e260-4fb4-918e-8f6f0655df80\":\"a302f260-7b56-4f36-847f-c6b2586028e1\"}}];\n",
       "  root.Bokeh.embed.embed_items_notebook(docs_json, render_items);\n",
       "\n",
       "  }\n",
       "  if (root.Bokeh !== undefined) {\n",
       "    embed_document(root);\n",
       "  } else {\n",
       "    var attempts = 0;\n",
       "    var timer = setInterval(function(root) {\n",
       "      if (root.Bokeh !== undefined) {\n",
       "        embed_document(root);\n",
       "        clearInterval(timer);\n",
       "      }\n",
       "      attempts++;\n",
       "      if (attempts > 100) {\n",
       "        console.log(\"Bokeh: ERROR: Unable to run BokehJS code because BokehJS library is missing\")\n",
       "        clearInterval(timer);\n",
       "      }\n",
       "    }, 10, root)\n",
       "  }\n",
       "})(window);"
      ],
      "application/vnd.bokehjs_exec.v0+json": ""
     },
     "metadata": {
      "application/vnd.bokehjs_exec.v0+json": {
       "id": "6d568884-e260-4fb4-918e-8f6f0655df80"
      }
     },
     "output_type": "display_data"
    }
   ],
   "source": [
    "# EXERCISE: create a gridplot of your own\n",
    "\n",
    "from bokeh.layouts import layout\n",
    "\n",
    "# create a new plot\n",
    "s1 = figure(width=250, plot_height=250)\n",
    "s1.circle(x, y0, size=10, color=\"navy\", alpha=0.5)\n",
    "\n",
    "# create another one\n",
    "s2 = figure(width=250, height=250)\n",
    "s2.triangle(x, y1, size=10, color=\"firebrick\", alpha=0.5)\n",
    "\n",
    "# create and another\n",
    "s3 = figure(width=250, height=250)\n",
    "s3.square(x, y2, size=10, color=\"olive\", alpha=0.5)\n",
    "\n",
    "# put all the plots in a gridplot\n",
    "#p = gridplot([[s1, s2], [s3, None]], toolbar_location=None)\n",
    "\n",
    "p = layout([[s1],  [ s2, s3],])\n",
    "# show the results\n",
    "show(p)\n",
    "\n"
   ]
  },
  {
   "cell_type": "code",
   "execution_count": null,
   "metadata": {},
   "outputs": [],
   "source": []
  }
 ],
 "metadata": {
  "celltoolbar": "Slideshow",
  "kernelspec": {
   "display_name": "Python 3",
   "language": "python",
   "name": "python3"
  },
  "language_info": {
   "codemirror_mode": {
    "name": "ipython",
    "version": 3
   },
   "file_extension": ".py",
   "mimetype": "text/x-python",
   "name": "python",
   "nbconvert_exporter": "python",
   "pygments_lexer": "ipython3",
   "version": "3.5.6"
  }
 },
 "nbformat": 4,
 "nbformat_minor": 2
}
