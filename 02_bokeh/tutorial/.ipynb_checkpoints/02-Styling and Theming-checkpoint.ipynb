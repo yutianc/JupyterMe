{
 "cells": [
  {
   "cell_type": "markdown",
   "metadata": {
    "slideshow": {
     "slide_type": "skip"
    }
   },
   "source": [
    "\n",
    "\n",
    "## Bokeh Tutorial\n",
    "\n",
    "\n",
    "### 02. Styling and Theming"
   ]
  },
  {
   "cell_type": "markdown",
   "metadata": {
    "slideshow": {
     "slide_type": "skip"
    }
   },
   "source": [
    "In this chapter we will learn how to configure various visual aspects of our plots, and how to find out more about what an be configured. \n",
    "\n",
    "First, let's make the standard imports"
   ]
  },
  {
   "cell_type": "code",
   "execution_count": 1,
   "metadata": {
    "slideshow": {
     "slide_type": "skip"
    }
   },
   "outputs": [],
   "source": [
    "from bokeh.io import output_notebook, show\n",
    "from bokeh.plotting import figure"
   ]
  },
  {
   "cell_type": "code",
   "execution_count": 2,
   "metadata": {
    "slideshow": {
     "slide_type": "skip"
    }
   },
   "outputs": [
    {
     "data": {
      "text/html": [
       "\n",
       "    <div class=\"bk-root\">\n",
       "        <a href=\"https://bokeh.pydata.org\" target=\"_blank\" class=\"bk-logo bk-logo-small bk-logo-notebook\"></a>\n",
       "        <span id=\"06ab7cf8-58ca-4ce5-ad9e-c0acecbb1f77\">Loading BokehJS ...</span>\n",
       "    </div>"
      ]
     },
     "metadata": {},
     "output_type": "display_data"
    },
    {
     "data": {
      "application/javascript": [
       "\n",
       "(function(root) {\n",
       "  function now() {\n",
       "    return new Date();\n",
       "  }\n",
       "\n",
       "  var force = true;\n",
       "\n",
       "  if (typeof (root._bokeh_onload_callbacks) === \"undefined\" || force === true) {\n",
       "    root._bokeh_onload_callbacks = [];\n",
       "    root._bokeh_is_loading = undefined;\n",
       "  }\n",
       "\n",
       "  var JS_MIME_TYPE = 'application/javascript';\n",
       "  var HTML_MIME_TYPE = 'text/html';\n",
       "  var EXEC_MIME_TYPE = 'application/vnd.bokehjs_exec.v0+json';\n",
       "  var CLASS_NAME = 'output_bokeh rendered_html';\n",
       "\n",
       "  /**\n",
       "   * Render data to the DOM node\n",
       "   */\n",
       "  function render(props, node) {\n",
       "    var script = document.createElement(\"script\");\n",
       "    node.appendChild(script);\n",
       "  }\n",
       "\n",
       "  /**\n",
       "   * Handle when an output is cleared or removed\n",
       "   */\n",
       "  function handleClearOutput(event, handle) {\n",
       "    var cell = handle.cell;\n",
       "\n",
       "    var id = cell.output_area._bokeh_element_id;\n",
       "    var server_id = cell.output_area._bokeh_server_id;\n",
       "    // Clean up Bokeh references\n",
       "    if (id != null && id in Bokeh.index) {\n",
       "      Bokeh.index[id].model.document.clear();\n",
       "      delete Bokeh.index[id];\n",
       "    }\n",
       "\n",
       "    if (server_id !== undefined) {\n",
       "      // Clean up Bokeh references\n",
       "      var cmd = \"from bokeh.io.state import curstate; print(curstate().uuid_to_server['\" + server_id + \"'].get_sessions()[0].document.roots[0]._id)\";\n",
       "      cell.notebook.kernel.execute(cmd, {\n",
       "        iopub: {\n",
       "          output: function(msg) {\n",
       "            var id = msg.content.text.trim();\n",
       "            if (id in Bokeh.index) {\n",
       "              Bokeh.index[id].model.document.clear();\n",
       "              delete Bokeh.index[id];\n",
       "            }\n",
       "          }\n",
       "        }\n",
       "      });\n",
       "      // Destroy server and session\n",
       "      var cmd = \"import bokeh.io.notebook as ion; ion.destroy_server('\" + server_id + \"')\";\n",
       "      cell.notebook.kernel.execute(cmd);\n",
       "    }\n",
       "  }\n",
       "\n",
       "  /**\n",
       "   * Handle when a new output is added\n",
       "   */\n",
       "  function handleAddOutput(event, handle) {\n",
       "    var output_area = handle.output_area;\n",
       "    var output = handle.output;\n",
       "\n",
       "    // limit handleAddOutput to display_data with EXEC_MIME_TYPE content only\n",
       "    if ((output.output_type != \"display_data\") || (!output.data.hasOwnProperty(EXEC_MIME_TYPE))) {\n",
       "      return\n",
       "    }\n",
       "\n",
       "    var toinsert = output_area.element.find(\".\" + CLASS_NAME.split(' ')[0]);\n",
       "\n",
       "    if (output.metadata[EXEC_MIME_TYPE][\"id\"] !== undefined) {\n",
       "      toinsert[toinsert.length - 1].firstChild.textContent = output.data[JS_MIME_TYPE];\n",
       "      // store reference to embed id on output_area\n",
       "      output_area._bokeh_element_id = output.metadata[EXEC_MIME_TYPE][\"id\"];\n",
       "    }\n",
       "    if (output.metadata[EXEC_MIME_TYPE][\"server_id\"] !== undefined) {\n",
       "      var bk_div = document.createElement(\"div\");\n",
       "      bk_div.innerHTML = output.data[HTML_MIME_TYPE];\n",
       "      var script_attrs = bk_div.children[0].attributes;\n",
       "      for (var i = 0; i < script_attrs.length; i++) {\n",
       "        toinsert[toinsert.length - 1].firstChild.setAttribute(script_attrs[i].name, script_attrs[i].value);\n",
       "      }\n",
       "      // store reference to server id on output_area\n",
       "      output_area._bokeh_server_id = output.metadata[EXEC_MIME_TYPE][\"server_id\"];\n",
       "    }\n",
       "  }\n",
       "\n",
       "  function register_renderer(events, OutputArea) {\n",
       "\n",
       "    function append_mime(data, metadata, element) {\n",
       "      // create a DOM node to render to\n",
       "      var toinsert = this.create_output_subarea(\n",
       "        metadata,\n",
       "        CLASS_NAME,\n",
       "        EXEC_MIME_TYPE\n",
       "      );\n",
       "      this.keyboard_manager.register_events(toinsert);\n",
       "      // Render to node\n",
       "      var props = {data: data, metadata: metadata[EXEC_MIME_TYPE]};\n",
       "      render(props, toinsert[toinsert.length - 1]);\n",
       "      element.append(toinsert);\n",
       "      return toinsert\n",
       "    }\n",
       "\n",
       "    /* Handle when an output is cleared or removed */\n",
       "    events.on('clear_output.CodeCell', handleClearOutput);\n",
       "    events.on('delete.Cell', handleClearOutput);\n",
       "\n",
       "    /* Handle when a new output is added */\n",
       "    events.on('output_added.OutputArea', handleAddOutput);\n",
       "\n",
       "    /**\n",
       "     * Register the mime type and append_mime function with output_area\n",
       "     */\n",
       "    OutputArea.prototype.register_mime_type(EXEC_MIME_TYPE, append_mime, {\n",
       "      /* Is output safe? */\n",
       "      safe: true,\n",
       "      /* Index of renderer in `output_area.display_order` */\n",
       "      index: 0\n",
       "    });\n",
       "  }\n",
       "\n",
       "  // register the mime type if in Jupyter Notebook environment and previously unregistered\n",
       "  if (root.Jupyter !== undefined) {\n",
       "    var events = require('base/js/events');\n",
       "    var OutputArea = require('notebook/js/outputarea').OutputArea;\n",
       "\n",
       "    if (OutputArea.prototype.mime_types().indexOf(EXEC_MIME_TYPE) == -1) {\n",
       "      register_renderer(events, OutputArea);\n",
       "    }\n",
       "  }\n",
       "\n",
       "  \n",
       "  if (typeof (root._bokeh_timeout) === \"undefined\" || force === true) {\n",
       "    root._bokeh_timeout = Date.now() + 5000;\n",
       "    root._bokeh_failed_load = false;\n",
       "  }\n",
       "\n",
       "  var NB_LOAD_WARNING = {'data': {'text/html':\n",
       "     \"<div style='background-color: #fdd'>\\n\"+\n",
       "     \"<p>\\n\"+\n",
       "     \"BokehJS does not appear to have successfully loaded. If loading BokehJS from CDN, this \\n\"+\n",
       "     \"may be due to a slow or bad network connection. Possible fixes:\\n\"+\n",
       "     \"</p>\\n\"+\n",
       "     \"<ul>\\n\"+\n",
       "     \"<li>re-rerun `output_notebook()` to attempt to load from CDN again, or</li>\\n\"+\n",
       "     \"<li>use INLINE resources instead, as so:</li>\\n\"+\n",
       "     \"</ul>\\n\"+\n",
       "     \"<code>\\n\"+\n",
       "     \"from bokeh.resources import INLINE\\n\"+\n",
       "     \"output_notebook(resources=INLINE)\\n\"+\n",
       "     \"</code>\\n\"+\n",
       "     \"</div>\"}};\n",
       "\n",
       "  function display_loaded() {\n",
       "    var el = document.getElementById(\"06ab7cf8-58ca-4ce5-ad9e-c0acecbb1f77\");\n",
       "    if (el != null) {\n",
       "      el.textContent = \"BokehJS is loading...\";\n",
       "    }\n",
       "    if (root.Bokeh !== undefined) {\n",
       "      if (el != null) {\n",
       "        el.textContent = \"BokehJS \" + root.Bokeh.version + \" successfully loaded.\";\n",
       "      }\n",
       "    } else if (Date.now() < root._bokeh_timeout) {\n",
       "      setTimeout(display_loaded, 100)\n",
       "    }\n",
       "  }\n",
       "\n",
       "\n",
       "  function run_callbacks() {\n",
       "    try {\n",
       "      root._bokeh_onload_callbacks.forEach(function(callback) { callback() });\n",
       "    }\n",
       "    finally {\n",
       "      delete root._bokeh_onload_callbacks\n",
       "    }\n",
       "    console.info(\"Bokeh: all callbacks have finished\");\n",
       "  }\n",
       "\n",
       "  function load_libs(js_urls, callback) {\n",
       "    root._bokeh_onload_callbacks.push(callback);\n",
       "    if (root._bokeh_is_loading > 0) {\n",
       "      console.log(\"Bokeh: BokehJS is being loaded, scheduling callback at\", now());\n",
       "      return null;\n",
       "    }\n",
       "    if (js_urls == null || js_urls.length === 0) {\n",
       "      run_callbacks();\n",
       "      return null;\n",
       "    }\n",
       "    console.log(\"Bokeh: BokehJS not loaded, scheduling load and callback at\", now());\n",
       "    root._bokeh_is_loading = js_urls.length;\n",
       "    for (var i = 0; i < js_urls.length; i++) {\n",
       "      var url = js_urls[i];\n",
       "      var s = document.createElement('script');\n",
       "      s.src = url;\n",
       "      s.async = false;\n",
       "      s.onreadystatechange = s.onload = function() {\n",
       "        root._bokeh_is_loading--;\n",
       "        if (root._bokeh_is_loading === 0) {\n",
       "          console.log(\"Bokeh: all BokehJS libraries loaded\");\n",
       "          run_callbacks()\n",
       "        }\n",
       "      };\n",
       "      s.onerror = function() {\n",
       "        console.warn(\"failed to load library \" + url);\n",
       "      };\n",
       "      console.log(\"Bokeh: injecting script tag for BokehJS library: \", url);\n",
       "      document.getElementsByTagName(\"head\")[0].appendChild(s);\n",
       "    }\n",
       "  };var element = document.getElementById(\"06ab7cf8-58ca-4ce5-ad9e-c0acecbb1f77\");\n",
       "  if (element == null) {\n",
       "    console.log(\"Bokeh: ERROR: autoload.js configured with elementid '06ab7cf8-58ca-4ce5-ad9e-c0acecbb1f77' but no matching script tag was found. \")\n",
       "    return false;\n",
       "  }\n",
       "\n",
       "  var js_urls = [\"https://cdn.pydata.org/bokeh/release/bokeh-0.13.0.min.js\", \"https://cdn.pydata.org/bokeh/release/bokeh-widgets-0.13.0.min.js\", \"https://cdn.pydata.org/bokeh/release/bokeh-tables-0.13.0.min.js\", \"https://cdn.pydata.org/bokeh/release/bokeh-gl-0.13.0.min.js\"];\n",
       "\n",
       "  var inline_js = [\n",
       "    function(Bokeh) {\n",
       "      Bokeh.set_log_level(\"info\");\n",
       "    },\n",
       "    \n",
       "    function(Bokeh) {\n",
       "      \n",
       "    },\n",
       "    function(Bokeh) {\n",
       "      console.log(\"Bokeh: injecting CSS: https://cdn.pydata.org/bokeh/release/bokeh-0.13.0.min.css\");\n",
       "      Bokeh.embed.inject_css(\"https://cdn.pydata.org/bokeh/release/bokeh-0.13.0.min.css\");\n",
       "      console.log(\"Bokeh: injecting CSS: https://cdn.pydata.org/bokeh/release/bokeh-widgets-0.13.0.min.css\");\n",
       "      Bokeh.embed.inject_css(\"https://cdn.pydata.org/bokeh/release/bokeh-widgets-0.13.0.min.css\");\n",
       "      console.log(\"Bokeh: injecting CSS: https://cdn.pydata.org/bokeh/release/bokeh-tables-0.13.0.min.css\");\n",
       "      Bokeh.embed.inject_css(\"https://cdn.pydata.org/bokeh/release/bokeh-tables-0.13.0.min.css\");\n",
       "    }\n",
       "  ];\n",
       "\n",
       "  function run_inline_js() {\n",
       "    \n",
       "    if ((root.Bokeh !== undefined) || (force === true)) {\n",
       "      for (var i = 0; i < inline_js.length; i++) {\n",
       "        inline_js[i].call(root, root.Bokeh);\n",
       "      }if (force === true) {\n",
       "        display_loaded();\n",
       "      }} else if (Date.now() < root._bokeh_timeout) {\n",
       "      setTimeout(run_inline_js, 100);\n",
       "    } else if (!root._bokeh_failed_load) {\n",
       "      console.log(\"Bokeh: BokehJS failed to load within specified timeout.\");\n",
       "      root._bokeh_failed_load = true;\n",
       "    } else if (force !== true) {\n",
       "      var cell = $(document.getElementById(\"06ab7cf8-58ca-4ce5-ad9e-c0acecbb1f77\")).parents('.cell').data().cell;\n",
       "      cell.output_area.append_execute_result(NB_LOAD_WARNING)\n",
       "    }\n",
       "\n",
       "  }\n",
       "\n",
       "  if (root._bokeh_is_loading === 0) {\n",
       "    console.log(\"Bokeh: BokehJS loaded, going straight to plotting\");\n",
       "    run_inline_js();\n",
       "  } else {\n",
       "    load_libs(js_urls, function() {\n",
       "      console.log(\"Bokeh: BokehJS plotting callback run at\", now());\n",
       "      run_inline_js();\n",
       "    });\n",
       "  }\n",
       "}(window));"
      ],
      "application/vnd.bokehjs_load.v0+json": "\n(function(root) {\n  function now() {\n    return new Date();\n  }\n\n  var force = true;\n\n  if (typeof (root._bokeh_onload_callbacks) === \"undefined\" || force === true) {\n    root._bokeh_onload_callbacks = [];\n    root._bokeh_is_loading = undefined;\n  }\n\n  \n\n  \n  if (typeof (root._bokeh_timeout) === \"undefined\" || force === true) {\n    root._bokeh_timeout = Date.now() + 5000;\n    root._bokeh_failed_load = false;\n  }\n\n  var NB_LOAD_WARNING = {'data': {'text/html':\n     \"<div style='background-color: #fdd'>\\n\"+\n     \"<p>\\n\"+\n     \"BokehJS does not appear to have successfully loaded. If loading BokehJS from CDN, this \\n\"+\n     \"may be due to a slow or bad network connection. Possible fixes:\\n\"+\n     \"</p>\\n\"+\n     \"<ul>\\n\"+\n     \"<li>re-rerun `output_notebook()` to attempt to load from CDN again, or</li>\\n\"+\n     \"<li>use INLINE resources instead, as so:</li>\\n\"+\n     \"</ul>\\n\"+\n     \"<code>\\n\"+\n     \"from bokeh.resources import INLINE\\n\"+\n     \"output_notebook(resources=INLINE)\\n\"+\n     \"</code>\\n\"+\n     \"</div>\"}};\n\n  function display_loaded() {\n    var el = document.getElementById(\"06ab7cf8-58ca-4ce5-ad9e-c0acecbb1f77\");\n    if (el != null) {\n      el.textContent = \"BokehJS is loading...\";\n    }\n    if (root.Bokeh !== undefined) {\n      if (el != null) {\n        el.textContent = \"BokehJS \" + root.Bokeh.version + \" successfully loaded.\";\n      }\n    } else if (Date.now() < root._bokeh_timeout) {\n      setTimeout(display_loaded, 100)\n    }\n  }\n\n\n  function run_callbacks() {\n    try {\n      root._bokeh_onload_callbacks.forEach(function(callback) { callback() });\n    }\n    finally {\n      delete root._bokeh_onload_callbacks\n    }\n    console.info(\"Bokeh: all callbacks have finished\");\n  }\n\n  function load_libs(js_urls, callback) {\n    root._bokeh_onload_callbacks.push(callback);\n    if (root._bokeh_is_loading > 0) {\n      console.log(\"Bokeh: BokehJS is being loaded, scheduling callback at\", now());\n      return null;\n    }\n    if (js_urls == null || js_urls.length === 0) {\n      run_callbacks();\n      return null;\n    }\n    console.log(\"Bokeh: BokehJS not loaded, scheduling load and callback at\", now());\n    root._bokeh_is_loading = js_urls.length;\n    for (var i = 0; i < js_urls.length; i++) {\n      var url = js_urls[i];\n      var s = document.createElement('script');\n      s.src = url;\n      s.async = false;\n      s.onreadystatechange = s.onload = function() {\n        root._bokeh_is_loading--;\n        if (root._bokeh_is_loading === 0) {\n          console.log(\"Bokeh: all BokehJS libraries loaded\");\n          run_callbacks()\n        }\n      };\n      s.onerror = function() {\n        console.warn(\"failed to load library \" + url);\n      };\n      console.log(\"Bokeh: injecting script tag for BokehJS library: \", url);\n      document.getElementsByTagName(\"head\")[0].appendChild(s);\n    }\n  };var element = document.getElementById(\"06ab7cf8-58ca-4ce5-ad9e-c0acecbb1f77\");\n  if (element == null) {\n    console.log(\"Bokeh: ERROR: autoload.js configured with elementid '06ab7cf8-58ca-4ce5-ad9e-c0acecbb1f77' but no matching script tag was found. \")\n    return false;\n  }\n\n  var js_urls = [\"https://cdn.pydata.org/bokeh/release/bokeh-0.13.0.min.js\", \"https://cdn.pydata.org/bokeh/release/bokeh-widgets-0.13.0.min.js\", \"https://cdn.pydata.org/bokeh/release/bokeh-tables-0.13.0.min.js\", \"https://cdn.pydata.org/bokeh/release/bokeh-gl-0.13.0.min.js\"];\n\n  var inline_js = [\n    function(Bokeh) {\n      Bokeh.set_log_level(\"info\");\n    },\n    \n    function(Bokeh) {\n      \n    },\n    function(Bokeh) {\n      console.log(\"Bokeh: injecting CSS: https://cdn.pydata.org/bokeh/release/bokeh-0.13.0.min.css\");\n      Bokeh.embed.inject_css(\"https://cdn.pydata.org/bokeh/release/bokeh-0.13.0.min.css\");\n      console.log(\"Bokeh: injecting CSS: https://cdn.pydata.org/bokeh/release/bokeh-widgets-0.13.0.min.css\");\n      Bokeh.embed.inject_css(\"https://cdn.pydata.org/bokeh/release/bokeh-widgets-0.13.0.min.css\");\n      console.log(\"Bokeh: injecting CSS: https://cdn.pydata.org/bokeh/release/bokeh-tables-0.13.0.min.css\");\n      Bokeh.embed.inject_css(\"https://cdn.pydata.org/bokeh/release/bokeh-tables-0.13.0.min.css\");\n    }\n  ];\n\n  function run_inline_js() {\n    \n    if ((root.Bokeh !== undefined) || (force === true)) {\n      for (var i = 0; i < inline_js.length; i++) {\n        inline_js[i].call(root, root.Bokeh);\n      }if (force === true) {\n        display_loaded();\n      }} else if (Date.now() < root._bokeh_timeout) {\n      setTimeout(run_inline_js, 100);\n    } else if (!root._bokeh_failed_load) {\n      console.log(\"Bokeh: BokehJS failed to load within specified timeout.\");\n      root._bokeh_failed_load = true;\n    } else if (force !== true) {\n      var cell = $(document.getElementById(\"06ab7cf8-58ca-4ce5-ad9e-c0acecbb1f77\")).parents('.cell').data().cell;\n      cell.output_area.append_execute_result(NB_LOAD_WARNING)\n    }\n\n  }\n\n  if (root._bokeh_is_loading === 0) {\n    console.log(\"Bokeh: BokehJS loaded, going straight to plotting\");\n    run_inline_js();\n  } else {\n    load_libs(js_urls, function() {\n      console.log(\"Bokeh: BokehJS plotting callback run at\", now());\n      run_inline_js();\n    });\n  }\n}(window));"
     },
     "metadata": {},
     "output_type": "display_data"
    }
   ],
   "source": [
    "output_notebook()"
   ]
  },
  {
   "cell_type": "markdown",
   "metadata": {
    "slideshow": {
     "slide_type": "skip"
    }
   },
   "source": [
    "Before we get started, it's useful to describe how colors and properties are specified in Bokeh. \n",
    "\n",
    "## Colors\n",
    "\n",
    "There are many places where you may need to specify colors. Bokeh can accept colors in a variety of different ways:\n",
    "\n",
    "* any of the [147 named CSS colors](http://www.w3schools.com/cssref/css_colornames.asp), e.g ``'green'``, ``'indigo'``\n",
    "* an RGB(A) hex value, e.g., ``'#FF0000'``, ``'#44444444'``\n",
    "* a 3-tuple of integers *(r,g,b)* between 0 and 255\n",
    "*  a 4-tuple of *(r,g,b,a)* where *r*, *g*, *b* are integers between 0 and 255 and *a* is a floating point value between 0 and 1\n",
    "\n",
    "\n",
    "\n",
    "## Properties\n",
    "\n",
    "Regardless of how a Bokeh plot is created, styling the visual aspects of the plot can always be accomplished by setting attributes on the Bokeh objects that comprise the resulting plot. Visual properties come in three kinds: line, fill, and text properties. For full information with code and examples see the [Styling Visual Properties](http://bokeh.pydata.org/en/latest/docs/user_guide/styling.html) section of the user guide. \n",
    "\n",
    "----\n",
    "\n",
    "### Line Properties\n",
    "\n",
    "Set the visual appearance of lines. The most common are ``line_color``, ``line_alpha``, ``line_width`` and ``line_dash``.\n",
    "\n",
    "### Fill Properties\n",
    "\n",
    "Set the visual appearance of filled areas: ``fill_color`` and ``fill_alpha``.\n",
    "\n",
    "### Text Properties\n",
    "\n",
    "Set the visual appearance of lines of text. The most common are ``text_font``, ``text_font_size``, ``text_color``, and ``text_alpha``.\n",
    "\n",
    "----\n",
    "\n",
    "Sometimes a prefix is used with property names, e.g. to distinguish between different line properties on the same object, or to give a more meaningful name. For example, to set the line width of the plot outline, you would say ``myplot.outline_line_width = 2``. "
   ]
  },
  {
   "cell_type": "markdown",
   "metadata": {
    "slideshow": {
     "slide_type": "slide"
    }
   },
   "source": [
    "# Plots\n",
    "\n",
    "***Many top-level attributes of plots (outline, border, etc.) can be configured.***   See the [Plots](http://bokeh.pydata.org/en/latest/docs/user_guide/styling.html#plots) section of the styling guide for full information. \n",
    "\n",
    "Here is an example that tweaks the plot outline:"
   ]
  },
  {
   "cell_type": "code",
   "execution_count": 3,
   "metadata": {
    "scrolled": false,
    "slideshow": {
     "slide_type": "subslide"
    }
   },
   "outputs": [
    {
     "data": {
      "text/html": [
       "\n",
       "\n",
       "\n",
       "\n",
       "\n",
       "\n",
       "  <div class=\"bk-root\" id=\"c1bb0d6c-12b2-4e16-a503-782e6e02f4ec\"></div>\n"
      ]
     },
     "metadata": {},
     "output_type": "display_data"
    },
    {
     "data": {
      "application/javascript": [
       "(function(root) {\n",
       "  function embed_document(root) {\n",
       "    \n",
       "  var docs_json = {\"7115e59b-9031-4611-a38d-8ccbd7e767cd\":{\"roots\":{\"references\":[{\"attributes\":{\"bottom_units\":\"screen\",\"fill_alpha\":{\"value\":0.5},\"fill_color\":{\"value\":\"lightgrey\"},\"left_units\":\"screen\",\"level\":\"overlay\",\"line_alpha\":{\"value\":1.0},\"line_color\":{\"value\":\"black\"},\"line_dash\":[4,4],\"line_width\":{\"value\":2},\"plot\":null,\"render_mode\":\"css\",\"right_units\":\"screen\",\"top_units\":\"screen\"},\"id\":\"7101863e-a200-4330-ac11-b7f684690d87\",\"type\":\"BoxAnnotation\"},{\"attributes\":{\"dimension\":1,\"plot\":{\"id\":\"c2150311-a7f2-480a-87ff-46502a197acd\",\"subtype\":\"Figure\",\"type\":\"Plot\"},\"ticker\":{\"id\":\"bc86ae98-6a1a-495a-89f0-735266491cd2\",\"type\":\"BasicTicker\"}},\"id\":\"5e5556be-a3d8-447c-a063-debda3f2fc4b\",\"type\":\"Grid\"},{\"attributes\":{\"below\":[{\"id\":\"270dd4f7-b6aa-40c3-8020-4d8e624876d4\",\"type\":\"LinearAxis\"}],\"left\":[{\"id\":\"2e3b002c-1d27-44c4-a555-fa0a9d10ab6f\",\"type\":\"LinearAxis\"}],\"outline_line_alpha\":{\"value\":0.3},\"outline_line_color\":{\"value\":\"navy\"},\"outline_line_width\":{\"value\":7},\"plot_height\":400,\"plot_width\":400,\"renderers\":[{\"id\":\"270dd4f7-b6aa-40c3-8020-4d8e624876d4\",\"type\":\"LinearAxis\"},{\"id\":\"d949e041-428e-42c2-bb00-1a16235b3c79\",\"type\":\"Grid\"},{\"id\":\"2e3b002c-1d27-44c4-a555-fa0a9d10ab6f\",\"type\":\"LinearAxis\"},{\"id\":\"5e5556be-a3d8-447c-a063-debda3f2fc4b\",\"type\":\"Grid\"},{\"id\":\"7101863e-a200-4330-ac11-b7f684690d87\",\"type\":\"BoxAnnotation\"},{\"id\":\"69f17106-e431-4937-af8d-1366c3019097\",\"type\":\"GlyphRenderer\"}],\"title\":{\"id\":\"334bb548-b2c9-4901-b6f2-065ed36cd031\",\"type\":\"Title\"},\"toolbar\":{\"id\":\"e5d4383b-d804-4e58-b125-60584c4f44f5\",\"type\":\"Toolbar\"},\"x_range\":{\"id\":\"df6d1abf-4882-458b-8833-d189fa012b5a\",\"type\":\"DataRange1d\"},\"x_scale\":{\"id\":\"1fc12aa8-4f9a-404b-9579-d3aa7dc6d5d5\",\"type\":\"LinearScale\"},\"y_range\":{\"id\":\"0dfa57ed-4d82-419d-bf90-1965d2ba9765\",\"type\":\"DataRange1d\"},\"y_scale\":{\"id\":\"bfc38501-57fe-464e-93f0-bb6bef365d05\",\"type\":\"LinearScale\"}},\"id\":\"c2150311-a7f2-480a-87ff-46502a197acd\",\"subtype\":\"Figure\",\"type\":\"Plot\"},{\"attributes\":{\"formatter\":{\"id\":\"4f484fdb-3db6-4825-a1f2-a87c044b6108\",\"type\":\"BasicTickFormatter\"},\"plot\":{\"id\":\"c2150311-a7f2-480a-87ff-46502a197acd\",\"subtype\":\"Figure\",\"type\":\"Plot\"},\"ticker\":{\"id\":\"03af2440-93f5-4a1e-8ff0-cb042553de4c\",\"type\":\"BasicTicker\"}},\"id\":\"270dd4f7-b6aa-40c3-8020-4d8e624876d4\",\"type\":\"LinearAxis\"},{\"attributes\":{\"fill_alpha\":{\"value\":0.1},\"fill_color\":{\"value\":\"#1f77b4\"},\"line_alpha\":{\"value\":0.1},\"line_color\":{\"value\":\"#1f77b4\"},\"size\":{\"units\":\"screen\",\"value\":10},\"x\":{\"field\":\"x\"},\"y\":{\"field\":\"y\"}},\"id\":\"460f7ded-a39f-44e1-a217-158c86be9a5a\",\"type\":\"Circle\"},{\"attributes\":{},\"id\":\"4732cd6e-a9fe-4188-b976-8d63fa16a5e0\",\"type\":\"HelpTool\"},{\"attributes\":{},\"id\":\"4f484fdb-3db6-4825-a1f2-a87c044b6108\",\"type\":\"BasicTickFormatter\"},{\"attributes\":{},\"id\":\"1fc12aa8-4f9a-404b-9579-d3aa7dc6d5d5\",\"type\":\"LinearScale\"},{\"attributes\":{\"callback\":null},\"id\":\"df6d1abf-4882-458b-8833-d189fa012b5a\",\"type\":\"DataRange1d\"},{\"attributes\":{},\"id\":\"82c9da48-5eee-45cb-95d4-cd41bd947f84\",\"type\":\"UnionRenderers\"},{\"attributes\":{},\"id\":\"53dbc70d-a22a-495e-8596-f7865a2b66a9\",\"type\":\"Selection\"},{\"attributes\":{},\"id\":\"bc86ae98-6a1a-495a-89f0-735266491cd2\",\"type\":\"BasicTicker\"},{\"attributes\":{\"formatter\":{\"id\":\"75fbcc2a-ec03-4309-b3a4-765d0571a2a1\",\"type\":\"BasicTickFormatter\"},\"plot\":{\"id\":\"c2150311-a7f2-480a-87ff-46502a197acd\",\"subtype\":\"Figure\",\"type\":\"Plot\"},\"ticker\":{\"id\":\"bc86ae98-6a1a-495a-89f0-735266491cd2\",\"type\":\"BasicTicker\"}},\"id\":\"2e3b002c-1d27-44c4-a555-fa0a9d10ab6f\",\"type\":\"LinearAxis\"},{\"attributes\":{},\"id\":\"0a0d0b67-280f-41f9-b665-f37464106c1b\",\"type\":\"ResetTool\"},{\"attributes\":{\"overlay\":{\"id\":\"7101863e-a200-4330-ac11-b7f684690d87\",\"type\":\"BoxAnnotation\"}},\"id\":\"68a06c9b-ae1c-48de-b7a8-d2383337d017\",\"type\":\"BoxZoomTool\"},{\"attributes\":{\"data_source\":{\"id\":\"53c0f76f-5418-4e80-9ba0-13ba675c1cf4\",\"type\":\"ColumnDataSource\"},\"glyph\":{\"id\":\"5ea1a839-e511-45d7-8d20-abfab674766b\",\"type\":\"Circle\"},\"hover_glyph\":null,\"muted_glyph\":null,\"nonselection_glyph\":{\"id\":\"460f7ded-a39f-44e1-a217-158c86be9a5a\",\"type\":\"Circle\"},\"selection_glyph\":null,\"view\":{\"id\":\"08a5f129-64c8-4a6b-8efe-c9df60d636dc\",\"type\":\"CDSView\"}},\"id\":\"69f17106-e431-4937-af8d-1366c3019097\",\"type\":\"GlyphRenderer\"},{\"attributes\":{\"source\":{\"id\":\"53c0f76f-5418-4e80-9ba0-13ba675c1cf4\",\"type\":\"ColumnDataSource\"}},\"id\":\"08a5f129-64c8-4a6b-8efe-c9df60d636dc\",\"type\":\"CDSView\"},{\"attributes\":{\"callback\":null,\"data\":{\"x\":[1,2,3,4,5],\"y\":[2,5,8,2,7]},\"selected\":{\"id\":\"53dbc70d-a22a-495e-8596-f7865a2b66a9\",\"type\":\"Selection\"},\"selection_policy\":{\"id\":\"82c9da48-5eee-45cb-95d4-cd41bd947f84\",\"type\":\"UnionRenderers\"}},\"id\":\"53c0f76f-5418-4e80-9ba0-13ba675c1cf4\",\"type\":\"ColumnDataSource\"},{\"attributes\":{},\"id\":\"1e87fbd2-7e0f-4327-8a2b-ce026328c1a2\",\"type\":\"SaveTool\"},{\"attributes\":{\"active_drag\":\"auto\",\"active_inspect\":\"auto\",\"active_multi\":null,\"active_scroll\":\"auto\",\"active_tap\":\"auto\",\"tools\":[{\"id\":\"f207172f-2064-4763-be25-2635753995c9\",\"type\":\"PanTool\"},{\"id\":\"4f7e8547-3823-4e75-bfc8-f94009f85ea8\",\"type\":\"WheelZoomTool\"},{\"id\":\"68a06c9b-ae1c-48de-b7a8-d2383337d017\",\"type\":\"BoxZoomTool\"},{\"id\":\"1e87fbd2-7e0f-4327-8a2b-ce026328c1a2\",\"type\":\"SaveTool\"},{\"id\":\"0a0d0b67-280f-41f9-b665-f37464106c1b\",\"type\":\"ResetTool\"},{\"id\":\"4732cd6e-a9fe-4188-b976-8d63fa16a5e0\",\"type\":\"HelpTool\"}]},\"id\":\"e5d4383b-d804-4e58-b125-60584c4f44f5\",\"type\":\"Toolbar\"},{\"attributes\":{\"callback\":null},\"id\":\"0dfa57ed-4d82-419d-bf90-1965d2ba9765\",\"type\":\"DataRange1d\"},{\"attributes\":{},\"id\":\"f207172f-2064-4763-be25-2635753995c9\",\"type\":\"PanTool\"},{\"attributes\":{},\"id\":\"75fbcc2a-ec03-4309-b3a4-765d0571a2a1\",\"type\":\"BasicTickFormatter\"},{\"attributes\":{},\"id\":\"bfc38501-57fe-464e-93f0-bb6bef365d05\",\"type\":\"LinearScale\"},{\"attributes\":{},\"id\":\"4f7e8547-3823-4e75-bfc8-f94009f85ea8\",\"type\":\"WheelZoomTool\"},{\"attributes\":{\"fill_color\":{\"value\":\"#1f77b4\"},\"line_color\":{\"value\":\"#1f77b4\"},\"size\":{\"units\":\"screen\",\"value\":10},\"x\":{\"field\":\"x\"},\"y\":{\"field\":\"y\"}},\"id\":\"5ea1a839-e511-45d7-8d20-abfab674766b\",\"type\":\"Circle\"},{\"attributes\":{},\"id\":\"03af2440-93f5-4a1e-8ff0-cb042553de4c\",\"type\":\"BasicTicker\"},{\"attributes\":{\"plot\":{\"id\":\"c2150311-a7f2-480a-87ff-46502a197acd\",\"subtype\":\"Figure\",\"type\":\"Plot\"},\"ticker\":{\"id\":\"03af2440-93f5-4a1e-8ff0-cb042553de4c\",\"type\":\"BasicTicker\"}},\"id\":\"d949e041-428e-42c2-bb00-1a16235b3c79\",\"type\":\"Grid\"},{\"attributes\":{\"plot\":null,\"text\":\"Plot sample in Bekeh\"},\"id\":\"334bb548-b2c9-4901-b6f2-065ed36cd031\",\"type\":\"Title\"}],\"root_ids\":[\"c2150311-a7f2-480a-87ff-46502a197acd\"]},\"title\":\"Bokeh Application\",\"version\":\"0.13.0\"}};\n",
       "  var render_items = [{\"docid\":\"7115e59b-9031-4611-a38d-8ccbd7e767cd\",\"roots\":{\"c2150311-a7f2-480a-87ff-46502a197acd\":\"c1bb0d6c-12b2-4e16-a503-782e6e02f4ec\"}}];\n",
       "  root.Bokeh.embed.embed_items_notebook(docs_json, render_items);\n",
       "\n",
       "  }\n",
       "  if (root.Bokeh !== undefined) {\n",
       "    embed_document(root);\n",
       "  } else {\n",
       "    var attempts = 0;\n",
       "    var timer = setInterval(function(root) {\n",
       "      if (root.Bokeh !== undefined) {\n",
       "        embed_document(root);\n",
       "        clearInterval(timer);\n",
       "      }\n",
       "      attempts++;\n",
       "      if (attempts > 100) {\n",
       "        console.log(\"Bokeh: ERROR: Unable to run BokehJS code because BokehJS library is missing\")\n",
       "        clearInterval(timer);\n",
       "      }\n",
       "    }, 10, root)\n",
       "  }\n",
       "})(window);"
      ],
      "application/vnd.bokehjs_exec.v0+json": ""
     },
     "metadata": {
      "application/vnd.bokehjs_exec.v0+json": {
       "id": "c2150311-a7f2-480a-87ff-46502a197acd"
      }
     },
     "output_type": "display_data"
    }
   ],
   "source": [
    "# create a new plot with a title\n",
    "p = figure(plot_width=400, plot_height=400, title='Plot sample in Bekeh')\n",
    "p.outline_line_width = 7\n",
    "p.outline_line_alpha = 0.3\n",
    "p.outline_line_color = \"navy\"\n",
    "\n",
    "p.circle([1,2,3,4,5], [2,5,8,2,7], size=10)\n",
    "\n",
    "show(p)"
   ]
  },
  {
   "cell_type": "code",
   "execution_count": 4,
   "metadata": {
    "slideshow": {
     "slide_type": "subslide"
    }
   },
   "outputs": [
    {
     "data": {
      "text/html": [
       "\n",
       "\n",
       "\n",
       "\n",
       "\n",
       "\n",
       "  <div class=\"bk-root\" id=\"1fc77210-7a95-4f56-bfa4-5a31ccff277e\"></div>\n"
      ]
     },
     "metadata": {},
     "output_type": "display_data"
    },
    {
     "data": {
      "application/javascript": [
       "(function(root) {\n",
       "  function embed_document(root) {\n",
       "    \n",
       "  var docs_json = {\"9492a4d3-c232-4c29-8f2f-84f4c29bf1d7\":{\"roots\":{\"references\":[{\"attributes\":{\"overlay\":{\"id\":\"9d4531d1-0f8b-4a2a-98d8-9237e9d55fb5\",\"type\":\"BoxAnnotation\"}},\"id\":\"f5b6a6ae-d26a-4aca-8612-fa77eae1347b\",\"type\":\"BoxZoomTool\"},{\"attributes\":{},\"id\":\"a4a9faa9-8077-4370-a5c1-a6a378068994\",\"type\":\"SaveTool\"},{\"attributes\":{\"fill_alpha\":{\"value\":0.5},\"fill_color\":{\"value\":\"#1f77b4\"},\"line_alpha\":{\"value\":0.5},\"line_color\":{\"value\":\"#1f77b4\"},\"size\":{\"units\":\"screen\",\"value\":15},\"x\":{\"field\":\"x\"},\"y\":{\"field\":\"y\"}},\"id\":\"82d31c8d-57d4-452b-a3ad-138dc43b214c\",\"type\":\"Circle\"},{\"attributes\":{\"callback\":null},\"id\":\"8a97c32c-b299-4665-b5a0-87e9f3ed6c32\",\"type\":\"DataRange1d\"},{\"attributes\":{\"callback\":null},\"id\":\"718bfd19-078e-42b4-90fa-5f59677db18f\",\"type\":\"DataRange1d\"},{\"attributes\":{},\"id\":\"0c7224b4-8003-4b98-9440-cb5f041f14af\",\"type\":\"LinearScale\"},{\"attributes\":{},\"id\":\"2ee8c73c-3754-4e1a-83f2-4ffd6105d1ab\",\"type\":\"ResetTool\"},{\"attributes\":{},\"id\":\"b7ccd1fe-d9fd-4899-b839-287b8144693d\",\"type\":\"Selection\"},{\"attributes\":{\"bottom_units\":\"screen\",\"fill_alpha\":{\"value\":0.5},\"fill_color\":{\"value\":\"lightgrey\"},\"left_units\":\"screen\",\"level\":\"overlay\",\"line_alpha\":{\"value\":1.0},\"line_color\":{\"value\":\"black\"},\"line_dash\":[4,4],\"line_width\":{\"value\":2},\"plot\":null,\"render_mode\":\"css\",\"right_units\":\"screen\",\"top_units\":\"screen\"},\"id\":\"9d4531d1-0f8b-4a2a-98d8-9237e9d55fb5\",\"type\":\"BoxAnnotation\"},{\"attributes\":{\"fill_alpha\":{\"value\":0.1},\"fill_color\":{\"value\":\"#1f77b4\"},\"line_alpha\":{\"value\":0.1},\"line_color\":{\"value\":\"#1f77b4\"},\"size\":{\"units\":\"screen\",\"value\":15},\"x\":{\"field\":\"x\"},\"y\":{\"field\":\"y\"}},\"id\":\"b3bf7051-bc68-4af3-a9eb-5ea1fc8b5c73\",\"type\":\"Circle\"},{\"attributes\":{},\"id\":\"38b47cfe-a13d-467b-9d98-62404e9efcd3\",\"type\":\"LinearScale\"},{\"attributes\":{\"callback\":null,\"data\":{\"x\":[1,2,3,4,5],\"y\":[2,5,8,2,7]},\"selected\":{\"id\":\"b7ccd1fe-d9fd-4899-b839-287b8144693d\",\"type\":\"Selection\"},\"selection_policy\":{\"id\":\"b9c5282e-c3db-4cd7-bf9c-fda5f8c7deec\",\"type\":\"UnionRenderers\"}},\"id\":\"f5cc55fe-e178-445f-8494-93629e6b84b1\",\"type\":\"ColumnDataSource\"},{\"attributes\":{},\"id\":\"7bf215dd-bb4d-4d9d-88cb-f68ad4c07eed\",\"type\":\"BasicTicker\"},{\"attributes\":{},\"id\":\"c2055fad-1c84-4c40-84a3-2827e9cc5e30\",\"type\":\"HelpTool\"},{\"attributes\":{\"below\":[{\"id\":\"e4f9d747-1aa3-4dd8-901d-17cefb7ee659\",\"type\":\"LinearAxis\"}],\"left\":[{\"id\":\"8536dba5-7341-4892-ac70-e3a195006461\",\"type\":\"LinearAxis\"}],\"plot_height\":400,\"plot_width\":800,\"renderers\":[{\"id\":\"e4f9d747-1aa3-4dd8-901d-17cefb7ee659\",\"type\":\"LinearAxis\"},{\"id\":\"8af4bc84-3fd2-49bb-a3a5-bd7acd26a38d\",\"type\":\"Grid\"},{\"id\":\"8536dba5-7341-4892-ac70-e3a195006461\",\"type\":\"LinearAxis\"},{\"id\":\"80297475-53c1-4078-b6d1-a39ff84652a4\",\"type\":\"Grid\"},{\"id\":\"9d4531d1-0f8b-4a2a-98d8-9237e9d55fb5\",\"type\":\"BoxAnnotation\"},{\"id\":\"651f7ec6-36d2-4fdf-aca0-2c184107229d\",\"type\":\"GlyphRenderer\"}],\"title\":{\"id\":\"f3f7b358-55cf-4bc1-ba0a-1e14c0cced58\",\"type\":\"Title\"},\"toolbar\":{\"id\":\"14e0af09-3231-4533-869b-19eb1be64f08\",\"type\":\"Toolbar\"},\"x_range\":{\"id\":\"8a97c32c-b299-4665-b5a0-87e9f3ed6c32\",\"type\":\"DataRange1d\"},\"x_scale\":{\"id\":\"38b47cfe-a13d-467b-9d98-62404e9efcd3\",\"type\":\"LinearScale\"},\"y_range\":{\"id\":\"718bfd19-078e-42b4-90fa-5f59677db18f\",\"type\":\"DataRange1d\"},\"y_scale\":{\"id\":\"0c7224b4-8003-4b98-9440-cb5f041f14af\",\"type\":\"LinearScale\"}},\"id\":\"e49e5f4c-556c-4b15-af1d-e429a15d8dc1\",\"subtype\":\"Figure\",\"type\":\"Plot\"},{\"attributes\":{\"dimension\":1,\"plot\":{\"id\":\"e49e5f4c-556c-4b15-af1d-e429a15d8dc1\",\"subtype\":\"Figure\",\"type\":\"Plot\"},\"ticker\":{\"id\":\"7bf215dd-bb4d-4d9d-88cb-f68ad4c07eed\",\"type\":\"BasicTicker\"}},\"id\":\"80297475-53c1-4078-b6d1-a39ff84652a4\",\"type\":\"Grid\"},{\"attributes\":{\"plot\":null,\"text\":\"Plot\\u5b9e\\u4f8b\\u4e4b\\u8c03\\u6574plot\\u5c42\\u5c5e\\u6027\",\"text_color\":{\"value\":\"orange\"},\"text_font_style\":\"italic\"},\"id\":\"f3f7b358-55cf-4bc1-ba0a-1e14c0cced58\",\"type\":\"Title\"},{\"attributes\":{},\"id\":\"dd17bbb2-2782-4bd8-8700-c19b29f169d5\",\"type\":\"BasicTickFormatter\"},{\"attributes\":{\"formatter\":{\"id\":\"04f18d8b-40e0-4905-ba5d-063038a4042c\",\"type\":\"BasicTickFormatter\"},\"plot\":{\"id\":\"e49e5f4c-556c-4b15-af1d-e429a15d8dc1\",\"subtype\":\"Figure\",\"type\":\"Plot\"},\"ticker\":{\"id\":\"7bf215dd-bb4d-4d9d-88cb-f68ad4c07eed\",\"type\":\"BasicTicker\"}},\"id\":\"8536dba5-7341-4892-ac70-e3a195006461\",\"type\":\"LinearAxis\"},{\"attributes\":{},\"id\":\"b9c5282e-c3db-4cd7-bf9c-fda5f8c7deec\",\"type\":\"UnionRenderers\"},{\"attributes\":{\"source\":{\"id\":\"f5cc55fe-e178-445f-8494-93629e6b84b1\",\"type\":\"ColumnDataSource\"}},\"id\":\"46013a84-2644-4e10-870e-22bb161fb166\",\"type\":\"CDSView\"},{\"attributes\":{\"data_source\":{\"id\":\"f5cc55fe-e178-445f-8494-93629e6b84b1\",\"type\":\"ColumnDataSource\"},\"glyph\":{\"id\":\"82d31c8d-57d4-452b-a3ad-138dc43b214c\",\"type\":\"Circle\"},\"hover_glyph\":null,\"muted_glyph\":null,\"nonselection_glyph\":{\"id\":\"b3bf7051-bc68-4af3-a9eb-5ea1fc8b5c73\",\"type\":\"Circle\"},\"selection_glyph\":null,\"view\":{\"id\":\"46013a84-2644-4e10-870e-22bb161fb166\",\"type\":\"CDSView\"}},\"id\":\"651f7ec6-36d2-4fdf-aca0-2c184107229d\",\"type\":\"GlyphRenderer\"},{\"attributes\":{\"plot\":{\"id\":\"e49e5f4c-556c-4b15-af1d-e429a15d8dc1\",\"subtype\":\"Figure\",\"type\":\"Plot\"},\"ticker\":{\"id\":\"92deda42-2874-4c88-b592-e5e5e069ef18\",\"type\":\"BasicTicker\"}},\"id\":\"8af4bc84-3fd2-49bb-a3a5-bd7acd26a38d\",\"type\":\"Grid\"},{\"attributes\":{},\"id\":\"92deda42-2874-4c88-b592-e5e5e069ef18\",\"type\":\"BasicTicker\"},{\"attributes\":{},\"id\":\"625e8ff6-5c87-4bd6-af3b-8cbf3f4fe7d8\",\"type\":\"PanTool\"},{\"attributes\":{},\"id\":\"04f18d8b-40e0-4905-ba5d-063038a4042c\",\"type\":\"BasicTickFormatter\"},{\"attributes\":{},\"id\":\"ceb74452-d361-44ab-9720-8a1a351151b8\",\"type\":\"WheelZoomTool\"},{\"attributes\":{\"active_drag\":\"auto\",\"active_inspect\":\"auto\",\"active_multi\":null,\"active_scroll\":\"auto\",\"active_tap\":\"auto\",\"tools\":[{\"id\":\"625e8ff6-5c87-4bd6-af3b-8cbf3f4fe7d8\",\"type\":\"PanTool\"},{\"id\":\"ceb74452-d361-44ab-9720-8a1a351151b8\",\"type\":\"WheelZoomTool\"},{\"id\":\"f5b6a6ae-d26a-4aca-8612-fa77eae1347b\",\"type\":\"BoxZoomTool\"},{\"id\":\"a4a9faa9-8077-4370-a5c1-a6a378068994\",\"type\":\"SaveTool\"},{\"id\":\"2ee8c73c-3754-4e1a-83f2-4ffd6105d1ab\",\"type\":\"ResetTool\"},{\"id\":\"c2055fad-1c84-4c40-84a3-2827e9cc5e30\",\"type\":\"HelpTool\"}]},\"id\":\"14e0af09-3231-4533-869b-19eb1be64f08\",\"type\":\"Toolbar\"},{\"attributes\":{\"formatter\":{\"id\":\"dd17bbb2-2782-4bd8-8700-c19b29f169d5\",\"type\":\"BasicTickFormatter\"},\"plot\":{\"id\":\"e49e5f4c-556c-4b15-af1d-e429a15d8dc1\",\"subtype\":\"Figure\",\"type\":\"Plot\"},\"ticker\":{\"id\":\"92deda42-2874-4c88-b592-e5e5e069ef18\",\"type\":\"BasicTicker\"}},\"id\":\"e4f9d747-1aa3-4dd8-901d-17cefb7ee659\",\"type\":\"LinearAxis\"}],\"root_ids\":[\"e49e5f4c-556c-4b15-af1d-e429a15d8dc1\"]},\"title\":\"Bokeh Application\",\"version\":\"0.13.0\"}};\n",
       "  var render_items = [{\"docid\":\"9492a4d3-c232-4c29-8f2f-84f4c29bf1d7\",\"roots\":{\"e49e5f4c-556c-4b15-af1d-e429a15d8dc1\":\"1fc77210-7a95-4f56-bfa4-5a31ccff277e\"}}];\n",
       "  root.Bokeh.embed.embed_items_notebook(docs_json, render_items);\n",
       "\n",
       "  }\n",
       "  if (root.Bokeh !== undefined) {\n",
       "    embed_document(root);\n",
       "  } else {\n",
       "    var attempts = 0;\n",
       "    var timer = setInterval(function(root) {\n",
       "      if (root.Bokeh !== undefined) {\n",
       "        embed_document(root);\n",
       "        clearInterval(timer);\n",
       "      }\n",
       "      attempts++;\n",
       "      if (attempts > 100) {\n",
       "        console.log(\"Bokeh: ERROR: Unable to run BokehJS code because BokehJS library is missing\")\n",
       "        clearInterval(timer);\n",
       "      }\n",
       "    }, 10, root)\n",
       "  }\n",
       "})(window);"
      ],
      "application/vnd.bokehjs_exec.v0+json": ""
     },
     "metadata": {
      "application/vnd.bokehjs_exec.v0+json": {
       "id": "e49e5f4c-556c-4b15-af1d-e429a15d8dc1"
      }
     },
     "output_type": "display_data"
    }
   ],
   "source": [
    "# EXERCISE Create a plot of your own and customize several plot-level properties\n",
    "p= figure(plot_width=800, plot_height=400, title='Plot实例之调整plot层属性')\n",
    "\n",
    "p.circle([1, 2, 3, 4, 5], [2, 5, 8, 2, 7], size=15, alpha=0.5)\n",
    "\n",
    "p.title.text_color = \"orange\"\n",
    "#p.title.text_font = \"微软雅黑\"\n",
    "p.title.text_font_style = \"italic\"\n",
    "\n",
    "\n",
    "show(p)"
   ]
  },
  {
   "cell_type": "markdown",
   "metadata": {
    "slideshow": {
     "slide_type": "slide"
    }
   },
   "source": [
    "# Glyphs\n",
    "\n",
    "It's also possible to style the visual properties of glyphs. When using `bokeh.plotting` this is often done when calling the glyph methods:\n",
    "```python\n",
    "p.circle(line_color=\"red\", fill_alpha=0.2, ...)\n",
    "```\n",
    "But it is also possible to set these properties directly on glyph objects. Glyph objects are found on `GlyphRenderer` objects, which are returned by the `Plot.add_glyph` and `bokeh.plotting` glyph methods like `circle`, `rect`, etc. Let's look at an example:"
   ]
  },
  {
   "cell_type": "code",
   "execution_count": 5,
   "metadata": {
    "slideshow": {
     "slide_type": "subslide"
    }
   },
   "outputs": [
    {
     "data": {
      "text/html": [
       "\n",
       "\n",
       "\n",
       "\n",
       "\n",
       "\n",
       "  <div class=\"bk-root\" id=\"480d8756-3aa7-474c-aeca-21915f82ee25\"></div>\n"
      ]
     },
     "metadata": {},
     "output_type": "display_data"
    },
    {
     "data": {
      "application/javascript": [
       "(function(root) {\n",
       "  function embed_document(root) {\n",
       "    \n",
       "  var docs_json = {\"b198e4a9-4243-4fff-9c68-8148d19fbde0\":{\"roots\":{\"references\":[{\"attributes\":{},\"id\":\"8585eddb-87bf-49ac-a5e6-f999ec9683d3\",\"type\":\"BasicTicker\"},{\"attributes\":{},\"id\":\"0789a9bd-5d7d-43ce-8d56-337807781f4d\",\"type\":\"HelpTool\"},{\"attributes\":{\"overlay\":{\"id\":\"4b580479-2fc1-4bef-b678-fe1192af5532\",\"type\":\"BoxAnnotation\"}},\"id\":\"2e5b4662-124f-4368-bf28-a76cfefa63c9\",\"type\":\"BoxZoomTool\"},{\"attributes\":{},\"id\":\"a83d84db-0a8a-4c17-bbc8-ce406a6b5b1a\",\"type\":\"BasicTickFormatter\"},{\"attributes\":{\"bottom_units\":\"screen\",\"fill_alpha\":{\"value\":0.5},\"fill_color\":{\"value\":\"lightgrey\"},\"left_units\":\"screen\",\"level\":\"overlay\",\"line_alpha\":{\"value\":1.0},\"line_color\":{\"value\":\"black\"},\"line_dash\":[4,4],\"line_width\":{\"value\":2},\"plot\":null,\"render_mode\":\"css\",\"right_units\":\"screen\",\"top_units\":\"screen\"},\"id\":\"4b580479-2fc1-4bef-b678-fe1192af5532\",\"type\":\"BoxAnnotation\"},{\"attributes\":{\"below\":[{\"id\":\"721325f6-3ba1-4b53-a686-9223c8b66b6e\",\"type\":\"LinearAxis\"}],\"left\":[{\"id\":\"06f65ec7-604b-4176-84dc-2fd52856848a\",\"type\":\"LinearAxis\"}],\"plot_height\":400,\"plot_width\":700,\"renderers\":[{\"id\":\"721325f6-3ba1-4b53-a686-9223c8b66b6e\",\"type\":\"LinearAxis\"},{\"id\":\"b6a3cc67-4ede-40c1-a715-184fea3dd2bf\",\"type\":\"Grid\"},{\"id\":\"06f65ec7-604b-4176-84dc-2fd52856848a\",\"type\":\"LinearAxis\"},{\"id\":\"c19aa575-9c19-4f54-9e19-8374099f5949\",\"type\":\"Grid\"},{\"id\":\"4b580479-2fc1-4bef-b678-fe1192af5532\",\"type\":\"BoxAnnotation\"},{\"id\":\"70382b4d-3369-4670-91fa-d1084f173d16\",\"type\":\"GlyphRenderer\"}],\"title\":{\"id\":\"ffdeaa71-cbf6-424c-976a-6db114bb91f8\",\"type\":\"Title\"},\"toolbar\":{\"id\":\"cfd9a8c4-a19f-4a5d-93a4-e3d116e09f0f\",\"type\":\"Toolbar\"},\"x_range\":{\"id\":\"96eae48c-ddbf-4ac1-acdf-a8ed3668c93f\",\"type\":\"DataRange1d\"},\"x_scale\":{\"id\":\"8e953935-ac45-44be-918d-8ceb9613beb9\",\"type\":\"LinearScale\"},\"y_range\":{\"id\":\"419c5ed2-c7a1-4d0d-b191-eee0097b0214\",\"type\":\"DataRange1d\"},\"y_scale\":{\"id\":\"e7b50ccb-c25d-40fa-9e5b-4546f8472b28\",\"type\":\"LinearScale\"}},\"id\":\"5d02e3c1-de7d-4e56-9063-cb380b8a84f3\",\"subtype\":\"Figure\",\"type\":\"Plot\"},{\"attributes\":{},\"id\":\"8502cb0d-3994-49bc-8898-c5a768ff7d62\",\"type\":\"WheelZoomTool\"},{\"attributes\":{},\"id\":\"a77780cc-626b-4e74-b3d4-2e166094c291\",\"type\":\"UnionRenderers\"},{\"attributes\":{\"formatter\":{\"id\":\"a83d84db-0a8a-4c17-bbc8-ce406a6b5b1a\",\"type\":\"BasicTickFormatter\"},\"plot\":{\"id\":\"5d02e3c1-de7d-4e56-9063-cb380b8a84f3\",\"subtype\":\"Figure\",\"type\":\"Plot\"},\"ticker\":{\"id\":\"f2ebe4c1-1a3c-4a35-8037-0e16f0e6fbf4\",\"type\":\"BasicTicker\"}},\"id\":\"721325f6-3ba1-4b53-a686-9223c8b66b6e\",\"type\":\"LinearAxis\"},{\"attributes\":{\"data_source\":{\"id\":\"bf198caf-859e-4c2f-8742-f937be8b9bf3\",\"type\":\"ColumnDataSource\"},\"glyph\":{\"id\":\"ec167215-8354-40bc-9a1d-24a2ec056d23\",\"type\":\"Circle\"},\"hover_glyph\":null,\"muted_glyph\":null,\"nonselection_glyph\":{\"id\":\"f50a9e99-dbd8-4f59-b132-f15479c65abc\",\"type\":\"Circle\"},\"selection_glyph\":null,\"view\":{\"id\":\"0b42fd89-cb2e-4d27-8563-266b4e2ef8a4\",\"type\":\"CDSView\"}},\"id\":\"70382b4d-3369-4670-91fa-d1084f173d16\",\"type\":\"GlyphRenderer\"},{\"attributes\":{},\"id\":\"8e953935-ac45-44be-918d-8ceb9613beb9\",\"type\":\"LinearScale\"},{\"attributes\":{\"callback\":null},\"id\":\"419c5ed2-c7a1-4d0d-b191-eee0097b0214\",\"type\":\"DataRange1d\"},{\"attributes\":{\"callback\":null,\"data\":{\"x\":[1,2,3,4,5],\"y\":[2,5,8,2,7]},\"selected\":{\"id\":\"13526c7b-f165-47ca-b22e-10567cfb12c5\",\"type\":\"Selection\"},\"selection_policy\":{\"id\":\"a77780cc-626b-4e74-b3d4-2e166094c291\",\"type\":\"UnionRenderers\"}},\"id\":\"bf198caf-859e-4c2f-8742-f937be8b9bf3\",\"type\":\"ColumnDataSource\"},{\"attributes\":{},\"id\":\"359551c9-8e79-430c-b03f-9a123f9f01c2\",\"type\":\"BasicTickFormatter\"},{\"attributes\":{},\"id\":\"1c4f7c2c-38b0-44d5-a9ed-307ad0d1b798\",\"type\":\"PanTool\"},{\"attributes\":{\"plot\":{\"id\":\"5d02e3c1-de7d-4e56-9063-cb380b8a84f3\",\"subtype\":\"Figure\",\"type\":\"Plot\"},\"ticker\":{\"id\":\"f2ebe4c1-1a3c-4a35-8037-0e16f0e6fbf4\",\"type\":\"BasicTicker\"}},\"id\":\"b6a3cc67-4ede-40c1-a715-184fea3dd2bf\",\"type\":\"Grid\"},{\"attributes\":{},\"id\":\"f2ebe4c1-1a3c-4a35-8037-0e16f0e6fbf4\",\"type\":\"BasicTicker\"},{\"attributes\":{\"fill_alpha\":{\"value\":0.1},\"fill_color\":{\"value\":\"#1f77b4\"},\"line_alpha\":{\"value\":0.1},\"line_color\":{\"value\":\"#1f77b4\"},\"x\":{\"field\":\"x\"},\"y\":{\"field\":\"y\"}},\"id\":\"f50a9e99-dbd8-4f59-b132-f15479c65abc\",\"type\":\"Circle\"},{\"attributes\":{\"plot\":null,\"text\":\"\"},\"id\":\"ffdeaa71-cbf6-424c-976a-6db114bb91f8\",\"type\":\"Title\"},{\"attributes\":{},\"id\":\"e7b50ccb-c25d-40fa-9e5b-4546f8472b28\",\"type\":\"LinearScale\"},{\"attributes\":{\"active_drag\":\"auto\",\"active_inspect\":\"auto\",\"active_multi\":null,\"active_scroll\":\"auto\",\"active_tap\":\"auto\",\"tools\":[{\"id\":\"1c4f7c2c-38b0-44d5-a9ed-307ad0d1b798\",\"type\":\"PanTool\"},{\"id\":\"8502cb0d-3994-49bc-8898-c5a768ff7d62\",\"type\":\"WheelZoomTool\"},{\"id\":\"2e5b4662-124f-4368-bf28-a76cfefa63c9\",\"type\":\"BoxZoomTool\"},{\"id\":\"6946993d-05e2-4029-a490-031493411d2a\",\"type\":\"SaveTool\"},{\"id\":\"d6ca5482-e4f8-4370-a8fb-eea928a3c33c\",\"type\":\"ResetTool\"},{\"id\":\"0789a9bd-5d7d-43ce-8d56-337807781f4d\",\"type\":\"HelpTool\"}]},\"id\":\"cfd9a8c4-a19f-4a5d-93a4-e3d116e09f0f\",\"type\":\"Toolbar\"},{\"attributes\":{},\"id\":\"6946993d-05e2-4029-a490-031493411d2a\",\"type\":\"SaveTool\"},{\"attributes\":{},\"id\":\"13526c7b-f165-47ca-b22e-10567cfb12c5\",\"type\":\"Selection\"},{\"attributes\":{\"dimension\":1,\"plot\":{\"id\":\"5d02e3c1-de7d-4e56-9063-cb380b8a84f3\",\"subtype\":\"Figure\",\"type\":\"Plot\"},\"ticker\":{\"id\":\"8585eddb-87bf-49ac-a5e6-f999ec9683d3\",\"type\":\"BasicTicker\"}},\"id\":\"c19aa575-9c19-4f54-9e19-8374099f5949\",\"type\":\"Grid\"},{\"attributes\":{\"callback\":null},\"id\":\"96eae48c-ddbf-4ac1-acdf-a8ed3668c93f\",\"type\":\"DataRange1d\"},{\"attributes\":{\"formatter\":{\"id\":\"359551c9-8e79-430c-b03f-9a123f9f01c2\",\"type\":\"BasicTickFormatter\"},\"plot\":{\"id\":\"5d02e3c1-de7d-4e56-9063-cb380b8a84f3\",\"subtype\":\"Figure\",\"type\":\"Plot\"},\"ticker\":{\"id\":\"8585eddb-87bf-49ac-a5e6-f999ec9683d3\",\"type\":\"BasicTicker\"}},\"id\":\"06f65ec7-604b-4176-84dc-2fd52856848a\",\"type\":\"LinearAxis\"},{\"attributes\":{\"source\":{\"id\":\"bf198caf-859e-4c2f-8742-f937be8b9bf3\",\"type\":\"ColumnDataSource\"}},\"id\":\"0b42fd89-cb2e-4d27-8563-266b4e2ef8a4\",\"type\":\"CDSView\"},{\"attributes\":{},\"id\":\"d6ca5482-e4f8-4370-a8fb-eea928a3c33c\",\"type\":\"ResetTool\"},{\"attributes\":{\"fill_alpha\":{\"value\":0.2},\"fill_color\":{\"value\":\"#1f77b4\"},\"line_color\":{\"value\":\"firebrick\"},\"line_dash\":[5,1],\"line_width\":{\"value\":2},\"size\":{\"units\":\"screen\",\"value\":50},\"x\":{\"field\":\"x\"},\"y\":{\"field\":\"y\"}},\"id\":\"ec167215-8354-40bc-9a1d-24a2ec056d23\",\"type\":\"Circle\"}],\"root_ids\":[\"5d02e3c1-de7d-4e56-9063-cb380b8a84f3\"]},\"title\":\"Bokeh Application\",\"version\":\"0.13.0\"}};\n",
       "  var render_items = [{\"docid\":\"b198e4a9-4243-4fff-9c68-8148d19fbde0\",\"roots\":{\"5d02e3c1-de7d-4e56-9063-cb380b8a84f3\":\"480d8756-3aa7-474c-aeca-21915f82ee25\"}}];\n",
       "  root.Bokeh.embed.embed_items_notebook(docs_json, render_items);\n",
       "\n",
       "  }\n",
       "  if (root.Bokeh !== undefined) {\n",
       "    embed_document(root);\n",
       "  } else {\n",
       "    var attempts = 0;\n",
       "    var timer = setInterval(function(root) {\n",
       "      if (root.Bokeh !== undefined) {\n",
       "        embed_document(root);\n",
       "        clearInterval(timer);\n",
       "      }\n",
       "      attempts++;\n",
       "      if (attempts > 100) {\n",
       "        console.log(\"Bokeh: ERROR: Unable to run BokehJS code because BokehJS library is missing\")\n",
       "        clearInterval(timer);\n",
       "      }\n",
       "    }, 10, root)\n",
       "  }\n",
       "})(window);"
      ],
      "application/vnd.bokehjs_exec.v0+json": ""
     },
     "metadata": {
      "application/vnd.bokehjs_exec.v0+json": {
       "id": "5d02e3c1-de7d-4e56-9063-cb380b8a84f3"
      }
     },
     "output_type": "display_data"
    }
   ],
   "source": [
    "p = figure(plot_width=700, plot_height=400)\n",
    "\n",
    "# keep a reference to the returned GlyphRenderer\n",
    "r = p.circle([1,2,3,4,5], [2,5,8,2,7])\n",
    "\n",
    "r.glyph.size = 50\n",
    "r.glyph.fill_alpha = 0.2\n",
    "r.glyph.line_color = \"firebrick\"\n",
    "r.glyph.line_dash = [5, 1]\n",
    "r.glyph.line_width = 2\n",
    "\n",
    "show(p)"
   ]
  },
  {
   "cell_type": "markdown",
   "metadata": {
    "slideshow": {
     "slide_type": "subslide"
    }
   },
   "source": [
    "### Selection and non-selection visuals\n",
    "\n",
    "You can also control how glyphs look when there are selections involved. The set of \"selected\" points is displayed according to the optional `.selection_glyph` property of a `GlyphRenderer`:\n",
    "```python\n",
    "r.selection_glyph = Circle(fill_alpha=1, fill_color=\"firebrick\", line_color=None) \n",
    "```\n",
    "When there is a non-empty selection, the set of \"unselected: points is displayed according to the optional  `.nonselection_glyph` property of a `GlyphRenderer`:\n",
    "```python\n",
    "r.nonselection_glyph = Circle(fill_alpha=0.2, fill_color=\"grey\", line_color=None) \n",
    "```\n",
    "\n",
    "When using the `bokeh.plotting` interface, it is easier to pass these visual properties to the glyph methods as shown below. The glyph method will create the selection or nonselection glyphs and attach them to the renderer for you. "
   ]
  },
  {
   "cell_type": "code",
   "execution_count": 6,
   "metadata": {
    "slideshow": {
     "slide_type": "subslide"
    }
   },
   "outputs": [
    {
     "data": {
      "text/html": [
       "\n",
       "\n",
       "\n",
       "\n",
       "\n",
       "\n",
       "  <div class=\"bk-root\" id=\"57597fef-05f8-4cdb-9fc3-959b0fd08ea1\"></div>\n"
      ]
     },
     "metadata": {},
     "output_type": "display_data"
    },
    {
     "data": {
      "application/javascript": [
       "(function(root) {\n",
       "  function embed_document(root) {\n",
       "    \n",
       "  var docs_json = {\"5a030697-8e59-4ca2-a53d-948cec29263d\":{\"roots\":{\"references\":[{\"attributes\":{\"data_source\":{\"id\":\"25ba4868-10a9-4060-9209-2d7fe5e3a264\",\"type\":\"ColumnDataSource\"},\"glyph\":{\"id\":\"1e743db5-594d-4a1c-8d3c-2c3a4d8292e8\",\"type\":\"Circle\"},\"hover_glyph\":null,\"muted_glyph\":null,\"nonselection_glyph\":{\"id\":\"40808a99-b2cc-4167-b927-92589764e6c8\",\"type\":\"Circle\"},\"selection_glyph\":{\"id\":\"e8a52574-5ad7-455f-b87d-4235b0ee6a16\",\"type\":\"Circle\"},\"view\":{\"id\":\"8fe537a7-7869-4a9c-9e9a-9e62d5aa3566\",\"type\":\"CDSView\"}},\"id\":\"7046cd8a-cf6e-4e33-b1f0-3e34ac865789\",\"type\":\"GlyphRenderer\"},{\"attributes\":{\"dimension\":1,\"plot\":{\"id\":\"bb796da0-8ec7-4f0e-8806-ec25f70bc4ce\",\"subtype\":\"Figure\",\"type\":\"Plot\"},\"ticker\":{\"id\":\"18ba4557-c29d-4a75-8cb9-428cd63a7b4b\",\"type\":\"BasicTicker\"}},\"id\":\"cd1bbd4d-6099-479d-ba7a-f8ca3636ef76\",\"type\":\"Grid\"},{\"attributes\":{},\"id\":\"1e7b1c65-64c6-40ec-a0d5-e6148f4d88c3\",\"type\":\"LinearScale\"},{\"attributes\":{\"formatter\":{\"id\":\"b92bf938-a67f-4e49-96d1-0d6bd82fd9b7\",\"type\":\"BasicTickFormatter\"},\"plot\":{\"id\":\"bb796da0-8ec7-4f0e-8806-ec25f70bc4ce\",\"subtype\":\"Figure\",\"type\":\"Plot\"},\"ticker\":{\"id\":\"18ba4557-c29d-4a75-8cb9-428cd63a7b4b\",\"type\":\"BasicTicker\"}},\"id\":\"c5bd8833-3625-4e70-a635-c75660bcd50f\",\"type\":\"LinearAxis\"},{\"attributes\":{},\"id\":\"18ba4557-c29d-4a75-8cb9-428cd63a7b4b\",\"type\":\"BasicTicker\"},{\"attributes\":{\"source\":{\"id\":\"25ba4868-10a9-4060-9209-2d7fe5e3a264\",\"type\":\"ColumnDataSource\"}},\"id\":\"8fe537a7-7869-4a9c-9e9a-9e62d5aa3566\",\"type\":\"CDSView\"},{\"attributes\":{\"fill_color\":{\"value\":\"firebrick\"},\"line_color\":{\"value\":\"firebrick\"},\"size\":{\"units\":\"screen\",\"value\":50},\"x\":{\"field\":\"x\"},\"y\":{\"field\":\"y\"}},\"id\":\"e8a52574-5ad7-455f-b87d-4235b0ee6a16\",\"type\":\"Circle\"},{\"attributes\":{},\"id\":\"b92bf938-a67f-4e49-96d1-0d6bd82fd9b7\",\"type\":\"BasicTickFormatter\"},{\"attributes\":{},\"id\":\"c6946d8d-6674-434e-94bd-dab7ded042cc\",\"type\":\"BasicTicker\"},{\"attributes\":{},\"id\":\"16d2dd4b-7efd-4ae6-9f76-101a14eaa607\",\"type\":\"UnionRenderers\"},{\"attributes\":{\"below\":[{\"id\":\"5b3e727b-f857-45fc-83c1-446ec1ba1c4b\",\"type\":\"LinearAxis\"}],\"left\":[{\"id\":\"c5bd8833-3625-4e70-a635-c75660bcd50f\",\"type\":\"LinearAxis\"}],\"plot_height\":400,\"plot_width\":700,\"renderers\":[{\"id\":\"5b3e727b-f857-45fc-83c1-446ec1ba1c4b\",\"type\":\"LinearAxis\"},{\"id\":\"192efe7a-9641-4e19-93bd-b1dc487d735f\",\"type\":\"Grid\"},{\"id\":\"c5bd8833-3625-4e70-a635-c75660bcd50f\",\"type\":\"LinearAxis\"},{\"id\":\"cd1bbd4d-6099-479d-ba7a-f8ca3636ef76\",\"type\":\"Grid\"},{\"id\":\"7046cd8a-cf6e-4e33-b1f0-3e34ac865789\",\"type\":\"GlyphRenderer\"}],\"title\":{\"id\":\"24ec3549-6653-47f1-9976-51e18c3ccacb\",\"type\":\"Title\"},\"toolbar\":{\"id\":\"d57ac374-93be-4d1d-a8e4-c619272e1642\",\"type\":\"Toolbar\"},\"x_range\":{\"id\":\"414e86b2-5bb9-43c4-843c-8c667d8e289d\",\"type\":\"DataRange1d\"},\"x_scale\":{\"id\":\"581a6ee4-39bc-4fd8-b8ba-179325c2e45f\",\"type\":\"LinearScale\"},\"y_range\":{\"id\":\"f3802d49-f9e5-478d-a619-301a829813a2\",\"type\":\"DataRange1d\"},\"y_scale\":{\"id\":\"1e7b1c65-64c6-40ec-a0d5-e6148f4d88c3\",\"type\":\"LinearScale\"}},\"id\":\"bb796da0-8ec7-4f0e-8806-ec25f70bc4ce\",\"subtype\":\"Figure\",\"type\":\"Plot\"},{\"attributes\":{\"plot\":{\"id\":\"bb796da0-8ec7-4f0e-8806-ec25f70bc4ce\",\"subtype\":\"Figure\",\"type\":\"Plot\"},\"ticker\":{\"id\":\"c6946d8d-6674-434e-94bd-dab7ded042cc\",\"type\":\"BasicTicker\"}},\"id\":\"192efe7a-9641-4e19-93bd-b1dc487d735f\",\"type\":\"Grid\"},{\"attributes\":{},\"id\":\"2789db74-7150-4775-93e4-a8a7e4919462\",\"type\":\"BasicTickFormatter\"},{\"attributes\":{\"formatter\":{\"id\":\"2789db74-7150-4775-93e4-a8a7e4919462\",\"type\":\"BasicTickFormatter\"},\"plot\":{\"id\":\"bb796da0-8ec7-4f0e-8806-ec25f70bc4ce\",\"subtype\":\"Figure\",\"type\":\"Plot\"},\"ticker\":{\"id\":\"c6946d8d-6674-434e-94bd-dab7ded042cc\",\"type\":\"BasicTicker\"}},\"id\":\"5b3e727b-f857-45fc-83c1-446ec1ba1c4b\",\"type\":\"LinearAxis\"},{\"attributes\":{\"plot\":null,\"text\":\"Select a circle\"},\"id\":\"24ec3549-6653-47f1-9976-51e18c3ccacb\",\"type\":\"Title\"},{\"attributes\":{\"active_drag\":\"auto\",\"active_inspect\":\"auto\",\"active_multi\":null,\"active_scroll\":\"auto\",\"active_tap\":\"auto\",\"tools\":[{\"id\":\"606649b0-c0a3-4123-8b55-e4a2c87d2ed3\",\"type\":\"TapTool\"}]},\"id\":\"d57ac374-93be-4d1d-a8e4-c619272e1642\",\"type\":\"Toolbar\"},{\"attributes\":{\"callback\":null},\"id\":\"414e86b2-5bb9-43c4-843c-8c667d8e289d\",\"type\":\"DataRange1d\"},{\"attributes\":{},\"id\":\"cb7c2f32-62ab-405e-a05e-f1fd82417216\",\"type\":\"Selection\"},{\"attributes\":{\"fill_alpha\":{\"value\":0.2},\"fill_color\":{\"value\":\"blue\"},\"line_color\":{\"value\":\"blue\"},\"size\":{\"units\":\"screen\",\"value\":50},\"x\":{\"field\":\"x\"},\"y\":{\"field\":\"y\"}},\"id\":\"40808a99-b2cc-4167-b927-92589764e6c8\",\"type\":\"Circle\"},{\"attributes\":{\"callback\":null,\"data\":{\"x\":[1,2,3,4,5],\"y\":[2,5,8,2,7]},\"selected\":{\"id\":\"cb7c2f32-62ab-405e-a05e-f1fd82417216\",\"type\":\"Selection\"},\"selection_policy\":{\"id\":\"16d2dd4b-7efd-4ae6-9f76-101a14eaa607\",\"type\":\"UnionRenderers\"}},\"id\":\"25ba4868-10a9-4060-9209-2d7fe5e3a264\",\"type\":\"ColumnDataSource\"},{\"attributes\":{\"callback\":null},\"id\":\"606649b0-c0a3-4123-8b55-e4a2c87d2ed3\",\"type\":\"TapTool\"},{\"attributes\":{\"callback\":null},\"id\":\"f3802d49-f9e5-478d-a619-301a829813a2\",\"type\":\"DataRange1d\"},{\"attributes\":{\"fill_color\":{\"value\":\"#1f77b4\"},\"line_color\":{\"value\":\"#1f77b4\"},\"size\":{\"units\":\"screen\",\"value\":50},\"x\":{\"field\":\"x\"},\"y\":{\"field\":\"y\"}},\"id\":\"1e743db5-594d-4a1c-8d3c-2c3a4d8292e8\",\"type\":\"Circle\"},{\"attributes\":{},\"id\":\"581a6ee4-39bc-4fd8-b8ba-179325c2e45f\",\"type\":\"LinearScale\"}],\"root_ids\":[\"bb796da0-8ec7-4f0e-8806-ec25f70bc4ce\"]},\"title\":\"Bokeh Application\",\"version\":\"0.13.0\"}};\n",
       "  var render_items = [{\"docid\":\"5a030697-8e59-4ca2-a53d-948cec29263d\",\"roots\":{\"bb796da0-8ec7-4f0e-8806-ec25f70bc4ce\":\"57597fef-05f8-4cdb-9fc3-959b0fd08ea1\"}}];\n",
       "  root.Bokeh.embed.embed_items_notebook(docs_json, render_items);\n",
       "\n",
       "  }\n",
       "  if (root.Bokeh !== undefined) {\n",
       "    embed_document(root);\n",
       "  } else {\n",
       "    var attempts = 0;\n",
       "    var timer = setInterval(function(root) {\n",
       "      if (root.Bokeh !== undefined) {\n",
       "        embed_document(root);\n",
       "        clearInterval(timer);\n",
       "      }\n",
       "      attempts++;\n",
       "      if (attempts > 100) {\n",
       "        console.log(\"Bokeh: ERROR: Unable to run BokehJS code because BokehJS library is missing\")\n",
       "        clearInterval(timer);\n",
       "      }\n",
       "    }, 10, root)\n",
       "  }\n",
       "})(window);"
      ],
      "application/vnd.bokehjs_exec.v0+json": ""
     },
     "metadata": {
      "application/vnd.bokehjs_exec.v0+json": {
       "id": "bb796da0-8ec7-4f0e-8806-ec25f70bc4ce"
      }
     },
     "output_type": "display_data"
    }
   ],
   "source": [
    "p = figure(plot_width=700, plot_height=400, tools=\"tap\", title=\"Select a circle\")\n",
    "renderer = p.circle([1, 2, 3, 4, 5], [2, 5, 8, 2, 7], size=50,\n",
    "\n",
    "                    # set visual properties for selected glyphs\n",
    "                    selection_color=\"firebrick\",\n",
    "\n",
    "                    # set visual properties for non-selected glyphs\n",
    "                    nonselection_fill_alpha=0.2,\n",
    "                    nonselection_fill_color=\"blue\",\n",
    "                    nonselection_line_color=\"blue\",\n",
    "                    nonselection_line_alpha=1.0)\n",
    "\n",
    "show(p)"
   ]
  },
  {
   "cell_type": "markdown",
   "metadata": {
    "slideshow": {
     "slide_type": "slide"
    }
   },
   "source": [
    "It is also possible to specify the visual appearance of glyphs when they are \"inspected\", e.g. by a hover tool. \n",
    "This is accomplished by setting an optional `hover_glyph` on the glyph renderer:\n",
    "```python\n",
    "r.hover_glyph = Circle(fill_alpha=1, fill_color=\"firebrick\", line_color=None) \n",
    "```\n",
    "Or if using `bokeh.plotting` glyph methods, by passing `hover_fill_alpha`, etc. to the glyph method. Lets look at an example that works together with a `HoverTool` configured for \"hline\" hit-testing."
   ]
  },
  {
   "cell_type": "code",
   "execution_count": 7,
   "metadata": {
    "slideshow": {
     "slide_type": "subslide"
    }
   },
   "outputs": [
    {
     "data": {
      "text/html": [
       "\n",
       "\n",
       "\n",
       "\n",
       "\n",
       "\n",
       "  <div class=\"bk-root\" id=\"fb13d817-c356-4d1f-938e-e7dfae56d32d\"></div>\n"
      ]
     },
     "metadata": {},
     "output_type": "display_data"
    },
    {
     "data": {
      "application/javascript": [
       "(function(root) {\n",
       "  function embed_document(root) {\n",
       "    \n",
       "  var docs_json = {\"875acbc0-8e53-47fb-b725-882ee69aa466\":{\"roots\":{\"references\":[{\"attributes\":{\"plot\":{\"id\":\"ccad930d-f601-431f-b562-8d9dd5a17788\",\"subtype\":\"Figure\",\"type\":\"Plot\"},\"ticker\":{\"id\":\"8e7d8c09-c740-4261-b9bd-a7adc393960d\",\"type\":\"DatetimeTicker\"}},\"id\":\"3ef2e99d-b4be-4d14-81c1-a3d89c5c5559\",\"type\":\"Grid\"},{\"attributes\":{},\"id\":\"fa0f54fe-b3fb-44ce-8564-0753619699a2\",\"type\":\"BasicTicker\"},{\"attributes\":{},\"id\":\"854c86f1-fef5-4db4-9656-da99a2082282\",\"type\":\"Selection\"},{\"attributes\":{\"months\":[0,1,2,3,4,5,6,7,8,9,10,11]},\"id\":\"d508af70-4aee-47c4-9d6c-5f4598e26736\",\"type\":\"MonthsTicker\"},{\"attributes\":{},\"id\":\"2aa0fb7c-6387-456f-acee-71a3494e17e2\",\"type\":\"ResetTool\"},{\"attributes\":{\"plot\":null,\"text\":\"Hover over points\"},\"id\":\"e0b6de86-32e7-45aa-b21a-202e8f37ebf8\",\"type\":\"Title\"},{\"attributes\":{},\"id\":\"ed70ede1-d478-4800-8be0-23ced856f500\",\"type\":\"WheelZoomTool\"},{\"attributes\":{\"callback\":null},\"id\":\"5ae80bf8-43db-456d-b48f-ddab646e1ed0\",\"type\":\"DataRange1d\"},{\"attributes\":{},\"id\":\"bdb84764-069d-430c-b136-46c2f34e738b\",\"type\":\"YearsTicker\"},{\"attributes\":{\"base\":60,\"mantissas\":[1,2,5,10,15,20,30],\"max_interval\":1800000.0,\"min_interval\":1000.0,\"num_minor_ticks\":0},\"id\":\"0fcbed05-1e30-45f8-a504-176307cfae52\",\"type\":\"AdaptiveTicker\"},{\"attributes\":{\"callback\":null,\"data\":{\"x\":{\"__ndarray__\":\"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\",\"dtype\":\"float64\",\"shape\":[288]},\"y\":[143,147,150,152,152,152,154,155,142,140,138,134,131,130,128,127,126,126,126,126,127,129,131,132,134,136,136,136,136,135,134,132,130,130,130,129,128,127,125,124,123,123,122,121,120,118,115,112,111,111,110,110,109,108,107,107,107,108,107,105,105,105,105,104,103,102,99,97,96,94,94,93,93,92,91,92,94,95,96,97,99,102,104,112,112,112,111,110,107,104,105,105,103,99,96,94,95,102,114,128,144,160,173,185,196,205,209,214,219,226,234,241,248,255,260,265,268,270,272,271,271,268,265,261,256,253,250,246,244,241,237,233,229,225,222,204,200,197,193,190,186,182,179,175,171,168,164,158,154,151,148,145,141,133,139,152,173,196,217,233,244,249,250,253,256,260,263,265,265,264,260,254,246,234,217,200,188,181,175,169,164,159,154,147,138,132,129,127,123,117,111,106,104,103,100,94,88,83,78,75,73,71,69,68,67,67,68,70,71,71,70,69,68,67,67,67,66,67,69,71,74,76,78,80,80,80,80,80,80,82,84,87,90,92,87,87,86,86,86,86,87,87,87,85,83,82,83,87,95,107,118,130,141,149,172,179,187,201,214,221,225,230,232,230,223,216,208,199,191,185,181,177,176,177,176,173,171,169,163,154,152,153,154,154,153,151,150,150]},\"selected\":{\"id\":\"854c86f1-fef5-4db4-9656-da99a2082282\",\"type\":\"Selection\"},\"selection_policy\":{\"id\":\"c8f608d2-d091-4cc6-be08-81e853fa4d7a\",\"type\":\"UnionRenderers\"}},\"id\":\"8ff1fb47-f6b0-49ad-b33c-bed5c5356076\",\"type\":\"ColumnDataSource\"},{\"attributes\":{\"fill_alpha\":{\"value\":0.1},\"fill_color\":{\"value\":\"#1f77b4\"},\"line_alpha\":{\"value\":0.1},\"line_color\":{\"value\":\"#1f77b4\"},\"size\":{\"units\":\"screen\",\"value\":20},\"x\":{\"field\":\"x\"},\"y\":{\"field\":\"y\"}},\"id\":\"9741bca8-b36f-45ae-b60e-544d8548623e\",\"type\":\"Circle\"},{\"attributes\":{\"fill_alpha\":{\"value\":0.3},\"fill_color\":{\"value\":\"firebrick\"},\"line_alpha\":{\"value\":0.3},\"line_color\":{\"value\":\"white\"},\"size\":{\"units\":\"screen\",\"value\":20},\"x\":{\"field\":\"x\"},\"y\":{\"field\":\"y\"}},\"id\":\"d7bbfca4-adcd-454e-a5d2-7e278cd1f193\",\"type\":\"Circle\"},{\"attributes\":{\"overlay\":{\"id\":\"a0bf217a-6867-42fa-a949-8c219590946c\",\"type\":\"BoxAnnotation\"}},\"id\":\"cda29d6b-d2f0-447b-ad80-6e0f037fe925\",\"type\":\"BoxZoomTool\"},{\"attributes\":{},\"id\":\"4cd8d358-0a3a-44d1-9895-7151a1c94a8d\",\"type\":\"LinearScale\"},{\"attributes\":{},\"id\":\"0f5a7554-165f-4dbf-bbf7-9ea400599291\",\"type\":\"BasicTickFormatter\"},{\"attributes\":{\"months\":[0,2,4,6,8,10]},\"id\":\"0aa0dc83-d881-45a6-951a-b34cd7310acd\",\"type\":\"MonthsTicker\"},{\"attributes\":{\"active_drag\":\"auto\",\"active_inspect\":\"auto\",\"active_multi\":null,\"active_scroll\":\"auto\",\"active_tap\":\"auto\",\"tools\":[{\"id\":\"1d466c26-3d33-4828-8920-782b8a4b8c32\",\"type\":\"PanTool\"},{\"id\":\"ed70ede1-d478-4800-8be0-23ced856f500\",\"type\":\"WheelZoomTool\"},{\"id\":\"cda29d6b-d2f0-447b-ad80-6e0f037fe925\",\"type\":\"BoxZoomTool\"},{\"id\":\"a34d3b55-4742-4678-9071-dcbdb8c96364\",\"type\":\"SaveTool\"},{\"id\":\"2aa0fb7c-6387-456f-acee-71a3494e17e2\",\"type\":\"ResetTool\"},{\"id\":\"ddd5cec0-a4d6-4101-99e3-5532fffb7cd6\",\"type\":\"HelpTool\"},{\"id\":\"be1669f9-6fc2-47c4-b954-768341fa4922\",\"type\":\"HoverTool\"}]},\"id\":\"bcbfb386-e820-448d-ac70-0d58f33d0458\",\"type\":\"Toolbar\"},{\"attributes\":{\"line_alpha\":0.1,\"line_color\":\"#1f77b4\",\"line_dash\":[4,4],\"x\":{\"field\":\"x\"},\"y\":{\"field\":\"y\"}},\"id\":\"44dd7dda-390b-42c1-8309-2b2e710cbf08\",\"type\":\"Line\"},{\"attributes\":{\"source\":{\"id\":\"2b420062-31dd-421a-9d3f-155402c0c81b\",\"type\":\"ColumnDataSource\"}},\"id\":\"d9b337e5-205f-40cb-9c0c-8c554cb6dcdf\",\"type\":\"CDSView\"},{\"attributes\":{},\"id\":\"7c77d811-6298-487f-b351-b862e3a9e6a8\",\"type\":\"UnionRenderers\"},{\"attributes\":{\"bottom_units\":\"screen\",\"fill_alpha\":{\"value\":0.5},\"fill_color\":{\"value\":\"lightgrey\"},\"left_units\":\"screen\",\"level\":\"overlay\",\"line_alpha\":{\"value\":1.0},\"line_color\":{\"value\":\"black\"},\"line_dash\":[4,4],\"line_width\":{\"value\":2},\"plot\":null,\"render_mode\":\"css\",\"right_units\":\"screen\",\"top_units\":\"screen\"},\"id\":\"a0bf217a-6867-42fa-a949-8c219590946c\",\"type\":\"BoxAnnotation\"},{\"attributes\":{\"source\":{\"id\":\"8ff1fb47-f6b0-49ad-b33c-bed5c5356076\",\"type\":\"ColumnDataSource\"}},\"id\":\"27bb2e5e-4bf2-4438-931a-c86481c7cf0e\",\"type\":\"CDSView\"},{\"attributes\":{\"days\":[1,2,3,4,5,6,7,8,9,10,11,12,13,14,15,16,17,18,19,20,21,22,23,24,25,26,27,28,29,30,31]},\"id\":\"e9b5bad5-4442-4b21-9469-af1c0bdcf65f\",\"type\":\"DaysTicker\"},{\"attributes\":{\"dimension\":1,\"plot\":{\"id\":\"ccad930d-f601-431f-b562-8d9dd5a17788\",\"subtype\":\"Figure\",\"type\":\"Plot\"},\"ticker\":{\"id\":\"fa0f54fe-b3fb-44ce-8564-0753619699a2\",\"type\":\"BasicTicker\"}},\"id\":\"f2afb780-1a3e-4269-b0d9-b92abf60963b\",\"type\":\"Grid\"},{\"attributes\":{\"formatter\":{\"id\":\"67884d5c-7534-4d20-9235-03f2a956a6d4\",\"type\":\"DatetimeTickFormatter\"},\"plot\":{\"id\":\"ccad930d-f601-431f-b562-8d9dd5a17788\",\"subtype\":\"Figure\",\"type\":\"Plot\"},\"ticker\":{\"id\":\"8e7d8c09-c740-4261-b9bd-a7adc393960d\",\"type\":\"DatetimeTicker\"}},\"id\":\"1cea346f-1245-4515-abce-91f2aaedfc57\",\"type\":\"DatetimeAxis\"},{\"attributes\":{\"formatter\":{\"id\":\"0f5a7554-165f-4dbf-bbf7-9ea400599291\",\"type\":\"BasicTickFormatter\"},\"plot\":{\"id\":\"ccad930d-f601-431f-b562-8d9dd5a17788\",\"subtype\":\"Figure\",\"type\":\"Plot\"},\"ticker\":{\"id\":\"fa0f54fe-b3fb-44ce-8564-0753619699a2\",\"type\":\"BasicTicker\"}},\"id\":\"2b9308c9-aea9-4fea-856e-3331b75f0966\",\"type\":\"LinearAxis\"},{\"attributes\":{\"days\":[1,4,7,10,13,16,19,22,25,28]},\"id\":\"57558768-a65a-4f57-87f0-fbc600c8fbb3\",\"type\":\"DaysTicker\"},{\"attributes\":{\"months\":[0,6]},\"id\":\"ff25e991-4983-4e80-81cf-1d944f0a5674\",\"type\":\"MonthsTicker\"},{\"attributes\":{},\"id\":\"ddd5cec0-a4d6-4101-99e3-5532fffb7cd6\",\"type\":\"HelpTool\"},{\"attributes\":{\"data_source\":{\"id\":\"8ff1fb47-f6b0-49ad-b33c-bed5c5356076\",\"type\":\"ColumnDataSource\"},\"glyph\":{\"id\":\"4341c62e-3655-48f9-a116-ef96964bc68a\",\"type\":\"Circle\"},\"hover_glyph\":{\"id\":\"d7bbfca4-adcd-454e-a5d2-7e278cd1f193\",\"type\":\"Circle\"},\"muted_glyph\":null,\"nonselection_glyph\":{\"id\":\"9741bca8-b36f-45ae-b60e-544d8548623e\",\"type\":\"Circle\"},\"selection_glyph\":null,\"view\":{\"id\":\"27bb2e5e-4bf2-4438-931a-c86481c7cf0e\",\"type\":\"CDSView\"}},\"id\":\"fb8425af-7357-4853-b1d3-d149bb2904f1\",\"type\":\"GlyphRenderer\"},{\"attributes\":{\"line_color\":\"gray\",\"line_dash\":[4,4],\"x\":{\"field\":\"x\"},\"y\":{\"field\":\"y\"}},\"id\":\"54976dd7-500b-4fab-880f-8445e1074cda\",\"type\":\"Line\"},{\"attributes\":{\"months\":[0,4,8]},\"id\":\"8ed85f28-e8d4-4443-b053-357c0343cf42\",\"type\":\"MonthsTicker\"},{\"attributes\":{\"base\":24,\"mantissas\":[1,2,4,6,8,12],\"max_interval\":43200000.0,\"min_interval\":3600000.0,\"num_minor_ticks\":0},\"id\":\"9b168819-7077-48b0-a1cc-cb708234121a\",\"type\":\"AdaptiveTicker\"},{\"attributes\":{},\"id\":\"3270ad04-e04b-4cbd-b9ed-421e184df7ed\",\"type\":\"Selection\"},{\"attributes\":{\"num_minor_ticks\":5,\"tickers\":[{\"id\":\"51def363-2ca6-4598-8c2e-284237e8b06d\",\"type\":\"AdaptiveTicker\"},{\"id\":\"0fcbed05-1e30-45f8-a504-176307cfae52\",\"type\":\"AdaptiveTicker\"},{\"id\":\"9b168819-7077-48b0-a1cc-cb708234121a\",\"type\":\"AdaptiveTicker\"},{\"id\":\"e9b5bad5-4442-4b21-9469-af1c0bdcf65f\",\"type\":\"DaysTicker\"},{\"id\":\"57558768-a65a-4f57-87f0-fbc600c8fbb3\",\"type\":\"DaysTicker\"},{\"id\":\"aebbcdef-be67-41be-a7e8-1a6053a6aa48\",\"type\":\"DaysTicker\"},{\"id\":\"fe212013-24b1-48bb-be73-efc192a83d24\",\"type\":\"DaysTicker\"},{\"id\":\"d508af70-4aee-47c4-9d6c-5f4598e26736\",\"type\":\"MonthsTicker\"},{\"id\":\"0aa0dc83-d881-45a6-951a-b34cd7310acd\",\"type\":\"MonthsTicker\"},{\"id\":\"8ed85f28-e8d4-4443-b053-357c0343cf42\",\"type\":\"MonthsTicker\"},{\"id\":\"ff25e991-4983-4e80-81cf-1d944f0a5674\",\"type\":\"MonthsTicker\"},{\"id\":\"bdb84764-069d-430c-b136-46c2f34e738b\",\"type\":\"YearsTicker\"}]},\"id\":\"8e7d8c09-c740-4261-b9bd-a7adc393960d\",\"type\":\"DatetimeTicker\"},{\"attributes\":{},\"id\":\"a34d3b55-4742-4678-9071-dcbdb8c96364\",\"type\":\"SaveTool\"},{\"attributes\":{\"below\":[{\"id\":\"1cea346f-1245-4515-abce-91f2aaedfc57\",\"type\":\"DatetimeAxis\"}],\"left\":[{\"id\":\"2b9308c9-aea9-4fea-856e-3331b75f0966\",\"type\":\"LinearAxis\"}],\"plot_height\":300,\"renderers\":[{\"id\":\"1cea346f-1245-4515-abce-91f2aaedfc57\",\"type\":\"DatetimeAxis\"},{\"id\":\"3ef2e99d-b4be-4d14-81c1-a3d89c5c5559\",\"type\":\"Grid\"},{\"id\":\"2b9308c9-aea9-4fea-856e-3331b75f0966\",\"type\":\"LinearAxis\"},{\"id\":\"f2afb780-1a3e-4269-b0d9-b92abf60963b\",\"type\":\"Grid\"},{\"id\":\"a0bf217a-6867-42fa-a949-8c219590946c\",\"type\":\"BoxAnnotation\"},{\"id\":\"ff1337dd-0f59-44db-a811-6cb3c915ef92\",\"type\":\"GlyphRenderer\"},{\"id\":\"fb8425af-7357-4853-b1d3-d149bb2904f1\",\"type\":\"GlyphRenderer\"}],\"title\":{\"id\":\"e0b6de86-32e7-45aa-b21a-202e8f37ebf8\",\"type\":\"Title\"},\"toolbar\":{\"id\":\"bcbfb386-e820-448d-ac70-0d58f33d0458\",\"type\":\"Toolbar\"},\"x_range\":{\"id\":\"612b59aa-edb1-435a-a23a-e549777c056b\",\"type\":\"DataRange1d\"},\"x_scale\":{\"id\":\"4cd8d358-0a3a-44d1-9895-7151a1c94a8d\",\"type\":\"LinearScale\"},\"y_range\":{\"id\":\"5ae80bf8-43db-456d-b48f-ddab646e1ed0\",\"type\":\"DataRange1d\"},\"y_scale\":{\"id\":\"c275573c-c435-41a4-9df4-a9e760973125\",\"type\":\"LinearScale\"}},\"id\":\"ccad930d-f601-431f-b562-8d9dd5a17788\",\"subtype\":\"Figure\",\"type\":\"Plot\"},{\"attributes\":{},\"id\":\"c8f608d2-d091-4cc6-be08-81e853fa4d7a\",\"type\":\"UnionRenderers\"},{\"attributes\":{\"callback\":null,\"mode\":\"hline\",\"renderers\":[{\"id\":\"fb8425af-7357-4853-b1d3-d149bb2904f1\",\"type\":\"GlyphRenderer\"}],\"tooltips\":null},\"id\":\"be1669f9-6fc2-47c4-b954-768341fa4922\",\"type\":\"HoverTool\"},{\"attributes\":{\"days\":[1,15]},\"id\":\"fe212013-24b1-48bb-be73-efc192a83d24\",\"type\":\"DaysTicker\"},{\"attributes\":{},\"id\":\"67884d5c-7534-4d20-9235-03f2a956a6d4\",\"type\":\"DatetimeTickFormatter\"},{\"attributes\":{\"fill_alpha\":{\"value\":0.05},\"fill_color\":{\"value\":\"grey\"},\"line_color\":{\"value\":null},\"size\":{\"units\":\"screen\",\"value\":20},\"x\":{\"field\":\"x\"},\"y\":{\"field\":\"y\"}},\"id\":\"4341c62e-3655-48f9-a116-ef96964bc68a\",\"type\":\"Circle\"},{\"attributes\":{\"callback\":null,\"data\":{\"x\":{\"__ndarray__\":\"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\",\"dtype\":\"float64\",\"shape\":[288]},\"y\":[143,147,150,152,152,152,154,155,142,140,138,134,131,130,128,127,126,126,126,126,127,129,131,132,134,136,136,136,136,135,134,132,130,130,130,129,128,127,125,124,123,123,122,121,120,118,115,112,111,111,110,110,109,108,107,107,107,108,107,105,105,105,105,104,103,102,99,97,96,94,94,93,93,92,91,92,94,95,96,97,99,102,104,112,112,112,111,110,107,104,105,105,103,99,96,94,95,102,114,128,144,160,173,185,196,205,209,214,219,226,234,241,248,255,260,265,268,270,272,271,271,268,265,261,256,253,250,246,244,241,237,233,229,225,222,204,200,197,193,190,186,182,179,175,171,168,164,158,154,151,148,145,141,133,139,152,173,196,217,233,244,249,250,253,256,260,263,265,265,264,260,254,246,234,217,200,188,181,175,169,164,159,154,147,138,132,129,127,123,117,111,106,104,103,100,94,88,83,78,75,73,71,69,68,67,67,68,70,71,71,70,69,68,67,67,67,66,67,69,71,74,76,78,80,80,80,80,80,80,82,84,87,90,92,87,87,86,86,86,86,87,87,87,85,83,82,83,87,95,107,118,130,141,149,172,179,187,201,214,221,225,230,232,230,223,216,208,199,191,185,181,177,176,177,176,173,171,169,163,154,152,153,154,154,153,151,150,150]},\"selected\":{\"id\":\"3270ad04-e04b-4cbd-b9ed-421e184df7ed\",\"type\":\"Selection\"},\"selection_policy\":{\"id\":\"7c77d811-6298-487f-b351-b862e3a9e6a8\",\"type\":\"UnionRenderers\"}},\"id\":\"2b420062-31dd-421a-9d3f-155402c0c81b\",\"type\":\"ColumnDataSource\"},{\"attributes\":{\"callback\":null},\"id\":\"612b59aa-edb1-435a-a23a-e549777c056b\",\"type\":\"DataRange1d\"},{\"attributes\":{},\"id\":\"1d466c26-3d33-4828-8920-782b8a4b8c32\",\"type\":\"PanTool\"},{\"attributes\":{},\"id\":\"c275573c-c435-41a4-9df4-a9e760973125\",\"type\":\"LinearScale\"},{\"attributes\":{\"mantissas\":[1,2,5],\"max_interval\":500.0,\"num_minor_ticks\":0},\"id\":\"51def363-2ca6-4598-8c2e-284237e8b06d\",\"type\":\"AdaptiveTicker\"},{\"attributes\":{\"data_source\":{\"id\":\"2b420062-31dd-421a-9d3f-155402c0c81b\",\"type\":\"ColumnDataSource\"},\"glyph\":{\"id\":\"54976dd7-500b-4fab-880f-8445e1074cda\",\"type\":\"Line\"},\"hover_glyph\":null,\"muted_glyph\":null,\"nonselection_glyph\":{\"id\":\"44dd7dda-390b-42c1-8309-2b2e710cbf08\",\"type\":\"Line\"},\"selection_glyph\":null,\"view\":{\"id\":\"d9b337e5-205f-40cb-9c0c-8c554cb6dcdf\",\"type\":\"CDSView\"}},\"id\":\"ff1337dd-0f59-44db-a811-6cb3c915ef92\",\"type\":\"GlyphRenderer\"},{\"attributes\":{\"days\":[1,8,15,22]},\"id\":\"aebbcdef-be67-41be-a7e8-1a6053a6aa48\",\"type\":\"DaysTicker\"}],\"root_ids\":[\"ccad930d-f601-431f-b562-8d9dd5a17788\"]},\"title\":\"Bokeh Application\",\"version\":\"0.13.0\"}};\n",
       "  var render_items = [{\"docid\":\"875acbc0-8e53-47fb-b725-882ee69aa466\",\"roots\":{\"ccad930d-f601-431f-b562-8d9dd5a17788\":\"fb13d817-c356-4d1f-938e-e7dfae56d32d\"}}];\n",
       "  root.Bokeh.embed.embed_items_notebook(docs_json, render_items);\n",
       "\n",
       "  }\n",
       "  if (root.Bokeh !== undefined) {\n",
       "    embed_document(root);\n",
       "  } else {\n",
       "    var attempts = 0;\n",
       "    var timer = setInterval(function(root) {\n",
       "      if (root.Bokeh !== undefined) {\n",
       "        embed_document(root);\n",
       "        clearInterval(timer);\n",
       "      }\n",
       "      attempts++;\n",
       "      if (attempts > 100) {\n",
       "        console.log(\"Bokeh: ERROR: Unable to run BokehJS code because BokehJS library is missing\")\n",
       "        clearInterval(timer);\n",
       "      }\n",
       "    }, 10, root)\n",
       "  }\n",
       "})(window);"
      ],
      "application/vnd.bokehjs_exec.v0+json": ""
     },
     "metadata": {
      "application/vnd.bokehjs_exec.v0+json": {
       "id": "ccad930d-f601-431f-b562-8d9dd5a17788"
      }
     },
     "output_type": "display_data"
    }
   ],
   "source": [
    "from bokeh.models.tools import HoverTool\n",
    "from bokeh.sampledata.glucose import data\n",
    "\n",
    "subset = data.loc['2010-10-06']\n",
    "\n",
    "x, y = subset.index.to_series(), subset['glucose']\n",
    "\n",
    "# Basic plot setup\n",
    "p = figure(width=600, height=300, x_axis_type=\"datetime\", title='Hover over points')\n",
    "\n",
    "p.line(x, y, line_dash=\"4 4\", line_width=1, color='gray')\n",
    "\n",
    "cr = p.circle(x, y, size=20,\n",
    "              fill_color=\"grey\", hover_fill_color=\"firebrick\",\n",
    "              fill_alpha=0.05, hover_alpha=0.3,\n",
    "              line_color=None, hover_line_color=\"white\")\n",
    "\n",
    "p.add_tools(HoverTool(tooltips=None, renderers=[cr], mode='hline'))\n",
    "\n",
    "show(p)"
   ]
  },
  {
   "cell_type": "code",
   "execution_count": 8,
   "metadata": {
    "slideshow": {
     "slide_type": "slide"
    }
   },
   "outputs": [
    {
     "data": {
      "text/html": [
       "\n",
       "\n",
       "\n",
       "\n",
       "\n",
       "\n",
       "  <div class=\"bk-root\" id=\"f63e3b70-2064-47e1-b850-ad9e2d6ddfa0\"></div>\n"
      ]
     },
     "metadata": {},
     "output_type": "display_data"
    },
    {
     "data": {
      "application/javascript": [
       "(function(root) {\n",
       "  function embed_document(root) {\n",
       "    \n",
       "  var docs_json = {\"0b7df3f5-2ce5-4c6b-a978-91311bb25d30\":{\"roots\":{\"references\":[{\"attributes\":{\"below\":[{\"id\":\"d37e841f-e4b9-4f8a-966c-371f96e8f7f4\",\"type\":\"LinearAxis\"}],\"left\":[{\"id\":\"ed4a0f27-55d7-4173-b1d3-53e001fba5d9\",\"type\":\"LinearAxis\"}],\"plot_height\":400,\"plot_width\":400,\"renderers\":[{\"id\":\"d37e841f-e4b9-4f8a-966c-371f96e8f7f4\",\"type\":\"LinearAxis\"},{\"id\":\"bab246a4-4d8f-439f-b558-c884d4c40a4f\",\"type\":\"Grid\"},{\"id\":\"ed4a0f27-55d7-4173-b1d3-53e001fba5d9\",\"type\":\"LinearAxis\"},{\"id\":\"36e067b6-7a33-4093-ad65-8283c3680473\",\"type\":\"Grid\"},{\"id\":\"540a1d9d-489e-442f-ac01-da991efe12c4\",\"type\":\"BoxAnnotation\"},{\"id\":\"4a832099-6a91-4e83-a1c5-00a257001b29\",\"type\":\"GlyphRenderer\"}],\"title\":{\"id\":\"303a352b-86b9-43a6-8e55-57433f22c50f\",\"type\":\"Title\"},\"toolbar\":{\"id\":\"fd45aa10-e8a9-4156-9f37-9d9824e7e11d\",\"type\":\"Toolbar\"},\"x_range\":{\"id\":\"2883da50-f273-4d5e-b2fb-2dac1d89275d\",\"type\":\"DataRange1d\"},\"x_scale\":{\"id\":\"f27b861d-f26c-4d7d-90da-f2d4dc02e5ec\",\"type\":\"LinearScale\"},\"y_range\":{\"id\":\"80eb4f4f-d9e6-4a39-ad8b-44f23976a9e5\",\"type\":\"DataRange1d\"},\"y_scale\":{\"id\":\"e2c1e1e6-799f-4099-b30f-6ed85e305b12\",\"type\":\"LinearScale\"}},\"id\":\"08ba4cd2-a212-4fd4-9ce3-ccc91d9461ec\",\"subtype\":\"Figure\",\"type\":\"Plot\"},{\"attributes\":{\"data_source\":{\"id\":\"c81fa4e2-ba89-4b23-816a-deced1643b85\",\"type\":\"ColumnDataSource\"},\"glyph\":{\"id\":\"de46ec75-2acb-45dc-9f61-eb2e6abac564\",\"type\":\"Line\"},\"hover_glyph\":null,\"muted_glyph\":null,\"nonselection_glyph\":{\"id\":\"d0c1b9a5-e669-4051-965b-83309b305aa7\",\"type\":\"Line\"},\"selection_glyph\":null,\"view\":{\"id\":\"02973482-639e-41fb-a36d-530637ab0aab\",\"type\":\"CDSView\"}},\"id\":\"4a832099-6a91-4e83-a1c5-00a257001b29\",\"type\":\"GlyphRenderer\"},{\"attributes\":{},\"id\":\"a24033fb-4312-4202-bfd5-e40ecc5146f8\",\"type\":\"UnionRenderers\"},{\"attributes\":{\"overlay\":{\"id\":\"540a1d9d-489e-442f-ac01-da991efe12c4\",\"type\":\"BoxAnnotation\"}},\"id\":\"84d9d509-2680-45df-894d-af2536c91ec7\",\"type\":\"BoxZoomTool\"},{\"attributes\":{\"active_drag\":\"auto\",\"active_inspect\":\"auto\",\"active_multi\":null,\"active_scroll\":\"auto\",\"active_tap\":\"auto\",\"tools\":[{\"id\":\"960598a3-d363-4648-9244-678bb6decbe6\",\"type\":\"PanTool\"},{\"id\":\"5e06bd2c-ee54-464f-916d-180ad1cb99b1\",\"type\":\"WheelZoomTool\"},{\"id\":\"84d9d509-2680-45df-894d-af2536c91ec7\",\"type\":\"BoxZoomTool\"},{\"id\":\"eb04454c-a993-4f7f-ba96-2fdf0275c83a\",\"type\":\"SaveTool\"},{\"id\":\"ab9e6891-3ac9-4685-8c8f-2c79488db843\",\"type\":\"ResetTool\"},{\"id\":\"d24a506d-0f6a-4634-b59a-4c14c4e1d1d6\",\"type\":\"HelpTool\"}]},\"id\":\"fd45aa10-e8a9-4156-9f37-9d9824e7e11d\",\"type\":\"Toolbar\"},{\"attributes\":{\"source\":{\"id\":\"c81fa4e2-ba89-4b23-816a-deced1643b85\",\"type\":\"ColumnDataSource\"}},\"id\":\"02973482-639e-41fb-a36d-530637ab0aab\",\"type\":\"CDSView\"},{\"attributes\":{},\"id\":\"e2c1e1e6-799f-4099-b30f-6ed85e305b12\",\"type\":\"LinearScale\"},{\"attributes\":{\"plot\":null,\"text\":\"Toolbar Autohide\"},\"id\":\"303a352b-86b9-43a6-8e55-57433f22c50f\",\"type\":\"Title\"},{\"attributes\":{},\"id\":\"d24a506d-0f6a-4634-b59a-4c14c4e1d1d6\",\"type\":\"HelpTool\"},{\"attributes\":{},\"id\":\"5e06bd2c-ee54-464f-916d-180ad1cb99b1\",\"type\":\"WheelZoomTool\"},{\"attributes\":{},\"id\":\"ab9e6891-3ac9-4685-8c8f-2c79488db843\",\"type\":\"ResetTool\"},{\"attributes\":{\"bottom_units\":\"screen\",\"fill_alpha\":{\"value\":0.5},\"fill_color\":{\"value\":\"lightgrey\"},\"left_units\":\"screen\",\"level\":\"overlay\",\"line_alpha\":{\"value\":1.0},\"line_color\":{\"value\":\"black\"},\"line_dash\":[4,4],\"line_width\":{\"value\":2},\"plot\":null,\"render_mode\":\"css\",\"right_units\":\"screen\",\"top_units\":\"screen\"},\"id\":\"540a1d9d-489e-442f-ac01-da991efe12c4\",\"type\":\"BoxAnnotation\"},{\"attributes\":{\"callback\":null},\"id\":\"80eb4f4f-d9e6-4a39-ad8b-44f23976a9e5\",\"type\":\"DataRange1d\"},{\"attributes\":{\"callback\":null},\"id\":\"2883da50-f273-4d5e-b2fb-2dac1d89275d\",\"type\":\"DataRange1d\"},{\"attributes\":{},\"id\":\"c5953e1f-f02f-446c-ac56-ba607d59387c\",\"type\":\"Selection\"},{\"attributes\":{},\"id\":\"0103e3ae-39c9-42c6-8304-ab5ee8d9512e\",\"type\":\"BasicTickFormatter\"},{\"attributes\":{},\"id\":\"3c710495-efe0-4bce-b15a-c912650c91de\",\"type\":\"BasicTicker\"},{\"attributes\":{\"line_alpha\":0.1,\"line_color\":\"#1f77b4\",\"x\":{\"field\":\"x\"},\"y\":{\"field\":\"y\"}},\"id\":\"d0c1b9a5-e669-4051-965b-83309b305aa7\",\"type\":\"Line\"},{\"attributes\":{\"dimension\":1,\"plot\":{\"id\":\"08ba4cd2-a212-4fd4-9ce3-ccc91d9461ec\",\"subtype\":\"Figure\",\"type\":\"Plot\"},\"ticker\":{\"id\":\"3c710495-efe0-4bce-b15a-c912650c91de\",\"type\":\"BasicTicker\"}},\"id\":\"36e067b6-7a33-4093-ad65-8283c3680473\",\"type\":\"Grid\"},{\"attributes\":{},\"id\":\"960598a3-d363-4648-9244-678bb6decbe6\",\"type\":\"PanTool\"},{\"attributes\":{},\"id\":\"850b96fb-55f9-4316-9930-5f2d91e9750e\",\"type\":\"BasicTicker\"},{\"attributes\":{\"line_color\":\"#1f77b4\",\"x\":{\"field\":\"x\"},\"y\":{\"field\":\"y\"}},\"id\":\"de46ec75-2acb-45dc-9f61-eb2e6abac564\",\"type\":\"Line\"},{\"attributes\":{},\"id\":\"eb04454c-a993-4f7f-ba96-2fdf0275c83a\",\"type\":\"SaveTool\"},{\"attributes\":{\"plot\":{\"id\":\"08ba4cd2-a212-4fd4-9ce3-ccc91d9461ec\",\"subtype\":\"Figure\",\"type\":\"Plot\"},\"ticker\":{\"id\":\"850b96fb-55f9-4316-9930-5f2d91e9750e\",\"type\":\"BasicTicker\"}},\"id\":\"bab246a4-4d8f-439f-b558-c884d4c40a4f\",\"type\":\"Grid\"},{\"attributes\":{},\"id\":\"4b6c38bc-1ccf-4bb2-a19f-be341009d98e\",\"type\":\"BasicTickFormatter\"},{\"attributes\":{\"callback\":null,\"data\":{\"x\":[1,2,3,4,5],\"y\":[2,5,8,2,7]},\"selected\":{\"id\":\"c5953e1f-f02f-446c-ac56-ba607d59387c\",\"type\":\"Selection\"},\"selection_policy\":{\"id\":\"a24033fb-4312-4202-bfd5-e40ecc5146f8\",\"type\":\"UnionRenderers\"}},\"id\":\"c81fa4e2-ba89-4b23-816a-deced1643b85\",\"type\":\"ColumnDataSource\"},{\"attributes\":{\"formatter\":{\"id\":\"4b6c38bc-1ccf-4bb2-a19f-be341009d98e\",\"type\":\"BasicTickFormatter\"},\"plot\":{\"id\":\"08ba4cd2-a212-4fd4-9ce3-ccc91d9461ec\",\"subtype\":\"Figure\",\"type\":\"Plot\"},\"ticker\":{\"id\":\"3c710495-efe0-4bce-b15a-c912650c91de\",\"type\":\"BasicTicker\"}},\"id\":\"ed4a0f27-55d7-4173-b1d3-53e001fba5d9\",\"type\":\"LinearAxis\"},{\"attributes\":{},\"id\":\"f27b861d-f26c-4d7d-90da-f2d4dc02e5ec\",\"type\":\"LinearScale\"},{\"attributes\":{\"formatter\":{\"id\":\"0103e3ae-39c9-42c6-8304-ab5ee8d9512e\",\"type\":\"BasicTickFormatter\"},\"plot\":{\"id\":\"08ba4cd2-a212-4fd4-9ce3-ccc91d9461ec\",\"subtype\":\"Figure\",\"type\":\"Plot\"},\"ticker\":{\"id\":\"850b96fb-55f9-4316-9930-5f2d91e9750e\",\"type\":\"BasicTicker\"}},\"id\":\"d37e841f-e4b9-4f8a-966c-371f96e8f7f4\",\"type\":\"LinearAxis\"}],\"root_ids\":[\"08ba4cd2-a212-4fd4-9ce3-ccc91d9461ec\"]},\"title\":\"Bokeh Application\",\"version\":\"0.13.0\"}};\n",
       "  var render_items = [{\"docid\":\"0b7df3f5-2ce5-4c6b-a978-91311bb25d30\",\"roots\":{\"08ba4cd2-a212-4fd4-9ce3-ccc91d9461ec\":\"f63e3b70-2064-47e1-b850-ad9e2d6ddfa0\"}}];\n",
       "  root.Bokeh.embed.embed_items_notebook(docs_json, render_items);\n",
       "\n",
       "  }\n",
       "  if (root.Bokeh !== undefined) {\n",
       "    embed_document(root);\n",
       "  } else {\n",
       "    var attempts = 0;\n",
       "    var timer = setInterval(function(root) {\n",
       "      if (root.Bokeh !== undefined) {\n",
       "        embed_document(root);\n",
       "        clearInterval(timer);\n",
       "      }\n",
       "      attempts++;\n",
       "      if (attempts > 100) {\n",
       "        console.log(\"Bokeh: ERROR: Unable to run BokehJS code because BokehJS library is missing\")\n",
       "        clearInterval(timer);\n",
       "      }\n",
       "    }, 10, root)\n",
       "  }\n",
       "})(window);"
      ],
      "application/vnd.bokehjs_exec.v0+json": ""
     },
     "metadata": {
      "application/vnd.bokehjs_exec.v0+json": {
       "id": "08ba4cd2-a212-4fd4-9ce3-ccc91d9461ec"
      }
     },
     "output_type": "display_data"
    }
   ],
   "source": [
    "from bokeh.plotting import figure, output_file, show\n",
    "\n",
    "output_file(\"styling_toolbar_autohide.html\")\n",
    "\n",
    "# Basic plot setup\n",
    "plot = figure(width=400, height=400, title='Toolbar Autohide')\n",
    "plot.line([1,2,3,4,5], [2,5,8,2,7])\n",
    "\n",
    "# Set autohide to true to only show the toolbar when mouse is over plot\n",
    "#plot.toolbar.autohide = True\n",
    "\n",
    "show(plot)"
   ]
  },
  {
   "cell_type": "code",
   "execution_count": 8,
   "metadata": {
    "slideshow": {
     "slide_type": "fragment"
    }
   },
   "outputs": [],
   "source": [
    "# EXERCISE: experiment with standard, selected, hover glyph visual properties\n"
   ]
  },
  {
   "cell_type": "markdown",
   "metadata": {
    "slideshow": {
     "slide_type": "slide"
    }
   },
   "source": [
    "# Axes\n",
    "\n",
    "Next we will take a look at [stlying of Axes](http://bokeh.pydata.org/en/latest/docs/user_guide/styling.html#axes).\n",
    "\n",
    "To style axes, you first must get ahold of `Axis` objects. The simplest way is to use some convenience methods on `Plot`: [axis](http://bokeh.pydata.org/en/latest/docs/reference/plotting.html#bokeh.plotting.Figure.axis), [xaxis](http://bokeh.pydata.org/en/latest/docs/reference/plotting.html#bokeh.plotting.Figure.xaxis), and [yaxis](http://bokeh.pydata.org/en/latest/docs/reference/plotting.html#bokeh.plotting.Figure.yaxis). These methods return lists of axis objects:\n",
    "\n",
    "```\n",
    ">>> p.xaxis\n",
    "[<bokeh.models.axes.LinearAxis at 0x106fa2390>]\n",
    "```\n",
    "However, you can set properties on all the elements of the list as if it was a single object:\n",
    "```\n",
    "p.xaxis.axis_label = \"Temperature\"\n",
    "p.axis.major_label_text_color = \"orange\"\n",
    "```\n",
    "These are referred to as \"splattable\" lists, and tab completion works on them as well. \n"
   ]
  },
  {
   "cell_type": "code",
   "execution_count": 9,
   "metadata": {
    "slideshow": {
     "slide_type": "skip"
    }
   },
   "outputs": [
    {
     "data": {
      "text/html": [
       "\n",
       "\n",
       "\n",
       "\n",
       "\n",
       "\n",
       "  <div class=\"bk-root\" id=\"f1ed8940-5f8f-4088-a468-599ed9b9af3d\"></div>\n"
      ]
     },
     "metadata": {},
     "output_type": "display_data"
    },
    {
     "data": {
      "application/javascript": [
       "(function(root) {\n",
       "  function embed_document(root) {\n",
       "    \n",
       "  var docs_json = {\"4076291d-fbf7-4bce-8a2c-024188bfdf41\":{\"roots\":{\"references\":[{\"attributes\":{\"fill_alpha\":{\"value\":0.1},\"fill_color\":{\"value\":\"#1f77b4\"},\"line_alpha\":{\"value\":0.1},\"line_color\":{\"value\":\"#1f77b4\"},\"size\":{\"units\":\"screen\",\"value\":20},\"x\":{\"field\":\"x\"},\"y\":{\"field\":\"y\"}},\"id\":\"9ef4f869-7a57-4cf0-a662-07ab4991ad1e\",\"type\":\"Asterisk\"},{\"attributes\":{\"plot\":null,\"text\":\"Aixs Test!\"},\"id\":\"ed5e1849-fa5f-439a-a388-292e15e0d37b\",\"type\":\"Title\"},{\"attributes\":{\"overlay\":{\"id\":\"9872b3cf-9516-4ee2-8c4c-806c37439b76\",\"type\":\"BoxAnnotation\"}},\"id\":\"6514ee76-6676-4554-8cc2-2108cefb3bf1\",\"type\":\"BoxZoomTool\"},{\"attributes\":{\"active_drag\":\"auto\",\"active_inspect\":\"auto\",\"active_multi\":null,\"active_scroll\":\"auto\",\"active_tap\":\"auto\",\"tools\":[{\"id\":\"7829df5e-8769-4b2b-b8b9-c8db81558db5\",\"type\":\"PanTool\"},{\"id\":\"611d75c9-ce27-4af2-b559-15d2fefa7075\",\"type\":\"WheelZoomTool\"},{\"id\":\"6514ee76-6676-4554-8cc2-2108cefb3bf1\",\"type\":\"BoxZoomTool\"},{\"id\":\"f548b85f-9c35-40c2-8488-5250a9e5afa2\",\"type\":\"SaveTool\"},{\"id\":\"6f02d70c-86ab-493b-90eb-6de90b0b3d73\",\"type\":\"ResetTool\"},{\"id\":\"e0a9c7a5-665a-490d-ab20-2753ea4fe1e8\",\"type\":\"HelpTool\"}]},\"id\":\"8b2d04f7-e355-4146-bc3d-cbe8de5ee8b4\",\"type\":\"Toolbar\"},{\"attributes\":{},\"id\":\"6e77d3cc-3c84-488d-84c2-01fb3dcbb2ac\",\"type\":\"Selection\"},{\"attributes\":{\"dimension\":1,\"plot\":{\"id\":\"998ac6b8-1f00-4cb3-b067-6310255abf84\",\"subtype\":\"Figure\",\"type\":\"Plot\"},\"ticker\":{\"id\":\"d8b2160c-e58e-4691-a57a-ceacaec9fe03\",\"type\":\"BasicTicker\"}},\"id\":\"1bfa6606-d2b8-443d-940c-ad40227f066f\",\"type\":\"Grid\"},{\"attributes\":{},\"id\":\"64b006ea-c9a3-402e-8bf1-76b9c34290c4\",\"type\":\"BasicTicker\"},{\"attributes\":{},\"id\":\"88da75cc-50e1-4dbb-b2ca-ca7879f5934b\",\"type\":\"BasicTickFormatter\"},{\"attributes\":{},\"id\":\"611d75c9-ce27-4af2-b559-15d2fefa7075\",\"type\":\"WheelZoomTool\"},{\"attributes\":{},\"id\":\"51d21e93-54e2-4ea2-a59d-e8462fda0a43\",\"type\":\"BasicTickFormatter\"},{\"attributes\":{\"axis_line_width\":{\"value\":2},\"formatter\":{\"id\":\"51d21e93-54e2-4ea2-a59d-e8462fda0a43\",\"type\":\"BasicTickFormatter\"},\"major_label_orientation\":-0.5,\"plot\":{\"id\":\"998ac6b8-1f00-4cb3-b067-6310255abf84\",\"subtype\":\"Figure\",\"type\":\"Plot\"},\"ticker\":{\"id\":\"64b006ea-c9a3-402e-8bf1-76b9c34290c4\",\"type\":\"BasicTicker\"}},\"id\":\"1e48c24e-70b7-4bda-81cc-f52d0fdbcf0f\",\"type\":\"LinearAxis\"},{\"attributes\":{},\"id\":\"8c4d7679-c260-443c-be30-d591b4b9231f\",\"type\":\"UnionRenderers\"},{\"attributes\":{},\"id\":\"d8b2160c-e58e-4691-a57a-ceacaec9fe03\",\"type\":\"BasicTicker\"},{\"attributes\":{},\"id\":\"4ea6c995-ef19-40d5-8d80-2faa6ee10a32\",\"type\":\"LinearScale\"},{\"attributes\":{\"bottom_units\":\"screen\",\"fill_alpha\":{\"value\":0.5},\"fill_color\":{\"value\":\"lightgrey\"},\"left_units\":\"screen\",\"level\":\"overlay\",\"line_alpha\":{\"value\":1.0},\"line_color\":{\"value\":\"black\"},\"line_dash\":[4,4],\"line_width\":{\"value\":2},\"plot\":null,\"render_mode\":\"css\",\"right_units\":\"screen\",\"top_units\":\"screen\"},\"id\":\"9872b3cf-9516-4ee2-8c4c-806c37439b76\",\"type\":\"BoxAnnotation\"},{\"attributes\":{\"source\":{\"id\":\"36c3afb1-19ad-438d-9267-81d45e102753\",\"type\":\"ColumnDataSource\"}},\"id\":\"ce32ce93-9c37-487f-9294-fd0b24e450eb\",\"type\":\"CDSView\"},{\"attributes\":{\"callback\":null},\"id\":\"598307a0-744d-4632-95c3-ef74e33622da\",\"type\":\"DataRange1d\"},{\"attributes\":{\"fill_color\":{\"value\":\"orange\"},\"line_color\":{\"value\":\"orange\"},\"size\":{\"units\":\"screen\",\"value\":20},\"x\":{\"field\":\"x\"},\"y\":{\"field\":\"y\"}},\"id\":\"fa6145cb-088a-46ab-880b-993378155827\",\"type\":\"Asterisk\"},{\"attributes\":{},\"id\":\"73f1d63a-ae43-4e81-87e4-9bd86d81437b\",\"type\":\"LinearScale\"},{\"attributes\":{\"data_source\":{\"id\":\"36c3afb1-19ad-438d-9267-81d45e102753\",\"type\":\"ColumnDataSource\"},\"glyph\":{\"id\":\"fa6145cb-088a-46ab-880b-993378155827\",\"type\":\"Asterisk\"},\"hover_glyph\":null,\"muted_glyph\":null,\"nonselection_glyph\":{\"id\":\"9ef4f869-7a57-4cf0-a662-07ab4991ad1e\",\"type\":\"Asterisk\"},\"selection_glyph\":null,\"view\":{\"id\":\"ce32ce93-9c37-487f-9294-fd0b24e450eb\",\"type\":\"CDSView\"}},\"id\":\"43db518a-66ef-4515-9a2c-f592a5fa1739\",\"type\":\"GlyphRenderer\"},{\"attributes\":{\"callback\":null,\"data\":{\"x\":[2,3,4,5,6,7],\"y\":[1,2,3,6,3,9]},\"selected\":{\"id\":\"6e77d3cc-3c84-488d-84c2-01fb3dcbb2ac\",\"type\":\"Selection\"},\"selection_policy\":{\"id\":\"8c4d7679-c260-443c-be30-d591b4b9231f\",\"type\":\"UnionRenderers\"}},\"id\":\"36c3afb1-19ad-438d-9267-81d45e102753\",\"type\":\"ColumnDataSource\"},{\"attributes\":{\"axis_line_width\":{\"value\":2},\"formatter\":{\"id\":\"88da75cc-50e1-4dbb-b2ca-ca7879f5934b\",\"type\":\"BasicTickFormatter\"},\"plot\":{\"id\":\"998ac6b8-1f00-4cb3-b067-6310255abf84\",\"subtype\":\"Figure\",\"type\":\"Plot\"},\"ticker\":{\"id\":\"d8b2160c-e58e-4691-a57a-ceacaec9fe03\",\"type\":\"BasicTicker\"}},\"id\":\"bd216ea3-55fe-4661-b38c-8a4480f383f8\",\"type\":\"LinearAxis\"},{\"attributes\":{},\"id\":\"7829df5e-8769-4b2b-b8b9-c8db81558db5\",\"type\":\"PanTool\"},{\"attributes\":{},\"id\":\"6f02d70c-86ab-493b-90eb-6de90b0b3d73\",\"type\":\"ResetTool\"},{\"attributes\":{\"callback\":null},\"id\":\"5f06056f-6e3a-489c-b64b-51e0122f0315\",\"type\":\"DataRange1d\"},{\"attributes\":{\"below\":[{\"id\":\"1e48c24e-70b7-4bda-81cc-f52d0fdbcf0f\",\"type\":\"LinearAxis\"}],\"left\":[{\"id\":\"bd216ea3-55fe-4661-b38c-8a4480f383f8\",\"type\":\"LinearAxis\"}],\"plot_height\":400,\"plot_width\":700,\"renderers\":[{\"id\":\"1e48c24e-70b7-4bda-81cc-f52d0fdbcf0f\",\"type\":\"LinearAxis\"},{\"id\":\"b136edab-52db-4d29-8fe6-87b2117100fd\",\"type\":\"Grid\"},{\"id\":\"bd216ea3-55fe-4661-b38c-8a4480f383f8\",\"type\":\"LinearAxis\"},{\"id\":\"1bfa6606-d2b8-443d-940c-ad40227f066f\",\"type\":\"Grid\"},{\"id\":\"9872b3cf-9516-4ee2-8c4c-806c37439b76\",\"type\":\"BoxAnnotation\"},{\"id\":\"43db518a-66ef-4515-9a2c-f592a5fa1739\",\"type\":\"GlyphRenderer\"}],\"title\":{\"id\":\"ed5e1849-fa5f-439a-a388-292e15e0d37b\",\"type\":\"Title\"},\"toolbar\":{\"id\":\"8b2d04f7-e355-4146-bc3d-cbe8de5ee8b4\",\"type\":\"Toolbar\"},\"x_range\":{\"id\":\"598307a0-744d-4632-95c3-ef74e33622da\",\"type\":\"DataRange1d\"},\"x_scale\":{\"id\":\"73f1d63a-ae43-4e81-87e4-9bd86d81437b\",\"type\":\"LinearScale\"},\"y_range\":{\"id\":\"5f06056f-6e3a-489c-b64b-51e0122f0315\",\"type\":\"DataRange1d\"},\"y_scale\":{\"id\":\"4ea6c995-ef19-40d5-8d80-2faa6ee10a32\",\"type\":\"LinearScale\"}},\"id\":\"998ac6b8-1f00-4cb3-b067-6310255abf84\",\"subtype\":\"Figure\",\"type\":\"Plot\"},{\"attributes\":{},\"id\":\"e0a9c7a5-665a-490d-ab20-2753ea4fe1e8\",\"type\":\"HelpTool\"},{\"attributes\":{},\"id\":\"f548b85f-9c35-40c2-8488-5250a9e5afa2\",\"type\":\"SaveTool\"},{\"attributes\":{\"plot\":{\"id\":\"998ac6b8-1f00-4cb3-b067-6310255abf84\",\"subtype\":\"Figure\",\"type\":\"Plot\"},\"ticker\":{\"id\":\"64b006ea-c9a3-402e-8bf1-76b9c34290c4\",\"type\":\"BasicTicker\"}},\"id\":\"b136edab-52db-4d29-8fe6-87b2117100fd\",\"type\":\"Grid\"}],\"root_ids\":[\"998ac6b8-1f00-4cb3-b067-6310255abf84\"]},\"title\":\"Bokeh Application\",\"version\":\"0.13.0\"}};\n",
       "  var render_items = [{\"docid\":\"4076291d-fbf7-4bce-8a2c-024188bfdf41\",\"roots\":{\"998ac6b8-1f00-4cb3-b067-6310255abf84\":\"f1ed8940-5f8f-4088-a468-599ed9b9af3d\"}}];\n",
       "  root.Bokeh.embed.embed_items_notebook(docs_json, render_items);\n",
       "\n",
       "  }\n",
       "  if (root.Bokeh !== undefined) {\n",
       "    embed_document(root);\n",
       "  } else {\n",
       "    var attempts = 0;\n",
       "    var timer = setInterval(function(root) {\n",
       "      if (root.Bokeh !== undefined) {\n",
       "        embed_document(root);\n",
       "        clearInterval(timer);\n",
       "      }\n",
       "      attempts++;\n",
       "      if (attempts > 100) {\n",
       "        console.log(\"Bokeh: ERROR: Unable to run BokehJS code because BokehJS library is missing\")\n",
       "        clearInterval(timer);\n",
       "      }\n",
       "    }, 10, root)\n",
       "  }\n",
       "})(window);"
      ],
      "application/vnd.bokehjs_exec.v0+json": ""
     },
     "metadata": {
      "application/vnd.bokehjs_exec.v0+json": {
       "id": "998ac6b8-1f00-4cb3-b067-6310255abf84"
      }
     },
     "output_type": "display_data"
    }
   ],
   "source": [
    "# EXERCISE Try out tab completion. Type p.xaxis.<press tab key> to see a list of attributes that can be set.\n",
    "\n",
    "p = figure(plot_width = 700, plot_height= 400, title= 'Aixs Test!')\n",
    "\n",
    "p.asterisk(x=[2,3,4,5,6,7], y=[1,2,3,6,3,9], size=20, color='orange')\n",
    "\n",
    "p.axis.axis_line_width = 2\n",
    "p.xaxis.major_label_orientation = -0.5\n",
    "\n",
    "show(p)"
   ]
  },
  {
   "cell_type": "markdown",
   "metadata": {
    "slideshow": {
     "slide_type": "slide"
    }
   },
   "source": [
    "## Axis properties\n",
    "\n",
    "Axes objects have many configurable properties that afford control over most visual aspects of an axis. These can be grouped by function according to prefix:\n",
    "\n",
    "* **axis**  [line properties](http://bokeh.pydata.org/en/latest/docs/user_guide/styling.html#line-properties) e.g `axis_line_width`\n",
    "\n",
    "* **axis_label** [text properties](http://bokeh.pydata.org/en/latest/docs/user_guide/styling.html#text-properties)  e.g. `axis_label_text_color`, as well as ``axis_label_standoff``\n",
    "\n",
    "* **major_label** [text properties](http://bokeh.pydata.org/en/latest/docs/user_guide/styling.html#text-properties) e.g. `major_label_text_font_size`, as well as ``major_label_orientation``\n",
    "\n",
    "* **major_tick** [line_properties](http://bokeh.pydata.org/en/latest/docs/user_guide/styling.html#line-properties) e.g. `major_tick_line_dash`, as well as  ``major_tick_in`` and ``major_tick_out``\n",
    "\n",
    "* **minor_tick** [line properties](http://bokeh.pydata.org/en/latest/docs/user_guide/styling.html#line-properties) e.g. `minor_tick_line_width`, as well as ``minor_tick_in`` and ``minor_tick_out``\n",
    "\n",
    "As a simple first case, let's change the orientation of the major tick labels on both axes of a plot:"
   ]
  },
  {
   "cell_type": "code",
   "execution_count": 74,
   "metadata": {
    "slideshow": {
     "slide_type": "subslide"
    }
   },
   "outputs": [
    {
     "data": {
      "text/html": [
       "\n",
       "\n",
       "\n",
       "\n",
       "\n",
       "\n",
       "  <div class=\"bk-root\" id=\"5b4dff65-1e3f-4fc6-a76b-a77544a3efdd\"></div>\n"
      ]
     },
     "metadata": {},
     "output_type": "display_data"
    },
    {
     "data": {
      "application/javascript": [
       "(function(root) {\n",
       "  function embed_document(root) {\n",
       "    \n",
       "  var docs_json = {\"66b43ff3-4492-4ae6-84d1-1a38006797b4\":{\"roots\":{\"references\":[{\"attributes\":{\"data_source\":{\"id\":\"8386912f-2217-4b92-8308-ea462b85d731\",\"type\":\"ColumnDataSource\"},\"glyph\":{\"id\":\"949abfe1-0243-481c-8c7b-1e8526af7196\",\"type\":\"X\"},\"hover_glyph\":null,\"muted_glyph\":null,\"nonselection_glyph\":{\"id\":\"70133104-870b-4b94-b272-d538bed08fd7\",\"type\":\"X\"},\"selection_glyph\":null,\"view\":{\"id\":\"315eb06e-4bf6-4be2-9f75-af901277e048\",\"type\":\"CDSView\"}},\"id\":\"f6416c56-03cc-42d4-a496-ef84e245a4b4\",\"type\":\"GlyphRenderer\"},{\"attributes\":{\"overlay\":{\"id\":\"6011bedd-caaf-4012-ad5f-72c24354f5b1\",\"type\":\"BoxAnnotation\"}},\"id\":\"753e3812-3283-4233-bdec-bc771be01f30\",\"type\":\"BoxZoomTool\"},{\"attributes\":{},\"id\":\"babd93c7-3e8b-4de0-a7e4-637466a40eb4\",\"type\":\"BasicTicker\"},{\"attributes\":{\"plot\":null,\"text\":\"\"},\"id\":\"cf05de98-7cb7-4d6d-9aeb-5edf9ef4c5c5\",\"type\":\"Title\"},{\"attributes\":{},\"id\":\"89afd256-38e6-4c18-8d84-64630c925f40\",\"type\":\"HelpTool\"},{\"attributes\":{},\"id\":\"2958b449-0f90-4863-94ed-40c280c2215d\",\"type\":\"ResetTool\"},{\"attributes\":{\"fill_color\":{\"value\":\"#1f77b4\"},\"line_color\":{\"value\":\"#1f77b4\"},\"line_width\":{\"value\":2},\"size\":{\"units\":\"screen\",\"value\":15},\"x\":{\"field\":\"x\"},\"y\":{\"field\":\"y\"}},\"id\":\"949abfe1-0243-481c-8c7b-1e8526af7196\",\"type\":\"X\"},{\"attributes\":{},\"id\":\"e283c42f-0910-485b-879c-41345c16d4a1\",\"type\":\"BasicTickFormatter\"},{\"attributes\":{},\"id\":\"c2af8022-5395-4cd9-a485-14c28a4c37d0\",\"type\":\"WheelZoomTool\"},{\"attributes\":{\"active_drag\":\"auto\",\"active_inspect\":\"auto\",\"active_multi\":null,\"active_scroll\":\"auto\",\"active_tap\":\"auto\",\"tools\":[{\"id\":\"dd3939d5-7b90-4ad8-9ce8-df06cea66dae\",\"type\":\"PanTool\"},{\"id\":\"c2af8022-5395-4cd9-a485-14c28a4c37d0\",\"type\":\"WheelZoomTool\"},{\"id\":\"753e3812-3283-4233-bdec-bc771be01f30\",\"type\":\"BoxZoomTool\"},{\"id\":\"edf2b213-cb30-4959-bbad-665a15e27c2d\",\"type\":\"SaveTool\"},{\"id\":\"2958b449-0f90-4863-94ed-40c280c2215d\",\"type\":\"ResetTool\"},{\"id\":\"89afd256-38e6-4c18-8d84-64630c925f40\",\"type\":\"HelpTool\"}]},\"id\":\"acfe6108-2abb-47b3-a84c-310a74c22640\",\"type\":\"Toolbar\"},{\"attributes\":{},\"id\":\"cf569f93-38b8-4157-8610-cf49114da22c\",\"type\":\"Selection\"},{\"attributes\":{\"callback\":null},\"id\":\"b995e1d7-2bde-440e-a8cd-8a8f72e37685\",\"type\":\"DataRange1d\"},{\"attributes\":{\"source\":{\"id\":\"8386912f-2217-4b92-8308-ea462b85d731\",\"type\":\"ColumnDataSource\"}},\"id\":\"315eb06e-4bf6-4be2-9f75-af901277e048\",\"type\":\"CDSView\"},{\"attributes\":{\"bottom_units\":\"screen\",\"fill_alpha\":{\"value\":0.5},\"fill_color\":{\"value\":\"lightgrey\"},\"left_units\":\"screen\",\"level\":\"overlay\",\"line_alpha\":{\"value\":1.0},\"line_color\":{\"value\":\"black\"},\"line_dash\":[4,4],\"line_width\":{\"value\":2},\"plot\":null,\"render_mode\":\"css\",\"right_units\":\"screen\",\"top_units\":\"screen\"},\"id\":\"6011bedd-caaf-4012-ad5f-72c24354f5b1\",\"type\":\"BoxAnnotation\"},{\"attributes\":{},\"id\":\"783982d8-3a3a-47b3-bb59-1190e68ea0f7\",\"type\":\"LinearScale\"},{\"attributes\":{},\"id\":\"dd3939d5-7b90-4ad8-9ce8-df06cea66dae\",\"type\":\"PanTool\"},{\"attributes\":{\"plot\":{\"id\":\"d66a603a-cefc-489c-9cd7-c3444cc32179\",\"subtype\":\"Figure\",\"type\":\"Plot\"},\"ticker\":{\"id\":\"bdc1330e-e42c-4d38-88e3-0dc47764e8ea\",\"type\":\"BasicTicker\"}},\"id\":\"ecf776b4-5d6e-4f17-a4f3-c10e3cd25c8c\",\"type\":\"Grid\"},{\"attributes\":{\"formatter\":{\"id\":\"e283c42f-0910-485b-879c-41345c16d4a1\",\"type\":\"BasicTickFormatter\"},\"major_label_orientation\":\"vertical\",\"plot\":{\"id\":\"d66a603a-cefc-489c-9cd7-c3444cc32179\",\"subtype\":\"Figure\",\"type\":\"Plot\"},\"ticker\":{\"id\":\"babd93c7-3e8b-4de0-a7e4-637466a40eb4\",\"type\":\"BasicTicker\"}},\"id\":\"cdcc1b06-0344-42dd-8f95-88a7ff6de357\",\"type\":\"LinearAxis\"},{\"attributes\":{\"dimension\":1,\"plot\":{\"id\":\"d66a603a-cefc-489c-9cd7-c3444cc32179\",\"subtype\":\"Figure\",\"type\":\"Plot\"},\"ticker\":{\"id\":\"babd93c7-3e8b-4de0-a7e4-637466a40eb4\",\"type\":\"BasicTicker\"}},\"id\":\"b8bc18ba-d138-42dc-a84c-1500f0b82c11\",\"type\":\"Grid\"},{\"attributes\":{\"callback\":null,\"data\":{\"x\":[1,2,3,4,5],\"y\":[2,5,8,2,7]},\"selected\":{\"id\":\"cf569f93-38b8-4157-8610-cf49114da22c\",\"type\":\"Selection\"},\"selection_policy\":{\"id\":\"78efea46-8c33-4481-8e62-b9a1669bd427\",\"type\":\"UnionRenderers\"}},\"id\":\"8386912f-2217-4b92-8308-ea462b85d731\",\"type\":\"ColumnDataSource\"},{\"attributes\":{},\"id\":\"da4290ef-fffb-4448-9f3e-d95917a58bf3\",\"type\":\"LinearScale\"},{\"attributes\":{},\"id\":\"865b60b5-a36f-496b-b23b-2fc63660c8d5\",\"type\":\"BasicTickFormatter\"},{\"attributes\":{\"callback\":null},\"id\":\"b1a2be4c-a06e-489c-ba8c-f1bff48302db\",\"type\":\"DataRange1d\"},{\"attributes\":{},\"id\":\"78efea46-8c33-4481-8e62-b9a1669bd427\",\"type\":\"UnionRenderers\"},{\"attributes\":{\"fill_alpha\":{\"value\":0.1},\"fill_color\":{\"value\":\"#1f77b4\"},\"line_alpha\":{\"value\":0.1},\"line_color\":{\"value\":\"#1f77b4\"},\"line_width\":{\"value\":2},\"size\":{\"units\":\"screen\",\"value\":15},\"x\":{\"field\":\"x\"},\"y\":{\"field\":\"y\"}},\"id\":\"70133104-870b-4b94-b272-d538bed08fd7\",\"type\":\"X\"},{\"attributes\":{\"below\":[{\"id\":\"37cd5c60-47e7-4832-b9a4-2962e7ff8ff8\",\"type\":\"LinearAxis\"}],\"left\":[{\"id\":\"cdcc1b06-0344-42dd-8f95-88a7ff6de357\",\"type\":\"LinearAxis\"}],\"plot_height\":400,\"plot_width\":400,\"renderers\":[{\"id\":\"37cd5c60-47e7-4832-b9a4-2962e7ff8ff8\",\"type\":\"LinearAxis\"},{\"id\":\"ecf776b4-5d6e-4f17-a4f3-c10e3cd25c8c\",\"type\":\"Grid\"},{\"id\":\"cdcc1b06-0344-42dd-8f95-88a7ff6de357\",\"type\":\"LinearAxis\"},{\"id\":\"b8bc18ba-d138-42dc-a84c-1500f0b82c11\",\"type\":\"Grid\"},{\"id\":\"6011bedd-caaf-4012-ad5f-72c24354f5b1\",\"type\":\"BoxAnnotation\"},{\"id\":\"f6416c56-03cc-42d4-a496-ef84e245a4b4\",\"type\":\"GlyphRenderer\"}],\"title\":{\"id\":\"cf05de98-7cb7-4d6d-9aeb-5edf9ef4c5c5\",\"type\":\"Title\"},\"toolbar\":{\"id\":\"acfe6108-2abb-47b3-a84c-310a74c22640\",\"type\":\"Toolbar\"},\"x_range\":{\"id\":\"b1a2be4c-a06e-489c-ba8c-f1bff48302db\",\"type\":\"DataRange1d\"},\"x_scale\":{\"id\":\"da4290ef-fffb-4448-9f3e-d95917a58bf3\",\"type\":\"LinearScale\"},\"y_range\":{\"id\":\"b995e1d7-2bde-440e-a8cd-8a8f72e37685\",\"type\":\"DataRange1d\"},\"y_scale\":{\"id\":\"783982d8-3a3a-47b3-bb59-1190e68ea0f7\",\"type\":\"LinearScale\"}},\"id\":\"d66a603a-cefc-489c-9cd7-c3444cc32179\",\"subtype\":\"Figure\",\"type\":\"Plot\"},{\"attributes\":{},\"id\":\"edf2b213-cb30-4959-bbad-665a15e27c2d\",\"type\":\"SaveTool\"},{\"attributes\":{},\"id\":\"bdc1330e-e42c-4d38-88e3-0dc47764e8ea\",\"type\":\"BasicTicker\"},{\"attributes\":{\"formatter\":{\"id\":\"865b60b5-a36f-496b-b23b-2fc63660c8d5\",\"type\":\"BasicTickFormatter\"},\"major_label_orientation\":0.7853981633974483,\"plot\":{\"id\":\"d66a603a-cefc-489c-9cd7-c3444cc32179\",\"subtype\":\"Figure\",\"type\":\"Plot\"},\"ticker\":{\"id\":\"bdc1330e-e42c-4d38-88e3-0dc47764e8ea\",\"type\":\"BasicTicker\"}},\"id\":\"37cd5c60-47e7-4832-b9a4-2962e7ff8ff8\",\"type\":\"LinearAxis\"}],\"root_ids\":[\"d66a603a-cefc-489c-9cd7-c3444cc32179\"]},\"title\":\"Bokeh Application\",\"version\":\"0.13.0\"}};\n",
       "  var render_items = [{\"docid\":\"66b43ff3-4492-4ae6-84d1-1a38006797b4\",\"roots\":{\"d66a603a-cefc-489c-9cd7-c3444cc32179\":\"5b4dff65-1e3f-4fc6-a76b-a77544a3efdd\"}}];\n",
       "  root.Bokeh.embed.embed_items_notebook(docs_json, render_items);\n",
       "\n",
       "  }\n",
       "  if (root.Bokeh !== undefined) {\n",
       "    embed_document(root);\n",
       "  } else {\n",
       "    var attempts = 0;\n",
       "    var timer = setInterval(function(root) {\n",
       "      if (root.Bokeh !== undefined) {\n",
       "        embed_document(root);\n",
       "        clearInterval(timer);\n",
       "      }\n",
       "      attempts++;\n",
       "      if (attempts > 100) {\n",
       "        console.log(\"Bokeh: ERROR: Unable to run BokehJS code because BokehJS library is missing\")\n",
       "        clearInterval(timer);\n",
       "      }\n",
       "    }, 10, root)\n",
       "  }\n",
       "})(window);"
      ],
      "application/vnd.bokehjs_exec.v0+json": ""
     },
     "metadata": {
      "application/vnd.bokehjs_exec.v0+json": {
       "id": "d66a603a-cefc-489c-9cd7-c3444cc32179"
      }
     },
     "output_type": "display_data"
    }
   ],
   "source": [
    "from math import pi\n",
    "\n",
    "p = figure(plot_width=400, plot_height=400)\n",
    "p.x([1,2,3,4,5], [2,5,8,2,7], size=15, line_width=2)\n",
    "\n",
    "p.xaxis.major_label_orientation = pi/4\n",
    "p.yaxis.major_label_orientation = \"vertical\"\n",
    "\n",
    "show(p)"
   ]
  },
  {
   "cell_type": "markdown",
   "metadata": {
    "slideshow": {
     "slide_type": "slide"
    }
   },
   "source": [
    "The next example shows customizations on several of the different Axis properties at once:"
   ]
  },
  {
   "cell_type": "code",
   "execution_count": 11,
   "metadata": {},
   "outputs": [
    {
     "data": {
      "text/html": [
       "\n",
       "\n",
       "\n",
       "\n",
       "\n",
       "\n",
       "  <div class=\"bk-root\" id=\"89353b6c-6192-425b-8960-d792f4f73900\"></div>\n"
      ]
     },
     "metadata": {},
     "output_type": "display_data"
    },
    {
     "data": {
      "application/javascript": [
       "(function(root) {\n",
       "  function embed_document(root) {\n",
       "    \n",
       "  var docs_json = {\"2da11e60-333d-47b5-a155-28cc0f2a66b4\":{\"roots\":{\"references\":[{\"attributes\":{\"bottom_units\":\"screen\",\"fill_alpha\":{\"value\":0.5},\"fill_color\":{\"value\":\"lightgrey\"},\"left_units\":\"screen\",\"level\":\"overlay\",\"line_alpha\":{\"value\":1.0},\"line_color\":{\"value\":\"black\"},\"line_dash\":[4,4],\"line_width\":{\"value\":2},\"plot\":null,\"render_mode\":\"css\",\"right_units\":\"screen\",\"top_units\":\"screen\"},\"id\":\"73d1de77-2585-49dc-a3bf-91f402f35c90\",\"type\":\"BoxAnnotation\"},{\"attributes\":{},\"id\":\"23a1d4b6-ad64-46e6-85ca-0462c70f816b\",\"type\":\"LinearScale\"},{\"attributes\":{},\"id\":\"9fcd6f96-8c33-4733-9087-c6ca8ba4d000\",\"type\":\"SaveTool\"},{\"attributes\":{\"plot\":null,\"text\":\"\"},\"id\":\"deba99fe-c49d-47cc-9da1-1fd111d9fbdc\",\"type\":\"Title\"},{\"attributes\":{},\"id\":\"e89c6972-43a1-42b5-a3a1-93567044252b\",\"type\":\"WheelZoomTool\"},{\"attributes\":{},\"id\":\"66a24119-bd52-42b3-ac73-30accd11fbd7\",\"type\":\"ResetTool\"},{\"attributes\":{\"overlay\":{\"id\":\"73d1de77-2585-49dc-a3bf-91f402f35c90\",\"type\":\"BoxAnnotation\"}},\"id\":\"cc4049e5-3a3e-4bd7-a529-cced5dc40312\",\"type\":\"BoxZoomTool\"},{\"attributes\":{\"callback\":null,\"data\":{\"x\":[1,2,3,4,5],\"y\":[2,5,8,2,7]},\"selected\":{\"id\":\"33672eb3-c206-4db5-a1f6-a1c2c361a547\",\"type\":\"Selection\"},\"selection_policy\":{\"id\":\"6ac5adcb-63bc-44a7-bc30-c43cf915d61d\",\"type\":\"UnionRenderers\"}},\"id\":\"87fa1957-0a3f-49e0-a978-e8b45db1220e\",\"type\":\"ColumnDataSource\"},{\"attributes\":{},\"id\":\"9b120134-e623-4b62-95ab-60738de79bbb\",\"type\":\"HelpTool\"},{\"attributes\":{\"below\":[{\"id\":\"50cdf936-1755-4387-82ab-4b890829ae0a\",\"type\":\"LinearAxis\"}],\"left\":[{\"id\":\"949aee27-9358-43bc-a292-d3df82f04d16\",\"type\":\"LinearAxis\"}],\"plot_height\":400,\"plot_width\":400,\"renderers\":[{\"id\":\"50cdf936-1755-4387-82ab-4b890829ae0a\",\"type\":\"LinearAxis\"},{\"id\":\"ffb16f54-add5-4992-9b96-be521732a2f9\",\"type\":\"Grid\"},{\"id\":\"949aee27-9358-43bc-a292-d3df82f04d16\",\"type\":\"LinearAxis\"},{\"id\":\"0aac3160-66b1-40c8-9c0b-7497c7499a11\",\"type\":\"Grid\"},{\"id\":\"73d1de77-2585-49dc-a3bf-91f402f35c90\",\"type\":\"BoxAnnotation\"},{\"id\":\"cc613089-3253-4479-9d06-698291c1ed67\",\"type\":\"GlyphRenderer\"}],\"title\":{\"id\":\"deba99fe-c49d-47cc-9da1-1fd111d9fbdc\",\"type\":\"Title\"},\"toolbar\":{\"id\":\"38300cb6-bc7c-4d5a-8687-d14facf20ea0\",\"type\":\"Toolbar\"},\"x_range\":{\"id\":\"4d1a0e36-78e4-4c65-ad94-136f699ddd58\",\"type\":\"DataRange1d\"},\"x_scale\":{\"id\":\"161db2a0-b463-4dd8-b2e5-413066a2153b\",\"type\":\"LinearScale\"},\"y_range\":{\"id\":\"c6d568b2-2ce7-4bd2-91ae-0a30e2df1218\",\"type\":\"DataRange1d\"},\"y_scale\":{\"id\":\"23a1d4b6-ad64-46e6-85ca-0462c70f816b\",\"type\":\"LinearScale\"}},\"id\":\"334341b1-63e4-4894-a51d-fb28e0135178\",\"subtype\":\"Figure\",\"type\":\"Plot\"},{\"attributes\":{},\"id\":\"5e1d22d6-cdd1-4e45-a641-95bf02f26544\",\"type\":\"BasicTickFormatter\"},{\"attributes\":{\"fill_alpha\":{\"value\":0.1},\"fill_color\":{\"value\":\"#1f77b4\"},\"line_alpha\":{\"value\":0.1},\"line_color\":{\"value\":\"#1f77b4\"},\"size\":{\"units\":\"screen\",\"value\":12},\"x\":{\"field\":\"x\"},\"y\":{\"field\":\"y\"}},\"id\":\"a5426ca0-1811-466e-b872-555735b02b18\",\"type\":\"Asterisk\"},{\"attributes\":{\"fill_color\":{\"value\":\"olive\"},\"line_color\":{\"value\":\"olive\"},\"size\":{\"units\":\"screen\",\"value\":12},\"x\":{\"field\":\"x\"},\"y\":{\"field\":\"y\"}},\"id\":\"d559f404-0a2a-446d-a0df-2c5a8e1c32e9\",\"type\":\"Asterisk\"},{\"attributes\":{},\"id\":\"161db2a0-b463-4dd8-b2e5-413066a2153b\",\"type\":\"LinearScale\"},{\"attributes\":{},\"id\":\"6ac5adcb-63bc-44a7-bc30-c43cf915d61d\",\"type\":\"UnionRenderers\"},{\"attributes\":{},\"id\":\"a0db3abc-b485-4e24-bbb3-77231b29b333\",\"type\":\"BasicTickFormatter\"},{\"attributes\":{\"callback\":null},\"id\":\"c6d568b2-2ce7-4bd2-91ae-0a30e2df1218\",\"type\":\"DataRange1d\"},{\"attributes\":{},\"id\":\"33672eb3-c206-4db5-a1f6-a1c2c361a547\",\"type\":\"Selection\"},{\"attributes\":{\"axis_label\":\"Temp\",\"axis_line_color\":{\"value\":\"red\"},\"axis_line_width\":{\"value\":3},\"formatter\":{\"id\":\"5e1d22d6-cdd1-4e45-a641-95bf02f26544\",\"type\":\"BasicTickFormatter\"},\"minor_tick_in\":-3,\"minor_tick_out\":6,\"plot\":{\"id\":\"334341b1-63e4-4894-a51d-fb28e0135178\",\"subtype\":\"Figure\",\"type\":\"Plot\"},\"ticker\":{\"id\":\"abf4b509-2bb5-490b-9e8c-9544cde9beb7\",\"type\":\"BasicTicker\"}},\"id\":\"50cdf936-1755-4387-82ab-4b890829ae0a\",\"type\":\"LinearAxis\"},{\"attributes\":{\"active_drag\":\"auto\",\"active_inspect\":\"auto\",\"active_multi\":null,\"active_scroll\":\"auto\",\"active_tap\":\"auto\",\"tools\":[{\"id\":\"c325502f-4ec9-4a6d-b49c-e3e3ea46588b\",\"type\":\"PanTool\"},{\"id\":\"e89c6972-43a1-42b5-a3a1-93567044252b\",\"type\":\"WheelZoomTool\"},{\"id\":\"cc4049e5-3a3e-4bd7-a529-cced5dc40312\",\"type\":\"BoxZoomTool\"},{\"id\":\"9fcd6f96-8c33-4733-9087-c6ca8ba4d000\",\"type\":\"SaveTool\"},{\"id\":\"66a24119-bd52-42b3-ac73-30accd11fbd7\",\"type\":\"ResetTool\"},{\"id\":\"9b120134-e623-4b62-95ab-60738de79bbb\",\"type\":\"HelpTool\"}]},\"id\":\"38300cb6-bc7c-4d5a-8687-d14facf20ea0\",\"type\":\"Toolbar\"},{\"attributes\":{\"source\":{\"id\":\"87fa1957-0a3f-49e0-a978-e8b45db1220e\",\"type\":\"ColumnDataSource\"}},\"id\":\"ccc6a06a-8f2b-4c9b-a50a-bcb01632c1d8\",\"type\":\"CDSView\"},{\"attributes\":{\"dimension\":1,\"plot\":{\"id\":\"334341b1-63e4-4894-a51d-fb28e0135178\",\"subtype\":\"Figure\",\"type\":\"Plot\"},\"ticker\":{\"id\":\"29e02b71-12ce-432c-9de2-7f9e14a30414\",\"type\":\"BasicTicker\"}},\"id\":\"0aac3160-66b1-40c8-9c0b-7497c7499a11\",\"type\":\"Grid\"},{\"attributes\":{\"callback\":null},\"id\":\"4d1a0e36-78e4-4c65-ad94-136f699ddd58\",\"type\":\"DataRange1d\"},{\"attributes\":{},\"id\":\"c325502f-4ec9-4a6d-b49c-e3e3ea46588b\",\"type\":\"PanTool\"},{\"attributes\":{},\"id\":\"abf4b509-2bb5-490b-9e8c-9544cde9beb7\",\"type\":\"BasicTicker\"},{\"attributes\":{\"data_source\":{\"id\":\"87fa1957-0a3f-49e0-a978-e8b45db1220e\",\"type\":\"ColumnDataSource\"},\"glyph\":{\"id\":\"d559f404-0a2a-446d-a0df-2c5a8e1c32e9\",\"type\":\"Asterisk\"},\"hover_glyph\":null,\"muted_glyph\":null,\"nonselection_glyph\":{\"id\":\"a5426ca0-1811-466e-b872-555735b02b18\",\"type\":\"Asterisk\"},\"selection_glyph\":null,\"view\":{\"id\":\"ccc6a06a-8f2b-4c9b-a50a-bcb01632c1d8\",\"type\":\"CDSView\"}},\"id\":\"cc613089-3253-4479-9d06-698291c1ed67\",\"type\":\"GlyphRenderer\"},{\"attributes\":{\"axis_label\":\"Pressure\",\"formatter\":{\"id\":\"a0db3abc-b485-4e24-bbb3-77231b29b333\",\"type\":\"BasicTickFormatter\"},\"major_label_orientation\":\"vertical\",\"major_label_text_color\":{\"value\":\"orange\"},\"minor_tick_in\":-3,\"minor_tick_out\":6,\"plot\":{\"id\":\"334341b1-63e4-4894-a51d-fb28e0135178\",\"subtype\":\"Figure\",\"type\":\"Plot\"},\"ticker\":{\"id\":\"29e02b71-12ce-432c-9de2-7f9e14a30414\",\"type\":\"BasicTicker\"}},\"id\":\"949aee27-9358-43bc-a292-d3df82f04d16\",\"type\":\"LinearAxis\"},{\"attributes\":{},\"id\":\"29e02b71-12ce-432c-9de2-7f9e14a30414\",\"type\":\"BasicTicker\"},{\"attributes\":{\"plot\":{\"id\":\"334341b1-63e4-4894-a51d-fb28e0135178\",\"subtype\":\"Figure\",\"type\":\"Plot\"},\"ticker\":{\"id\":\"abf4b509-2bb5-490b-9e8c-9544cde9beb7\",\"type\":\"BasicTicker\"}},\"id\":\"ffb16f54-add5-4992-9b96-be521732a2f9\",\"type\":\"Grid\"}],\"root_ids\":[\"334341b1-63e4-4894-a51d-fb28e0135178\"]},\"title\":\"Bokeh Application\",\"version\":\"0.13.0\"}};\n",
       "  var render_items = [{\"docid\":\"2da11e60-333d-47b5-a155-28cc0f2a66b4\",\"roots\":{\"334341b1-63e4-4894-a51d-fb28e0135178\":\"89353b6c-6192-425b-8960-d792f4f73900\"}}];\n",
       "  root.Bokeh.embed.embed_items_notebook(docs_json, render_items);\n",
       "\n",
       "  }\n",
       "  if (root.Bokeh !== undefined) {\n",
       "    embed_document(root);\n",
       "  } else {\n",
       "    var attempts = 0;\n",
       "    var timer = setInterval(function(root) {\n",
       "      if (root.Bokeh !== undefined) {\n",
       "        embed_document(root);\n",
       "        clearInterval(timer);\n",
       "      }\n",
       "      attempts++;\n",
       "      if (attempts > 100) {\n",
       "        console.log(\"Bokeh: ERROR: Unable to run BokehJS code because BokehJS library is missing\")\n",
       "        clearInterval(timer);\n",
       "      }\n",
       "    }, 10, root)\n",
       "  }\n",
       "})(window);"
      ],
      "application/vnd.bokehjs_exec.v0+json": ""
     },
     "metadata": {
      "application/vnd.bokehjs_exec.v0+json": {
       "id": "334341b1-63e4-4894-a51d-fb28e0135178"
      }
     },
     "output_type": "display_data"
    }
   ],
   "source": [
    "p = figure(plot_width=400, plot_height=400)\n",
    "p.asterisk([1,2,3,4,5], [2,5,8,2,7], size=12, color=\"olive\")\n",
    "\n",
    "# change just some things about the x-axes\n",
    "p.xaxis.axis_label = \"Temp\"\n",
    "p.xaxis.axis_line_width = 3\n",
    "p.xaxis.axis_line_color = \"red\"\n",
    "\n",
    "# change just some things about the y-axes\n",
    "p.yaxis.axis_label = \"Pressure\"\n",
    "p.yaxis.major_label_text_color = \"orange\"\n",
    "p.yaxis.major_label_orientation = \"vertical\"\n",
    "\n",
    "# change things on all axes\n",
    "p.axis.minor_tick_in = -3\n",
    "p.axis.minor_tick_out = 6\n",
    "\n",
    "show(p)"
   ]
  },
  {
   "cell_type": "markdown",
   "metadata": {
    "slideshow": {
     "slide_type": "slide"
    }
   },
   "source": [
    "## Configuring tick labels\n",
    "\n",
    "All Bokeh axes have a `formatter` property, whose value is a `TickFormatter` object that Bokeh uses to format the ticks displayed by that axis. Bokeh will configure default tick formatters for numeric, datetime, or categotical axes. But often we would like to customize the appearance of tick labels. This can be accomplished by changing properties on the default formatter that Bokeh chooses, or by replacing the formatter with a new type entirely. \n",
    "\n",
    "Let's first look at changing the properties of a default formatter. The default datetime formatter is configure to show *month/day* when the axis is on the scale of days. If would like the also always show the year, we can change the `days` property to a format that includes the year, as done below. "
   ]
  },
  {
   "cell_type": "code",
   "execution_count": 10,
   "metadata": {
    "slideshow": {
     "slide_type": "subslide"
    }
   },
   "outputs": [
    {
     "data": {
      "text/html": [
       "\n",
       "\n",
       "\n",
       "\n",
       "\n",
       "\n",
       "  <div class=\"bk-root\" id=\"64ccf3ce-b41a-4159-8050-4344e583f04b\"></div>\n"
      ]
     },
     "metadata": {},
     "output_type": "display_data"
    },
    {
     "data": {
      "application/javascript": [
       "(function(root) {\n",
       "  function embed_document(root) {\n",
       "    \n",
       "  var docs_json = {\"160fea45-97a8-4f69-8a8c-2f21a23e3493\":{\"roots\":{\"references\":[{\"attributes\":{\"months\":[0,2,4,6,8,10]},\"id\":\"4c5b5322-ca31-42ca-890f-1d9f53fc6f8b\",\"type\":\"MonthsTicker\"},{\"attributes\":{},\"id\":\"5ac934da-f908-40f2-9c96-637cfd080df8\",\"type\":\"HelpTool\"},{\"attributes\":{\"formatter\":{\"id\":\"9b4f4c93-00ae-4451-a45b-8882257da2af\",\"type\":\"BasicTickFormatter\"},\"plot\":{\"id\":\"f2ae18d9-9636-4fdf-bf13-c301c42f7e89\",\"subtype\":\"Figure\",\"type\":\"Plot\"},\"ticker\":{\"id\":\"de399706-711c-424b-9886-9b240a464b68\",\"type\":\"BasicTicker\"}},\"id\":\"47e9c342-a402-448e-b509-fff99f86b8d4\",\"type\":\"LinearAxis\"},{\"attributes\":{\"months\":[0,4,8]},\"id\":\"1d347731-2dcd-498a-b7eb-3a5255529a32\",\"type\":\"MonthsTicker\"},{\"attributes\":{\"dimension\":1,\"plot\":{\"id\":\"f2ae18d9-9636-4fdf-bf13-c301c42f7e89\",\"subtype\":\"Figure\",\"type\":\"Plot\"},\"ticker\":{\"id\":\"de399706-711c-424b-9886-9b240a464b68\",\"type\":\"BasicTicker\"}},\"id\":\"48f2a8b0-882d-4848-a420-e6b11b0ba75e\",\"type\":\"Grid\"},{\"attributes\":{\"days\":[1,15]},\"id\":\"fb4c7820-0464-4b99-9b45-668ea8c64a14\",\"type\":\"DaysTicker\"},{\"attributes\":{\"below\":[{\"id\":\"496fc9b8-674f-4ea3-b18a-5e12e75395b8\",\"type\":\"DatetimeAxis\"}],\"left\":[{\"id\":\"47e9c342-a402-448e-b509-fff99f86b8d4\",\"type\":\"LinearAxis\"}],\"plot_height\":350,\"plot_width\":800,\"renderers\":[{\"id\":\"496fc9b8-674f-4ea3-b18a-5e12e75395b8\",\"type\":\"DatetimeAxis\"},{\"id\":\"d5110393-845f-4e68-b0ad-6a2a45fbcea7\",\"type\":\"Grid\"},{\"id\":\"47e9c342-a402-448e-b509-fff99f86b8d4\",\"type\":\"LinearAxis\"},{\"id\":\"48f2a8b0-882d-4848-a420-e6b11b0ba75e\",\"type\":\"Grid\"},{\"id\":\"7fe3426c-60ce-4f18-9a93-112c327f8783\",\"type\":\"BoxAnnotation\"},{\"id\":\"257dc56a-a8b7-4fee-a302-2bd4599511a1\",\"type\":\"GlyphRenderer\"}],\"title\":{\"id\":\"171fc48c-e100-41f5-a580-74ac3b39c9ac\",\"type\":\"Title\"},\"toolbar\":{\"id\":\"41755dee-5569-4ed5-ba05-acbc7bc71733\",\"type\":\"Toolbar\"},\"x_range\":{\"id\":\"69675b78-541b-467e-9624-69a5801fe621\",\"type\":\"DataRange1d\"},\"x_scale\":{\"id\":\"f273426a-1aa6-4ceb-9c5f-7f18ab4ae1cf\",\"type\":\"LinearScale\"},\"y_range\":{\"id\":\"29562616-41b5-43cf-a80d-bd3a4f1f0204\",\"type\":\"DataRange1d\"},\"y_scale\":{\"id\":\"9e6643a3-546c-4edf-b3fc-ba649d19532b\",\"type\":\"LinearScale\"}},\"id\":\"f2ae18d9-9636-4fdf-bf13-c301c42f7e89\",\"subtype\":\"Figure\",\"type\":\"Plot\"},{\"attributes\":{},\"id\":\"5af0d438-1309-4f52-bed4-8d2a16b27df7\",\"type\":\"WheelZoomTool\"},{\"attributes\":{\"mantissas\":[1,2,5],\"max_interval\":500.0,\"num_minor_ticks\":0},\"id\":\"71aea31f-fffd-41a0-a991-69a3c0390792\",\"type\":\"AdaptiveTicker\"},{\"attributes\":{\"days\":[1,2,3,4,5,6,7,8,9,10,11,12,13,14,15,16,17,18,19,20,21,22,23,24,25,26,27,28,29,30,31]},\"id\":\"09e46745-971b-438a-80ae-78a9382ffcc9\",\"type\":\"DaysTicker\"},{\"attributes\":{},\"id\":\"a018801b-672f-445b-b98f-4d53fb0f8311\",\"type\":\"UnionRenderers\"},{\"attributes\":{},\"id\":\"d45437c5-968d-4cf3-b485-55559e5939b8\",\"type\":\"Selection\"},{\"attributes\":{\"days\":[\"%m/%d/%Y\"]},\"id\":\"300105ca-4457-47f2-9afd-cabd29a3f25b\",\"type\":\"DatetimeTickFormatter\"},{\"attributes\":{},\"id\":\"de399706-711c-424b-9886-9b240a464b68\",\"type\":\"BasicTicker\"},{\"attributes\":{\"callback\":null,\"data\":{\"x\":{\"__ndarray__\":\"AADYo1G2ckIAABbtUbZyQgAAVDZStnJCAACSf1K2ckIAANDIUrZyQgAADhJTtnJCAABMW1O2ckIAAIqkU7ZyQgAAyO1TtnJCAAAGN1S2ckIAAESAVLZyQgAAgslUtnJCAADAElW2ckIAAP5bVbZyQgAAPKVVtnJCAAB67lW2ckIAALg3VrZyQgAA9oBWtnJCAAA0yla2ckIAAHITV7ZyQgAAsFxXtnJCAADupVe2ckIAACzvV7ZyQgAAajhYtnJCAACogVi2ckIAAObKWLZyQgAAJBRZtnJCAABiXVm2ckIAAKCmWbZyQgAA3u9ZtnJCAAAcOVq2ckIAAFqCWrZyQgAAmMtatnJCAADWFFu2ckIAABReW7ZyQgAAUqdbtnJCAACQ8Fu2ckIAAM45XLZyQgAADINctnJCAABKzFy2ckIAAIgVXbZyQgAAxl5dtnJCAAAEqF22ckIAAELxXbZyQgAAgDpetnJCAAC+g162ckIAAPzMXrZyQgAAOhZftnJCAAB4X1+2ckIAALaoX7ZyQgAA9PFftnJCAAAyO2C2ckIAAHCEYLZyQgAArs1gtnJCAADsFmG2ckIAACpgYbZyQgAAaKlhtnJCAACm8mG2ckIAAOQ7YrZyQgAAIoVitnJCAABgzmK2ckIAAJ4XY7ZyQgAA3GBjtnJCAAAaqmO2ckIAAFjzY7ZyQgAAljxktnJCAADUhWS2ckIAABLPZLZyQgAAUBhltnJCAACOYWW2ckIAAMyqZbZyQgAACvRltnJCAABIPWa2ckIAAIaGZrZyQgAAxM9mtnJCAAACGWe2ckIAAEBiZ7ZyQgAAfqtntnJCAAC89Ge2ckIAAPo9aLZyQgAAOIdotnJCAAB20Gi2ckIAALQZabZyQgAA8mJptnJCAAAwrGm2ckIAAG71abZyQgAArD5qtnJCAADqh2q2ckIAACjRarZyQgAAZhprtnJCAACkY2u2ckIAAOKsa7ZyQgAAIPZrtnJCAABeP2y2ckIAAJyIbLZyQgAA2tFstnJCAAAYG222ckIAAFZkbbZyQgAAlK1ttnJCAADS9m22ckIAABBAbrZyQgAATolutnJCAACM0m62ckIAAMobb7ZyQgAACGVvtnJCAABGrm+2ckIAAIT3b7ZyQgAAwkBwtnJCAAAAinC2ckIAAD7TcLZyQgAAfBxxtnJCAAC6ZXG2ckIAAPiucbZyQgAANvhxtnJCAAB0QXK2ckIAALKKcrZyQgAA8NNytnJCAAAuHXO2ckIAAGxmc7ZyQgAAqq9ztnJCAADo+HO2ckIAACZCdLZyQgAAZIt0tnJCAACi1HS2ckIAAOAddbZyQgAA2EJ2tnJCAAAWjHa2ckIAAFTVdrZyQgAAkh53tnJCAADQZ3e2ckIAAA6xd7ZyQgAATPp3tnJCAACKQ3i2ckIAAMiMeLZyQgAABtZ4tnJCAABEH3m2ckIAAIJoebZyQgAAwLF5tnJCAAD++nm2ckIAADxEerZyQgAAeo16tnJCAAC41nq2ckIAAPYfe7ZyQgAANGl7tnJCAABysnu2ckIAALD7e7ZyQgAA7kR8tnJCAAAsjny2ckIAAGrXfLZyQgAAqCB9tnJCAADmaX22ckIAACSzfbZyQgAAYvx9tnJCAACgRX62ckIAAN6OfrZyQgAAHNh+tnJCAABaIX+2ckIAAJhqf7ZyQgAA1rN/tnJCAAAU/X+2ckIAAFJGgLZyQgAAkI+AtnJCAADO2IC2ckIAAAwigbZyQgAASmuBtnJCAACItIG2ckIAAMb9gbZyQgAABEeCtnJCAABCkIK2ckIAAIDZgrZyQgAAviKDtnJCAAD8a4O2ckIAADq1g7ZyQgAAeP6DtnJCAAC2R4S2ckIAAPSQhLZyQgAAMtqEtnJCAABwI4W2ckIAAK5shbZyQgAA7LWFtnJCAAAq/4W2ckIAAGhIhrZyQgAAppGGtnJCAADk2oa2ckIAACIkh7ZyQgAAYG2HtnJCAACetoe2ckIAANz/h7ZyQgAAGkmItnJCAABYkoi2ckIAAJbbiLZyQgAA1CSJtnJCAAASbom2ckIAAFC3ibZyQgAAjgCKtnJCAADEbou2ckIAAAK4i7ZyQgAAQAGMtnJCAAB+Soy2ckIAALyTjLZyQgAA+tyMtnJCAAA4Jo22ckIAAHZvjbZyQgAAtLiNtnJCAADyAY62ckIAADBLjrZyQgAAbpSOtnJCAACs3Y62ckIAAOomj7ZyQgAAKHCPtnJCAABmuY+2ckIAAKQCkLZyQgAA4kuQtnJCAAAglZC2ckIAAF7ekLZyQgAAnCeRtnJCAADacJG2ckIAABi6kbZyQgAAVgOStnJCAACUTJK2ckIAANKVkrZyQgAAEN+StnJCAABOKJO2ckIAAIxxk7ZyQgAAyrqTtnJCAAAIBJS2ckIAAEZNlLZyQgAAhJaUtnJCAADC35S2ckIAAAAplbZyQgAAPnKVtnJCAAB8u5W2ckIAALoElrZyQgAA+E2WtnJCAAA2l5a2ckIAAHTglrZyQgAAsimXtnJCAADwcpe2ckIAAC68l7ZyQgAAbAWYtnJCAACqTpi2ckIAAOiXmLZyQgAAJuGYtnJCAABkKpm2ckIAAKJzmbZyQgAA4LyZtnJCAAAeBpq2ckIAAFxPmrZyQgAAmpiatnJCAADY4Zq2ckIAABYrm7ZyQgAAVHSbtnJCAACSvZu2ckIAANAGnLZyQgAADlCctnJCAABMmZy2ckIAAIrinLZyQgAAyCudtnJCAAAGdZ22ckIAAES+nbZyQgAAggeetnJCAADAUJ62ckIAAP6ZnrZyQgAAPOOetnJCAAB6LJ+2ckIAALh1n7ZyQgAA9r6ftnJCAAA0CKC2ckIAAHJRoLZyQgAAsJqgtnJCAADu46C2ckIAACwtobZyQgAAanahtnJCAACov6G2ckIAAOYIorZyQgAAJFKitnJCAABim6K2ckIAAKDkorZyQgAA3i2jtnJCAAAcd6O2ckIAAFrAo7ZyQgAAmAmktnJCAADWUqS2ckIAABScpLZyQgAAUuWktnJCAACQLqW2ckIAAM53pbZyQgAADMGltnJCAABKCqa2ckIAAIhTprZyQgAAxpymtnJCAAAE5qa2ckIAAEIvp7ZyQgAAgHintnJCAAC+wae2ckIAAPwKqLZyQgAAOlSotnJCAAB4nai2ckIAALbmqLZyQgAA9C+ptnJCAAAyeam2ckIAAHDCqbZyQgAArguqtnJCAADsVKq2ckIAACqeqrZyQgAAaOeqtnJCAACmMKu2ckIAAOR5q7ZyQgAAIsOrtnJCAABgDKy2ckIAAJ5VrLZyQgAA3J6stnJCAAAa6Ky2ckIAAFgxrbZyQgAAlnqttnJCAADUw622ckIAABINrrZyQgAAUFautnJCAACOn662ckIAAMzorrZyQgAACjKvtnJCAABIe6+2ckIAAIbEr7ZyQgAAxA2wtnJCAAACV7C2ckIAAECgsLZyQgAAfumwtnJCAAC8MrG2ckIAAPp7sbZyQgAAOMWxtnJCAAB2DrK2ckIAALRXsrZyQgAA8qCytnJCAAAw6rK2ckIAAG4zs7ZyQgAArHyztnJCAADqxbO2ckIAACgPtLZyQgAAZli0tnJCAACkobS2ckIAAOLqtLZyQgAAIDS1tnJCAABefbW2ckIAAJzGtbZyQgAA2g+2tnJCAAAYWba2ckIAAFaitrZyQgAAlOu2tnJCAADSNLe2ckIAABB+t7ZyQgAATse3tnJCAACMELi2ckIAAMpZuLZyQgAACKO4tnJCAABG7Li2ckIAAIQ1ubZyQgAAwn65tnJCAAAAyLm2ckIAAD4RurZyQgAAfFq6tnJCAAC6o7q2ckIAAPjsurZyQgAANja7tnJCAAB0f7u2ckIAALLIu7ZyQgAA8BG8tnJCAAAuW7y2ckIAAGykvLZyQgAAqu28tnJCAADoNr22ckIAACaAvbZyQgAAZMm9tnJCAACiEr62ckIAAOBbvrZyQgAAHqW+tnJCAABc7r62ckIAAJo3v7ZyQgAA2IC/tnJCAAAWyr+2ckIAAFQTwLZyQgAAklzAtnJCAADQpcC2ckIAAA7vwLZyQgAATDjBtnJCAACKgcG2ckIAAMjKwbZyQgAABhTCtnJCAABEXcK2ckIAAIKmwrZyQgAAwO/CtnJCAAD+OMO2ckIAADyCw7ZyQgAAesvDtnJCAAC4FMS2ckIAAPZdxLZyQgAANKfEtnJCAABy8MS2ckIAALA5xbZyQgAA7oLFtnJCAAAszMW2ckIAAGoVxrZyQgAAqF7GtnJCAADmp8a2ckIAACTxxrZyQgAAYjrHtnJCAACgg8e2ckIAAN7Mx7ZyQgAAHBbItnJCAABaX8i2ckIAAJioyLZyQgAA1vHItnJCAAAUO8m2ckIAAFKEybZyQgAAkM3JtnJCAADOFsq2ckIAAAxgyrZyQgAASqnKtnJCAACI8sq2ckIAAMY7y7ZyQgAABIXLtnJCAABCzsu2ckIAAIAXzLZyQgAAvmDMtnJCAAD8qcy2ckIAADrzzLZyQgAAeDzNtnJCAAC2hc22ckIAAPTOzbZyQgAAMhjOtnJCAABwYc62ckIAAK6qzrZyQgAA7PPOtnJCAAAqPc+2ckIAAGiGz7ZyQgAAps/PtnJCAADkGNC2ckIAACJi0LZyQgAAYKvQtnJCAACe9NC2ckIAANw90bZyQgAAGofRtnJCAABY0NG2ckIAAJYZ0rZyQgAA1GLStnJCAAASrNK2ckIAAFD10rZyQgAAjj7TtnJCAADMh9O2ckIAAArR07ZyQgAASBrUtnJCAACGY9S2ckIAAMSs1LZyQgAAAvbUtnJCAABAP9W2ckIAAH6I1bZyQgAAvNHVtnJCAAD6Gta2ckIAADhk1rZyQgAAdq3WtnJCAAC09ta2ckIAAPI/17ZyQgAAMInXtnJCAABu0te2ckIAAKwb2LZyQgAA6mTYtnJCAAAorti2ckIAAGb32LZyQgAApEDZtnJCAADiidm2ckIAACDT2bZyQgAAXhzatnJCAACcZdq2ckIAANqu2rZyQgAAGPjatnJCAABWQdu2ckIAAJSK27ZyQgAA0tPbtnJCAAAQHdy2ckIAAE5m3LZyQgAAjK/ctnJCAADK+Ny2ckIAAAhC3bZyQgAARovdtnJCAACE1N22ckIAAMId3rZyQgAAAGfetnJCAAA+sN62ckIAAHz53rZyQgAAukLftnJCAAD4i9+2ckIAADbV37ZyQgAAdB7gtnJCAACyZ+C2ckIAAPCw4LZyQgAALvrgtnJCAABsQ+G2ckIAAKqM4bZyQgAA6NXhtnJCAAAmH+K2ckIAAGRo4rZyQgAAorHitnJCAADg+uK2ckIAAB5E47ZyQgAAXI3jtnJCAACa1uO2ckIAANgf5LZyQgAAFmnktnJCAABUsuS2ckIAAJL75LZyQgAA0ETltnJCAADap/C2ckIAABjx8LZyQgAAVjrxtnJCAACUg/G2ckIAANLM8bZyQgAAEBbytnJCAABOX/K2ckIAAIyo8rZyQgAAyvHytnJCAAAIO/O2ckIAAEaE87ZyQgAAhM3ztnJCAADCFvS2ckIAAABg9LZyQgAAPqn0tnJCAAB88vS2ckIAALo79bZyQgAA+IT1tnJCAAA2zvW2ckIAAHQX9rZyQgAAsmD2tnJCAADwqfa2ckIAAC7z9rZyQgAAbDz3tnJCAACqhfe2ckIAAOjO97ZyQgAAJhj4tnJCAABkYfi2ckIAAKKq+LZyQgAA4PP4tnJCAAAePfm2ckIAAFyG+bZyQgAAms/5tnJCAADYGPq2ckIAABZi+rZyQgAAVKv6tnJCAACS9Pq2ckIAANA9+7ZyQgAADof7tnJCAABM0Pu2ckIAAIoZ/LZyQgAAyGL8tnJCAAAGrPy2ckIAAET1/LZyQgAAgj79tnJCAADAh/22ckIAAP7Q/bZyQgAAPBr+tnJCAAB6Y/62ckIAALis/rZyQgAA9vX+tnJCAAA0P/+2ckIAAHKI/7ZyQgAAsNH/tnJCAADuGgC3ckIAACxkALdyQgAAaq0At3JCAACo9gC3ckIAAOY/AbdyQgAAJIkBt3JCAABi0gG3ckIAAKAbArdyQgAA3mQCt3JCAAAcrgK3ckIAAFr3ArdyQgAAmEADt3JCAADWiQO3ckIAABTTA7dyQgAAUhwEt3JCAACQZQS3ckIAAM6uBLdyQgAADPgEt3JCAABKQQW3ckIAAIiKBbdyQgAAxtMFt3JCAAAEHQa3ckIAAEJmBrdyQgAAgK8Gt3JCAAC++Aa3ckIAAPxBB7dyQgAAOosHt3JCAAB41Ae3ckIAALYdCLdyQgAA9GYIt3JCAAAysAi3ckIAAHD5CLdyQgAArkIJt3JCAADsiwm3ckIAACrVCbdyQgAAaB4Kt3JCAACmZwq3ckIAAOSwCrdyQgAAIvoKt3JCAABgQwu3ckIAAJ6MC7dyQgAA3NULt3JCAAAaHwy3ckIAAFhoDLdyQgAAlrEMt3JCAADU+gy3ckIAABJEDbdyQgAAUI0Nt3JCAACO1g23ckIAAMwfDrdyQgAACmkOt3JCAABIsg63ckIAAIb7DrdyQgAAxEQPt3JCAAACjg+3ckIAAEDXD7dyQgAAfiAQt3JCAAC8aRC3ckIAAPqyELdyQgAAOPwQt3JCAAB2RRG3ckIAALSOEbdyQgAA8tcRt3JCAAAwIRK3ckIAAG5qErdyQgAArLMSt3JCAADq/BK3ckIAAChGE7dyQgAAZo8Tt3JCAACk2BO3ckIAAOIhFLdyQgAAIGsUt3JCAABetBS3ckIAAJz9FLdyQgAA2kYVt3JCAAAYkBW3ckIAAFbZFbdyQgAAlCIWt3JCAADSaxa3ckIAABC1FrdyQgAATv4Wt3JCAACMRxe3ckIAAMqQF7dyQgAACNoXt3JCAABGIxi3ckIAAIRsGLdyQgAAwrUYt3JCAAAA/xi3ckIAAD5IGbdyQgAAfJEZt3JCAAC62hm3ckIAAPgjGrdyQgAANm0at3JCAAB0thq3ckIAALL/GrdyQgAA8Egbt3JCAAAukhu3ckIAAGzbG7dyQgAAqiQct3JCAADobRy3ckIAACa3HLdyQgAAZAAdt3JCAACiSR23ckIAAOCSHbdyQgAAHtwdt3JCAABcJR63ckIAAJpuHrdyQgAA2Lcet3JCAAAWAR+3ckIAAFRKH7dyQgAAkpMft3JCAADQ3B+3ckIAAA4mILdyQgAATG8gt3JCAACKuCC3ckIAAMgBIbdyQgAABksht3JCAABElCG3ckIAAILdIbdyQgAAwCYit3JCAAD+byK3ckIAADy5IrdyQgAAegIjt3JCAAC4SyO3ckIAAPaUI7dyQgAANN4jt3JCAAByJyS3ckIAALBwJLdyQgAA7rkkt3JCAAAsAyW3ckIAAGpMJbdyQgAAqJUlt3JCAADm3iW3ckIAACQoJrdyQgAAYnEmt3JCAACguia3ckIAAN4DJ7dyQgAAHE0nt3JCAABalie3ckIAAJjfJ7dyQgAA1igot3JCAAAUcii3ckIAAFK7KLdyQgAAkAQpt3JCAADOTSm3ckIAAAyXKbdyQgAASuApt3JCAACIKSq3ckIAAMZyKrdyQgAABLwqt3JCAABCBSu3ckIAAIBOK7dyQgAAvpcrt3JCAAD84Cu3ckIAADoqLLdyQgAAeHMst3JCAAC2vCy3ckIAAPQFLbdyQgAAMk8tt3JCAABwmC23ckIAAK7hLbdyQgAA7Cout3JCAAAqdC63ckIAAGi9LrdyQgAApgYvt3JCAADkTy+3ckIAACKZL7dyQgAAYOIvt3JCAACeKzC3ckIAANx0MLdyQgAAGr4wt3JCAABYBzG3ckIAAJZQMbdyQgAA1Jkxt3JCAAAS4zG3ckIAAFAsMrdyQgAAjnUyt3JCAADMvjK3ckIAAAoIM7dyQgAASFEzt3JCAACGmjO3ckIAAMTjM7dyQgAAAi00t3JCAABAdjS3ckIAAH6/NLdyQgAAvAg1t3JCAAD6UTW3ckIAADibNbdyQgAAduQ1t3JCAAC0LTa3ckIAAPJ2NrdyQgAAMMA2t3JCAABuCTe3ckIAAKxSN7dyQgAA6ps3t3JCAAAo5Te3ckIAAGYuOLdyQgAApHc4t3JCAADiwDi3ckIAACAKObdyQgAAXlM5t3JCAACcnDm3ckIAANrlObdyQgAAGC86t3JCAABWeDq3ckIAAJTBOrdyQgAA0go7t3JCAAAQVDu3ckIAAE6dO7dyQgAAjOY7t3JCAADKLzy3ckIAAAh5PLdyQgAARsI8t3JCAACECz23ckIAAMJUPbdyQgAAAJ49t3JCAAA+5z23ckIAAHwwPrdyQgAAunk+t3JCAAD4wj63ckIAADYMP7dyQgAAdFU/t3JCAACynj+3ckIAAPDnP7dyQgAALjFAt3JCAABsekC3ckIAAKrDQLdyQgAA6AxBt3JCAAAmVkG3ckIAAGSfQbdyQgAAouhBt3JCAADgMUK3ckIAAB57QrdyQgAAXMRCt3JCAACaDUO3ckIAANhWQ7dyQgAAFqBDt3JCAABU6UO3ckIAAJIyRLdyQgAA0HtEt3JCAAAOxUS3ckIAAEwORbdyQgAAildFt3JCAADIoEW3ckIAAAbqRbdyQgAARDNGt3JCAACCfEa3ckIAAMDFRrdyQgAA/g5Ht3JCAAA8WEe3ckIAAHqhR7dyQgAAuOpHt3JCAAD2M0i3ckIAADR9SLdyQgAAcsZIt3JCAACwD0m3ckIAAO5YSbdyQgAALKJJt3JCAABq60m3ckIAAKg0SrdyQgAA5n1Kt3JCAAAkx0q3ckIAAGIQS7dyQgAAoFlLt3JCAADeoku3ckIAABzsS7dyQgAAWjVMt3JCAACYfky3ckIAANbHTLdyQgAAFBFNt3JCAABSWk23ckIAAJCjTbdyQgAAzuxNt3JCAAAMNk63ckIAAEp/TrdyQgAAiMhOt3JCAADGEU+3ckIAAARbT7dyQgAAQqRPt3JCAACA7U+3ckIAAL42ULdyQgAA/H9Qt3JCAAA6yVC3ckIAAHgSUbdyQgAAtltRt3JCAAD0pFG3ckIAADLuUbdyQgAAcDdSt3JCAACugFK3ckIAAOzJUrdyQgAAKhNTt3JCAABoXFO3ckIAAKalU7dyQgAA5O5Tt3JCAAAiOFS3ckIAAGCBVLdyQgAAnspUt3JCAADcE1W3ckIAABpdVbdyQgAAWKZVt3JCAACW71W3ckIAANQ4VrdyQgAAEoJWt3JCAABQy1a3ckIAAI4UV7dyQgAAzF1Xt3JCAAAKp1e3ckIAAEjwV7dyQgAAhjlYt3JCAADEgli3ckIAAALMWLdyQgAAQBVZt3JCAAB+Xlm3ckIAALynWbdyQgAA+vBZt3JCAAA4Olq3ckIAAHaDWrdyQgAAtMxat3JCAADyFVu3ckIAADBfW7dyQgAAbqhbt3JCAACs8Vu3ckIAAOo6XLdyQgAAKIRct3JCAABmzVy3ckIAAKQWXbdyQgAA4l9dt3JCAAAgqV23ckIAAF7yXbdyQgAAnDtet3JCAADahF63ckIAABjOXrdyQgAAVhdft3JCAACUYF+3ckIAANKpX7dyQgAAEPNft3JCAABOPGC3ckIAAIyFYLdyQgAAys5gt3JCAAAIGGG3ckIAAEZhYbdyQgAAhKpht3JCAADC82G3ckIAAAA9YrdyQgAAPoZit3JCAAB8z2K3ckIAALoYY7dyQgAA+GFjt3JCAAA2q2O3ckIAAHT0Y7dyQgAAsj1kt3JCAADwhmS3ckIAAC7QZLdyQgAAbBllt3JCAACqYmW3ckIAAOirZbdyQgAAJvVlt3JCAABkPma3ckIAAKKHZrdyQgAA4NBmt3JCAAAeGme3ckIAAFxjZ7dyQgAAmqxnt3JCAADY9We3ckIAABY/aLdyQgAAVIhot3JCAACS0Wi3ckIAANAaabdyQgAADmRpt3JCAABMrWm3ckIAAIr2abdyQgAAyD9qt3JCAAAGiWq3ckIAAETSardyQgAAghtrt3JCAADAZGu3ckIAAP6ta7dyQgAAPPdrt3JCAAB6QGy3ckIAALiJbLdyQgAA9tJst3JCAAA0HG23ckIAAHJlbbdyQgAAsK5tt3JCAADu9223ckIAACxBbrdyQgAAaoput3JCAACo0263ckIAAOYcb7dyQgAAJGZvt3JCAABir2+3ckIAAKD4b7dyQgAA3kFwt3JCAAAci3C3ckIAAFrUcLdyQgAAmB1xt3JCAADWZnG3ckIAABSwcbdyQgAAUvlxt3JCAACQQnK3ckIAAM6LcrdyQgAADNVyt3JCAABKHnO3ckIAAIhnc7dyQgAAxrBzt3JCAAAE+nO3ckIAAEJDdLdyQgAAgIx0t3JCAAC+1XS3ckIAAPwedbdyQgAAOmh1t3JCAAB4sXW3ckIAALb6dbdyQgAA9EN2t3JCAAAyjXa3ckIAAHDWdrdyQgAArh93t3JCAADsaHe3ckIAACqyd7dyQgAAaPt3t3JCAACmRHi3ckIAAOSNeLdyQgAAItd4t3JCAABgIHm3ckIAAJ5pebdyQgAA3LJ5t3JCAAAa/Hm3ckIAAFhFerdyQgAAlo56t3JCAADU13q3ckIAABIhe7dyQgAAUGp7t3JCAACOs3u3ckIAAMz8e7dyQgAACkZ8t3JCAABIj3y3ckIAAIbYfLdyQgAAxCF9t3JCAAACa323ckIAAEC0fbdyQgAAfv19t3JCAAC8Rn63ckIAAPqPfrdyQgAAONl+t3JCAAB2In+3ckIAALRrf7dyQgAA8rR/t3JCAAAw/n+3ckIAAG5HgLdyQgAArJCAt3JCAADq2YC3ckIAACgjgbdyQgAAZmyBt3JCAACktYG3ckIAAOL+gbdyQgAAIEiCt3JCAABekYK3ckIAAJzagrdyQgAA2iODt3JCAAAYbYO3ckIAAFa2g7dyQgAAlP+Dt3JCAADSSIS3ckIAABCShLdyQgAATtuEt3JCAACMJIW3ckIAAMpthbdyQgAACLeFt3JCAABGAIa3ckIAAIRJhrdyQgAAwpKGt3JCAAAA3Ia3ckIAAD4lh7dyQgAAfG6Ht3JCAAC6t4e3ckIAAPgAiLdyQgAANkqIt3JCAAB0k4i3ckIAALLciLdyQgAA8CWJt3JCAAAub4m3ckIAAGy4ibdyQgAAqgGKt3JCAADoSoq3ckIAACaUirdyQgAAZN2Kt3JCAACiJou3ckIAAOBvi7dyQgAAHrmLt3JCAABcAoy3ckIAAJpLjLdyQgAA2JSMt3JCAAAW3oy3ckIAAFQnjbdyQgAAknCNt3JCAADQuY23ckIAAA4DjrdyQgAATEyOt3JCAACKlY63ckIAAMjejrdyQgAABiiPt3JCAABEcY+3ckIAAIK6j7dyQgAAwAOQt3JCAAD+TJC3ckIAADyWkLdyQgAAet+Qt3JCAAC4KJG3ckIAAPZxkbdyQgAANLuRt3JCAAByBJK3ckIAALBNkrdyQgAA7paSt3JCAAAs4JK3ckIAAGopk7dyQgAAqHKTt3JCAADmu5O3ckIAACQFlLdyQgAAYk6Ut3JCAACgl5S3ckIAAN7glLdyQgAAHCqVt3JCAABac5W3ckIAAJi8lbdyQgAA1gWWt3JCAAAUT5a3ckIAAFKYlrdyQgAAkOGWt3JCAADOKpe3ckIAAAx0l7dyQgAASr2Xt3JCAACIBpi3ckIAAMZPmLdyQgAABJmYt3JCAABC4pi3ckIAAIArmbdyQgAAvnSZt3JCAAD8vZm3ckIAADoHmrdyQgAAeFCat3JCAAC2mZq3ckIAAPTimrdyQgAAMiybt3JCAABwdZu3ckIAAK6+m7dyQgAA7Aect3JCAAAqUZy3ckIAAGianLdyQgAApuOct3JCAADkLJ23ckIAACJ2nbdyQgAAYL+dt3JCAACeCJ63ckIAANxRnrdyQgAAGpuet3JCAABY5J63ckIAAJYtn7dyQgAA1Haft3JCAAASwJ+3ckIAAFAJoLdyQgAAjlKgt3JCAADMm6C3ckIAAArloLdyQgAASC6ht3JCAACGd6G3ckIAAMTAobdyQgAAAgqit3JCAABAU6K3ckIAAH6cordyQgAAvOWit3JCAAD6LqO3ckIAADh4o7dyQgAAdsGjt3JCAAC0CqS3ckIAAPJTpLdyQgAAMJ2kt3JCAABu5qS3ckIAAKwvpbdyQgAA6nilt3JCAAAowqW3ckIAAGYLprdyQgAApFSmt3JCAADinaa3ckIAACDnprdyQgAAXjCnt3JCAACceae3ckIAANrCp7dyQgAAGAyot3JCAABWVai3ckIAAJSeqLdyQgAA0ueot3JCAAAQMam3ckIAAE56qbdyQgAAjMOpt3JCAADKDKq3ckIAAAhWqrdyQgAARp+qt3JCAACE6Kq3ckIAAMIxq7dyQgAAAHurt3JCAAA+xKu3ckIAAHwNrLdyQgAAulast3JCAAD4n6y3ckIAADbprLdyQgAAdDKtt3JCAACye623ckIAAPDErbdyQgAALg6ut3JCAABsV663ckIAAKqgrrdyQgAA6Omut3JCAAAmM6+3ckIAAGR8r7dyQgAAosWvt3JCAADgDrC3ckIAAB5YsLdyQgAAXKGwt3JCAACa6rC3ckIAANgzsbdyQgAAFn2xt3JCAABUxrG3ckIAAJIPsrdyQgAA0Fiyt3JCAAAOorK3ckIAAEzrsrdyQgAAijSzt3JCAADIfbO3ckIAAAbHs7dyQgAARBC0t3JCAACCWbS3ckIAAMCitLdyQgAA/uu0t3JCAAA8NbW3ckIAAHp+tbdyQgAAuMe1t3JCAAD2ELa3ckIAADRatrdyQgAAcqO2t3JCAACw7La3ckIAAO41t7dyQgAALH+3t3JCAABqyLe3ckIAAKgRuLdyQgAA5lq4t3JCAAAkpLi3ckIAAGLtuLdyQgAAoDa5t3JCAADef7m3ckIAABzJubdyQgAAWhK6t3JCAACYW7q3ckIAANakurdyQgAAFO66t3JCAABSN7u3ckIAAJCAu7dyQgAAzsm7t3JCAAAME7y3ckIAAEpcvLdyQgAAiKW8t3JCAADG7ry3ckIAAAQ4vbdyQgAAQoG9t3JCAACAyr23ckIAAL4TvrdyQgAA/Fy+t3JCAAA6pr63ckIAAHjvvrdyQgAAtji/t3JCAAD0gb+3ckIAADLLv7dyQgAAcBTAt3JCAACuXcC3ckIAAOymwLdyQgAAKvDAt3JCAABoOcG3ckIAAKaCwbdyQgAA5MvBt3JCAAAiFcK3ckIAAGBewrdyQgAAnqfCt3JCAADc8MK3ckIAABo6w7dyQgAAWIPDt3JCAACWzMO3ckIAANQVxLdyQgAAEl/Et3JCAABQqMS3ckIAAI7xxLdyQgAAzDrFt3JCAAAKhMW3ckIAAEjNxbdyQgAAhhbGt3JCAADEX8a3ckIAAAKpxrdyQgAAQPLGt3JCAAB+O8e3ckIAALyEx7dyQgAA+s3Ht3JCAAA4F8i3ckIAAHZgyLdyQgAAtKnIt3JCAADy8si3ckIAADA8ybdyQgAAboXJt3JCAACszsm3ckIAAOoXyrdyQgAAKGHKt3JCAABmqsq3ckIAAKTzyrdyQgAA4jzLt3JCAAAghsu3ckIAAF7Py7dyQgAAnBjMt3JCAADaYcy3ckIAABirzLdyQgAAVvTMt3JCAACUPc23ckIAANKGzbdyQgAAENDNt3JCAABOGc63ckIAAIxizrdyQgAAyqvOt3JCAAAI9c63ckIAAEY+z7dyQgAAhIfPt3JCAADC0M+3ckIAAAAa0LdyQgAAPmPQt3JCAAB8rNC3ckIAALr10LdyQgAA+D7Rt3JCAAA2iNG3ckIAAHTR0bdyQgAAshrSt3JCAADwY9K3ckIAAC6t0rdyQgAAbPbSt3JCAACqP9O3ckIAAOiI07dyQgAAJtLTt3JCAABkG9S3ckIAAKJk1LdyQgAA4K3Ut3JCAAAe99S3ckIAAFxA1bdyQgAAmonVt3JCAADY0tW3ckIAABYc1rdyQgAAVGXWt3JCAACSrta3ckIAAND31rdyQgAADkHXt3JCAABMite3ckIAAIrT17dyQgAAyBzYt3JCAAAGZti3ckIAAESv2LdyQgAAgvjYt3JCAADAQdm3ckIAAP6K2bdyQgAAPNTZt3JCAAB6Hdq3ckIAALhm2rdyQgAA9q/at3JCAAA0+dq3ckIAAHJC27dyQgAAsIvbt3JCAADu1Nu3ckIAACwe3LdyQgAAamfct3JCAACosNy3ckIAAOb53LdyQgAAJEPdt3JCAABijN23ckIAAKDV3bdyQgAA3h7et3JCAAAcaN63ckIAAFqx3rdyQgAAmPret3JCAADWQ9+3ckIAABSN37dyQgAAUtbft3JCAACQH+C3ckIAAM5o4LdyQgAADLLgt3JCAABK++C3ckIAAIhE4bdyQgAAxo3ht3JCAAAE1+G3ckIAAEIg4rdyQgAAgGnit3JCAAC+suK3ckIAAPz74rdyQgAAOkXjt3JCAAB4juO3ckIAALbX47dyQgAArvzkt3JCAADsReW3ckIAACqP5bdyQgAAaNjlt3JCAACmIea3ckIAAORq5rdyQgAAIrTmt3JCAABg/ea3ckIAAJ5G57dyQgAA3I/nt3JCAAAa2ee3ckIAAFgi6LdyQgAAlmvot3JCAADUtOi3ckIAABL+6LdyQgAAUEfpt3JCAACOkOm3ckIAAMzZ6bdyQgAACiPqt3JCAABIbOq3ckIAAIa16rdyQgAAxP7qt3JCAAACSOu3ckIAAECR67dyQgAAftrrt3JCAAC8I+y3ckIAAPps7LdyQgAAOLbst3JCAAB2/+y3ckIAALRI7bdyQgAA8pHtt3JCAAAw2+23ckIAAG4k7rdyQgAArG3ut3JCAADqtu63ckIAACgA77dyQgAAZknvt3JCAACkku+3ckIAAOLb77dyQgAAICXwt3JCAABebvC3ckIAAJy38LdyQgAA2gDxt3JCAAAYSvG3ckIAAFaT8bdyQgAAlNzxt3JCAADSJfK3ckIAABBv8rdyQgAATrjyt3JCAACMAfO3ckIAAMpK87dyQgAACJTzt3JCAABG3fO3ckIAAIQm9LdyQgAAwm/0t3JCAAAAufS3ckIAAD4C9bdyQgAAfEv1t3JCAAC6lPW3ckIAAPjd9bdyQgAANif2t3JCAAB0cPa3ckIAALK59rdyQgAA8AL3t3JCAAAuTPe3ckIAAGyV97dyQgAAqt73t3JCAADoJ/i3ckIAACZx+LdyQgAAZLr4t3JCAACiA/m3ckIAAOBM+bdyQgAAHpb5t3JCAABc3/m3ckIAAJoo+rdyQgAA2HH6t3JCAAAWu/q3ckIAAFQE+7dyQgAAkk37t3JCAADQlvu3ckIAAA7g+7dyQgAATCn8t3JCAACKcvy3ckIAAMi7/LdyQgAABgX9t3JCAABETv23ckIAAIKX/bdyQgAAwOD9t3JCAAD+Kf63ckIAADxz/rdyQgAAerz+t3JCAAC4Bf+3ckIAAPZO/7dyQgAANJj/t3JCAABy4f+3ckIAALAqALhyQgAA7nMAuHJCAAAsvQC4ckIAAGoGAbhyQgAAqE8BuHJCAADmmAG4ckIAACTiAbhyQgAAYisCuHJCAACgdAK4ckIAAN69ArhyQgAAHAcDuHJCAABaUAO4ckIAAJiZA7hyQgAA1uIDuHJCAAAULAS4ckIAAFJ1BLhyQgAAkL4EuHJCAADOBwW4ckIAAAxRBbhyQgAASpoFuHJCAACI4wW4ckIAAMYsBrhyQgAABHYGuHJCAABCvwa4ckIAAIAIB7hyQgAAvlEHuHJCAAD8mge4ckIAADrkB7hyQgAAeC0IuHJCAAC2dgi4ckIAAPS/CLhyQgAAMgkJuHJCAABwUgm4ckIAAK6bCbhyQgAA7OQJuHJCAAAqLgq4ckIAAGh3CrhyQgAApsAKuHJCAADkCQu4ckIAACJTC7hyQgAAYJwLuHJCAACe5Qu4ckIAANwuDLhyQgAAGngMuHJCAABYwQy4ckIAAJYKDbhyQgAA1FMNuHJCAAASnQ24ckIAAFDmDbhyQgAAji8OuHJCAADMeA64ckIAAArCDrhyQgAASAsPuHJCAACGVA+4ckIAAMSdD7hyQgAAAucPuHJCAABAMBC4ckIAAH55ELhyQgAAvMIQuHJCAAD6CxG4ckIAADhVEbhyQgAAdp4RuHJCAAC05xG4ckIAAPIwErhyQgAAMHoSuHJCAABuwxK4ckIAAKwME7hyQgAA6lUTuHJCAAAonxO4ckIAAGboE7hyQgAApDEUuHJCAADiehS4ckIAACDEFLhyQgAAXg0VuHJCAACcVhW4ckIAANqfFbhyQgAAGOkVuHJCAABWMha4ckIAAJR7FrhyQgAA0sQWuHJCAAAQDhe4ckIAAE5XF7hyQgAAjKAXuHJCAADK6Re4ckIAAAgzGLhyQgAARnwYuHJCAACExRi4ckIAAMIOGbhyQgAAAFgZuHJCAAA+oRm4ckIAAHzqGbhyQgAAujMauHJCAAD4fBq4ckIAADbGGrhyQgAAdA8buHJCAACyWBu4ckIAAPChG7hyQgAALusbuHJCAABsNBy4ckIAAKp9HLhyQgAA6MYcuHJCAAAmEB24ckIAAGRZHbhyQgAAoqIduHJCAADg6x24ckIAAB41HrhyQgAAXH4euHJCAACaxx64ckIAANgQH7hyQgAAFlofuHJCAABUox+4ckIAAJLsH7hyQgAA0DUguHJCAAAOfyC4ckIAAEzIILhyQgAAihEhuHJCAADIWiG4ckIAAAakIbhyQgAARO0huHJCAACCNiK4ckIAAMB/IrhyQgAA/sgiuHJCAAA8EiO4ckIAAHpbI7hyQgAAuKQjuHJCAAD27SO4ckIAADQ3JLhyQgAAcoAkuHJCAACwySS4ckIAAO4SJbhyQgAALFwluHJCAABqpSW4ckIAAKjuJbhyQgAA5jcmuHJCAAAkgSa4ckIAAGLKJrhyQgAAoBMnuHJCAADeXCe4ckIAABymJ7hyQgAAWu8nuHJCAACYOCi4ckIAANaBKLhyQgAAFMsouHJCAABSFCm4ckIAAJBdKbhyQgAAzqYpuHJCAAAM8Cm4ckIAAEo5KrhyQgAAiIIquHJCAADGyyq4ckIAAAQVK7hyQgAAQl4ruHJCAACApyu4ckIAAL7wK7hyQgAA/DksuHJCAAA6gyy4ckIAAHjMLLhyQgAAthUtuHJCAAD0Xi24ckIAADKoLbhyQgAAcPEtuHJCAACuOi64ckIAAOyDLrhyQgAAKs0uuHJCAABoFi+4ckIAAKZfL7hyQgAA5KgvuHJCAAAi8i+4ckIAAGA7MLhyQgAAnoQwuHJCAADczTC4ckIAABoXMbhyQgAAWGAxuHJCAACWqTG4ckIAANTyMbhyQgAAEjwyuHJCAABQhTK4ckIAAI7OMrhyQgAAzBczuHJCAAAKYTO4ckIAAEiqM7hyQgAAhvMzuHJCAADEPDS4ckIAAAKGNLhyQgAAQM80uHJCAAB+GDW4ckIAALxhNbhyQgAA+qo1uHJCAAA49DW4ckIAAHY9NrhyQgAAtIY2uHJCAADyzza4ckIAADAZN7hyQgAAbmI3uHJCAACsqze4ckIAAOr0N7hyQgAAKD44uHJCAABmhzi4ckIAAKTQOLhyQgAA4hk5uHJCAAAgYzm4ckIAAF6sObhyQgAAnPU5uHJCAADaPjq4ckIAABiIOrhyQgAAVtE6uHJCAACUGju4ckIAANJjO7hyQgAAEK07uHJCAABO9ju4ckIAAIw/PLhyQgAAyog8uHJCAAAI0jy4ckIAAEYbPbhyQgAAhGQ9uHJCAADCrT24ckIAAAD3PbhyQgAAPkA+uHJCAAB8iT64ckIAALrSPrhyQgAA+Bs/uHJCAAA2ZT+4ckIAAHSuP7hyQgAAsvc/uHJCAADwQEC4ckIAAC6KQLhyQgAAbNNAuHJCAACqHEG4ckIAAOhlQbhyQgAAJq9BuHJCAABk+EG4ckIAAKJBQrhyQgAA4IpCuHJCAAAe1EK4ckIAAFwdQ7hyQgAAmmZDuHJCAADYr0O4ckIAABb5Q7hyQgAAVEJEuHJCAACSi0S4ckIAANDURLhyQgAADh5FuHJCAABMZ0W4ckIAAIqwRbhyQgAAyPlFuHJCAAAGQ0a4ckIAAESMRrhyQgAAgtVGuHJCAADAHke4ckIAAP5nR7hyQgAAPLFHuHJCAAB6+ke4ckIAALhDSLhyQgAA9oxIuHJCAAA01ki4ckIAAHIfSbhyQgAAsGhJuHJCAADusUm4ckIAACz7SbhyQgAAakRKuHJCAACojUq4ckIAAObWSrhyQgAAJCBLuHJCAABiaUu4ckIAAKCyS7hyQgAA3vtLuHJCAAAcRUy4ckIAAFqOTLhyQgAAmNdMuHJCAADWIE24ckIAABRqTbhyQgAAUrNNuHJCAACQ/E24ckIAAM5FTrhyQgAADI9OuHJCAABK2E64ckIAAIghT7hyQgAAxmpPuHJCAAAEtE+4ckIAAEL9T7hyQgAAgEZQuHJCAAC+j1C4ckIAAPzYULhyQgAAOiJRuHJCAAB4a1G4ckIAALa0UbhyQgAA9P1RuHJCAAAyR1K4ckIAAHCQUrhyQgAArtlSuHJCAADsIlO4ckIAACpsU7hyQgAAaLVTuHJCAACm/lO4ckIAAORHVLhyQgAAIpFUuHJCAABg2lS4ckIAAJ4jVbhyQgAA3GxVuHJCAAAatlW4ckIAAFj/VbhyQgAAlkhWuHJCAADUkVa4ckIAABLbVrhyQgAAUCRXuHJCAACObVe4ckIAAMy2V7hyQgAACgBYuHJCAABISVi4ckIAAIaSWLhyQgAAxNtYuHJCAAACJVm4ckIAAEBuWbhyQgAAfrdZuHJCAAC8AFq4ckIAAPpJWrhyQgAAOJNauHJCAAB23Fq4ckIAALQlW7hyQgAA8m5buHJCAAAwuFu4ckIAAG4BXLhyQgAArEpcuHJCAADqk1y4ckIAACjdXLhyQgAAZiZduHJCAACkb124ckIAAOK4XbhyQgAAIAJeuHJCAABeS164ckIAAJyUXrhyQgAA2t1euHJCAAAYJ1+4ckIAAFZwX7hyQgAAlLlfuHJCAADSAmC4ckIAABBMYLhyQgAATpVguHJCAACM3mC4ckIAAMonYbhyQgAACHFhuHJCAABGumG4ckIAAIQDYrhyQgAAwkxiuHJCAAAAlmK4ckIAAD7fYrhyQgAAfChjuHJCAAC6cWO4ckIAAPi6Y7hyQgAANgRkuHJCAAB0TWS4ckIAALKWZLhyQgAA8N9kuHJCAAAuKWW4ckIAAGxyZbhyQgAAqrtluHJCAADoBGa4ckIAACZOZrhyQgAAZJdmuHJCAACi4Ga4ckIAAOApZ7hyQgAAHnNnuHJCAABcvGe4ckIAAJoFaLhyQgAA2E5ouHJCAAAWmGi4ckIAAFThaLhyQgAAkippuHJCAADQc2m4ckIAAA69abhyQgAATAZquHJCAACKT2q4ckIAAMiYarhyQgAABuJquHJCAABEK2u4ckIAAIJ0a7hyQgAAwL1ruHJCAAD+Bmy4ckIAADxQbLhyQgAAeplsuHJCAAC44my4ckIAAPYrbbhyQgAANHVtuHJCAAByvm24ckIAALAHbrhyQgAA7lBuuHJCAAAsmm64ckIAAGrjbrhyQgAAqCxvuHJCAADmdW+4ckIAACS/b7hyQgAAYghwuHJCAACgUXC4ckIAAN6acLhyQgAAHORwuHJCAABaLXG4ckIAAJh2cbhyQgAA1r9xuHJCAAAUCXK4ckIAAFJScrhyQgAAkJtyuHJCAADO5HK4ckIAAAwuc7hyQgAASndzuHJCAACIwHO4ckIAAMYJdLhyQgAABFN0uHJCAABCnHS4ckIAAIDldLhyQgAAvi51uHJCAAD8d3W4ckIAADrBdbhyQgAAeAp2uHJCAAC2U3a4ckIAAPScdrhyQgAAMuZ2uHJCAABwL3e4ckIAAK54d7hyQgAA7MF3uHJCAAAqC3i4ckIAAGhUeLhyQgAApp14uHJCAADk5ni4ckIAACIwebhyQgAAYHl5uHJCAACewnm4ckIAANwLerhyQgAAGlV6uHJCAABYnnq4ckIAAJbnerhyQgAA1DB7uHJCAAASenu4ckIAAFDDe7hyQgAAjgx8uHJCAADMVXy4ckIAAAqffLhyQgAASOh8uHJCAACGMX24ckIAAMR6fbhyQgAAAsR9uHJCAABADX64ckIAAH5WfrhyQgAAvJ9+uHJCAAD66H64ckIAADgyf7hyQgAAdnt/uHJCAAC0xH+4ckIAAPINgLhyQgAAMFeAuHJCAABuoIC4ckIAAKzpgLhyQgAA6jKBuHJCAAAofIG4ckIAAGbFgbhyQgAApA6CuHJCAADiV4K4ckIAACChgrhyQgAAXuqCuHJCAACcM4O4ckIAANp8g7hyQgAAGMaDuHJCAABWD4S4ckIAAJRYhLhyQgAA0qGEuHJCAAAQ64S4ckIAAE40hbhyQgAAjH2FuHJCAADKxoW4ckIAAAgQhrhyQgAARlmGuHJCAACEooa4ckIAAMLrhrhyQgAAADWHuHJCAAA+foe4ckIAAHzHh7hyQgAAuhCIuHJCAAD4WYi4ckIAADajiLhyQgAAdOyIuHJCAACyNYm4ckIAAPB+ibhyQgAALsiJuHJCAABsEYq4ckIAAKpairhyQgAA6KOKuHJCAAAm7Yq4ckIAAGQ2i7hyQgAAon+LuHJCAADgyIu4ckIAAB4SjLhyQgAAXFuMuHJCAACapIy4ckIAANjtjLhyQgAAFjeNuHJCAABUgI24ckIAAJLJjbhyQgAA0BKOuHJCAAAOXI64ckIAAEyljrhyQgAAiu6OuHJCAADIN4+4ckIAAAaBj7hyQgAARMqPuHJCAACCE5C4ckIAAMBckLhyQgAA/qWQuHJCAAA875C4ckIAAHo4kbhyQgAAuIGRuHJCAAD2ypG4ckIAADQUkrhyQgAAcl2SuHJCAACwppK4ckIAAO7vkrhyQgAALDmTuHJCAABqgpO4ckIAAKjLk7hyQgAA5hSUuHJCAAAkXpS4ckIAAGKnlLhyQgAAoPCUuHJCAADeOZW4ckIAAByDlbhyQgAAWsyVuHJCAACYFZa4ckIAANZelrhyQgAAFKiWuHJCAABS8Za4ckIAAJA6l7hyQgAAzoOXuHJCAAAMzZe4ckIAAEoWmLhyQgAAiF+YuHJCAADGqJi4ckIAAATymLhyQgAAQjuZuHJCAACAhJm4ckIAAL7NmbhyQgAA/BaauHJCAAA6YJq4ckIAAHipmrhyQgAAtvKauHJCAAD0O5u4ckIAADKFm7hyQgAAcM6buHJCAACuF5y4ckIAAOxgnLhyQgAAKqqcuHJCAABo85y4ckIAAKY8nbhyQgAA5IWduHJCAAAiz524ckIAAGAYnrhyQgAAnmGeuHJCAADcqp64ckIAABr0nrhyQgAAWD2fuHJCAACWhp+4ckIAANTPn7hyQgAAEhmguHJCAABQYqC4ckIAAI6roLhyQgAAzPSguHJCAAAKPqG4ckIAAEiHobhyQgAAhtChuHJCAADEGaK4ckIAAAJjorhyQgAAQKyiuHJCAAB+9aK4ckIAALw+o7hyQgAA+oejuHJCAAA40aO4ckIAAHYapLhyQgAAtGOkuHJCAADyrKS4ckIAADD2pLhyQgAAbj+luHJCAACsiKW4ckIAAOrRpbhyQgAAKBumuHJCAABmZKa4ckIAAKStprhyQgAA4vamuHJCAAAgQKe4ckIAAF6Jp7hyQgAAnNKnuHJCAADaG6i4ckIAABhlqLhyQgAAVq6ouHJCAACU96i4ckIAANJAqbhyQgAAEIqpuHJCAABO06m4ckIAAIwcqrhyQgAAymWquHJCAABgEbS4ckIAAJ5atLhyQgAA3KO0uHJCAAAa7bS4ckIAAFg2tbhyQgAAln+1uHJCAADUyLW4ckIAABIStrhyQgAAUFu2uHJCAACOpLa4ckIAAMzttrhyQgAACje3uHJCAABIgLe4ckIAAIbJt7hyQgAAxBK4uHJCAAACXLi4ckIAAECluLhyQgAAfu64uHJCAAC8N7m4ckIAAPqAubhyQgAAOMq5uHJCAAB2E7q4ckIAALRcurhyQgAA8qW6uHJCAAAw77q4ckIAAG44u7hyQgAArIG7uHJCAADqyru4ckIAACgUvLhyQgAAZl28uHJCAACkpry4ckIAAOLvvLhyQgAAIDm9uHJCAABegr24ckIAAJzLvbhyQgAA2hS+uHJCAAAYXr64ckIAAFanvrhyQgAAlPC+uHJCAADSOb+4ckIAABCDv7hyQgAATsy/uHJCAACMFcC4ckIAAMpewLhyQgAACKjAuHJCAABG8cC4ckIAAIQ6wbhyQgAAwoPBuHJCAAAAzcG4ckIAAD4WwrhyQgAAfF/CuHJCAAC6qMK4ckIAAPjxwrhyQgAANjvDuHJCAAB0hMO4ckIAALLNw7hyQgAA8BbEuHJCAAAuYMS4ckIAAGypxLhyQgAAqvLEuHJCAADoO8W4ckIAACaFxbhyQgAAZM7FuHJCAACiF8a4ckIAAOBgxrhyQgAAHqrGuHJCAABc88a4ckIAAJo8x7hyQgAA2IXHuHJCAAAWz8e4ckIAAFQYyLhyQgAAkmHIuHJCAADQqsi4ckIAAA70yLhyQgAATD3JuHJCAACKhsm4ckIAAMjPybhyQgAABhnKuHJCAABEYsq4ckIAAIKryrhyQgAAwPTKuHJCAAD+Pcu4ckIAADyHy7hyQgAAetDLuHJCAAC4Gcy4ckIAAPZizLhyQgAANKzMuHJCAABy9cy4ckIAALA+zbhyQgAA7ofNuHJCAAAs0c24ckIAAGoazrhyQgAAqGPOuHJCAADmrM64ckIAACT2zrhyQgAAYj/PuHJCAACgiM+4ckIAAN7Rz7hyQgAAHBvQuHJCAABaZNC4ckIAAJit0LhyQgAA1vbQuHJCAAAUQNG4ckIAAFKJ0bhyQgAAkNLRuHJCAADOG9K4ckIAAAxl0rhyQgAASq7SuHJCAACI99K4ckIAAMZA07hyQgAABIrTuHJCAAB4QdW4ckIAALaK1bhyQgAA9NPVuHJCAAAyHda4ckIAAHBm1rhyQgAArq/WuHJCAADs+Na4ckIAACpC17hyQgAAaIvXuHJCAACm1Ne4ckIAAOQd2LhyQgAAImfYuHJCAABgsNi4ckIAAJ752LhyQgAA3ELZuHJCAAAajNm4ckIAAFjV2bhyQgAAlh7auHJCAADUZ9q4ckIAABKx2rhyQgAAUPrauHJCAACOQ9u4ckIAAMyM27hyQgAACtbbuHJCAABIH9y4ckIAAIZo3LhyQgAAxLHcuHJCAAAC+9y4ckIAAEBE3bhyQgAAfo3duHJCAAC81t24ckIAAPof3rhyQgAAOGneuHJCAAB2st64ckIAALT73rhyQgAA8kTfuHJCAAAwjt+4ckIAAG7X37hyQgAArCDguHJCAADqaeC4ckIAACiz4LhyQgAAZvzguHJCAACkReG4ckIAAOKO4bhyQgAAINjhuHJCAABeIeK4ckIAAJxq4rhyQgAA2rPiuHJCAAAY/eK4ckIAAFZG47hyQgAAlI/juHJCAADS2OO4ckIAABAi5LhyQgAATmvkuHJC\",\"dtype\":\"float64\",\"shape\":[2217]},\"y\":[92,100,108,115,120,124,128,133,137,142,147,152,157,162,167,171,175,179,185,192,200,207,212,215,217,219,218,219,217,216,216,216,215,214,212,211,209,207,204,203,203,203,203,204,203,202,201,200,199,199,197,193,189,185,182,182,183,184,184,182,177,174,172,170,168,167,166,164,162,160,158,155,152,150,147,140,131,124,120,116,114,114,116,118,119,120,120,120,119,117,114,112,112,111,111,112,111,111,110,108,106,106,106,106,104,101,101,103,102,100,99,100,100,99,99,99,100,99,98,97,97,96,92,90,89,86,85,85,84,84,81,80,81,86,99,115,125,130,129,128,123,118,113,111,112,111,109,108,105,101,100,102,107,113,119,125,129,131,129,128,127,127,127,125,122,117,113,108,103,98,93,89,86,85,83,82,81,82,84,87,92,99,107,121,133,142,146,149,150,151,151,152,152,150,148,161,160,158,157,157,157,156,153,149,147,145,144,145,149,154,159,163,164,164,164,163,162,158,154,153,154,155,157,159,158,156,152,148,144,139,134,128,123,121,119,117,115,115,112,109,106,105,103,101,97,93,89,86,85,88,93,100,106,113,119,125,131,137,142,149,159,172,186,197,204,207,208,207,205,202,199,197,193,185,176,178,177,177,176,173,171,170,169,167,166,165,163,163,162,160,156,150,150,150,151,150,150,150,149,149,148,149,147,145,143,139,141,145,147,147,146,145,141,138,136,135,134,133,132,129,124,120,118,112,114,119,123,125,126,127,128,135,143,148,151,153,154,155,156,156,157,157,156,155,154,147,137,131,128,129,131,132,133,135,135,133,131,132,135,138,139,138,136,132,128,126,125,120,113,108,106,105,108,111,113,116,120,120,120,119,118,118,118,118,117,116,113,106,98,93,97,107,115,122,120,113,102,94,95,96,90,88,83,83,85,90,97,98,99,94,89,95,105,111,113,106,95,90,91,96,101,104,109,112,120,123,118,115,123,130,128,130,136,131,121,113,110,108,109,111,115,120,115,108,105,105,104,106,110,111,115,115,117,114,111,107,105,109,111,110,111,115,121,126,135,142,145,147,150,153,156,160,162,161,160,160,159,157,154,152,152,150,143,138,132,128,124,119,112,105,98,92,94,98,106,118,126,128,127,123,123,121,118,115,112,112,114,113,105,78,209,204,214,252,282,290,295,292,284,268,263,262,263,263,262,258,249,236,179,165,157,152,150,149,150,154,158,163,166,166,163,159,158,161,170,176,178,174,170,166,160,156,151,148,147,145,142,141,145,144,144,153,155,152,147,143,145,152,156,157,156,155,155,156,158,158,158,156,152,146,139,139,141,143,145,147,148,149,149,149,148,147,144,140,139,139,138,137,136,135,134,133,134,136,137,136,134,135,139,142,143,141,138,141,145,148,151,152,154,156,155,155,159,163,166,166,166,164,162,160,158,157,155,153,150,150,149,149,149,149,150,152,154,155,155,156,156,157,160,163,165,165,164,163,121,119,117,114,113,112,113,113,113,113,112,113,113,113,114,112,110,109,109,109,108,108,90,90,94,99,107,116,125,130,132,130,124,117,110,103,95,88,81,77,75,63,65,70,73,78,80,80,79,80,83,86,89,94,96,98,104,105,106,106,107,107,109,114,118,121,123,124,123,122,122,123,123,123,124,123,123,124,127,132,137,139,140,140,142,147,152,156,160,165,168,169,169,165,162,160,158,156,154,150,146,144,141,138,136,133,129,124,118,112,107,106,107,108,109,110,111,112,112,113,114,115,116,117,118,119,122,125,128,130,130,131,130,128,126,123,120,116,93,89,86,84,82,79,76,74,72,71,69,70,68,67,66,67,68,69,69,69,68,68,67,66,65,64,63,61,61,60,60,61,63,64,64,64,63,64,65,66,67,67,66,66,67,68,69,71,73,72,71,70,71,72,74,75,76,78,79,80,81,82,84,86,88,88,87,86,85,86,86,86,86,87,87,88,88,88,89,87,83,79,78,82,85,87,88,89,89,89,87,86,88,89,90,89,90,92,91,90,89,88,87,87,89,90,91,92,94,108,110,110,111,111,111,112,113,114,116,116,116,117,119,121,124,127,131,138,145,150,155,161,165,169,173,177,182,185,185,184,189,193,195,198,198,197,196,196,199,202,202,201,202,204,205,205,203,202,201,197,197,198,199,200,199,195,190,184,180,178,179,180,179,176,175,174,172,169,168,167,170,180,191,203,214,219,219,222,227,228,226,223,221,219,219,218,218,219,218,216,214,214,211,208,207,206,206,205,202,199,193,190,187,182,179,176,173,170,167,163,158,152,146,141,135,129,122,114,108,102,97,90,85,81,77,73,68,65,62,61,61,61,61,61,60,59,59,60,61,64,69,75,82,92,104,117,128,137,144,149,153,156,160,164,169,175,180,184,188,191,193,195,196,200,203,207,212,218,223,228,231,234,235,236,327,327,330,333,328,321,316,308,298,287,274,263,255,249,243,239,234,230,225,220,215,210,206,204,204,199,195,190,185,181,177,175,173,171,170,169,169,168,167,166,166,166,163,161,159,158,157,156,154,152,150,149,149,150,150,151,151,152,153,153,153,154,154,154,154,153,152,152,150,149,148,146,145,144,144,143,142,142,141,140,139,137,137,138,136,137,137,136,137,136,134,133,132,132,132,132,132,134,136,138,141,142,142,143,145,150,154,156,158,160,162,164,167,169,172,175,176,175,174,172,170,171,173,178,185,191,198,210,223,235,244,254,265,273,283,290,296,302,307,309,313,316,318,320,322,320,319,317,313,311,306,300,297,294,293,290,287,286,285,282,279,274,271,270,270,269,274,271,267,264,262,259,255,250,244,237,232,227,223,220,215,210,205,199,195,193,197,206,221,239,258,276,291,302,311,318,323,324,322,320,319,320,319,317,314,311,307,302,294,286,280,276,272,267,259,251,245,241,241,241,242,244,245,245,242,237,232,228,225,216,215,216,217,217,215,211,206,202,200,201,203,201,196,188,176,163,149,138,129,119,108,98,89,79,71,66,66,67,67,68,69,71,74,77,79,81,85,91,99,109,119,132,145,157,168,175,179,183,185,188,188,187,184,179,172,163,159,157,155,153,151,149,148,148,148,147,146,145,145,144,143,143,143,144,145,146,145,144,143,142,140,140,140,140,140,143,147,150,152,152,152,154,155,142,140,138,134,131,130,128,127,126,126,126,126,127,129,131,132,134,136,136,136,136,135,134,132,130,130,130,129,128,127,125,124,123,123,122,121,120,118,115,112,111,111,110,110,109,108,107,107,107,108,107,105,105,105,105,104,103,102,99,97,96,94,94,93,93,92,91,92,94,95,96,97,99,102,104,112,112,112,111,110,107,104,105,105,103,99,96,94,95,102,114,128,144,160,173,185,196,205,209,214,219,226,234,241,248,255,260,265,268,270,272,271,271,268,265,261,256,253,250,246,244,241,237,233,229,225,222,204,200,197,193,190,186,182,179,175,171,168,164,158,154,151,148,145,141,133,139,152,173,196,217,233,244,249,250,253,256,260,263,265,265,264,260,254,246,234,217,200,188,181,175,169,164,159,154,147,138,132,129,127,123,117,111,106,104,103,100,94,88,83,78,75,73,71,69,68,67,67,68,70,71,71,70,69,68,67,67,67,66,67,69,71,74,76,78,80,80,80,80,80,80,82,84,87,90,92,87,87,86,86,86,86,87,87,87,85,83,82,83,87,95,107,118,130,141,149,172,179,187,201,214,221,225,230,232,230,223,216,208,199,191,185,181,177,176,177,176,173,171,169,163,154,152,153,154,154,153,151,150,150,150,152,149,147,148,150,152,152,152,151,151,150,149,147,146,143,140,138,136,137,138,140,138,135,132,130,129,129,129,130,130,129,128,128,128,129,129,128,127,126,125,125,125,125,124,124,121,120,120,123,124,123,122,120,115,113,114,114,115,116,115,112,111,111,109,108,107,107,110,113,114,115,115,115,114,113,113,116,119,120,121,121,122,123,124,125,126,126,126,126,126,127,127,125,122,118,115,111,112,115,117,120,124,127,131,137,143,148,153,159,166,172,178,184,191,199,206,212,217,223,229,232,233,235,237,240,241,243,246,247,246,243,240,234,229,225,221,217,216,215,215,215,212,208,203,199,196,194,190,185,180,177,163,158,152,149,153,163,174,182,188,192,195,197,201,204,205,203,199,195,189,184,176,169,162,150,138,128,119,110,100,90,80,73,68,64,63,63,66,68,70,71,72,74,80,94,116,141,164,183,198,210,220,228,233,237,241,247,252,256,260,259,258,256,251,245,238,234,227,221,215,208,207,207,203,201,201,199,179,176,171,163,152,137,119,98,77,61,50,45,47,59,71,86,99,109,116,117,115,111,107,102,96,91,90,94,97,97,95,92,87,84,84,83,84,86,86,86,84,82,82,81,81,82,84,87,89,91,92,94,93,93,94,96,100,101,99,97,96,96,97,97,98,99,101,102,106,114,121,127,130,124,105,109,119,127,129,132,129,126,126,126,126,126,125,124,125,130,130,128,126,126,126,126,126,126,126,127,128,129,129,127,128,136,141,143,141,138,131,129,133,134,130,129,134,137,139,138,130,122,118,115,114,113,113,112,112,117,118,117,118,118,117,117,114,112,115,118,124,126,119,121,122,274,285,293,297,298,298,296,293,289,282,275,267,256,249,242,233,225,217,217,215,203,190,185,193,202,202,194,182,170,143,130,120,110,102,93,80,67,57,52,50,49,49,54,72,93,104,114,125,134,140,145,145,141,136,130,124,118,116,114,112,108,105,102,99,95,91,88,85,83,82,80,79,79,83,86,87,88,89,89,88,88,90,92,88,86,86,86,84,82,84,88,90,94,99,104,107,107,105,104,103,95,94,93,93,93,93,93,94,99,109,122,172,169,164,156,147,137,126,115,104,99,99,103,106,111,115,117,118,120,120,120,120,119,119,118,118,117,116,115,115,116,116,115,115,114,112,109,110,111,111,110,109,109,109,108,107,106,105,101,100,99,99,98,97,97]},\"selected\":{\"id\":\"d45437c5-968d-4cf3-b485-55559e5939b8\",\"type\":\"Selection\"},\"selection_policy\":{\"id\":\"a018801b-672f-445b-b98f-4d53fb0f8311\",\"type\":\"UnionRenderers\"}},\"id\":\"73a56bf4-9395-4373-8c84-d33c897b3cbb\",\"type\":\"ColumnDataSource\"},{\"attributes\":{\"months\":[0,1,2,3,4,5,6,7,8,9,10,11]},\"id\":\"9ae57696-04c7-4262-8172-beccc9d3e733\",\"type\":\"MonthsTicker\"},{\"attributes\":{\"line_color\":\"#1f77b4\",\"x\":{\"field\":\"x\"},\"y\":{\"field\":\"y\"}},\"id\":\"3ec41e93-6a8b-4294-95a7-6f6c6dec5d62\",\"type\":\"Line\"},{\"attributes\":{},\"id\":\"819c8ab3-5bcd-42b8-88f2-6802a80d1c0b\",\"type\":\"SaveTool\"},{\"attributes\":{\"plot\":null,\"text\":\"Glocose Range\"},\"id\":\"171fc48c-e100-41f5-a580-74ac3b39c9ac\",\"type\":\"Title\"},{\"attributes\":{},\"id\":\"9b4f4c93-00ae-4451-a45b-8882257da2af\",\"type\":\"BasicTickFormatter\"},{\"attributes\":{\"line_alpha\":0.1,\"line_color\":\"#1f77b4\",\"x\":{\"field\":\"x\"},\"y\":{\"field\":\"y\"}},\"id\":\"ba9291c7-90b0-4c30-8b2e-f671a1521bab\",\"type\":\"Line\"},{\"attributes\":{\"num_minor_ticks\":5,\"tickers\":[{\"id\":\"71aea31f-fffd-41a0-a991-69a3c0390792\",\"type\":\"AdaptiveTicker\"},{\"id\":\"7f192a9b-9fdf-42ee-810c-a29fd6ba1b6b\",\"type\":\"AdaptiveTicker\"},{\"id\":\"01d51748-e979-419d-a4e2-7161c3ef0192\",\"type\":\"AdaptiveTicker\"},{\"id\":\"09e46745-971b-438a-80ae-78a9382ffcc9\",\"type\":\"DaysTicker\"},{\"id\":\"cb8be629-aaae-452d-94e8-e08501f65994\",\"type\":\"DaysTicker\"},{\"id\":\"e42cfb0d-3074-494a-b253-20d65a2e502a\",\"type\":\"DaysTicker\"},{\"id\":\"fb4c7820-0464-4b99-9b45-668ea8c64a14\",\"type\":\"DaysTicker\"},{\"id\":\"9ae57696-04c7-4262-8172-beccc9d3e733\",\"type\":\"MonthsTicker\"},{\"id\":\"4c5b5322-ca31-42ca-890f-1d9f53fc6f8b\",\"type\":\"MonthsTicker\"},{\"id\":\"1d347731-2dcd-498a-b7eb-3a5255529a32\",\"type\":\"MonthsTicker\"},{\"id\":\"7f4463a4-60a3-4c02-82a8-012dafbd1361\",\"type\":\"MonthsTicker\"},{\"id\":\"ff74ee31-78ef-4770-98d5-b0d2285b28c2\",\"type\":\"YearsTicker\"}]},\"id\":\"4edb22fd-16aa-48d5-b0a6-71f553fc5cab\",\"type\":\"DatetimeTicker\"},{\"attributes\":{\"active_drag\":\"auto\",\"active_inspect\":\"auto\",\"active_multi\":null,\"active_scroll\":\"auto\",\"active_tap\":\"auto\",\"tools\":[{\"id\":\"2eb1af88-fad1-43b5-8660-a83f10ee5f89\",\"type\":\"PanTool\"},{\"id\":\"5af0d438-1309-4f52-bed4-8d2a16b27df7\",\"type\":\"WheelZoomTool\"},{\"id\":\"b0c92124-223f-4a38-b44e-4593308879aa\",\"type\":\"BoxZoomTool\"},{\"id\":\"819c8ab3-5bcd-42b8-88f2-6802a80d1c0b\",\"type\":\"SaveTool\"},{\"id\":\"bbab5f25-1438-4337-aaa6-46dad2811b07\",\"type\":\"ResetTool\"},{\"id\":\"5ac934da-f908-40f2-9c96-637cfd080df8\",\"type\":\"HelpTool\"}]},\"id\":\"41755dee-5569-4ed5-ba05-acbc7bc71733\",\"type\":\"Toolbar\"},{\"attributes\":{\"base\":60,\"mantissas\":[1,2,5,10,15,20,30],\"max_interval\":1800000.0,\"min_interval\":1000.0,\"num_minor_ticks\":0},\"id\":\"7f192a9b-9fdf-42ee-810c-a29fd6ba1b6b\",\"type\":\"AdaptiveTicker\"},{\"attributes\":{\"callback\":null},\"id\":\"69675b78-541b-467e-9624-69a5801fe621\",\"type\":\"DataRange1d\"},{\"attributes\":{},\"id\":\"2eb1af88-fad1-43b5-8660-a83f10ee5f89\",\"type\":\"PanTool\"},{\"attributes\":{\"source\":{\"id\":\"73a56bf4-9395-4373-8c84-d33c897b3cbb\",\"type\":\"ColumnDataSource\"}},\"id\":\"e76e5bfd-3586-44e0-8d61-10816df3a467\",\"type\":\"CDSView\"},{\"attributes\":{\"callback\":null},\"id\":\"29562616-41b5-43cf-a80d-bd3a4f1f0204\",\"type\":\"DataRange1d\"},{\"attributes\":{\"overlay\":{\"id\":\"7fe3426c-60ce-4f18-9a93-112c327f8783\",\"type\":\"BoxAnnotation\"}},\"id\":\"b0c92124-223f-4a38-b44e-4593308879aa\",\"type\":\"BoxZoomTool\"},{\"attributes\":{\"days\":[1,4,7,10,13,16,19,22,25,28]},\"id\":\"cb8be629-aaae-452d-94e8-e08501f65994\",\"type\":\"DaysTicker\"},{\"attributes\":{\"base\":24,\"mantissas\":[1,2,4,6,8,12],\"max_interval\":43200000.0,\"min_interval\":3600000.0,\"num_minor_ticks\":0},\"id\":\"01d51748-e979-419d-a4e2-7161c3ef0192\",\"type\":\"AdaptiveTicker\"},{\"attributes\":{},\"id\":\"bbab5f25-1438-4337-aaa6-46dad2811b07\",\"type\":\"ResetTool\"},{\"attributes\":{\"plot\":{\"id\":\"f2ae18d9-9636-4fdf-bf13-c301c42f7e89\",\"subtype\":\"Figure\",\"type\":\"Plot\"},\"ticker\":{\"id\":\"4edb22fd-16aa-48d5-b0a6-71f553fc5cab\",\"type\":\"DatetimeTicker\"}},\"id\":\"d5110393-845f-4e68-b0ad-6a2a45fbcea7\",\"type\":\"Grid\"},{\"attributes\":{\"data_source\":{\"id\":\"73a56bf4-9395-4373-8c84-d33c897b3cbb\",\"type\":\"ColumnDataSource\"},\"glyph\":{\"id\":\"3ec41e93-6a8b-4294-95a7-6f6c6dec5d62\",\"type\":\"Line\"},\"hover_glyph\":null,\"muted_glyph\":null,\"nonselection_glyph\":{\"id\":\"ba9291c7-90b0-4c30-8b2e-f671a1521bab\",\"type\":\"Line\"},\"selection_glyph\":null,\"view\":{\"id\":\"e76e5bfd-3586-44e0-8d61-10816df3a467\",\"type\":\"CDSView\"}},\"id\":\"257dc56a-a8b7-4fee-a302-2bd4599511a1\",\"type\":\"GlyphRenderer\"},{\"attributes\":{},\"id\":\"9e6643a3-546c-4edf-b3fc-ba649d19532b\",\"type\":\"LinearScale\"},{\"attributes\":{},\"id\":\"ff74ee31-78ef-4770-98d5-b0d2285b28c2\",\"type\":\"YearsTicker\"},{\"attributes\":{\"bottom_units\":\"screen\",\"fill_alpha\":{\"value\":0.5},\"fill_color\":{\"value\":\"lightgrey\"},\"left_units\":\"screen\",\"level\":\"overlay\",\"line_alpha\":{\"value\":1.0},\"line_color\":{\"value\":\"black\"},\"line_dash\":[4,4],\"line_width\":{\"value\":2},\"plot\":null,\"render_mode\":\"css\",\"right_units\":\"screen\",\"top_units\":\"screen\"},\"id\":\"7fe3426c-60ce-4f18-9a93-112c327f8783\",\"type\":\"BoxAnnotation\"},{\"attributes\":{\"days\":[1,8,15,22]},\"id\":\"e42cfb0d-3074-494a-b253-20d65a2e502a\",\"type\":\"DaysTicker\"},{\"attributes\":{},\"id\":\"f273426a-1aa6-4ceb-9c5f-7f18ab4ae1cf\",\"type\":\"LinearScale\"},{\"attributes\":{\"formatter\":{\"id\":\"300105ca-4457-47f2-9afd-cabd29a3f25b\",\"type\":\"DatetimeTickFormatter\"},\"major_label_orientation\":1.0471975511965976,\"plot\":{\"id\":\"f2ae18d9-9636-4fdf-bf13-c301c42f7e89\",\"subtype\":\"Figure\",\"type\":\"Plot\"},\"ticker\":{\"id\":\"4edb22fd-16aa-48d5-b0a6-71f553fc5cab\",\"type\":\"DatetimeTicker\"}},\"id\":\"496fc9b8-674f-4ea3-b18a-5e12e75395b8\",\"type\":\"DatetimeAxis\"},{\"attributes\":{\"months\":[0,6]},\"id\":\"7f4463a4-60a3-4c02-82a8-012dafbd1361\",\"type\":\"MonthsTicker\"}],\"root_ids\":[\"f2ae18d9-9636-4fdf-bf13-c301c42f7e89\"]},\"title\":\"Bokeh Application\",\"version\":\"0.13.0\"}};\n",
       "  var render_items = [{\"docid\":\"160fea45-97a8-4f69-8a8c-2f21a23e3493\",\"roots\":{\"f2ae18d9-9636-4fdf-bf13-c301c42f7e89\":\"64ccf3ce-b41a-4159-8050-4344e583f04b\"}}];\n",
       "  root.Bokeh.embed.embed_items_notebook(docs_json, render_items);\n",
       "\n",
       "  }\n",
       "  if (root.Bokeh !== undefined) {\n",
       "    embed_document(root);\n",
       "  } else {\n",
       "    var attempts = 0;\n",
       "    var timer = setInterval(function(root) {\n",
       "      if (root.Bokeh !== undefined) {\n",
       "        embed_document(root);\n",
       "        clearInterval(timer);\n",
       "      }\n",
       "      attempts++;\n",
       "      if (attempts > 100) {\n",
       "        console.log(\"Bokeh: ERROR: Unable to run BokehJS code because BokehJS library is missing\")\n",
       "        clearInterval(timer);\n",
       "      }\n",
       "    }, 10, root)\n",
       "  }\n",
       "})(window);"
      ],
      "application/vnd.bokehjs_exec.v0+json": ""
     },
     "metadata": {
      "application/vnd.bokehjs_exec.v0+json": {
       "id": "f2ae18d9-9636-4fdf-bf13-c301c42f7e89"
      }
     },
     "output_type": "display_data"
    }
   ],
   "source": [
    "from math import pi\n",
    "from bokeh.sampledata.glucose import data\n",
    "\n",
    "week = data.loc['2010-10-01':'2010-10-08']\n",
    "\n",
    "p = figure(x_axis_type=\"datetime\", title=\"Glocose Range\", plot_height=350, plot_width=800)\n",
    "p.xaxis[0].formatter.days = '%m/%d/%Y'\n",
    "p.xaxis.major_label_orientation = pi/3\n",
    "\n",
    "p.line(week.index, week.glucose)\n",
    "\n",
    "show(p)"
   ]
  },
  {
   "cell_type": "markdown",
   "metadata": {
    "slideshow": {
     "slide_type": "slide"
    }
   },
   "source": [
    "See the reference guide entry for [DatetimeTickFormatter](http://bokeh.pydata.org/en/latest/docs/reference/models/formatters.html#bokeh.models.formatters.DatetimeTickFormatter) to see other properties that can be updated. \n",
    "\n",
    "*Note: It's worth noting a little quirk here, because of the way \"splattable\" lists work, we do have to be explicit about which formatter object we want to update, i.e. `p.xaxis[0].formatter`*\n",
    "\n",
    "In addition to the tick formatters that Bokeh will use by default, there are others such as the [`NumeralTickFormatter`](http://bokeh.pydata.org/en/latest/docs/user_guide/styling.html#numeraltickformatter) that we can configure explicitly. The example below shows how to set a formatter on each axis. "
   ]
  },
  {
   "cell_type": "code",
   "execution_count": 11,
   "metadata": {
    "slideshow": {
     "slide_type": "subslide"
    }
   },
   "outputs": [
    {
     "data": {
      "text/html": [
       "\n",
       "\n",
       "\n",
       "\n",
       "\n",
       "\n",
       "  <div class=\"bk-root\" id=\"1c61d7d3-110d-4be6-b7c5-c5b445a2c96e\"></div>\n"
      ]
     },
     "metadata": {},
     "output_type": "display_data"
    },
    {
     "data": {
      "application/javascript": [
       "(function(root) {\n",
       "  function embed_document(root) {\n",
       "    \n",
       "  var docs_json = {\"f8ed1925-e6a1-44f5-967e-0173dbe73e0a\":{\"roots\":{\"references\":[{\"attributes\":{\"formatter\":{\"id\":\"0f356a8c-fef5-46e8-ba16-4c79ecfa0de1\",\"type\":\"NumeralTickFormatter\"},\"plot\":{\"id\":\"e27d8325-34bc-41de-8dfa-ee135682117b\",\"subtype\":\"Figure\",\"type\":\"Plot\"},\"ticker\":{\"id\":\"5ba6c0b3-f45f-4539-a8ae-feca65039890\",\"type\":\"BasicTicker\"}},\"id\":\"6794c7bf-d115-4544-84d0-21b642b9b395\",\"type\":\"LinearAxis\"},{\"attributes\":{\"plot\":null,\"text\":\"\"},\"id\":\"e237a306-c60e-43ef-bbb7-17136f50f370\",\"type\":\"Title\"},{\"attributes\":{\"overlay\":{\"id\":\"05ffbfba-8ef2-4ca8-9a83-208fd92bc356\",\"type\":\"BoxAnnotation\"}},\"id\":\"6bc0026f-3ac4-4a52-922d-a8c4a3d375ea\",\"type\":\"BoxZoomTool\"},{\"attributes\":{\"formatter\":{\"id\":\"525b6ef8-6812-408b-bb8f-e1e85b3f0c03\",\"type\":\"NumeralTickFormatter\"},\"plot\":{\"id\":\"e27d8325-34bc-41de-8dfa-ee135682117b\",\"subtype\":\"Figure\",\"type\":\"Plot\"},\"ticker\":{\"id\":\"084748e9-1893-473d-815d-472473350d32\",\"type\":\"BasicTicker\"}},\"id\":\"b04621a0-07e6-4e44-80ae-b4c4c153bab8\",\"type\":\"LinearAxis\"},{\"attributes\":{\"format\":\"0.0%\"},\"id\":\"0f356a8c-fef5-46e8-ba16-4c79ecfa0de1\",\"type\":\"NumeralTickFormatter\"},{\"attributes\":{},\"id\":\"09c2af18-90d4-4f74-b432-72e16d9f4ffc\",\"type\":\"ResetTool\"},{\"attributes\":{\"callback\":null,\"data\":{\"x\":[1,2,3,4,5],\"y\":[2,5,8,2,7]},\"selected\":{\"id\":\"c6992481-7ccf-4275-bb3a-d7dd212a6de0\",\"type\":\"Selection\"},\"selection_policy\":{\"id\":\"e21ee7ec-9e37-4a00-8bf2-6a4e242b9399\",\"type\":\"UnionRenderers\"}},\"id\":\"ff7c191e-bc69-4c28-95a1-08fa20bd26cf\",\"type\":\"ColumnDataSource\"},{\"attributes\":{\"active_drag\":\"auto\",\"active_inspect\":\"auto\",\"active_multi\":null,\"active_scroll\":\"auto\",\"active_tap\":\"auto\",\"tools\":[{\"id\":\"50a8007d-269b-492b-b9b8-002369cbe1ad\",\"type\":\"PanTool\"},{\"id\":\"ccdad368-e4ef-430a-934e-65a191ad23b9\",\"type\":\"WheelZoomTool\"},{\"id\":\"6bc0026f-3ac4-4a52-922d-a8c4a3d375ea\",\"type\":\"BoxZoomTool\"},{\"id\":\"086a339d-3f16-4097-915a-056a556f82b4\",\"type\":\"SaveTool\"},{\"id\":\"09c2af18-90d4-4f74-b432-72e16d9f4ffc\",\"type\":\"ResetTool\"},{\"id\":\"d43c9454-61ef-42c7-8559-ec15718c1e6b\",\"type\":\"HelpTool\"}]},\"id\":\"73ade9f6-c710-47bd-a0e1-a19ec2c37794\",\"type\":\"Toolbar\"},{\"attributes\":{},\"id\":\"50a8007d-269b-492b-b9b8-002369cbe1ad\",\"type\":\"PanTool\"},{\"attributes\":{\"fill_alpha\":{\"value\":0.1},\"fill_color\":{\"value\":\"#1f77b4\"},\"line_alpha\":{\"value\":0.1},\"line_color\":{\"value\":\"#1f77b4\"},\"size\":{\"units\":\"screen\",\"value\":10},\"x\":{\"field\":\"x\"},\"y\":{\"field\":\"y\"}},\"id\":\"b171c7f4-3ab3-4b2d-918d-ac6b71dcfaed\",\"type\":\"Circle\"},{\"attributes\":{\"below\":[{\"id\":\"6794c7bf-d115-4544-84d0-21b642b9b395\",\"type\":\"LinearAxis\"}],\"left\":[{\"id\":\"b04621a0-07e6-4e44-80ae-b4c4c153bab8\",\"type\":\"LinearAxis\"}],\"plot_height\":300,\"plot_width\":800,\"renderers\":[{\"id\":\"6794c7bf-d115-4544-84d0-21b642b9b395\",\"type\":\"LinearAxis\"},{\"id\":\"5cf514f4-2ea1-4c22-a6d7-15302dc7592d\",\"type\":\"Grid\"},{\"id\":\"b04621a0-07e6-4e44-80ae-b4c4c153bab8\",\"type\":\"LinearAxis\"},{\"id\":\"ea3304ff-6bde-4bd0-b96b-cefe21725d19\",\"type\":\"Grid\"},{\"id\":\"05ffbfba-8ef2-4ca8-9a83-208fd92bc356\",\"type\":\"BoxAnnotation\"},{\"id\":\"25f7dbc0-2334-41e5-a3f0-dad934d2cf70\",\"type\":\"GlyphRenderer\"}],\"title\":{\"id\":\"e237a306-c60e-43ef-bbb7-17136f50f370\",\"type\":\"Title\"},\"toolbar\":{\"id\":\"73ade9f6-c710-47bd-a0e1-a19ec2c37794\",\"type\":\"Toolbar\"},\"x_range\":{\"id\":\"ffbc63d6-b9dd-44b7-8452-0e7de26b35a1\",\"type\":\"DataRange1d\"},\"x_scale\":{\"id\":\"b9e4664c-1f3b-44d4-b52f-1e39d0c9ef79\",\"type\":\"LinearScale\"},\"y_range\":{\"id\":\"d1ea7c7d-b966-47b0-acc1-780f30a06f1d\",\"type\":\"DataRange1d\"},\"y_scale\":{\"id\":\"4b1748bf-6a50-40cc-810a-561fdd1714c3\",\"type\":\"LinearScale\"}},\"id\":\"e27d8325-34bc-41de-8dfa-ee135682117b\",\"subtype\":\"Figure\",\"type\":\"Plot\"},{\"attributes\":{},\"id\":\"5ba6c0b3-f45f-4539-a8ae-feca65039890\",\"type\":\"BasicTicker\"},{\"attributes\":{},\"id\":\"c6992481-7ccf-4275-bb3a-d7dd212a6de0\",\"type\":\"Selection\"},{\"attributes\":{\"data_source\":{\"id\":\"ff7c191e-bc69-4c28-95a1-08fa20bd26cf\",\"type\":\"ColumnDataSource\"},\"glyph\":{\"id\":\"daee10a4-194b-41ca-af3d-15698d89075c\",\"type\":\"Circle\"},\"hover_glyph\":null,\"muted_glyph\":null,\"nonselection_glyph\":{\"id\":\"b171c7f4-3ab3-4b2d-918d-ac6b71dcfaed\",\"type\":\"Circle\"},\"selection_glyph\":null,\"view\":{\"id\":\"52ecd2a7-0c21-4096-b1d3-152c94314147\",\"type\":\"CDSView\"}},\"id\":\"25f7dbc0-2334-41e5-a3f0-dad934d2cf70\",\"type\":\"GlyphRenderer\"},{\"attributes\":{\"plot\":{\"id\":\"e27d8325-34bc-41de-8dfa-ee135682117b\",\"subtype\":\"Figure\",\"type\":\"Plot\"},\"ticker\":{\"id\":\"5ba6c0b3-f45f-4539-a8ae-feca65039890\",\"type\":\"BasicTicker\"}},\"id\":\"5cf514f4-2ea1-4c22-a6d7-15302dc7592d\",\"type\":\"Grid\"},{\"attributes\":{\"fill_color\":{\"value\":\"#1f77b4\"},\"line_color\":{\"value\":\"#1f77b4\"},\"size\":{\"units\":\"screen\",\"value\":10},\"x\":{\"field\":\"x\"},\"y\":{\"field\":\"y\"}},\"id\":\"daee10a4-194b-41ca-af3d-15698d89075c\",\"type\":\"Circle\"},{\"attributes\":{},\"id\":\"086a339d-3f16-4097-915a-056a556f82b4\",\"type\":\"SaveTool\"},{\"attributes\":{\"dimension\":1,\"plot\":{\"id\":\"e27d8325-34bc-41de-8dfa-ee135682117b\",\"subtype\":\"Figure\",\"type\":\"Plot\"},\"ticker\":{\"id\":\"084748e9-1893-473d-815d-472473350d32\",\"type\":\"BasicTicker\"}},\"id\":\"ea3304ff-6bde-4bd0-b96b-cefe21725d19\",\"type\":\"Grid\"},{\"attributes\":{},\"id\":\"084748e9-1893-473d-815d-472473350d32\",\"type\":\"BasicTicker\"},{\"attributes\":{\"callback\":null},\"id\":\"d1ea7c7d-b966-47b0-acc1-780f30a06f1d\",\"type\":\"DataRange1d\"},{\"attributes\":{\"source\":{\"id\":\"ff7c191e-bc69-4c28-95a1-08fa20bd26cf\",\"type\":\"ColumnDataSource\"}},\"id\":\"52ecd2a7-0c21-4096-b1d3-152c94314147\",\"type\":\"CDSView\"},{\"attributes\":{},\"id\":\"d43c9454-61ef-42c7-8559-ec15718c1e6b\",\"type\":\"HelpTool\"},{\"attributes\":{},\"id\":\"b9e4664c-1f3b-44d4-b52f-1e39d0c9ef79\",\"type\":\"LinearScale\"},{\"attributes\":{\"format\":\"$0.00\"},\"id\":\"525b6ef8-6812-408b-bb8f-e1e85b3f0c03\",\"type\":\"NumeralTickFormatter\"},{\"attributes\":{},\"id\":\"4b1748bf-6a50-40cc-810a-561fdd1714c3\",\"type\":\"LinearScale\"},{\"attributes\":{\"bottom_units\":\"screen\",\"fill_alpha\":{\"value\":0.5},\"fill_color\":{\"value\":\"lightgrey\"},\"left_units\":\"screen\",\"level\":\"overlay\",\"line_alpha\":{\"value\":1.0},\"line_color\":{\"value\":\"black\"},\"line_dash\":[4,4],\"line_width\":{\"value\":2},\"plot\":null,\"render_mode\":\"css\",\"right_units\":\"screen\",\"top_units\":\"screen\"},\"id\":\"05ffbfba-8ef2-4ca8-9a83-208fd92bc356\",\"type\":\"BoxAnnotation\"},{\"attributes\":{},\"id\":\"ccdad368-e4ef-430a-934e-65a191ad23b9\",\"type\":\"WheelZoomTool\"},{\"attributes\":{},\"id\":\"e21ee7ec-9e37-4a00-8bf2-6a4e242b9399\",\"type\":\"UnionRenderers\"},{\"attributes\":{\"callback\":null},\"id\":\"ffbc63d6-b9dd-44b7-8452-0e7de26b35a1\",\"type\":\"DataRange1d\"}],\"root_ids\":[\"e27d8325-34bc-41de-8dfa-ee135682117b\"]},\"title\":\"Bokeh Application\",\"version\":\"0.13.0\"}};\n",
       "  var render_items = [{\"docid\":\"f8ed1925-e6a1-44f5-967e-0173dbe73e0a\",\"roots\":{\"e27d8325-34bc-41de-8dfa-ee135682117b\":\"1c61d7d3-110d-4be6-b7c5-c5b445a2c96e\"}}];\n",
       "  root.Bokeh.embed.embed_items_notebook(docs_json, render_items);\n",
       "\n",
       "  }\n",
       "  if (root.Bokeh !== undefined) {\n",
       "    embed_document(root);\n",
       "  } else {\n",
       "    var attempts = 0;\n",
       "    var timer = setInterval(function(root) {\n",
       "      if (root.Bokeh !== undefined) {\n",
       "        embed_document(root);\n",
       "        clearInterval(timer);\n",
       "      }\n",
       "      attempts++;\n",
       "      if (attempts > 100) {\n",
       "        console.log(\"Bokeh: ERROR: Unable to run BokehJS code because BokehJS library is missing\")\n",
       "        clearInterval(timer);\n",
       "      }\n",
       "    }, 10, root)\n",
       "  }\n",
       "})(window);"
      ],
      "application/vnd.bokehjs_exec.v0+json": ""
     },
     "metadata": {
      "application/vnd.bokehjs_exec.v0+json": {
       "id": "e27d8325-34bc-41de-8dfa-ee135682117b"
      }
     },
     "output_type": "display_data"
    }
   ],
   "source": [
    "from bokeh.models import NumeralTickFormatter\n",
    "\n",
    "p = figure(plot_height=300, plot_width=800)\n",
    "p.circle([1,2,3,4,5], [2,5,8,2,7], size=10)\n",
    "\n",
    "p.xaxis.formatter = NumeralTickFormatter(format=\"0.0%\")\n",
    "p.yaxis.formatter = NumeralTickFormatter(format=\"$0.00\")\n",
    "\n",
    "show(p)"
   ]
  },
  {
   "cell_type": "markdown",
   "metadata": {},
   "source": [
    "Try experimenting with the format argument and re-execute the cell above.\n",
    "\n",
    "There are many other possibilities for controlling tick formatting, including the possibility of supplying a JavaScript snippet to perform arbitrary formatting in the browser. See the [Tick Label Formats](http://bokeh.pydata.org/en/latest/docs/user_guide/styling.html#tick-label-formats) for more details.  \n",
    "\n",
    "\n",
    "It is also possible to customize *where* ticks will be drawn. See the [Tick Locations](http://bokeh.pydata.org/en/latest/docs/user_guide/styling.html#tick-locations) section of the User's Guide for more information."
   ]
  },
  {
   "cell_type": "markdown",
   "metadata": {
    "slideshow": {
     "slide_type": "slide"
    }
   },
   "source": [
    "# Grids\n",
    "\n",
    "It is also possible to control the [styling of Grids](http://bokeh.pydata.org/en/latest/docs/user_guide/styling.html#grids)\n",
    "\n",
    "Grids properties in Bokeh have two possible prefixes:\n",
    "\n",
    "* **grid** properties (which are [line properties](http://bokeh.pydata.org/en/latest/docs/user_guide/styling.html#line-properties)) control the \"grid lines\"\n",
    "* **band** properties (which are [fill properties](http://bokeh.pydata.org/en/latest/docs/user_guide/styling.html#fill-properties)) control shaded bands between grid lines\n",
    "\n",
    "In this first example we turn off the vertical grid lines (by setting the line color to None) and set the horizontal grid to be light and dashed."
   ]
  },
  {
   "cell_type": "code",
   "execution_count": 15,
   "metadata": {},
   "outputs": [
    {
     "data": {
      "text/html": [
       "\n",
       "\n",
       "\n",
       "\n",
       "\n",
       "\n",
       "  <div class=\"bk-root\" id=\"e8db4743-2835-4ac2-8e2a-ab095f4e5d56\"></div>\n"
      ]
     },
     "metadata": {},
     "output_type": "display_data"
    },
    {
     "data": {
      "application/javascript": [
       "(function(root) {\n",
       "  function embed_document(root) {\n",
       "    \n",
       "  var docs_json = {\"2c7071a4-d93b-4076-ab36-e72ae14eef05\":{\"roots\":{\"references\":[{\"attributes\":{},\"id\":\"1d31b1b3-d6d4-45d6-8766-8b8a8c5b0cc5\",\"type\":\"BasicTicker\"},{\"attributes\":{},\"id\":\"a3b7edec-2dfc-4072-9a58-1d752893d995\",\"type\":\"LinearScale\"},{\"attributes\":{\"formatter\":{\"id\":\"2127cc8b-b8d5-4f0b-8881-f4c968017756\",\"type\":\"BasicTickFormatter\"},\"plot\":{\"id\":\"1feb7f67-cee7-4ff1-a681-ee7f3359a64e\",\"subtype\":\"Figure\",\"type\":\"Plot\"},\"ticker\":{\"id\":\"336ab40f-ceef-4c5b-ae5a-065b26f2e741\",\"type\":\"BasicTicker\"}},\"id\":\"e344f92b-ac70-4bad-8a8f-45b85b898a4d\",\"type\":\"LinearAxis\"},{\"attributes\":{\"source\":{\"id\":\"b166177d-0f50-4a58-8a1f-0a3d49a9486b\",\"type\":\"ColumnDataSource\"}},\"id\":\"55004c3d-81a6-495e-838c-9389c3116aeb\",\"type\":\"CDSView\"},{\"attributes\":{\"grid_line_color\":{\"value\":null},\"plot\":{\"id\":\"1feb7f67-cee7-4ff1-a681-ee7f3359a64e\",\"subtype\":\"Figure\",\"type\":\"Plot\"},\"ticker\":{\"id\":\"336ab40f-ceef-4c5b-ae5a-065b26f2e741\",\"type\":\"BasicTicker\"}},\"id\":\"d24a6666-0ad6-4b54-8226-96a4f6258882\",\"type\":\"Grid\"},{\"attributes\":{\"formatter\":{\"id\":\"e878d5f4-0dd6-4697-9015-647cf1985244\",\"type\":\"BasicTickFormatter\"},\"plot\":{\"id\":\"1feb7f67-cee7-4ff1-a681-ee7f3359a64e\",\"subtype\":\"Figure\",\"type\":\"Plot\"},\"ticker\":{\"id\":\"1d31b1b3-d6d4-45d6-8766-8b8a8c5b0cc5\",\"type\":\"BasicTicker\"}},\"id\":\"48a7a7e6-e713-467c-9d00-c2a13df58e39\",\"type\":\"LinearAxis\"},{\"attributes\":{\"callback\":null},\"id\":\"8eb639ae-c7fc-4bbd-ac95-9aee6bccf910\",\"type\":\"DataRange1d\"},{\"attributes\":{},\"id\":\"336ab40f-ceef-4c5b-ae5a-065b26f2e741\",\"type\":\"BasicTicker\"},{\"attributes\":{\"overlay\":{\"id\":\"4756d4bf-2f51-453c-8ff3-2f05e63871db\",\"type\":\"BoxAnnotation\"}},\"id\":\"0122a31f-67dd-4e4c-bf2f-a1711c9644f3\",\"type\":\"BoxZoomTool\"},{\"attributes\":{\"fill_alpha\":{\"value\":0.1},\"fill_color\":{\"value\":\"#1f77b4\"},\"line_alpha\":{\"value\":0.1},\"line_color\":{\"value\":\"#1f77b4\"},\"size\":{\"units\":\"screen\",\"value\":10},\"x\":{\"field\":\"x\"},\"y\":{\"field\":\"y\"}},\"id\":\"d126b117-479c-40cb-8ae5-2d741ef09673\",\"type\":\"Circle\"},{\"attributes\":{},\"id\":\"2127cc8b-b8d5-4f0b-8881-f4c968017756\",\"type\":\"BasicTickFormatter\"},{\"attributes\":{},\"id\":\"2ae5063f-af72-4c2d-8c27-b19e83201ab9\",\"type\":\"LinearScale\"},{\"attributes\":{},\"id\":\"e2ff1775-0b4a-49a5-8636-ca5d2b3f7601\",\"type\":\"HelpTool\"},{\"attributes\":{\"callback\":null},\"id\":\"57331c76-415d-4368-82a2-df723107187f\",\"type\":\"DataRange1d\"},{\"attributes\":{},\"id\":\"c84b2e30-9517-44d0-b0a7-6fa3ff6b0456\",\"type\":\"ResetTool\"},{\"attributes\":{},\"id\":\"4b78b54e-be96-488e-b359-f85dc7924b92\",\"type\":\"SaveTool\"},{\"attributes\":{},\"id\":\"ab117e9b-b4f0-48e9-b793-be0bafecce76\",\"type\":\"PanTool\"},{\"attributes\":{},\"id\":\"c4decb7e-bd45-4a41-96b2-dd0fbc127ced\",\"type\":\"WheelZoomTool\"},{\"attributes\":{},\"id\":\"2121dbb1-7ae7-4b8c-ab0f-3c09206b463e\",\"type\":\"UnionRenderers\"},{\"attributes\":{\"plot\":null,\"text\":\"\"},\"id\":\"1a81fe57-26ca-4f07-b73f-2e1066aa4319\",\"type\":\"Title\"},{\"attributes\":{},\"id\":\"56b4dc94-295a-451d-957c-06d1157890df\",\"type\":\"Selection\"},{\"attributes\":{\"bottom_units\":\"screen\",\"fill_alpha\":{\"value\":0.5},\"fill_color\":{\"value\":\"lightgrey\"},\"left_units\":\"screen\",\"level\":\"overlay\",\"line_alpha\":{\"value\":1.0},\"line_color\":{\"value\":\"black\"},\"line_dash\":[4,4],\"line_width\":{\"value\":2},\"plot\":null,\"render_mode\":\"css\",\"right_units\":\"screen\",\"top_units\":\"screen\"},\"id\":\"4756d4bf-2f51-453c-8ff3-2f05e63871db\",\"type\":\"BoxAnnotation\"},{\"attributes\":{},\"id\":\"e878d5f4-0dd6-4697-9015-647cf1985244\",\"type\":\"BasicTickFormatter\"},{\"attributes\":{\"dimension\":1,\"grid_line_alpha\":{\"value\":0.5},\"grid_line_dash\":[6,4],\"plot\":{\"id\":\"1feb7f67-cee7-4ff1-a681-ee7f3359a64e\",\"subtype\":\"Figure\",\"type\":\"Plot\"},\"ticker\":{\"id\":\"1d31b1b3-d6d4-45d6-8766-8b8a8c5b0cc5\",\"type\":\"BasicTicker\"}},\"id\":\"964dc0c1-2d7b-41b1-86ee-ef3ab9b9e2f2\",\"type\":\"Grid\"},{\"attributes\":{\"callback\":null,\"data\":{\"x\":[1,2,3,4,5],\"y\":[2,5,8,2,7]},\"selected\":{\"id\":\"56b4dc94-295a-451d-957c-06d1157890df\",\"type\":\"Selection\"},\"selection_policy\":{\"id\":\"2121dbb1-7ae7-4b8c-ab0f-3c09206b463e\",\"type\":\"UnionRenderers\"}},\"id\":\"b166177d-0f50-4a58-8a1f-0a3d49a9486b\",\"type\":\"ColumnDataSource\"},{\"attributes\":{\"below\":[{\"id\":\"e344f92b-ac70-4bad-8a8f-45b85b898a4d\",\"type\":\"LinearAxis\"}],\"left\":[{\"id\":\"48a7a7e6-e713-467c-9d00-c2a13df58e39\",\"type\":\"LinearAxis\"}],\"plot_height\":400,\"plot_width\":400,\"renderers\":[{\"id\":\"e344f92b-ac70-4bad-8a8f-45b85b898a4d\",\"type\":\"LinearAxis\"},{\"id\":\"d24a6666-0ad6-4b54-8226-96a4f6258882\",\"type\":\"Grid\"},{\"id\":\"48a7a7e6-e713-467c-9d00-c2a13df58e39\",\"type\":\"LinearAxis\"},{\"id\":\"964dc0c1-2d7b-41b1-86ee-ef3ab9b9e2f2\",\"type\":\"Grid\"},{\"id\":\"4756d4bf-2f51-453c-8ff3-2f05e63871db\",\"type\":\"BoxAnnotation\"},{\"id\":\"84a3e26d-594d-4b3c-a333-e574c5a630d2\",\"type\":\"GlyphRenderer\"}],\"title\":{\"id\":\"1a81fe57-26ca-4f07-b73f-2e1066aa4319\",\"type\":\"Title\"},\"toolbar\":{\"id\":\"3695b8d3-24e7-49f7-ba6a-d63c10d4f09d\",\"type\":\"Toolbar\"},\"x_range\":{\"id\":\"57331c76-415d-4368-82a2-df723107187f\",\"type\":\"DataRange1d\"},\"x_scale\":{\"id\":\"2ae5063f-af72-4c2d-8c27-b19e83201ab9\",\"type\":\"LinearScale\"},\"y_range\":{\"id\":\"8eb639ae-c7fc-4bbd-ac95-9aee6bccf910\",\"type\":\"DataRange1d\"},\"y_scale\":{\"id\":\"a3b7edec-2dfc-4072-9a58-1d752893d995\",\"type\":\"LinearScale\"}},\"id\":\"1feb7f67-cee7-4ff1-a681-ee7f3359a64e\",\"subtype\":\"Figure\",\"type\":\"Plot\"},{\"attributes\":{\"fill_color\":{\"value\":\"#1f77b4\"},\"line_color\":{\"value\":\"#1f77b4\"},\"size\":{\"units\":\"screen\",\"value\":10},\"x\":{\"field\":\"x\"},\"y\":{\"field\":\"y\"}},\"id\":\"507474c1-8046-4b33-beb5-1793b574abf2\",\"type\":\"Circle\"},{\"attributes\":{\"active_drag\":\"auto\",\"active_inspect\":\"auto\",\"active_multi\":null,\"active_scroll\":\"auto\",\"active_tap\":\"auto\",\"tools\":[{\"id\":\"ab117e9b-b4f0-48e9-b793-be0bafecce76\",\"type\":\"PanTool\"},{\"id\":\"c4decb7e-bd45-4a41-96b2-dd0fbc127ced\",\"type\":\"WheelZoomTool\"},{\"id\":\"0122a31f-67dd-4e4c-bf2f-a1711c9644f3\",\"type\":\"BoxZoomTool\"},{\"id\":\"4b78b54e-be96-488e-b359-f85dc7924b92\",\"type\":\"SaveTool\"},{\"id\":\"c84b2e30-9517-44d0-b0a7-6fa3ff6b0456\",\"type\":\"ResetTool\"},{\"id\":\"e2ff1775-0b4a-49a5-8636-ca5d2b3f7601\",\"type\":\"HelpTool\"}]},\"id\":\"3695b8d3-24e7-49f7-ba6a-d63c10d4f09d\",\"type\":\"Toolbar\"},{\"attributes\":{\"data_source\":{\"id\":\"b166177d-0f50-4a58-8a1f-0a3d49a9486b\",\"type\":\"ColumnDataSource\"},\"glyph\":{\"id\":\"507474c1-8046-4b33-beb5-1793b574abf2\",\"type\":\"Circle\"},\"hover_glyph\":null,\"muted_glyph\":null,\"nonselection_glyph\":{\"id\":\"d126b117-479c-40cb-8ae5-2d741ef09673\",\"type\":\"Circle\"},\"selection_glyph\":null,\"view\":{\"id\":\"55004c3d-81a6-495e-838c-9389c3116aeb\",\"type\":\"CDSView\"}},\"id\":\"84a3e26d-594d-4b3c-a333-e574c5a630d2\",\"type\":\"GlyphRenderer\"}],\"root_ids\":[\"1feb7f67-cee7-4ff1-a681-ee7f3359a64e\"]},\"title\":\"Bokeh Application\",\"version\":\"0.13.0\"}};\n",
       "  var render_items = [{\"docid\":\"2c7071a4-d93b-4076-ab36-e72ae14eef05\",\"roots\":{\"1feb7f67-cee7-4ff1-a681-ee7f3359a64e\":\"e8db4743-2835-4ac2-8e2a-ab095f4e5d56\"}}];\n",
       "  root.Bokeh.embed.embed_items_notebook(docs_json, render_items);\n",
       "\n",
       "  }\n",
       "  if (root.Bokeh !== undefined) {\n",
       "    embed_document(root);\n",
       "  } else {\n",
       "    var attempts = 0;\n",
       "    var timer = setInterval(function(root) {\n",
       "      if (root.Bokeh !== undefined) {\n",
       "        embed_document(root);\n",
       "        clearInterval(timer);\n",
       "      }\n",
       "      attempts++;\n",
       "      if (attempts > 100) {\n",
       "        console.log(\"Bokeh: ERROR: Unable to run BokehJS code because BokehJS library is missing\")\n",
       "        clearInterval(timer);\n",
       "      }\n",
       "    }, 10, root)\n",
       "  }\n",
       "})(window);"
      ],
      "application/vnd.bokehjs_exec.v0+json": ""
     },
     "metadata": {
      "application/vnd.bokehjs_exec.v0+json": {
       "id": "1feb7f67-cee7-4ff1-a681-ee7f3359a64e"
      }
     },
     "output_type": "display_data"
    }
   ],
   "source": [
    "p = figure(plot_width=400, plot_height=400)\n",
    "p.circle([1,2,3,4,5], [2,5,8,2,7], size=10)\n",
    "\n",
    "# change just some things about the x-grid\n",
    "p.xgrid.grid_line_color = None\n",
    "\n",
    "# change just some things about the y-grid\n",
    "p.ygrid.grid_line_alpha = 0.5\n",
    "p.ygrid.grid_line_dash = [6, 4]\n",
    "\n",
    "show(p)"
   ]
  },
  {
   "cell_type": "markdown",
   "metadata": {},
   "source": [
    "The next example shows how the \"band\" properties of a plot can be specified"
   ]
  },
  {
   "cell_type": "code",
   "execution_count": 16,
   "metadata": {},
   "outputs": [
    {
     "data": {
      "text/html": [
       "\n",
       "\n",
       "\n",
       "\n",
       "\n",
       "\n",
       "  <div class=\"bk-root\" id=\"09484404-377a-470e-94c3-083498fe7803\"></div>\n"
      ]
     },
     "metadata": {},
     "output_type": "display_data"
    },
    {
     "data": {
      "application/javascript": [
       "(function(root) {\n",
       "  function embed_document(root) {\n",
       "    \n",
       "  var docs_json = {\"0d75d633-0791-4c1a-956a-b487264deed5\":{\"roots\":{\"references\":[{\"attributes\":{\"fill_alpha\":{\"value\":0.1},\"fill_color\":{\"value\":\"#1f77b4\"},\"line_alpha\":{\"value\":0.1},\"line_color\":{\"value\":\"#1f77b4\"},\"size\":{\"units\":\"screen\",\"value\":10},\"x\":{\"field\":\"x\"},\"y\":{\"field\":\"y\"}},\"id\":\"c03767ea-24aa-4e99-aac6-e61ee1f8cd49\",\"type\":\"Circle\"},{\"attributes\":{},\"id\":\"fe36e26f-7fdf-4e72-a1c9-3aeb8220786c\",\"type\":\"BasicTicker\"},{\"attributes\":{\"bottom_units\":\"screen\",\"fill_alpha\":{\"value\":0.5},\"fill_color\":{\"value\":\"lightgrey\"},\"left_units\":\"screen\",\"level\":\"overlay\",\"line_alpha\":{\"value\":1.0},\"line_color\":{\"value\":\"black\"},\"line_dash\":[4,4],\"line_width\":{\"value\":2},\"plot\":null,\"render_mode\":\"css\",\"right_units\":\"screen\",\"top_units\":\"screen\"},\"id\":\"567070dd-1351-46e0-891b-e5252aed221a\",\"type\":\"BoxAnnotation\"},{\"attributes\":{\"fill_color\":{\"value\":\"#1f77b4\"},\"line_color\":{\"value\":\"#1f77b4\"},\"size\":{\"units\":\"screen\",\"value\":10},\"x\":{\"field\":\"x\"},\"y\":{\"field\":\"y\"}},\"id\":\"a446735e-d62e-45ea-8cae-8b0e865971da\",\"type\":\"Circle\"},{\"attributes\":{\"grid_line_color\":{\"value\":null},\"plot\":{\"id\":\"71ddda13-8b9c-4ae7-9af9-797b1efc49ba\",\"subtype\":\"Figure\",\"type\":\"Plot\"},\"ticker\":{\"id\":\"86e2bbb8-980d-4302-a4a4-241a778cd4b5\",\"type\":\"BasicTicker\"}},\"id\":\"c5251383-7fb0-4f1f-af0a-466ccda66432\",\"type\":\"Grid\"},{\"attributes\":{\"data_source\":{\"id\":\"9893066d-643c-460a-8385-45af6872c3e7\",\"type\":\"ColumnDataSource\"},\"glyph\":{\"id\":\"a446735e-d62e-45ea-8cae-8b0e865971da\",\"type\":\"Circle\"},\"hover_glyph\":null,\"muted_glyph\":null,\"nonselection_glyph\":{\"id\":\"c03767ea-24aa-4e99-aac6-e61ee1f8cd49\",\"type\":\"Circle\"},\"selection_glyph\":null,\"view\":{\"id\":\"bc6f6c1a-e46a-4fec-86b3-1e0896f52077\",\"type\":\"CDSView\"}},\"id\":\"f08b4c16-0933-45c8-8ba3-6035bc8331b2\",\"type\":\"GlyphRenderer\"},{\"attributes\":{\"overlay\":{\"id\":\"567070dd-1351-46e0-891b-e5252aed221a\",\"type\":\"BoxAnnotation\"}},\"id\":\"b46cf25f-255f-4427-a693-ad472024ead1\",\"type\":\"BoxZoomTool\"},{\"attributes\":{},\"id\":\"d6fbd666-41ba-4dc1-b631-6a3797bcb4b7\",\"type\":\"HelpTool\"},{\"attributes\":{},\"id\":\"3a4644f8-c8c0-4841-a6c2-c5f8965ce4a3\",\"type\":\"ResetTool\"},{\"attributes\":{},\"id\":\"22f6bcdb-4e9c-470a-b043-5928d99aac91\",\"type\":\"SaveTool\"},{\"attributes\":{\"formatter\":{\"id\":\"8289c4a0-d233-4c0e-8454-dcd04d2359f8\",\"type\":\"BasicTickFormatter\"},\"plot\":{\"id\":\"71ddda13-8b9c-4ae7-9af9-797b1efc49ba\",\"subtype\":\"Figure\",\"type\":\"Plot\"},\"ticker\":{\"id\":\"86e2bbb8-980d-4302-a4a4-241a778cd4b5\",\"type\":\"BasicTicker\"}},\"id\":\"fe3f2aa1-3559-4e20-a238-d164873177ba\",\"type\":\"LinearAxis\"},{\"attributes\":{\"below\":[{\"id\":\"fe3f2aa1-3559-4e20-a238-d164873177ba\",\"type\":\"LinearAxis\"}],\"left\":[{\"id\":\"b20a0597-bce1-4594-97fb-b01d92ef5dcc\",\"type\":\"LinearAxis\"}],\"plot_height\":400,\"plot_width\":400,\"renderers\":[{\"id\":\"fe3f2aa1-3559-4e20-a238-d164873177ba\",\"type\":\"LinearAxis\"},{\"id\":\"c5251383-7fb0-4f1f-af0a-466ccda66432\",\"type\":\"Grid\"},{\"id\":\"b20a0597-bce1-4594-97fb-b01d92ef5dcc\",\"type\":\"LinearAxis\"},{\"id\":\"b6bf19c1-ee2c-4ce5-98bf-37ee47d64800\",\"type\":\"Grid\"},{\"id\":\"567070dd-1351-46e0-891b-e5252aed221a\",\"type\":\"BoxAnnotation\"},{\"id\":\"f08b4c16-0933-45c8-8ba3-6035bc8331b2\",\"type\":\"GlyphRenderer\"}],\"title\":{\"id\":\"1a8d1ad7-f287-4bae-bea4-1d8bea39b20f\",\"type\":\"Title\"},\"toolbar\":{\"id\":\"50715af1-963e-4829-9ac1-165152c5f61e\",\"type\":\"Toolbar\"},\"x_range\":{\"id\":\"ef22ee6f-1365-4669-8ee9-f4c29dda3ddb\",\"type\":\"DataRange1d\"},\"x_scale\":{\"id\":\"70c44037-c0c2-43b9-a0a4-5fb446b04d59\",\"type\":\"LinearScale\"},\"y_range\":{\"id\":\"969ee8c1-e782-4d8a-850b-3dd9e8feac4f\",\"type\":\"DataRange1d\"},\"y_scale\":{\"id\":\"5d24dbf0-5bf5-4482-9b07-45a446fa29ca\",\"type\":\"LinearScale\"}},\"id\":\"71ddda13-8b9c-4ae7-9af9-797b1efc49ba\",\"subtype\":\"Figure\",\"type\":\"Plot\"},{\"attributes\":{},\"id\":\"11bb653d-cd99-4523-98cc-2dce71a41336\",\"type\":\"WheelZoomTool\"},{\"attributes\":{},\"id\":\"c68ba4d4-2ccb-42fa-9c13-2c249f071e87\",\"type\":\"PanTool\"},{\"attributes\":{\"callback\":null,\"data\":{\"x\":[1,2,3,4,5],\"y\":[2,5,8,2,7]},\"selected\":{\"id\":\"9c00eacf-1010-4ea7-aa57-d6ec171d9a5c\",\"type\":\"Selection\"},\"selection_policy\":{\"id\":\"8a6d44e3-ccae-4fd6-b522-b18daa8706a4\",\"type\":\"UnionRenderers\"}},\"id\":\"9893066d-643c-460a-8385-45af6872c3e7\",\"type\":\"ColumnDataSource\"},{\"attributes\":{},\"id\":\"8d21f50d-a94f-4118-bad4-dd2c2af4bc8f\",\"type\":\"BasicTickFormatter\"},{\"attributes\":{},\"id\":\"5d24dbf0-5bf5-4482-9b07-45a446fa29ca\",\"type\":\"LinearScale\"},{\"attributes\":{\"formatter\":{\"id\":\"8d21f50d-a94f-4118-bad4-dd2c2af4bc8f\",\"type\":\"BasicTickFormatter\"},\"plot\":{\"id\":\"71ddda13-8b9c-4ae7-9af9-797b1efc49ba\",\"subtype\":\"Figure\",\"type\":\"Plot\"},\"ticker\":{\"id\":\"fe36e26f-7fdf-4e72-a1c9-3aeb8220786c\",\"type\":\"BasicTicker\"}},\"id\":\"b20a0597-bce1-4594-97fb-b01d92ef5dcc\",\"type\":\"LinearAxis\"},{\"attributes\":{\"band_fill_alpha\":{\"value\":0.1},\"band_fill_color\":{\"value\":\"navy\"},\"dimension\":1,\"plot\":{\"id\":\"71ddda13-8b9c-4ae7-9af9-797b1efc49ba\",\"subtype\":\"Figure\",\"type\":\"Plot\"},\"ticker\":{\"id\":\"fe36e26f-7fdf-4e72-a1c9-3aeb8220786c\",\"type\":\"BasicTicker\"}},\"id\":\"b6bf19c1-ee2c-4ce5-98bf-37ee47d64800\",\"type\":\"Grid\"},{\"attributes\":{\"callback\":null},\"id\":\"ef22ee6f-1365-4669-8ee9-f4c29dda3ddb\",\"type\":\"DataRange1d\"},{\"attributes\":{},\"id\":\"8289c4a0-d233-4c0e-8454-dcd04d2359f8\",\"type\":\"BasicTickFormatter\"},{\"attributes\":{\"source\":{\"id\":\"9893066d-643c-460a-8385-45af6872c3e7\",\"type\":\"ColumnDataSource\"}},\"id\":\"bc6f6c1a-e46a-4fec-86b3-1e0896f52077\",\"type\":\"CDSView\"},{\"attributes\":{},\"id\":\"8a6d44e3-ccae-4fd6-b522-b18daa8706a4\",\"type\":\"UnionRenderers\"},{\"attributes\":{},\"id\":\"70c44037-c0c2-43b9-a0a4-5fb446b04d59\",\"type\":\"LinearScale\"},{\"attributes\":{\"active_drag\":\"auto\",\"active_inspect\":\"auto\",\"active_multi\":null,\"active_scroll\":\"auto\",\"active_tap\":\"auto\",\"tools\":[{\"id\":\"c68ba4d4-2ccb-42fa-9c13-2c249f071e87\",\"type\":\"PanTool\"},{\"id\":\"11bb653d-cd99-4523-98cc-2dce71a41336\",\"type\":\"WheelZoomTool\"},{\"id\":\"b46cf25f-255f-4427-a693-ad472024ead1\",\"type\":\"BoxZoomTool\"},{\"id\":\"22f6bcdb-4e9c-470a-b043-5928d99aac91\",\"type\":\"SaveTool\"},{\"id\":\"3a4644f8-c8c0-4841-a6c2-c5f8965ce4a3\",\"type\":\"ResetTool\"},{\"id\":\"d6fbd666-41ba-4dc1-b631-6a3797bcb4b7\",\"type\":\"HelpTool\"}]},\"id\":\"50715af1-963e-4829-9ac1-165152c5f61e\",\"type\":\"Toolbar\"},{\"attributes\":{\"callback\":null},\"id\":\"969ee8c1-e782-4d8a-850b-3dd9e8feac4f\",\"type\":\"DataRange1d\"},{\"attributes\":{},\"id\":\"9c00eacf-1010-4ea7-aa57-d6ec171d9a5c\",\"type\":\"Selection\"},{\"attributes\":{\"plot\":null,\"text\":\"\"},\"id\":\"1a8d1ad7-f287-4bae-bea4-1d8bea39b20f\",\"type\":\"Title\"},{\"attributes\":{},\"id\":\"86e2bbb8-980d-4302-a4a4-241a778cd4b5\",\"type\":\"BasicTicker\"}],\"root_ids\":[\"71ddda13-8b9c-4ae7-9af9-797b1efc49ba\"]},\"title\":\"Bokeh Application\",\"version\":\"0.13.0\"}};\n",
       "  var render_items = [{\"docid\":\"0d75d633-0791-4c1a-956a-b487264deed5\",\"roots\":{\"71ddda13-8b9c-4ae7-9af9-797b1efc49ba\":\"09484404-377a-470e-94c3-083498fe7803\"}}];\n",
       "  root.Bokeh.embed.embed_items_notebook(docs_json, render_items);\n",
       "\n",
       "  }\n",
       "  if (root.Bokeh !== undefined) {\n",
       "    embed_document(root);\n",
       "  } else {\n",
       "    var attempts = 0;\n",
       "    var timer = setInterval(function(root) {\n",
       "      if (root.Bokeh !== undefined) {\n",
       "        embed_document(root);\n",
       "        clearInterval(timer);\n",
       "      }\n",
       "      attempts++;\n",
       "      if (attempts > 100) {\n",
       "        console.log(\"Bokeh: ERROR: Unable to run BokehJS code because BokehJS library is missing\")\n",
       "        clearInterval(timer);\n",
       "      }\n",
       "    }, 10, root)\n",
       "  }\n",
       "})(window);"
      ],
      "application/vnd.bokehjs_exec.v0+json": ""
     },
     "metadata": {
      "application/vnd.bokehjs_exec.v0+json": {
       "id": "71ddda13-8b9c-4ae7-9af9-797b1efc49ba"
      }
     },
     "output_type": "display_data"
    }
   ],
   "source": [
    "p = figure(plot_width=400, plot_height=400)\n",
    "p.circle([1,2,3,4,5], [2,5,8,2,7], size=10)\n",
    "\n",
    "# change just some things about the x-grid\n",
    "p.xgrid.grid_line_color = None\n",
    "\n",
    "# change just some things about the y-grid\n",
    "p.ygrid.band_fill_alpha = 0.1\n",
    "p.ygrid.band_fill_color = \"navy\"\n",
    "\n",
    "show(p)"
   ]
  },
  {
   "cell_type": "code",
   "execution_count": 17,
   "metadata": {},
   "outputs": [],
   "source": [
    "# EXERCISE Create a plot of your own and customize several grid properties\n"
   ]
  },
  {
   "cell_type": "markdown",
   "metadata": {
    "slideshow": {
     "slide_type": "slide"
    }
   },
   "source": [
    "## Legends\n",
    "\n",
    "\n"
   ]
  },
  {
   "cell_type": "code",
   "execution_count": null,
   "metadata": {},
   "outputs": [],
   "source": []
  },
  {
   "cell_type": "code",
   "execution_count": null,
   "metadata": {},
   "outputs": [],
   "source": []
  },
  {
   "cell_type": "code",
   "execution_count": null,
   "metadata": {},
   "outputs": [],
   "source": []
  },
  {
   "cell_type": "code",
   "execution_count": null,
   "metadata": {},
   "outputs": [],
   "source": []
  },
  {
   "cell_type": "code",
   "execution_count": null,
   "metadata": {},
   "outputs": [],
   "source": []
  },
  {
   "cell_type": "code",
   "execution_count": null,
   "metadata": {},
   "outputs": [],
   "source": []
  },
  {
   "cell_type": "markdown",
   "metadata": {},
   "source": [
    "Glyph renderers, axes, grids, and annotations all have a visible property that can be used to turn them on and off."
   ]
  },
  {
   "cell_type": "code",
   "execution_count": 4,
   "metadata": {},
   "outputs": [
    {
     "data": {
      "text/html": [
       "\n",
       "\n",
       "\n",
       "\n",
       "\n",
       "\n",
       "  <div class=\"bk-root\" id=\"660c443d-219e-483d-9923-25f4ddd522ea\"></div>\n"
      ]
     },
     "metadata": {},
     "output_type": "display_data"
    },
    {
     "data": {
      "application/javascript": [
       "(function(root) {\n",
       "  function embed_document(root) {\n",
       "    \n",
       "  var docs_json = {\"8a6acd3e-a319-4e89-92ea-01804fa23cdb\":{\"roots\":{\"references\":[{\"attributes\":{\"formatter\":{\"id\":\"769a5858-fcf0-46b6-baa1-54f1d95da608\",\"type\":\"BasicTickFormatter\"},\"plot\":{\"id\":\"6834d175-2f48-4e31-b00d-9646d9a4391e\",\"subtype\":\"Figure\",\"type\":\"Plot\"},\"ticker\":{\"id\":\"40bbd10d-3e25-4363-b69e-cca0f9bdfc18\",\"type\":\"BasicTicker\"}},\"id\":\"a5237808-d92f-4e6f-8304-779dd8a1c7ac\",\"type\":\"LinearAxis\"},{\"attributes\":{\"plot\":{\"id\":\"6834d175-2f48-4e31-b00d-9646d9a4391e\",\"subtype\":\"Figure\",\"type\":\"Plot\"},\"ticker\":{\"id\":\"3b310070-bac4-46f9-bf91-291e9b6a132a\",\"type\":\"BasicTicker\"},\"visible\":false},\"id\":\"fba27aa1-a3d5-44e5-b393-992c7b920bb6\",\"type\":\"Grid\"},{\"attributes\":{\"callback\":null,\"data\":{\"x\":[1,2,3],\"y\":[1,2,1]},\"selected\":{\"id\":\"d290cb75-0e7b-4d22-b61e-504199d024d7\",\"type\":\"Selection\"},\"selection_policy\":{\"id\":\"0dc1a2c2-a86c-4da9-94c7-c66eedf525bb\",\"type\":\"UnionRenderers\"}},\"id\":\"6c31565a-cf21-45df-a59f-6d0f108d12eb\",\"type\":\"ColumnDataSource\"},{\"attributes\":{\"plot\":null,\"text\":\"\"},\"id\":\"e4e48222-489a-4ed4-a5b2-22258d680709\",\"type\":\"Title\"},{\"attributes\":{\"line_alpha\":0.1,\"line_color\":\"#1f77b4\",\"x\":{\"field\":\"x\"},\"y\":{\"field\":\"y\"}},\"id\":\"b77584fd-6234-478b-ac33-a0c8f1d2fc5f\",\"type\":\"Line\"},{\"attributes\":{},\"id\":\"769a5858-fcf0-46b6-baa1-54f1d95da608\",\"type\":\"BasicTickFormatter\"},{\"attributes\":{\"callback\":null},\"id\":\"05630c1a-1997-499a-8f48-8da3f995e872\",\"type\":\"DataRange1d\"},{\"attributes\":{\"active_drag\":\"auto\",\"active_inspect\":\"auto\",\"active_multi\":null,\"active_scroll\":\"auto\",\"active_tap\":\"auto\"},\"id\":\"ac906685-7f75-4df0-8f30-7d5f93b234a0\",\"type\":\"Toolbar\"},{\"attributes\":{},\"id\":\"3b310070-bac4-46f9-bf91-291e9b6a132a\",\"type\":\"BasicTicker\"},{\"attributes\":{\"source\":{\"id\":\"6c31565a-cf21-45df-a59f-6d0f108d12eb\",\"type\":\"ColumnDataSource\"}},\"id\":\"f997478f-45e8-4f1c-b32f-72c9ee8c627a\",\"type\":\"CDSView\"},{\"attributes\":{},\"id\":\"b9aec33a-55d0-474c-87f0-bcf2adce3ff4\",\"type\":\"LinearScale\"},{\"attributes\":{\"source\":{\"id\":\"16cc5ef7-ec25-4009-ace1-84cd7127e066\",\"type\":\"ColumnDataSource\"}},\"id\":\"57fcc904-6ff2-460e-881c-abc36a5e48fe\",\"type\":\"CDSView\"},{\"attributes\":{},\"id\":\"76a76ee7-28fc-471b-b63e-dc9a9aff63b4\",\"type\":\"UnionRenderers\"},{\"attributes\":{\"dimension\":1,\"plot\":{\"id\":\"6834d175-2f48-4e31-b00d-9646d9a4391e\",\"subtype\":\"Figure\",\"type\":\"Plot\"},\"ticker\":{\"id\":\"40bbd10d-3e25-4363-b69e-cca0f9bdfc18\",\"type\":\"BasicTicker\"}},\"id\":\"ea80f43e-a81f-4601-8f13-9ffff8c70c7c\",\"type\":\"Grid\"},{\"attributes\":{\"callback\":null},\"id\":\"1f14c3a1-24a7-4013-9bac-db027e2e9224\",\"type\":\"DataRange1d\"},{\"attributes\":{\"below\":[{\"id\":\"cfbf1db4-870e-4f8c-a3d0-5e18da94e052\",\"type\":\"LinearAxis\"}],\"left\":[{\"id\":\"a5237808-d92f-4e6f-8304-779dd8a1c7ac\",\"type\":\"LinearAxis\"}],\"plot_height\":200,\"plot_width\":500,\"renderers\":[{\"id\":\"cfbf1db4-870e-4f8c-a3d0-5e18da94e052\",\"type\":\"LinearAxis\"},{\"id\":\"fba27aa1-a3d5-44e5-b393-992c7b920bb6\",\"type\":\"Grid\"},{\"id\":\"a5237808-d92f-4e6f-8304-779dd8a1c7ac\",\"type\":\"LinearAxis\"},{\"id\":\"ea80f43e-a81f-4601-8f13-9ffff8c70c7c\",\"type\":\"Grid\"},{\"id\":\"df5685c9-a114-47d0-9e2f-aa8e0d71611d\",\"type\":\"GlyphRenderer\"},{\"id\":\"ae37278d-e3fb-45ca-8930-c63246b56d5e\",\"type\":\"GlyphRenderer\"}],\"title\":{\"id\":\"e4e48222-489a-4ed4-a5b2-22258d680709\",\"type\":\"Title\"},\"toolbar\":{\"id\":\"ac906685-7f75-4df0-8f30-7d5f93b234a0\",\"type\":\"Toolbar\"},\"x_range\":{\"id\":\"05630c1a-1997-499a-8f48-8da3f995e872\",\"type\":\"DataRange1d\"},\"x_scale\":{\"id\":\"b9aec33a-55d0-474c-87f0-bcf2adce3ff4\",\"type\":\"LinearScale\"},\"y_range\":{\"id\":\"1f14c3a1-24a7-4013-9bac-db027e2e9224\",\"type\":\"DataRange1d\"},\"y_scale\":{\"id\":\"50ae869f-949b-43a7-a057-3f43e2632853\",\"type\":\"LinearScale\"}},\"id\":\"6834d175-2f48-4e31-b00d-9646d9a4391e\",\"subtype\":\"Figure\",\"type\":\"Plot\"},{\"attributes\":{\"line_color\":\"pink\",\"x\":{\"field\":\"x\"},\"y\":{\"field\":\"y\"}},\"id\":\"092a3ddc-4a8d-4e26-90af-b17848310183\",\"type\":\"Line\"},{\"attributes\":{\"line_alpha\":0.1,\"line_color\":\"#1f77b4\",\"x\":{\"field\":\"x\"},\"y\":{\"field\":\"y\"}},\"id\":\"1f135d76-98f9-4f7e-972b-3eab86eac5ae\",\"type\":\"Line\"},{\"attributes\":{},\"id\":\"3383590d-8d87-4ade-9366-41046bed1f6a\",\"type\":\"BasicTickFormatter\"},{\"attributes\":{},\"id\":\"50ae869f-949b-43a7-a057-3f43e2632853\",\"type\":\"LinearScale\"},{\"attributes\":{},\"id\":\"40bbd10d-3e25-4363-b69e-cca0f9bdfc18\",\"type\":\"BasicTicker\"},{\"attributes\":{\"data_source\":{\"id\":\"6c31565a-cf21-45df-a59f-6d0f108d12eb\",\"type\":\"ColumnDataSource\"},\"glyph\":{\"id\":\"8ba919d8-9977-4d35-a56c-f03fc5538de2\",\"type\":\"Line\"},\"hover_glyph\":null,\"muted_glyph\":null,\"nonselection_glyph\":{\"id\":\"b77584fd-6234-478b-ac33-a0c8f1d2fc5f\",\"type\":\"Line\"},\"selection_glyph\":null,\"view\":{\"id\":\"f997478f-45e8-4f1c-b32f-72c9ee8c627a\",\"type\":\"CDSView\"}},\"id\":\"df5685c9-a114-47d0-9e2f-aa8e0d71611d\",\"type\":\"GlyphRenderer\"},{\"attributes\":{},\"id\":\"0dc1a2c2-a86c-4da9-94c7-c66eedf525bb\",\"type\":\"UnionRenderers\"},{\"attributes\":{\"data_source\":{\"id\":\"16cc5ef7-ec25-4009-ace1-84cd7127e066\",\"type\":\"ColumnDataSource\"},\"glyph\":{\"id\":\"092a3ddc-4a8d-4e26-90af-b17848310183\",\"type\":\"Line\"},\"hover_glyph\":null,\"muted_glyph\":null,\"nonselection_glyph\":{\"id\":\"1f135d76-98f9-4f7e-972b-3eab86eac5ae\",\"type\":\"Line\"},\"selection_glyph\":null,\"view\":{\"id\":\"57fcc904-6ff2-460e-881c-abc36a5e48fe\",\"type\":\"CDSView\"},\"visible\":false},\"id\":\"ae37278d-e3fb-45ca-8930-c63246b56d5e\",\"type\":\"GlyphRenderer\"},{\"attributes\":{\"line_color\":\"blue\",\"x\":{\"field\":\"x\"},\"y\":{\"field\":\"y\"}},\"id\":\"8ba919d8-9977-4d35-a56c-f03fc5538de2\",\"type\":\"Line\"},{\"attributes\":{},\"id\":\"d290cb75-0e7b-4d22-b61e-504199d024d7\",\"type\":\"Selection\"},{\"attributes\":{\"formatter\":{\"id\":\"3383590d-8d87-4ade-9366-41046bed1f6a\",\"type\":\"BasicTickFormatter\"},\"plot\":{\"id\":\"6834d175-2f48-4e31-b00d-9646d9a4391e\",\"subtype\":\"Figure\",\"type\":\"Plot\"},\"ticker\":{\"id\":\"3b310070-bac4-46f9-bf91-291e9b6a132a\",\"type\":\"BasicTicker\"},\"visible\":false},\"id\":\"cfbf1db4-870e-4f8c-a3d0-5e18da94e052\",\"type\":\"LinearAxis\"},{\"attributes\":{},\"id\":\"d83dda07-c4d5-4b67-b00b-56403463d611\",\"type\":\"Selection\"},{\"attributes\":{\"callback\":null,\"data\":{\"x\":[1,2,3],\"y\":[2,1,2]},\"selected\":{\"id\":\"d83dda07-c4d5-4b67-b00b-56403463d611\",\"type\":\"Selection\"},\"selection_policy\":{\"id\":\"76a76ee7-28fc-471b-b63e-dc9a9aff63b4\",\"type\":\"UnionRenderers\"}},\"id\":\"16cc5ef7-ec25-4009-ace1-84cd7127e066\",\"type\":\"ColumnDataSource\"}],\"root_ids\":[\"6834d175-2f48-4e31-b00d-9646d9a4391e\"]},\"title\":\"Bokeh Application\",\"version\":\"0.13.0\"}};\n",
       "  var render_items = [{\"docid\":\"8a6acd3e-a319-4e89-92ea-01804fa23cdb\",\"roots\":{\"6834d175-2f48-4e31-b00d-9646d9a4391e\":\"660c443d-219e-483d-9923-25f4ddd522ea\"}}];\n",
       "  root.Bokeh.embed.embed_items_notebook(docs_json, render_items);\n",
       "\n",
       "  }\n",
       "  if (root.Bokeh !== undefined) {\n",
       "    embed_document(root);\n",
       "  } else {\n",
       "    var attempts = 0;\n",
       "    var timer = setInterval(function(root) {\n",
       "      if (root.Bokeh !== undefined) {\n",
       "        embed_document(root);\n",
       "        clearInterval(timer);\n",
       "      }\n",
       "      attempts++;\n",
       "      if (attempts > 100) {\n",
       "        console.log(\"Bokeh: ERROR: Unable to run BokehJS code because BokehJS library is missing\")\n",
       "        clearInterval(timer);\n",
       "      }\n",
       "    }, 10, root)\n",
       "  }\n",
       "})(window);"
      ],
      "application/vnd.bokehjs_exec.v0+json": ""
     },
     "metadata": {
      "application/vnd.bokehjs_exec.v0+json": {
       "id": "6834d175-2f48-4e31-b00d-9646d9a4391e"
      }
     },
     "output_type": "display_data"
    }
   ],
   "source": [
    "from bokeh.io import output_file, show\n",
    "from bokeh.plotting import figure\n",
    "\n",
    "# We set-up a standard figure with two lines\n",
    "p = figure(plot_width=500, plot_height=200, tools='')\n",
    "visible_line = p.line([1, 2, 3], [1, 2, 1], line_color=\"blue\")\n",
    "invisible_line = p.line([1, 2, 3], [2, 1, 2], line_color=\"pink\")\n",
    "\n",
    "# We hide the xaxis, the xgrid lines, and the pink line\n",
    "invisible_line.visible = False\n",
    "p.xaxis.visible = False\n",
    "p.xgrid.visible = False\n",
    "\n",
    "#output_file(\"styling_visible_property.html\")\n",
    "\n",
    "show(p)"
   ]
  },
  {
   "cell_type": "code",
   "execution_count": 12,
   "metadata": {},
   "outputs": [
    {
     "data": {
      "text/html": [
       "\n",
       "\n",
       "\n",
       "\n",
       "\n",
       "\n",
       "  <div class=\"bk-root\" id=\"42950ba2-b74a-49b2-b0a7-f536510d683f\"></div>\n"
      ]
     },
     "metadata": {},
     "output_type": "display_data"
    },
    {
     "data": {
      "application/javascript": [
       "(function(root) {\n",
       "  function embed_document(root) {\n",
       "    \n",
       "  var docs_json = {\"c53563ad-36e0-43dd-90ee-08f0cd7c5ac7\":{\"roots\":{\"references\":[{\"attributes\":{},\"id\":\"75fd0733-cec3-4f70-a635-6ed605048a95\",\"type\":\"UnionRenderers\"},{\"attributes\":{},\"id\":\"fdc0d44c-125b-404c-a373-3f5abffad0aa\",\"type\":\"BasicTicker\"},{\"attributes\":{\"fill_alpha\":{\"value\":0.1},\"fill_color\":{\"value\":\"green\"},\"left\":1.5,\"plot\":{\"id\":\"e4519c46-380f-4943-a03f-3d0eb7db555a\",\"subtype\":\"Figure\",\"type\":\"Plot\"},\"right\":2.5},\"id\":\"43246e83-9faf-4d50-8390-157feeb67d06\",\"type\":\"BoxAnnotation\"},{\"attributes\":{\"line_alpha\":0.1,\"line_color\":\"#1f77b4\",\"x\":{\"field\":\"x\"},\"y\":{\"field\":\"y\"}},\"id\":\"0817dcf2-67dd-4190-9a55-cdac9e7d676e\",\"type\":\"Line\"},{\"attributes\":{\"active_drag\":\"auto\",\"active_inspect\":\"auto\",\"active_multi\":null,\"active_scroll\":\"auto\",\"active_tap\":\"auto\"},\"id\":\"659ec302-d657-4165-9776-b4272444b5e4\",\"type\":\"Toolbar\"},{\"attributes\":{\"data_source\":{\"id\":\"8d8f3ee2-bb07-4fd3-9d73-e37e811c3191\",\"type\":\"ColumnDataSource\"},\"glyph\":{\"id\":\"e5d184e6-03c4-4460-9e45-80464d82e424\",\"type\":\"Line\"},\"hover_glyph\":null,\"muted_glyph\":null,\"nonselection_glyph\":{\"id\":\"f4d213bb-6a58-40bc-aeb0-a92112e38a95\",\"type\":\"Line\"},\"selection_glyph\":null,\"view\":{\"id\":\"d9869db2-3b35-486a-89bf-d95cf961ae57\",\"type\":\"CDSView\"}},\"id\":\"ddd04cb4-c103-4d28-b3d7-16692c6be712\",\"type\":\"GlyphRenderer\"},{\"attributes\":{\"button_type\":\"success\",\"callback\":{\"id\":\"8dcc8609-281d-43e7-b286-9b5d8f2d5bf0\",\"type\":\"CustomJS\"},\"icon\":null,\"label\":\"Green Box\"},\"id\":\"facf1f9f-1c2b-4cdd-b826-f8478be75267\",\"type\":\"Toggle\"},{\"attributes\":{},\"id\":\"b932625b-b509-476f-9b7e-47abf76a6b33\",\"type\":\"BasicTickFormatter\"},{\"attributes\":{\"callback\":null,\"data\":{\"x\":[1,2,3],\"y\":[1,2,1]},\"selected\":{\"id\":\"ad840337-5183-4514-b214-16e4ff7f0e7c\",\"type\":\"Selection\"},\"selection_policy\":{\"id\":\"75fd0733-cec3-4f70-a635-6ed605048a95\",\"type\":\"UnionRenderers\"}},\"id\":\"8d8f3ee2-bb07-4fd3-9d73-e37e811c3191\",\"type\":\"ColumnDataSource\"},{\"attributes\":{\"callback\":null,\"data\":{\"x\":[1,2,3],\"y\":[2,1,2]},\"selected\":{\"id\":\"bb879083-49e8-42da-b705-5dae782f73f4\",\"type\":\"Selection\"},\"selection_policy\":{\"id\":\"a3b680ee-a3b5-4652-aefc-8700d540ca48\",\"type\":\"UnionRenderers\"}},\"id\":\"3c93d8e5-acb3-4d31-a4ab-ead6c6d009db\",\"type\":\"ColumnDataSource\"},{\"attributes\":{\"line_color\":\"pink\",\"x\":{\"field\":\"x\"},\"y\":{\"field\":\"y\"}},\"id\":\"f2d502d8-a4a8-43a1-9788-de92e7ddea4a\",\"type\":\"Line\"},{\"attributes\":{\"args\":{\"object\":{\"id\":\"43246e83-9faf-4d50-8390-157feeb67d06\",\"type\":\"BoxAnnotation\"},\"toggle\":{\"id\":\"facf1f9f-1c2b-4cdd-b826-f8478be75267\",\"type\":\"Toggle\"}},\"code\":\"object.visible = toggle.active;\\n\"},\"id\":\"8dcc8609-281d-43e7-b286-9b5d8f2d5bf0\",\"type\":\"CustomJS\"},{\"attributes\":{\"line_alpha\":0.1,\"line_color\":\"#1f77b4\",\"x\":{\"field\":\"x\"},\"y\":{\"field\":\"y\"}},\"id\":\"f4d213bb-6a58-40bc-aeb0-a92112e38a95\",\"type\":\"Line\"},{\"attributes\":{\"args\":{\"object\":{\"id\":\"a1285ca4-4a14-4740-9d7a-3476e802aecf\",\"type\":\"GlyphRenderer\"},\"toggle\":{\"id\":\"3e875216-fca8-41ee-a5e1-685fc1037e9e\",\"type\":\"Toggle\"}},\"code\":\"object.visible = toggle.active;\\n\"},\"id\":\"dc39cc31-455d-4500-abe1-41a38934c9e9\",\"type\":\"CustomJS\"},{\"attributes\":{},\"id\":\"bb879083-49e8-42da-b705-5dae782f73f4\",\"type\":\"Selection\"},{\"attributes\":{},\"id\":\"2a94431b-fe1f-4381-89cc-82fcccf8a6fc\",\"type\":\"LinearScale\"},{\"attributes\":{\"formatter\":{\"id\":\"b932625b-b509-476f-9b7e-47abf76a6b33\",\"type\":\"BasicTickFormatter\"},\"plot\":{\"id\":\"e4519c46-380f-4943-a03f-3d0eb7db555a\",\"subtype\":\"Figure\",\"type\":\"Plot\"},\"ticker\":{\"id\":\"fdc0d44c-125b-404c-a373-3f5abffad0aa\",\"type\":\"BasicTicker\"}},\"id\":\"c858f679-38f1-4d74-9129-fa4814e643ce\",\"type\":\"LinearAxis\"},{\"attributes\":{\"callback\":null},\"id\":\"7402746a-5c58-487e-83e7-ec6403e1d7bd\",\"type\":\"DataRange1d\"},{\"attributes\":{\"children\":[{\"id\":\"e4519c46-380f-4943-a03f-3d0eb7db555a\",\"subtype\":\"Figure\",\"type\":\"Plot\"}]},\"id\":\"8bb917eb-1364-4ebe-b74d-7a1f0b0f3853\",\"type\":\"Row\"},{\"attributes\":{\"formatter\":{\"id\":\"982e558a-876b-485b-8932-ea6eb126bc10\",\"type\":\"BasicTickFormatter\"},\"plot\":{\"id\":\"e4519c46-380f-4943-a03f-3d0eb7db555a\",\"subtype\":\"Figure\",\"type\":\"Plot\"},\"ticker\":{\"id\":\"9f944877-1b33-4a79-b1f4-28e177da3190\",\"type\":\"BasicTicker\"}},\"id\":\"f72cbe38-93fb-42e9-9308-16882732ae21\",\"type\":\"LinearAxis\"},{\"attributes\":{},\"id\":\"982e558a-876b-485b-8932-ea6eb126bc10\",\"type\":\"BasicTickFormatter\"},{\"attributes\":{\"below\":[{\"id\":\"c858f679-38f1-4d74-9129-fa4814e643ce\",\"type\":\"LinearAxis\"}],\"left\":[{\"id\":\"f72cbe38-93fb-42e9-9308-16882732ae21\",\"type\":\"LinearAxis\"}],\"plot_height\":200,\"renderers\":[{\"id\":\"c858f679-38f1-4d74-9129-fa4814e643ce\",\"type\":\"LinearAxis\"},{\"id\":\"528c5ae6-e1b3-435d-b2aa-8b4733dd15d3\",\"type\":\"Grid\"},{\"id\":\"f72cbe38-93fb-42e9-9308-16882732ae21\",\"type\":\"LinearAxis\"},{\"id\":\"f477491d-577e-4acb-846e-3b183404c752\",\"type\":\"Grid\"},{\"id\":\"ddd04cb4-c103-4d28-b3d7-16692c6be712\",\"type\":\"GlyphRenderer\"},{\"id\":\"a1285ca4-4a14-4740-9d7a-3476e802aecf\",\"type\":\"GlyphRenderer\"},{\"id\":\"43246e83-9faf-4d50-8390-157feeb67d06\",\"type\":\"BoxAnnotation\"}],\"title\":{\"id\":\"ba8a924a-c339-495f-842b-6bdb573a871b\",\"type\":\"Title\"},\"toolbar\":{\"id\":\"659ec302-d657-4165-9776-b4272444b5e4\",\"type\":\"Toolbar\"},\"x_range\":{\"id\":\"7402746a-5c58-487e-83e7-ec6403e1d7bd\",\"type\":\"DataRange1d\"},\"x_scale\":{\"id\":\"1e0fdb8a-9698-43e0-9597-8b341a2d9416\",\"type\":\"LinearScale\"},\"y_range\":{\"id\":\"54d49679-437c-412c-bbc9-53d07e6d9b34\",\"type\":\"DataRange1d\"},\"y_scale\":{\"id\":\"2a94431b-fe1f-4381-89cc-82fcccf8a6fc\",\"type\":\"LinearScale\"}},\"id\":\"e4519c46-380f-4943-a03f-3d0eb7db555a\",\"subtype\":\"Figure\",\"type\":\"Plot\"},{\"attributes\":{\"data_source\":{\"id\":\"3c93d8e5-acb3-4d31-a4ab-ead6c6d009db\",\"type\":\"ColumnDataSource\"},\"glyph\":{\"id\":\"f2d502d8-a4a8-43a1-9788-de92e7ddea4a\",\"type\":\"Line\"},\"hover_glyph\":null,\"muted_glyph\":null,\"nonselection_glyph\":{\"id\":\"0817dcf2-67dd-4190-9a55-cdac9e7d676e\",\"type\":\"Line\"},\"selection_glyph\":null,\"view\":{\"id\":\"74763101-3d68-4ef1-ad62-5077008fffed\",\"type\":\"CDSView\"}},\"id\":\"a1285ca4-4a14-4740-9d7a-3476e802aecf\",\"type\":\"GlyphRenderer\"},{\"attributes\":{\"children\":[{\"id\":\"3e875216-fca8-41ee-a5e1-685fc1037e9e\",\"type\":\"Toggle\"}]},\"id\":\"5e67aae3-dcd9-4798-b4e8-018316b897fd\",\"type\":\"WidgetBox\"},{\"attributes\":{\"dimension\":1,\"plot\":{\"id\":\"e4519c46-380f-4943-a03f-3d0eb7db555a\",\"subtype\":\"Figure\",\"type\":\"Plot\"},\"ticker\":{\"id\":\"9f944877-1b33-4a79-b1f4-28e177da3190\",\"type\":\"BasicTicker\"}},\"id\":\"f477491d-577e-4acb-846e-3b183404c752\",\"type\":\"Grid\"},{\"attributes\":{\"children\":[{\"id\":\"8bb917eb-1364-4ebe-b74d-7a1f0b0f3853\",\"type\":\"Row\"},{\"id\":\"ac74a13a-8e63-4c26-8a27-0854eacf7c1d\",\"type\":\"Row\"}]},\"id\":\"363a9eee-56b7-4d4b-aa74-4aca029571a7\",\"type\":\"Column\"},{\"attributes\":{},\"id\":\"ad840337-5183-4514-b214-16e4ff7f0e7c\",\"type\":\"Selection\"},{\"attributes\":{\"button_type\":\"success\",\"callback\":{\"id\":\"dc39cc31-455d-4500-abe1-41a38934c9e9\",\"type\":\"CustomJS\"},\"icon\":null,\"label\":\"Pink Line\"},\"id\":\"3e875216-fca8-41ee-a5e1-685fc1037e9e\",\"type\":\"Toggle\"},{\"attributes\":{\"source\":{\"id\":\"8d8f3ee2-bb07-4fd3-9d73-e37e811c3191\",\"type\":\"ColumnDataSource\"}},\"id\":\"d9869db2-3b35-486a-89bf-d95cf961ae57\",\"type\":\"CDSView\"},{\"attributes\":{},\"id\":\"1e0fdb8a-9698-43e0-9597-8b341a2d9416\",\"type\":\"LinearScale\"},{\"attributes\":{\"callback\":null},\"id\":\"54d49679-437c-412c-bbc9-53d07e6d9b34\",\"type\":\"DataRange1d\"},{\"attributes\":{},\"id\":\"9f944877-1b33-4a79-b1f4-28e177da3190\",\"type\":\"BasicTicker\"},{\"attributes\":{\"children\":[{\"id\":\"0939f596-54e1-4dfd-90b8-0ccfd0bbe7fe\",\"type\":\"WidgetBox\"},{\"id\":\"5e67aae3-dcd9-4798-b4e8-018316b897fd\",\"type\":\"WidgetBox\"}]},\"id\":\"ac74a13a-8e63-4c26-8a27-0854eacf7c1d\",\"type\":\"Row\"},{\"attributes\":{\"source\":{\"id\":\"3c93d8e5-acb3-4d31-a4ab-ead6c6d009db\",\"type\":\"ColumnDataSource\"}},\"id\":\"74763101-3d68-4ef1-ad62-5077008fffed\",\"type\":\"CDSView\"},{\"attributes\":{},\"id\":\"a3b680ee-a3b5-4652-aefc-8700d540ca48\",\"type\":\"UnionRenderers\"},{\"attributes\":{\"line_color\":\"blue\",\"x\":{\"field\":\"x\"},\"y\":{\"field\":\"y\"}},\"id\":\"e5d184e6-03c4-4460-9e45-80464d82e424\",\"type\":\"Line\"},{\"attributes\":{\"plot\":null,\"text\":\"\"},\"id\":\"ba8a924a-c339-495f-842b-6bdb573a871b\",\"type\":\"Title\"},{\"attributes\":{\"children\":[{\"id\":\"facf1f9f-1c2b-4cdd-b826-f8478be75267\",\"type\":\"Toggle\"}]},\"id\":\"0939f596-54e1-4dfd-90b8-0ccfd0bbe7fe\",\"type\":\"WidgetBox\"},{\"attributes\":{\"plot\":{\"id\":\"e4519c46-380f-4943-a03f-3d0eb7db555a\",\"subtype\":\"Figure\",\"type\":\"Plot\"},\"ticker\":{\"id\":\"fdc0d44c-125b-404c-a373-3f5abffad0aa\",\"type\":\"BasicTicker\"}},\"id\":\"528c5ae6-e1b3-435d-b2aa-8b4733dd15d3\",\"type\":\"Grid\"}],\"root_ids\":[\"363a9eee-56b7-4d4b-aa74-4aca029571a7\"]},\"title\":\"Bokeh Application\",\"version\":\"0.13.0\"}};\n",
       "  var render_items = [{\"docid\":\"c53563ad-36e0-43dd-90ee-08f0cd7c5ac7\",\"roots\":{\"363a9eee-56b7-4d4b-aa74-4aca029571a7\":\"42950ba2-b74a-49b2-b0a7-f536510d683f\"}}];\n",
       "  root.Bokeh.embed.embed_items_notebook(docs_json, render_items);\n",
       "\n",
       "  }\n",
       "  if (root.Bokeh !== undefined) {\n",
       "    embed_document(root);\n",
       "  } else {\n",
       "    var attempts = 0;\n",
       "    var timer = setInterval(function(root) {\n",
       "      if (root.Bokeh !== undefined) {\n",
       "        embed_document(root);\n",
       "        clearInterval(timer);\n",
       "      }\n",
       "      attempts++;\n",
       "      if (attempts > 100) {\n",
       "        console.log(\"Bokeh: ERROR: Unable to run BokehJS code because BokehJS library is missing\")\n",
       "        clearInterval(timer);\n",
       "      }\n",
       "    }, 10, root)\n",
       "  }\n",
       "})(window);"
      ],
      "application/vnd.bokehjs_exec.v0+json": ""
     },
     "metadata": {
      "application/vnd.bokehjs_exec.v0+json": {
       "id": "363a9eee-56b7-4d4b-aa74-4aca029571a7"
      }
     },
     "output_type": "display_data"
    }
   ],
   "source": [
    "from bokeh.io import output_file, show\n",
    "from bokeh.plotting import figure\n",
    "from bokeh.layouts import layout\n",
    "from bokeh.models import Toggle, BoxAnnotation, CustomJS\n",
    "\n",
    "# We set-up the same standard figure with two lines and now a box over top\n",
    "p = figure(plot_width=600, plot_height=200, tools='')\n",
    "visible_line = p.line([1, 2, 3], [1, 2, 1], line_color=\"blue\")\n",
    "invisible_line = p.line([1, 2, 3], [2, 1, 2], line_color=\"pink\")\n",
    "\n",
    "box = BoxAnnotation(left=1.5, right=2.5, fill_color='green', fill_alpha=0.1)\n",
    "p.add_layout(box)\n",
    "\n",
    "# We write coffeescript to link toggle with visible property of box and line\n",
    "code = '''\\\n",
    "object.visible = toggle.active\n",
    "'''\n",
    "\n",
    "callback1 = CustomJS.from_coffeescript(code=code, args={})\n",
    "toggle1 = Toggle(label=\"Green Box\", button_type=\"success\", callback=callback1)\n",
    "callback1.args = {'toggle': toggle1, 'object': box}\n",
    "\n",
    "callback2 = CustomJS.from_coffeescript(code=code, args={})\n",
    "toggle2 = Toggle(label=\"Pink Line\", button_type=\"success\", callback=callback2)\n",
    "callback2.args = {'toggle': toggle2, 'object': invisible_line}\n",
    "\n",
    "#output_file(\"styling_visible_annotation_with_interaction.html\")\n",
    "\n",
    "show(layout([p], [toggle1, toggle2]))"
   ]
  },
  {
   "cell_type": "code",
   "execution_count": null,
   "metadata": {},
   "outputs": [],
   "source": []
  },
  {
   "cell_type": "code",
   "execution_count": null,
   "metadata": {},
   "outputs": [],
   "source": []
  },
  {
   "cell_type": "code",
   "execution_count": null,
   "metadata": {},
   "outputs": [],
   "source": []
  },
  {
   "cell_type": "code",
   "execution_count": null,
   "metadata": {},
   "outputs": [],
   "source": []
  }
 ],
 "metadata": {
  "celltoolbar": "Slideshow",
  "kernelspec": {
   "display_name": "Python 3",
   "language": "python",
   "name": "python3"
  },
  "language_info": {
   "codemirror_mode": {
    "name": "ipython",
    "version": 3
   },
   "file_extension": ".py",
   "mimetype": "text/x-python",
   "name": "python",
   "nbconvert_exporter": "python",
   "pygments_lexer": "ipython3",
   "version": "3.5.6"
  }
 },
 "nbformat": 4,
 "nbformat_minor": 1
}
