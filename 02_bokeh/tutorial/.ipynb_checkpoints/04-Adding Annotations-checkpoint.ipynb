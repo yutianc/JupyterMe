{
 "cells": [
  {
   "cell_type": "markdown",
   "metadata": {},
   "source": [
    "<table style=\"float:left; border:none\">\n",
    "   <tr style=\"border:none; background-color: #ffffff\">\n",
    "       <td style=\"border:none\">\n",
    "           <a href=\"http://bokeh.pydata.org/\">     \n",
    "           <img \n",
    "               src=\"assets/bokeh-transparent.png\" \n",
    "               style=\"width:50px\"\n",
    "           >\n",
    "           </a>    \n",
    "       </td>\n",
    "       <td style=\"border:none\">\n",
    "           <h1>Bokeh Tutorial</h1>\n",
    "       </td>\n",
    "   </tr>\n",
    "</table>\n",
    "\n",
    "<div style=\"float:right;\"><h2>04. Adding Annotations</h2></div>"
   ]
  },
  {
   "cell_type": "code",
   "execution_count": 2,
   "metadata": {},
   "outputs": [],
   "source": [
    "from bokeh.io import output_notebook, show\n"
   ]
  },
  {
   "cell_type": "code",
   "execution_count": 3,
   "metadata": {},
   "outputs": [
    {
     "data": {
      "text/html": [
       "\n",
       "    <div class=\"bk-root\">\n",
       "        <a href=\"https://bokeh.pydata.org\" target=\"_blank\" class=\"bk-logo bk-logo-small bk-logo-notebook\"></a>\n",
       "        <span id=\"49fb6fe7-a8d4-4b99-901b-5c6f076a9ad5\">Loading BokehJS ...</span>\n",
       "    </div>"
      ]
     },
     "metadata": {},
     "output_type": "display_data"
    },
    {
     "data": {
      "application/javascript": [
       "\n",
       "(function(root) {\n",
       "  function now() {\n",
       "    return new Date();\n",
       "  }\n",
       "\n",
       "  var force = true;\n",
       "\n",
       "  if (typeof (root._bokeh_onload_callbacks) === \"undefined\" || force === true) {\n",
       "    root._bokeh_onload_callbacks = [];\n",
       "    root._bokeh_is_loading = undefined;\n",
       "  }\n",
       "\n",
       "  var JS_MIME_TYPE = 'application/javascript';\n",
       "  var HTML_MIME_TYPE = 'text/html';\n",
       "  var EXEC_MIME_TYPE = 'application/vnd.bokehjs_exec.v0+json';\n",
       "  var CLASS_NAME = 'output_bokeh rendered_html';\n",
       "\n",
       "  /**\n",
       "   * Render data to the DOM node\n",
       "   */\n",
       "  function render(props, node) {\n",
       "    var script = document.createElement(\"script\");\n",
       "    node.appendChild(script);\n",
       "  }\n",
       "\n",
       "  /**\n",
       "   * Handle when an output is cleared or removed\n",
       "   */\n",
       "  function handleClearOutput(event, handle) {\n",
       "    var cell = handle.cell;\n",
       "\n",
       "    var id = cell.output_area._bokeh_element_id;\n",
       "    var server_id = cell.output_area._bokeh_server_id;\n",
       "    // Clean up Bokeh references\n",
       "    if (id != null && id in Bokeh.index) {\n",
       "      Bokeh.index[id].model.document.clear();\n",
       "      delete Bokeh.index[id];\n",
       "    }\n",
       "\n",
       "    if (server_id !== undefined) {\n",
       "      // Clean up Bokeh references\n",
       "      var cmd = \"from bokeh.io.state import curstate; print(curstate().uuid_to_server['\" + server_id + \"'].get_sessions()[0].document.roots[0]._id)\";\n",
       "      cell.notebook.kernel.execute(cmd, {\n",
       "        iopub: {\n",
       "          output: function(msg) {\n",
       "            var id = msg.content.text.trim();\n",
       "            if (id in Bokeh.index) {\n",
       "              Bokeh.index[id].model.document.clear();\n",
       "              delete Bokeh.index[id];\n",
       "            }\n",
       "          }\n",
       "        }\n",
       "      });\n",
       "      // Destroy server and session\n",
       "      var cmd = \"import bokeh.io.notebook as ion; ion.destroy_server('\" + server_id + \"')\";\n",
       "      cell.notebook.kernel.execute(cmd);\n",
       "    }\n",
       "  }\n",
       "\n",
       "  /**\n",
       "   * Handle when a new output is added\n",
       "   */\n",
       "  function handleAddOutput(event, handle) {\n",
       "    var output_area = handle.output_area;\n",
       "    var output = handle.output;\n",
       "\n",
       "    // limit handleAddOutput to display_data with EXEC_MIME_TYPE content only\n",
       "    if ((output.output_type != \"display_data\") || (!output.data.hasOwnProperty(EXEC_MIME_TYPE))) {\n",
       "      return\n",
       "    }\n",
       "\n",
       "    var toinsert = output_area.element.find(\".\" + CLASS_NAME.split(' ')[0]);\n",
       "\n",
       "    if (output.metadata[EXEC_MIME_TYPE][\"id\"] !== undefined) {\n",
       "      toinsert[toinsert.length - 1].firstChild.textContent = output.data[JS_MIME_TYPE];\n",
       "      // store reference to embed id on output_area\n",
       "      output_area._bokeh_element_id = output.metadata[EXEC_MIME_TYPE][\"id\"];\n",
       "    }\n",
       "    if (output.metadata[EXEC_MIME_TYPE][\"server_id\"] !== undefined) {\n",
       "      var bk_div = document.createElement(\"div\");\n",
       "      bk_div.innerHTML = output.data[HTML_MIME_TYPE];\n",
       "      var script_attrs = bk_div.children[0].attributes;\n",
       "      for (var i = 0; i < script_attrs.length; i++) {\n",
       "        toinsert[toinsert.length - 1].firstChild.setAttribute(script_attrs[i].name, script_attrs[i].value);\n",
       "      }\n",
       "      // store reference to server id on output_area\n",
       "      output_area._bokeh_server_id = output.metadata[EXEC_MIME_TYPE][\"server_id\"];\n",
       "    }\n",
       "  }\n",
       "\n",
       "  function register_renderer(events, OutputArea) {\n",
       "\n",
       "    function append_mime(data, metadata, element) {\n",
       "      // create a DOM node to render to\n",
       "      var toinsert = this.create_output_subarea(\n",
       "        metadata,\n",
       "        CLASS_NAME,\n",
       "        EXEC_MIME_TYPE\n",
       "      );\n",
       "      this.keyboard_manager.register_events(toinsert);\n",
       "      // Render to node\n",
       "      var props = {data: data, metadata: metadata[EXEC_MIME_TYPE]};\n",
       "      render(props, toinsert[toinsert.length - 1]);\n",
       "      element.append(toinsert);\n",
       "      return toinsert\n",
       "    }\n",
       "\n",
       "    /* Handle when an output is cleared or removed */\n",
       "    events.on('clear_output.CodeCell', handleClearOutput);\n",
       "    events.on('delete.Cell', handleClearOutput);\n",
       "\n",
       "    /* Handle when a new output is added */\n",
       "    events.on('output_added.OutputArea', handleAddOutput);\n",
       "\n",
       "    /**\n",
       "     * Register the mime type and append_mime function with output_area\n",
       "     */\n",
       "    OutputArea.prototype.register_mime_type(EXEC_MIME_TYPE, append_mime, {\n",
       "      /* Is output safe? */\n",
       "      safe: true,\n",
       "      /* Index of renderer in `output_area.display_order` */\n",
       "      index: 0\n",
       "    });\n",
       "  }\n",
       "\n",
       "  // register the mime type if in Jupyter Notebook environment and previously unregistered\n",
       "  if (root.Jupyter !== undefined) {\n",
       "    var events = require('base/js/events');\n",
       "    var OutputArea = require('notebook/js/outputarea').OutputArea;\n",
       "\n",
       "    if (OutputArea.prototype.mime_types().indexOf(EXEC_MIME_TYPE) == -1) {\n",
       "      register_renderer(events, OutputArea);\n",
       "    }\n",
       "  }\n",
       "\n",
       "  \n",
       "  if (typeof (root._bokeh_timeout) === \"undefined\" || force === true) {\n",
       "    root._bokeh_timeout = Date.now() + 5000;\n",
       "    root._bokeh_failed_load = false;\n",
       "  }\n",
       "\n",
       "  var NB_LOAD_WARNING = {'data': {'text/html':\n",
       "     \"<div style='background-color: #fdd'>\\n\"+\n",
       "     \"<p>\\n\"+\n",
       "     \"BokehJS does not appear to have successfully loaded. If loading BokehJS from CDN, this \\n\"+\n",
       "     \"may be due to a slow or bad network connection. Possible fixes:\\n\"+\n",
       "     \"</p>\\n\"+\n",
       "     \"<ul>\\n\"+\n",
       "     \"<li>re-rerun `output_notebook()` to attempt to load from CDN again, or</li>\\n\"+\n",
       "     \"<li>use INLINE resources instead, as so:</li>\\n\"+\n",
       "     \"</ul>\\n\"+\n",
       "     \"<code>\\n\"+\n",
       "     \"from bokeh.resources import INLINE\\n\"+\n",
       "     \"output_notebook(resources=INLINE)\\n\"+\n",
       "     \"</code>\\n\"+\n",
       "     \"</div>\"}};\n",
       "\n",
       "  function display_loaded() {\n",
       "    var el = document.getElementById(\"49fb6fe7-a8d4-4b99-901b-5c6f076a9ad5\");\n",
       "    if (el != null) {\n",
       "      el.textContent = \"BokehJS is loading...\";\n",
       "    }\n",
       "    if (root.Bokeh !== undefined) {\n",
       "      if (el != null) {\n",
       "        el.textContent = \"BokehJS \" + root.Bokeh.version + \" successfully loaded.\";\n",
       "      }\n",
       "    } else if (Date.now() < root._bokeh_timeout) {\n",
       "      setTimeout(display_loaded, 100)\n",
       "    }\n",
       "  }\n",
       "\n",
       "\n",
       "  function run_callbacks() {\n",
       "    try {\n",
       "      root._bokeh_onload_callbacks.forEach(function(callback) { callback() });\n",
       "    }\n",
       "    finally {\n",
       "      delete root._bokeh_onload_callbacks\n",
       "    }\n",
       "    console.info(\"Bokeh: all callbacks have finished\");\n",
       "  }\n",
       "\n",
       "  function load_libs(js_urls, callback) {\n",
       "    root._bokeh_onload_callbacks.push(callback);\n",
       "    if (root._bokeh_is_loading > 0) {\n",
       "      console.log(\"Bokeh: BokehJS is being loaded, scheduling callback at\", now());\n",
       "      return null;\n",
       "    }\n",
       "    if (js_urls == null || js_urls.length === 0) {\n",
       "      run_callbacks();\n",
       "      return null;\n",
       "    }\n",
       "    console.log(\"Bokeh: BokehJS not loaded, scheduling load and callback at\", now());\n",
       "    root._bokeh_is_loading = js_urls.length;\n",
       "    for (var i = 0; i < js_urls.length; i++) {\n",
       "      var url = js_urls[i];\n",
       "      var s = document.createElement('script');\n",
       "      s.src = url;\n",
       "      s.async = false;\n",
       "      s.onreadystatechange = s.onload = function() {\n",
       "        root._bokeh_is_loading--;\n",
       "        if (root._bokeh_is_loading === 0) {\n",
       "          console.log(\"Bokeh: all BokehJS libraries loaded\");\n",
       "          run_callbacks()\n",
       "        }\n",
       "      };\n",
       "      s.onerror = function() {\n",
       "        console.warn(\"failed to load library \" + url);\n",
       "      };\n",
       "      console.log(\"Bokeh: injecting script tag for BokehJS library: \", url);\n",
       "      document.getElementsByTagName(\"head\")[0].appendChild(s);\n",
       "    }\n",
       "  };var element = document.getElementById(\"49fb6fe7-a8d4-4b99-901b-5c6f076a9ad5\");\n",
       "  if (element == null) {\n",
       "    console.log(\"Bokeh: ERROR: autoload.js configured with elementid '49fb6fe7-a8d4-4b99-901b-5c6f076a9ad5' but no matching script tag was found. \")\n",
       "    return false;\n",
       "  }\n",
       "\n",
       "  var js_urls = [\"https://cdn.pydata.org/bokeh/release/bokeh-0.13.0.min.js\", \"https://cdn.pydata.org/bokeh/release/bokeh-widgets-0.13.0.min.js\", \"https://cdn.pydata.org/bokeh/release/bokeh-tables-0.13.0.min.js\", \"https://cdn.pydata.org/bokeh/release/bokeh-gl-0.13.0.min.js\"];\n",
       "\n",
       "  var inline_js = [\n",
       "    function(Bokeh) {\n",
       "      Bokeh.set_log_level(\"info\");\n",
       "    },\n",
       "    \n",
       "    function(Bokeh) {\n",
       "      \n",
       "    },\n",
       "    function(Bokeh) {\n",
       "      console.log(\"Bokeh: injecting CSS: https://cdn.pydata.org/bokeh/release/bokeh-0.13.0.min.css\");\n",
       "      Bokeh.embed.inject_css(\"https://cdn.pydata.org/bokeh/release/bokeh-0.13.0.min.css\");\n",
       "      console.log(\"Bokeh: injecting CSS: https://cdn.pydata.org/bokeh/release/bokeh-widgets-0.13.0.min.css\");\n",
       "      Bokeh.embed.inject_css(\"https://cdn.pydata.org/bokeh/release/bokeh-widgets-0.13.0.min.css\");\n",
       "      console.log(\"Bokeh: injecting CSS: https://cdn.pydata.org/bokeh/release/bokeh-tables-0.13.0.min.css\");\n",
       "      Bokeh.embed.inject_css(\"https://cdn.pydata.org/bokeh/release/bokeh-tables-0.13.0.min.css\");\n",
       "    }\n",
       "  ];\n",
       "\n",
       "  function run_inline_js() {\n",
       "    \n",
       "    if ((root.Bokeh !== undefined) || (force === true)) {\n",
       "      for (var i = 0; i < inline_js.length; i++) {\n",
       "        inline_js[i].call(root, root.Bokeh);\n",
       "      }if (force === true) {\n",
       "        display_loaded();\n",
       "      }} else if (Date.now() < root._bokeh_timeout) {\n",
       "      setTimeout(run_inline_js, 100);\n",
       "    } else if (!root._bokeh_failed_load) {\n",
       "      console.log(\"Bokeh: BokehJS failed to load within specified timeout.\");\n",
       "      root._bokeh_failed_load = true;\n",
       "    } else if (force !== true) {\n",
       "      var cell = $(document.getElementById(\"49fb6fe7-a8d4-4b99-901b-5c6f076a9ad5\")).parents('.cell').data().cell;\n",
       "      cell.output_area.append_execute_result(NB_LOAD_WARNING)\n",
       "    }\n",
       "\n",
       "  }\n",
       "\n",
       "  if (root._bokeh_is_loading === 0) {\n",
       "    console.log(\"Bokeh: BokehJS loaded, going straight to plotting\");\n",
       "    run_inline_js();\n",
       "  } else {\n",
       "    load_libs(js_urls, function() {\n",
       "      console.log(\"Bokeh: BokehJS plotting callback run at\", now());\n",
       "      run_inline_js();\n",
       "    });\n",
       "  }\n",
       "}(window));"
      ],
      "application/vnd.bokehjs_load.v0+json": "\n(function(root) {\n  function now() {\n    return new Date();\n  }\n\n  var force = true;\n\n  if (typeof (root._bokeh_onload_callbacks) === \"undefined\" || force === true) {\n    root._bokeh_onload_callbacks = [];\n    root._bokeh_is_loading = undefined;\n  }\n\n  \n\n  \n  if (typeof (root._bokeh_timeout) === \"undefined\" || force === true) {\n    root._bokeh_timeout = Date.now() + 5000;\n    root._bokeh_failed_load = false;\n  }\n\n  var NB_LOAD_WARNING = {'data': {'text/html':\n     \"<div style='background-color: #fdd'>\\n\"+\n     \"<p>\\n\"+\n     \"BokehJS does not appear to have successfully loaded. If loading BokehJS from CDN, this \\n\"+\n     \"may be due to a slow or bad network connection. Possible fixes:\\n\"+\n     \"</p>\\n\"+\n     \"<ul>\\n\"+\n     \"<li>re-rerun `output_notebook()` to attempt to load from CDN again, or</li>\\n\"+\n     \"<li>use INLINE resources instead, as so:</li>\\n\"+\n     \"</ul>\\n\"+\n     \"<code>\\n\"+\n     \"from bokeh.resources import INLINE\\n\"+\n     \"output_notebook(resources=INLINE)\\n\"+\n     \"</code>\\n\"+\n     \"</div>\"}};\n\n  function display_loaded() {\n    var el = document.getElementById(\"49fb6fe7-a8d4-4b99-901b-5c6f076a9ad5\");\n    if (el != null) {\n      el.textContent = \"BokehJS is loading...\";\n    }\n    if (root.Bokeh !== undefined) {\n      if (el != null) {\n        el.textContent = \"BokehJS \" + root.Bokeh.version + \" successfully loaded.\";\n      }\n    } else if (Date.now() < root._bokeh_timeout) {\n      setTimeout(display_loaded, 100)\n    }\n  }\n\n\n  function run_callbacks() {\n    try {\n      root._bokeh_onload_callbacks.forEach(function(callback) { callback() });\n    }\n    finally {\n      delete root._bokeh_onload_callbacks\n    }\n    console.info(\"Bokeh: all callbacks have finished\");\n  }\n\n  function load_libs(js_urls, callback) {\n    root._bokeh_onload_callbacks.push(callback);\n    if (root._bokeh_is_loading > 0) {\n      console.log(\"Bokeh: BokehJS is being loaded, scheduling callback at\", now());\n      return null;\n    }\n    if (js_urls == null || js_urls.length === 0) {\n      run_callbacks();\n      return null;\n    }\n    console.log(\"Bokeh: BokehJS not loaded, scheduling load and callback at\", now());\n    root._bokeh_is_loading = js_urls.length;\n    for (var i = 0; i < js_urls.length; i++) {\n      var url = js_urls[i];\n      var s = document.createElement('script');\n      s.src = url;\n      s.async = false;\n      s.onreadystatechange = s.onload = function() {\n        root._bokeh_is_loading--;\n        if (root._bokeh_is_loading === 0) {\n          console.log(\"Bokeh: all BokehJS libraries loaded\");\n          run_callbacks()\n        }\n      };\n      s.onerror = function() {\n        console.warn(\"failed to load library \" + url);\n      };\n      console.log(\"Bokeh: injecting script tag for BokehJS library: \", url);\n      document.getElementsByTagName(\"head\")[0].appendChild(s);\n    }\n  };var element = document.getElementById(\"49fb6fe7-a8d4-4b99-901b-5c6f076a9ad5\");\n  if (element == null) {\n    console.log(\"Bokeh: ERROR: autoload.js configured with elementid '49fb6fe7-a8d4-4b99-901b-5c6f076a9ad5' but no matching script tag was found. \")\n    return false;\n  }\n\n  var js_urls = [\"https://cdn.pydata.org/bokeh/release/bokeh-0.13.0.min.js\", \"https://cdn.pydata.org/bokeh/release/bokeh-widgets-0.13.0.min.js\", \"https://cdn.pydata.org/bokeh/release/bokeh-tables-0.13.0.min.js\", \"https://cdn.pydata.org/bokeh/release/bokeh-gl-0.13.0.min.js\"];\n\n  var inline_js = [\n    function(Bokeh) {\n      Bokeh.set_log_level(\"info\");\n    },\n    \n    function(Bokeh) {\n      \n    },\n    function(Bokeh) {\n      console.log(\"Bokeh: injecting CSS: https://cdn.pydata.org/bokeh/release/bokeh-0.13.0.min.css\");\n      Bokeh.embed.inject_css(\"https://cdn.pydata.org/bokeh/release/bokeh-0.13.0.min.css\");\n      console.log(\"Bokeh: injecting CSS: https://cdn.pydata.org/bokeh/release/bokeh-widgets-0.13.0.min.css\");\n      Bokeh.embed.inject_css(\"https://cdn.pydata.org/bokeh/release/bokeh-widgets-0.13.0.min.css\");\n      console.log(\"Bokeh: injecting CSS: https://cdn.pydata.org/bokeh/release/bokeh-tables-0.13.0.min.css\");\n      Bokeh.embed.inject_css(\"https://cdn.pydata.org/bokeh/release/bokeh-tables-0.13.0.min.css\");\n    }\n  ];\n\n  function run_inline_js() {\n    \n    if ((root.Bokeh !== undefined) || (force === true)) {\n      for (var i = 0; i < inline_js.length; i++) {\n        inline_js[i].call(root, root.Bokeh);\n      }if (force === true) {\n        display_loaded();\n      }} else if (Date.now() < root._bokeh_timeout) {\n      setTimeout(run_inline_js, 100);\n    } else if (!root._bokeh_failed_load) {\n      console.log(\"Bokeh: BokehJS failed to load within specified timeout.\");\n      root._bokeh_failed_load = true;\n    } else if (force !== true) {\n      var cell = $(document.getElementById(\"49fb6fe7-a8d4-4b99-901b-5c6f076a9ad5\")).parents('.cell').data().cell;\n      cell.output_area.append_execute_result(NB_LOAD_WARNING)\n    }\n\n  }\n\n  if (root._bokeh_is_loading === 0) {\n    console.log(\"Bokeh: BokehJS loaded, going straight to plotting\");\n    run_inline_js();\n  } else {\n    load_libs(js_urls, function() {\n      console.log(\"Bokeh: BokehJS plotting callback run at\", now());\n      run_inline_js();\n    });\n  }\n}(window));"
     },
     "metadata": {},
     "output_type": "display_data"
    }
   ],
   "source": [
    "output_notebook()"
   ]
  },
  {
   "cell_type": "markdown",
   "metadata": {
    "slideshow": {
     "slide_type": "slide"
    }
   },
   "source": [
    "# Overview\n",
    "\n",
    "Sometimes we want to add visual cues (boundary lines, shaded regions, labels and arrows, etc.) to our plots to call out some feature or other. Bokeh has several annotation types available for uses like this. Typically to add annotations we create the \"low level\" annotation object directly, and add it to our plot using `add_layout`. Let's take a look at some specific examples."
   ]
  },
  {
   "cell_type": "markdown",
   "metadata": {
    "collapsed": true
   },
   "source": [
    "## Spans\n",
    "\n",
    "`Spans` are \"infinite\" vertical or horizonal lines. When creating them, you specify the `dimension` that should be spanned (i.e., `width` or `height`), any visual line properties for the appearance, and the location along the dimension where the line should be drawn. Let's look at an example that adds two horizontal spans to a simple plot:"
   ]
  },
  {
   "cell_type": "code",
   "execution_count": 4,
   "metadata": {
    "slideshow": {
     "slide_type": "subslide"
    }
   },
   "outputs": [
    {
     "data": {
      "text/html": [
       "\n",
       "\n",
       "\n",
       "\n",
       "\n",
       "\n",
       "  <div class=\"bk-root\" id=\"725d6346-ff2e-4e14-8c23-1eb708390168\"></div>\n"
      ]
     },
     "metadata": {},
     "output_type": "display_data"
    },
    {
     "data": {
      "application/javascript": [
       "(function(root) {\n",
       "  function embed_document(root) {\n",
       "    \n",
       "  var docs_json = {\"6ff25ce9-ae41-4f2a-b02a-9cacf1762dd0\":{\"roots\":{\"references\":[{\"attributes\":{},\"id\":\"afd73742-bf16-47b1-a343-15f06bfa1551\",\"type\":\"PanTool\"},{\"attributes\":{\"source\":{\"id\":\"095a66d6-5fc8-4263-92d3-19bc02509f5e\",\"type\":\"ColumnDataSource\"}},\"id\":\"78b0476d-8825-492e-9773-a70caf665e97\",\"type\":\"CDSView\"},{\"attributes\":{\"callback\":null,\"data\":{\"x\":{\"__ndarray__\":\"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\",\"dtype\":\"float64\",\"shape\":[200]},\"y\":{\"__ndarray__\":\"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\",\"dtype\":\"float64\",\"shape\":[200]}},\"selected\":{\"id\":\"e5367018-ee1f-42c0-9b79-e0b784a299a4\",\"type\":\"Selection\"},\"selection_policy\":{\"id\":\"ecaae6eb-d256-43d5-a51b-45e635e09dad\",\"type\":\"UnionRenderers\"}},\"id\":\"095a66d6-5fc8-4263-92d3-19bc02509f5e\",\"type\":\"ColumnDataSource\"},{\"attributes\":{},\"id\":\"4aea2861-7e5c-4896-be4d-1730929d98f1\",\"type\":\"BasicTickFormatter\"},{\"attributes\":{\"active_drag\":\"auto\",\"active_inspect\":\"auto\",\"active_multi\":null,\"active_scroll\":\"auto\",\"active_tap\":\"auto\",\"tools\":[{\"id\":\"afd73742-bf16-47b1-a343-15f06bfa1551\",\"type\":\"PanTool\"},{\"id\":\"d8b589e5-1027-47cd-8eb9-da3ba974b93a\",\"type\":\"WheelZoomTool\"},{\"id\":\"01727a8e-600c-4993-aa40-aee940ac6e6c\",\"type\":\"BoxZoomTool\"},{\"id\":\"b28bbf93-cd5b-49c3-a8f9-b9c8ceceba5b\",\"type\":\"SaveTool\"},{\"id\":\"72ae6cb5-605f-40fa-8877-dcc4db6876a9\",\"type\":\"ResetTool\"},{\"id\":\"92e2783a-0bf4-4d96-b780-4193354044f0\",\"type\":\"HelpTool\"}]},\"id\":\"1d328f9f-6869-4800-82c0-7ebee0271b46\",\"type\":\"Toolbar\"},{\"attributes\":{\"plot\":null,\"text\":\"\"},\"id\":\"5cc7a127-94e1-4706-bbae-5c8a1723f04c\",\"type\":\"Title\"},{\"attributes\":{\"callback\":null},\"id\":\"3ae91b8d-507a-4e29-bcce-5a25519be836\",\"type\":\"DataRange1d\"},{\"attributes\":{},\"id\":\"b28bbf93-cd5b-49c3-a8f9-b9c8ceceba5b\",\"type\":\"SaveTool\"},{\"attributes\":{},\"id\":\"372fd394-9595-4c40-b486-326c3d26588f\",\"type\":\"BasicTickFormatter\"},{\"attributes\":{\"bottom_units\":\"screen\",\"fill_alpha\":{\"value\":0.5},\"fill_color\":{\"value\":\"lightgrey\"},\"left_units\":\"screen\",\"level\":\"overlay\",\"line_alpha\":{\"value\":1.0},\"line_color\":{\"value\":\"black\"},\"line_dash\":[4,4],\"line_width\":{\"value\":2},\"plot\":null,\"render_mode\":\"css\",\"right_units\":\"screen\",\"top_units\":\"screen\"},\"id\":\"bdbd63f1-3a36-490c-9d56-0f96f72f37e3\",\"type\":\"BoxAnnotation\"},{\"attributes\":{\"line_color\":{\"value\":\"firebrick\"},\"line_width\":{\"value\":4},\"location\":-1,\"plot\":{\"id\":\"a5b8f657-7fd2-4b36-a5ae-c7ee385f1021\",\"subtype\":\"Figure\",\"type\":\"Plot\"}},\"id\":\"909b7cc0-ca5f-44ce-b2f3-634fa3346b47\",\"type\":\"Span\"},{\"attributes\":{\"formatter\":{\"id\":\"372fd394-9595-4c40-b486-326c3d26588f\",\"type\":\"BasicTickFormatter\"},\"plot\":{\"id\":\"a5b8f657-7fd2-4b36-a5ae-c7ee385f1021\",\"subtype\":\"Figure\",\"type\":\"Plot\"},\"ticker\":{\"id\":\"45d2698f-fee9-427c-9031-95e2b73f6e36\",\"type\":\"BasicTicker\"}},\"id\":\"a1103c87-0997-4679-ab73-8a2524be4964\",\"type\":\"LinearAxis\"},{\"attributes\":{},\"id\":\"45d2698f-fee9-427c-9031-95e2b73f6e36\",\"type\":\"BasicTicker\"},{\"attributes\":{\"dimension\":1,\"plot\":{\"id\":\"a5b8f657-7fd2-4b36-a5ae-c7ee385f1021\",\"subtype\":\"Figure\",\"type\":\"Plot\"},\"ticker\":{\"id\":\"45d2698f-fee9-427c-9031-95e2b73f6e36\",\"type\":\"BasicTicker\"}},\"id\":\"8b43443a-853c-41fc-9c9c-43713f0efa9e\",\"type\":\"Grid\"},{\"attributes\":{\"callback\":null,\"end\":2,\"start\":-2},\"id\":\"598711ea-1c39-4bfc-8ac5-5e6b604b4186\",\"type\":\"Range1d\"},{\"attributes\":{\"line_color\":{\"value\":\"olive\"},\"line_width\":{\"value\":4},\"location\":1,\"plot\":{\"id\":\"a5b8f657-7fd2-4b36-a5ae-c7ee385f1021\",\"subtype\":\"Figure\",\"type\":\"Plot\"}},\"id\":\"9a6be434-5dd1-4c8f-b65a-89d18b20475a\",\"type\":\"Span\"},{\"attributes\":{},\"id\":\"92e2783a-0bf4-4d96-b780-4193354044f0\",\"type\":\"HelpTool\"},{\"attributes\":{},\"id\":\"d8b589e5-1027-47cd-8eb9-da3ba974b93a\",\"type\":\"WheelZoomTool\"},{\"attributes\":{},\"id\":\"e5367018-ee1f-42c0-9b79-e0b784a299a4\",\"type\":\"Selection\"},{\"attributes\":{},\"id\":\"0af6f316-dbd0-44f3-8cb9-b9dc9eddf469\",\"type\":\"BasicTicker\"},{\"attributes\":{\"formatter\":{\"id\":\"4aea2861-7e5c-4896-be4d-1730929d98f1\",\"type\":\"BasicTickFormatter\"},\"plot\":{\"id\":\"a5b8f657-7fd2-4b36-a5ae-c7ee385f1021\",\"subtype\":\"Figure\",\"type\":\"Plot\"},\"ticker\":{\"id\":\"0af6f316-dbd0-44f3-8cb9-b9dc9eddf469\",\"type\":\"BasicTicker\"}},\"id\":\"7b0c2766-eb93-44e4-9745-1f6906b13172\",\"type\":\"LinearAxis\"},{\"attributes\":{},\"id\":\"324336ec-17c7-4fb0-9930-9f6148006af7\",\"type\":\"LinearScale\"},{\"attributes\":{\"data_source\":{\"id\":\"095a66d6-5fc8-4263-92d3-19bc02509f5e\",\"type\":\"ColumnDataSource\"},\"glyph\":{\"id\":\"9861c82d-3fd9-43a5-9236-42e981d92ca4\",\"type\":\"Line\"},\"hover_glyph\":null,\"muted_glyph\":null,\"nonselection_glyph\":{\"id\":\"c0261629-4138-46f7-9fc2-fea6685bef78\",\"type\":\"Line\"},\"selection_glyph\":null,\"view\":{\"id\":\"78b0476d-8825-492e-9773-a70caf665e97\",\"type\":\"CDSView\"}},\"id\":\"8e9142dd-037e-4d6d-89b7-6a2ea1aba5a9\",\"type\":\"GlyphRenderer\"},{\"attributes\":{\"plot\":{\"id\":\"a5b8f657-7fd2-4b36-a5ae-c7ee385f1021\",\"subtype\":\"Figure\",\"type\":\"Plot\"},\"ticker\":{\"id\":\"0af6f316-dbd0-44f3-8cb9-b9dc9eddf469\",\"type\":\"BasicTicker\"}},\"id\":\"c438f58b-4802-4e85-8dc8-7622f2cfee00\",\"type\":\"Grid\"},{\"attributes\":{\"below\":[{\"id\":\"7b0c2766-eb93-44e4-9745-1f6906b13172\",\"type\":\"LinearAxis\"}],\"left\":[{\"id\":\"a1103c87-0997-4679-ab73-8a2524be4964\",\"type\":\"LinearAxis\"}],\"renderers\":[{\"id\":\"7b0c2766-eb93-44e4-9745-1f6906b13172\",\"type\":\"LinearAxis\"},{\"id\":\"c438f58b-4802-4e85-8dc8-7622f2cfee00\",\"type\":\"Grid\"},{\"id\":\"a1103c87-0997-4679-ab73-8a2524be4964\",\"type\":\"LinearAxis\"},{\"id\":\"8b43443a-853c-41fc-9c9c-43713f0efa9e\",\"type\":\"Grid\"},{\"id\":\"bdbd63f1-3a36-490c-9d56-0f96f72f37e3\",\"type\":\"BoxAnnotation\"},{\"id\":\"8e9142dd-037e-4d6d-89b7-6a2ea1aba5a9\",\"type\":\"GlyphRenderer\"},{\"id\":\"9a6be434-5dd1-4c8f-b65a-89d18b20475a\",\"type\":\"Span\"},{\"id\":\"909b7cc0-ca5f-44ce-b2f3-634fa3346b47\",\"type\":\"Span\"}],\"title\":{\"id\":\"5cc7a127-94e1-4706-bbae-5c8a1723f04c\",\"type\":\"Title\"},\"toolbar\":{\"id\":\"1d328f9f-6869-4800-82c0-7ebee0271b46\",\"type\":\"Toolbar\"},\"x_range\":{\"id\":\"3ae91b8d-507a-4e29-bcce-5a25519be836\",\"type\":\"DataRange1d\"},\"x_scale\":{\"id\":\"324336ec-17c7-4fb0-9930-9f6148006af7\",\"type\":\"LinearScale\"},\"y_range\":{\"id\":\"598711ea-1c39-4bfc-8ac5-5e6b604b4186\",\"type\":\"Range1d\"},\"y_scale\":{\"id\":\"293b59b8-9f2e-44ad-a02d-53cda4ca2592\",\"type\":\"LinearScale\"}},\"id\":\"a5b8f657-7fd2-4b36-a5ae-c7ee385f1021\",\"subtype\":\"Figure\",\"type\":\"Plot\"},{\"attributes\":{\"line_color\":\"#1f77b4\",\"x\":{\"field\":\"x\"},\"y\":{\"field\":\"y\"}},\"id\":\"9861c82d-3fd9-43a5-9236-42e981d92ca4\",\"type\":\"Line\"},{\"attributes\":{\"line_alpha\":0.1,\"line_color\":\"#1f77b4\",\"x\":{\"field\":\"x\"},\"y\":{\"field\":\"y\"}},\"id\":\"c0261629-4138-46f7-9fc2-fea6685bef78\",\"type\":\"Line\"},{\"attributes\":{},\"id\":\"ecaae6eb-d256-43d5-a51b-45e635e09dad\",\"type\":\"UnionRenderers\"},{\"attributes\":{},\"id\":\"72ae6cb5-605f-40fa-8877-dcc4db6876a9\",\"type\":\"ResetTool\"},{\"attributes\":{\"overlay\":{\"id\":\"bdbd63f1-3a36-490c-9d56-0f96f72f37e3\",\"type\":\"BoxAnnotation\"}},\"id\":\"01727a8e-600c-4993-aa40-aee940ac6e6c\",\"type\":\"BoxZoomTool\"},{\"attributes\":{},\"id\":\"293b59b8-9f2e-44ad-a02d-53cda4ca2592\",\"type\":\"LinearScale\"}],\"root_ids\":[\"a5b8f657-7fd2-4b36-a5ae-c7ee385f1021\"]},\"title\":\"Bokeh Application\",\"version\":\"0.13.0\"}};\n",
       "  var render_items = [{\"docid\":\"6ff25ce9-ae41-4f2a-b02a-9cacf1762dd0\",\"roots\":{\"a5b8f657-7fd2-4b36-a5ae-c7ee385f1021\":\"725d6346-ff2e-4e14-8c23-1eb708390168\"}}];\n",
       "  root.Bokeh.embed.embed_items_notebook(docs_json, render_items);\n",
       "\n",
       "  }\n",
       "  if (root.Bokeh !== undefined) {\n",
       "    embed_document(root);\n",
       "  } else {\n",
       "    var attempts = 0;\n",
       "    var timer = setInterval(function(root) {\n",
       "      if (root.Bokeh !== undefined) {\n",
       "        embed_document(root);\n",
       "        clearInterval(timer);\n",
       "      }\n",
       "      attempts++;\n",
       "      if (attempts > 100) {\n",
       "        console.log(\"Bokeh: ERROR: Unable to run BokehJS code because BokehJS library is missing\")\n",
       "        clearInterval(timer);\n",
       "      }\n",
       "    }, 10, root)\n",
       "  }\n",
       "})(window);"
      ],
      "application/vnd.bokehjs_exec.v0+json": ""
     },
     "metadata": {
      "application/vnd.bokehjs_exec.v0+json": {
       "id": "a5b8f657-7fd2-4b36-a5ae-c7ee385f1021"
      }
     },
     "output_type": "display_data"
    }
   ],
   "source": [
    "import numpy as np\n",
    "from bokeh.plotting import figure\n",
    "from bokeh.models.annotations import Span\n",
    "\n",
    "x = np.linspace(0, 20, 200)\n",
    "y = np.sin(x)\n",
    "\n",
    "p = figure(y_range=(-2, 2))\n",
    "p.line(x, y)\n",
    "\n",
    "upper = Span(location=1, dimension='width', line_color='olive', line_width=4)\n",
    "p.add_layout(upper)\n",
    "\n",
    "lower = Span(location=-1, dimension='width', line_color='firebrick', line_width=4)\n",
    "p.add_layout(lower)\n",
    "\n",
    "show(p)"
   ]
  },
  {
   "cell_type": "code",
   "execution_count": 7,
   "metadata": {
    "slideshow": {
     "slide_type": "skip"
    }
   },
   "outputs": [
    {
     "data": {
      "text/html": [
       "\n",
       "\n",
       "\n",
       "\n",
       "\n",
       "\n",
       "  <div class=\"bk-root\" id=\"5ef75c3d-a3e8-4d73-b43e-0c563b56941c\"></div>\n"
      ]
     },
     "metadata": {},
     "output_type": "display_data"
    },
    {
     "data": {
      "application/javascript": [
       "(function(root) {\n",
       "  function embed_document(root) {\n",
       "    \n",
       "  var docs_json = {\"7e6b0504-d374-4dc4-b666-4acf5a30be75\":{\"roots\":{\"references\":[{\"attributes\":{\"formatter\":{\"id\":\"a1e15338-8f12-468b-afb8-1e76f6459d6e\",\"type\":\"BasicTickFormatter\"},\"plot\":{\"id\":\"ab7c4c3f-1b77-4633-aa3b-0a984cfdf1f5\",\"subtype\":\"Figure\",\"type\":\"Plot\"},\"ticker\":{\"id\":\"4567c322-6b23-4a8f-9a66-5b85da55ee28\",\"type\":\"BasicTicker\"}},\"id\":\"1b0feb3f-c047-4f38-8590-a521b3a662aa\",\"type\":\"LinearAxis\"},{\"attributes\":{},\"id\":\"d7b727dc-bb30-4f9e-8173-60693f17aa03\",\"type\":\"PanTool\"},{\"attributes\":{},\"id\":\"51e78de1-8241-4b11-97b3-78edf594cba0\",\"type\":\"SaveTool\"},{\"attributes\":{\"line_color\":\"#1f77b4\",\"x\":{\"field\":\"x\"},\"y\":{\"field\":\"y\"}},\"id\":\"25df86be-e032-43a0-a698-4aee276a123b\",\"type\":\"Line\"},{\"attributes\":{\"formatter\":{\"id\":\"e611e2e6-aaaa-43c7-8c35-bbbe1157a146\",\"type\":\"BasicTickFormatter\"},\"plot\":{\"id\":\"ab7c4c3f-1b77-4633-aa3b-0a984cfdf1f5\",\"subtype\":\"Figure\",\"type\":\"Plot\"},\"ticker\":{\"id\":\"54b70d7b-7302-40ec-8181-650cb38fb3db\",\"type\":\"BasicTicker\"}},\"id\":\"e829d01e-4d7e-4b70-875a-78b4dd90bedf\",\"type\":\"LinearAxis\"},{\"attributes\":{},\"id\":\"4567c322-6b23-4a8f-9a66-5b85da55ee28\",\"type\":\"BasicTicker\"},{\"attributes\":{\"source\":{\"id\":\"75748354-0b59-4555-b7a4-a0227c266b63\",\"type\":\"ColumnDataSource\"}},\"id\":\"d6a1ca63-c67f-4e1f-8909-b55d20503164\",\"type\":\"CDSView\"},{\"attributes\":{},\"id\":\"54b70d7b-7302-40ec-8181-650cb38fb3db\",\"type\":\"BasicTicker\"},{\"attributes\":{},\"id\":\"e611e2e6-aaaa-43c7-8c35-bbbe1157a146\",\"type\":\"BasicTickFormatter\"},{\"attributes\":{\"bottom_units\":\"screen\",\"fill_alpha\":{\"value\":0.5},\"fill_color\":{\"value\":\"lightgrey\"},\"left_units\":\"screen\",\"level\":\"overlay\",\"line_alpha\":{\"value\":1.0},\"line_color\":{\"value\":\"black\"},\"line_dash\":[4,4],\"line_width\":{\"value\":2},\"plot\":null,\"render_mode\":\"css\",\"right_units\":\"screen\",\"top_units\":\"screen\"},\"id\":\"5b459bbf-e500-40b7-9c77-9d8dde077e19\",\"type\":\"BoxAnnotation\"},{\"attributes\":{\"line_alpha\":0.1,\"line_color\":\"#1f77b4\",\"x\":{\"field\":\"x\"},\"y\":{\"field\":\"y\"}},\"id\":\"a8fd9015-8921-4f2d-9487-b7bb271e0dfa\",\"type\":\"Line\"},{\"attributes\":{},\"id\":\"7f8065e6-2bbe-4c1c-bf27-da656fc75fc1\",\"type\":\"LinearScale\"},{\"attributes\":{},\"id\":\"f57d0849-d10d-4246-a0cf-cd38e79d5256\",\"type\":\"UnionRenderers\"},{\"attributes\":{},\"id\":\"a815b4b6-c4de-4285-9629-c1223d2255fc\",\"type\":\"LinearScale\"},{\"attributes\":{\"active_drag\":\"auto\",\"active_inspect\":\"auto\",\"active_multi\":null,\"active_scroll\":\"auto\",\"active_tap\":\"auto\",\"tools\":[{\"id\":\"d7b727dc-bb30-4f9e-8173-60693f17aa03\",\"type\":\"PanTool\"},{\"id\":\"f70ae6eb-e9bd-4216-9eae-96be603d6524\",\"type\":\"WheelZoomTool\"},{\"id\":\"57c7d8fa-c973-4669-8932-15fe850111aa\",\"type\":\"BoxZoomTool\"},{\"id\":\"51e78de1-8241-4b11-97b3-78edf594cba0\",\"type\":\"SaveTool\"},{\"id\":\"16bfdef7-2b60-4fbb-b47a-979e4c09fbff\",\"type\":\"ResetTool\"},{\"id\":\"da6768c2-e54b-42d4-8cac-6d22220628aa\",\"type\":\"HelpTool\"}]},\"id\":\"9b2916b0-4f23-47ca-bd9d-d517b7701dbc\",\"type\":\"Toolbar\"},{\"attributes\":{},\"id\":\"5f278a83-cb4a-44d7-b2b7-4ec67645dc15\",\"type\":\"Selection\"},{\"attributes\":{},\"id\":\"da6768c2-e54b-42d4-8cac-6d22220628aa\",\"type\":\"HelpTool\"},{\"attributes\":{\"dimension\":1,\"plot\":{\"id\":\"ab7c4c3f-1b77-4633-aa3b-0a984cfdf1f5\",\"subtype\":\"Figure\",\"type\":\"Plot\"},\"ticker\":{\"id\":\"54b70d7b-7302-40ec-8181-650cb38fb3db\",\"type\":\"BasicTicker\"}},\"id\":\"47ca9001-409d-4bf3-8d42-840772a7b58a\",\"type\":\"Grid\"},{\"attributes\":{\"callback\":null,\"data\":{\"x\":{\"__ndarray__\":\"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\",\"dtype\":\"float64\",\"shape\":[200]},\"y\":{\"__ndarray__\":\"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\",\"dtype\":\"float64\",\"shape\":[200]}},\"selected\":{\"id\":\"5f278a83-cb4a-44d7-b2b7-4ec67645dc15\",\"type\":\"Selection\"},\"selection_policy\":{\"id\":\"f57d0849-d10d-4246-a0cf-cd38e79d5256\",\"type\":\"UnionRenderers\"}},\"id\":\"75748354-0b59-4555-b7a4-a0227c266b63\",\"type\":\"ColumnDataSource\"},{\"attributes\":{\"plot\":{\"id\":\"ab7c4c3f-1b77-4633-aa3b-0a984cfdf1f5\",\"subtype\":\"Figure\",\"type\":\"Plot\"},\"ticker\":{\"id\":\"4567c322-6b23-4a8f-9a66-5b85da55ee28\",\"type\":\"BasicTicker\"}},\"id\":\"8011c822-50ff-47a5-b5dc-d9109ae7020c\",\"type\":\"Grid\"},{\"attributes\":{},\"id\":\"16bfdef7-2b60-4fbb-b47a-979e4c09fbff\",\"type\":\"ResetTool\"},{\"attributes\":{\"below\":[{\"id\":\"1b0feb3f-c047-4f38-8590-a521b3a662aa\",\"type\":\"LinearAxis\"}],\"left\":[{\"id\":\"e829d01e-4d7e-4b70-875a-78b4dd90bedf\",\"type\":\"LinearAxis\"}],\"renderers\":[{\"id\":\"1b0feb3f-c047-4f38-8590-a521b3a662aa\",\"type\":\"LinearAxis\"},{\"id\":\"8011c822-50ff-47a5-b5dc-d9109ae7020c\",\"type\":\"Grid\"},{\"id\":\"e829d01e-4d7e-4b70-875a-78b4dd90bedf\",\"type\":\"LinearAxis\"},{\"id\":\"47ca9001-409d-4bf3-8d42-840772a7b58a\",\"type\":\"Grid\"},{\"id\":\"5b459bbf-e500-40b7-9c77-9d8dde077e19\",\"type\":\"BoxAnnotation\"},{\"id\":\"1e40aead-267e-4c19-a005-81d9fec5e611\",\"type\":\"GlyphRenderer\"},{\"id\":\"3e685748-ce5f-4884-aabc-14c7d08c6a48\",\"type\":\"Span\"}],\"title\":{\"id\":\"038d7db7-8775-4d1d-ac02-9b369d39ac47\",\"type\":\"Title\"},\"toolbar\":{\"id\":\"9b2916b0-4f23-47ca-bd9d-d517b7701dbc\",\"type\":\"Toolbar\"},\"x_range\":{\"id\":\"2d2eba92-799d-44b8-9b82-14e8f702d1df\",\"type\":\"DataRange1d\"},\"x_scale\":{\"id\":\"a815b4b6-c4de-4285-9629-c1223d2255fc\",\"type\":\"LinearScale\"},\"y_range\":{\"id\":\"f5a2ddae-e051-4624-9249-7b29ab865d6b\",\"type\":\"Range1d\"},\"y_scale\":{\"id\":\"7f8065e6-2bbe-4c1c-bf27-da656fc75fc1\",\"type\":\"LinearScale\"}},\"id\":\"ab7c4c3f-1b77-4633-aa3b-0a984cfdf1f5\",\"subtype\":\"Figure\",\"type\":\"Plot\"},{\"attributes\":{},\"id\":\"f70ae6eb-e9bd-4216-9eae-96be603d6524\",\"type\":\"WheelZoomTool\"},{\"attributes\":{\"line_color\":{\"value\":\"olive\"},\"line_width\":{\"value\":4},\"location\":1,\"plot\":{\"id\":\"ab7c4c3f-1b77-4633-aa3b-0a984cfdf1f5\",\"subtype\":\"Figure\",\"type\":\"Plot\"}},\"id\":\"3e685748-ce5f-4884-aabc-14c7d08c6a48\",\"type\":\"Span\"},{\"attributes\":{\"callback\":null},\"id\":\"2d2eba92-799d-44b8-9b82-14e8f702d1df\",\"type\":\"DataRange1d\"},{\"attributes\":{},\"id\":\"a1e15338-8f12-468b-afb8-1e76f6459d6e\",\"type\":\"BasicTickFormatter\"},{\"attributes\":{\"overlay\":{\"id\":\"5b459bbf-e500-40b7-9c77-9d8dde077e19\",\"type\":\"BoxAnnotation\"}},\"id\":\"57c7d8fa-c973-4669-8932-15fe850111aa\",\"type\":\"BoxZoomTool\"},{\"attributes\":{\"callback\":null,\"end\":2,\"start\":-2},\"id\":\"f5a2ddae-e051-4624-9249-7b29ab865d6b\",\"type\":\"Range1d\"},{\"attributes\":{\"data_source\":{\"id\":\"75748354-0b59-4555-b7a4-a0227c266b63\",\"type\":\"ColumnDataSource\"},\"glyph\":{\"id\":\"25df86be-e032-43a0-a698-4aee276a123b\",\"type\":\"Line\"},\"hover_glyph\":null,\"muted_glyph\":null,\"nonselection_glyph\":{\"id\":\"a8fd9015-8921-4f2d-9487-b7bb271e0dfa\",\"type\":\"Line\"},\"selection_glyph\":null,\"view\":{\"id\":\"d6a1ca63-c67f-4e1f-8909-b55d20503164\",\"type\":\"CDSView\"}},\"id\":\"1e40aead-267e-4c19-a005-81d9fec5e611\",\"type\":\"GlyphRenderer\"},{\"attributes\":{\"plot\":null,\"text\":\"\"},\"id\":\"038d7db7-8775-4d1d-ac02-9b369d39ac47\",\"type\":\"Title\"}],\"root_ids\":[\"ab7c4c3f-1b77-4633-aa3b-0a984cfdf1f5\"]},\"title\":\"Bokeh Application\",\"version\":\"0.13.0\"}};\n",
       "  var render_items = [{\"docid\":\"7e6b0504-d374-4dc4-b666-4acf5a30be75\",\"roots\":{\"ab7c4c3f-1b77-4633-aa3b-0a984cfdf1f5\":\"5ef75c3d-a3e8-4d73-b43e-0c563b56941c\"}}];\n",
       "  root.Bokeh.embed.embed_items_notebook(docs_json, render_items);\n",
       "\n",
       "  }\n",
       "  if (root.Bokeh !== undefined) {\n",
       "    embed_document(root);\n",
       "  } else {\n",
       "    var attempts = 0;\n",
       "    var timer = setInterval(function(root) {\n",
       "      if (root.Bokeh !== undefined) {\n",
       "        embed_document(root);\n",
       "        clearInterval(timer);\n",
       "      }\n",
       "      attempts++;\n",
       "      if (attempts > 100) {\n",
       "        console.log(\"Bokeh: ERROR: Unable to run BokehJS code because BokehJS library is missing\")\n",
       "        clearInterval(timer);\n",
       "      }\n",
       "    }, 10, root)\n",
       "  }\n",
       "})(window);"
      ],
      "application/vnd.bokehjs_exec.v0+json": ""
     },
     "metadata": {
      "application/vnd.bokehjs_exec.v0+json": {
       "id": "ab7c4c3f-1b77-4633-aa3b-0a984cfdf1f5"
      }
     },
     "output_type": "display_data"
    }
   ],
   "source": [
    "# Exercise: experiment with Span\n",
    "import numpy as np\n",
    "from bokeh.plotting import figure\n",
    "from bokeh.models.annotations import Span\n",
    "\n",
    "x = np.linspace(0, 20, 200)\n",
    "y = np.sin(x) * np.cos(x)\n",
    "\n",
    "p = figure(y_range=(-2, 2))\n",
    "p.line(x, y)\n",
    "\n",
    "upper = Span(location=1, dimension='width', line_color='olive', line_width=4)\n",
    "p.add_layout(upper)\n",
    "\n",
    "show(p)\n",
    "\n"
   ]
  },
  {
   "cell_type": "markdown",
   "metadata": {
    "collapsed": true,
    "slideshow": {
     "slide_type": "slide"
    }
   },
   "source": [
    "## Box Annotations\n",
    "\n",
    "Sometimes you might want to call out some region of the plot by drawing a shaded box. This can be done with the `BoxAnnotation`, which is configured with the coordinate properties:\n",
    "* `top`\n",
    "* `left`\n",
    "* `bottom`\n",
    "* `right`\n",
    "\n",
    "as well as any visual line or fill properties to control the appearance. \n",
    "\n",
    "\"Infinite\" boxes can be made by leaving any of the coordinates unspecified. E.g., if `top` is not given, the box will always extend to the top of the plot area, regardless of any panning or zooming that happens.\n",
    "\n",
    "Let's take a look at an example that adds a few shaded boxes to a plot:"
   ]
  },
  {
   "cell_type": "code",
   "execution_count": 8,
   "metadata": {
    "scrolled": false
   },
   "outputs": [
    {
     "data": {
      "text/html": [
       "\n",
       "\n",
       "\n",
       "\n",
       "\n",
       "\n",
       "  <div class=\"bk-root\" id=\"bdf770d0-36db-479d-b0ba-5554d7c66ce9\"></div>\n"
      ]
     },
     "metadata": {},
     "output_type": "display_data"
    },
    {
     "data": {
      "application/javascript": [
       "(function(root) {\n",
       "  function embed_document(root) {\n",
       "    \n",
       "  var docs_json = {\"ce9eaec0-e6e7-4ade-b90b-00d26bf36534\":{\"roots\":{\"references\":[{\"attributes\":{},\"id\":\"2c50e7d3-72ca-42e5-8528-7e0cf49fedec\",\"type\":\"LinearScale\"},{\"attributes\":{},\"id\":\"0f13f25b-a17d-4ebb-a4ab-250bcc222551\",\"type\":\"SaveTool\"},{\"attributes\":{\"plot\":null,\"text\":\"\"},\"id\":\"619ef378-1e68-4dc5-aa5b-a7be1280508b\",\"type\":\"Title\"},{\"attributes\":{\"dimension\":1,\"plot\":{\"id\":\"6c953495-953d-4b19-b54e-725af191a418\",\"subtype\":\"Figure\",\"type\":\"Plot\"},\"ticker\":{\"id\":\"0b4f43d1-a5ff-4b39-ab26-a937b3f528b1\",\"type\":\"BasicTicker\"}},\"id\":\"ce96bf2e-028e-4d3a-bfd3-83f2a11b674b\",\"type\":\"Grid\"},{\"attributes\":{\"formatter\":{\"id\":\"aab03e0f-958d-4698-a25c-edf067af6dd0\",\"type\":\"BasicTickFormatter\"},\"plot\":{\"id\":\"6c953495-953d-4b19-b54e-725af191a418\",\"subtype\":\"Figure\",\"type\":\"Plot\"},\"ticker\":{\"id\":\"3f024742-fde4-4b4d-b73f-ac3ead19c5ff\",\"type\":\"BasicTicker\"}},\"id\":\"81909221-174e-4c4c-9830-d93373b6ae0a\",\"type\":\"LinearAxis\"},{\"attributes\":{},\"id\":\"0b4f43d1-a5ff-4b39-ab26-a937b3f528b1\",\"type\":\"BasicTicker\"},{\"attributes\":{\"plot\":{\"id\":\"6c953495-953d-4b19-b54e-725af191a418\",\"subtype\":\"Figure\",\"type\":\"Plot\"},\"ticker\":{\"id\":\"3f024742-fde4-4b4d-b73f-ac3ead19c5ff\",\"type\":\"BasicTicker\"}},\"id\":\"326c6e43-b9fc-4be3-ad47-c6d3270bcbb8\",\"type\":\"Grid\"},{\"attributes\":{\"fill_alpha\":{\"value\":0.1},\"fill_color\":{\"value\":\"firebrick\"},\"plot\":{\"id\":\"6c953495-953d-4b19-b54e-725af191a418\",\"subtype\":\"Figure\",\"type\":\"Plot\"},\"top\":-1},\"id\":\"58cf7fb0-a7cd-4358-8147-12066b6078c5\",\"type\":\"BoxAnnotation\"},{\"attributes\":{\"overlay\":{\"id\":\"f693001d-a2e2-4526-a308-d243abd04fda\",\"type\":\"BoxAnnotation\"}},\"id\":\"7f0e8f2e-60bc-4ede-846d-c8076e76ea6c\",\"type\":\"BoxZoomTool\"},{\"attributes\":{\"formatter\":{\"id\":\"e14325a9-262a-4ccc-b174-813d7671f0ec\",\"type\":\"BasicTickFormatter\"},\"plot\":{\"id\":\"6c953495-953d-4b19-b54e-725af191a418\",\"subtype\":\"Figure\",\"type\":\"Plot\"},\"ticker\":{\"id\":\"0b4f43d1-a5ff-4b39-ab26-a937b3f528b1\",\"type\":\"BasicTicker\"}},\"id\":\"ec4841d6-229e-4df7-88a3-c170c7ced74f\",\"type\":\"LinearAxis\"},{\"attributes\":{\"line_color\":\"#1f77b4\",\"x\":{\"field\":\"x\"},\"y\":{\"field\":\"y\"}},\"id\":\"6c155a7b-85df-40fe-914b-0a32c8a1381f\",\"type\":\"Line\"},{\"attributes\":{\"bottom\":1,\"fill_alpha\":{\"value\":0.1},\"fill_color\":{\"value\":\"olive\"},\"plot\":{\"id\":\"6c953495-953d-4b19-b54e-725af191a418\",\"subtype\":\"Figure\",\"type\":\"Plot\"}},\"id\":\"92ee60cd-bdb1-4d7d-b6aa-627fbeb0d08c\",\"type\":\"BoxAnnotation\"},{\"attributes\":{\"below\":[{\"id\":\"81909221-174e-4c4c-9830-d93373b6ae0a\",\"type\":\"LinearAxis\"}],\"left\":[{\"id\":\"ec4841d6-229e-4df7-88a3-c170c7ced74f\",\"type\":\"LinearAxis\"}],\"renderers\":[{\"id\":\"81909221-174e-4c4c-9830-d93373b6ae0a\",\"type\":\"LinearAxis\"},{\"id\":\"326c6e43-b9fc-4be3-ad47-c6d3270bcbb8\",\"type\":\"Grid\"},{\"id\":\"ec4841d6-229e-4df7-88a3-c170c7ced74f\",\"type\":\"LinearAxis\"},{\"id\":\"ce96bf2e-028e-4d3a-bfd3-83f2a11b674b\",\"type\":\"Grid\"},{\"id\":\"f693001d-a2e2-4526-a308-d243abd04fda\",\"type\":\"BoxAnnotation\"},{\"id\":\"fa0ead7b-6bc0-43d1-9c6d-2dd9f04273ad\",\"type\":\"GlyphRenderer\"},{\"id\":\"92ee60cd-bdb1-4d7d-b6aa-627fbeb0d08c\",\"type\":\"BoxAnnotation\"},{\"id\":\"58cf7fb0-a7cd-4358-8147-12066b6078c5\",\"type\":\"BoxAnnotation\"},{\"id\":\"4d6559ea-6df1-4d3c-a930-334904b5cd47\",\"type\":\"BoxAnnotation\"}],\"title\":{\"id\":\"619ef378-1e68-4dc5-aa5b-a7be1280508b\",\"type\":\"Title\"},\"toolbar\":{\"id\":\"4e1f4484-c105-4e5d-a4a2-0aa190ac2217\",\"type\":\"Toolbar\"},\"x_range\":{\"id\":\"e3254bb7-78da-4e47-8cd2-4b09c6d80b89\",\"type\":\"DataRange1d\"},\"x_scale\":{\"id\":\"2c50e7d3-72ca-42e5-8528-7e0cf49fedec\",\"type\":\"LinearScale\"},\"y_range\":{\"id\":\"21515d82-86b4-417d-9b67-62f6f8a0859b\",\"type\":\"Range1d\"},\"y_scale\":{\"id\":\"e9460d38-ddc1-4c69-93a5-53286d1cde8f\",\"type\":\"LinearScale\"}},\"id\":\"6c953495-953d-4b19-b54e-725af191a418\",\"subtype\":\"Figure\",\"type\":\"Plot\"},{\"attributes\":{},\"id\":\"1ba3253c-1572-42b0-a448-933721043018\",\"type\":\"WheelZoomTool\"},{\"attributes\":{},\"id\":\"79d92fc0-df62-45c9-8672-59b0e38167fc\",\"type\":\"ResetTool\"},{\"attributes\":{},\"id\":\"38f590d4-72cf-44c0-be9b-6e87ba87105e\",\"type\":\"PanTool\"},{\"attributes\":{\"data_source\":{\"id\":\"e5605f99-69d4-478f-83db-90ee449742aa\",\"type\":\"ColumnDataSource\"},\"glyph\":{\"id\":\"6c155a7b-85df-40fe-914b-0a32c8a1381f\",\"type\":\"Line\"},\"hover_glyph\":null,\"muted_glyph\":null,\"nonselection_glyph\":{\"id\":\"aad6b863-a946-4d9c-b3d4-01e23062b06e\",\"type\":\"Line\"},\"selection_glyph\":null,\"view\":{\"id\":\"1d6db9b9-9b8b-456a-aea0-9a69901ad3b6\",\"type\":\"CDSView\"}},\"id\":\"fa0ead7b-6bc0-43d1-9c6d-2dd9f04273ad\",\"type\":\"GlyphRenderer\"},{\"attributes\":{},\"id\":\"181ae6c1-98e9-4962-a5ef-d23d090cc5d8\",\"type\":\"HelpTool\"},{\"attributes\":{\"callback\":null,\"end\":2,\"start\":-2},\"id\":\"21515d82-86b4-417d-9b67-62f6f8a0859b\",\"type\":\"Range1d\"},{\"attributes\":{\"source\":{\"id\":\"e5605f99-69d4-478f-83db-90ee449742aa\",\"type\":\"ColumnDataSource\"}},\"id\":\"1d6db9b9-9b8b-456a-aea0-9a69901ad3b6\",\"type\":\"CDSView\"},{\"attributes\":{\"bottom\":-0.3,\"fill_alpha\":{\"value\":0.1},\"fill_color\":{\"value\":\"navy\"},\"left\":7,\"plot\":{\"id\":\"6c953495-953d-4b19-b54e-725af191a418\",\"subtype\":\"Figure\",\"type\":\"Plot\"},\"right\":12,\"top\":0.6},\"id\":\"4d6559ea-6df1-4d3c-a930-334904b5cd47\",\"type\":\"BoxAnnotation\"},{\"attributes\":{\"callback\":null},\"id\":\"e3254bb7-78da-4e47-8cd2-4b09c6d80b89\",\"type\":\"DataRange1d\"},{\"attributes\":{},\"id\":\"a003e555-8cf0-4cfd-9de8-d20cdec232c5\",\"type\":\"Selection\"},{\"attributes\":{\"callback\":null,\"data\":{\"x\":{\"__ndarray__\":\"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\",\"dtype\":\"float64\",\"shape\":[200]},\"y\":{\"__ndarray__\":\"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\",\"dtype\":\"float64\",\"shape\":[200]}},\"selected\":{\"id\":\"a003e555-8cf0-4cfd-9de8-d20cdec232c5\",\"type\":\"Selection\"},\"selection_policy\":{\"id\":\"04c08d3b-2461-48f0-b618-0ec6d0e3bfc8\",\"type\":\"UnionRenderers\"}},\"id\":\"e5605f99-69d4-478f-83db-90ee449742aa\",\"type\":\"ColumnDataSource\"},{\"attributes\":{},\"id\":\"aab03e0f-958d-4698-a25c-edf067af6dd0\",\"type\":\"BasicTickFormatter\"},{\"attributes\":{},\"id\":\"e14325a9-262a-4ccc-b174-813d7671f0ec\",\"type\":\"BasicTickFormatter\"},{\"attributes\":{},\"id\":\"04c08d3b-2461-48f0-b618-0ec6d0e3bfc8\",\"type\":\"UnionRenderers\"},{\"attributes\":{\"line_alpha\":0.1,\"line_color\":\"#1f77b4\",\"x\":{\"field\":\"x\"},\"y\":{\"field\":\"y\"}},\"id\":\"aad6b863-a946-4d9c-b3d4-01e23062b06e\",\"type\":\"Line\"},{\"attributes\":{\"active_drag\":\"auto\",\"active_inspect\":\"auto\",\"active_multi\":null,\"active_scroll\":\"auto\",\"active_tap\":\"auto\",\"tools\":[{\"id\":\"38f590d4-72cf-44c0-be9b-6e87ba87105e\",\"type\":\"PanTool\"},{\"id\":\"1ba3253c-1572-42b0-a448-933721043018\",\"type\":\"WheelZoomTool\"},{\"id\":\"7f0e8f2e-60bc-4ede-846d-c8076e76ea6c\",\"type\":\"BoxZoomTool\"},{\"id\":\"0f13f25b-a17d-4ebb-a4ab-250bcc222551\",\"type\":\"SaveTool\"},{\"id\":\"79d92fc0-df62-45c9-8672-59b0e38167fc\",\"type\":\"ResetTool\"},{\"id\":\"181ae6c1-98e9-4962-a5ef-d23d090cc5d8\",\"type\":\"HelpTool\"}]},\"id\":\"4e1f4484-c105-4e5d-a4a2-0aa190ac2217\",\"type\":\"Toolbar\"},{\"attributes\":{},\"id\":\"e9460d38-ddc1-4c69-93a5-53286d1cde8f\",\"type\":\"LinearScale\"},{\"attributes\":{},\"id\":\"3f024742-fde4-4b4d-b73f-ac3ead19c5ff\",\"type\":\"BasicTicker\"},{\"attributes\":{\"bottom_units\":\"screen\",\"fill_alpha\":{\"value\":0.5},\"fill_color\":{\"value\":\"lightgrey\"},\"left_units\":\"screen\",\"level\":\"overlay\",\"line_alpha\":{\"value\":1.0},\"line_color\":{\"value\":\"black\"},\"line_dash\":[4,4],\"line_width\":{\"value\":2},\"plot\":null,\"render_mode\":\"css\",\"right_units\":\"screen\",\"top_units\":\"screen\"},\"id\":\"f693001d-a2e2-4526-a308-d243abd04fda\",\"type\":\"BoxAnnotation\"}],\"root_ids\":[\"6c953495-953d-4b19-b54e-725af191a418\"]},\"title\":\"Bokeh Application\",\"version\":\"0.13.0\"}};\n",
       "  var render_items = [{\"docid\":\"ce9eaec0-e6e7-4ade-b90b-00d26bf36534\",\"roots\":{\"6c953495-953d-4b19-b54e-725af191a418\":\"bdf770d0-36db-479d-b0ba-5554d7c66ce9\"}}];\n",
       "  root.Bokeh.embed.embed_items_notebook(docs_json, render_items);\n",
       "\n",
       "  }\n",
       "  if (root.Bokeh !== undefined) {\n",
       "    embed_document(root);\n",
       "  } else {\n",
       "    var attempts = 0;\n",
       "    var timer = setInterval(function(root) {\n",
       "      if (root.Bokeh !== undefined) {\n",
       "        embed_document(root);\n",
       "        clearInterval(timer);\n",
       "      }\n",
       "      attempts++;\n",
       "      if (attempts > 100) {\n",
       "        console.log(\"Bokeh: ERROR: Unable to run BokehJS code because BokehJS library is missing\")\n",
       "        clearInterval(timer);\n",
       "      }\n",
       "    }, 10, root)\n",
       "  }\n",
       "})(window);"
      ],
      "application/vnd.bokehjs_exec.v0+json": ""
     },
     "metadata": {
      "application/vnd.bokehjs_exec.v0+json": {
       "id": "6c953495-953d-4b19-b54e-725af191a418"
      }
     },
     "output_type": "display_data"
    }
   ],
   "source": [
    "import numpy as np\n",
    "from bokeh.models.annotations import BoxAnnotation\n",
    "\n",
    "x = np.linspace(0, 20, 200)\n",
    "y = np.sin(x)\n",
    "\n",
    "p = figure(y_range=(-2, 2))\n",
    "p.line(x, y)\n",
    "\n",
    "# region that always fills the top of the plot\n",
    "upper = BoxAnnotation(bottom=1, fill_alpha=0.1, fill_color='olive')\n",
    "p.add_layout(upper)\n",
    "\n",
    "# region that always fills the bottom of the plot\n",
    "lower = BoxAnnotation(top=-1, fill_alpha=0.1, fill_color='firebrick')\n",
    "p.add_layout(lower)\n",
    "\n",
    "# a finite region\n",
    "center = BoxAnnotation(top=0.6, bottom=-0.3, left=7, right=12, fill_alpha=0.1, fill_color='navy')\n",
    "p.add_layout(center)\n",
    "\n",
    "show(p)"
   ]
  },
  {
   "cell_type": "code",
   "execution_count": 9,
   "metadata": {},
   "outputs": [],
   "source": [
    "# Exercise: experiment with BoxAnnotation\n"
   ]
  },
  {
   "cell_type": "markdown",
   "metadata": {
    "collapsed": true,
    "slideshow": {
     "slide_type": "slide"
    }
   },
   "source": [
    "## Label\n",
    "\n",
    "The `Label` annotation allows you to easily attach single text labels to plots. The position and text to display are configured as `x`, `y`, and `text`:\n",
    "\n",
    "```python\n",
    "Label(x=10, y=5, text=\"Some Label\")\n",
    "```\n",
    "\n",
    "By default the units are in \"data space\" but `x_units` and `y_units` maybe set to `\"screen\"` to position the label relative to the canvas. Labels can also accept `x_offset` and `y_offset` to offset the final position from `x` and `y` by a given screen space distance. \n",
    "\n",
    "`Label` objects also have standard text, line (`border_line`) and fill (`background_fill`) properties. The line and fill properties apply to a bounding box around the text:\n",
    "\n",
    "```python\n",
    "Label(x=10, y=5, text=\"Some Label\", text_font_size=\"12pt\", \n",
    "      border_line_color=\"red\", background_fill_color=\"blue\")\n",
    "```"
   ]
  },
  {
   "cell_type": "code",
   "execution_count": 12,
   "metadata": {
    "slideshow": {
     "slide_type": "subslide"
    }
   },
   "outputs": [
    {
     "data": {
      "text/html": [
       "\n",
       "\n",
       "\n",
       "\n",
       "\n",
       "\n",
       "  <div class=\"bk-root\" id=\"1730552d-fcae-4993-9999-7fee9470710e\"></div>\n"
      ]
     },
     "metadata": {},
     "output_type": "display_data"
    },
    {
     "data": {
      "application/javascript": [
       "(function(root) {\n",
       "  function embed_document(root) {\n",
       "    \n",
       "  var docs_json = {\"8ed463ff-f319-4eba-96e3-e602ec139917\":{\"roots\":{\"references\":[{\"attributes\":{\"plot\":{\"id\":\"b876293b-0bef-450c-82fd-a6d0abf542e4\",\"subtype\":\"Figure\",\"type\":\"Plot\"},\"text\":\"Second Point\",\"text_baseline\":\"middle\",\"x\":5,\"x_offset\":10,\"y\":7},\"id\":\"150297f5-f573-4b14-879b-600add39eeb9\",\"type\":\"Label\"},{\"attributes\":{},\"id\":\"78c86aac-7a8f-4bd5-a261-505f6a74f93c\",\"type\":\"PanTool\"},{\"attributes\":{},\"id\":\"31752760-cd11-4e1e-a672-c5d1ff388c22\",\"type\":\"BasicTickFormatter\"},{\"attributes\":{\"below\":[{\"id\":\"c3378936-1bc2-424e-a041-bdff6e32dbd7\",\"type\":\"LinearAxis\"}],\"left\":[{\"id\":\"60e55e2f-6f17-4112-a2e7-06c16f514efa\",\"type\":\"LinearAxis\"}],\"renderers\":[{\"id\":\"c3378936-1bc2-424e-a041-bdff6e32dbd7\",\"type\":\"LinearAxis\"},{\"id\":\"b3957f1e-eb54-48a9-ae6c-8ae5701a7818\",\"type\":\"Grid\"},{\"id\":\"60e55e2f-6f17-4112-a2e7-06c16f514efa\",\"type\":\"LinearAxis\"},{\"id\":\"e788d50f-730e-4616-ba4e-c17c2cad2487\",\"type\":\"Grid\"},{\"id\":\"580c66eb-50a3-43d1-816d-0c507ca305c7\",\"type\":\"BoxAnnotation\"},{\"id\":\"336cf24f-2004-413c-a1d4-af2a7cbed9c4\",\"type\":\"GlyphRenderer\"},{\"id\":\"150297f5-f573-4b14-879b-600add39eeb9\",\"type\":\"Label\"}],\"title\":{\"id\":\"8d39d7d0-9bb1-4c50-85ef-8690fded98d8\",\"type\":\"Title\"},\"toolbar\":{\"id\":\"d69544d4-1fa7-411b-948b-92e91fbd1e3c\",\"type\":\"Toolbar\"},\"x_range\":{\"id\":\"e2222223-17db-4979-8888-3d2e2cc2c1fa\",\"type\":\"Range1d\"},\"x_scale\":{\"id\":\"36aa69d3-9887-4256-ad5f-0044916a5c6c\",\"type\":\"LinearScale\"},\"y_range\":{\"id\":\"04649abd-3847-4b52-bf6e-df1f5888d5d5\",\"type\":\"Range1d\"},\"y_scale\":{\"id\":\"9d28c8b9-96d0-4d0a-97ea-2f86d4cd96b5\",\"type\":\"LinearScale\"}},\"id\":\"b876293b-0bef-450c-82fd-a6d0abf542e4\",\"subtype\":\"Figure\",\"type\":\"Plot\"},{\"attributes\":{},\"id\":\"f607cad8-e7c6-48e0-9390-340c7c269c93\",\"type\":\"BasicTicker\"},{\"attributes\":{},\"id\":\"637b8002-0b52-43a4-85cf-fa8c58099b2d\",\"type\":\"BasicTickFormatter\"},{\"attributes\":{\"fill_color\":{\"value\":\"olive\"},\"line_color\":{\"value\":\"olive\"},\"size\":{\"units\":\"screen\",\"value\":10},\"x\":{\"field\":\"x\"},\"y\":{\"field\":\"y\"}},\"id\":\"96771b8f-7ccc-47fe-984f-280c5cae8850\",\"type\":\"Circle\"},{\"attributes\":{\"fill_alpha\":{\"value\":0.1},\"fill_color\":{\"value\":\"#1f77b4\"},\"line_alpha\":{\"value\":0.1},\"line_color\":{\"value\":\"#1f77b4\"},\"size\":{\"units\":\"screen\",\"value\":10},\"x\":{\"field\":\"x\"},\"y\":{\"field\":\"y\"}},\"id\":\"f3ecca36-1849-404e-bcdc-aa7a9f43a5e1\",\"type\":\"Circle\"},{\"attributes\":{},\"id\":\"813dfa1a-cb72-4329-9f57-00b2155f7291\",\"type\":\"Selection\"},{\"attributes\":{},\"id\":\"9d28c8b9-96d0-4d0a-97ea-2f86d4cd96b5\",\"type\":\"LinearScale\"},{\"attributes\":{\"formatter\":{\"id\":\"31752760-cd11-4e1e-a672-c5d1ff388c22\",\"type\":\"BasicTickFormatter\"},\"plot\":{\"id\":\"b876293b-0bef-450c-82fd-a6d0abf542e4\",\"subtype\":\"Figure\",\"type\":\"Plot\"},\"ticker\":{\"id\":\"19578aa0-c0bd-4cf6-b162-f5012551bbfa\",\"type\":\"BasicTicker\"}},\"id\":\"c3378936-1bc2-424e-a041-bdff6e32dbd7\",\"type\":\"LinearAxis\"},{\"attributes\":{},\"id\":\"19578aa0-c0bd-4cf6-b162-f5012551bbfa\",\"type\":\"BasicTicker\"},{\"attributes\":{},\"id\":\"7a0bcbb3-176c-4f8a-85f6-ebca04f564fb\",\"type\":\"WheelZoomTool\"},{\"attributes\":{\"formatter\":{\"id\":\"637b8002-0b52-43a4-85cf-fa8c58099b2d\",\"type\":\"BasicTickFormatter\"},\"plot\":{\"id\":\"b876293b-0bef-450c-82fd-a6d0abf542e4\",\"subtype\":\"Figure\",\"type\":\"Plot\"},\"ticker\":{\"id\":\"f607cad8-e7c6-48e0-9390-340c7c269c93\",\"type\":\"BasicTicker\"}},\"id\":\"60e55e2f-6f17-4112-a2e7-06c16f514efa\",\"type\":\"LinearAxis\"},{\"attributes\":{\"plot\":{\"id\":\"b876293b-0bef-450c-82fd-a6d0abf542e4\",\"subtype\":\"Figure\",\"type\":\"Plot\"},\"ticker\":{\"id\":\"19578aa0-c0bd-4cf6-b162-f5012551bbfa\",\"type\":\"BasicTicker\"}},\"id\":\"b3957f1e-eb54-48a9-ae6c-8ae5701a7818\",\"type\":\"Grid\"},{\"attributes\":{\"callback\":null,\"end\":10},\"id\":\"e2222223-17db-4979-8888-3d2e2cc2c1fa\",\"type\":\"Range1d\"},{\"attributes\":{},\"id\":\"f1eecefe-99ae-438a-9e2b-cf8272893762\",\"type\":\"UnionRenderers\"},{\"attributes\":{},\"id\":\"cc013ef3-6b98-4955-a6cc-af1f9c7ff86b\",\"type\":\"SaveTool\"},{\"attributes\":{},\"id\":\"ddc25660-4f8f-4d3d-8792-9202b95edf9e\",\"type\":\"HelpTool\"},{\"attributes\":{\"active_drag\":\"auto\",\"active_inspect\":\"auto\",\"active_multi\":null,\"active_scroll\":\"auto\",\"active_tap\":\"auto\",\"tools\":[{\"id\":\"78c86aac-7a8f-4bd5-a261-505f6a74f93c\",\"type\":\"PanTool\"},{\"id\":\"7a0bcbb3-176c-4f8a-85f6-ebca04f564fb\",\"type\":\"WheelZoomTool\"},{\"id\":\"ea84f7a7-5b42-4596-96c4-527f8fdb74fd\",\"type\":\"BoxZoomTool\"},{\"id\":\"cc013ef3-6b98-4955-a6cc-af1f9c7ff86b\",\"type\":\"SaveTool\"},{\"id\":\"0b156b5a-dd0e-42e6-8765-e22d1447dfa4\",\"type\":\"ResetTool\"},{\"id\":\"ddc25660-4f8f-4d3d-8792-9202b95edf9e\",\"type\":\"HelpTool\"}]},\"id\":\"d69544d4-1fa7-411b-948b-92e91fbd1e3c\",\"type\":\"Toolbar\"},{\"attributes\":{\"data_source\":{\"id\":\"ae5fb433-ca49-447c-b84c-e7a0f6b06e52\",\"type\":\"ColumnDataSource\"},\"glyph\":{\"id\":\"96771b8f-7ccc-47fe-984f-280c5cae8850\",\"type\":\"Circle\"},\"hover_glyph\":null,\"muted_glyph\":null,\"nonselection_glyph\":{\"id\":\"f3ecca36-1849-404e-bcdc-aa7a9f43a5e1\",\"type\":\"Circle\"},\"selection_glyph\":null,\"view\":{\"id\":\"cd22b97c-0193-43a7-bc80-841affd82a82\",\"type\":\"CDSView\"}},\"id\":\"336cf24f-2004-413c-a1d4-af2a7cbed9c4\",\"type\":\"GlyphRenderer\"},{\"attributes\":{},\"id\":\"36aa69d3-9887-4256-ad5f-0044916a5c6c\",\"type\":\"LinearScale\"},{\"attributes\":{\"callback\":null,\"data\":{\"x\":[2,5,8],\"y\":[4,7,6]},\"selected\":{\"id\":\"813dfa1a-cb72-4329-9f57-00b2155f7291\",\"type\":\"Selection\"},\"selection_policy\":{\"id\":\"f1eecefe-99ae-438a-9e2b-cf8272893762\",\"type\":\"UnionRenderers\"}},\"id\":\"ae5fb433-ca49-447c-b84c-e7a0f6b06e52\",\"type\":\"ColumnDataSource\"},{\"attributes\":{\"overlay\":{\"id\":\"580c66eb-50a3-43d1-816d-0c507ca305c7\",\"type\":\"BoxAnnotation\"}},\"id\":\"ea84f7a7-5b42-4596-96c4-527f8fdb74fd\",\"type\":\"BoxZoomTool\"},{\"attributes\":{\"callback\":null,\"end\":10},\"id\":\"04649abd-3847-4b52-bf6e-df1f5888d5d5\",\"type\":\"Range1d\"},{\"attributes\":{\"source\":{\"id\":\"ae5fb433-ca49-447c-b84c-e7a0f6b06e52\",\"type\":\"ColumnDataSource\"}},\"id\":\"cd22b97c-0193-43a7-bc80-841affd82a82\",\"type\":\"CDSView\"},{\"attributes\":{},\"id\":\"0b156b5a-dd0e-42e6-8765-e22d1447dfa4\",\"type\":\"ResetTool\"},{\"attributes\":{\"plot\":null,\"text\":\"\"},\"id\":\"8d39d7d0-9bb1-4c50-85ef-8690fded98d8\",\"type\":\"Title\"},{\"attributes\":{\"bottom_units\":\"screen\",\"fill_alpha\":{\"value\":0.5},\"fill_color\":{\"value\":\"lightgrey\"},\"left_units\":\"screen\",\"level\":\"overlay\",\"line_alpha\":{\"value\":1.0},\"line_color\":{\"value\":\"black\"},\"line_dash\":[4,4],\"line_width\":{\"value\":2},\"plot\":null,\"render_mode\":\"css\",\"right_units\":\"screen\",\"top_units\":\"screen\"},\"id\":\"580c66eb-50a3-43d1-816d-0c507ca305c7\",\"type\":\"BoxAnnotation\"},{\"attributes\":{\"dimension\":1,\"plot\":{\"id\":\"b876293b-0bef-450c-82fd-a6d0abf542e4\",\"subtype\":\"Figure\",\"type\":\"Plot\"},\"ticker\":{\"id\":\"f607cad8-e7c6-48e0-9390-340c7c269c93\",\"type\":\"BasicTicker\"}},\"id\":\"e788d50f-730e-4616-ba4e-c17c2cad2487\",\"type\":\"Grid\"}],\"root_ids\":[\"b876293b-0bef-450c-82fd-a6d0abf542e4\"]},\"title\":\"Bokeh Application\",\"version\":\"0.13.0\"}};\n",
       "  var render_items = [{\"docid\":\"8ed463ff-f319-4eba-96e3-e602ec139917\",\"roots\":{\"b876293b-0bef-450c-82fd-a6d0abf542e4\":\"1730552d-fcae-4993-9999-7fee9470710e\"}}];\n",
       "  root.Bokeh.embed.embed_items_notebook(docs_json, render_items);\n",
       "\n",
       "  }\n",
       "  if (root.Bokeh !== undefined) {\n",
       "    embed_document(root);\n",
       "  } else {\n",
       "    var attempts = 0;\n",
       "    var timer = setInterval(function(root) {\n",
       "      if (root.Bokeh !== undefined) {\n",
       "        embed_document(root);\n",
       "        clearInterval(timer);\n",
       "      }\n",
       "      attempts++;\n",
       "      if (attempts > 100) {\n",
       "        console.log(\"Bokeh: ERROR: Unable to run BokehJS code because BokehJS library is missing\")\n",
       "        clearInterval(timer);\n",
       "      }\n",
       "    }, 10, root)\n",
       "  }\n",
       "})(window);"
      ],
      "application/vnd.bokehjs_exec.v0+json": ""
     },
     "metadata": {
      "application/vnd.bokehjs_exec.v0+json": {
       "id": "b876293b-0bef-450c-82fd-a6d0abf542e4"
      }
     },
     "output_type": "display_data"
    }
   ],
   "source": [
    "from bokeh.models.annotations import Label\n",
    "from bokeh.plotting import figure\n",
    "\n",
    "p = figure(x_range=(0,10), y_range=(0,10))\n",
    "p.circle([2, 5, 8], [4, 7, 6], color=\"olive\", size=10)\n",
    "\n",
    "label = Label(x=5, y=7, x_offset=10, text=\"Second Point\", text_baseline=\"middle\")\n",
    "p.add_layout(label)\n",
    "\n",
    "show(p)"
   ]
  },
  {
   "cell_type": "code",
   "execution_count": 11,
   "metadata": {},
   "outputs": [],
   "source": [
    "# EXERCISE: experiment with Label\n"
   ]
  },
  {
   "cell_type": "markdown",
   "metadata": {
    "collapsed": true,
    "slideshow": {
     "slide_type": "slide"
    }
   },
   "source": [
    "## LabelSet\n",
    "\n",
    "The `LabelSet` annotation allows you to create many labels at once, for instance if you want to label an entire set of scatter markers. They are similar to `Label`, but they can also \n",
    "accept a `ColumnDataSource` as the `source` property, and then `x` and `y` may refer to columns in the data source, e.g. `x=\"col2\"` (but may also still be fixed values, e.g. `x=10`)."
   ]
  },
  {
   "cell_type": "code",
   "execution_count": 12,
   "metadata": {
    "slideshow": {
     "slide_type": "subslide"
    }
   },
   "outputs": [
    {
     "data": {
      "text/html": [
       "\n",
       "\n",
       "\n",
       "\n",
       "\n",
       "\n",
       "  <div class=\"bk-root\" id=\"b92f24db-f9e8-4915-b988-d1848463f91d\"></div>\n"
      ]
     },
     "metadata": {},
     "output_type": "display_data"
    },
    {
     "data": {
      "application/javascript": [
       "(function(root) {\n",
       "  function embed_document(root) {\n",
       "    \n",
       "  var docs_json = {\"e773e4da-182f-4a04-b717-e60c9a9e4f8b\":{\"roots\":{\"references\":[{\"attributes\":{\"axis_label\":\"Pressure (lbs)\",\"formatter\":{\"id\":\"9d3202fa-b99b-4d71-a5d5-94043871a926\",\"type\":\"BasicTickFormatter\"},\"plot\":{\"id\":\"8349c20e-fa85-40a0-aa25-eb047b583a1b\",\"subtype\":\"Figure\",\"type\":\"Plot\"},\"ticker\":{\"id\":\"03bc9181-6b82-4ddd-82ce-a4a50c233c8c\",\"type\":\"BasicTicker\"}},\"id\":\"7faa6adb-203e-4744-89cf-c3c37587878d\",\"type\":\"LinearAxis\"},{\"attributes\":{},\"id\":\"9d3202fa-b99b-4d71-a5d5-94043871a926\",\"type\":\"BasicTickFormatter\"},{\"attributes\":{\"fill_color\":{\"value\":\"#1f77b4\"},\"line_color\":{\"value\":\"#1f77b4\"},\"size\":{\"units\":\"screen\",\"value\":8},\"x\":{\"field\":\"temp\"},\"y\":{\"field\":\"pressure\"}},\"id\":\"927f2251-1137-4ac1-aadb-330cc76fa1d3\",\"type\":\"Circle\"},{\"attributes\":{\"level\":\"glyph\",\"plot\":{\"id\":\"8349c20e-fa85-40a0-aa25-eb047b583a1b\",\"subtype\":\"Figure\",\"type\":\"Plot\"},\"source\":{\"id\":\"9ff9db32-cb64-474c-9341-d923196e659d\",\"type\":\"ColumnDataSource\"},\"text\":{\"field\":\"names\"},\"x\":{\"field\":\"temp\"},\"x_offset\":{\"value\":5},\"y\":{\"field\":\"pressure\"},\"y_offset\":{\"value\":5}},\"id\":\"307fcce8-34ed-4a96-b940-6be14449d36c\",\"type\":\"LabelSet\"},{\"attributes\":{},\"id\":\"03bc9181-6b82-4ddd-82ce-a4a50c233c8c\",\"type\":\"BasicTicker\"},{\"attributes\":{},\"id\":\"710c2197-0428-4ab7-ad07-df21a1c94ea5\",\"type\":\"Selection\"},{\"attributes\":{},\"id\":\"5ad2fd09-ca77-45c7-979d-149037cf902a\",\"type\":\"UnionRenderers\"},{\"attributes\":{},\"id\":\"3bc5377f-a00e-46ba-acdf-eb18de578216\",\"type\":\"PanTool\"},{\"attributes\":{\"fill_alpha\":{\"value\":0.1},\"fill_color\":{\"value\":\"#1f77b4\"},\"line_alpha\":{\"value\":0.1},\"line_color\":{\"value\":\"#1f77b4\"},\"size\":{\"units\":\"screen\",\"value\":8},\"x\":{\"field\":\"temp\"},\"y\":{\"field\":\"pressure\"}},\"id\":\"19370ac2-6002-4f03-9be2-02abc02dd777\",\"type\":\"Circle\"},{\"attributes\":{\"data_source\":{\"id\":\"9ff9db32-cb64-474c-9341-d923196e659d\",\"type\":\"ColumnDataSource\"},\"glyph\":{\"id\":\"927f2251-1137-4ac1-aadb-330cc76fa1d3\",\"type\":\"Circle\"},\"hover_glyph\":null,\"muted_glyph\":null,\"nonselection_glyph\":{\"id\":\"19370ac2-6002-4f03-9be2-02abc02dd777\",\"type\":\"Circle\"},\"selection_glyph\":null,\"view\":{\"id\":\"3b759dd3-e17f-441f-bc21-32dd60eed5b5\",\"type\":\"CDSView\"}},\"id\":\"4c3bcbfc-5e54-4647-8664-53d5c9feb499\",\"type\":\"GlyphRenderer\"},{\"attributes\":{\"below\":[{\"id\":\"9333fa58-aafa-4a0a-b0fd-b21695540345\",\"type\":\"LinearAxis\"}],\"left\":[{\"id\":\"7faa6adb-203e-4744-89cf-c3c37587878d\",\"type\":\"LinearAxis\"}],\"renderers\":[{\"id\":\"9333fa58-aafa-4a0a-b0fd-b21695540345\",\"type\":\"LinearAxis\"},{\"id\":\"b0519554-944d-482e-bb6f-f378ca8d8f2f\",\"type\":\"Grid\"},{\"id\":\"7faa6adb-203e-4744-89cf-c3c37587878d\",\"type\":\"LinearAxis\"},{\"id\":\"fc3f3811-c3b7-4038-bbb1-578ea30b633f\",\"type\":\"Grid\"},{\"id\":\"72cb51fe-94b0-4682-a25d-391dfc64e435\",\"type\":\"BoxAnnotation\"},{\"id\":\"4c3bcbfc-5e54-4647-8664-53d5c9feb499\",\"type\":\"GlyphRenderer\"},{\"id\":\"307fcce8-34ed-4a96-b940-6be14449d36c\",\"type\":\"LabelSet\"}],\"title\":{\"id\":\"796b44a1-89e8-49a8-a93a-a4a0040d17f6\",\"type\":\"Title\"},\"toolbar\":{\"id\":\"c708681d-49da-4736-b0b1-58dc2d6d7372\",\"type\":\"Toolbar\"},\"x_range\":{\"id\":\"5ca6a996-78bc-4c4e-bbdb-2599fd635b4c\",\"type\":\"Range1d\"},\"x_scale\":{\"id\":\"078b461a-f451-4128-9c36-9081c5451b1a\",\"type\":\"LinearScale\"},\"y_range\":{\"id\":\"6e51ac5e-87ff-4686-a33d-373bd61530c5\",\"type\":\"DataRange1d\"},\"y_scale\":{\"id\":\"f5e8d7a5-1df0-462b-96cc-d38b0819ff91\",\"type\":\"LinearScale\"}},\"id\":\"8349c20e-fa85-40a0-aa25-eb047b583a1b\",\"subtype\":\"Figure\",\"type\":\"Plot\"},{\"attributes\":{},\"id\":\"716655dd-5302-471c-a660-3600b585f1c6\",\"type\":\"WheelZoomTool\"},{\"attributes\":{\"callback\":null,\"data\":{\"names\":[\"A\",\"B\",\"C\",\"D\",\"E\",\"F\"],\"pressure\":[165,189,220,141,260,174],\"temp\":[166,171,172,168,174,162]},\"selected\":{\"id\":\"710c2197-0428-4ab7-ad07-df21a1c94ea5\",\"type\":\"Selection\"},\"selection_policy\":{\"id\":\"5ad2fd09-ca77-45c7-979d-149037cf902a\",\"type\":\"UnionRenderers\"}},\"id\":\"9ff9db32-cb64-474c-9341-d923196e659d\",\"type\":\"ColumnDataSource\"},{\"attributes\":{\"dimension\":1,\"plot\":{\"id\":\"8349c20e-fa85-40a0-aa25-eb047b583a1b\",\"subtype\":\"Figure\",\"type\":\"Plot\"},\"ticker\":{\"id\":\"03bc9181-6b82-4ddd-82ce-a4a50c233c8c\",\"type\":\"BasicTicker\"}},\"id\":\"fc3f3811-c3b7-4038-bbb1-578ea30b633f\",\"type\":\"Grid\"},{\"attributes\":{\"overlay\":{\"id\":\"72cb51fe-94b0-4682-a25d-391dfc64e435\",\"type\":\"BoxAnnotation\"}},\"id\":\"b0ef5f91-a0b9-4e16-9d08-1f7db94d2936\",\"type\":\"BoxZoomTool\"},{\"attributes\":{\"active_drag\":\"auto\",\"active_inspect\":\"auto\",\"active_multi\":null,\"active_scroll\":\"auto\",\"active_tap\":\"auto\",\"tools\":[{\"id\":\"3bc5377f-a00e-46ba-acdf-eb18de578216\",\"type\":\"PanTool\"},{\"id\":\"716655dd-5302-471c-a660-3600b585f1c6\",\"type\":\"WheelZoomTool\"},{\"id\":\"b0ef5f91-a0b9-4e16-9d08-1f7db94d2936\",\"type\":\"BoxZoomTool\"},{\"id\":\"e6a8ec1a-74cd-4d72-b951-cd52b14c9dbb\",\"type\":\"SaveTool\"},{\"id\":\"e483f45f-82d0-4743-9322-86137f9d8a86\",\"type\":\"ResetTool\"},{\"id\":\"cbd7573e-9c9f-4d1f-ab39-91f2305e4902\",\"type\":\"HelpTool\"}]},\"id\":\"c708681d-49da-4736-b0b1-58dc2d6d7372\",\"type\":\"Toolbar\"},{\"attributes\":{},\"id\":\"e6a8ec1a-74cd-4d72-b951-cd52b14c9dbb\",\"type\":\"SaveTool\"},{\"attributes\":{\"callback\":null,\"end\":175,\"start\":160},\"id\":\"5ca6a996-78bc-4c4e-bbdb-2599fd635b4c\",\"type\":\"Range1d\"},{\"attributes\":{},\"id\":\"e483f45f-82d0-4743-9322-86137f9d8a86\",\"type\":\"ResetTool\"},{\"attributes\":{\"bottom_units\":\"screen\",\"fill_alpha\":{\"value\":0.5},\"fill_color\":{\"value\":\"lightgrey\"},\"left_units\":\"screen\",\"level\":\"overlay\",\"line_alpha\":{\"value\":1.0},\"line_color\":{\"value\":\"black\"},\"line_dash\":[4,4],\"line_width\":{\"value\":2},\"plot\":null,\"render_mode\":\"css\",\"right_units\":\"screen\",\"top_units\":\"screen\"},\"id\":\"72cb51fe-94b0-4682-a25d-391dfc64e435\",\"type\":\"BoxAnnotation\"},{\"attributes\":{},\"id\":\"cbd7573e-9c9f-4d1f-ab39-91f2305e4902\",\"type\":\"HelpTool\"},{\"attributes\":{\"callback\":null},\"id\":\"6e51ac5e-87ff-4686-a33d-373bd61530c5\",\"type\":\"DataRange1d\"},{\"attributes\":{\"plot\":null,\"text\":\"\"},\"id\":\"796b44a1-89e8-49a8-a93a-a4a0040d17f6\",\"type\":\"Title\"},{\"attributes\":{},\"id\":\"078b461a-f451-4128-9c36-9081c5451b1a\",\"type\":\"LinearScale\"},{\"attributes\":{\"source\":{\"id\":\"9ff9db32-cb64-474c-9341-d923196e659d\",\"type\":\"ColumnDataSource\"}},\"id\":\"3b759dd3-e17f-441f-bc21-32dd60eed5b5\",\"type\":\"CDSView\"},{\"attributes\":{},\"id\":\"f5e8d7a5-1df0-462b-96cc-d38b0819ff91\",\"type\":\"LinearScale\"},{\"attributes\":{\"plot\":{\"id\":\"8349c20e-fa85-40a0-aa25-eb047b583a1b\",\"subtype\":\"Figure\",\"type\":\"Plot\"},\"ticker\":{\"id\":\"989b88ac-99b4-4782-984c-bf517d29795a\",\"type\":\"BasicTicker\"}},\"id\":\"b0519554-944d-482e-bb6f-f378ca8d8f2f\",\"type\":\"Grid\"},{\"attributes\":{\"axis_label\":\"Temperature (C)\",\"formatter\":{\"id\":\"e30267f5-3737-45ab-b08a-02c3d203dd35\",\"type\":\"BasicTickFormatter\"},\"plot\":{\"id\":\"8349c20e-fa85-40a0-aa25-eb047b583a1b\",\"subtype\":\"Figure\",\"type\":\"Plot\"},\"ticker\":{\"id\":\"989b88ac-99b4-4782-984c-bf517d29795a\",\"type\":\"BasicTicker\"}},\"id\":\"9333fa58-aafa-4a0a-b0fd-b21695540345\",\"type\":\"LinearAxis\"},{\"attributes\":{},\"id\":\"e30267f5-3737-45ab-b08a-02c3d203dd35\",\"type\":\"BasicTickFormatter\"},{\"attributes\":{},\"id\":\"989b88ac-99b4-4782-984c-bf517d29795a\",\"type\":\"BasicTicker\"}],\"root_ids\":[\"8349c20e-fa85-40a0-aa25-eb047b583a1b\"]},\"title\":\"Bokeh Application\",\"version\":\"0.13.0\"}};\n",
       "  var render_items = [{\"docid\":\"e773e4da-182f-4a04-b717-e60c9a9e4f8b\",\"roots\":{\"8349c20e-fa85-40a0-aa25-eb047b583a1b\":\"b92f24db-f9e8-4915-b988-d1848463f91d\"}}];\n",
       "  root.Bokeh.embed.embed_items_notebook(docs_json, render_items);\n",
       "\n",
       "  }\n",
       "  if (root.Bokeh !== undefined) {\n",
       "    embed_document(root);\n",
       "  } else {\n",
       "    var attempts = 0;\n",
       "    var timer = setInterval(function(root) {\n",
       "      if (root.Bokeh !== undefined) {\n",
       "        embed_document(root);\n",
       "        clearInterval(timer);\n",
       "      }\n",
       "      attempts++;\n",
       "      if (attempts > 100) {\n",
       "        console.log(\"Bokeh: ERROR: Unable to run BokehJS code because BokehJS library is missing\")\n",
       "        clearInterval(timer);\n",
       "      }\n",
       "    }, 10, root)\n",
       "  }\n",
       "})(window);"
      ],
      "application/vnd.bokehjs_exec.v0+json": ""
     },
     "metadata": {
      "application/vnd.bokehjs_exec.v0+json": {
       "id": "8349c20e-fa85-40a0-aa25-eb047b583a1b"
      }
     },
     "output_type": "display_data"
    }
   ],
   "source": [
    "from bokeh.plotting import figure\n",
    "from bokeh.models import ColumnDataSource, LabelSet\n",
    "\n",
    "\n",
    "source = ColumnDataSource(data=dict(\n",
    "    temp=[166, 171, 172, 168, 174, 162],\n",
    "    pressure=[165, 189, 220, 141, 260, 174],\n",
    "    names=['A', 'B', 'C', 'D', 'E', 'F']))\n",
    "\n",
    "p = figure(x_range=(160, 175))\n",
    "p.scatter(x='temp', y='pressure', size=8, source=source)\n",
    "p.xaxis.axis_label = 'Temperature (C)'\n",
    "p.yaxis.axis_label = 'Pressure (lbs)'\n",
    "\n",
    "labels = LabelSet(x='temp', y='pressure', text='names', level='glyph',\n",
    "                  x_offset=5, y_offset=5, source=source, render_mode='canvas')\n",
    "\n",
    "\n",
    "p.add_layout(labels)\n",
    "\n",
    "show(p)"
   ]
  },
  {
   "cell_type": "code",
   "execution_count": 13,
   "metadata": {},
   "outputs": [],
   "source": [
    "# EXERCISE: experiment with LabelSet\n"
   ]
  },
  {
   "cell_type": "markdown",
   "metadata": {
    "collapsed": true,
    "slideshow": {
     "slide_type": "slide"
    }
   },
   "source": [
    "## Arrows\n",
    "\n",
    "The `Arrow` annotation allows you to \"point\" at different things on your plot, and can be especially useful in conjuction with labels. \n",
    "\n",
    "For example, to create an arrow that points from `(0,0)` to `(1,1)`:\n",
    "\n",
    "```python\n",
    "p.add_layout(Arrow(x_start=0, y_start=0, x_end=1, y_end=0))\n",
    "```\n",
    "\n",
    "This arrow will have the default [`OpenHead`](http://bokeh.pydata.org/en/latest/docs/reference/models/arrow_heads.html#bokeh.models.arrow_heads.OpenHead) arrow head at the end of the arrow. Other kinds of arrow heads include [`NormalHead`](http://bokeh.pydata.org/en/latest/docs/reference/models/arrow_heads.html#bokeh.models.arrow_heads.NormalHead) and [`VeeHead`](http://bokeh.pydata.org/en/latest/docs/reference/models/arrow_heads.html#bokeh.models.arrow_heads.VeeHead). The arrow head type can be controlled by setting the `start` and `end` properties of `Arrow` objects:\n",
    "\n",
    "```python\n",
    "p.add_layout(Arrow(start=OpenHead(), end=VeeHead(), \n",
    "             x_start=0, y_start=0, x_end=1, y_end=0))\n",
    "```\n",
    "\n",
    "This will create a double-ended arrow with an \"open\" head at the start, and a \"vee\" head at the end. Arrowheads have the standard set of line and fill properties to control their appearance. As an example\n",
    "\n",
    "```python\n",
    "OpenHead(line_color=\"firebrick\", line_width=4)\n",
    "```\n",
    "\n",
    "The code and plot below shows several of these configurations together."
   ]
  },
  {
   "cell_type": "code",
   "execution_count": 14,
   "metadata": {
    "slideshow": {
     "slide_type": "subslide"
    }
   },
   "outputs": [
    {
     "data": {
      "text/html": [
       "\n",
       "\n",
       "\n",
       "\n",
       "\n",
       "\n",
       "  <div class=\"bk-root\" id=\"9a72d27a-42b2-4f80-9c17-be414f8dd081\"></div>\n"
      ]
     },
     "metadata": {},
     "output_type": "display_data"
    },
    {
     "data": {
      "application/javascript": [
       "(function(root) {\n",
       "  function embed_document(root) {\n",
       "    \n",
       "  var docs_json = {\"6b8bd95b-e098-4e27-b436-ef96ebc9aa2c\":{\"roots\":{\"references\":[{\"attributes\":{\"fill_alpha\":{\"value\":0.1},\"fill_color\":{\"field\":\"fill_color\"},\"line_color\":{\"field\":\"line_color\"},\"radius\":{\"units\":\"data\",\"value\":0.1},\"x\":{\"field\":\"x\"},\"y\":{\"field\":\"y\"}},\"id\":\"751c2366-7c12-4464-a443-a7a082521592\",\"type\":\"Circle\"},{\"attributes\":{\"source\":{\"id\":\"91fffe35-1fa2-4747-9289-c332a7e86ef7\",\"type\":\"ColumnDataSource\"}},\"id\":\"8bda2880-b7c6-4b09-a0a2-e0c2eb54d11a\",\"type\":\"CDSView\"},{\"attributes\":{\"plot\":{\"id\":\"cda7e4eb-dd20-48bb-87be-471382e33a45\",\"subtype\":\"Figure\",\"type\":\"Plot\"},\"ticker\":{\"id\":\"d81a1ee2-aa52-40c8-b488-c88036231360\",\"type\":\"BasicTicker\"}},\"id\":\"fac42ddf-cf69-4c1a-9f88-95073ea1fb8c\",\"type\":\"Grid\"},{\"attributes\":{},\"id\":\"a8cd534d-c39e-4821-929d-9ae6a8fa56d2\",\"type\":\"LinearScale\"},{\"attributes\":{},\"id\":\"edf3c4bf-7233-466e-85d9-1f4490ca9df3\",\"type\":\"LinearScale\"},{\"attributes\":{\"callback\":null},\"id\":\"47a7d0d2-5f89-45ec-afd6-b298d14c9c5d\",\"type\":\"DataRange1d\"},{\"attributes\":{\"fill_color\":{\"value\":\"orange\"},\"plot\":null},\"id\":\"f2edb2e2-06e8-4abd-bf0f-59162118c61a\",\"type\":\"NormalHead\"},{\"attributes\":{},\"id\":\"9c6c4cc9-8aff-48b8-9481-cde3f3edb154\",\"type\":\"HelpTool\"},{\"attributes\":{},\"id\":\"a52653e9-6b6e-4969-b875-cce8ba5e5bbb\",\"type\":\"ResetTool\"},{\"attributes\":{\"line_color\":{\"value\":\"firebrick\"},\"line_width\":{\"value\":4},\"plot\":null},\"id\":\"eadc0dac-e093-48d7-82bd-9a5a66859eb8\",\"type\":\"OpenHead\"},{\"attributes\":{},\"id\":\"be1c16d9-caa7-4e6e-b1aa-8e92fdefcb23\",\"type\":\"WheelZoomTool\"},{\"attributes\":{},\"id\":\"37f0f17e-89cf-476c-a023-4d018005aea5\",\"type\":\"PanTool\"},{\"attributes\":{\"bottom_units\":\"screen\",\"fill_alpha\":{\"value\":0.5},\"fill_color\":{\"value\":\"lightgrey\"},\"left_units\":\"screen\",\"level\":\"overlay\",\"line_alpha\":{\"value\":1.0},\"line_color\":{\"value\":\"black\"},\"line_dash\":[4,4],\"line_width\":{\"value\":2},\"plot\":null,\"render_mode\":\"css\",\"right_units\":\"screen\",\"top_units\":\"screen\"},\"id\":\"8c4a9a7f-2f17-49c8-a6b5-f73cb349a3fa\",\"type\":\"BoxAnnotation\"},{\"attributes\":{\"formatter\":{\"id\":\"098dd6b2-0365-4cf2-8e76-90c90cb9535f\",\"type\":\"BasicTickFormatter\"},\"plot\":{\"id\":\"cda7e4eb-dd20-48bb-87be-471382e33a45\",\"subtype\":\"Figure\",\"type\":\"Plot\"},\"ticker\":{\"id\":\"8bbfb7e8-5bcb-4954-b04e-8266c4f9331a\",\"type\":\"BasicTicker\"}},\"id\":\"d5e4aca9-ca38-405d-8385-7251ede73b97\",\"type\":\"LinearAxis\"},{\"attributes\":{\"dimension\":1,\"plot\":{\"id\":\"cda7e4eb-dd20-48bb-87be-471382e33a45\",\"subtype\":\"Figure\",\"type\":\"Plot\"},\"ticker\":{\"id\":\"8bbfb7e8-5bcb-4954-b04e-8266c4f9331a\",\"type\":\"BasicTicker\"}},\"id\":\"b91c1e40-0c18-414c-88fb-654f24d325f0\",\"type\":\"Grid\"},{\"attributes\":{},\"id\":\"9f694d7d-5de8-489f-a8e1-05689bb6ddf4\",\"type\":\"SaveTool\"},{\"attributes\":{\"overlay\":{\"id\":\"8c4a9a7f-2f17-49c8-a6b5-f73cb349a3fa\",\"type\":\"BoxAnnotation\"}},\"id\":\"d4c5e96e-2951-4b61-9151-1366f2e96606\",\"type\":\"BoxZoomTool\"},{\"attributes\":{},\"id\":\"d81a1ee2-aa52-40c8-b488-c88036231360\",\"type\":\"BasicTicker\"},{\"attributes\":{\"formatter\":{\"id\":\"5894339c-0117-4c46-bb0d-3543221d363f\",\"type\":\"BasicTickFormatter\"},\"plot\":{\"id\":\"cda7e4eb-dd20-48bb-87be-471382e33a45\",\"subtype\":\"Figure\",\"type\":\"Plot\"},\"ticker\":{\"id\":\"d81a1ee2-aa52-40c8-b488-c88036231360\",\"type\":\"BasicTicker\"}},\"id\":\"c8164437-a8c0-4b5a-8f6f-2be4088928b7\",\"type\":\"LinearAxis\"},{\"attributes\":{\"plot\":null,\"text\":\"\"},\"id\":\"70064a6e-5622-471e-9e4c-a62b4dbe92f2\",\"type\":\"Title\"},{\"attributes\":{\"plot\":null,\"size\":35},\"id\":\"728ad27e-ed27-49eb-9188-1c97081283d7\",\"type\":\"VeeHead\"},{\"attributes\":{\"end\":{\"id\":\"eadc0dac-e093-48d7-82bd-9a5a66859eb8\",\"type\":\"OpenHead\"},\"plot\":{\"id\":\"cda7e4eb-dd20-48bb-87be-471382e33a45\",\"subtype\":\"Figure\",\"type\":\"Plot\"},\"source\":null,\"start\":null,\"x_end\":{\"value\":1},\"x_start\":{\"value\":0},\"y_end\":{\"value\":0},\"y_start\":{\"value\":0}},\"id\":\"529c653b-315a-4891-9465-1c1e581339bf\",\"type\":\"Arrow\"},{\"attributes\":{\"end\":{\"id\":\"728ad27e-ed27-49eb-9188-1c97081283d7\",\"type\":\"VeeHead\"},\"line_color\":{\"value\":\"red\"},\"plot\":{\"id\":\"cda7e4eb-dd20-48bb-87be-471382e33a45\",\"subtype\":\"Figure\",\"type\":\"Plot\"},\"source\":null,\"start\":null,\"x_end\":{\"value\":0},\"x_start\":{\"value\":0.5},\"y_end\":{\"value\":0},\"y_start\":{\"value\":0.7}},\"id\":\"e1f5f91f-8e51-4805-b464-d1d45a3f2491\",\"type\":\"Arrow\"},{\"attributes\":{\"below\":[{\"id\":\"c8164437-a8c0-4b5a-8f6f-2be4088928b7\",\"type\":\"LinearAxis\"}],\"left\":[{\"id\":\"d5e4aca9-ca38-405d-8385-7251ede73b97\",\"type\":\"LinearAxis\"}],\"renderers\":[{\"id\":\"c8164437-a8c0-4b5a-8f6f-2be4088928b7\",\"type\":\"LinearAxis\"},{\"id\":\"fac42ddf-cf69-4c1a-9f88-95073ea1fb8c\",\"type\":\"Grid\"},{\"id\":\"d5e4aca9-ca38-405d-8385-7251ede73b97\",\"type\":\"LinearAxis\"},{\"id\":\"b91c1e40-0c18-414c-88fb-654f24d325f0\",\"type\":\"Grid\"},{\"id\":\"8c4a9a7f-2f17-49c8-a6b5-f73cb349a3fa\",\"type\":\"BoxAnnotation\"},{\"id\":\"731b9dc4-0944-4a1b-b1cd-83febf1736fd\",\"type\":\"GlyphRenderer\"},{\"id\":\"529c653b-315a-4891-9465-1c1e581339bf\",\"type\":\"Arrow\"},{\"id\":\"d9d0e738-3837-4c04-922b-8642e448bc03\",\"type\":\"Arrow\"},{\"id\":\"e1f5f91f-8e51-4805-b464-d1d45a3f2491\",\"type\":\"Arrow\"}],\"title\":{\"id\":\"70064a6e-5622-471e-9e4c-a62b4dbe92f2\",\"type\":\"Title\"},\"toolbar\":{\"id\":\"1e5140be-5dc8-4a44-a618-5406b8ce6d68\",\"type\":\"Toolbar\"},\"x_range\":{\"id\":\"a7132d80-8122-429d-bc09-cb92b749ef07\",\"type\":\"DataRange1d\"},\"x_scale\":{\"id\":\"edf3c4bf-7233-466e-85d9-1f4490ca9df3\",\"type\":\"LinearScale\"},\"y_range\":{\"id\":\"47a7d0d2-5f89-45ec-afd6-b298d14c9c5d\",\"type\":\"DataRange1d\"},\"y_scale\":{\"id\":\"a8cd534d-c39e-4821-929d-9ae6a8fa56d2\",\"type\":\"LinearScale\"}},\"id\":\"cda7e4eb-dd20-48bb-87be-471382e33a45\",\"subtype\":\"Figure\",\"type\":\"Plot\"},{\"attributes\":{\"end\":{\"id\":\"f2edb2e2-06e8-4abd-bf0f-59162118c61a\",\"type\":\"NormalHead\"},\"plot\":{\"id\":\"cda7e4eb-dd20-48bb-87be-471382e33a45\",\"subtype\":\"Figure\",\"type\":\"Plot\"},\"source\":null,\"start\":null,\"x_end\":{\"value\":0.5},\"x_start\":{\"value\":1},\"y_end\":{\"value\":0.7},\"y_start\":{\"value\":0}},\"id\":\"d9d0e738-3837-4c04-922b-8642e448bc03\",\"type\":\"Arrow\"},{\"attributes\":{\"callback\":null,\"data\":{\"fill_color\":[\"navy\",\"yellow\",\"red\"],\"line_color\":[\"navy\",\"yellow\",\"red\"],\"x\":[0,1,0.5],\"y\":[0,0,0.7]},\"selected\":{\"id\":\"2640f48f-e006-4218-92f9-fcac49e54d4e\",\"type\":\"Selection\"},\"selection_policy\":{\"id\":\"fb08b471-6f07-4da8-bd69-ce88a30cab24\",\"type\":\"UnionRenderers\"}},\"id\":\"91fffe35-1fa2-4747-9289-c332a7e86ef7\",\"type\":\"ColumnDataSource\"},{\"attributes\":{},\"id\":\"098dd6b2-0365-4cf2-8e76-90c90cb9535f\",\"type\":\"BasicTickFormatter\"},{\"attributes\":{},\"id\":\"5894339c-0117-4c46-bb0d-3543221d363f\",\"type\":\"BasicTickFormatter\"},{\"attributes\":{\"data_source\":{\"id\":\"91fffe35-1fa2-4747-9289-c332a7e86ef7\",\"type\":\"ColumnDataSource\"},\"glyph\":{\"id\":\"751c2366-7c12-4464-a443-a7a082521592\",\"type\":\"Circle\"},\"hover_glyph\":null,\"muted_glyph\":null,\"nonselection_glyph\":{\"id\":\"cf44aa0d-83c0-4ebd-8251-ad540f697747\",\"type\":\"Circle\"},\"selection_glyph\":null,\"view\":{\"id\":\"8bda2880-b7c6-4b09-a0a2-e0c2eb54d11a\",\"type\":\"CDSView\"}},\"id\":\"731b9dc4-0944-4a1b-b1cd-83febf1736fd\",\"type\":\"GlyphRenderer\"},{\"attributes\":{},\"id\":\"8bbfb7e8-5bcb-4954-b04e-8266c4f9331a\",\"type\":\"BasicTicker\"},{\"attributes\":{\"fill_alpha\":{\"value\":0.1},\"fill_color\":{\"value\":\"#1f77b4\"},\"line_alpha\":{\"value\":0.1},\"line_color\":{\"value\":\"#1f77b4\"},\"radius\":{\"units\":\"data\",\"value\":0.1},\"x\":{\"field\":\"x\"},\"y\":{\"field\":\"y\"}},\"id\":\"cf44aa0d-83c0-4ebd-8251-ad540f697747\",\"type\":\"Circle\"},{\"attributes\":{},\"id\":\"fb08b471-6f07-4da8-bd69-ce88a30cab24\",\"type\":\"UnionRenderers\"},{\"attributes\":{\"callback\":null},\"id\":\"a7132d80-8122-429d-bc09-cb92b749ef07\",\"type\":\"DataRange1d\"},{\"attributes\":{},\"id\":\"2640f48f-e006-4218-92f9-fcac49e54d4e\",\"type\":\"Selection\"},{\"attributes\":{\"active_drag\":\"auto\",\"active_inspect\":\"auto\",\"active_multi\":null,\"active_scroll\":\"auto\",\"active_tap\":\"auto\",\"tools\":[{\"id\":\"37f0f17e-89cf-476c-a023-4d018005aea5\",\"type\":\"PanTool\"},{\"id\":\"be1c16d9-caa7-4e6e-b1aa-8e92fdefcb23\",\"type\":\"WheelZoomTool\"},{\"id\":\"d4c5e96e-2951-4b61-9151-1366f2e96606\",\"type\":\"BoxZoomTool\"},{\"id\":\"9f694d7d-5de8-489f-a8e1-05689bb6ddf4\",\"type\":\"SaveTool\"},{\"id\":\"a52653e9-6b6e-4969-b875-cce8ba5e5bbb\",\"type\":\"ResetTool\"},{\"id\":\"9c6c4cc9-8aff-48b8-9481-cde3f3edb154\",\"type\":\"HelpTool\"}]},\"id\":\"1e5140be-5dc8-4a44-a618-5406b8ce6d68\",\"type\":\"Toolbar\"}],\"root_ids\":[\"cda7e4eb-dd20-48bb-87be-471382e33a45\"]},\"title\":\"Bokeh Application\",\"version\":\"0.13.0\"}};\n",
       "  var render_items = [{\"docid\":\"6b8bd95b-e098-4e27-b436-ef96ebc9aa2c\",\"roots\":{\"cda7e4eb-dd20-48bb-87be-471382e33a45\":\"9a72d27a-42b2-4f80-9c17-be414f8dd081\"}}];\n",
       "  root.Bokeh.embed.embed_items_notebook(docs_json, render_items);\n",
       "\n",
       "  }\n",
       "  if (root.Bokeh !== undefined) {\n",
       "    embed_document(root);\n",
       "  } else {\n",
       "    var attempts = 0;\n",
       "    var timer = setInterval(function(root) {\n",
       "      if (root.Bokeh !== undefined) {\n",
       "        embed_document(root);\n",
       "        clearInterval(timer);\n",
       "      }\n",
       "      attempts++;\n",
       "      if (attempts > 100) {\n",
       "        console.log(\"Bokeh: ERROR: Unable to run BokehJS code because BokehJS library is missing\")\n",
       "        clearInterval(timer);\n",
       "      }\n",
       "    }, 10, root)\n",
       "  }\n",
       "})(window);"
      ],
      "application/vnd.bokehjs_exec.v0+json": ""
     },
     "metadata": {
      "application/vnd.bokehjs_exec.v0+json": {
       "id": "cda7e4eb-dd20-48bb-87be-471382e33a45"
      }
     },
     "output_type": "display_data"
    }
   ],
   "source": [
    "from bokeh.models.annotations import Arrow\n",
    "from bokeh.models.arrow_heads import OpenHead, NormalHead, VeeHead\n",
    "\n",
    "p = figure(plot_width=600, plot_height=600)\n",
    "\n",
    "p.circle(x=[0, 1, 0.5], y=[0, 0, 0.7], radius=0.1,\n",
    "         color=[\"navy\", \"yellow\", \"red\"], fill_alpha=0.1)\n",
    "\n",
    "p.add_layout(Arrow(end=OpenHead(line_color=\"firebrick\", line_width=4),\n",
    "                   x_start=0, y_start=0, x_end=1, y_end=0))\n",
    "\n",
    "p.add_layout(Arrow(end=NormalHead(fill_color=\"orange\"),\n",
    "                   x_start=1, y_start=0, x_end=0.5, y_end=0.7))\n",
    "\n",
    "p.add_layout(Arrow(end=VeeHead(size=35), line_color=\"red\",\n",
    "                   x_start=0.5, y_start=0.7, x_end=0, y_end=0))\n",
    "\n",
    "show(p)"
   ]
  },
  {
   "cell_type": "code",
   "execution_count": 15,
   "metadata": {},
   "outputs": [],
   "source": [
    "# EXERCISE: experiment with arrows and arrow heads\n"
   ]
  },
  {
   "cell_type": "markdown",
   "metadata": {
    "slideshow": {
     "slide_type": "slide"
    }
   },
   "source": [
    "## Legends\n",
    "\n",
    "When plots have multiple glyphs, it is desirable to include a legend to help users interpret what they see. Bokeh can generate legends easily based on the glyphs that are added. "
   ]
  },
  {
   "cell_type": "markdown",
   "metadata": {},
   "source": [
    "### Simple Legends\n",
    "\n",
    "In the simplest case, you can simply pass a string as the `legend` argument to a glyph function:\n",
    "```python\n",
    "p.circle(x, y, legend=\"sin(x)\")\n",
    "``` \n",
    "In this case Bokeh will automatically create a legend that shows a representation of that glyph, labeled by the test you provided. A full example is below."
   ]
  },
  {
   "cell_type": "code",
   "execution_count": 16,
   "metadata": {
    "slideshow": {
     "slide_type": "subslide"
    }
   },
   "outputs": [
    {
     "data": {
      "text/html": [
       "\n",
       "\n",
       "\n",
       "\n",
       "\n",
       "\n",
       "  <div class=\"bk-root\" id=\"020ea962-ff7d-44e2-ba44-c0ece34fa5ff\"></div>\n"
      ]
     },
     "metadata": {},
     "output_type": "display_data"
    },
    {
     "data": {
      "application/javascript": [
       "(function(root) {\n",
       "  function embed_document(root) {\n",
       "    \n",
       "  var docs_json = {\"285840d3-8dd9-449d-a996-a74056bdb002\":{\"roots\":{\"references\":[{\"attributes\":{\"plot\":{\"id\":\"e1b0de6a-c55d-4555-bc36-5db1ad87e5ef\",\"subtype\":\"Figure\",\"type\":\"Plot\"},\"ticker\":{\"id\":\"35831c2e-dd64-4a6a-9bb1-086ab83d533e\",\"type\":\"BasicTicker\"}},\"id\":\"4735736e-ab42-4108-97df-27be7bdb34aa\",\"type\":\"Grid\"},{\"attributes\":{\"callback\":null},\"id\":\"5f88a38b-a9cf-4477-b58d-d9fcf96d7ba5\",\"type\":\"DataRange1d\"},{\"attributes\":{\"formatter\":{\"id\":\"e3dde13d-0a74-444f-8bed-a76043d3951a\",\"type\":\"BasicTickFormatter\"},\"plot\":{\"id\":\"e1b0de6a-c55d-4555-bc36-5db1ad87e5ef\",\"subtype\":\"Figure\",\"type\":\"Plot\"},\"ticker\":{\"id\":\"35831c2e-dd64-4a6a-9bb1-086ab83d533e\",\"type\":\"BasicTicker\"}},\"id\":\"82c097f7-544e-4a6e-8f9e-3be5a3cca638\",\"type\":\"LinearAxis\"},{\"attributes\":{\"items\":[{\"id\":\"17f9c10f-d74a-42eb-8194-d4708b1a6c6a\",\"type\":\"LegendItem\"},{\"id\":\"afad53cb-1dbb-4cdd-b02c-5ef6848937bc\",\"type\":\"LegendItem\"}],\"plot\":{\"id\":\"e1b0de6a-c55d-4555-bc36-5db1ad87e5ef\",\"subtype\":\"Figure\",\"type\":\"Plot\"}},\"id\":\"045a976f-78ab-44a2-9ba7-776962f7746a\",\"type\":\"Legend\"},{\"attributes\":{},\"id\":\"0e072b54-f909-459d-bbd8-e61d1a7963f1\",\"type\":\"BasicTickFormatter\"},{\"attributes\":{\"active_drag\":\"auto\",\"active_inspect\":\"auto\",\"active_multi\":null,\"active_scroll\":\"auto\",\"active_tap\":\"auto\",\"tools\":[{\"id\":\"3fbc1f74-38d0-4b25-9c3c-5d43225426b7\",\"type\":\"PanTool\"},{\"id\":\"ffb023c9-519b-47bc-af1f-a9581a7434c3\",\"type\":\"WheelZoomTool\"},{\"id\":\"ac886013-a636-40d6-91eb-bf420e33fc57\",\"type\":\"BoxZoomTool\"},{\"id\":\"ce0219fa-bdc4-42c4-b3e3-1ba9c0229cf6\",\"type\":\"SaveTool\"},{\"id\":\"288e6b07-533d-4a9a-b580-d25985a0698a\",\"type\":\"ResetTool\"},{\"id\":\"a027b45b-5402-4433-8c77-965ae9c0da8d\",\"type\":\"HelpTool\"}]},\"id\":\"20cfee3b-0bb4-4993-85e7-b9ce041040b7\",\"type\":\"Toolbar\"},{\"attributes\":{},\"id\":\"e3dde13d-0a74-444f-8bed-a76043d3951a\",\"type\":\"BasicTickFormatter\"},{\"attributes\":{\"data_source\":{\"id\":\"18e224fe-d6a4-4af5-9453-4d7743c51303\",\"type\":\"ColumnDataSource\"},\"glyph\":{\"id\":\"dbd2d79d-c353-4f03-8863-47c318cc30f2\",\"type\":\"Line\"},\"hover_glyph\":null,\"muted_glyph\":null,\"nonselection_glyph\":{\"id\":\"f5b5fa6e-987c-4aef-9f28-baef738ff92f\",\"type\":\"Line\"},\"selection_glyph\":null,\"view\":{\"id\":\"17ac4755-a462-40c3-bfda-d415e33d54fc\",\"type\":\"CDSView\"}},\"id\":\"1d81ce66-18ba-4358-9bb6-e865fb753d97\",\"type\":\"GlyphRenderer\"},{\"attributes\":{\"line_color\":\"orange\",\"line_dash\":[4,4],\"line_width\":2,\"x\":{\"field\":\"x\"},\"y\":{\"field\":\"y\"}},\"id\":\"dbd2d79d-c353-4f03-8863-47c318cc30f2\",\"type\":\"Line\"},{\"attributes\":{\"overlay\":{\"id\":\"684db775-8941-447d-8afa-7f9c1574d98e\",\"type\":\"BoxAnnotation\"}},\"id\":\"ac886013-a636-40d6-91eb-bf420e33fc57\",\"type\":\"BoxZoomTool\"},{\"attributes\":{\"label\":{\"value\":\"sin(x)\"},\"renderers\":[{\"id\":\"14866b93-6de7-4c8e-b9e1-12e417016b5a\",\"type\":\"GlyphRenderer\"}]},\"id\":\"17f9c10f-d74a-42eb-8194-d4708b1a6c6a\",\"type\":\"LegendItem\"},{\"attributes\":{\"source\":{\"id\":\"b71b5cbb-7289-4a95-b0cd-19130655051a\",\"type\":\"ColumnDataSource\"}},\"id\":\"cd0ac6ec-0ac6-445c-8eb4-ea4148b681d1\",\"type\":\"CDSView\"},{\"attributes\":{\"line_alpha\":0.1,\"line_color\":\"#1f77b4\",\"line_dash\":[4,4],\"line_width\":2,\"x\":{\"field\":\"x\"},\"y\":{\"field\":\"y\"}},\"id\":\"f5b5fa6e-987c-4aef-9f28-baef738ff92f\",\"type\":\"Line\"},{\"attributes\":{},\"id\":\"ce46ce74-1967-410e-82f2-fa11344ac6c5\",\"type\":\"UnionRenderers\"},{\"attributes\":{\"source\":{\"id\":\"18e224fe-d6a4-4af5-9453-4d7743c51303\",\"type\":\"ColumnDataSource\"}},\"id\":\"17ac4755-a462-40c3-bfda-d415e33d54fc\",\"type\":\"CDSView\"},{\"attributes\":{\"callback\":null,\"data\":{\"x\":{\"__ndarray__\":\"AAAAAAAAAACRGkt8Vz/AP5EaS3xXP9A/2qdwOgNf2D+RGkt8Vz/gPzXhXVstT+Q/2qdwOgNf6D9+boMZ2W7sP5EaS3xXP/A/433Ua0JH8j814V1bLU/0P4dE50oYV/Y/2qdwOgNf+D8sC/op7mb6P35ugxnZbvw/0NEMCcR2/j+RGkt8Vz8AQDrMD/RMQwFA433Ua0JHAkCML5njN0sDQDXhXVstTwRA3pIi0yJTBUCHROdKGFcGQDD2q8INWwdA2qdwOgNfCECDWTWy+GIJQCwL+inuZgpA1by+oeNqC0B+boMZ2W4MQCcgSJHOcg1A0NEMCcR2DkB5g9GAuXoPQJEaS3xXPxBAZnMtOFLBEEA6zA/0TEMRQA8l8q9HxRFA433Ua0JHEkC41rYnPckSQIwvmeM3SxNAYYh7nzLNE0A14V1bLU8UQAo6QBco0RRA3pIi0yJTFUCz6wSPHdUVQIdE50oYVxZAXJ3JBhPZFkAw9qvCDVsXQAVPjn4I3RdA2qdwOgNfGECuAFP2/eAYQINZNbL4YhlAV7IXbvPkGUAsC/op7mYaQABk3OXo6BpA1by+oeNqG0CpFaFd3uwbQH5ugxnZbhxAUsdl1dPwHEAnIEiRznIdQPt4Kk3J9B1A0NEMCcR2HkCkKu/EvvgeQHmD0YC5eh9ATdyzPLT8H0CRGkt8Vz8gQPtGPNpUgCBAZnMtOFLBIEDQnx6WTwIhQDrMD/RMQyFApPgAUkqEIUAPJfKvR8UhQHlR4w1FBiJA433Ua0JHIkBNqsXJP4giQLjWtic9ySJAIgOohToKI0CML5njN0sjQPZbikE1jCNAYYh7nzLNI0DLtGz9Lw4kQDXhXVstTyRAoA1PuSqQJEAKOkAXKNEkQHRmMXUlEiVA3pIi0yJTJUBJvxMxIJQlQLPrBI8d1SVAHRj27BoWJkCHROdKGFcmQPJw2KgVmCZAXJ3JBhPZJkDGybpkEBonQDD2q8INWydAmyKdIAucJ0AFT45+CN0nQG97f9wFHihA2qdwOgNfKEBE1GGYAKAoQK4AU/b94ChAGC1EVPshKUA=\",\"dtype\":\"float64\",\"shape\":[100]},\"y\":{\"__ndarray__\":\"AAAAAAAAAADwgwJ4LjTQP5qI2QHPEuA/+5MNU1HJ5z8ZTT7q2B3vP0aFmgwa+fI/ABg/lCAV9j+IQCEcMdb4P3fOhmLzMPs/EyzujrQb/T/9Izwlj47+PxccgYyLg/8/g6xao7j2/z9mZrL8O+b/P7+X94FZUv8/xVNiW3I9/j9RB8Ai+6v8P5FWKYlppPo/oig6uxkv+D/Sh2bxK1b1PyZGRbpaJfI/8qg+VZVT7T/4C4p0qOPlP+UppLIiM9w/3FNHxZdVyD/I23zJpD6wv+3ENsZjOdS/wo12/ecH4r/egWKM2Kjpv2MTsJELcPC/83ixWvXH87+258MBZM72v5eCD4nhdvm/rExY6Hq2+7+TIxAn7YP9vwSssILL1/6/70I4BJ6s/7/vOc8G+P7/vzTGy1KGzf+/3176khQZ/7/C8a4NiuT9vzGcHq/dNPy/mEFFlgER+r+EGZN4xoH3vx8WPFK3kfS/Cli7+O1M8b+HQNqEwoHrv9kfIiFb+OO/gKyggGI52L8EhrXMjDzAvyCGtcyMPMA/jqyggGI52D/gHyIhW/jjP4BA2oTCges/Dli7+O1M8T8cFjxSt5H0P4cZk3jGgfc/lEFFlgER+j8ynB6v3TT8P8Hxrg2K5P0/4F76khQZ/z80xstShs3/P+85zwb4/v8/8EI4BJ6s/z8DrLCCy9f+P5UjECftg/0/p0xY6Hq2+z+Vgg+J4Xb5P7fnwwFkzvY/9nixWvXH8z9cE7CRC3DwP9eBYozYqOk/w412/ecH4j/+xDbGYznUP0/bfMmkPrA/+VNHxZdVyL/UKaSyIjPcv+gLinSo4+W/+Kg+VZVT7b8mRkW6WiXyv8+HZvErVvW/pig6uxkv+L+TVimJaaT6v1EHwCL7q/y/xFNiW3I9/r/Al/eBWVL/v2Zmsvw75v+/g6xao7j2/78YHIGMi4P/v/sjPCWPjv6/EyzujrQb/b94zoZi8zD7v4xAIRwx1vi//Bc/lCAV9r9GhZoMGvnyvx5NPurYHe+/65MNU1HJ57+SiNkBzxLgv/GDAnguNNC/B1wUMyam0bw=\",\"dtype\":\"float64\",\"shape\":[100]}},\"selected\":{\"id\":\"49766c6f-3647-4d24-8edf-78bdc14f8521\",\"type\":\"Selection\"},\"selection_policy\":{\"id\":\"838d7a3c-738a-4760-be76-19f012fc7305\",\"type\":\"UnionRenderers\"}},\"id\":\"18e224fe-d6a4-4af5-9453-4d7743c51303\",\"type\":\"ColumnDataSource\"},{\"attributes\":{},\"id\":\"589c9b49-6ce9-4026-931b-504fe6558abe\",\"type\":\"Selection\"},{\"attributes\":{\"formatter\":{\"id\":\"0e072b54-f909-459d-bbd8-e61d1a7963f1\",\"type\":\"BasicTickFormatter\"},\"plot\":{\"id\":\"e1b0de6a-c55d-4555-bc36-5db1ad87e5ef\",\"subtype\":\"Figure\",\"type\":\"Plot\"},\"ticker\":{\"id\":\"7d3850c1-4482-4fb8-b79e-4acbaaaf46ce\",\"type\":\"BasicTicker\"}},\"id\":\"615b2ed7-716f-4e7c-8183-e5c7332e1777\",\"type\":\"LinearAxis\"},{\"attributes\":{},\"id\":\"35831c2e-dd64-4a6a-9bb1-086ab83d533e\",\"type\":\"BasicTicker\"},{\"attributes\":{},\"id\":\"838d7a3c-738a-4760-be76-19f012fc7305\",\"type\":\"UnionRenderers\"},{\"attributes\":{},\"id\":\"49766c6f-3647-4d24-8edf-78bdc14f8521\",\"type\":\"Selection\"},{\"attributes\":{},\"id\":\"288e6b07-533d-4a9a-b580-d25985a0698a\",\"type\":\"ResetTool\"},{\"attributes\":{},\"id\":\"3fbc1f74-38d0-4b25-9c3c-5d43225426b7\",\"type\":\"PanTool\"},{\"attributes\":{},\"id\":\"7d3850c1-4482-4fb8-b79e-4acbaaaf46ce\",\"type\":\"BasicTicker\"},{\"attributes\":{\"label\":{\"value\":\"2*sin(x)\"},\"renderers\":[{\"id\":\"1d81ce66-18ba-4358-9bb6-e865fb753d97\",\"type\":\"GlyphRenderer\"}]},\"id\":\"afad53cb-1dbb-4cdd-b02c-5ef6848937bc\",\"type\":\"LegendItem\"},{\"attributes\":{},\"id\":\"a027b45b-5402-4433-8c77-965ae9c0da8d\",\"type\":\"HelpTool\"},{\"attributes\":{},\"id\":\"ffb023c9-519b-47bc-af1f-a9581a7434c3\",\"type\":\"WheelZoomTool\"},{\"attributes\":{\"plot\":null,\"text\":\"\"},\"id\":\"a4a3ce8f-bd4f-4ce1-a7f1-437537df2ded\",\"type\":\"Title\"},{\"attributes\":{\"dimension\":1,\"plot\":{\"id\":\"e1b0de6a-c55d-4555-bc36-5db1ad87e5ef\",\"subtype\":\"Figure\",\"type\":\"Plot\"},\"ticker\":{\"id\":\"7d3850c1-4482-4fb8-b79e-4acbaaaf46ce\",\"type\":\"BasicTicker\"}},\"id\":\"c8cac126-7bb1-422d-82b5-7b00452abf97\",\"type\":\"Grid\"},{\"attributes\":{},\"id\":\"f852f4df-7b76-4daa-8602-f78fcf3bf7cf\",\"type\":\"LinearScale\"},{\"attributes\":{},\"id\":\"beb5525a-e69d-4c45-81f9-e50807d2e49d\",\"type\":\"LinearScale\"},{\"attributes\":{\"callback\":null,\"data\":{\"x\":{\"__ndarray__\":\"AAAAAAAAAACRGkt8Vz/AP5EaS3xXP9A/2qdwOgNf2D+RGkt8Vz/gPzXhXVstT+Q/2qdwOgNf6D9+boMZ2W7sP5EaS3xXP/A/433Ua0JH8j814V1bLU/0P4dE50oYV/Y/2qdwOgNf+D8sC/op7mb6P35ugxnZbvw/0NEMCcR2/j+RGkt8Vz8AQDrMD/RMQwFA433Ua0JHAkCML5njN0sDQDXhXVstTwRA3pIi0yJTBUCHROdKGFcGQDD2q8INWwdA2qdwOgNfCECDWTWy+GIJQCwL+inuZgpA1by+oeNqC0B+boMZ2W4MQCcgSJHOcg1A0NEMCcR2DkB5g9GAuXoPQJEaS3xXPxBAZnMtOFLBEEA6zA/0TEMRQA8l8q9HxRFA433Ua0JHEkC41rYnPckSQIwvmeM3SxNAYYh7nzLNE0A14V1bLU8UQAo6QBco0RRA3pIi0yJTFUCz6wSPHdUVQIdE50oYVxZAXJ3JBhPZFkAw9qvCDVsXQAVPjn4I3RdA2qdwOgNfGECuAFP2/eAYQINZNbL4YhlAV7IXbvPkGUAsC/op7mYaQABk3OXo6BpA1by+oeNqG0CpFaFd3uwbQH5ugxnZbhxAUsdl1dPwHEAnIEiRznIdQPt4Kk3J9B1A0NEMCcR2HkCkKu/EvvgeQHmD0YC5eh9ATdyzPLT8H0CRGkt8Vz8gQPtGPNpUgCBAZnMtOFLBIEDQnx6WTwIhQDrMD/RMQyFApPgAUkqEIUAPJfKvR8UhQHlR4w1FBiJA433Ua0JHIkBNqsXJP4giQLjWtic9ySJAIgOohToKI0CML5njN0sjQPZbikE1jCNAYYh7nzLNI0DLtGz9Lw4kQDXhXVstTyRAoA1PuSqQJEAKOkAXKNEkQHRmMXUlEiVA3pIi0yJTJUBJvxMxIJQlQLPrBI8d1SVAHRj27BoWJkCHROdKGFcmQPJw2KgVmCZAXJ3JBhPZJkDGybpkEBonQDD2q8INWydAmyKdIAucJ0AFT45+CN0nQG97f9wFHihA2qdwOgNfKEBE1GGYAKAoQK4AU/b94ChAGC1EVPshKUA=\",\"dtype\":\"float64\",\"shape\":[100]},\"y\":{\"__ndarray__\":\"AAAAAAAAAADwgwJ4LjTAP5qI2QHPEtA/+5MNU1HJ1z8ZTT7q2B3fP0aFmgwa+eI/ABg/lCAV5j+IQCEcMdboP3fOhmLzMOs/EyzujrQb7T/9Izwlj47uPxccgYyLg+8/g6xao7j27z9mZrL8O+bvP7+X94FZUu8/xVNiW3I97j9RB8Ai+6vsP5FWKYlppOo/oig6uxkv6D/Sh2bxK1blPyZGRbpaJeI/8qg+VZVT3T/4C4p0qOPVP+UppLIiM8w/3FNHxZdVuD/I23zJpD6gv+3ENsZjOcS/wo12/ecH0r/egWKM2KjZv2MTsJELcOC/83ixWvXH47+258MBZM7mv5eCD4nhdum/rExY6Hq267+TIxAn7YPtvwSssILL1+6/70I4BJ6s77/vOc8G+P7vvzTGy1KGze+/3176khQZ77/C8a4NiuTtvzGcHq/dNOy/mEFFlgER6r+EGZN4xoHnvx8WPFK3keS/Cli7+O1M4b+HQNqEwoHbv9kfIiFb+NO/gKyggGI5yL8EhrXMjDywvyCGtcyMPLA/jqyggGI5yD/gHyIhW/jTP4BA2oTCgds/Dli7+O1M4T8cFjxSt5HkP4cZk3jGgec/lEFFlgER6j8ynB6v3TTsP8Hxrg2K5O0/4F76khQZ7z80xstShs3vP+85zwb4/u8/8EI4BJ6s7z8DrLCCy9fuP5UjECftg+0/p0xY6Hq26z+Vgg+J4XbpP7fnwwFkzuY/9nixWvXH4z9cE7CRC3DgP9eBYozYqNk/w412/ecH0j/+xDbGYznEP0/bfMmkPqA/+VNHxZdVuL/UKaSyIjPMv+gLinSo49W/+Kg+VZVT3b8mRkW6WiXiv8+HZvErVuW/pig6uxkv6L+TVimJaaTqv1EHwCL7q+y/xFNiW3I97r/Al/eBWVLvv2Zmsvw75u+/g6xao7j2778YHIGMi4Pvv/sjPCWPju6/EyzujrQb7b94zoZi8zDrv4xAIRwx1ui//Bc/lCAV5r9GhZoMGvnivx5NPurYHd+/65MNU1HJ17+SiNkBzxLQv/GDAnguNMC/B1wUMyamwbw=\",\"dtype\":\"float64\",\"shape\":[100]}},\"selected\":{\"id\":\"589c9b49-6ce9-4026-931b-504fe6558abe\",\"type\":\"Selection\"},\"selection_policy\":{\"id\":\"ce46ce74-1967-410e-82f2-fa11344ac6c5\",\"type\":\"UnionRenderers\"}},\"id\":\"b71b5cbb-7289-4a95-b0cd-19130655051a\",\"type\":\"ColumnDataSource\"},{\"attributes\":{\"below\":[{\"id\":\"82c097f7-544e-4a6e-8f9e-3be5a3cca638\",\"type\":\"LinearAxis\"}],\"left\":[{\"id\":\"615b2ed7-716f-4e7c-8183-e5c7332e1777\",\"type\":\"LinearAxis\"}],\"plot_height\":400,\"renderers\":[{\"id\":\"82c097f7-544e-4a6e-8f9e-3be5a3cca638\",\"type\":\"LinearAxis\"},{\"id\":\"4735736e-ab42-4108-97df-27be7bdb34aa\",\"type\":\"Grid\"},{\"id\":\"615b2ed7-716f-4e7c-8183-e5c7332e1777\",\"type\":\"LinearAxis\"},{\"id\":\"c8cac126-7bb1-422d-82b5-7b00452abf97\",\"type\":\"Grid\"},{\"id\":\"684db775-8941-447d-8afa-7f9c1574d98e\",\"type\":\"BoxAnnotation\"},{\"id\":\"045a976f-78ab-44a2-9ba7-776962f7746a\",\"type\":\"Legend\"},{\"id\":\"14866b93-6de7-4c8e-b9e1-12e417016b5a\",\"type\":\"GlyphRenderer\"},{\"id\":\"1d81ce66-18ba-4358-9bb6-e865fb753d97\",\"type\":\"GlyphRenderer\"}],\"title\":{\"id\":\"a4a3ce8f-bd4f-4ce1-a7f1-437537df2ded\",\"type\":\"Title\"},\"toolbar\":{\"id\":\"20cfee3b-0bb4-4993-85e7-b9ce041040b7\",\"type\":\"Toolbar\"},\"x_range\":{\"id\":\"5f88a38b-a9cf-4477-b58d-d9fcf96d7ba5\",\"type\":\"DataRange1d\"},\"x_scale\":{\"id\":\"f852f4df-7b76-4daa-8602-f78fcf3bf7cf\",\"type\":\"LinearScale\"},\"y_range\":{\"id\":\"c97be0a4-a047-4265-b7d5-edacdedffb34\",\"type\":\"DataRange1d\"},\"y_scale\":{\"id\":\"beb5525a-e69d-4c45-81f9-e50807d2e49d\",\"type\":\"LinearScale\"}},\"id\":\"e1b0de6a-c55d-4555-bc36-5db1ad87e5ef\",\"subtype\":\"Figure\",\"type\":\"Plot\"},{\"attributes\":{\"data_source\":{\"id\":\"b71b5cbb-7289-4a95-b0cd-19130655051a\",\"type\":\"ColumnDataSource\"},\"glyph\":{\"id\":\"24170903-3faf-473d-9f89-75822d2c9bfc\",\"type\":\"Circle\"},\"hover_glyph\":null,\"muted_glyph\":null,\"nonselection_glyph\":{\"id\":\"d05f2410-d61e-418f-86ea-ef81f53050f0\",\"type\":\"Circle\"},\"selection_glyph\":null,\"view\":{\"id\":\"cd0ac6ec-0ac6-445c-8eb4-ea4148b681d1\",\"type\":\"CDSView\"}},\"id\":\"14866b93-6de7-4c8e-b9e1-12e417016b5a\",\"type\":\"GlyphRenderer\"},{\"attributes\":{},\"id\":\"ce0219fa-bdc4-42c4-b3e3-1ba9c0229cf6\",\"type\":\"SaveTool\"},{\"attributes\":{\"callback\":null},\"id\":\"c97be0a4-a047-4265-b7d5-edacdedffb34\",\"type\":\"DataRange1d\"},{\"attributes\":{\"bottom_units\":\"screen\",\"fill_alpha\":{\"value\":0.5},\"fill_color\":{\"value\":\"lightgrey\"},\"left_units\":\"screen\",\"level\":\"overlay\",\"line_alpha\":{\"value\":1.0},\"line_color\":{\"value\":\"black\"},\"line_dash\":[4,4],\"line_width\":{\"value\":2},\"plot\":null,\"render_mode\":\"css\",\"right_units\":\"screen\",\"top_units\":\"screen\"},\"id\":\"684db775-8941-447d-8afa-7f9c1574d98e\",\"type\":\"BoxAnnotation\"},{\"attributes\":{\"fill_color\":{\"value\":\"#1f77b4\"},\"line_color\":{\"value\":\"#1f77b4\"},\"x\":{\"field\":\"x\"},\"y\":{\"field\":\"y\"}},\"id\":\"24170903-3faf-473d-9f89-75822d2c9bfc\",\"type\":\"Circle\"},{\"attributes\":{\"fill_alpha\":{\"value\":0.1},\"fill_color\":{\"value\":\"#1f77b4\"},\"line_alpha\":{\"value\":0.1},\"line_color\":{\"value\":\"#1f77b4\"},\"x\":{\"field\":\"x\"},\"y\":{\"field\":\"y\"}},\"id\":\"d05f2410-d61e-418f-86ea-ef81f53050f0\",\"type\":\"Circle\"}],\"root_ids\":[\"e1b0de6a-c55d-4555-bc36-5db1ad87e5ef\"]},\"title\":\"Bokeh Application\",\"version\":\"0.13.0\"}};\n",
       "  var render_items = [{\"docid\":\"285840d3-8dd9-449d-a996-a74056bdb002\",\"roots\":{\"e1b0de6a-c55d-4555-bc36-5db1ad87e5ef\":\"020ea962-ff7d-44e2-ba44-c0ece34fa5ff\"}}];\n",
       "  root.Bokeh.embed.embed_items_notebook(docs_json, render_items);\n",
       "\n",
       "  }\n",
       "  if (root.Bokeh !== undefined) {\n",
       "    embed_document(root);\n",
       "  } else {\n",
       "    var attempts = 0;\n",
       "    var timer = setInterval(function(root) {\n",
       "      if (root.Bokeh !== undefined) {\n",
       "        embed_document(root);\n",
       "        clearInterval(timer);\n",
       "      }\n",
       "      attempts++;\n",
       "      if (attempts > 100) {\n",
       "        console.log(\"Bokeh: ERROR: Unable to run BokehJS code because BokehJS library is missing\")\n",
       "        clearInterval(timer);\n",
       "      }\n",
       "    }, 10, root)\n",
       "  }\n",
       "})(window);"
      ],
      "application/vnd.bokehjs_exec.v0+json": ""
     },
     "metadata": {
      "application/vnd.bokehjs_exec.v0+json": {
       "id": "e1b0de6a-c55d-4555-bc36-5db1ad87e5ef"
      }
     },
     "output_type": "display_data"
    }
   ],
   "source": [
    "import numpy as np\n",
    "\n",
    "x = np.linspace(0, 4*np.pi, 100)\n",
    "y = np.sin(x)\n",
    "\n",
    "p = figure(height=400)\n",
    "\n",
    "p.circle(x, y, legend=\"sin(x)\")\n",
    "p.line(x, 2*y, legend=\"2*sin(x)\", line_dash=[4, 4], line_color=\"orange\", line_width=2)\n",
    "\n",
    "show(p)"
   ]
  },
  {
   "cell_type": "markdown",
   "metadata": {
    "slideshow": {
     "slide_type": "slide"
    }
   },
   "source": [
    "### Compound legends\n",
    "\n",
    "In the example above, we provided a different legend label to each glyph method. Sometimes, two (or more) different glyphs are used with a single data source. In this case, you can make compound legends by specifying the same legend argument to multiple glyph methods when creating a plot, for example, if you plot a `sin` curve with both a line and a marker, you may give them the same label to cause them to show up together in the legend:\n",
    "\n",
    "```python\n",
    "p.circle(x, y, legend=\"sin(x)\")\n",
    "p.line(x, y, legend=\"sin(x)\", line_dash=[4, 4], line_color=\"orange\", line_width=2)\n",
    "```\n"
   ]
  },
  {
   "cell_type": "code",
   "execution_count": 16,
   "metadata": {
    "slideshow": {
     "slide_type": "subslide"
    }
   },
   "outputs": [
    {
     "data": {
      "text/html": [
       "\n",
       "\n",
       "\n",
       "\n",
       "\n",
       "\n",
       "  <div class=\"bk-root\" id=\"e299dff8-2260-49c3-b325-dee6d046690a\"></div>\n"
      ]
     },
     "metadata": {},
     "output_type": "display_data"
    },
    {
     "data": {
      "application/javascript": [
       "(function(root) {\n",
       "  function embed_document(root) {\n",
       "    \n",
       "  var docs_json = {\"c89c7f27-6f38-4a7c-a11b-15f14a3d1693\":{\"roots\":{\"references\":[{\"attributes\":{\"bottom_units\":\"screen\",\"fill_alpha\":{\"value\":0.5},\"fill_color\":{\"value\":\"lightgrey\"},\"left_units\":\"screen\",\"level\":\"overlay\",\"line_alpha\":{\"value\":1.0},\"line_color\":{\"value\":\"black\"},\"line_dash\":[4,4],\"line_width\":{\"value\":2},\"plot\":null,\"render_mode\":\"css\",\"right_units\":\"screen\",\"top_units\":\"screen\"},\"id\":\"23a8e9a6-ccd8-41ad-b62a-6704dde862fb\",\"type\":\"BoxAnnotation\"},{\"attributes\":{\"label\":{\"value\":\"sin(x)\"},\"renderers\":[{\"id\":\"ee27047a-8635-4fdf-a624-73b34a42b1ef\",\"type\":\"GlyphRenderer\"},{\"id\":\"68e352ff-8d3a-406b-bf00-da9392e73f50\",\"type\":\"GlyphRenderer\"}]},\"id\":\"fda06305-e983-417d-a706-2c38606ce0cf\",\"type\":\"LegendItem\"},{\"attributes\":{\"callback\":null,\"data\":{\"x\":{\"__ndarray__\":\"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\",\"dtype\":\"float64\",\"shape\":[1000]},\"y\":{\"__ndarray__\":\"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\",\"dtype\":\"float64\",\"shape\":[1000]}},\"selected\":{\"id\":\"ae6327d2-8d6e-4be0-97b6-1af515406a3f\",\"type\":\"Selection\"},\"selection_policy\":{\"id\":\"1c4346d1-35cd-408c-8f9f-3c08edc9d489\",\"type\":\"UnionRenderers\"}},\"id\":\"c449a425-4cee-4270-b9fe-0d2a1c7ebee3\",\"type\":\"ColumnDataSource\"},{\"attributes\":{\"callback\":null},\"id\":\"49da6091-4a1d-4b30-874a-37a5aa4ee4d9\",\"type\":\"DataRange1d\"},{\"attributes\":{},\"id\":\"c8247b43-cf8a-42e0-9c60-17fb62ef21dd\",\"type\":\"LinearScale\"},{\"attributes\":{\"items\":[{\"id\":\"fda06305-e983-417d-a706-2c38606ce0cf\",\"type\":\"LegendItem\"}],\"plot\":{\"id\":\"c68499cd-6e34-420a-abf5-f78a680b3f44\",\"subtype\":\"Figure\",\"type\":\"Plot\"}},\"id\":\"b1bc39f2-cb01-48e1-9742-a9fe139d8969\",\"type\":\"Legend\"},{\"attributes\":{\"callback\":null,\"data\":{\"x\":{\"__ndarray__\":\"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\",\"dtype\":\"float64\",\"shape\":[1000]},\"y\":{\"__ndarray__\":\"B1wUMyamsTxyX/iB0cKJP7u1FPFLwpk/HXhnAhJRoz/gCcG9NcCpP6LiLzknF7A/0apuuYxNsz8o5KsPKoO2P9U0EvTdt7k/gv9AKIfrvD/djVI8Ag/AP8aP6F6ap8E/e5Xqbns/wz+4E8vmlNbEP9A2EknWbMY/u+EIIS8CyD9WUmMDj5bJP/tj647lKcs/iWkqbSK8zD/0lxJTNU3OP6f6pwEO3c8/D3VUI8610D/f/5r+Z3zRP9q+PIdMQtI/5BInuXMH0z/yu/KX1cvTP7GoNi9qj9Q/WnPakilS1T9FiGjfCxTWP/PyXzoJ1dY/Ns6F0hmV1z80VDbgNVTYP/KKtaVVEtk/OIp/b3HP2T86V5iUgYvaP5RT23Z+Rts/VTtKg2AA3D+rr1syILncP7VKSQi2cN0/ZjldlRon3j9CWD92RtzeP+bPQVQykN8/HZfWcmsh4D+c/AV3FnrgPyLcOp8W0uA/W7jsWmgp4T/VyaMgCIDhP/2rHW7y1eE/CcBxyCMr4j83QzW8mH/iP4UXn91N0+I/Rz2ryD8m4z8i/D0ha3jjPw66RpPMyeM/6X7i0mAa5D9HI36cJGrkPwIp+LQUueQ/UjzC6S0H5T/FWwIRbVTlP2CmswnPoOU/kM3Gu1Ds5T/EKkIY7zbmP3x2YRmngOY/+B+1wnXJ5j8fREEhWBHnP2tCnEtLWOc/iO4MYkye5z+GXaiOWOPnP1JNbwVtJ+g/WyVrBIdq6D8ij8rTo6zoP4Sl/cXA7eg/97nRN9st6T/MrYyQ8GzpP2HfB0L+quk/VanKyAHo6T8WcySs+CPqP6tRRn7gXuo/lTdc3LaY6j/lsqVuedHqP2w4juglCes/GPvECLo/6z99TlSZM3XrP6STuG+Qqes/Eq/2bM7c6z91B7J96w7sP3ALQprlP+w/dT7Hxrpv7D8dyz8TaZ7sP52am5vuy+w/S/DPh0n47D+IiOoLeCPtPzk6JGh4Te0/Chrz6Eh27T/ZHhzn553tP2dGxMdTxO0/0DmB/Irp7T/hcGkDjA3uP/7TI2dVMO4/dtv2vuVR7j8wLNeuO3LuP7ywdedVke4/Vy5NJjOv7j9WVa810svuP25M0ewx5+4/VbbXL1EB7z86MeLvLhrvP65PFivKMe8/dwqq7CFI7z/zqu1MNV3vP44tVXEDce8/GByBjIuD7z9M30bezJTvP5aHuLPGpO8/fAwsZ3iz7z97AkJg4cDvPxTH6xMBze8/yCJxBNfX7z++YHXBYuHvP+7b++ej6e8/kQFsIprw7z++yJQoRfbvPwSfr7+k+u8/4cliurj97z8LPcP4gP/vP2jlVWj9/+8/smgQBC7/7z+8WVnUEv3vP1XhB++r+e8/zttid/n07z8sax+e++7vPxH+XqGy5+8/esuszB7f7z9gw/p4QNXvP2r0nQwYyu8/vWZK+6W97z87bA7G6q/vPzRmTfvmoO8/8gC6NpuQ7z8j5U8hCH/vP5bfTHEubO8/dH8p6g5Y7z9LK5FcqkLvPzetWaYBLO8/jzZ6shUU7z9f2wF55/ruPyGGDf934O4/JGS9VsjE7j/dyimf2afuP/eWVwStie4/JQUsv0Nq7j+PBWAVn0nuPzYKc1nAJ+4/1VCd6qgE7j/lqME0WuDtPzq2XrDVuu0/7LB/4hyU7T8Vo6xcMWztPx4l2rwUQ+0/JJlYrcgY7T9X5sLkTu3sP6W07CWpwOw/DCrQP9mS7D93KXsN4WPsP9IU/HXCM+w/ThJObH8C7D801kTvGdDrP8fxdwmUnOs/OKgt0e9n6z9lSkVoLzLrP1gaIfxU++o/hrePxWLD6j9IFLUIW4rqP0r28hRAUOo/2gHRRBQV6j8xUuT92djpP4aetrCTm+k/Iu6s2ENd6T9X2+377B3pP0lnR6uR3eg/D18UgjSc6D+DUyEm2FnoP7kkkUd/Fug/RyLBoCzS5z+JwSz24oznP93qUBalRuc/Qd+O2XX/5j9Atw4iWLfmP5V8odtObuY/jt+i+1wk5j+TidqAhdnlP+ANXXPLjeU/5nls5DFB5T9zhljuu/PkP/xqXrRspeQ/VlSIYkdW5D8kgIwtTwbkP2z+q1KHteM/ehqRF/Nj4z+gbC3KlRHjPxmWl8ByvuI/eajoWI1q4j8AOhn56BXiP2ko3g6JwOE/WAuFD3Fq4T8kWNB3pBPhPz4408smvOA/xBPNlvtj4D+v0QRrJgvgPzWeR8NVY98/bh4hNRmv3j9/SpJ4nvndP1y0eufsQt0/Ih9R6AuL3D84wtbtAtLbP+4MynbZF9s//e2YDZdc2j+AoRJIQ6DZP0EJGcfl4tg/BpJRNoYk2D9SqdVLLGXXP63G4sffpNY/9AuKdKjj1T9yf18ljiHVP6LjKLeYXtQ/fC+MD9Ca0z+zqr0cPNbSP0mxLdXkENI/pyE2N9JK0T/heMdIDITQP94/Ky42ec8/ztuIbA3pzT9DxCeCrlfMP7YzGLEpxco/SglSR48xyT+Xtgue75zHPza4EBlbB8Y/MqEXJuJwxD9Mvxc8ldnCP2RfntqEQcE/g3FHEoNRvz8wDb+stx68P3qrOq/I6rg/nx0hUNe1tT+VhVDQBICyP7IFi/Pkkq4/PQGEPIMkqD+rZucrJ7WhP9FQafgmipY/lzdtvStSgz/juZQ/+8JpvzDFLEqzGZC/Aa/sN2D6nL9hLPVT8OykvxDghI7XW6u/Z8bwitHksL+jlOIfCBu0v81pDThuULe/iMTYjeKEur9HF3flQ7i9v5IzH4c4dcC/STsAcqQNwr/uNzEoVaXDv4f/GSY6PMW/lOdi8ELSxr8Trp8UX2fIvwkG+il++8m/XsDb0Y+Oy78Ki5i4gyDNv3U+F5ZJsc6/lFk9l2gg0L9BDGUphefQv+ZizHDyrdG/b7/WY6hz0r+VklQAnzjTv7dn1kvO/NO/AaD/Uy7A1L8I2tgut4LVv0cCIvtgRNa/SQmk4CMF17/9O4IQ+MTXv007i8XVg9i/No+JRLVB2b9w0pPcjv7Zv1FzXOdautq/sAaByRF1279pKdnyqy7cv8vtxN4h59y/EdF6FGye3b9UNlUng1Tev4djH7dfCd+/bv1hcPq837/Hf1cGpjfgv1yWdqkmkOC/2HrRi/vn4L8gaaAeIT/hvw6FNdqTleG/RXUhPlDr4b/jslfRUkDiv5CMUiKYlOK/nts2xxzo4r+Jafdd3Trjv6AEeIzWjOO/SEKwAAXe47+F7c1wZS7kv0wgV5v0feS/bQZMR6/M5L9ySEhEkhrlv1EdpGqaZ+W/fwGVm8Sz5b8eEk7BDf/lv+kKIM9ySea/lOWYwfCS5r90GaOehNvmv/t5pHUrI+e/8LKcX+Jp578OYUN/pq/nv+zFJQF19Oe/zhXEG0s46L9yXq4PJnvov2IFoScDvei/3dyguN/96L8YzhYiuT3pv74X682MfOm/mR+gMFi66b9H1mzJGPfpv/GrViLMMuq/7hRL0G9t6r9CnThzAafqvyiKJ7Z+3+q/VAhST+UW67815jsAM03rvyjZyZVlguu/qUxY6Hq267+jutHbcOnrv+GLxF9FG+y/1H94b/ZL7L/EmgMSgnvsv5SZXlrmqey/Rup4ZyHX7L90KExkMQPtv+Ac74cULu2/hz+oFclX7b8zu/9cTYDtvwfy0Lmfp+2/OoJblL7N7b9OylNhqPLtvyTs8qFbFu6/PE4G5NY47r+Amv7BGFruvw46/uIfeu6/U03n+uqY7r/8H2nKeLbuvxkYDR/I0u6/FyBD09ft7r/Uim3Opgfvv4lx7AQ0IO+/8IooeH43779Je502hU3vv8qc41tHYu+/GUC5EMR1779uZAuL+ofvv/3m/Q3qmO+/ZSnz6ZGo77+9LpN88bbvvwUv0jAIxO+/tqD2ftXP778puJ7sWNrvv6lcxQyS4++/75LGf4Dr77/jXGPzI/Lvv3oOxSJ89++/ixeA1oj77798QpbkSf7vv7lneDC//++/15UHq+j/779irpVSxv7vv0l35TJY/O+/5iAqZZ7477+2QAYQmfPvv65AimdI7e+/XkMyrazl77/ffOMvxtzvv70A6UuV0u+/4gTwahrH77/JmQMEVrrvvw3Yh5tIrO+/joM0w/Kc779uJA8aVYzvvwqWZExweu+/UQzCE0Vn77+jj+021FLvv6jv3YkePe+/RC2y7SQm7784XKhQ6A3vv578E65p9O6/w8xTDqrZ7r+9E8eGqr3uvy5lwjlsoO6/oN6DVvCB7r8J3yYZOGLuv9w4l8pEQe6/Rd+DwBcf7r8ED1Fdsvvtv4LzCRAW1+2/x8hRVESx7b+uelSyPortv0zCtr4GYu2/58GFGp447b9RICZzBg7tv0GkQoJB4uy/Y1C6DVG17L/nAI7nNofsvzSLze30V+y/lmCECo0n7L+stKUzAfbrv2Ao+GpTw+u/NvoAvoWP67/svO5FmlrrvwSVgyeTJOu/Y/7+knLt6r/EGgfEOrXqv+yJkQHue+q/mczLnY5B6r8bMwP2Hgbqv5VYjHKhyem/3CuqhhiM6b8Gh3Swhk3pv5pWvnjuDem/gVH7clLN6L/UQiU9tYvov1fmoH8ZSei/Ilki7YEF6L9FH5FC8cDnv66/60Zqe+e/Zvcqy+80579hhSSqhO3mvwCQbcgrpea/hKU8FOhb5r+dWEuFvBHmv1t6txysxuW/wPLj5Ll65b8hOVnx6C3lv9ZtpV484OS/HRY8UreR5L/0e1X6XELkv/CyzY0w8uO/fEMDTDWh47/dfbV8bk/jv1d24m/f/OK/zaukfYup4r9KWhAGdlXiv9l6EHGiAOK/BnJDLhSr4b+Xbte0zlThv8R5ZoPV/eC/qjrSHyym4L/xbR8X1k3gv3gnovqt6d+/4qmG2mQ2378DQwwR2IHev2kSb+4OzN2/86C7zxAV3b+MhYIe5VzcvymIi1CTo9u/EEaI5yLp2r+dWsZwmy3av6MP4YQEcdm/h5hyx2Wz2L+c28TmxvTXvyPMgZsvNde/QFljqKd01r9U9OLZNrPVv0yy6AXl8NS/Igt6C7ot1L/cOmjSvWnTv1BH/kr4pNK/Cq6ubXHf0b+hvcA6MRnRv9Od/bk/UtC/iBO69EkVz78BgGMj0oTNv75Vqzgo88u/fIureVxgyr9qgzs3f8zIv9zaRs2gN8e/K8cjotGhxb+CBuklIgvEv5xrw9Gic8K/OAtLJ2TbwL+ZJLBf7YS+v7GXrvfVUbu/ibo8RKMduL9pgH9+dui0v+UCvelwsrG/aSgHpGf3rL/n8aAVwYimvxinbNswGaC/RkMNZPNRk78mOHLm8sJ5vyY0cubywnk/RkINZPNRkz+YpmzbMBmgP2fxoBXBiKY/6icHpGf3rD+lAr3pcLKxP2mAf3526LQ/Sro8RKMduD9xl6731VG7P1oksF/thL4/GAtLJ2TbwD98a8PRonPCP2MG6SUiC8Q/C8cjotGhxT+92kbNoDfHP0uDOzd/zMg/XYureVxgyj+fVas4KPPLP+J/YyPShM0/iBO69EkVzz/Enf25P1LQP5G9wDoxGdE/+62ubXHf0T9BR/5K+KTSP806aNK9adM/Ewt6C7ot1D89sugF5fDUP0X04tk2s9U/MVljqKd01j8UzIGbLzXXP43bxObG9Nc/eJhyx2Wz2D+UD+GEBHHZP45axnCbLdo/AUaI5yLp2j8biItQk6PbP36Fgh7lXNw/5aC7zxAV3T9bEm/uDszdP/VCDBHYgd4/1KmG2mQ23z9qJ6L6renfP+ptHxfWTeA/ozrSHyym4D+9eWaD1f3gP5Bu17TOVOE//3FDLhSr4T/SehBxogDiP0RaEAZ2VeI/xqukfYup4j9QduJv3/ziP9d9tXxuT+M/dkMDTDWh4z/qss2NMPLjP+57VfpcQuQ/FxY8UreR5D/QbaVePODkPyE5WfHoLeU/uvLj5Ll65T9VerccrMblP5dYS4W8EeY/f6U8FOhb5j/7j23IK6XmP1uFJKqE7eY/YPcqy+805z+pv+tGanvnP0AfkULxwOc/HVki7YEF6D9S5qB/GUnoP89CJT21i+g/gVH7clLN6D+VVr547g3pPwGHdLCGTek/1yuqhhiM6T+QWIxyocnpPxczA/YeBuo/lczLnY5B6j/oiZEB7nvqP8AaB8Q6teo/Xv7+knLt6j//lIMnkyTrP+i87kWaWus/MvoAvoWP6z9cKPhqU8PrP6i0pTMB9us/kmCECo0n7D8wi83t9FfsP+QAjuc2h+w/YFC6DVG17D89pEKCQeLsP04gJnMGDu0/5MGFGp447T9Iwra+BmLtP6t6VLI+iu0/xMhRVESx7T9/8wkQFtftPwEPUV2y++0/Qt+DwBcf7j/aOJfKREHuPwbfJhk4Yu4/nt6DVvCB7j8sZcI5bKDuP7sTx4aqve4/wMxTDqrZ7j+c/BOuafTuPzZcqFDoDe8/Qy2y7SQm7z+m792JHj3vP6OP7TbUUu8/TwzCE0Vn7z8JlmRMcHrvP20kDxpVjO8/jYM0w/Kc7z8M2IebSKzvP8iZAwRWuu8/4QTwahrH7z+8AOlLldLvP9984y/G3O8/XUMyrazl7z+uQIpnSO3vP7ZABhCZ8+8/5iAqZZ747z9Id+UyWPzvP2KulVLG/u8/15UHq+j/7z+5Z3gwv//vP31CluRJ/u8/jBeA1oj77z97DsUifPfvP+RcY/Mj8u8/8JLGf4Dr7z+qXMUMkuPvPyq4nuxY2u8/t6D2ftXP7z8FL9IwCMTvP74uk3zxtu8/Zinz6ZGo7z8A5/0N6pjvP29kC4v6h+8/HEC5EMR17z/LnONbR2LvP0l7nTaFTe8/8oooeH437z+JcewENCDvP9aKbc6mB+8/FyBD09ft7j8cGA0fyNLuP/wfacp4tu4/WE3n+uqY7j8ROv7iH3ruP4Wa/sEYWu4/Pk4G5NY47j8q7PKhWxbuP1HKU2Go8u0/OoJblL7N7T8K8tC5n6ftPzO7/1xNgO0/ij+oFclX7T/gHO+HFC7tP3coTGQxA+0/Sup4ZyHX7D+bmV5a5qnsP8iaAxKCe+w/3H94b/ZL7D/li8RfRRvsP6u60dtw6es/rUxY6Hq26z8o2cmVZYLrPznmOwAzTes/VAhST+UW6z8tiie2ft/qP0KdOHMBp+o/8hRL0G9t6j/1q1YizDLqP1HWbMkY9+k/nR+gMFi66T/HF+vNjHzpPx3OFiK5Pek/59yguN/96D9nBaEnA73oP3Jerg8me+g/0xXEG0s46D/sxSUBdfTnPxZhQ3+mr+c/8rKcX+Jp5z8EeqR1KyPnP3cZo56E2+Y/nOWYwfCS5j/sCiDPcknmPykSTsEN/+U/hQGVm8Sz5T9dHaRqmmflP3hISESSGuU/bQZMR6/M5D9SIFeb9H3kP4XtzXBlLuQ/UUKwAAXe4z+jBHiM1ozjP5Np913dOuM/ods2xxzo4j+ajFIimJTiP+eyV9FSQOI/UnUhPlDr4T8VhTXak5XhPyBpoB4hP+E/33rRi/vn4D9clnapJpDgP85/VwamN+A/df1hcPq83z+cYx+3XwnfP1s2VSeDVN4/JtF6FGye3T/S7cTeIefcP38p2fKrLtw/twaByRF12z9uc1znWrraP3/Sk9yO/tk/No+JRLVB2T9cO4vF1YPYP/07ghD4xNc/WAmk4CMF1z9OAiL7YETWPx7a2C63gtU/CaD/Uy7A1D/OZ9ZLzvzTP52SVACfONM/hr/WY6hz0j/2Ysxw8q3RP18MZSmF59A/o1k9l2gg0D91PheWSbHOPymLmLiDIM0/XsDb0Y+Oyz8oBvopfvvJPyOunxRfZ8g/w+di8ELSxj+W/xkmOjzFPx04MShVpcM/WDsAcqQNwj/CMx+HOHXAP4cXd+VDuL0/CMXYjeKEuj8Nag04blC3P6OU4h8IG7Q/p8bwitHksD8Q4ISO11urP+Es9VPw7KQ/ga/sN2D6nD+wxixKsxmQP+O9lD/7wmk/lzRtvStSg79RUGn4JoqWv+tl5ysntaG/vQCEPIMkqL+yBIvz5JKuv1WFUNAEgLK/nx0hUNe1tb87qzqvyOq4vzANv6y3Hry/RHFHEoNRv79UX57ahEHBvx2/FzyV2cK/IqEXJuJwxL8HuBAZWwfGv4e2C57vnMe/GwlSR48xyb+XMxixKcXKvwXEJ4KuV8y/r9uIbA3pzb/ePysuNnnPv9J4x0gMhNC/pyE2N9JK0b8ysS3V5BDSv6yqvRw81tK/ZS+MD9Ca07+b4yi3mF7Uv1t/XyWOIdW/7AuKdKjj1b+WxuLH36TWv0Op1UssZde/6JFRNoYk2L8yCRnH5eLYv4ChEkhDoNm/7+2YDZdc2r/uDMp22RfbvyLC1u0C0tu/Gx9R6AuL3L9HtHrn7ELdv3hKknie+d2/WR4hNRmv3r8unkfDVWPfv6LRBGsmC+C/vRPNlvtj4L8wONPLJrzgvx1Y0HekE+G/WAuFD3Fq4b9jKN4OicDhvwA6GfnoFeK/b6joWI1q4r8WlpfAcr7iv5ZsLcqVEeO/dxqRF/Nj479j/qtSh7XjvyGAjC1PBuS/SlSIYkdW5L/2al60bKXkv2eGWO678+S/4Hls5DFB5b/gDV1zy43lv42J2oCF2eW/jt+i+1wk5r+NfKHbTm7mvz23DiJYt+a/ON+O2XX/5r/b6lAWpUbnv4DBLPbijOe/RCLBoCzS57+uJJFHfxbov31TISbYWei/BF8UgjSc6L9EZ0erkd3ov1fb7fvsHem/He6s2ENd6b+Gnrawk5vpvydS5P3Z2Om/2gHRRBQV6r9B9vIUQFDqv0gUtQhbiuq/fbePxWLD6r9YGiH8VPvqv1xKRWgvMuu/NKgt0e9n67+/8XcJlJzrvzDWRO8Z0Ou/ThJObH8C7L/OFPx1wjPsv3cpew3hY+y/BSrQP9mS7L+ltOwlqcDsv1DmwuRO7ey/JJlYrcgY7b8YJdq8FEPtvxKjrFwxbO2/5rB/4hyU7b83tl6w1brtv+WowTRa4O2/01Cd6qgE7r82CnNZwCfuv40FYBWfSe6/JQUsv0Nq7r/1llcErYnuv93KKZ/Zp+6/H2S9VsjE7r8hhg3/d+Duv1vbAXnn+u6/jTZ6shUU778zrVmmASzvv0krkVyqQu+/dH8p6g5Y77+U30xxLmzvvyPlTyEIf++/8QC6NpuQ7780Zk375qDvvzlsDsbqr++/vWZK+6W9779p9J0MGMrvv2DD+nhA1e+/eMuszB7f778Q/l6hsufvvytrH5777u+/zttid/n0779V4Qfvq/nvv7xZWdQS/e+/smgQBC7/779o5VVo/f/vvws9w/iA/++/4cliurj9778En6+/pPrvv7/IlChF9u+/kQFsIprw77/v2/vno+nvv79gdcFi4e+/yiJxBNfX778Vx+sTAc3vv3sCQmDhwO+/fQwsZ3iz77+Wh7izxqTvv03fRt7MlO+/GByBjIuD77+RLVVxA3Hvv/Oq7Uw1Xe+/egqq7CFI77+wTxYryjHvvz4x4u8uGu+/V7bXL1EB779zTNHsMefuv1hVrzXSy+6/Vy5NJjOv7r+/sHXnVZHuvzAs1647cu6/eNv2vuVR7r/+0yNnVTDuv+ZwaQOMDe6/0DmB/Irp7b9tRsTHU8Ttv9weHOfnne2/ERrz6Eh27b88OiRoeE3tv4+I6gt4I+2/TvDPh0n47L+dmpub7svsvyHLPxNpnuy/dT7Hxrpv7L90C0Ka5T/sv3UHsn3rDuy/Gq/2bM7c67+kk7hvkKnrv4VOVJkzdeu/HfvECLo/6791OI7oJQnrv+mypW550eq/njdc3LaY6r+vUUZ+4F7qvxZzJKz4I+q/WanKyAHo6b9h3wdC/qrpv9GtjJDwbOm/97nRN9st6b+Opf3FwO3ovyKPytOjrOi/ZSVrBIdq6L9YTW8FbSfov5BdqI5Y4+e/je4MYkye5792QpxLS1jnvyVEQSFYEee/+B+1wnXJ5r+CdmEZp4Dmv8QqQhjvNua/ls3Gu1Ds5b9gprMJz6Dlv9BbAhFtVOW/UjzC6S0H5b8OKfi0FLnkv00jfpwkauS/9n7i0mAa5L8UukaTzMnjvy/8PSFreOO/Tj2ryD8m47+FF5/dTdPivz1DNbyYf+K/CcBxyCMr4r8ErB1u8tXhv9XJoyAIgOG/abjsWmgp4b8i3DqfFtLgv6n8BXcWeuC/JJfWcmsh4L8C0EFUMpDfv1BYP3ZG3N6/ZjldlRon3r/ESkkItnDdv6uvWzIgudy/ZDtKg2AA3L+UU9t2fkbbv0hXmJSBi9q/OIp/b3HP2b8Pi7WlVRLZv0NUNuA1VNi/VM6F0hmV178C8186CdXWv2OIaN8LFNa/aXPakilS1b+xqDYvao/UvwK88pfVy9O/5BInuXMH07/pvjyHTELSv9//mv5nfNG/HnVUI8610L+n+qcBDt3PvzOYElM1Tc6/qGkqbSK8zL85ZOuO5SnLv3VSYwOPlsm/+uEIIS8CyL/wNhJJ1mzGv7gTy+aU1sS/m5Xqbns/w7/Gj+hemqfBv/2NUjwCD8C/gv9AKIfrvL8VNRL03be5vyjkqw8qg7a/UatuuYxNs7/i4i85Jxewv98Kwb01wKm/nXhnAhJRo7+7txTxS8KZv3Jh+IHRwom/B1wUMyamsbw=\",\"dtype\":\"float64\",\"shape\":[1000]}},\"selected\":{\"id\":\"f0ecd099-6eb0-4801-ba7a-278c077abc49\",\"type\":\"Selection\"},\"selection_policy\":{\"id\":\"53710e22-49b9-4d16-98d1-d6d857444f64\",\"type\":\"UnionRenderers\"}},\"id\":\"1d036c05-01c7-4c96-a0bb-a7b40fbc7c1e\",\"type\":\"ColumnDataSource\"},{\"attributes\":{\"plot\":{\"id\":\"c68499cd-6e34-420a-abf5-f78a680b3f44\",\"subtype\":\"Figure\",\"type\":\"Plot\"},\"ticker\":{\"id\":\"cb0abed3-de11-4490-8e44-13e08ebbdc10\",\"type\":\"BasicTicker\"}},\"id\":\"bfe4a709-cd26-484f-bbd7-1f09fd414419\",\"type\":\"Grid\"},{\"attributes\":{},\"id\":\"ba61a6cd-e80f-41e9-b7a5-6ef4ba4c74fb\",\"type\":\"LinearScale\"},{\"attributes\":{\"dimension\":1,\"plot\":{\"id\":\"c68499cd-6e34-420a-abf5-f78a680b3f44\",\"subtype\":\"Figure\",\"type\":\"Plot\"},\"ticker\":{\"id\":\"c53bce64-d602-444b-94af-3cda1bb6a3d9\",\"type\":\"BasicTicker\"}},\"id\":\"204354a5-a479-4fcb-ba3f-77f8b68b55b4\",\"type\":\"Grid\"},{\"attributes\":{\"data_source\":{\"id\":\"1d036c05-01c7-4c96-a0bb-a7b40fbc7c1e\",\"type\":\"ColumnDataSource\"},\"glyph\":{\"id\":\"ea255979-bb75-4dd3-a808-d8b771abfa34\",\"type\":\"Line\"},\"hover_glyph\":null,\"muted_glyph\":null,\"nonselection_glyph\":{\"id\":\"c00d3373-880c-4255-9850-b39fa774e11a\",\"type\":\"Line\"},\"selection_glyph\":null,\"view\":{\"id\":\"29b474bc-0996-48db-a214-d099379f84c5\",\"type\":\"CDSView\"}},\"id\":\"68e352ff-8d3a-406b-bf00-da9392e73f50\",\"type\":\"GlyphRenderer\"},{\"attributes\":{\"fill_alpha\":{\"value\":0.1},\"fill_color\":{\"value\":\"#1f77b4\"},\"line_alpha\":{\"value\":0.1},\"line_color\":{\"value\":\"#1f77b4\"},\"x\":{\"field\":\"x\"},\"y\":{\"field\":\"y\"}},\"id\":\"e9ceee49-9862-4112-ae23-aba957514921\",\"type\":\"Circle\"},{\"attributes\":{},\"id\":\"53710e22-49b9-4d16-98d1-d6d857444f64\",\"type\":\"UnionRenderers\"},{\"attributes\":{},\"id\":\"cb0abed3-de11-4490-8e44-13e08ebbdc10\",\"type\":\"BasicTicker\"},{\"attributes\":{\"line_color\":\"orange\",\"line_dash\":[4,4],\"line_width\":2,\"x\":{\"field\":\"x\"},\"y\":{\"field\":\"y\"}},\"id\":\"ea255979-bb75-4dd3-a808-d8b771abfa34\",\"type\":\"Line\"},{\"attributes\":{},\"id\":\"f0ecd099-6eb0-4801-ba7a-278c077abc49\",\"type\":\"Selection\"},{\"attributes\":{},\"id\":\"6b79d04d-f64b-4000-bf91-014dace85e4f\",\"type\":\"WheelZoomTool\"},{\"attributes\":{},\"id\":\"c53bce64-d602-444b-94af-3cda1bb6a3d9\",\"type\":\"BasicTicker\"},{\"attributes\":{\"formatter\":{\"id\":\"6a90a02d-fb04-42a3-96b4-b43e36c38f15\",\"type\":\"BasicTickFormatter\"},\"plot\":{\"id\":\"c68499cd-6e34-420a-abf5-f78a680b3f44\",\"subtype\":\"Figure\",\"type\":\"Plot\"},\"ticker\":{\"id\":\"c53bce64-d602-444b-94af-3cda1bb6a3d9\",\"type\":\"BasicTicker\"}},\"id\":\"7ac39140-bd3f-4626-9bb5-814f035fbb6a\",\"type\":\"LinearAxis\"},{\"attributes\":{\"fill_color\":{\"value\":\"#1f77b4\"},\"line_color\":{\"value\":\"#1f77b4\"},\"x\":{\"field\":\"x\"},\"y\":{\"field\":\"y\"}},\"id\":\"d064f7ed-150a-4542-a171-a727fbc3cb2c\",\"type\":\"Circle\"},{\"attributes\":{\"plot\":null,\"text\":\"\"},\"id\":\"685d0f6b-13fb-4bbc-b941-585fd566b8f6\",\"type\":\"Title\"},{\"attributes\":{\"callback\":null},\"id\":\"2afe7133-793c-44a3-ba5e-0173dff76072\",\"type\":\"DataRange1d\"},{\"attributes\":{},\"id\":\"ae6327d2-8d6e-4be0-97b6-1af515406a3f\",\"type\":\"Selection\"},{\"attributes\":{\"source\":{\"id\":\"1d036c05-01c7-4c96-a0bb-a7b40fbc7c1e\",\"type\":\"ColumnDataSource\"}},\"id\":\"29b474bc-0996-48db-a214-d099379f84c5\",\"type\":\"CDSView\"},{\"attributes\":{\"data_source\":{\"id\":\"c449a425-4cee-4270-b9fe-0d2a1c7ebee3\",\"type\":\"ColumnDataSource\"},\"glyph\":{\"id\":\"d064f7ed-150a-4542-a171-a727fbc3cb2c\",\"type\":\"Circle\"},\"hover_glyph\":null,\"muted_glyph\":null,\"nonselection_glyph\":{\"id\":\"e9ceee49-9862-4112-ae23-aba957514921\",\"type\":\"Circle\"},\"selection_glyph\":null,\"view\":{\"id\":\"f04be320-2239-457b-9251-895ea4fe6f62\",\"type\":\"CDSView\"}},\"id\":\"ee27047a-8635-4fdf-a624-73b34a42b1ef\",\"type\":\"GlyphRenderer\"},{\"attributes\":{},\"id\":\"1c4346d1-35cd-408c-8f9f-3c08edc9d489\",\"type\":\"UnionRenderers\"},{\"attributes\":{},\"id\":\"861c81b4-426f-4272-9f98-333255a82d19\",\"type\":\"SaveTool\"},{\"attributes\":{\"active_drag\":\"auto\",\"active_inspect\":\"auto\",\"active_multi\":null,\"active_scroll\":\"auto\",\"active_tap\":\"auto\",\"tools\":[{\"id\":\"2737ee23-63e8-47fa-bf73-c2642882e684\",\"type\":\"PanTool\"},{\"id\":\"6b79d04d-f64b-4000-bf91-014dace85e4f\",\"type\":\"WheelZoomTool\"},{\"id\":\"da0513b1-5931-47e4-ad88-2e5e280e822d\",\"type\":\"BoxZoomTool\"},{\"id\":\"861c81b4-426f-4272-9f98-333255a82d19\",\"type\":\"SaveTool\"},{\"id\":\"acc9f688-7ead-4a56-a295-682ac4fc2e0a\",\"type\":\"ResetTool\"},{\"id\":\"04217d15-0512-4939-ac8d-b6a7bc3490d1\",\"type\":\"HelpTool\"}]},\"id\":\"1ef1dbe9-17c0-4798-b78f-e359bfb4925b\",\"type\":\"Toolbar\"},{\"attributes\":{\"source\":{\"id\":\"c449a425-4cee-4270-b9fe-0d2a1c7ebee3\",\"type\":\"ColumnDataSource\"}},\"id\":\"f04be320-2239-457b-9251-895ea4fe6f62\",\"type\":\"CDSView\"},{\"attributes\":{},\"id\":\"2737ee23-63e8-47fa-bf73-c2642882e684\",\"type\":\"PanTool\"},{\"attributes\":{},\"id\":\"b2f2c248-41a0-4b00-b41a-f62c6b126d27\",\"type\":\"BasicTickFormatter\"},{\"attributes\":{\"below\":[{\"id\":\"bfbbee0c-dc3b-4322-9641-4f9371ed7d75\",\"type\":\"LinearAxis\"}],\"left\":[{\"id\":\"7ac39140-bd3f-4626-9bb5-814f035fbb6a\",\"type\":\"LinearAxis\"}],\"plot_height\":400,\"plot_width\":800,\"renderers\":[{\"id\":\"bfbbee0c-dc3b-4322-9641-4f9371ed7d75\",\"type\":\"LinearAxis\"},{\"id\":\"bfe4a709-cd26-484f-bbd7-1f09fd414419\",\"type\":\"Grid\"},{\"id\":\"7ac39140-bd3f-4626-9bb5-814f035fbb6a\",\"type\":\"LinearAxis\"},{\"id\":\"204354a5-a479-4fcb-ba3f-77f8b68b55b4\",\"type\":\"Grid\"},{\"id\":\"23a8e9a6-ccd8-41ad-b62a-6704dde862fb\",\"type\":\"BoxAnnotation\"},{\"id\":\"b1bc39f2-cb01-48e1-9742-a9fe139d8969\",\"type\":\"Legend\"},{\"id\":\"ee27047a-8635-4fdf-a624-73b34a42b1ef\",\"type\":\"GlyphRenderer\"},{\"id\":\"68e352ff-8d3a-406b-bf00-da9392e73f50\",\"type\":\"GlyphRenderer\"}],\"title\":{\"id\":\"685d0f6b-13fb-4bbc-b941-585fd566b8f6\",\"type\":\"Title\"},\"toolbar\":{\"id\":\"1ef1dbe9-17c0-4798-b78f-e359bfb4925b\",\"type\":\"Toolbar\"},\"x_range\":{\"id\":\"2afe7133-793c-44a3-ba5e-0173dff76072\",\"type\":\"DataRange1d\"},\"x_scale\":{\"id\":\"ba61a6cd-e80f-41e9-b7a5-6ef4ba4c74fb\",\"type\":\"LinearScale\"},\"y_range\":{\"id\":\"49da6091-4a1d-4b30-874a-37a5aa4ee4d9\",\"type\":\"DataRange1d\"},\"y_scale\":{\"id\":\"c8247b43-cf8a-42e0-9c60-17fb62ef21dd\",\"type\":\"LinearScale\"}},\"id\":\"c68499cd-6e34-420a-abf5-f78a680b3f44\",\"subtype\":\"Figure\",\"type\":\"Plot\"},{\"attributes\":{},\"id\":\"04217d15-0512-4939-ac8d-b6a7bc3490d1\",\"type\":\"HelpTool\"},{\"attributes\":{},\"id\":\"6a90a02d-fb04-42a3-96b4-b43e36c38f15\",\"type\":\"BasicTickFormatter\"},{\"attributes\":{},\"id\":\"acc9f688-7ead-4a56-a295-682ac4fc2e0a\",\"type\":\"ResetTool\"},{\"attributes\":{\"overlay\":{\"id\":\"23a8e9a6-ccd8-41ad-b62a-6704dde862fb\",\"type\":\"BoxAnnotation\"}},\"id\":\"da0513b1-5931-47e4-ad88-2e5e280e822d\",\"type\":\"BoxZoomTool\"},{\"attributes\":{\"line_alpha\":0.1,\"line_color\":\"#1f77b4\",\"line_dash\":[4,4],\"line_width\":2,\"x\":{\"field\":\"x\"},\"y\":{\"field\":\"y\"}},\"id\":\"c00d3373-880c-4255-9850-b39fa774e11a\",\"type\":\"Line\"},{\"attributes\":{\"formatter\":{\"id\":\"b2f2c248-41a0-4b00-b41a-f62c6b126d27\",\"type\":\"BasicTickFormatter\"},\"plot\":{\"id\":\"c68499cd-6e34-420a-abf5-f78a680b3f44\",\"subtype\":\"Figure\",\"type\":\"Plot\"},\"ticker\":{\"id\":\"cb0abed3-de11-4490-8e44-13e08ebbdc10\",\"type\":\"BasicTicker\"}},\"id\":\"bfbbee0c-dc3b-4322-9641-4f9371ed7d75\",\"type\":\"LinearAxis\"}],\"root_ids\":[\"c68499cd-6e34-420a-abf5-f78a680b3f44\"]},\"title\":\"Bokeh Application\",\"version\":\"0.13.0\"}};\n",
       "  var render_items = [{\"docid\":\"c89c7f27-6f38-4a7c-a11b-15f14a3d1693\",\"roots\":{\"c68499cd-6e34-420a-abf5-f78a680b3f44\":\"e299dff8-2260-49c3-b325-dee6d046690a\"}}];\n",
       "  root.Bokeh.embed.embed_items_notebook(docs_json, render_items);\n",
       "\n",
       "  }\n",
       "  if (root.Bokeh !== undefined) {\n",
       "    embed_document(root);\n",
       "  } else {\n",
       "    var attempts = 0;\n",
       "    var timer = setInterval(function(root) {\n",
       "      if (root.Bokeh !== undefined) {\n",
       "        embed_document(root);\n",
       "        clearInterval(timer);\n",
       "      }\n",
       "      attempts++;\n",
       "      if (attempts > 100) {\n",
       "        console.log(\"Bokeh: ERROR: Unable to run BokehJS code because BokehJS library is missing\")\n",
       "        clearInterval(timer);\n",
       "      }\n",
       "    }, 10, root)\n",
       "  }\n",
       "})(window);"
      ],
      "application/vnd.bokehjs_exec.v0+json": ""
     },
     "metadata": {
      "application/vnd.bokehjs_exec.v0+json": {
       "id": "c68499cd-6e34-420a-abf5-f78a680b3f44"
      }
     },
     "output_type": "display_data"
    }
   ],
   "source": [
    "# EXERCISE:  \n",
    "# (1) Making a compound legend \n",
    "# (2) Position the legend using p.legend.location.  Possible values are listed at:\n",
    "#     https://bokeh.pydata.org/en/latest/docs/reference/core/enums.html#bokeh.core.enums.Anchor\n",
    "\n",
    "p= figure(plot_width=800, plot_height=400)\n",
    "\n",
    "x=np.linspace(-2* np.pi, 2* np.pi, num=1000)\n",
    "y = np.sin(x)\n",
    "\n",
    "p.circle(x, y, legend=\"sin(x)\")\n",
    "\n",
    "p.line(x, y, legend=\"sin(x)\", line_dash=[4, 4], line_color=\"orange\", line_width=2)\n",
    "\n",
    "show(p)"
   ]
  },
  {
   "cell_type": "markdown",
   "metadata": {
    "slideshow": {
     "slide_type": "slide"
    }
   },
   "source": [
    "## Color bars\n",
    "\n",
    "Color bars are especially useful if we vary the color of a glyph according to some color mapping. Bokeh color bars are configured with a color mappewr and added to plots with the `add_layout` method:\n",
    "```python\n",
    "color_mapper = LinearColorMapper(palette=\"Viridis256\", low=data_low, high=data_high)\n",
    "color_bar = ColorBar(color_mapper=color_mapper, location=(0,0))\n",
    "p.add_layout(color_bar, 'right')\n",
    "```\n",
    "The example below shows a complete example that also uses the color mapper to transform the glyph color."
   ]
  },
  {
   "cell_type": "code",
   "execution_count": 21,
   "metadata": {
    "slideshow": {
     "slide_type": "subslide"
    }
   },
   "outputs": [
    {
     "data": {
      "text/html": [
       "\n",
       "\n",
       "\n",
       "\n",
       "\n",
       "\n",
       "  <div class=\"bk-root\" id=\"c4541757-1b3c-43b6-9ff0-65ae5f04bae2\"></div>\n"
      ]
     },
     "metadata": {},
     "output_type": "display_data"
    },
    {
     "data": {
      "application/javascript": [
       "(function(root) {\n",
       "  function embed_document(root) {\n",
       "    \n",
       "  var docs_json = {\"70d43165-476f-45ce-abd6-fec92ca3f29a\":{\"roots\":{\"references\":[{\"attributes\":{\"below\":[{\"id\":\"9f86db49-eae1-4b06-bc53-eff4e5241003\",\"type\":\"LinearAxis\"}],\"left\":[{\"id\":\"707feb3d-dabd-4d30-9ba7-3d44b461d112\",\"type\":\"LinearAxis\"}],\"renderers\":[{\"id\":\"9f86db49-eae1-4b06-bc53-eff4e5241003\",\"type\":\"LinearAxis\"},{\"id\":\"a74bc7c8-735f-4e6a-986b-1c31c94257a7\",\"type\":\"Grid\"},{\"id\":\"707feb3d-dabd-4d30-9ba7-3d44b461d112\",\"type\":\"LinearAxis\"},{\"id\":\"603add29-0332-4dd3-a968-1158e7ca1432\",\"type\":\"Grid\"},{\"id\":\"f6d16e28-0aae-40ba-995e-d49909b4af33\",\"type\":\"GlyphRenderer\"},{\"id\":\"b047e340-af41-4aa2-9581-0a4f556e4f12\",\"type\":\"ColorBar\"}],\"right\":[{\"id\":\"b047e340-af41-4aa2-9581-0a4f556e4f12\",\"type\":\"ColorBar\"}],\"title\":{\"id\":\"dd01eb49-d7c1-4f7b-8506-1666e2bd9e34\",\"type\":\"Title\"},\"toolbar\":{\"id\":\"09d6f0cf-17e7-4a42-b98c-b07809b02bc6\",\"type\":\"Toolbar\"},\"toolbar_location\":null,\"x_range\":{\"id\":\"3af3f0ee-741d-4fc0-8388-533cd8f4095b\",\"type\":\"DataRange1d\"},\"x_scale\":{\"id\":\"868ade95-7030-4974-977e-9d50697def22\",\"type\":\"LinearScale\"},\"y_range\":{\"id\":\"c8d316a7-3479-44a2-aa30-f20b7b3608f3\",\"type\":\"DataRange1d\"},\"y_scale\":{\"id\":\"03f05aed-01dc-481f-825d-fcaf2dbced32\",\"type\":\"LinearScale\"}},\"id\":\"7f4a97ff-b58b-4eea-bef9-046604f06629\",\"subtype\":\"Figure\",\"type\":\"Plot\"},{\"attributes\":{},\"id\":\"868ade95-7030-4974-977e-9d50697def22\",\"type\":\"LinearScale\"},{\"attributes\":{\"source\":{\"id\":\"0a1aa211-0e85-4902-b5b4-2be3a136b27d\",\"type\":\"ColumnDataSource\"}},\"id\":\"192877c1-5534-48cc-91b3-5ab2c57fa644\",\"type\":\"CDSView\"},{\"attributes\":{},\"id\":\"9685a3c7-402c-42b6-b3c0-0d839aada89a\",\"type\":\"BasicTicker\"},{\"attributes\":{},\"id\":\"3017a00b-ca60-4a9f-ac43-8f5c52c6705e\",\"type\":\"BasicTicker\"},{\"attributes\":{\"data_source\":{\"id\":\"0a1aa211-0e85-4902-b5b4-2be3a136b27d\",\"type\":\"ColumnDataSource\"},\"glyph\":{\"id\":\"7ea430dd-135c-418d-9993-14a09267ef16\",\"type\":\"Circle\"},\"hover_glyph\":null,\"muted_glyph\":null,\"nonselection_glyph\":{\"id\":\"ad8a4bca-7313-441e-b2f2-3a68d7066672\",\"type\":\"Circle\"},\"selection_glyph\":null,\"view\":{\"id\":\"192877c1-5534-48cc-91b3-5ab2c57fa644\",\"type\":\"CDSView\"}},\"id\":\"f6d16e28-0aae-40ba-995e-d49909b4af33\",\"type\":\"GlyphRenderer\"},{\"attributes\":{},\"id\":\"9040fb8d-e8b0-4d91-80e0-1f11ffb7060e\",\"type\":\"UnionRenderers\"},{\"attributes\":{\"callback\":null},\"id\":\"3af3f0ee-741d-4fc0-8388-533cd8f4095b\",\"type\":\"DataRange1d\"},{\"attributes\":{},\"id\":\"8cbb7472-4e66-4d8c-8fd0-e6eff9e1aee1\",\"type\":\"Selection\"},{\"attributes\":{},\"id\":\"2ed27be7-d5fb-49b7-8b65-96fcab2541a9\",\"type\":\"BasicTickFormatter\"},{\"attributes\":{},\"id\":\"499e0456-ccd9-4167-9e55-fda170802e51\",\"type\":\"BasicTickFormatter\"},{\"attributes\":{\"color_mapper\":{\"id\":\"9dc7c5f9-8820-420e-a3e3-e9973551e9f4\",\"type\":\"LinearColorMapper\"},\"formatter\":{\"id\":\"2ed27be7-d5fb-49b7-8b65-96fcab2541a9\",\"type\":\"BasicTickFormatter\"},\"label_standoff\":12,\"location\":[0,0],\"plot\":{\"id\":\"7f4a97ff-b58b-4eea-bef9-046604f06629\",\"subtype\":\"Figure\",\"type\":\"Plot\"},\"ticker\":{\"id\":\"9685a3c7-402c-42b6-b3c0-0d839aada89a\",\"type\":\"BasicTicker\"},\"title\":\"Weight\"},\"id\":\"b047e340-af41-4aa2-9581-0a4f556e4f12\",\"type\":\"ColorBar\"},{\"attributes\":{\"fill_alpha\":{\"value\":0.6},\"fill_color\":{\"field\":\"weight\",\"transform\":{\"id\":\"9dc7c5f9-8820-420e-a3e3-e9973551e9f4\",\"type\":\"LinearColorMapper\"}},\"line_alpha\":{\"value\":0.6},\"line_color\":{\"field\":\"weight\",\"transform\":{\"id\":\"9dc7c5f9-8820-420e-a3e3-e9973551e9f4\",\"type\":\"LinearColorMapper\"}},\"size\":{\"units\":\"screen\",\"value\":20},\"x\":{\"field\":\"hp\"},\"y\":{\"field\":\"mpg\"}},\"id\":\"7ea430dd-135c-418d-9993-14a09267ef16\",\"type\":\"Circle\"},{\"attributes\":{\"high\":5140,\"low\":1613,\"palette\":[\"#440154\",\"#440255\",\"#440357\",\"#450558\",\"#45065A\",\"#45085B\",\"#46095C\",\"#460B5E\",\"#460C5F\",\"#460E61\",\"#470F62\",\"#471163\",\"#471265\",\"#471466\",\"#471567\",\"#471669\",\"#47186A\",\"#48196B\",\"#481A6C\",\"#481C6E\",\"#481D6F\",\"#481E70\",\"#482071\",\"#482172\",\"#482273\",\"#482374\",\"#472575\",\"#472676\",\"#472777\",\"#472878\",\"#472A79\",\"#472B7A\",\"#472C7B\",\"#462D7C\",\"#462F7C\",\"#46307D\",\"#46317E\",\"#45327F\",\"#45347F\",\"#453580\",\"#453681\",\"#443781\",\"#443982\",\"#433A83\",\"#433B83\",\"#433C84\",\"#423D84\",\"#423E85\",\"#424085\",\"#414186\",\"#414286\",\"#404387\",\"#404487\",\"#3F4587\",\"#3F4788\",\"#3E4888\",\"#3E4989\",\"#3D4A89\",\"#3D4B89\",\"#3D4C89\",\"#3C4D8A\",\"#3C4E8A\",\"#3B508A\",\"#3B518A\",\"#3A528B\",\"#3A538B\",\"#39548B\",\"#39558B\",\"#38568B\",\"#38578C\",\"#37588C\",\"#37598C\",\"#365A8C\",\"#365B8C\",\"#355C8C\",\"#355D8C\",\"#345E8D\",\"#345F8D\",\"#33608D\",\"#33618D\",\"#32628D\",\"#32638D\",\"#31648D\",\"#31658D\",\"#31668D\",\"#30678D\",\"#30688D\",\"#2F698D\",\"#2F6A8D\",\"#2E6B8E\",\"#2E6C8E\",\"#2E6D8E\",\"#2D6E8E\",\"#2D6F8E\",\"#2C708E\",\"#2C718E\",\"#2C728E\",\"#2B738E\",\"#2B748E\",\"#2A758E\",\"#2A768E\",\"#2A778E\",\"#29788E\",\"#29798E\",\"#287A8E\",\"#287A8E\",\"#287B8E\",\"#277C8E\",\"#277D8E\",\"#277E8E\",\"#267F8E\",\"#26808E\",\"#26818E\",\"#25828E\",\"#25838D\",\"#24848D\",\"#24858D\",\"#24868D\",\"#23878D\",\"#23888D\",\"#23898D\",\"#22898D\",\"#228A8D\",\"#228B8D\",\"#218C8D\",\"#218D8C\",\"#218E8C\",\"#208F8C\",\"#20908C\",\"#20918C\",\"#1F928C\",\"#1F938B\",\"#1F948B\",\"#1F958B\",\"#1F968B\",\"#1E978A\",\"#1E988A\",\"#1E998A\",\"#1E998A\",\"#1E9A89\",\"#1E9B89\",\"#1E9C89\",\"#1E9D88\",\"#1E9E88\",\"#1E9F88\",\"#1EA087\",\"#1FA187\",\"#1FA286\",\"#1FA386\",\"#20A485\",\"#20A585\",\"#21A685\",\"#21A784\",\"#22A784\",\"#23A883\",\"#23A982\",\"#24AA82\",\"#25AB81\",\"#26AC81\",\"#27AD80\",\"#28AE7F\",\"#29AF7F\",\"#2AB07E\",\"#2BB17D\",\"#2CB17D\",\"#2EB27C\",\"#2FB37B\",\"#30B47A\",\"#32B57A\",\"#33B679\",\"#35B778\",\"#36B877\",\"#38B976\",\"#39B976\",\"#3BBA75\",\"#3DBB74\",\"#3EBC73\",\"#40BD72\",\"#42BE71\",\"#44BE70\",\"#45BF6F\",\"#47C06E\",\"#49C16D\",\"#4BC26C\",\"#4DC26B\",\"#4FC369\",\"#51C468\",\"#53C567\",\"#55C666\",\"#57C665\",\"#59C764\",\"#5BC862\",\"#5EC961\",\"#60C960\",\"#62CA5F\",\"#64CB5D\",\"#67CC5C\",\"#69CC5B\",\"#6BCD59\",\"#6DCE58\",\"#70CE56\",\"#72CF55\",\"#74D054\",\"#77D052\",\"#79D151\",\"#7CD24F\",\"#7ED24E\",\"#81D34C\",\"#83D34B\",\"#86D449\",\"#88D547\",\"#8BD546\",\"#8DD644\",\"#90D643\",\"#92D741\",\"#95D73F\",\"#97D83E\",\"#9AD83C\",\"#9DD93A\",\"#9FD938\",\"#A2DA37\",\"#A5DA35\",\"#A7DB33\",\"#AADB32\",\"#ADDC30\",\"#AFDC2E\",\"#B2DD2C\",\"#B5DD2B\",\"#B7DD29\",\"#BADE27\",\"#BDDE26\",\"#BFDF24\",\"#C2DF22\",\"#C5DF21\",\"#C7E01F\",\"#CAE01E\",\"#CDE01D\",\"#CFE11C\",\"#D2E11B\",\"#D4E11A\",\"#D7E219\",\"#DAE218\",\"#DCE218\",\"#DFE318\",\"#E1E318\",\"#E4E318\",\"#E7E419\",\"#E9E419\",\"#ECE41A\",\"#EEE51B\",\"#F1E51C\",\"#F3E51E\",\"#F6E61F\",\"#F8E621\",\"#FAE622\",\"#FDE724\"]},\"id\":\"9dc7c5f9-8820-420e-a3e3-e9973551e9f4\",\"type\":\"LinearColorMapper\"},{\"attributes\":{},\"id\":\"03f05aed-01dc-481f-825d-fcaf2dbced32\",\"type\":\"LinearScale\"},{\"attributes\":{\"axis_label\":\"MPG\",\"formatter\":{\"id\":\"ab999a66-716f-4df1-91b8-52b79394ced4\",\"type\":\"BasicTickFormatter\"},\"plot\":{\"id\":\"7f4a97ff-b58b-4eea-bef9-046604f06629\",\"subtype\":\"Figure\",\"type\":\"Plot\"},\"ticker\":{\"id\":\"3017a00b-ca60-4a9f-ac43-8f5c52c6705e\",\"type\":\"BasicTicker\"}},\"id\":\"707feb3d-dabd-4d30-9ba7-3d44b461d112\",\"type\":\"LinearAxis\"},{\"attributes\":{\"plot\":{\"id\":\"7f4a97ff-b58b-4eea-bef9-046604f06629\",\"subtype\":\"Figure\",\"type\":\"Plot\"},\"ticker\":{\"id\":\"88a548c0-27b9-408a-b4da-d92c94b75fca\",\"type\":\"BasicTicker\"}},\"id\":\"a74bc7c8-735f-4e6a-986b-1c31c94257a7\",\"type\":\"Grid\"},{\"attributes\":{\"dimension\":1,\"plot\":{\"id\":\"7f4a97ff-b58b-4eea-bef9-046604f06629\",\"subtype\":\"Figure\",\"type\":\"Plot\"},\"ticker\":{\"id\":\"3017a00b-ca60-4a9f-ac43-8f5c52c6705e\",\"type\":\"BasicTicker\"}},\"id\":\"603add29-0332-4dd3-a968-1158e7ca1432\",\"type\":\"Grid\"},{\"attributes\":{},\"id\":\"88a548c0-27b9-408a-b4da-d92c94b75fca\",\"type\":\"BasicTicker\"},{\"attributes\":{\"callback\":null},\"id\":\"c8d316a7-3479-44a2-aa30-f20b7b3608f3\",\"type\":\"DataRange1d\"},{\"attributes\":{\"plot\":null,\"text\":\"\"},\"id\":\"dd01eb49-d7c1-4f7b-8506-1666e2bd9e34\",\"type\":\"Title\"},{\"attributes\":{\"active_drag\":\"auto\",\"active_inspect\":\"auto\",\"active_multi\":null,\"active_scroll\":\"auto\",\"active_tap\":\"auto\"},\"id\":\"09d6f0cf-17e7-4a42-b98c-b07809b02bc6\",\"type\":\"Toolbar\"},{\"attributes\":{\"fill_alpha\":{\"value\":0.1},\"fill_color\":{\"value\":\"#1f77b4\"},\"line_alpha\":{\"value\":0.1},\"line_color\":{\"value\":\"#1f77b4\"},\"size\":{\"units\":\"screen\",\"value\":20},\"x\":{\"field\":\"hp\"},\"y\":{\"field\":\"mpg\"}},\"id\":\"ad8a4bca-7313-441e-b2f2-3a68d7066672\",\"type\":\"Circle\"},{\"attributes\":{\"axis_label\":\"Horsepower\",\"formatter\":{\"id\":\"499e0456-ccd9-4167-9e55-fda170802e51\",\"type\":\"BasicTickFormatter\"},\"plot\":{\"id\":\"7f4a97ff-b58b-4eea-bef9-046604f06629\",\"subtype\":\"Figure\",\"type\":\"Plot\"},\"ticker\":{\"id\":\"88a548c0-27b9-408a-b4da-d92c94b75fca\",\"type\":\"BasicTicker\"}},\"id\":\"9f86db49-eae1-4b06-bc53-eff4e5241003\",\"type\":\"LinearAxis\"},{\"attributes\":{\"callback\":null,\"data\":{\"accel\":{\"__ndarray__\":\"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\",\"dtype\":\"float64\",\"shape\":[392]},\"cyl\":[8,8,8,8,8,8,8,8,8,8,8,8,8,8,4,6,6,6,4,4,4,4,4,4,6,8,8,8,8,4,4,4,6,6,6,6,6,8,8,8,8,8,8,8,6,4,6,6,4,4,4,4,4,4,4,4,4,4,4,4,4,8,8,8,8,8,8,8,8,8,3,8,8,8,8,4,4,4,4,4,4,4,4,4,8,8,8,8,8,8,8,8,8,8,8,8,6,6,6,6,6,4,8,8,8,8,6,4,4,4,3,4,6,4,8,8,4,4,4,4,8,4,6,8,6,6,6,4,4,4,4,6,6,6,8,8,8,8,8,4,4,4,4,4,4,4,4,4,4,4,6,6,6,6,8,8,8,8,6,6,6,6,6,8,8,4,4,6,4,4,4,4,6,4,6,4,4,4,4,4,4,4,4,4,4,8,8,8,8,6,6,6,6,4,4,4,4,6,6,6,6,4,4,4,4,4,8,4,6,6,8,8,8,8,4,4,4,4,4,8,8,8,8,6,6,6,6,8,8,8,8,4,4,4,4,4,4,4,4,6,4,3,4,4,4,4,4,8,8,8,6,6,6,4,6,6,6,6,6,6,8,6,8,8,4,4,4,4,4,4,4,4,5,6,4,6,4,4,6,6,4,6,6,8,8,8,8,8,8,8,8,4,4,4,4,5,8,4,8,4,4,4,4,4,6,6,4,4,4,4,4,4,4,4,6,4,4,4,4,4,4,4,4,4,4,5,4,4,4,4,6,3,4,4,4,4,4,6,4,4,4,4,4,4,4,4,4,4,4,4,4,4,4,4,4,6,6,6,6,8,6,6,4,4,4,4,4,4,4,4,4,4,4,4,4,4,4,4,4,4,6,6,4,6,4,4,4,4,4,4,4,4],\"displ\":{\"__ndarray__\":\"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\",\"dtype\":\"float64\",\"shape\":[392]},\"hp\":[130,165,150,150,140,198,220,215,225,190,170,160,150,225,95,95,97,85,88,46,87,90,95,113,90,215,200,210,193,88,90,95,100,105,100,88,100,165,175,153,150,180,170,175,110,72,100,88,86,90,70,76,65,69,60,70,95,80,54,90,86,165,175,150,153,150,208,155,160,190,97,150,130,140,150,112,76,87,69,86,92,97,80,88,175,150,145,137,150,198,150,158,150,215,225,175,105,100,100,88,95,46,150,167,170,180,100,88,72,94,90,85,107,90,145,230,49,75,91,112,150,110,122,180,95,100,100,67,80,65,75,100,110,105,140,150,150,140,150,83,67,78,52,61,75,75,75,97,93,67,95,105,72,72,170,145,150,148,110,105,110,95,110,110,129,75,83,100,78,96,71,97,97,70,90,95,88,98,115,53,86,81,92,79,83,140,150,120,152,100,105,81,90,52,60,70,53,100,78,110,95,71,70,75,72,102,150,88,108,120,180,145,130,150,68,80,58,96,70,145,110,145,130,110,105,100,98,180,170,190,149,78,88,75,89,63,83,67,78,97,110,110,48,66,52,70,60,110,140,139,105,95,85,88,100,90,105,85,110,120,145,165,139,140,68,95,97,75,95,105,85,97,103,125,115,133,71,68,115,85,88,90,110,130,129,138,135,155,142,125,150,71,65,80,80,77,125,71,90,70,70,65,69,90,115,115,90,76,60,70,65,90,88,90,90,78,90,75,92,75,65,105,65,48,48,67,67,67,67,62,132,100,88,72,84,84,92,110,84,58,64,60,67,65,62,68,63,65,65,74,75,75,100,74,80,76,116,120,110,105,88,85,88,88,88,85,84,90,92,74,68,68,63,70,88,75,70,67,67,67,110,85,92,112,96,84,90,86,52,84,79,82],\"index\":[0,1,2,3,4,5,6,7,8,9,10,11,12,13,14,15,16,17,18,19,20,21,22,23,24,25,26,27,28,29,30,31,32,33,34,35,36,37,38,39,40,41,42,43,44,45,46,47,48,49,50,51,52,53,54,55,56,57,58,59,60,61,62,63,64,65,66,67,68,69,70,71,72,73,74,75,76,77,78,79,80,81,82,83,84,85,86,87,88,89,90,91,92,93,94,95,96,97,98,99,100,101,102,103,104,105,106,107,108,109,110,111,112,113,114,115,116,117,118,119,120,121,122,123,124,125,126,127,128,129,130,131,132,133,134,135,136,137,138,139,140,141,142,143,144,145,146,147,148,149,150,151,152,153,154,155,156,157,158,159,160,161,162,163,164,165,166,167,168,169,170,171,172,173,174,175,176,177,178,179,180,181,182,183,184,185,186,187,188,189,190,191,192,193,194,195,196,197,198,199,200,201,202,203,204,205,206,207,208,209,210,211,212,213,214,215,216,217,218,219,220,221,222,223,224,225,226,227,228,229,230,231,232,233,234,235,236,237,238,239,240,241,242,243,244,245,246,247,248,249,250,251,252,253,254,255,256,257,258,259,260,261,262,263,264,265,266,267,268,269,270,271,272,273,274,275,276,277,278,279,280,281,282,283,284,285,286,287,288,289,290,291,292,293,294,295,296,297,298,299,300,301,302,303,304,305,306,307,308,309,310,311,312,313,314,315,316,317,318,319,320,321,322,323,324,325,326,327,328,329,330,331,332,333,334,335,336,337,338,339,340,341,342,343,344,345,346,347,348,349,350,351,352,353,354,355,356,357,358,359,360,361,362,363,364,365,366,367,368,369,370,371,372,373,374,375,376,377,378,379,380,381,382,383,384,385,386,387,388,389,390,391],\"mpg\":{\"__ndarray__\":\"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\",\"dtype\":\"float64\",\"shape\":[392]},\"name\":[\"chevrolet chevelle malibu\",\"buick skylark 320\",\"plymouth satellite\",\"amc rebel sst\",\"ford torino\",\"ford galaxie 500\",\"chevrolet impala\",\"plymouth fury iii\",\"pontiac catalina\",\"amc ambassador dpl\",\"dodge challenger se\",\"plymouth 'cuda 340\",\"chevrolet monte carlo\",\"buick estate wagon (sw)\",\"toyota corona mark ii\",\"plymouth duster\",\"amc hornet\",\"ford maverick\",\"datsun pl510\",\"volkswagen 1131 deluxe sedan\",\"peugeot 504\",\"audi 100 ls\",\"saab 99e\",\"bmw 2002\",\"amc gremlin\",\"ford f250\",\"chevy c20\",\"dodge d200\",\"hi 1200d\",\"datsun pl510\",\"chevrolet vega 2300\",\"toyota corona\",\"amc gremlin\",\"plymouth satellite custom\",\"chevrolet chevelle malibu\",\"ford torino 500\",\"amc matador\",\"chevrolet impala\",\"pontiac catalina brougham\",\"ford galaxie 500\",\"plymouth fury iii\",\"dodge monaco (sw)\",\"ford country squire (sw)\",\"pontiac safari (sw)\",\"amc hornet sportabout (sw)\",\"chevrolet vega (sw)\",\"pontiac firebird\",\"ford mustang\",\"mercury capri 2000\",\"opel 1900\",\"peugeot 304\",\"fiat 124b\",\"toyota corolla 1200\",\"datsun 1200\",\"volkswagen model 111\",\"plymouth cricket\",\"toyota corona hardtop\",\"dodge colt hardtop\",\"volkswagen type 3\",\"chevrolet vega\",\"ford pinto runabout\",\"chevrolet impala\",\"pontiac catalina\",\"plymouth fury iii\",\"ford galaxie 500\",\"amc ambassador sst\",\"mercury marquis\",\"buick lesabre custom\",\"oldsmobile delta 88 royale\",\"chrysler newport royal\",\"mazda rx2 coupe\",\"amc matador (sw)\",\"chevrolet chevelle concours (sw)\",\"ford gran torino (sw)\",\"plymouth satellite custom (sw)\",\"volvo 145e (sw)\",\"volkswagen 411 (sw)\",\"peugeot 504 (sw)\",\"renault 12 (sw)\",\"ford pinto (sw)\",\"datsun 510 (sw)\",\"toyouta corona mark ii (sw)\",\"dodge colt (sw)\",\"toyota corolla 1600 (sw)\",\"buick century 350\",\"amc matador\",\"chevrolet malibu\",\"ford gran torino\",\"dodge coronet custom\",\"mercury marquis brougham\",\"chevrolet caprice classic\",\"ford ltd\",\"plymouth fury gran sedan\",\"chrysler new yorker brougham\",\"buick electra 225 custom\",\"amc ambassador brougham\",\"plymouth valiant\",\"chevrolet nova custom\",\"amc hornet\",\"ford maverick\",\"plymouth duster\",\"volkswagen super beetle\",\"chevrolet impala\",\"ford country\",\"plymouth custom suburb\",\"oldsmobile vista cruiser\",\"amc gremlin\",\"toyota carina\",\"chevrolet vega\",\"datsun 610\",\"maxda rx3\",\"ford pinto\",\"mercury capri v6\",\"fiat 124 sport coupe\",\"chevrolet monte carlo s\",\"pontiac grand prix\",\"fiat 128\",\"opel manta\",\"audi 100ls\",\"volvo 144ea\",\"dodge dart custom\",\"saab 99le\",\"toyota mark ii\",\"oldsmobile omega\",\"plymouth duster\",\"amc hornet\",\"chevrolet nova\",\"datsun b210\",\"ford pinto\",\"toyota corolla 1200\",\"chevrolet vega\",\"chevrolet chevelle malibu classic\",\"amc matador\",\"plymouth satellite sebring\",\"ford gran torino\",\"buick century luxus (sw)\",\"dodge coronet custom (sw)\",\"ford gran torino (sw)\",\"amc matador (sw)\",\"audi fox\",\"volkswagen dasher\",\"opel manta\",\"toyota corona\",\"datsun 710\",\"dodge colt\",\"fiat 128\",\"fiat 124 tc\",\"honda civic\",\"subaru\",\"fiat x1.9\",\"plymouth valiant custom\",\"chevrolet nova\",\"mercury monarch\",\"ford maverick\",\"pontiac catalina\",\"chevrolet bel air\",\"plymouth grand fury\",\"ford ltd\",\"buick century\",\"chevroelt chevelle malibu\",\"amc matador\",\"plymouth fury\",\"buick skyhawk\",\"chevrolet monza 2+2\",\"ford mustang ii\",\"toyota corolla\",\"ford pinto\",\"amc gremlin\",\"pontiac astro\",\"toyota corona\",\"volkswagen dasher\",\"datsun 710\",\"ford pinto\",\"volkswagen rabbit\",\"amc pacer\",\"audi 100ls\",\"peugeot 504\",\"volvo 244dl\",\"saab 99le\",\"honda civic cvcc\",\"fiat 131\",\"opel 1900\",\"capri ii\",\"dodge colt\",\"renault 12tl\",\"chevrolet chevelle malibu classic\",\"dodge coronet brougham\",\"amc matador\",\"ford gran torino\",\"plymouth valiant\",\"chevrolet nova\",\"ford maverick\",\"amc hornet\",\"chevrolet chevette\",\"chevrolet woody\",\"vw rabbit\",\"honda civic\",\"dodge aspen se\",\"ford granada ghia\",\"pontiac ventura sj\",\"amc pacer d/l\",\"volkswagen rabbit\",\"datsun b-210\",\"toyota corolla\",\"ford pinto\",\"volvo 245\",\"plymouth volare premier v8\",\"peugeot 504\",\"toyota mark ii\",\"mercedes-benz 280s\",\"cadillac seville\",\"chevy c10\",\"ford f108\",\"dodge d100\",\"honda accord cvcc\",\"buick opel isuzu deluxe\",\"renault 5 gtl\",\"plymouth arrow gs\",\"datsun f-10 hatchback\",\"chevrolet caprice classic\",\"oldsmobile cutlass supreme\",\"dodge monaco brougham\",\"mercury cougar brougham\",\"chevrolet concours\",\"buick skylark\",\"plymouth volare custom\",\"ford granada\",\"pontiac grand prix lj\",\"chevrolet monte carlo landau\",\"chrysler cordoba\",\"ford thunderbird\",\"volkswagen rabbit custom\",\"pontiac sunbird coupe\",\"toyota corolla liftback\",\"ford mustang ii 2+2\",\"chevrolet chevette\",\"dodge colt m/m\",\"subaru dl\",\"volkswagen dasher\",\"datsun 810\",\"bmw 320i\",\"mazda rx-4\",\"volkswagen rabbit custom diesel\",\"ford fiesta\",\"mazda glc deluxe\",\"datsun b210 gx\",\"honda civic cvcc\",\"oldsmobile cutlass salon brougham\",\"dodge diplomat\",\"mercury monarch ghia\",\"pontiac phoenix lj\",\"chevrolet malibu\",\"ford fairmont (auto)\",\"ford fairmont (man)\",\"plymouth volare\",\"amc concord\",\"buick century special\",\"mercury zephyr\",\"dodge aspen\",\"amc concord d/l\",\"chevrolet monte carlo landau\",\"buick regal sport coupe (turbo)\",\"ford futura\",\"dodge magnum xe\",\"chevrolet chevette\",\"toyota corona\",\"datsun 510\",\"dodge omni\",\"toyota celica gt liftback\",\"plymouth sapporo\",\"oldsmobile starfire sx\",\"datsun 200-sx\",\"audi 5000\",\"volvo 264gl\",\"saab 99gle\",\"peugeot 604sl\",\"volkswagen scirocco\",\"honda accord lx\",\"pontiac lemans v6\",\"mercury zephyr 6\",\"ford fairmont 4\",\"amc concord dl 6\",\"dodge aspen 6\",\"chevrolet caprice classic\",\"ford ltd landau\",\"mercury grand marquis\",\"dodge st. regis\",\"buick estate wagon (sw)\",\"ford country squire (sw)\",\"chevrolet malibu classic (sw)\",\"chrysler lebaron town @ country (sw)\",\"vw rabbit custom\",\"maxda glc deluxe\",\"dodge colt hatchback custom\",\"amc spirit dl\",\"mercedes benz 300d\",\"cadillac eldorado\",\"peugeot 504\",\"oldsmobile cutlass salon brougham\",\"plymouth horizon\",\"plymouth horizon tc3\",\"datsun 210\",\"fiat strada custom\",\"buick skylark limited\",\"chevrolet citation\",\"oldsmobile omega brougham\",\"pontiac phoenix\",\"vw rabbit\",\"toyota corolla tercel\",\"chevrolet chevette\",\"datsun 310\",\"chevrolet citation\",\"ford fairmont\",\"amc concord\",\"dodge aspen\",\"audi 4000\",\"toyota corona liftback\",\"mazda 626\",\"datsun 510 hatchback\",\"toyota corolla\",\"mazda glc\",\"dodge colt\",\"datsun 210\",\"vw rabbit c (diesel)\",\"vw dasher (diesel)\",\"audi 5000s (diesel)\",\"mercedes-benz 240d\",\"honda civic 1500 gl\",\"subaru dl\",\"vokswagen rabbit\",\"datsun 280-zx\",\"mazda rx-7 gs\",\"triumph tr7 coupe\",\"honda accord\",\"plymouth reliant\",\"buick skylark\",\"dodge aries wagon (sw)\",\"chevrolet citation\",\"plymouth reliant\",\"toyota starlet\",\"plymouth champ\",\"honda civic 1300\",\"subaru\",\"datsun 210 mpg\",\"toyota tercel\",\"mazda glc 4\",\"plymouth horizon 4\",\"ford escort 4w\",\"ford escort 2h\",\"volkswagen jetta\",\"honda prelude\",\"toyota corolla\",\"datsun 200sx\",\"mazda 626\",\"peugeot 505s turbo diesel\",\"volvo diesel\",\"toyota cressida\",\"datsun 810 maxima\",\"buick century\",\"oldsmobile cutlass ls\",\"ford granada gl\",\"chrysler lebaron salon\",\"chevrolet cavalier\",\"chevrolet cavalier wagon\",\"chevrolet cavalier 2-door\",\"pontiac j2000 se hatchback\",\"dodge aries se\",\"pontiac phoenix\",\"ford fairmont futura\",\"volkswagen rabbit l\",\"mazda glc custom l\",\"mazda glc custom\",\"plymouth horizon miser\",\"mercury lynx l\",\"nissan stanza xe\",\"honda accord\",\"toyota corolla\",\"honda civic\",\"honda civic (auto)\",\"datsun 310 gx\",\"buick century limited\",\"oldsmobile cutlass ciera (diesel)\",\"chrysler lebaron medallion\",\"ford granada l\",\"toyota celica gt\",\"dodge charger 2.2\",\"chevrolet camaro\",\"ford mustang gl\",\"vw pickup\",\"dodge rampage\",\"ford ranger\",\"chevy s-10\"],\"origin\":[1,1,1,1,1,1,1,1,1,1,1,1,1,1,3,1,1,1,3,2,2,2,2,2,1,1,1,1,1,3,1,3,1,1,1,1,1,1,1,1,1,1,1,1,1,1,1,1,1,2,2,2,3,3,2,1,3,1,2,1,1,1,1,1,1,1,1,1,1,1,3,1,1,1,1,2,2,2,2,1,3,3,1,3,1,1,1,1,1,1,1,1,1,1,1,1,1,1,1,1,1,2,1,1,1,1,1,3,1,3,3,1,1,2,1,1,2,2,2,2,1,2,3,1,1,1,1,3,1,3,1,1,1,1,1,1,1,1,1,2,2,2,3,3,1,2,2,3,3,2,1,1,1,1,1,1,1,1,1,1,1,1,1,1,1,3,1,1,1,3,2,3,1,2,1,2,2,2,2,3,2,2,1,1,2,1,1,1,1,1,1,1,1,1,1,2,3,1,1,1,1,2,3,3,1,2,1,2,3,2,1,1,1,1,3,1,2,1,3,1,1,1,1,1,1,1,1,1,1,1,1,2,1,3,1,1,1,3,2,3,2,3,2,1,3,3,3,1,1,1,1,1,1,1,1,1,1,1,1,1,1,1,1,1,1,3,3,1,3,1,1,3,2,2,2,2,2,3,1,1,1,1,1,1,1,1,1,1,1,1,1,2,3,1,1,2,1,2,1,1,1,3,2,1,1,1,1,2,3,1,3,1,1,1,1,2,3,3,3,3,3,1,3,2,2,2,2,3,3,2,3,3,2,3,1,1,1,1,1,3,1,3,3,3,3,3,1,1,1,2,3,3,3,3,2,2,3,3,1,1,1,1,1,1,1,1,1,1,1,2,3,3,1,1,3,3,3,3,3,3,1,1,1,1,3,1,1,1,2,1,1,1],\"weight\":[3504,3693,3436,3433,3449,4341,4354,4312,4425,3850,3563,3609,3761,3086,2372,2833,2774,2587,2130,1835,2672,2430,2375,2234,2648,4615,4376,4382,4732,2130,2264,2228,2634,3439,3329,3302,3288,4209,4464,4154,4096,4955,4746,5140,2962,2408,3282,3139,2220,2123,2074,2065,1773,1613,1834,1955,2278,2126,2254,2408,2226,4274,4385,4135,4129,3672,4633,4502,4456,4422,2330,3892,4098,4294,4077,2933,2511,2979,2189,2395,2288,2506,2164,2100,4100,3672,3988,4042,3777,4952,4464,4363,4237,4735,4951,3821,3121,3278,2945,3021,2904,1950,4997,4906,4654,4499,2789,2279,2401,2379,2124,2310,2472,2265,4082,4278,1867,2158,2582,2868,3399,2660,2807,3664,3102,2901,3336,1950,2451,1836,2542,3781,3632,3613,4141,4699,4457,4638,4257,2219,1963,2300,1649,2003,2125,2108,2246,2489,2391,2000,3264,3459,3432,3158,4668,4440,4498,4657,3907,3897,3730,3785,3039,3221,3169,2171,2639,2914,2592,2702,2223,2545,2984,1937,3211,2694,2957,2945,2671,1795,2464,2220,2572,2255,2202,4215,4190,3962,4215,3233,3353,3012,3085,2035,2164,1937,1795,3651,3574,3645,3193,1825,1990,2155,2565,3150,3940,3270,2930,3820,4380,4055,3870,3755,2045,2155,1825,2300,1945,3880,4060,4140,4295,3520,3425,3630,3525,4220,4165,4325,4335,1940,2740,2265,2755,2051,2075,1985,2190,2815,2600,2720,1985,1800,1985,2070,1800,3365,3735,3570,3535,3155,2965,2720,3430,3210,3380,3070,3620,3410,3425,3445,3205,4080,2155,2560,2300,2230,2515,2745,2855,2405,2830,3140,2795,3410,1990,2135,3245,2990,2890,3265,3360,3840,3725,3955,3830,4360,4054,3605,3940,1925,1975,1915,2670,3530,3900,3190,3420,2200,2150,2020,2130,2670,2595,2700,2556,2144,1968,2120,2019,2678,2870,3003,3381,2188,2711,2542,2434,2265,2110,2800,2110,2085,2335,2950,3250,1850,2145,1845,2910,2420,2500,2290,2490,2635,2620,2725,2385,1755,1875,1760,2065,1975,2050,1985,2215,2045,2380,2190,2210,2350,2615,2635,3230,3160,2900,2930,3415,3725,3060,3465,2605,2640,2395,2575,2525,2735,2865,1980,2025,1970,2125,2125,2160,2205,2245,1965,1965,1995,2945,3015,2585,2835,2665,2370,2950,2790,2130,2295,2625,2720],\"yr\":[70,70,70,70,70,70,70,70,70,70,70,70,70,70,70,70,70,70,70,70,70,70,70,70,70,70,70,70,70,71,71,71,71,71,71,71,71,71,71,71,71,71,71,71,71,71,71,71,71,71,71,71,71,71,71,71,72,72,72,72,72,72,72,72,72,72,72,72,72,72,72,72,72,72,72,72,72,72,72,72,72,72,72,72,73,73,73,73,73,73,73,73,73,73,73,73,73,73,73,73,73,73,73,73,73,73,73,73,73,73,73,73,73,73,73,73,73,73,73,73,73,73,73,73,74,74,74,74,74,74,74,74,74,74,74,74,74,74,74,74,74,74,74,74,74,74,74,74,74,74,75,75,75,75,75,75,75,75,75,75,75,75,75,75,75,75,75,75,75,75,75,75,75,75,75,75,75,75,75,75,76,76,76,76,76,76,76,76,76,76,76,76,76,76,76,76,76,76,76,76,76,76,76,76,76,76,76,76,76,76,76,76,76,76,77,77,77,77,77,77,77,77,77,77,77,77,77,77,77,77,77,77,77,77,77,77,77,77,77,77,77,77,78,78,78,78,78,78,78,78,78,78,78,78,78,78,78,78,78,78,78,78,78,78,78,78,78,78,78,78,78,78,78,78,78,78,78,78,79,79,79,79,79,79,79,79,79,79,79,79,79,79,79,79,79,79,79,79,79,79,79,79,79,79,79,79,79,80,80,80,80,80,80,80,80,80,80,80,80,80,80,80,80,80,80,80,80,80,80,80,80,80,80,80,81,81,81,81,81,81,81,81,81,81,81,81,81,81,81,81,81,81,81,81,81,81,81,81,81,81,81,81,82,82,82,82,82,82,82,82,82,82,82,82,82,82,82,82,82,82,82,82,82,82,82,82,82,82,82,82,82,82]},\"selected\":{\"id\":\"8cbb7472-4e66-4d8c-8fd0-e6eff9e1aee1\",\"type\":\"Selection\"},\"selection_policy\":{\"id\":\"9040fb8d-e8b0-4d91-80e0-1f11ffb7060e\",\"type\":\"UnionRenderers\"}},\"id\":\"0a1aa211-0e85-4902-b5b4-2be3a136b27d\",\"type\":\"ColumnDataSource\"},{\"attributes\":{},\"id\":\"ab999a66-716f-4df1-91b8-52b79394ced4\",\"type\":\"BasicTickFormatter\"}],\"root_ids\":[\"7f4a97ff-b58b-4eea-bef9-046604f06629\"]},\"title\":\"Bokeh Application\",\"version\":\"0.13.0\"}};\n",
       "  var render_items = [{\"docid\":\"70d43165-476f-45ce-abd6-fec92ca3f29a\",\"roots\":{\"7f4a97ff-b58b-4eea-bef9-046604f06629\":\"c4541757-1b3c-43b6-9ff0-65ae5f04bae2\"}}];\n",
       "  root.Bokeh.embed.embed_items_notebook(docs_json, render_items);\n",
       "\n",
       "  }\n",
       "  if (root.Bokeh !== undefined) {\n",
       "    embed_document(root);\n",
       "  } else {\n",
       "    var attempts = 0;\n",
       "    var timer = setInterval(function(root) {\n",
       "      if (root.Bokeh !== undefined) {\n",
       "        embed_document(root);\n",
       "        clearInterval(timer);\n",
       "      }\n",
       "      attempts++;\n",
       "      if (attempts > 100) {\n",
       "        console.log(\"Bokeh: ERROR: Unable to run BokehJS code because BokehJS library is missing\")\n",
       "        clearInterval(timer);\n",
       "      }\n",
       "    }, 10, root)\n",
       "  }\n",
       "})(window);"
      ],
      "application/vnd.bokehjs_exec.v0+json": ""
     },
     "metadata": {
      "application/vnd.bokehjs_exec.v0+json": {
       "id": "7f4a97ff-b58b-4eea-bef9-046604f06629"
      }
     },
     "output_type": "display_data"
    }
   ],
   "source": [
    "from bokeh.sampledata.autompg import autompg\n",
    "from bokeh.models import LinearColorMapper, ColorBar\n",
    "from bokeh.transform import transform\n",
    "from bokeh.models.sources import ColumnDataSource\n",
    "\n",
    "source = ColumnDataSource(autompg)\n",
    "color_mapper = LinearColorMapper(palette=\"Viridis256\", low=autompg.weight.min(), high=autompg.weight.max())\n",
    "\n",
    "p = figure(x_axis_label='Horsepower', y_axis_label='MPG', tools='', toolbar_location=None)\n",
    "p.circle(x='hp', y='mpg', color=transform('weight', color_mapper), size=20, alpha=0.6, source=autompg)\n",
    "\n",
    "color_bar = ColorBar(color_mapper=color_mapper, label_standoff=12, location=(0,0), title='Weight')\n",
    "p.add_layout(color_bar, 'right')\n",
    "\n",
    "show(p)"
   ]
  },
  {
   "cell_type": "code",
   "execution_count": 19,
   "metadata": {},
   "outputs": [],
   "source": [
    "# Exercise: Experiment with Colorbar\n"
   ]
  },
  {
   "cell_type": "code",
   "execution_count": null,
   "metadata": {},
   "outputs": [],
   "source": []
  }
 ],
 "metadata": {
  "anaconda-cloud": {},
  "celltoolbar": "Slideshow",
  "kernelspec": {
   "display_name": "Python 3",
   "language": "python",
   "name": "python3"
  },
  "language_info": {
   "codemirror_mode": {
    "name": "ipython",
    "version": 3
   },
   "file_extension": ".py",
   "mimetype": "text/x-python",
   "name": "python",
   "nbconvert_exporter": "python",
   "pygments_lexer": "ipython3",
   "version": "3.5.6"
  }
 },
 "nbformat": 4,
 "nbformat_minor": 1
}
