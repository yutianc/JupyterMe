{
 "cells": [
  {
   "cell_type": "markdown",
   "metadata": {},
   "source": [
    "<table style=\"float:left; border:none\">\n",
    "   <tr style=\"border:none; background-color: #ffffff\">\n",
    "       <td style=\"border:none\">\n",
    "           <a href=\"http://bokeh.pydata.org/\">     \n",
    "           <img \n",
    "               src=\"assets/bokeh-transparent.png\" \n",
    "               style=\"width:50px\"\n",
    "           >\n",
    "           </a>    \n",
    "       </td>\n",
    "       <td style=\"border:none\">\n",
    "           <h1>Bokeh Tutorial</h1>\n",
    "       </td>\n",
    "   </tr>\n",
    "</table>\n",
    "\n",
    "<div style=\"float:right;\"><h2>06. Linking and Interactions</h2></div>"
   ]
  },
  {
   "cell_type": "code",
   "execution_count": 2,
   "metadata": {},
   "outputs": [
    {
     "data": {
      "text/html": [
       "\n",
       "    <div class=\"bk-root\">\n",
       "        <a href=\"https://bokeh.pydata.org\" target=\"_blank\" class=\"bk-logo bk-logo-small bk-logo-notebook\"></a>\n",
       "        <span id=\"8d98bed6-4f00-4885-8357-ca6b9de85cdd\">Loading BokehJS ...</span>\n",
       "    </div>"
      ]
     },
     "metadata": {},
     "output_type": "display_data"
    },
    {
     "data": {
      "application/javascript": [
       "\n",
       "(function(root) {\n",
       "  function now() {\n",
       "    return new Date();\n",
       "  }\n",
       "\n",
       "  var force = true;\n",
       "\n",
       "  if (typeof (root._bokeh_onload_callbacks) === \"undefined\" || force === true) {\n",
       "    root._bokeh_onload_callbacks = [];\n",
       "    root._bokeh_is_loading = undefined;\n",
       "  }\n",
       "\n",
       "  var JS_MIME_TYPE = 'application/javascript';\n",
       "  var HTML_MIME_TYPE = 'text/html';\n",
       "  var EXEC_MIME_TYPE = 'application/vnd.bokehjs_exec.v0+json';\n",
       "  var CLASS_NAME = 'output_bokeh rendered_html';\n",
       "\n",
       "  /**\n",
       "   * Render data to the DOM node\n",
       "   */\n",
       "  function render(props, node) {\n",
       "    var script = document.createElement(\"script\");\n",
       "    node.appendChild(script);\n",
       "  }\n",
       "\n",
       "  /**\n",
       "   * Handle when an output is cleared or removed\n",
       "   */\n",
       "  function handleClearOutput(event, handle) {\n",
       "    var cell = handle.cell;\n",
       "\n",
       "    var id = cell.output_area._bokeh_element_id;\n",
       "    var server_id = cell.output_area._bokeh_server_id;\n",
       "    // Clean up Bokeh references\n",
       "    if (id != null && id in Bokeh.index) {\n",
       "      Bokeh.index[id].model.document.clear();\n",
       "      delete Bokeh.index[id];\n",
       "    }\n",
       "\n",
       "    if (server_id !== undefined) {\n",
       "      // Clean up Bokeh references\n",
       "      var cmd = \"from bokeh.io.state import curstate; print(curstate().uuid_to_server['\" + server_id + \"'].get_sessions()[0].document.roots[0]._id)\";\n",
       "      cell.notebook.kernel.execute(cmd, {\n",
       "        iopub: {\n",
       "          output: function(msg) {\n",
       "            var id = msg.content.text.trim();\n",
       "            if (id in Bokeh.index) {\n",
       "              Bokeh.index[id].model.document.clear();\n",
       "              delete Bokeh.index[id];\n",
       "            }\n",
       "          }\n",
       "        }\n",
       "      });\n",
       "      // Destroy server and session\n",
       "      var cmd = \"import bokeh.io.notebook as ion; ion.destroy_server('\" + server_id + \"')\";\n",
       "      cell.notebook.kernel.execute(cmd);\n",
       "    }\n",
       "  }\n",
       "\n",
       "  /**\n",
       "   * Handle when a new output is added\n",
       "   */\n",
       "  function handleAddOutput(event, handle) {\n",
       "    var output_area = handle.output_area;\n",
       "    var output = handle.output;\n",
       "\n",
       "    // limit handleAddOutput to display_data with EXEC_MIME_TYPE content only\n",
       "    if ((output.output_type != \"display_data\") || (!output.data.hasOwnProperty(EXEC_MIME_TYPE))) {\n",
       "      return\n",
       "    }\n",
       "\n",
       "    var toinsert = output_area.element.find(\".\" + CLASS_NAME.split(' ')[0]);\n",
       "\n",
       "    if (output.metadata[EXEC_MIME_TYPE][\"id\"] !== undefined) {\n",
       "      toinsert[toinsert.length - 1].firstChild.textContent = output.data[JS_MIME_TYPE];\n",
       "      // store reference to embed id on output_area\n",
       "      output_area._bokeh_element_id = output.metadata[EXEC_MIME_TYPE][\"id\"];\n",
       "    }\n",
       "    if (output.metadata[EXEC_MIME_TYPE][\"server_id\"] !== undefined) {\n",
       "      var bk_div = document.createElement(\"div\");\n",
       "      bk_div.innerHTML = output.data[HTML_MIME_TYPE];\n",
       "      var script_attrs = bk_div.children[0].attributes;\n",
       "      for (var i = 0; i < script_attrs.length; i++) {\n",
       "        toinsert[toinsert.length - 1].firstChild.setAttribute(script_attrs[i].name, script_attrs[i].value);\n",
       "      }\n",
       "      // store reference to server id on output_area\n",
       "      output_area._bokeh_server_id = output.metadata[EXEC_MIME_TYPE][\"server_id\"];\n",
       "    }\n",
       "  }\n",
       "\n",
       "  function register_renderer(events, OutputArea) {\n",
       "\n",
       "    function append_mime(data, metadata, element) {\n",
       "      // create a DOM node to render to\n",
       "      var toinsert = this.create_output_subarea(\n",
       "        metadata,\n",
       "        CLASS_NAME,\n",
       "        EXEC_MIME_TYPE\n",
       "      );\n",
       "      this.keyboard_manager.register_events(toinsert);\n",
       "      // Render to node\n",
       "      var props = {data: data, metadata: metadata[EXEC_MIME_TYPE]};\n",
       "      render(props, toinsert[toinsert.length - 1]);\n",
       "      element.append(toinsert);\n",
       "      return toinsert\n",
       "    }\n",
       "\n",
       "    /* Handle when an output is cleared or removed */\n",
       "    events.on('clear_output.CodeCell', handleClearOutput);\n",
       "    events.on('delete.Cell', handleClearOutput);\n",
       "\n",
       "    /* Handle when a new output is added */\n",
       "    events.on('output_added.OutputArea', handleAddOutput);\n",
       "\n",
       "    /**\n",
       "     * Register the mime type and append_mime function with output_area\n",
       "     */\n",
       "    OutputArea.prototype.register_mime_type(EXEC_MIME_TYPE, append_mime, {\n",
       "      /* Is output safe? */\n",
       "      safe: true,\n",
       "      /* Index of renderer in `output_area.display_order` */\n",
       "      index: 0\n",
       "    });\n",
       "  }\n",
       "\n",
       "  // register the mime type if in Jupyter Notebook environment and previously unregistered\n",
       "  if (root.Jupyter !== undefined) {\n",
       "    var events = require('base/js/events');\n",
       "    var OutputArea = require('notebook/js/outputarea').OutputArea;\n",
       "\n",
       "    if (OutputArea.prototype.mime_types().indexOf(EXEC_MIME_TYPE) == -1) {\n",
       "      register_renderer(events, OutputArea);\n",
       "    }\n",
       "  }\n",
       "\n",
       "  \n",
       "  if (typeof (root._bokeh_timeout) === \"undefined\" || force === true) {\n",
       "    root._bokeh_timeout = Date.now() + 5000;\n",
       "    root._bokeh_failed_load = false;\n",
       "  }\n",
       "\n",
       "  var NB_LOAD_WARNING = {'data': {'text/html':\n",
       "     \"<div style='background-color: #fdd'>\\n\"+\n",
       "     \"<p>\\n\"+\n",
       "     \"BokehJS does not appear to have successfully loaded. If loading BokehJS from CDN, this \\n\"+\n",
       "     \"may be due to a slow or bad network connection. Possible fixes:\\n\"+\n",
       "     \"</p>\\n\"+\n",
       "     \"<ul>\\n\"+\n",
       "     \"<li>re-rerun `output_notebook()` to attempt to load from CDN again, or</li>\\n\"+\n",
       "     \"<li>use INLINE resources instead, as so:</li>\\n\"+\n",
       "     \"</ul>\\n\"+\n",
       "     \"<code>\\n\"+\n",
       "     \"from bokeh.resources import INLINE\\n\"+\n",
       "     \"output_notebook(resources=INLINE)\\n\"+\n",
       "     \"</code>\\n\"+\n",
       "     \"</div>\"}};\n",
       "\n",
       "  function display_loaded() {\n",
       "    var el = document.getElementById(\"8d98bed6-4f00-4885-8357-ca6b9de85cdd\");\n",
       "    if (el != null) {\n",
       "      el.textContent = \"BokehJS is loading...\";\n",
       "    }\n",
       "    if (root.Bokeh !== undefined) {\n",
       "      if (el != null) {\n",
       "        el.textContent = \"BokehJS \" + root.Bokeh.version + \" successfully loaded.\";\n",
       "      }\n",
       "    } else if (Date.now() < root._bokeh_timeout) {\n",
       "      setTimeout(display_loaded, 100)\n",
       "    }\n",
       "  }\n",
       "\n",
       "\n",
       "  function run_callbacks() {\n",
       "    try {\n",
       "      root._bokeh_onload_callbacks.forEach(function(callback) { callback() });\n",
       "    }\n",
       "    finally {\n",
       "      delete root._bokeh_onload_callbacks\n",
       "    }\n",
       "    console.info(\"Bokeh: all callbacks have finished\");\n",
       "  }\n",
       "\n",
       "  function load_libs(js_urls, callback) {\n",
       "    root._bokeh_onload_callbacks.push(callback);\n",
       "    if (root._bokeh_is_loading > 0) {\n",
       "      console.log(\"Bokeh: BokehJS is being loaded, scheduling callback at\", now());\n",
       "      return null;\n",
       "    }\n",
       "    if (js_urls == null || js_urls.length === 0) {\n",
       "      run_callbacks();\n",
       "      return null;\n",
       "    }\n",
       "    console.log(\"Bokeh: BokehJS not loaded, scheduling load and callback at\", now());\n",
       "    root._bokeh_is_loading = js_urls.length;\n",
       "    for (var i = 0; i < js_urls.length; i++) {\n",
       "      var url = js_urls[i];\n",
       "      var s = document.createElement('script');\n",
       "      s.src = url;\n",
       "      s.async = false;\n",
       "      s.onreadystatechange = s.onload = function() {\n",
       "        root._bokeh_is_loading--;\n",
       "        if (root._bokeh_is_loading === 0) {\n",
       "          console.log(\"Bokeh: all BokehJS libraries loaded\");\n",
       "          run_callbacks()\n",
       "        }\n",
       "      };\n",
       "      s.onerror = function() {\n",
       "        console.warn(\"failed to load library \" + url);\n",
       "      };\n",
       "      console.log(\"Bokeh: injecting script tag for BokehJS library: \", url);\n",
       "      document.getElementsByTagName(\"head\")[0].appendChild(s);\n",
       "    }\n",
       "  };var element = document.getElementById(\"8d98bed6-4f00-4885-8357-ca6b9de85cdd\");\n",
       "  if (element == null) {\n",
       "    console.log(\"Bokeh: ERROR: autoload.js configured with elementid '8d98bed6-4f00-4885-8357-ca6b9de85cdd' but no matching script tag was found. \")\n",
       "    return false;\n",
       "  }\n",
       "\n",
       "  var js_urls = [\"https://cdn.pydata.org/bokeh/release/bokeh-0.13.0.min.js\", \"https://cdn.pydata.org/bokeh/release/bokeh-widgets-0.13.0.min.js\", \"https://cdn.pydata.org/bokeh/release/bokeh-tables-0.13.0.min.js\", \"https://cdn.pydata.org/bokeh/release/bokeh-gl-0.13.0.min.js\"];\n",
       "\n",
       "  var inline_js = [\n",
       "    function(Bokeh) {\n",
       "      Bokeh.set_log_level(\"info\");\n",
       "    },\n",
       "    \n",
       "    function(Bokeh) {\n",
       "      \n",
       "    },\n",
       "    function(Bokeh) {\n",
       "      console.log(\"Bokeh: injecting CSS: https://cdn.pydata.org/bokeh/release/bokeh-0.13.0.min.css\");\n",
       "      Bokeh.embed.inject_css(\"https://cdn.pydata.org/bokeh/release/bokeh-0.13.0.min.css\");\n",
       "      console.log(\"Bokeh: injecting CSS: https://cdn.pydata.org/bokeh/release/bokeh-widgets-0.13.0.min.css\");\n",
       "      Bokeh.embed.inject_css(\"https://cdn.pydata.org/bokeh/release/bokeh-widgets-0.13.0.min.css\");\n",
       "      console.log(\"Bokeh: injecting CSS: https://cdn.pydata.org/bokeh/release/bokeh-tables-0.13.0.min.css\");\n",
       "      Bokeh.embed.inject_css(\"https://cdn.pydata.org/bokeh/release/bokeh-tables-0.13.0.min.css\");\n",
       "    }\n",
       "  ];\n",
       "\n",
       "  function run_inline_js() {\n",
       "    \n",
       "    if ((root.Bokeh !== undefined) || (force === true)) {\n",
       "      for (var i = 0; i < inline_js.length; i++) {\n",
       "        inline_js[i].call(root, root.Bokeh);\n",
       "      }if (force === true) {\n",
       "        display_loaded();\n",
       "      }} else if (Date.now() < root._bokeh_timeout) {\n",
       "      setTimeout(run_inline_js, 100);\n",
       "    } else if (!root._bokeh_failed_load) {\n",
       "      console.log(\"Bokeh: BokehJS failed to load within specified timeout.\");\n",
       "      root._bokeh_failed_load = true;\n",
       "    } else if (force !== true) {\n",
       "      var cell = $(document.getElementById(\"8d98bed6-4f00-4885-8357-ca6b9de85cdd\")).parents('.cell').data().cell;\n",
       "      cell.output_area.append_execute_result(NB_LOAD_WARNING)\n",
       "    }\n",
       "\n",
       "  }\n",
       "\n",
       "  if (root._bokeh_is_loading === 0) {\n",
       "    console.log(\"Bokeh: BokehJS loaded, going straight to plotting\");\n",
       "    run_inline_js();\n",
       "  } else {\n",
       "    load_libs(js_urls, function() {\n",
       "      console.log(\"Bokeh: BokehJS plotting callback run at\", now());\n",
       "      run_inline_js();\n",
       "    });\n",
       "  }\n",
       "}(window));"
      ],
      "application/vnd.bokehjs_load.v0+json": "\n(function(root) {\n  function now() {\n    return new Date();\n  }\n\n  var force = true;\n\n  if (typeof (root._bokeh_onload_callbacks) === \"undefined\" || force === true) {\n    root._bokeh_onload_callbacks = [];\n    root._bokeh_is_loading = undefined;\n  }\n\n  \n\n  \n  if (typeof (root._bokeh_timeout) === \"undefined\" || force === true) {\n    root._bokeh_timeout = Date.now() + 5000;\n    root._bokeh_failed_load = false;\n  }\n\n  var NB_LOAD_WARNING = {'data': {'text/html':\n     \"<div style='background-color: #fdd'>\\n\"+\n     \"<p>\\n\"+\n     \"BokehJS does not appear to have successfully loaded. If loading BokehJS from CDN, this \\n\"+\n     \"may be due to a slow or bad network connection. Possible fixes:\\n\"+\n     \"</p>\\n\"+\n     \"<ul>\\n\"+\n     \"<li>re-rerun `output_notebook()` to attempt to load from CDN again, or</li>\\n\"+\n     \"<li>use INLINE resources instead, as so:</li>\\n\"+\n     \"</ul>\\n\"+\n     \"<code>\\n\"+\n     \"from bokeh.resources import INLINE\\n\"+\n     \"output_notebook(resources=INLINE)\\n\"+\n     \"</code>\\n\"+\n     \"</div>\"}};\n\n  function display_loaded() {\n    var el = document.getElementById(\"8d98bed6-4f00-4885-8357-ca6b9de85cdd\");\n    if (el != null) {\n      el.textContent = \"BokehJS is loading...\";\n    }\n    if (root.Bokeh !== undefined) {\n      if (el != null) {\n        el.textContent = \"BokehJS \" + root.Bokeh.version + \" successfully loaded.\";\n      }\n    } else if (Date.now() < root._bokeh_timeout) {\n      setTimeout(display_loaded, 100)\n    }\n  }\n\n\n  function run_callbacks() {\n    try {\n      root._bokeh_onload_callbacks.forEach(function(callback) { callback() });\n    }\n    finally {\n      delete root._bokeh_onload_callbacks\n    }\n    console.info(\"Bokeh: all callbacks have finished\");\n  }\n\n  function load_libs(js_urls, callback) {\n    root._bokeh_onload_callbacks.push(callback);\n    if (root._bokeh_is_loading > 0) {\n      console.log(\"Bokeh: BokehJS is being loaded, scheduling callback at\", now());\n      return null;\n    }\n    if (js_urls == null || js_urls.length === 0) {\n      run_callbacks();\n      return null;\n    }\n    console.log(\"Bokeh: BokehJS not loaded, scheduling load and callback at\", now());\n    root._bokeh_is_loading = js_urls.length;\n    for (var i = 0; i < js_urls.length; i++) {\n      var url = js_urls[i];\n      var s = document.createElement('script');\n      s.src = url;\n      s.async = false;\n      s.onreadystatechange = s.onload = function() {\n        root._bokeh_is_loading--;\n        if (root._bokeh_is_loading === 0) {\n          console.log(\"Bokeh: all BokehJS libraries loaded\");\n          run_callbacks()\n        }\n      };\n      s.onerror = function() {\n        console.warn(\"failed to load library \" + url);\n      };\n      console.log(\"Bokeh: injecting script tag for BokehJS library: \", url);\n      document.getElementsByTagName(\"head\")[0].appendChild(s);\n    }\n  };var element = document.getElementById(\"8d98bed6-4f00-4885-8357-ca6b9de85cdd\");\n  if (element == null) {\n    console.log(\"Bokeh: ERROR: autoload.js configured with elementid '8d98bed6-4f00-4885-8357-ca6b9de85cdd' but no matching script tag was found. \")\n    return false;\n  }\n\n  var js_urls = [\"https://cdn.pydata.org/bokeh/release/bokeh-0.13.0.min.js\", \"https://cdn.pydata.org/bokeh/release/bokeh-widgets-0.13.0.min.js\", \"https://cdn.pydata.org/bokeh/release/bokeh-tables-0.13.0.min.js\", \"https://cdn.pydata.org/bokeh/release/bokeh-gl-0.13.0.min.js\"];\n\n  var inline_js = [\n    function(Bokeh) {\n      Bokeh.set_log_level(\"info\");\n    },\n    \n    function(Bokeh) {\n      \n    },\n    function(Bokeh) {\n      console.log(\"Bokeh: injecting CSS: https://cdn.pydata.org/bokeh/release/bokeh-0.13.0.min.css\");\n      Bokeh.embed.inject_css(\"https://cdn.pydata.org/bokeh/release/bokeh-0.13.0.min.css\");\n      console.log(\"Bokeh: injecting CSS: https://cdn.pydata.org/bokeh/release/bokeh-widgets-0.13.0.min.css\");\n      Bokeh.embed.inject_css(\"https://cdn.pydata.org/bokeh/release/bokeh-widgets-0.13.0.min.css\");\n      console.log(\"Bokeh: injecting CSS: https://cdn.pydata.org/bokeh/release/bokeh-tables-0.13.0.min.css\");\n      Bokeh.embed.inject_css(\"https://cdn.pydata.org/bokeh/release/bokeh-tables-0.13.0.min.css\");\n    }\n  ];\n\n  function run_inline_js() {\n    \n    if ((root.Bokeh !== undefined) || (force === true)) {\n      for (var i = 0; i < inline_js.length; i++) {\n        inline_js[i].call(root, root.Bokeh);\n      }if (force === true) {\n        display_loaded();\n      }} else if (Date.now() < root._bokeh_timeout) {\n      setTimeout(run_inline_js, 100);\n    } else if (!root._bokeh_failed_load) {\n      console.log(\"Bokeh: BokehJS failed to load within specified timeout.\");\n      root._bokeh_failed_load = true;\n    } else if (force !== true) {\n      var cell = $(document.getElementById(\"8d98bed6-4f00-4885-8357-ca6b9de85cdd\")).parents('.cell').data().cell;\n      cell.output_area.append_execute_result(NB_LOAD_WARNING)\n    }\n\n  }\n\n  if (root._bokeh_is_loading === 0) {\n    console.log(\"Bokeh: BokehJS loaded, going straight to plotting\");\n    run_inline_js();\n  } else {\n    load_libs(js_urls, function() {\n      console.log(\"Bokeh: BokehJS plotting callback run at\", now());\n      run_inline_js();\n    });\n  }\n}(window));"
     },
     "metadata": {},
     "output_type": "display_data"
    }
   ],
   "source": [
    "from bokeh.io import output_notebook, show\n",
    "from bokeh.plotting import figure\n",
    "output_notebook()"
   ]
  },
  {
   "cell_type": "markdown",
   "metadata": {},
   "source": [
    "Now that we know from the previous chapter how multiple plots can be placed together in a layout, we can start to look at how different plots can be linked togeher, or how plots can be linked to widgets. "
   ]
  },
  {
   "cell_type": "markdown",
   "metadata": {
    "collapsed": true,
    "slideshow": {
     "slide_type": "slide"
    }
   },
   "source": [
    "# Linked Interactions\n",
    "\n",
    "It is possible to link various interactions between different Bokeh plots. For instance, the ranges of two (or more) plots can be linked, so that when one of the plots is panned (or zoomed, or otherwise has its range changed) the other plots will update in unison. It is also possible to link selections between two plots, so that when items are selected on one plot, the corresponding items on the second plot also become selected. "
   ]
  },
  {
   "cell_type": "markdown",
   "metadata": {},
   "source": [
    "## Linked panning\n",
    "\n",
    "Linked panning (when multiple plots have ranges that stay in sync) is simple to spell with Bokeh. You simply share the appropriate range objects between two (or more) plots. The example below shows how to accomplish this by linking the ranges of three plots in various ways:"
   ]
  },
  {
   "cell_type": "code",
   "execution_count": 8,
   "metadata": {
    "slideshow": {
     "slide_type": "subslide"
    }
   },
   "outputs": [
    {
     "data": {
      "text/html": [
       "\n",
       "\n",
       "\n",
       "\n",
       "\n",
       "\n",
       "  <div class=\"bk-root\" id=\"c6155ba2-a533-4db5-a1b3-721f609d397f\"></div>\n"
      ]
     },
     "metadata": {},
     "output_type": "display_data"
    },
    {
     "data": {
      "application/javascript": [
       "(function(root) {\n",
       "  function embed_document(root) {\n",
       "    \n",
       "  var docs_json = {\"27026234-d2a8-42f8-8d40-84e555e5914d\":{\"roots\":{\"references\":[{\"attributes\":{},\"id\":\"70aa3d5d-ad3f-43bc-8534-d32fbe4bb90e\",\"type\":\"UnionRenderers\"},{\"attributes\":{},\"id\":\"a8973000-78a6-41ec-b170-5a4241e09e13\",\"type\":\"BasicTickFormatter\"},{\"attributes\":{\"formatter\":{\"id\":\"90b50239-6638-4a24-8774-9505c2b8833a\",\"type\":\"BasicTickFormatter\"},\"plot\":{\"id\":\"5f083ca5-3330-4188-b69a-5f1f8d960dc7\",\"subtype\":\"Figure\",\"type\":\"Plot\"},\"ticker\":{\"id\":\"b8a8e0d5-b413-4892-9716-cae6fefd4149\",\"type\":\"BasicTicker\"}},\"id\":\"3616b6b6-30b9-49ae-a268-ca425c0bd73a\",\"type\":\"LinearAxis\"},{\"attributes\":{\"callback\":null,\"data\":{\"x\":[0,1,2,3,4,5,6,7,8,9,10],\"y\":[10,9,8,7,6,5,4,3,2,1,0]},\"selected\":{\"id\":\"cfc7292a-58c8-4c84-a5e5-31e659ee9036\",\"type\":\"Selection\"},\"selection_policy\":{\"id\":\"461eff59-9728-4506-b4cf-aab00fd9d988\",\"type\":\"UnionRenderers\"}},\"id\":\"d1e35b0b-3d24-446f-8ed4-d68cd433218e\",\"type\":\"ColumnDataSource\"},{\"attributes\":{\"data_source\":{\"id\":\"d1e35b0b-3d24-446f-8ed4-d68cd433218e\",\"type\":\"ColumnDataSource\"},\"glyph\":{\"id\":\"90e2a8c6-138e-44eb-b1be-94c3b66349f2\",\"type\":\"Triangle\"},\"hover_glyph\":null,\"muted_glyph\":null,\"nonselection_glyph\":{\"id\":\"2d2814df-a5c5-45e2-966b-1b2b10539746\",\"type\":\"Triangle\"},\"selection_glyph\":null,\"view\":{\"id\":\"46f893f1-6c3e-4b93-b1c5-0e0cec232d6e\",\"type\":\"CDSView\"}},\"id\":\"7e735e52-3a41-432d-8ffc-f312597c7634\",\"type\":\"GlyphRenderer\"},{\"attributes\":{\"below\":[{\"id\":\"3825682f-f126-46ab-940a-225c111000c7\",\"type\":\"LinearAxis\"}],\"left\":[{\"id\":\"2542c890-f3b8-4465-b7fb-471085db2331\",\"type\":\"LinearAxis\"}],\"plot_height\":250,\"plot_width\":250,\"renderers\":[{\"id\":\"3825682f-f126-46ab-940a-225c111000c7\",\"type\":\"LinearAxis\"},{\"id\":\"cab0b506-db32-4f29-b7a7-166d2d6d553d\",\"type\":\"Grid\"},{\"id\":\"2542c890-f3b8-4465-b7fb-471085db2331\",\"type\":\"LinearAxis\"},{\"id\":\"8201fd55-4138-4328-a601-b40313be325c\",\"type\":\"Grid\"},{\"id\":\"dd2ffda9-32e1-4515-88f5-0ce77dabf789\",\"type\":\"GlyphRenderer\"}],\"title\":{\"id\":\"318aa9d2-4f3a-4988-ad0c-f0611b6b37c5\",\"type\":\"Title\"},\"toolbar\":{\"id\":\"d8aab7c7-6445-4c82-b58b-d1a13795875f\",\"type\":\"Toolbar\"},\"toolbar_location\":null,\"x_range\":{\"id\":\"a1f3eef4-8e0b-4f91-8ccc-6d37f080a903\",\"type\":\"DataRange1d\"},\"x_scale\":{\"id\":\"2a4a6c01-83fe-46d4-90e1-d21908927dd7\",\"type\":\"LinearScale\"},\"y_range\":{\"id\":\"cdfe751f-e91b-4d2e-9f53-b3c219fdaf6a\",\"type\":\"DataRange1d\"},\"y_scale\":{\"id\":\"f174825f-bab3-4a7e-b335-3f454ede5467\",\"type\":\"LinearScale\"}},\"id\":\"7ef0856c-81ee-4f64-b1ac-062d409461b7\",\"subtype\":\"Figure\",\"type\":\"Plot\"},{\"attributes\":{},\"id\":\"544b2e25-14cd-419b-9b3f-883d052aaf6b\",\"type\":\"PanTool\"},{\"attributes\":{\"fill_color\":{\"value\":\"olive\"},\"line_color\":{\"value\":\"olive\"},\"size\":{\"units\":\"screen\",\"value\":10},\"x\":{\"field\":\"x\"},\"y\":{\"field\":\"y\"}},\"id\":\"76846f4e-2b56-40a9-9ba6-f0f9e7816611\",\"type\":\"Square\"},{\"attributes\":{\"fill_alpha\":{\"value\":0.1},\"fill_color\":{\"value\":\"#1f77b4\"},\"line_alpha\":{\"value\":0.1},\"line_color\":{\"value\":\"#1f77b4\"},\"size\":{\"units\":\"screen\",\"value\":10},\"x\":{\"field\":\"x\"},\"y\":{\"field\":\"y\"}},\"id\":\"de82f48d-13ad-4fe8-8973-688b2de848ce\",\"type\":\"Square\"},{\"attributes\":{\"tools\":[{\"id\":\"6a78f645-d17a-43ab-bffd-c099857584a5\",\"type\":\"PanTool\"},{\"id\":\"1d375b52-3862-4ebb-8d4d-871bbd16b8eb\",\"type\":\"WheelZoomTool\"},{\"id\":\"544b2e25-14cd-419b-9b3f-883d052aaf6b\",\"type\":\"PanTool\"},{\"id\":\"ba406577-a053-4092-9431-3bde4c32a8a5\",\"type\":\"WheelZoomTool\"},{\"id\":\"d0beaa42-4974-467d-a6e5-df44c0f7ce8d\",\"type\":\"PanTool\"},{\"id\":\"0df5f6c7-efe2-4864-92fd-e1179e8e8dbe\",\"type\":\"WheelZoomTool\"}]},\"id\":\"d6b6922b-742a-4bba-975e-7f39b18e45c1\",\"type\":\"ProxyToolbar\"},{\"attributes\":{\"plot\":null,\"text\":\"\"},\"id\":\"fe2e9c32-29ea-4b3e-949c-7adc6a5c9f94\",\"type\":\"Title\"},{\"attributes\":{},\"id\":\"96b1d5a3-1acf-458b-823c-1a3377bbae27\",\"type\":\"LinearScale\"},{\"attributes\":{},\"id\":\"babc8d7a-9b6b-4d6d-8fde-2105765fa92a\",\"type\":\"BasicTicker\"},{\"attributes\":{\"dimension\":1,\"plot\":{\"id\":\"5f083ca5-3330-4188-b69a-5f1f8d960dc7\",\"subtype\":\"Figure\",\"type\":\"Plot\"},\"ticker\":{\"id\":\"4ec67c97-4e42-42de-8549-26c03dc6b3d8\",\"type\":\"BasicTicker\"}},\"id\":\"ba2a7590-ed18-4f30-9af9-b1be3dae9e71\",\"type\":\"Grid\"},{\"attributes\":{},\"id\":\"140cc545-7361-452d-b25a-9ed7bd52a094\",\"type\":\"LinearScale\"},{\"attributes\":{\"callback\":null,\"data\":{\"x\":[0,1,2,3,4,5,6,7,8,9,10],\"y\":[5,4,3,2,1,0,1,2,3,4,5]},\"selected\":{\"id\":\"4521248a-9cf7-40d0-a4ac-349bed9707ab\",\"type\":\"Selection\"},\"selection_policy\":{\"id\":\"b5f0932d-6d8a-4b2d-a273-43c399bd2cde\",\"type\":\"UnionRenderers\"}},\"id\":\"ac723dd0-5679-4ccc-832c-6c18358bf7f1\",\"type\":\"ColumnDataSource\"},{\"attributes\":{\"formatter\":{\"id\":\"0f6750ec-27dc-4bab-bd7d-411e47a0ce32\",\"type\":\"BasicTickFormatter\"},\"plot\":{\"id\":\"7ef0856c-81ee-4f64-b1ac-062d409461b7\",\"subtype\":\"Figure\",\"type\":\"Plot\"},\"ticker\":{\"id\":\"ebe01db4-3951-4aa0-b067-d083f8796958\",\"type\":\"BasicTicker\"}},\"id\":\"2542c890-f3b8-4465-b7fb-471085db2331\",\"type\":\"LinearAxis\"},{\"attributes\":{},\"id\":\"9421d4e5-7c27-41fd-b7a1-dafc7cb5b672\",\"type\":\"Selection\"},{\"attributes\":{},\"id\":\"0df5f6c7-efe2-4864-92fd-e1179e8e8dbe\",\"type\":\"WheelZoomTool\"},{\"attributes\":{\"plot\":{\"id\":\"7ef0856c-81ee-4f64-b1ac-062d409461b7\",\"subtype\":\"Figure\",\"type\":\"Plot\"},\"ticker\":{\"id\":\"69653be8-3921-4077-88a9-3abfbe57985a\",\"type\":\"BasicTicker\"}},\"id\":\"cab0b506-db32-4f29-b7a7-166d2d6d553d\",\"type\":\"Grid\"},{\"attributes\":{\"data_source\":{\"id\":\"ac723dd0-5679-4ccc-832c-6c18358bf7f1\",\"type\":\"ColumnDataSource\"},\"glyph\":{\"id\":\"76846f4e-2b56-40a9-9ba6-f0f9e7816611\",\"type\":\"Square\"},\"hover_glyph\":null,\"muted_glyph\":null,\"nonselection_glyph\":{\"id\":\"de82f48d-13ad-4fe8-8973-688b2de848ce\",\"type\":\"Square\"},\"selection_glyph\":null,\"view\":{\"id\":\"a784691e-06c4-4703-863e-0f0546508ae6\",\"type\":\"CDSView\"}},\"id\":\"dd2ffda9-32e1-4515-88f5-0ce77dabf789\",\"type\":\"GlyphRenderer\"},{\"attributes\":{\"formatter\":{\"id\":\"a8973000-78a6-41ec-b170-5a4241e09e13\",\"type\":\"BasicTickFormatter\"},\"plot\":{\"id\":\"7ef0856c-81ee-4f64-b1ac-062d409461b7\",\"subtype\":\"Figure\",\"type\":\"Plot\"},\"ticker\":{\"id\":\"69653be8-3921-4077-88a9-3abfbe57985a\",\"type\":\"BasicTicker\"}},\"id\":\"3825682f-f126-46ab-940a-225c111000c7\",\"type\":\"LinearAxis\"},{\"attributes\":{\"callback\":null},\"id\":\"cdfe751f-e91b-4d2e-9f53-b3c219fdaf6a\",\"type\":\"DataRange1d\"},{\"attributes\":{\"active_drag\":\"auto\",\"active_inspect\":\"auto\",\"active_multi\":null,\"active_scroll\":\"auto\",\"active_tap\":\"auto\",\"tools\":[{\"id\":\"d0beaa42-4974-467d-a6e5-df44c0f7ce8d\",\"type\":\"PanTool\"},{\"id\":\"0df5f6c7-efe2-4864-92fd-e1179e8e8dbe\",\"type\":\"WheelZoomTool\"}]},\"id\":\"d8aab7c7-6445-4c82-b58b-d1a13795875f\",\"type\":\"Toolbar\"},{\"attributes\":{\"formatter\":{\"id\":\"f1e50f87-4c5a-47cf-8a8a-0e9a470d851d\",\"type\":\"BasicTickFormatter\"},\"plot\":{\"id\":\"d3c98dd6-9479-44bc-9dd9-6b26006ffd0d\",\"subtype\":\"Figure\",\"type\":\"Plot\"},\"ticker\":{\"id\":\"babc8d7a-9b6b-4d6d-8fde-2105765fa92a\",\"type\":\"BasicTicker\"}},\"id\":\"91a66070-7998-4073-aa40-caa5f84a7f06\",\"type\":\"LinearAxis\"},{\"attributes\":{},\"id\":\"461eff59-9728-4506-b4cf-aab00fd9d988\",\"type\":\"UnionRenderers\"},{\"attributes\":{\"callback\":null},\"id\":\"bda20502-5862-4ad5-80f6-e627cdae6cd8\",\"type\":\"DataRange1d\"},{\"attributes\":{},\"id\":\"18be0ef7-d459-4194-a5cc-bac061d6fea8\",\"type\":\"BasicTickFormatter\"},{\"attributes\":{\"data_source\":{\"id\":\"14ce15f1-64f6-40e7-9416-795b4b08b0a0\",\"type\":\"ColumnDataSource\"},\"glyph\":{\"id\":\"c67a5ded-aaee-410b-8a38-a4d48cbd1d6e\",\"type\":\"Circle\"},\"hover_glyph\":null,\"muted_glyph\":null,\"nonselection_glyph\":{\"id\":\"94786d3b-1740-490d-bbec-e05cfbbbf477\",\"type\":\"Circle\"},\"selection_glyph\":null,\"view\":{\"id\":\"fa0d2433-88b9-4228-836e-d400a1302473\",\"type\":\"CDSView\"}},\"id\":\"7cdd33d0-9344-472d-877e-43ed87b9cf54\",\"type\":\"GlyphRenderer\"},{\"attributes\":{},\"id\":\"f1e50f87-4c5a-47cf-8a8a-0e9a470d851d\",\"type\":\"BasicTickFormatter\"},{\"attributes\":{},\"id\":\"1d375b52-3862-4ebb-8d4d-871bbd16b8eb\",\"type\":\"WheelZoomTool\"},{\"attributes\":{\"active_drag\":\"auto\",\"active_inspect\":\"auto\",\"active_multi\":null,\"active_scroll\":\"auto\",\"active_tap\":\"auto\",\"tools\":[{\"id\":\"6a78f645-d17a-43ab-bffd-c099857584a5\",\"type\":\"PanTool\"},{\"id\":\"1d375b52-3862-4ebb-8d4d-871bbd16b8eb\",\"type\":\"WheelZoomTool\"}]},\"id\":\"51fc71c9-8ee1-4d15-9586-7233767de0fd\",\"type\":\"Toolbar\"},{\"attributes\":{},\"id\":\"2a4a6c01-83fe-46d4-90e1-d21908927dd7\",\"type\":\"LinearScale\"},{\"attributes\":{},\"id\":\"3412c3a3-964e-4847-90c6-ef38b572fe7a\",\"type\":\"LinearScale\"},{\"attributes\":{\"active_drag\":\"auto\",\"active_inspect\":\"auto\",\"active_multi\":null,\"active_scroll\":\"auto\",\"active_tap\":\"auto\",\"tools\":[{\"id\":\"544b2e25-14cd-419b-9b3f-883d052aaf6b\",\"type\":\"PanTool\"},{\"id\":\"ba406577-a053-4092-9431-3bde4c32a8a5\",\"type\":\"WheelZoomTool\"}]},\"id\":\"17d68c47-0ed8-46b4-8c2e-59eec6e8e451\",\"type\":\"Toolbar\"},{\"attributes\":{\"below\":[{\"id\":\"312c795c-5e5d-439e-9ba9-9dda17a02eee\",\"type\":\"LinearAxis\"}],\"left\":[{\"id\":\"91a66070-7998-4073-aa40-caa5f84a7f06\",\"type\":\"LinearAxis\"}],\"plot_height\":250,\"plot_width\":250,\"renderers\":[{\"id\":\"312c795c-5e5d-439e-9ba9-9dda17a02eee\",\"type\":\"LinearAxis\"},{\"id\":\"42fa67c0-4eaf-4453-a7e8-f82d68aa4f03\",\"type\":\"Grid\"},{\"id\":\"91a66070-7998-4073-aa40-caa5f84a7f06\",\"type\":\"LinearAxis\"},{\"id\":\"4b367f95-edb1-490d-8864-54d6d8e62c8d\",\"type\":\"Grid\"},{\"id\":\"7e735e52-3a41-432d-8ffc-f312597c7634\",\"type\":\"GlyphRenderer\"}],\"title\":{\"id\":\"adcf64ff-c66a-49ea-b90f-0cc8ff6d51aa\",\"type\":\"Title\"},\"toolbar\":{\"id\":\"17d68c47-0ed8-46b4-8c2e-59eec6e8e451\",\"type\":\"Toolbar\"},\"toolbar_location\":null,\"x_range\":{\"id\":\"a1f3eef4-8e0b-4f91-8ccc-6d37f080a903\",\"type\":\"DataRange1d\"},\"x_scale\":{\"id\":\"aaf6a38a-757a-4aa4-9f53-59117219506c\",\"type\":\"LinearScale\"},\"y_range\":{\"id\":\"bda20502-5862-4ad5-80f6-e627cdae6cd8\",\"type\":\"DataRange1d\"},\"y_scale\":{\"id\":\"96b1d5a3-1acf-458b-823c-1a3377bbae27\",\"type\":\"LinearScale\"}},\"id\":\"d3c98dd6-9479-44bc-9dd9-6b26006ffd0d\",\"subtype\":\"Figure\",\"type\":\"Plot\"},{\"attributes\":{},\"id\":\"bab80744-b8e5-4fa1-b8fe-a8404db8a94f\",\"type\":\"BasicTickFormatter\"},{\"attributes\":{\"formatter\":{\"id\":\"18be0ef7-d459-4194-a5cc-bac061d6fea8\",\"type\":\"BasicTickFormatter\"},\"plot\":{\"id\":\"d3c98dd6-9479-44bc-9dd9-6b26006ffd0d\",\"subtype\":\"Figure\",\"type\":\"Plot\"},\"ticker\":{\"id\":\"a885d5c5-5118-4e99-b0d7-3667c09c214f\",\"type\":\"BasicTicker\"}},\"id\":\"312c795c-5e5d-439e-9ba9-9dda17a02eee\",\"type\":\"LinearAxis\"},{\"attributes\":{},\"id\":\"ba406577-a053-4092-9431-3bde4c32a8a5\",\"type\":\"WheelZoomTool\"},{\"attributes\":{},\"id\":\"a885d5c5-5118-4e99-b0d7-3667c09c214f\",\"type\":\"BasicTicker\"},{\"attributes\":{},\"id\":\"b8a8e0d5-b413-4892-9716-cae6fefd4149\",\"type\":\"BasicTicker\"},{\"attributes\":{},\"id\":\"69653be8-3921-4077-88a9-3abfbe57985a\",\"type\":\"BasicTicker\"},{\"attributes\":{\"source\":{\"id\":\"14ce15f1-64f6-40e7-9416-795b4b08b0a0\",\"type\":\"ColumnDataSource\"}},\"id\":\"fa0d2433-88b9-4228-836e-d400a1302473\",\"type\":\"CDSView\"},{\"attributes\":{\"plot\":null,\"text\":\"\"},\"id\":\"adcf64ff-c66a-49ea-b90f-0cc8ff6d51aa\",\"type\":\"Title\"},{\"attributes\":{\"source\":{\"id\":\"ac723dd0-5679-4ccc-832c-6c18358bf7f1\",\"type\":\"ColumnDataSource\"}},\"id\":\"a784691e-06c4-4703-863e-0f0546508ae6\",\"type\":\"CDSView\"},{\"attributes\":{\"source\":{\"id\":\"d1e35b0b-3d24-446f-8ed4-d68cd433218e\",\"type\":\"ColumnDataSource\"}},\"id\":\"46f893f1-6c3e-4b93-b1c5-0e0cec232d6e\",\"type\":\"CDSView\"},{\"attributes\":{\"dimension\":1,\"plot\":{\"id\":\"d3c98dd6-9479-44bc-9dd9-6b26006ffd0d\",\"subtype\":\"Figure\",\"type\":\"Plot\"},\"ticker\":{\"id\":\"babc8d7a-9b6b-4d6d-8fde-2105765fa92a\",\"type\":\"BasicTicker\"}},\"id\":\"4b367f95-edb1-490d-8864-54d6d8e62c8d\",\"type\":\"Grid\"},{\"attributes\":{},\"id\":\"90b50239-6638-4a24-8774-9505c2b8833a\",\"type\":\"BasicTickFormatter\"},{\"attributes\":{},\"id\":\"ebe01db4-3951-4aa0-b067-d083f8796958\",\"type\":\"BasicTicker\"},{\"attributes\":{\"fill_alpha\":{\"value\":0.1},\"fill_color\":{\"value\":\"#1f77b4\"},\"line_alpha\":{\"value\":0.1},\"line_color\":{\"value\":\"#1f77b4\"},\"size\":{\"units\":\"screen\",\"value\":10},\"x\":{\"field\":\"x\"},\"y\":{\"field\":\"y\"}},\"id\":\"2d2814df-a5c5-45e2-966b-1b2b10539746\",\"type\":\"Triangle\"},{\"attributes\":{\"plot\":null,\"text\":\"\"},\"id\":\"318aa9d2-4f3a-4988-ad0c-f0611b6b37c5\",\"type\":\"Title\"},{\"attributes\":{\"fill_color\":{\"value\":\"navy\"},\"line_color\":{\"value\":\"navy\"},\"size\":{\"units\":\"screen\",\"value\":10},\"x\":{\"field\":\"x\"},\"y\":{\"field\":\"y\"}},\"id\":\"c67a5ded-aaee-410b-8a38-a4d48cbd1d6e\",\"type\":\"Circle\"},{\"attributes\":{\"dimension\":1,\"plot\":{\"id\":\"7ef0856c-81ee-4f64-b1ac-062d409461b7\",\"subtype\":\"Figure\",\"type\":\"Plot\"},\"ticker\":{\"id\":\"ebe01db4-3951-4aa0-b067-d083f8796958\",\"type\":\"BasicTicker\"}},\"id\":\"8201fd55-4138-4328-a601-b40313be325c\",\"type\":\"Grid\"},{\"attributes\":{},\"id\":\"4ec67c97-4e42-42de-8549-26c03dc6b3d8\",\"type\":\"BasicTicker\"},{\"attributes\":{\"toolbar\":{\"id\":\"d6b6922b-742a-4bba-975e-7f39b18e45c1\",\"type\":\"ProxyToolbar\"},\"toolbar_location\":\"above\"},\"id\":\"7bc13650-6034-4bf3-8597-a43ede3cbbe0\",\"type\":\"ToolbarBox\"},{\"attributes\":{\"children\":[{\"id\":\"5211d220-9197-49ec-ab81-ba1ccce627b2\",\"type\":\"Row\"}]},\"id\":\"5f6fef6f-013e-43a4-90ef-bf13be6d9bfe\",\"type\":\"Column\"},{\"attributes\":{},\"id\":\"4521248a-9cf7-40d0-a4ac-349bed9707ab\",\"type\":\"Selection\"},{\"attributes\":{\"children\":[{\"id\":\"7bc13650-6034-4bf3-8597-a43ede3cbbe0\",\"type\":\"ToolbarBox\"},{\"id\":\"5f6fef6f-013e-43a4-90ef-bf13be6d9bfe\",\"type\":\"Column\"}]},\"id\":\"62d3d7b8-0dc2-461b-addc-188ed86638fc\",\"type\":\"Column\"},{\"attributes\":{\"callback\":null},\"id\":\"a1f3eef4-8e0b-4f91-8ccc-6d37f080a903\",\"type\":\"DataRange1d\"},{\"attributes\":{\"plot\":{\"id\":\"d3c98dd6-9479-44bc-9dd9-6b26006ffd0d\",\"subtype\":\"Figure\",\"type\":\"Plot\"},\"ticker\":{\"id\":\"a885d5c5-5118-4e99-b0d7-3667c09c214f\",\"type\":\"BasicTicker\"}},\"id\":\"42fa67c0-4eaf-4453-a7e8-f82d68aa4f03\",\"type\":\"Grid\"},{\"attributes\":{},\"id\":\"aaf6a38a-757a-4aa4-9f53-59117219506c\",\"type\":\"LinearScale\"},{\"attributes\":{\"children\":[{\"id\":\"5f083ca5-3330-4188-b69a-5f1f8d960dc7\",\"subtype\":\"Figure\",\"type\":\"Plot\"},{\"id\":\"d3c98dd6-9479-44bc-9dd9-6b26006ffd0d\",\"subtype\":\"Figure\",\"type\":\"Plot\"},{\"id\":\"7ef0856c-81ee-4f64-b1ac-062d409461b7\",\"subtype\":\"Figure\",\"type\":\"Plot\"}]},\"id\":\"5211d220-9197-49ec-ab81-ba1ccce627b2\",\"type\":\"Row\"},{\"attributes\":{},\"id\":\"f174825f-bab3-4a7e-b335-3f454ede5467\",\"type\":\"LinearScale\"},{\"attributes\":{\"below\":[{\"id\":\"3616b6b6-30b9-49ae-a268-ca425c0bd73a\",\"type\":\"LinearAxis\"}],\"left\":[{\"id\":\"9ab3cd8c-54c3-4cb3-9357-003a11cae373\",\"type\":\"LinearAxis\"}],\"plot_height\":250,\"plot_width\":250,\"renderers\":[{\"id\":\"3616b6b6-30b9-49ae-a268-ca425c0bd73a\",\"type\":\"LinearAxis\"},{\"id\":\"788dbde5-0fb0-4d9e-a4cf-123f581ef693\",\"type\":\"Grid\"},{\"id\":\"9ab3cd8c-54c3-4cb3-9357-003a11cae373\",\"type\":\"LinearAxis\"},{\"id\":\"ba2a7590-ed18-4f30-9af9-b1be3dae9e71\",\"type\":\"Grid\"},{\"id\":\"7cdd33d0-9344-472d-877e-43ed87b9cf54\",\"type\":\"GlyphRenderer\"}],\"title\":{\"id\":\"fe2e9c32-29ea-4b3e-949c-7adc6a5c9f94\",\"type\":\"Title\"},\"toolbar\":{\"id\":\"51fc71c9-8ee1-4d15-9586-7233767de0fd\",\"type\":\"Toolbar\"},\"toolbar_location\":null,\"x_range\":{\"id\":\"a1f3eef4-8e0b-4f91-8ccc-6d37f080a903\",\"type\":\"DataRange1d\"},\"x_scale\":{\"id\":\"140cc545-7361-452d-b25a-9ed7bd52a094\",\"type\":\"LinearScale\"},\"y_range\":{\"id\":\"bda20502-5862-4ad5-80f6-e627cdae6cd8\",\"type\":\"DataRange1d\"},\"y_scale\":{\"id\":\"3412c3a3-964e-4847-90c6-ef38b572fe7a\",\"type\":\"LinearScale\"}},\"id\":\"5f083ca5-3330-4188-b69a-5f1f8d960dc7\",\"subtype\":\"Figure\",\"type\":\"Plot\"},{\"attributes\":{\"formatter\":{\"id\":\"bab80744-b8e5-4fa1-b8fe-a8404db8a94f\",\"type\":\"BasicTickFormatter\"},\"plot\":{\"id\":\"5f083ca5-3330-4188-b69a-5f1f8d960dc7\",\"subtype\":\"Figure\",\"type\":\"Plot\"},\"ticker\":{\"id\":\"4ec67c97-4e42-42de-8549-26c03dc6b3d8\",\"type\":\"BasicTicker\"}},\"id\":\"9ab3cd8c-54c3-4cb3-9357-003a11cae373\",\"type\":\"LinearAxis\"},{\"attributes\":{},\"id\":\"6a78f645-d17a-43ab-bffd-c099857584a5\",\"type\":\"PanTool\"},{\"attributes\":{\"callback\":null,\"data\":{\"x\":[0,1,2,3,4,5,6,7,8,9,10],\"y\":[0,1,2,3,4,5,6,7,8,9,10]},\"selected\":{\"id\":\"9421d4e5-7c27-41fd-b7a1-dafc7cb5b672\",\"type\":\"Selection\"},\"selection_policy\":{\"id\":\"70aa3d5d-ad3f-43bc-8534-d32fbe4bb90e\",\"type\":\"UnionRenderers\"}},\"id\":\"14ce15f1-64f6-40e7-9416-795b4b08b0a0\",\"type\":\"ColumnDataSource\"},{\"attributes\":{\"fill_alpha\":{\"value\":0.1},\"fill_color\":{\"value\":\"#1f77b4\"},\"line_alpha\":{\"value\":0.1},\"line_color\":{\"value\":\"#1f77b4\"},\"size\":{\"units\":\"screen\",\"value\":10},\"x\":{\"field\":\"x\"},\"y\":{\"field\":\"y\"}},\"id\":\"94786d3b-1740-490d-bbec-e05cfbbbf477\",\"type\":\"Circle\"},{\"attributes\":{},\"id\":\"0f6750ec-27dc-4bab-bd7d-411e47a0ce32\",\"type\":\"BasicTickFormatter\"},{\"attributes\":{},\"id\":\"d0beaa42-4974-467d-a6e5-df44c0f7ce8d\",\"type\":\"PanTool\"},{\"attributes\":{\"plot\":{\"id\":\"5f083ca5-3330-4188-b69a-5f1f8d960dc7\",\"subtype\":\"Figure\",\"type\":\"Plot\"},\"ticker\":{\"id\":\"b8a8e0d5-b413-4892-9716-cae6fefd4149\",\"type\":\"BasicTicker\"}},\"id\":\"788dbde5-0fb0-4d9e-a4cf-123f581ef693\",\"type\":\"Grid\"},{\"attributes\":{\"fill_color\":{\"value\":\"firebrick\"},\"line_color\":{\"value\":\"firebrick\"},\"size\":{\"units\":\"screen\",\"value\":10},\"x\":{\"field\":\"x\"},\"y\":{\"field\":\"y\"}},\"id\":\"90e2a8c6-138e-44eb-b1be-94c3b66349f2\",\"type\":\"Triangle\"},{\"attributes\":{},\"id\":\"cfc7292a-58c8-4c84-a5e5-31e659ee9036\",\"type\":\"Selection\"},{\"attributes\":{},\"id\":\"b5f0932d-6d8a-4b2d-a273-43c399bd2cde\",\"type\":\"UnionRenderers\"}],\"root_ids\":[\"62d3d7b8-0dc2-461b-addc-188ed86638fc\"]},\"title\":\"Bokeh Application\",\"version\":\"0.13.0\"}};\n",
       "  var render_items = [{\"docid\":\"27026234-d2a8-42f8-8d40-84e555e5914d\",\"roots\":{\"62d3d7b8-0dc2-461b-addc-188ed86638fc\":\"c6155ba2-a533-4db5-a1b3-721f609d397f\"}}];\n",
       "  root.Bokeh.embed.embed_items_notebook(docs_json, render_items);\n",
       "\n",
       "  }\n",
       "  if (root.Bokeh !== undefined) {\n",
       "    embed_document(root);\n",
       "  } else {\n",
       "    var attempts = 0;\n",
       "    var timer = setInterval(function(root) {\n",
       "      if (root.Bokeh !== undefined) {\n",
       "        embed_document(root);\n",
       "        clearInterval(timer);\n",
       "      }\n",
       "      attempts++;\n",
       "      if (attempts > 100) {\n",
       "        console.log(\"Bokeh: ERROR: Unable to run BokehJS code because BokehJS library is missing\")\n",
       "        clearInterval(timer);\n",
       "      }\n",
       "    }, 10, root)\n",
       "  }\n",
       "})(window);"
      ],
      "application/vnd.bokehjs_exec.v0+json": ""
     },
     "metadata": {
      "application/vnd.bokehjs_exec.v0+json": {
       "id": "62d3d7b8-0dc2-461b-addc-188ed86638fc"
      }
     },
     "output_type": "display_data"
    }
   ],
   "source": [
    "from bokeh.layouts import gridplot\n",
    "\n",
    "x = list(range(11))\n",
    "y0, y1, y2 = x, [10-i for i in x], [abs(i-5) for i in x]\n",
    "\n",
    "plot_options = dict(width=250, plot_height=250, tools='pan,wheel_zoom')\n",
    "\n",
    "# create a new plot\n",
    "s1 = figure(**plot_options)\n",
    "s1.circle(x, y0, size=10, color=\"navy\")\n",
    "\n",
    "# create a new plot and share both ranges\n",
    "s2 = figure(x_range=s1.x_range, y_range=s1.y_range, **plot_options)\n",
    "s2.triangle(x, y1, size=10, color=\"firebrick\")\n",
    "\n",
    "# create a new plot and share only one range\n",
    "s3 = figure(x_range=s1.x_range, **plot_options)\n",
    "s3.square(x, y2, size=10, color=\"olive\")\n",
    "\n",
    "p = gridplot([[s1, s2, s3]])\n",
    "\n",
    "# show the results\n",
    "show(p)"
   ]
  },
  {
   "cell_type": "code",
   "execution_count": 38,
   "metadata": {
    "slideshow": {
     "slide_type": "subslide"
    }
   },
   "outputs": [
    {
     "data": {
      "text/html": [
       "\n",
       "\n",
       "\n",
       "\n",
       "\n",
       "\n",
       "  <div class=\"bk-root\" id=\"b79feddd-6e8b-49d4-88e1-2b564cb4faf0\"></div>\n"
      ]
     },
     "metadata": {},
     "output_type": "display_data"
    },
    {
     "data": {
      "application/javascript": [
       "(function(root) {\n",
       "  function embed_document(root) {\n",
       "    \n",
       "  var docs_json = {\"b1ff623a-e3ec-4b86-a2a8-61595d02d975\":{\"roots\":{\"references\":[{\"attributes\":{\"data_source\":{\"id\":\"f9832a15-531c-43e4-b329-5e01a305f129\",\"type\":\"ColumnDataSource\"},\"glyph\":{\"id\":\"35c7bb33-b15e-4285-ad48-a4edcc3af37e\",\"type\":\"Triangle\"},\"hover_glyph\":null,\"muted_glyph\":null,\"nonselection_glyph\":{\"id\":\"c435e969-072f-46dc-be9f-1ff050333307\",\"type\":\"Triangle\"},\"selection_glyph\":null,\"view\":{\"id\":\"62919a20-4de8-433d-b2aa-6ebb8b4d8f93\",\"type\":\"CDSView\"}},\"id\":\"a18f29da-644c-4f1b-99b1-f3a909e76cc6\",\"type\":\"GlyphRenderer\"},{\"attributes\":{\"plot\":{\"id\":\"0c445faf-5d2a-4be5-80a5-57916d9348fb\",\"subtype\":\"Figure\",\"type\":\"Plot\"},\"ticker\":{\"id\":\"202e17fb-dd30-48d9-ae33-90424cdbe91e\",\"type\":\"BasicTicker\"}},\"id\":\"1e917c39-2bc5-465b-9404-8b5637b0239e\",\"type\":\"Grid\"},{\"attributes\":{},\"id\":\"44e116b9-ab5d-4027-85a0-40913b1932fe\",\"type\":\"Selection\"},{\"attributes\":{},\"id\":\"54b185fe-7852-4242-aa2b-86f337563bc7\",\"type\":\"PanTool\"},{\"attributes\":{\"fill_color\":{\"value\":\"navy\"},\"line_color\":{\"value\":\"navy\"},\"size\":{\"units\":\"screen\",\"value\":10},\"x\":{\"field\":\"x\"},\"y\":{\"field\":\"y\"}},\"id\":\"19f9997c-1223-4fb1-b835-77a198635e61\",\"type\":\"Circle\"},{\"attributes\":{\"fill_alpha\":{\"value\":0.1},\"fill_color\":{\"value\":\"#1f77b4\"},\"line_alpha\":{\"value\":0.1},\"line_color\":{\"value\":\"#1f77b4\"},\"size\":{\"units\":\"screen\",\"value\":10},\"x\":{\"field\":\"x\"},\"y\":{\"field\":\"y\"}},\"id\":\"3a8a4f70-8ab6-4294-8781-699aff08c37e\",\"type\":\"Square\"},{\"attributes\":{\"dimension\":1,\"plot\":{\"id\":\"dafb394b-7312-4063-a4bf-1cd3c4a3524f\",\"subtype\":\"Figure\",\"type\":\"Plot\"},\"ticker\":{\"id\":\"6dc4062b-a1b6-46e1-9400-18140178e338\",\"type\":\"BasicTicker\"}},\"id\":\"569abe0d-3a11-4fbf-9490-54ea0baaa833\",\"type\":\"Grid\"},{\"attributes\":{},\"id\":\"4a244fe7-c355-403c-b77b-c8afc04a5adb\",\"type\":\"BasicTickFormatter\"},{\"attributes\":{\"fill_color\":{\"value\":\"firebrick\"},\"line_color\":{\"value\":\"firebrick\"},\"size\":{\"units\":\"screen\",\"value\":10},\"x\":{\"field\":\"x\"},\"y\":{\"field\":\"y\"}},\"id\":\"35c7bb33-b15e-4285-ad48-a4edcc3af37e\",\"type\":\"Triangle\"},{\"attributes\":{},\"id\":\"8e2f7c77-d4b4-4919-92f0-01a65d00505e\",\"type\":\"BasicTicker\"},{\"attributes\":{\"dimension\":1,\"plot\":{\"id\":\"dbd86117-ce13-40be-9675-d33f29ef67aa\",\"subtype\":\"Figure\",\"type\":\"Plot\"},\"ticker\":{\"id\":\"87c99e6a-4e7e-4bd0-a9c7-3ddedccbc81d\",\"type\":\"BasicTicker\"}},\"id\":\"b988621d-c481-4d62-a26d-5355c16de9a7\",\"type\":\"Grid\"},{\"attributes\":{\"plot\":{\"id\":\"dbd86117-ce13-40be-9675-d33f29ef67aa\",\"subtype\":\"Figure\",\"type\":\"Plot\"},\"ticker\":{\"id\":\"9f9d1a60-36aa-49be-b75c-003b61c8ba54\",\"type\":\"BasicTicker\"}},\"id\":\"9fb571a9-de62-4284-882c-58aca1e2474c\",\"type\":\"Grid\"},{\"attributes\":{},\"id\":\"491e5ed4-ea71-4fb3-a6b7-a1e83bc4d8a0\",\"type\":\"LinearScale\"},{\"attributes\":{},\"id\":\"959786e6-a252-40d8-92a3-301efb686acd\",\"type\":\"UnionRenderers\"},{\"attributes\":{\"children\":[{\"id\":\"0c445faf-5d2a-4be5-80a5-57916d9348fb\",\"subtype\":\"Figure\",\"type\":\"Plot\"},{\"id\":\"dbd86117-ce13-40be-9675-d33f29ef67aa\",\"subtype\":\"Figure\",\"type\":\"Plot\"},{\"id\":\"dafb394b-7312-4063-a4bf-1cd3c4a3524f\",\"subtype\":\"Figure\",\"type\":\"Plot\"}]},\"id\":\"c0118e69-75ce-43e8-9e63-40134f4797dc\",\"type\":\"Row\"},{\"attributes\":{},\"id\":\"f845dc35-5376-4134-bc74-4667fd84e380\",\"type\":\"BasicTickFormatter\"},{\"attributes\":{\"formatter\":{\"id\":\"4a244fe7-c355-403c-b77b-c8afc04a5adb\",\"type\":\"BasicTickFormatter\"},\"plot\":{\"id\":\"dafb394b-7312-4063-a4bf-1cd3c4a3524f\",\"subtype\":\"Figure\",\"type\":\"Plot\"},\"ticker\":{\"id\":\"6dc4062b-a1b6-46e1-9400-18140178e338\",\"type\":\"BasicTicker\"}},\"id\":\"257f8b5d-d2ea-43a9-9d33-ddacf46c8db0\",\"type\":\"LinearAxis\"},{\"attributes\":{\"callback\":null,\"data\":{\"x\":{\"__ndarray__\":\"AAAAAAAAJMAAAAAAAAAiwAAAAAAAACDAAAAAAAAAHMAAAAAAAAAYwAAAAAAAABTAAAAAAAAAEMAAAAAAAAAIwAAAAAAAAADAAAAAAAAA8L8AAAAAAAAAAAAAAAAAAPA/AAAAAAAAAEAAAAAAAAAIQAAAAAAAABBAAAAAAAAAFEAAAAAAAAAYQAAAAAAAABxAAAAAAAAAIEAAAAAAAAAiQAAAAAAAACRA\",\"dtype\":\"float64\",\"shape\":[21]},\"y\":{\"__ndarray__\":\"AAAAAABAj8AAAAAAACCMwAAAAAAAAInAAAAAAADghcAAAAAAAMCCwAAAAAAAQH/AAAAAAAAAecAAAAAAAMBywAAAAAAAAGnAAAAAAAAAWcAAAAAAAAAAAAAAAAAAAFlAAAAAAAAAaUAAAAAAAMByQAAAAAAAAHlAAAAAAABAf0AAAAAAAMCCQAAAAAAA4IVAAAAAAAAAiUAAAAAAACCMQAAAAAAAQI9A\",\"dtype\":\"float64\",\"shape\":[21]}},\"selected\":{\"id\":\"33a6b21b-fa7b-4b74-ac7c-6b0197a67d12\",\"type\":\"Selection\"},\"selection_policy\":{\"id\":\"959786e6-a252-40d8-92a3-301efb686acd\",\"type\":\"UnionRenderers\"}},\"id\":\"89eff3a4-dec4-484b-8411-4e4fbcdb6e2f\",\"type\":\"ColumnDataSource\"},{\"attributes\":{},\"id\":\"cd336d5c-5793-46a7-88e6-334874801779\",\"type\":\"BasicTicker\"},{\"attributes\":{\"callback\":null},\"id\":\"9532ae84-2cb1-4a4b-aa48-50435aa3be58\",\"type\":\"DataRange1d\"},{\"attributes\":{},\"id\":\"87c99e6a-4e7e-4bd0-a9c7-3ddedccbc81d\",\"type\":\"BasicTicker\"},{\"attributes\":{},\"id\":\"7d5d35f1-402b-4689-b10a-59d13f29f8ce\",\"type\":\"BasicTickFormatter\"},{\"attributes\":{},\"id\":\"7a999aef-9e2f-4345-8da6-1b8a3a6c4027\",\"type\":\"LinearScale\"},{\"attributes\":{\"callback\":null,\"data\":{\"x\":{\"__ndarray__\":\"AAAAAAAAJMAAAAAAAAAiwAAAAAAAACDAAAAAAAAAHMAAAAAAAAAYwAAAAAAAABTAAAAAAAAAEMAAAAAAAAAIwAAAAAAAAADAAAAAAAAA8L8AAAAAAAAAAAAAAAAAAPA/AAAAAAAAAEAAAAAAAAAIQAAAAAAAABBAAAAAAAAAFEAAAAAAAAAYQAAAAAAAABxAAAAAAAAAIEAAAAAAAAAiQAAAAAAAACRA\",\"dtype\":\"float64\",\"shape\":[21]},\"y\":{\"__ndarray__\":\"AAAAAABAj0AAAAAAAMiGQAAAAAAAAIBAAAAAAABwdUAAAAAAAABrQAAAAAAAQF9AAAAAAAAAUEAAAAAAAAA7QAAAAAAAACBAAAAAAAAA8D8AAAAAAAAAAAAAAAAAAPA/AAAAAAAAIEAAAAAAAAA7QAAAAAAAAFBAAAAAAABAX0AAAAAAAABrQAAAAAAAcHVAAAAAAAAAgEAAAAAAAMiGQAAAAAAAQI9A\",\"dtype\":\"float64\",\"shape\":[21]}},\"selected\":{\"id\":\"44e116b9-ab5d-4027-85a0-40913b1932fe\",\"type\":\"Selection\"},\"selection_policy\":{\"id\":\"885bc3c6-2b7d-44e9-b555-a6fcca52dce5\",\"type\":\"UnionRenderers\"}},\"id\":\"d735c741-858a-45ae-916c-f1343aa0d1d9\",\"type\":\"ColumnDataSource\"},{\"attributes\":{\"source\":{\"id\":\"f9832a15-531c-43e4-b329-5e01a305f129\",\"type\":\"ColumnDataSource\"}},\"id\":\"62919a20-4de8-433d-b2aa-6ebb8b4d8f93\",\"type\":\"CDSView\"},{\"attributes\":{\"toolbar\":{\"id\":\"c6cf877d-8511-4151-92fa-6310044fbc35\",\"type\":\"ProxyToolbar\"},\"toolbar_location\":\"above\"},\"id\":\"66bad820-d2bd-463b-acb1-57f4f64ff477\",\"type\":\"ToolbarBox\"},{\"attributes\":{},\"id\":\"885bc3c6-2b7d-44e9-b555-a6fcca52dce5\",\"type\":\"UnionRenderers\"},{\"attributes\":{\"formatter\":{\"id\":\"f845dc35-5376-4134-bc74-4667fd84e380\",\"type\":\"BasicTickFormatter\"},\"plot\":{\"id\":\"dbd86117-ce13-40be-9675-d33f29ef67aa\",\"subtype\":\"Figure\",\"type\":\"Plot\"},\"ticker\":{\"id\":\"87c99e6a-4e7e-4bd0-a9c7-3ddedccbc81d\",\"type\":\"BasicTicker\"}},\"id\":\"5b030265-fd7c-429a-b051-d91652c8113d\",\"type\":\"LinearAxis\"},{\"attributes\":{\"data_source\":{\"id\":\"d735c741-858a-45ae-916c-f1343aa0d1d9\",\"type\":\"ColumnDataSource\"},\"glyph\":{\"id\":\"07b4db95-adc9-413f-866b-75e2acacc7f1\",\"type\":\"Square\"},\"hover_glyph\":null,\"muted_glyph\":null,\"nonselection_glyph\":{\"id\":\"3a8a4f70-8ab6-4294-8781-699aff08c37e\",\"type\":\"Square\"},\"selection_glyph\":null,\"view\":{\"id\":\"80e53df7-4030-47bd-b456-c9fd52b46019\",\"type\":\"CDSView\"}},\"id\":\"498519bf-5bf2-4603-8ef5-2bd451b277fa\",\"type\":\"GlyphRenderer\"},{\"attributes\":{},\"id\":\"63fdcbed-f43c-45b8-ab84-5a926dd1808c\",\"type\":\"Selection\"},{\"attributes\":{},\"id\":\"85a708b7-d745-49fa-9c93-44acd3e13b24\",\"type\":\"BasicTickFormatter\"},{\"attributes\":{\"plot\":null,\"text\":\"\"},\"id\":\"16fce48f-3151-4190-a324-4f67f33244a3\",\"type\":\"Title\"},{\"attributes\":{\"source\":{\"id\":\"89eff3a4-dec4-484b-8411-4e4fbcdb6e2f\",\"type\":\"ColumnDataSource\"}},\"id\":\"9aabb348-954f-40b2-88c2-2e5a0f1f32c9\",\"type\":\"CDSView\"},{\"attributes\":{\"formatter\":{\"id\":\"7d5d35f1-402b-4689-b10a-59d13f29f8ce\",\"type\":\"BasicTickFormatter\"},\"plot\":{\"id\":\"0c445faf-5d2a-4be5-80a5-57916d9348fb\",\"subtype\":\"Figure\",\"type\":\"Plot\"},\"ticker\":{\"id\":\"202e17fb-dd30-48d9-ae33-90424cdbe91e\",\"type\":\"BasicTicker\"}},\"id\":\"3247fb22-966e-44e1-944b-4b6d7c4e5cf0\",\"type\":\"LinearAxis\"},{\"attributes\":{\"callback\":null},\"id\":\"197428c6-ca5a-4d09-989e-999fafdf8b22\",\"type\":\"DataRange1d\"},{\"attributes\":{\"active_drag\":\"auto\",\"active_inspect\":\"auto\",\"active_multi\":null,\"active_scroll\":\"auto\",\"active_tap\":\"auto\",\"tools\":[{\"id\":\"a2301b3c-4d5f-4a87-b2f2-28eaef3cf75c\",\"type\":\"PanTool\"},{\"id\":\"5a7dfa5d-59b0-4b3b-8e2a-717843a62ad5\",\"type\":\"WheelZoomTool\"}]},\"id\":\"9eaa39f9-7e1b-4cca-89e5-962e08451acc\",\"type\":\"Toolbar\"},{\"attributes\":{\"data_source\":{\"id\":\"89eff3a4-dec4-484b-8411-4e4fbcdb6e2f\",\"type\":\"ColumnDataSource\"},\"glyph\":{\"id\":\"19f9997c-1223-4fb1-b835-77a198635e61\",\"type\":\"Circle\"},\"hover_glyph\":null,\"muted_glyph\":null,\"nonselection_glyph\":{\"id\":\"ace9fa2e-890d-4062-ac3f-39e4157891f6\",\"type\":\"Circle\"},\"selection_glyph\":null,\"view\":{\"id\":\"9aabb348-954f-40b2-88c2-2e5a0f1f32c9\",\"type\":\"CDSView\"}},\"id\":\"7e328226-6b23-4546-ae7e-efef009977f3\",\"type\":\"GlyphRenderer\"},{\"attributes\":{},\"id\":\"e099e8b9-b05c-4693-b49a-a9b63a8d6861\",\"type\":\"PanTool\"},{\"attributes\":{\"active_drag\":\"auto\",\"active_inspect\":\"auto\",\"active_multi\":null,\"active_scroll\":\"auto\",\"active_tap\":\"auto\",\"tools\":[{\"id\":\"54b185fe-7852-4242-aa2b-86f337563bc7\",\"type\":\"PanTool\"},{\"id\":\"23c4e63d-2df2-45ff-8770-f52f7276a871\",\"type\":\"WheelZoomTool\"}]},\"id\":\"878379f8-af43-4c97-87c4-04800042f8d8\",\"type\":\"Toolbar\"},{\"attributes\":{},\"id\":\"e192109e-f153-4775-bcec-0ff53cbda1cb\",\"type\":\"LinearScale\"},{\"attributes\":{\"children\":[{\"id\":\"c0118e69-75ce-43e8-9e63-40134f4797dc\",\"type\":\"Row\"}]},\"id\":\"57c4fc36-b6b1-4daa-b3cb-d8ec8c01a167\",\"type\":\"Column\"},{\"attributes\":{\"active_drag\":\"auto\",\"active_inspect\":\"auto\",\"active_multi\":null,\"active_scroll\":\"auto\",\"active_tap\":\"auto\",\"tools\":[{\"id\":\"e099e8b9-b05c-4693-b49a-a9b63a8d6861\",\"type\":\"PanTool\"},{\"id\":\"aaed6ceb-8c4d-4058-aa75-9c9253c7e698\",\"type\":\"WheelZoomTool\"}]},\"id\":\"9488e9b1-89df-4ec6-b33e-d33a78c9ffe2\",\"type\":\"Toolbar\"},{\"attributes\":{},\"id\":\"7037db22-3251-4b02-b7fa-974b2ad2458c\",\"type\":\"LinearScale\"},{\"attributes\":{},\"id\":\"82f6f075-1184-4d16-87bc-b9e189a1e15d\",\"type\":\"LinearScale\"},{\"attributes\":{\"plot\":{\"id\":\"dafb394b-7312-4063-a4bf-1cd3c4a3524f\",\"subtype\":\"Figure\",\"type\":\"Plot\"},\"ticker\":{\"id\":\"cd336d5c-5793-46a7-88e6-334874801779\",\"type\":\"BasicTicker\"}},\"id\":\"08f78f2d-d2cd-4cd6-833e-b5973216f2d9\",\"type\":\"Grid\"},{\"attributes\":{\"below\":[{\"id\":\"492e36b1-7ae5-4a09-9f49-3900a092e133\",\"type\":\"LinearAxis\"}],\"left\":[{\"id\":\"5b030265-fd7c-429a-b051-d91652c8113d\",\"type\":\"LinearAxis\"}],\"plot_height\":500,\"plot_width\":250,\"renderers\":[{\"id\":\"492e36b1-7ae5-4a09-9f49-3900a092e133\",\"type\":\"LinearAxis\"},{\"id\":\"9fb571a9-de62-4284-882c-58aca1e2474c\",\"type\":\"Grid\"},{\"id\":\"5b030265-fd7c-429a-b051-d91652c8113d\",\"type\":\"LinearAxis\"},{\"id\":\"b988621d-c481-4d62-a26d-5355c16de9a7\",\"type\":\"Grid\"},{\"id\":\"a18f29da-644c-4f1b-99b1-f3a909e76cc6\",\"type\":\"GlyphRenderer\"}],\"title\":{\"id\":\"45fa7604-8993-40de-a7ae-70dba6d6ee4b\",\"type\":\"Title\"},\"toolbar\":{\"id\":\"878379f8-af43-4c97-87c4-04800042f8d8\",\"type\":\"Toolbar\"},\"toolbar_location\":null,\"x_range\":{\"id\":\"197428c6-ca5a-4d09-989e-999fafdf8b22\",\"type\":\"DataRange1d\"},\"x_scale\":{\"id\":\"6e2ecbd8-4c58-4f59-b40e-32d14d46dffc\",\"type\":\"LinearScale\"},\"y_range\":{\"id\":\"9532ae84-2cb1-4a4b-aa48-50435aa3be58\",\"type\":\"DataRange1d\"},\"y_scale\":{\"id\":\"7037db22-3251-4b02-b7fa-974b2ad2458c\",\"type\":\"LinearScale\"}},\"id\":\"dbd86117-ce13-40be-9675-d33f29ef67aa\",\"subtype\":\"Figure\",\"type\":\"Plot\"},{\"attributes\":{\"formatter\":{\"id\":\"7ead6179-a10d-4199-a1e7-9487bed306f4\",\"type\":\"BasicTickFormatter\"},\"plot\":{\"id\":\"0c445faf-5d2a-4be5-80a5-57916d9348fb\",\"subtype\":\"Figure\",\"type\":\"Plot\"},\"ticker\":{\"id\":\"8e2f7c77-d4b4-4919-92f0-01a65d00505e\",\"type\":\"BasicTicker\"}},\"id\":\"200a7ce9-af8e-496a-864f-ae90319769c0\",\"type\":\"LinearAxis\"},{\"attributes\":{\"source\":{\"id\":\"d735c741-858a-45ae-916c-f1343aa0d1d9\",\"type\":\"ColumnDataSource\"}},\"id\":\"80e53df7-4030-47bd-b456-c9fd52b46019\",\"type\":\"CDSView\"},{\"attributes\":{},\"id\":\"d4aa31e3-e5ee-4e6a-b52f-145a4da1aedf\",\"type\":\"UnionRenderers\"},{\"attributes\":{},\"id\":\"5a7dfa5d-59b0-4b3b-8e2a-717843a62ad5\",\"type\":\"WheelZoomTool\"},{\"attributes\":{\"below\":[{\"id\":\"4384051c-4e0c-4a87-94ea-9d717d65db7e\",\"type\":\"LinearAxis\"}],\"left\":[{\"id\":\"257f8b5d-d2ea-43a9-9d33-ddacf46c8db0\",\"type\":\"LinearAxis\"}],\"plot_height\":500,\"plot_width\":250,\"renderers\":[{\"id\":\"4384051c-4e0c-4a87-94ea-9d717d65db7e\",\"type\":\"LinearAxis\"},{\"id\":\"08f78f2d-d2cd-4cd6-833e-b5973216f2d9\",\"type\":\"Grid\"},{\"id\":\"257f8b5d-d2ea-43a9-9d33-ddacf46c8db0\",\"type\":\"LinearAxis\"},{\"id\":\"569abe0d-3a11-4fbf-9490-54ea0baaa833\",\"type\":\"Grid\"},{\"id\":\"498519bf-5bf2-4603-8ef5-2bd451b277fa\",\"type\":\"GlyphRenderer\"}],\"title\":{\"id\":\"ec055a43-855e-4170-b2db-3cdc6c702e0d\",\"type\":\"Title\"},\"toolbar\":{\"id\":\"9488e9b1-89df-4ec6-b33e-d33a78c9ffe2\",\"type\":\"Toolbar\"},\"toolbar_location\":null,\"x_range\":{\"id\":\"197428c6-ca5a-4d09-989e-999fafdf8b22\",\"type\":\"DataRange1d\"},\"x_scale\":{\"id\":\"e192109e-f153-4775-bcec-0ff53cbda1cb\",\"type\":\"LinearScale\"},\"y_range\":{\"id\":\"9532ae84-2cb1-4a4b-aa48-50435aa3be58\",\"type\":\"DataRange1d\"},\"y_scale\":{\"id\":\"491e5ed4-ea71-4fb3-a6b7-a1e83bc4d8a0\",\"type\":\"LinearScale\"}},\"id\":\"dafb394b-7312-4063-a4bf-1cd3c4a3524f\",\"subtype\":\"Figure\",\"type\":\"Plot\"},{\"attributes\":{\"fill_color\":{\"value\":\"olive\"},\"line_color\":{\"value\":\"olive\"},\"size\":{\"units\":\"screen\",\"value\":10},\"x\":{\"field\":\"x\"},\"y\":{\"field\":\"y\"}},\"id\":\"07b4db95-adc9-413f-866b-75e2acacc7f1\",\"type\":\"Square\"},{\"attributes\":{\"callback\":null,\"data\":{\"x\":{\"__ndarray__\":\"AAAAAAAAJMAAAAAAAAAiwAAAAAAAACDAAAAAAAAAHMAAAAAAAAAYwAAAAAAAABTAAAAAAAAAEMAAAAAAAAAIwAAAAAAAAADAAAAAAAAA8L8AAAAAAAAAAAAAAAAAAPA/AAAAAAAAAEAAAAAAAAAIQAAAAAAAABBAAAAAAAAAFEAAAAAAAAAYQAAAAAAAABxAAAAAAAAAIEAAAAAAAAAiQAAAAAAAACRA\",\"dtype\":\"float64\",\"shape\":[21]},\"y\":{\"__ndarray__\":\"AAAAAABAj8AAAAAAAMiGwAAAAAAAAIDAAAAAAABwdcAAAAAAAABrwAAAAAAAQF/AAAAAAAAAUMAAAAAAAAA7wAAAAAAAACDAAAAAAAAA8L8AAAAAAAAAAAAAAAAAAPA/AAAAAAAAIEAAAAAAAAA7QAAAAAAAAFBAAAAAAABAX0AAAAAAAABrQAAAAAAAcHVAAAAAAAAAgEAAAAAAAMiGQAAAAAAAQI9A\",\"dtype\":\"float64\",\"shape\":[21]}},\"selected\":{\"id\":\"63fdcbed-f43c-45b8-ab84-5a926dd1808c\",\"type\":\"Selection\"},\"selection_policy\":{\"id\":\"d4aa31e3-e5ee-4e6a-b52f-145a4da1aedf\",\"type\":\"UnionRenderers\"}},\"id\":\"f9832a15-531c-43e4-b329-5e01a305f129\",\"type\":\"ColumnDataSource\"},{\"attributes\":{\"plot\":null,\"text\":\"\"},\"id\":\"ec055a43-855e-4170-b2db-3cdc6c702e0d\",\"type\":\"Title\"},{\"attributes\":{\"formatter\":{\"id\":\"85a708b7-d745-49fa-9c93-44acd3e13b24\",\"type\":\"BasicTickFormatter\"},\"plot\":{\"id\":\"dafb394b-7312-4063-a4bf-1cd3c4a3524f\",\"subtype\":\"Figure\",\"type\":\"Plot\"},\"ticker\":{\"id\":\"cd336d5c-5793-46a7-88e6-334874801779\",\"type\":\"BasicTicker\"}},\"id\":\"4384051c-4e0c-4a87-94ea-9d717d65db7e\",\"type\":\"LinearAxis\"},{\"attributes\":{\"plot\":null,\"text\":\"\"},\"id\":\"45fa7604-8993-40de-a7ae-70dba6d6ee4b\",\"type\":\"Title\"},{\"attributes\":{},\"id\":\"6dc4062b-a1b6-46e1-9400-18140178e338\",\"type\":\"BasicTicker\"},{\"attributes\":{\"tools\":[{\"id\":\"a2301b3c-4d5f-4a87-b2f2-28eaef3cf75c\",\"type\":\"PanTool\"},{\"id\":\"5a7dfa5d-59b0-4b3b-8e2a-717843a62ad5\",\"type\":\"WheelZoomTool\"},{\"id\":\"54b185fe-7852-4242-aa2b-86f337563bc7\",\"type\":\"PanTool\"},{\"id\":\"23c4e63d-2df2-45ff-8770-f52f7276a871\",\"type\":\"WheelZoomTool\"},{\"id\":\"e099e8b9-b05c-4693-b49a-a9b63a8d6861\",\"type\":\"PanTool\"},{\"id\":\"aaed6ceb-8c4d-4058-aa75-9c9253c7e698\",\"type\":\"WheelZoomTool\"}]},\"id\":\"c6cf877d-8511-4151-92fa-6310044fbc35\",\"type\":\"ProxyToolbar\"},{\"attributes\":{},\"id\":\"6e2ecbd8-4c58-4f59-b40e-32d14d46dffc\",\"type\":\"LinearScale\"},{\"attributes\":{},\"id\":\"202e17fb-dd30-48d9-ae33-90424cdbe91e\",\"type\":\"BasicTicker\"},{\"attributes\":{\"fill_alpha\":{\"value\":0.1},\"fill_color\":{\"value\":\"#1f77b4\"},\"line_alpha\":{\"value\":0.1},\"line_color\":{\"value\":\"#1f77b4\"},\"size\":{\"units\":\"screen\",\"value\":10},\"x\":{\"field\":\"x\"},\"y\":{\"field\":\"y\"}},\"id\":\"c435e969-072f-46dc-be9f-1ff050333307\",\"type\":\"Triangle\"},{\"attributes\":{},\"id\":\"a2301b3c-4d5f-4a87-b2f2-28eaef3cf75c\",\"type\":\"PanTool\"},{\"attributes\":{},\"id\":\"9f9d1a60-36aa-49be-b75c-003b61c8ba54\",\"type\":\"BasicTicker\"},{\"attributes\":{\"fill_alpha\":{\"value\":0.1},\"fill_color\":{\"value\":\"#1f77b4\"},\"line_alpha\":{\"value\":0.1},\"line_color\":{\"value\":\"#1f77b4\"},\"size\":{\"units\":\"screen\",\"value\":10},\"x\":{\"field\":\"x\"},\"y\":{\"field\":\"y\"}},\"id\":\"ace9fa2e-890d-4062-ac3f-39e4157891f6\",\"type\":\"Circle\"},{\"attributes\":{},\"id\":\"23c4e63d-2df2-45ff-8770-f52f7276a871\",\"type\":\"WheelZoomTool\"},{\"attributes\":{\"dimension\":1,\"plot\":{\"id\":\"0c445faf-5d2a-4be5-80a5-57916d9348fb\",\"subtype\":\"Figure\",\"type\":\"Plot\"},\"ticker\":{\"id\":\"8e2f7c77-d4b4-4919-92f0-01a65d00505e\",\"type\":\"BasicTicker\"}},\"id\":\"7d489655-31b3-43a0-99cc-e6785004f399\",\"type\":\"Grid\"},{\"attributes\":{},\"id\":\"daabdc10-ed77-40ee-82f4-6f244146664b\",\"type\":\"BasicTickFormatter\"},{\"attributes\":{},\"id\":\"33a6b21b-fa7b-4b74-ac7c-6b0197a67d12\",\"type\":\"Selection\"},{\"attributes\":{\"formatter\":{\"id\":\"daabdc10-ed77-40ee-82f4-6f244146664b\",\"type\":\"BasicTickFormatter\"},\"plot\":{\"id\":\"dbd86117-ce13-40be-9675-d33f29ef67aa\",\"subtype\":\"Figure\",\"type\":\"Plot\"},\"ticker\":{\"id\":\"9f9d1a60-36aa-49be-b75c-003b61c8ba54\",\"type\":\"BasicTicker\"}},\"id\":\"492e36b1-7ae5-4a09-9f49-3900a092e133\",\"type\":\"LinearAxis\"},{\"attributes\":{\"below\":[{\"id\":\"3247fb22-966e-44e1-944b-4b6d7c4e5cf0\",\"type\":\"LinearAxis\"}],\"left\":[{\"id\":\"200a7ce9-af8e-496a-864f-ae90319769c0\",\"type\":\"LinearAxis\"}],\"plot_height\":500,\"plot_width\":250,\"renderers\":[{\"id\":\"3247fb22-966e-44e1-944b-4b6d7c4e5cf0\",\"type\":\"LinearAxis\"},{\"id\":\"1e917c39-2bc5-465b-9404-8b5637b0239e\",\"type\":\"Grid\"},{\"id\":\"200a7ce9-af8e-496a-864f-ae90319769c0\",\"type\":\"LinearAxis\"},{\"id\":\"7d489655-31b3-43a0-99cc-e6785004f399\",\"type\":\"Grid\"},{\"id\":\"7e328226-6b23-4546-ae7e-efef009977f3\",\"type\":\"GlyphRenderer\"}],\"title\":{\"id\":\"16fce48f-3151-4190-a324-4f67f33244a3\",\"type\":\"Title\"},\"toolbar\":{\"id\":\"9eaa39f9-7e1b-4cca-89e5-962e08451acc\",\"type\":\"Toolbar\"},\"toolbar_location\":null,\"x_range\":{\"id\":\"197428c6-ca5a-4d09-989e-999fafdf8b22\",\"type\":\"DataRange1d\"},\"x_scale\":{\"id\":\"82f6f075-1184-4d16-87bc-b9e189a1e15d\",\"type\":\"LinearScale\"},\"y_range\":{\"id\":\"9532ae84-2cb1-4a4b-aa48-50435aa3be58\",\"type\":\"DataRange1d\"},\"y_scale\":{\"id\":\"7a999aef-9e2f-4345-8da6-1b8a3a6c4027\",\"type\":\"LinearScale\"}},\"id\":\"0c445faf-5d2a-4be5-80a5-57916d9348fb\",\"subtype\":\"Figure\",\"type\":\"Plot\"},{\"attributes\":{},\"id\":\"7ead6179-a10d-4199-a1e7-9487bed306f4\",\"type\":\"BasicTickFormatter\"},{\"attributes\":{\"children\":[{\"id\":\"66bad820-d2bd-463b-acb1-57f4f64ff477\",\"type\":\"ToolbarBox\"},{\"id\":\"57c4fc36-b6b1-4daa-b3cb-d8ec8c01a167\",\"type\":\"Column\"}]},\"id\":\"eab7f9ff-5aa2-40b9-81f8-96ef994f69fc\",\"type\":\"Column\"},{\"attributes\":{},\"id\":\"aaed6ceb-8c4d-4058-aa75-9c9253c7e698\",\"type\":\"WheelZoomTool\"}],\"root_ids\":[\"eab7f9ff-5aa2-40b9-81f8-96ef994f69fc\"]},\"title\":\"Bokeh Application\",\"version\":\"0.13.0\"}};\n",
       "  var render_items = [{\"docid\":\"b1ff623a-e3ec-4b86-a2a8-61595d02d975\",\"roots\":{\"eab7f9ff-5aa2-40b9-81f8-96ef994f69fc\":\"b79feddd-6e8b-49d4-88e1-2b564cb4faf0\"}}];\n",
       "  root.Bokeh.embed.embed_items_notebook(docs_json, render_items);\n",
       "\n",
       "  }\n",
       "  if (root.Bokeh !== undefined) {\n",
       "    embed_document(root);\n",
       "  } else {\n",
       "    var attempts = 0;\n",
       "    var timer = setInterval(function(root) {\n",
       "      if (root.Bokeh !== undefined) {\n",
       "        embed_document(root);\n",
       "        clearInterval(timer);\n",
       "      }\n",
       "      attempts++;\n",
       "      if (attempts > 100) {\n",
       "        console.log(\"Bokeh: ERROR: Unable to run BokehJS code because BokehJS library is missing\")\n",
       "        clearInterval(timer);\n",
       "      }\n",
       "    }, 10, root)\n",
       "  }\n",
       "})(window);"
      ],
      "application/vnd.bokehjs_exec.v0+json": ""
     },
     "metadata": {
      "application/vnd.bokehjs_exec.v0+json": {
       "id": "eab7f9ff-5aa2-40b9-81f8-96ef994f69fc"
      }
     },
     "output_type": "display_data"
    }
   ],
   "source": [
    "# EXERCISE: create two plots in a gridplot, and link their ranges\n",
    "from bokeh.layouts import gridplot\n",
    "import numpy as np\n",
    "\n",
    "x = np.linspace(start=-10, stop=10,num=21)\n",
    "y0, y1, y2 = 100*x, x**3, abs(x**3)\n",
    "\n",
    "plot_options = dict(width=250, plot_height=500, tools='pan,wheel_zoom')\n",
    "\n",
    "# create a new plot\n",
    "s1 = figure(**plot_options)\n",
    "s1.circle(x, y0, size=10, color=\"navy\")\n",
    "\n",
    "# create a new plot and share both ranges\n",
    "s2 = figure(x_range=s1.x_range, y_range=s1.y_range, **plot_options)\n",
    "s2.triangle(x, y1, size=10, color=\"firebrick\")\n",
    "\n",
    "# create a new plot and share only one range\n",
    "s3 = figure(x_range=s1.x_range, y_range=s1.y_range, **plot_options)\n",
    "s3.square(x, y2, size=10, color=\"olive\")\n",
    "\n",
    "p = gridplot([[s1, s2, s3]])\n",
    "\n",
    "# show the results\n",
    "show(p)"
   ]
  },
  {
   "cell_type": "markdown",
   "metadata": {
    "slideshow": {
     "slide_type": "slide"
    }
   },
   "source": [
    "## Linked brushing\n",
    "\n",
    "Linking selections is accomplished in a similar way, by sharing data sources between plots. Note that normally with ``bokeh.plotting`` and ``bokeh.charts`` creating a default data source for simple plots is handled automatically. However to share a data source, we must create them by hand and pass them explicitly. This is illustrated in the example below:"
   ]
  },
  {
   "cell_type": "code",
   "execution_count": 39,
   "metadata": {
    "slideshow": {
     "slide_type": "subslide"
    }
   },
   "outputs": [
    {
     "data": {
      "text/html": [
       "\n",
       "\n",
       "\n",
       "\n",
       "\n",
       "\n",
       "  <div class=\"bk-root\" id=\"611fd2ca-6738-40cc-b0c1-400246b7d947\"></div>\n"
      ]
     },
     "metadata": {},
     "output_type": "display_data"
    },
    {
     "data": {
      "application/javascript": [
       "(function(root) {\n",
       "  function embed_document(root) {\n",
       "    \n",
       "  var docs_json = {\"09a40079-b813-4fad-b88c-9d544eaf10d9\":{\"roots\":{\"references\":[{\"attributes\":{\"plot\":{\"id\":\"600f4013-6675-4ee7-8cb0-1696fc7a56cc\",\"subtype\":\"Figure\",\"type\":\"Plot\"},\"ticker\":{\"id\":\"a840780d-e204-48a7-9876-7581dd39015e\",\"type\":\"BasicTicker\"}},\"id\":\"29d24dc1-fa3c-4b62-a400-1ae3b33d4631\",\"type\":\"Grid\"},{\"attributes\":{\"fill_color\":{\"value\":\"#1f77b4\"},\"line_color\":{\"value\":\"#1f77b4\"},\"x\":{\"field\":\"x\"},\"y\":{\"field\":\"y1\"}},\"id\":\"26a2fc87-0ff7-45e6-8961-36f3baebe945\",\"type\":\"Circle\"},{\"attributes\":{\"callback\":null,\"data\":{\"x\":[-20,-19,-18,-17,-16,-15,-14,-13,-12,-11,-10,-9,-8,-7,-6,-5,-4,-3,-2,-1,0,1,2,3,4,5,6,7,8,9,10,11,12,13,14,15,16,17,18,19,20],\"y0\":[20,19,18,17,16,15,14,13,12,11,10,9,8,7,6,5,4,3,2,1,0,1,2,3,4,5,6,7,8,9,10,11,12,13,14,15,16,17,18,19,20],\"y1\":[400,361,324,289,256,225,196,169,144,121,100,81,64,49,36,25,16,9,4,1,0,1,4,9,16,25,36,49,64,81,100,121,144,169,196,225,256,289,324,361,400]},\"selected\":{\"id\":\"45f59213-2d00-44e8-9471-75500e523cba\",\"type\":\"Selection\"},\"selection_policy\":{\"id\":\"c3addc6b-3514-4e4e-9167-7e0a81c8be54\",\"type\":\"UnionRenderers\"}},\"id\":\"b51ed629-98ec-44ea-b2de-da06f5c3390c\",\"type\":\"ColumnDataSource\"},{\"attributes\":{},\"id\":\"23ae0190-97e3-4fac-a3d9-74eba1b85e88\",\"type\":\"BasicTickFormatter\"},{\"attributes\":{},\"id\":\"94f27bfe-1ebb-4f5b-a37d-67c6e5a23241\",\"type\":\"BasicTicker\"},{\"attributes\":{},\"id\":\"0243aeb6-1a97-4934-af22-e4397016399a\",\"type\":\"LinearScale\"},{\"attributes\":{\"callback\":null},\"id\":\"7fc70f1f-7611-4f9c-a4b4-2a92d23695cb\",\"type\":\"DataRange1d\"},{\"attributes\":{},\"id\":\"a840780d-e204-48a7-9876-7581dd39015e\",\"type\":\"BasicTicker\"},{\"attributes\":{\"formatter\":{\"id\":\"1f4a574d-d9db-4ee7-b701-ac0994df8bcb\",\"type\":\"BasicTickFormatter\"},\"plot\":{\"id\":\"3bfb0c84-dba8-41a9-a0c5-92dad9ecb202\",\"subtype\":\"Figure\",\"type\":\"Plot\"},\"ticker\":{\"id\":\"f6eb6cf8-e40a-4f44-a87f-073f29e0bc3c\",\"type\":\"BasicTicker\"}},\"id\":\"8a7e46d4-523c-4687-85aa-adc87c92c757\",\"type\":\"LinearAxis\"},{\"attributes\":{\"children\":[{\"id\":\"3bfb0c84-dba8-41a9-a0c5-92dad9ecb202\",\"subtype\":\"Figure\",\"type\":\"Plot\"},{\"id\":\"600f4013-6675-4ee7-8cb0-1696fc7a56cc\",\"subtype\":\"Figure\",\"type\":\"Plot\"}]},\"id\":\"38b97654-f923-402a-b2a3-c88040b926aa\",\"type\":\"Row\"},{\"attributes\":{\"fill_color\":{\"value\":\"#1f77b4\"},\"line_color\":{\"value\":\"#1f77b4\"},\"x\":{\"field\":\"x\"},\"y\":{\"field\":\"y0\"}},\"id\":\"5f8ffe22-d717-4e02-9cbe-ce8c21e62517\",\"type\":\"Circle\"},{\"attributes\":{\"formatter\":{\"id\":\"23ae0190-97e3-4fac-a3d9-74eba1b85e88\",\"type\":\"BasicTickFormatter\"},\"plot\":{\"id\":\"600f4013-6675-4ee7-8cb0-1696fc7a56cc\",\"subtype\":\"Figure\",\"type\":\"Plot\"},\"ticker\":{\"id\":\"a840780d-e204-48a7-9876-7581dd39015e\",\"type\":\"BasicTicker\"}},\"id\":\"f92f8dc8-dadb-4131-903b-5a96793ebb3b\",\"type\":\"LinearAxis\"},{\"attributes\":{\"plot\":null,\"text\":\"\"},\"id\":\"23cfaf2b-226b-4346-9a40-89577f5c17ea\",\"type\":\"Title\"},{\"attributes\":{\"children\":[{\"id\":\"b49803f6-9769-493d-a50a-278c4ad264f5\",\"type\":\"ToolbarBox\"},{\"id\":\"d68ac2ca-38e6-45c5-9127-e247e2f0e15b\",\"type\":\"Column\"}]},\"id\":\"933cf422-bed3-4f9a-9a41-72cce7e6c44b\",\"type\":\"Column\"},{\"attributes\":{},\"id\":\"45f59213-2d00-44e8-9471-75500e523cba\",\"type\":\"Selection\"},{\"attributes\":{\"formatter\":{\"id\":\"d0707686-b056-407f-9384-8c3d6349dae8\",\"type\":\"BasicTickFormatter\"},\"plot\":{\"id\":\"3bfb0c84-dba8-41a9-a0c5-92dad9ecb202\",\"subtype\":\"Figure\",\"type\":\"Plot\"},\"ticker\":{\"id\":\"94f27bfe-1ebb-4f5b-a37d-67c6e5a23241\",\"type\":\"BasicTicker\"}},\"id\":\"ba30acec-ae94-4394-80a9-264b6efcb4c5\",\"type\":\"LinearAxis\"},{\"attributes\":{\"dimension\":1,\"plot\":{\"id\":\"600f4013-6675-4ee7-8cb0-1696fc7a56cc\",\"subtype\":\"Figure\",\"type\":\"Plot\"},\"ticker\":{\"id\":\"95be726a-cf48-4a38-b4ba-09a7b2c651be\",\"type\":\"BasicTicker\"}},\"id\":\"2f5182b0-d94c-48e4-ae90-191ef848e3a1\",\"type\":\"Grid\"},{\"attributes\":{\"below\":[{\"id\":\"f92f8dc8-dadb-4131-903b-5a96793ebb3b\",\"type\":\"LinearAxis\"}],\"left\":[{\"id\":\"190fa64d-0242-40f4-a4d7-33ed7869a6be\",\"type\":\"LinearAxis\"}],\"plot_height\":300,\"plot_width\":300,\"renderers\":[{\"id\":\"f92f8dc8-dadb-4131-903b-5a96793ebb3b\",\"type\":\"LinearAxis\"},{\"id\":\"29d24dc1-fa3c-4b62-a400-1ae3b33d4631\",\"type\":\"Grid\"},{\"id\":\"190fa64d-0242-40f4-a4d7-33ed7869a6be\",\"type\":\"LinearAxis\"},{\"id\":\"2f5182b0-d94c-48e4-ae90-191ef848e3a1\",\"type\":\"Grid\"},{\"id\":\"419eef0e-5b5b-4bac-95dd-6d3ba0a1a65f\",\"type\":\"BoxAnnotation\"},{\"id\":\"fb2913e4-ef90-4c02-9506-789da6496d4a\",\"type\":\"PolyAnnotation\"},{\"id\":\"7d7bebeb-1aae-4e3d-9bc4-7ac668f226f8\",\"type\":\"GlyphRenderer\"}],\"title\":{\"id\":\"5d8f94f5-4dfd-4ab8-bb20-5000fb5b0f5c\",\"type\":\"Title\"},\"toolbar\":{\"id\":\"3a0fd6de-dd44-4545-a17d-994103dd954d\",\"type\":\"Toolbar\"},\"toolbar_location\":null,\"x_range\":{\"id\":\"7fc70f1f-7611-4f9c-a4b4-2a92d23695cb\",\"type\":\"DataRange1d\"},\"x_scale\":{\"id\":\"5fe85b33-4b52-4f00-a793-ff591055d325\",\"type\":\"LinearScale\"},\"y_range\":{\"id\":\"cb71c929-33a2-4722-ad8b-25fd4d2a47be\",\"type\":\"DataRange1d\"},\"y_scale\":{\"id\":\"6a9455ce-43db-4a41-ad42-11f993829eb2\",\"type\":\"LinearScale\"}},\"id\":\"600f4013-6675-4ee7-8cb0-1696fc7a56cc\",\"subtype\":\"Figure\",\"type\":\"Plot\"},{\"attributes\":{\"callback\":null,\"overlay\":{\"id\":\"93c622d4-fe9b-4aa6-a679-417c2ba7bca6\",\"type\":\"PolyAnnotation\"}},\"id\":\"7fbe8baf-ffcf-4d8b-9e61-856bcafcb504\",\"type\":\"LassoSelectTool\"},{\"attributes\":{\"bottom_units\":\"screen\",\"fill_alpha\":{\"value\":0.5},\"fill_color\":{\"value\":\"lightgrey\"},\"left_units\":\"screen\",\"level\":\"overlay\",\"line_alpha\":{\"value\":1.0},\"line_color\":{\"value\":\"black\"},\"line_dash\":[4,4],\"line_width\":{\"value\":2},\"plot\":null,\"render_mode\":\"css\",\"right_units\":\"screen\",\"top_units\":\"screen\"},\"id\":\"419eef0e-5b5b-4bac-95dd-6d3ba0a1a65f\",\"type\":\"BoxAnnotation\"},{\"attributes\":{\"fill_alpha\":{\"value\":0.1},\"fill_color\":{\"value\":\"#1f77b4\"},\"line_alpha\":{\"value\":0.1},\"line_color\":{\"value\":\"#1f77b4\"},\"x\":{\"field\":\"x\"},\"y\":{\"field\":\"y0\"}},\"id\":\"35ae1e19-1e92-4e1b-a746-96158cca0270\",\"type\":\"Circle\"},{\"attributes\":{},\"id\":\"5fe85b33-4b52-4f00-a793-ff591055d325\",\"type\":\"LinearScale\"},{\"attributes\":{\"plot\":{\"id\":\"3bfb0c84-dba8-41a9-a0c5-92dad9ecb202\",\"subtype\":\"Figure\",\"type\":\"Plot\"},\"ticker\":{\"id\":\"94f27bfe-1ebb-4f5b-a37d-67c6e5a23241\",\"type\":\"BasicTicker\"}},\"id\":\"0e3213f4-cf7b-4b99-9834-24b62e105b2c\",\"type\":\"Grid\"},{\"attributes\":{},\"id\":\"95be726a-cf48-4a38-b4ba-09a7b2c651be\",\"type\":\"BasicTicker\"},{\"attributes\":{\"data_source\":{\"id\":\"b51ed629-98ec-44ea-b2de-da06f5c3390c\",\"type\":\"ColumnDataSource\"},\"glyph\":{\"id\":\"5f8ffe22-d717-4e02-9cbe-ce8c21e62517\",\"type\":\"Circle\"},\"hover_glyph\":null,\"muted_glyph\":null,\"nonselection_glyph\":{\"id\":\"35ae1e19-1e92-4e1b-a746-96158cca0270\",\"type\":\"Circle\"},\"selection_glyph\":null,\"view\":{\"id\":\"11baa474-1b77-48c9-a816-4497c154cab9\",\"type\":\"CDSView\"}},\"id\":\"73b5fe7c-4709-46cb-b07f-900854ad75ee\",\"type\":\"GlyphRenderer\"},{\"attributes\":{\"data_source\":{\"id\":\"b51ed629-98ec-44ea-b2de-da06f5c3390c\",\"type\":\"ColumnDataSource\"},\"glyph\":{\"id\":\"26a2fc87-0ff7-45e6-8961-36f3baebe945\",\"type\":\"Circle\"},\"hover_glyph\":null,\"muted_glyph\":null,\"nonselection_glyph\":{\"id\":\"666da8ea-8c86-415e-a91b-6450caabe81c\",\"type\":\"Circle\"},\"selection_glyph\":null,\"view\":{\"id\":\"79f8c5c7-d52b-4a69-a42f-81c862a27ba7\",\"type\":\"CDSView\"}},\"id\":\"7d7bebeb-1aae-4e3d-9bc4-7ac668f226f8\",\"type\":\"GlyphRenderer\"},{\"attributes\":{\"toolbar\":{\"id\":\"b41c9836-d872-4243-9b0f-93599f5e7f63\",\"type\":\"ProxyToolbar\"},\"toolbar_location\":\"above\"},\"id\":\"b49803f6-9769-493d-a50a-278c4ad264f5\",\"type\":\"ToolbarBox\"},{\"attributes\":{\"below\":[{\"id\":\"ba30acec-ae94-4394-80a9-264b6efcb4c5\",\"type\":\"LinearAxis\"}],\"left\":[{\"id\":\"8a7e46d4-523c-4687-85aa-adc87c92c757\",\"type\":\"LinearAxis\"}],\"plot_height\":300,\"plot_width\":300,\"renderers\":[{\"id\":\"ba30acec-ae94-4394-80a9-264b6efcb4c5\",\"type\":\"LinearAxis\"},{\"id\":\"0e3213f4-cf7b-4b99-9834-24b62e105b2c\",\"type\":\"Grid\"},{\"id\":\"8a7e46d4-523c-4687-85aa-adc87c92c757\",\"type\":\"LinearAxis\"},{\"id\":\"8094e71e-15ac-4853-9abf-95b13acacec2\",\"type\":\"Grid\"},{\"id\":\"ed95b1b2-04f9-4449-9ced-a337637ce532\",\"type\":\"BoxAnnotation\"},{\"id\":\"93c622d4-fe9b-4aa6-a679-417c2ba7bca6\",\"type\":\"PolyAnnotation\"},{\"id\":\"73b5fe7c-4709-46cb-b07f-900854ad75ee\",\"type\":\"GlyphRenderer\"}],\"title\":{\"id\":\"23cfaf2b-226b-4346-9a40-89577f5c17ea\",\"type\":\"Title\"},\"toolbar\":{\"id\":\"5814ee30-29b8-4aa2-93f6-299e82c212b0\",\"type\":\"Toolbar\"},\"toolbar_location\":null,\"x_range\":{\"id\":\"dcddd7da-f1ec-47ba-a900-abcc24f59448\",\"type\":\"DataRange1d\"},\"x_scale\":{\"id\":\"0243aeb6-1a97-4934-af22-e4397016399a\",\"type\":\"LinearScale\"},\"y_range\":{\"id\":\"fb18e505-77b4-4178-b360-1f9ad4c056af\",\"type\":\"DataRange1d\"},\"y_scale\":{\"id\":\"ff29d427-63cf-4559-8172-0538f6288983\",\"type\":\"LinearScale\"}},\"id\":\"3bfb0c84-dba8-41a9-a0c5-92dad9ecb202\",\"subtype\":\"Figure\",\"type\":\"Plot\"},{\"attributes\":{\"callback\":null},\"id\":\"fb18e505-77b4-4178-b360-1f9ad4c056af\",\"type\":\"DataRange1d\"},{\"attributes\":{\"fill_alpha\":{\"value\":0.5},\"fill_color\":{\"value\":\"lightgrey\"},\"level\":\"overlay\",\"line_alpha\":{\"value\":1.0},\"line_color\":{\"value\":\"black\"},\"line_dash\":[4,4],\"line_width\":{\"value\":2},\"plot\":null,\"xs_units\":\"screen\",\"ys_units\":\"screen\"},\"id\":\"93c622d4-fe9b-4aa6-a679-417c2ba7bca6\",\"type\":\"PolyAnnotation\"},{\"attributes\":{},\"id\":\"6a9455ce-43db-4a41-ad42-11f993829eb2\",\"type\":\"LinearScale\"},{\"attributes\":{},\"id\":\"1f4a574d-d9db-4ee7-b701-ac0994df8bcb\",\"type\":\"BasicTickFormatter\"},{\"attributes\":{\"callback\":null,\"overlay\":{\"id\":\"ed95b1b2-04f9-4449-9ced-a337637ce532\",\"type\":\"BoxAnnotation\"}},\"id\":\"7ba5e571-b8ac-4891-99ff-a0c323139928\",\"type\":\"BoxSelectTool\"},{\"attributes\":{},\"id\":\"c2bb263f-6fdd-4004-ab50-b4d6a11e7fc5\",\"type\":\"HelpTool\"},{\"attributes\":{\"callback\":null,\"overlay\":{\"id\":\"fb2913e4-ef90-4c02-9506-789da6496d4a\",\"type\":\"PolyAnnotation\"}},\"id\":\"b15241ec-f793-4158-8511-8dd4f2224219\",\"type\":\"LassoSelectTool\"},{\"attributes\":{},\"id\":\"ff29d427-63cf-4559-8172-0538f6288983\",\"type\":\"LinearScale\"},{\"attributes\":{},\"id\":\"f6eb6cf8-e40a-4f44-a87f-073f29e0bc3c\",\"type\":\"BasicTicker\"},{\"attributes\":{\"callback\":null},\"id\":\"cb71c929-33a2-4722-ad8b-25fd4d2a47be\",\"type\":\"DataRange1d\"},{\"attributes\":{\"fill_alpha\":{\"value\":0.1},\"fill_color\":{\"value\":\"#1f77b4\"},\"line_alpha\":{\"value\":0.1},\"line_color\":{\"value\":\"#1f77b4\"},\"x\":{\"field\":\"x\"},\"y\":{\"field\":\"y1\"}},\"id\":\"666da8ea-8c86-415e-a91b-6450caabe81c\",\"type\":\"Circle\"},{\"attributes\":{},\"id\":\"d0707686-b056-407f-9384-8c3d6349dae8\",\"type\":\"BasicTickFormatter\"},{\"attributes\":{\"active_drag\":\"auto\",\"active_inspect\":\"auto\",\"active_multi\":null,\"active_scroll\":\"auto\",\"active_tap\":\"auto\",\"tools\":[{\"id\":\"7ba5e571-b8ac-4891-99ff-a0c323139928\",\"type\":\"BoxSelectTool\"},{\"id\":\"7fbe8baf-ffcf-4d8b-9e61-856bcafcb504\",\"type\":\"LassoSelectTool\"},{\"id\":\"c2bb263f-6fdd-4004-ab50-b4d6a11e7fc5\",\"type\":\"HelpTool\"}]},\"id\":\"5814ee30-29b8-4aa2-93f6-299e82c212b0\",\"type\":\"Toolbar\"},{\"attributes\":{\"fill_alpha\":{\"value\":0.5},\"fill_color\":{\"value\":\"lightgrey\"},\"level\":\"overlay\",\"line_alpha\":{\"value\":1.0},\"line_color\":{\"value\":\"black\"},\"line_dash\":[4,4],\"line_width\":{\"value\":2},\"plot\":null,\"xs_units\":\"screen\",\"ys_units\":\"screen\"},\"id\":\"fb2913e4-ef90-4c02-9506-789da6496d4a\",\"type\":\"PolyAnnotation\"},{\"attributes\":{\"bottom_units\":\"screen\",\"fill_alpha\":{\"value\":0.5},\"fill_color\":{\"value\":\"lightgrey\"},\"left_units\":\"screen\",\"level\":\"overlay\",\"line_alpha\":{\"value\":1.0},\"line_color\":{\"value\":\"black\"},\"line_dash\":[4,4],\"line_width\":{\"value\":2},\"plot\":null,\"render_mode\":\"css\",\"right_units\":\"screen\",\"top_units\":\"screen\"},\"id\":\"ed95b1b2-04f9-4449-9ced-a337637ce532\",\"type\":\"BoxAnnotation\"},{\"attributes\":{\"callback\":null},\"id\":\"dcddd7da-f1ec-47ba-a900-abcc24f59448\",\"type\":\"DataRange1d\"},{\"attributes\":{\"source\":{\"id\":\"b51ed629-98ec-44ea-b2de-da06f5c3390c\",\"type\":\"ColumnDataSource\"}},\"id\":\"79f8c5c7-d52b-4a69-a42f-81c862a27ba7\",\"type\":\"CDSView\"},{\"attributes\":{},\"id\":\"ff5dbd7d-fd73-43e8-ba2b-95d4a01fd8e8\",\"type\":\"BasicTickFormatter\"},{\"attributes\":{},\"id\":\"c3addc6b-3514-4e4e-9167-7e0a81c8be54\",\"type\":\"UnionRenderers\"},{\"attributes\":{\"tools\":[{\"id\":\"7ba5e571-b8ac-4891-99ff-a0c323139928\",\"type\":\"BoxSelectTool\"},{\"id\":\"7fbe8baf-ffcf-4d8b-9e61-856bcafcb504\",\"type\":\"LassoSelectTool\"},{\"id\":\"c2bb263f-6fdd-4004-ab50-b4d6a11e7fc5\",\"type\":\"HelpTool\"},{\"id\":\"1f1a10bc-5aff-4f50-aff1-a8b63487377a\",\"type\":\"BoxSelectTool\"},{\"id\":\"b15241ec-f793-4158-8511-8dd4f2224219\",\"type\":\"LassoSelectTool\"},{\"id\":\"2b70cd08-20ef-4980-8546-3cc9192dab33\",\"type\":\"HelpTool\"}]},\"id\":\"b41c9836-d872-4243-9b0f-93599f5e7f63\",\"type\":\"ProxyToolbar\"},{\"attributes\":{\"active_drag\":\"auto\",\"active_inspect\":\"auto\",\"active_multi\":null,\"active_scroll\":\"auto\",\"active_tap\":\"auto\",\"tools\":[{\"id\":\"1f1a10bc-5aff-4f50-aff1-a8b63487377a\",\"type\":\"BoxSelectTool\"},{\"id\":\"b15241ec-f793-4158-8511-8dd4f2224219\",\"type\":\"LassoSelectTool\"},{\"id\":\"2b70cd08-20ef-4980-8546-3cc9192dab33\",\"type\":\"HelpTool\"}]},\"id\":\"3a0fd6de-dd44-4545-a17d-994103dd954d\",\"type\":\"Toolbar\"},{\"attributes\":{},\"id\":\"2b70cd08-20ef-4980-8546-3cc9192dab33\",\"type\":\"HelpTool\"},{\"attributes\":{\"dimension\":1,\"plot\":{\"id\":\"3bfb0c84-dba8-41a9-a0c5-92dad9ecb202\",\"subtype\":\"Figure\",\"type\":\"Plot\"},\"ticker\":{\"id\":\"f6eb6cf8-e40a-4f44-a87f-073f29e0bc3c\",\"type\":\"BasicTicker\"}},\"id\":\"8094e71e-15ac-4853-9abf-95b13acacec2\",\"type\":\"Grid\"},{\"attributes\":{\"plot\":null,\"text\":\"\"},\"id\":\"5d8f94f5-4dfd-4ab8-bb20-5000fb5b0f5c\",\"type\":\"Title\"},{\"attributes\":{\"callback\":null,\"overlay\":{\"id\":\"419eef0e-5b5b-4bac-95dd-6d3ba0a1a65f\",\"type\":\"BoxAnnotation\"}},\"id\":\"1f1a10bc-5aff-4f50-aff1-a8b63487377a\",\"type\":\"BoxSelectTool\"},{\"attributes\":{\"children\":[{\"id\":\"38b97654-f923-402a-b2a3-c88040b926aa\",\"type\":\"Row\"}]},\"id\":\"d68ac2ca-38e6-45c5-9127-e247e2f0e15b\",\"type\":\"Column\"},{\"attributes\":{\"formatter\":{\"id\":\"ff5dbd7d-fd73-43e8-ba2b-95d4a01fd8e8\",\"type\":\"BasicTickFormatter\"},\"plot\":{\"id\":\"600f4013-6675-4ee7-8cb0-1696fc7a56cc\",\"subtype\":\"Figure\",\"type\":\"Plot\"},\"ticker\":{\"id\":\"95be726a-cf48-4a38-b4ba-09a7b2c651be\",\"type\":\"BasicTicker\"}},\"id\":\"190fa64d-0242-40f4-a4d7-33ed7869a6be\",\"type\":\"LinearAxis\"},{\"attributes\":{\"source\":{\"id\":\"b51ed629-98ec-44ea-b2de-da06f5c3390c\",\"type\":\"ColumnDataSource\"}},\"id\":\"11baa474-1b77-48c9-a816-4497c154cab9\",\"type\":\"CDSView\"}],\"root_ids\":[\"933cf422-bed3-4f9a-9a41-72cce7e6c44b\"]},\"title\":\"Bokeh Application\",\"version\":\"0.13.0\"}};\n",
       "  var render_items = [{\"docid\":\"09a40079-b813-4fad-b88c-9d544eaf10d9\",\"roots\":{\"933cf422-bed3-4f9a-9a41-72cce7e6c44b\":\"611fd2ca-6738-40cc-b0c1-400246b7d947\"}}];\n",
       "  root.Bokeh.embed.embed_items_notebook(docs_json, render_items);\n",
       "\n",
       "  }\n",
       "  if (root.Bokeh !== undefined) {\n",
       "    embed_document(root);\n",
       "  } else {\n",
       "    var attempts = 0;\n",
       "    var timer = setInterval(function(root) {\n",
       "      if (root.Bokeh !== undefined) {\n",
       "        embed_document(root);\n",
       "        clearInterval(timer);\n",
       "      }\n",
       "      attempts++;\n",
       "      if (attempts > 100) {\n",
       "        console.log(\"Bokeh: ERROR: Unable to run BokehJS code because BokehJS library is missing\")\n",
       "        clearInterval(timer);\n",
       "      }\n",
       "    }, 10, root)\n",
       "  }\n",
       "})(window);"
      ],
      "application/vnd.bokehjs_exec.v0+json": ""
     },
     "metadata": {
      "application/vnd.bokehjs_exec.v0+json": {
       "id": "933cf422-bed3-4f9a-9a41-72cce7e6c44b"
      }
     },
     "output_type": "display_data"
    }
   ],
   "source": [
    "from bokeh.models import ColumnDataSource\n",
    "\n",
    "x = list(range(-20, 21))\n",
    "y0, y1 = [abs(xx) for xx in x], [xx**2 for xx in x]\n",
    "\n",
    "# create a column data source for the plots to share\n",
    "source = ColumnDataSource(data=dict(x=x, y0=y0, y1=y1))\n",
    "\n",
    "TOOLS = \"box_select,lasso_select,help\"\n",
    "\n",
    "# create a new plot and add a renderer\n",
    "left = figure(tools=TOOLS, width=300, height=300)\n",
    "left.circle('x', 'y0', source=source)\n",
    "\n",
    "# create another new plot and add a renderer\n",
    "right = figure(tools=TOOLS, width=300, height=300)\n",
    "right.circle('x', 'y1', source=source)\n",
    "\n",
    "p = gridplot([[left, right]])\n",
    "\n",
    "show(p)"
   ]
  },
  {
   "cell_type": "code",
   "execution_count": 47,
   "metadata": {},
   "outputs": [
    {
     "data": {
      "text/html": [
       "\n",
       "\n",
       "\n",
       "\n",
       "\n",
       "\n",
       "  <div class=\"bk-root\" id=\"effaf384-d6cb-4165-9b0f-b7df160c8c7f\"></div>\n"
      ]
     },
     "metadata": {},
     "output_type": "display_data"
    },
    {
     "data": {
      "application/javascript": [
       "(function(root) {\n",
       "  function embed_document(root) {\n",
       "    \n",
       "  var docs_json = {\"3edfceac-35ec-4875-aa3c-200e15248800\":{\"roots\":{\"references\":[{\"attributes\":{},\"id\":\"0960f882-4671-49f2-a03c-c9cddd1c3dfa\",\"type\":\"WheelZoomTool\"},{\"attributes\":{},\"id\":\"3d290918-c945-45e4-8045-a6b78f57bde9\",\"type\":\"LinearScale\"},{\"attributes\":{\"fill_color\":{\"value\":\"navy\"},\"line_color\":{\"value\":\"navy\"},\"size\":{\"units\":\"screen\",\"value\":10},\"x\":{\"field\":\"x\"},\"y\":{\"field\":\"y0\"}},\"id\":\"65f58c9b-9799-4247-afc3-506c31560c33\",\"type\":\"Circle\"},{\"attributes\":{\"callback\":null,\"overlay\":{\"id\":\"34c8da90-c205-4ca5-9291-108089b0a2be\",\"type\":\"BoxAnnotation\"}},\"id\":\"93c4f11c-dce5-41b6-9852-7546a2a1236c\",\"type\":\"BoxSelectTool\"},{\"attributes\":{\"plot\":{\"id\":\"e6e65d9e-7802-4460-83dd-58f116ed8c71\",\"subtype\":\"Figure\",\"type\":\"Plot\"},\"ticker\":{\"id\":\"f1f9b820-e646-4cf7-9874-0c1d1ac24501\",\"type\":\"BasicTicker\"}},\"id\":\"9f7fa275-3cc1-4d33-8762-2d9a1c726d56\",\"type\":\"Grid\"},{\"attributes\":{\"callback\":null},\"id\":\"a5db735f-3029-443b-8a28-ea15c1bfa965\",\"type\":\"DataRange1d\"},{\"attributes\":{\"fill_color\":{\"value\":\"olive\"},\"line_color\":{\"value\":\"olive\"},\"size\":{\"units\":\"screen\",\"value\":10},\"x\":{\"field\":\"x\"},\"y\":{\"field\":\"y2\"}},\"id\":\"efaa3cf0-f2f0-40fe-b683-e514b052df98\",\"type\":\"Square\"},{\"attributes\":{},\"id\":\"8a567309-8753-4349-b331-3ad69b3d6cce\",\"type\":\"WheelZoomTool\"},{\"attributes\":{\"plot\":null,\"text\":\"\"},\"id\":\"ca879108-2fbf-4541-81b1-cffa93e3963a\",\"type\":\"Title\"},{\"attributes\":{\"below\":[{\"id\":\"9f7e9b08-c961-449a-8181-5b55ee33518d\",\"type\":\"LinearAxis\"}],\"left\":[{\"id\":\"6b16a5a9-8dce-4a19-88c3-1f92b5643722\",\"type\":\"LinearAxis\"}],\"plot_height\":500,\"plot_width\":250,\"renderers\":[{\"id\":\"9f7e9b08-c961-449a-8181-5b55ee33518d\",\"type\":\"LinearAxis\"},{\"id\":\"9f7fa275-3cc1-4d33-8762-2d9a1c726d56\",\"type\":\"Grid\"},{\"id\":\"6b16a5a9-8dce-4a19-88c3-1f92b5643722\",\"type\":\"LinearAxis\"},{\"id\":\"99d43fc0-785b-4c7f-99f6-0ad49ed786b4\",\"type\":\"Grid\"},{\"id\":\"6a3eb838-1db8-4b1f-8930-70ea1f185487\",\"type\":\"BoxAnnotation\"},{\"id\":\"2d4b3e79-ccaa-4d1e-97c2-a731499edc14\",\"type\":\"PolyAnnotation\"},{\"id\":\"067b5256-b909-4809-8941-4128d2024c8d\",\"type\":\"GlyphRenderer\"}],\"title\":{\"id\":\"ca879108-2fbf-4541-81b1-cffa93e3963a\",\"type\":\"Title\"},\"toolbar\":{\"id\":\"24fc6ad3-52c3-4bf6-84d8-82c0c181653d\",\"type\":\"Toolbar\"},\"toolbar_location\":null,\"x_range\":{\"id\":\"a5db735f-3029-443b-8a28-ea15c1bfa965\",\"type\":\"DataRange1d\"},\"x_scale\":{\"id\":\"e899cd6d-e839-42ba-86ec-884ae2aa5b3f\",\"type\":\"LinearScale\"},\"y_range\":{\"id\":\"98b923c6-68f6-49b1-a67c-ebcf3cb0d450\",\"type\":\"DataRange1d\"},\"y_scale\":{\"id\":\"bcbfd396-fe4b-4c7b-99e6-5c6d0374a3dc\",\"type\":\"LinearScale\"}},\"id\":\"e6e65d9e-7802-4460-83dd-58f116ed8c71\",\"subtype\":\"Figure\",\"type\":\"Plot\"},{\"attributes\":{\"active_drag\":\"auto\",\"active_inspect\":\"auto\",\"active_multi\":null,\"active_scroll\":\"auto\",\"active_tap\":\"auto\",\"tools\":[{\"id\":\"7a643f70-7247-488e-a053-afeb569debeb\",\"type\":\"PanTool\"},{\"id\":\"0960f882-4671-49f2-a03c-c9cddd1c3dfa\",\"type\":\"WheelZoomTool\"},{\"id\":\"93c4f11c-dce5-41b6-9852-7546a2a1236c\",\"type\":\"BoxSelectTool\"},{\"id\":\"bb9ffe2d-778b-45b5-b8da-c43e4668cd7a\",\"type\":\"LassoSelectTool\"}]},\"id\":\"d9bf1f88-7d9d-4692-8c03-a8b4d05b15ff\",\"type\":\"Toolbar\"},{\"attributes\":{},\"id\":\"610707ac-c3fe-4fae-bf55-e0e4ded8be4f\",\"type\":\"BasicTicker\"},{\"attributes\":{\"formatter\":{\"id\":\"c3981a92-7396-4f93-80b8-b5803725c94f\",\"type\":\"BasicTickFormatter\"},\"plot\":{\"id\":\"91b906a3-8157-436b-ae63-d2308a6eb39b\",\"subtype\":\"Figure\",\"type\":\"Plot\"},\"ticker\":{\"id\":\"54750d6e-0693-45da-916d-8e687aedecf1\",\"type\":\"BasicTicker\"}},\"id\":\"5b897aed-5255-44f5-8493-e09e6028bb4a\",\"type\":\"LinearAxis\"},{\"attributes\":{\"active_drag\":\"auto\",\"active_inspect\":\"auto\",\"active_multi\":null,\"active_scroll\":\"auto\",\"active_tap\":\"auto\",\"tools\":[{\"id\":\"d8f0d1a2-6ec8-4b85-8b0a-a0f98bdd9f5c\",\"type\":\"PanTool\"},{\"id\":\"8a567309-8753-4349-b331-3ad69b3d6cce\",\"type\":\"WheelZoomTool\"},{\"id\":\"0aeb5b20-bf31-4618-8957-1110660d7c17\",\"type\":\"BoxSelectTool\"},{\"id\":\"3f0ea232-c1a8-48cf-af3a-f7b72233888e\",\"type\":\"LassoSelectTool\"}]},\"id\":\"24fc6ad3-52c3-4bf6-84d8-82c0c181653d\",\"type\":\"Toolbar\"},{\"attributes\":{\"dimension\":1,\"plot\":{\"id\":\"c345636a-12b0-46c9-9434-3ec2bcfa76ac\",\"subtype\":\"Figure\",\"type\":\"Plot\"},\"ticker\":{\"id\":\"610707ac-c3fe-4fae-bf55-e0e4ded8be4f\",\"type\":\"BasicTicker\"}},\"id\":\"76f19126-ee28-4369-93a6-43061df161cd\",\"type\":\"Grid\"},{\"attributes\":{\"callback\":null,\"overlay\":{\"id\":\"2d4b3e79-ccaa-4d1e-97c2-a731499edc14\",\"type\":\"PolyAnnotation\"}},\"id\":\"3f0ea232-c1a8-48cf-af3a-f7b72233888e\",\"type\":\"LassoSelectTool\"},{\"attributes\":{},\"id\":\"6cb637a8-21df-49ec-b1b0-9fd41024bf33\",\"type\":\"BasicTicker\"},{\"attributes\":{\"source\":{\"id\":\"76ec6cd4-9a14-432a-8aa2-956fd18897b1\",\"type\":\"ColumnDataSource\"}},\"id\":\"2e0a4738-3ba0-4d9c-9104-e6446942a4ac\",\"type\":\"CDSView\"},{\"attributes\":{\"fill_alpha\":{\"value\":0.1},\"fill_color\":{\"value\":\"#1f77b4\"},\"line_alpha\":{\"value\":0.1},\"line_color\":{\"value\":\"#1f77b4\"},\"size\":{\"units\":\"screen\",\"value\":10},\"x\":{\"field\":\"x\"},\"y\":{\"field\":\"y0\"}},\"id\":\"dd423ff2-dc2b-48d9-9435-16a48558db38\",\"type\":\"Circle\"},{\"attributes\":{},\"id\":\"bcbfd396-fe4b-4c7b-99e6-5c6d0374a3dc\",\"type\":\"LinearScale\"},{\"attributes\":{},\"id\":\"e58cd773-bd57-4e31-b7b2-aad39416e28e\",\"type\":\"LinearScale\"},{\"attributes\":{\"callback\":null,\"overlay\":{\"id\":\"0f78d4cb-c0c8-4d78-a214-b6e459d5aa6e\",\"type\":\"PolyAnnotation\"}},\"id\":\"bb9ffe2d-778b-45b5-b8da-c43e4668cd7a\",\"type\":\"LassoSelectTool\"},{\"attributes\":{},\"id\":\"30442b4c-7882-40bc-ab8f-5e79324e056c\",\"type\":\"BasicTickFormatter\"},{\"attributes\":{},\"id\":\"df3d40a3-b33c-4417-a258-df9566f59501\",\"type\":\"BasicTickFormatter\"},{\"attributes\":{\"fill_color\":{\"value\":\"firebrick\"},\"line_color\":{\"value\":\"firebrick\"},\"size\":{\"units\":\"screen\",\"value\":10},\"x\":{\"field\":\"x\"},\"y\":{\"field\":\"y1\"}},\"id\":\"aeed15f9-3cc9-4056-845a-5f38df0b15ab\",\"type\":\"Triangle\"},{\"attributes\":{\"fill_alpha\":{\"value\":0.5},\"fill_color\":{\"value\":\"lightgrey\"},\"level\":\"overlay\",\"line_alpha\":{\"value\":1.0},\"line_color\":{\"value\":\"black\"},\"line_dash\":[4,4],\"line_width\":{\"value\":2},\"plot\":null,\"xs_units\":\"screen\",\"ys_units\":\"screen\"},\"id\":\"0f78d4cb-c0c8-4d78-a214-b6e459d5aa6e\",\"type\":\"PolyAnnotation\"},{\"attributes\":{\"bottom_units\":\"screen\",\"fill_alpha\":{\"value\":0.5},\"fill_color\":{\"value\":\"lightgrey\"},\"left_units\":\"screen\",\"level\":\"overlay\",\"line_alpha\":{\"value\":1.0},\"line_color\":{\"value\":\"black\"},\"line_dash\":[4,4],\"line_width\":{\"value\":2},\"plot\":null,\"render_mode\":\"css\",\"right_units\":\"screen\",\"top_units\":\"screen\"},\"id\":\"34c8da90-c205-4ca5-9291-108089b0a2be\",\"type\":\"BoxAnnotation\"},{\"attributes\":{\"formatter\":{\"id\":\"b94ceb44-239f-4ea6-805f-2494070e8bd0\",\"type\":\"BasicTickFormatter\"},\"plot\":{\"id\":\"e6e65d9e-7802-4460-83dd-58f116ed8c71\",\"subtype\":\"Figure\",\"type\":\"Plot\"},\"ticker\":{\"id\":\"f1f9b820-e646-4cf7-9874-0c1d1ac24501\",\"type\":\"BasicTicker\"}},\"id\":\"9f7e9b08-c961-449a-8181-5b55ee33518d\",\"type\":\"LinearAxis\"},{\"attributes\":{\"fill_alpha\":{\"value\":0.5},\"fill_color\":{\"value\":\"lightgrey\"},\"level\":\"overlay\",\"line_alpha\":{\"value\":1.0},\"line_color\":{\"value\":\"black\"},\"line_dash\":[4,4],\"line_width\":{\"value\":2},\"plot\":null,\"xs_units\":\"screen\",\"ys_units\":\"screen\"},\"id\":\"2d4b3e79-ccaa-4d1e-97c2-a731499edc14\",\"type\":\"PolyAnnotation\"},{\"attributes\":{\"plot\":{\"id\":\"c345636a-12b0-46c9-9434-3ec2bcfa76ac\",\"subtype\":\"Figure\",\"type\":\"Plot\"},\"ticker\":{\"id\":\"8b070173-8ad4-4dd1-ad28-ea0baeb40a11\",\"type\":\"BasicTicker\"}},\"id\":\"a6daec9b-0893-4462-8a12-48e44b0aca84\",\"type\":\"Grid\"},{\"attributes\":{\"plot\":{\"id\":\"91b906a3-8157-436b-ae63-d2308a6eb39b\",\"subtype\":\"Figure\",\"type\":\"Plot\"},\"ticker\":{\"id\":\"54750d6e-0693-45da-916d-8e687aedecf1\",\"type\":\"BasicTicker\"}},\"id\":\"e09a2403-c5ba-4fda-bef2-7d57f02ad3c3\",\"type\":\"Grid\"},{\"attributes\":{},\"id\":\"e899cd6d-e839-42ba-86ec-884ae2aa5b3f\",\"type\":\"LinearScale\"},{\"attributes\":{\"fill_alpha\":{\"value\":0.1},\"fill_color\":{\"value\":\"#1f77b4\"},\"line_alpha\":{\"value\":0.1},\"line_color\":{\"value\":\"#1f77b4\"},\"size\":{\"units\":\"screen\",\"value\":10},\"x\":{\"field\":\"x\"},\"y\":{\"field\":\"y2\"}},\"id\":\"bde93a09-0fe8-42ff-a5da-336482310341\",\"type\":\"Square\"},{\"attributes\":{\"dimension\":1,\"plot\":{\"id\":\"e6e65d9e-7802-4460-83dd-58f116ed8c71\",\"subtype\":\"Figure\",\"type\":\"Plot\"},\"ticker\":{\"id\":\"6cb637a8-21df-49ec-b1b0-9fd41024bf33\",\"type\":\"BasicTicker\"}},\"id\":\"99d43fc0-785b-4c7f-99f6-0ad49ed786b4\",\"type\":\"Grid\"},{\"attributes\":{},\"id\":\"d8f0d1a2-6ec8-4b85-8b0a-a0f98bdd9f5c\",\"type\":\"PanTool\"},{\"attributes\":{\"fill_alpha\":{\"value\":0.5},\"fill_color\":{\"value\":\"lightgrey\"},\"level\":\"overlay\",\"line_alpha\":{\"value\":1.0},\"line_color\":{\"value\":\"black\"},\"line_dash\":[4,4],\"line_width\":{\"value\":2},\"plot\":null,\"xs_units\":\"screen\",\"ys_units\":\"screen\"},\"id\":\"aa0e2f37-0119-4d03-9e29-ed4a02acbb82\",\"type\":\"PolyAnnotation\"},{\"attributes\":{\"callback\":null,\"data\":{\"x\":{\"__ndarray__\":\"AAAAAAAAJMAAAAAAAAAiwAAAAAAAACDAAAAAAAAAHMAAAAAAAAAYwAAAAAAAABTAAAAAAAAAEMAAAAAAAAAIwAAAAAAAAADAAAAAAAAA8L8AAAAAAAAAAAAAAAAAAPA/AAAAAAAAAEAAAAAAAAAIQAAAAAAAABBAAAAAAAAAFEAAAAAAAAAYQAAAAAAAABxAAAAAAAAAIEAAAAAAAAAiQAAAAAAAACRA\",\"dtype\":\"float64\",\"shape\":[21]},\"y0\":{\"__ndarray__\":\"AAAAAABAj8AAAAAAACCMwAAAAAAAAInAAAAAAADghcAAAAAAAMCCwAAAAAAAQH/AAAAAAAAAecAAAAAAAMBywAAAAAAAAGnAAAAAAAAAWcAAAAAAAAAAAAAAAAAAAFlAAAAAAAAAaUAAAAAAAMByQAAAAAAAAHlAAAAAAABAf0AAAAAAAMCCQAAAAAAA4IVAAAAAAAAAiUAAAAAAACCMQAAAAAAAQI9A\",\"dtype\":\"float64\",\"shape\":[21]},\"y1\":{\"__ndarray__\":\"AAAAAABAj8AAAAAAAMiGwAAAAAAAAIDAAAAAAABwdcAAAAAAAABrwAAAAAAAQF/AAAAAAAAAUMAAAAAAAAA7wAAAAAAAACDAAAAAAAAA8L8AAAAAAAAAAAAAAAAAAPA/AAAAAAAAIEAAAAAAAAA7QAAAAAAAAFBAAAAAAABAX0AAAAAAAABrQAAAAAAAcHVAAAAAAAAAgEAAAAAAAMiGQAAAAAAAQI9A\",\"dtype\":\"float64\",\"shape\":[21]},\"y2\":{\"__ndarray__\":\"AAAAAABAj0AAAAAAAMiGQAAAAAAAAIBAAAAAAABwdUAAAAAAAABrQAAAAAAAQF9AAAAAAAAAUEAAAAAAAAA7QAAAAAAAACBAAAAAAAAA8D8AAAAAAAAAAAAAAAAAAPA/AAAAAAAAIEAAAAAAAAA7QAAAAAAAAFBAAAAAAABAX0AAAAAAAABrQAAAAAAAcHVAAAAAAAAAgEAAAAAAAMiGQAAAAAAAQI9A\",\"dtype\":\"float64\",\"shape\":[21]}},\"selected\":{\"id\":\"97577828-08ce-4f68-978d-41a60ccee4b1\",\"type\":\"Selection\"},\"selection_policy\":{\"id\":\"d3578cac-d207-4716-a0a2-849b0e6f7147\",\"type\":\"UnionRenderers\"}},\"id\":\"76ec6cd4-9a14-432a-8aa2-956fd18897b1\",\"type\":\"ColumnDataSource\"},{\"attributes\":{\"callback\":null,\"overlay\":{\"id\":\"244eac62-284e-49aa-994d-9339ca39a961\",\"type\":\"BoxAnnotation\"}},\"id\":\"fafba9cf-6856-4eb7-b490-a62ed6e29fe8\",\"type\":\"BoxSelectTool\"},{\"attributes\":{\"callback\":null,\"overlay\":{\"id\":\"6a3eb838-1db8-4b1f-8930-70ea1f185487\",\"type\":\"BoxAnnotation\"}},\"id\":\"0aeb5b20-bf31-4618-8957-1110660d7c17\",\"type\":\"BoxSelectTool\"},{\"attributes\":{\"callback\":null},\"id\":\"98b923c6-68f6-49b1-a67c-ebcf3cb0d450\",\"type\":\"DataRange1d\"},{\"attributes\":{},\"id\":\"fd2b839a-ad1a-4f4a-b053-19f1da787b33\",\"type\":\"LinearScale\"},{\"attributes\":{},\"id\":\"54750d6e-0693-45da-916d-8e687aedecf1\",\"type\":\"BasicTicker\"},{\"attributes\":{\"formatter\":{\"id\":\"df755064-8cd1-4816-86d1-f6f068256efa\",\"type\":\"BasicTickFormatter\"},\"plot\":{\"id\":\"c345636a-12b0-46c9-9434-3ec2bcfa76ac\",\"subtype\":\"Figure\",\"type\":\"Plot\"},\"ticker\":{\"id\":\"610707ac-c3fe-4fae-bf55-e0e4ded8be4f\",\"type\":\"BasicTicker\"}},\"id\":\"3598b959-a921-413d-bff1-669d3ea1446f\",\"type\":\"LinearAxis\"},{\"attributes\":{},\"id\":\"279a6ce4-cc16-494e-b456-6b89a7435f30\",\"type\":\"LinearScale\"},{\"attributes\":{\"fill_alpha\":{\"value\":0.1},\"fill_color\":{\"value\":\"#1f77b4\"},\"line_alpha\":{\"value\":0.1},\"line_color\":{\"value\":\"#1f77b4\"},\"size\":{\"units\":\"screen\",\"value\":10},\"x\":{\"field\":\"x\"},\"y\":{\"field\":\"y1\"}},\"id\":\"79b32719-0286-4a31-a3d6-17910f0704c3\",\"type\":\"Triangle\"},{\"attributes\":{},\"id\":\"b94ceb44-239f-4ea6-805f-2494070e8bd0\",\"type\":\"BasicTickFormatter\"},{\"attributes\":{},\"id\":\"627078a4-c434-43c0-8633-40f83e3df5f2\",\"type\":\"PanTool\"},{\"attributes\":{},\"id\":\"c3981a92-7396-4f93-80b8-b5803725c94f\",\"type\":\"BasicTickFormatter\"},{\"attributes\":{},\"id\":\"c0148bb8-0c9f-4e68-8ecb-14a9db47feec\",\"type\":\"WheelZoomTool\"},{\"attributes\":{},\"id\":\"7a643f70-7247-488e-a053-afeb569debeb\",\"type\":\"PanTool\"},{\"attributes\":{},\"id\":\"d3578cac-d207-4716-a0a2-849b0e6f7147\",\"type\":\"UnionRenderers\"},{\"attributes\":{\"plot\":null,\"text\":\"\"},\"id\":\"f65d3d05-03e1-4221-9d31-dba3eee28002\",\"type\":\"Title\"},{\"attributes\":{\"bottom_units\":\"screen\",\"fill_alpha\":{\"value\":0.5},\"fill_color\":{\"value\":\"lightgrey\"},\"left_units\":\"screen\",\"level\":\"overlay\",\"line_alpha\":{\"value\":1.0},\"line_color\":{\"value\":\"black\"},\"line_dash\":[4,4],\"line_width\":{\"value\":2},\"plot\":null,\"render_mode\":\"css\",\"right_units\":\"screen\",\"top_units\":\"screen\"},\"id\":\"244eac62-284e-49aa-994d-9339ca39a961\",\"type\":\"BoxAnnotation\"},{\"attributes\":{\"below\":[{\"id\":\"5b897aed-5255-44f5-8493-e09e6028bb4a\",\"type\":\"LinearAxis\"}],\"left\":[{\"id\":\"8c145c83-6742-42cb-a087-522562bb0876\",\"type\":\"LinearAxis\"}],\"plot_height\":500,\"plot_width\":250,\"renderers\":[{\"id\":\"5b897aed-5255-44f5-8493-e09e6028bb4a\",\"type\":\"LinearAxis\"},{\"id\":\"e09a2403-c5ba-4fda-bef2-7d57f02ad3c3\",\"type\":\"Grid\"},{\"id\":\"8c145c83-6742-42cb-a087-522562bb0876\",\"type\":\"LinearAxis\"},{\"id\":\"243ba515-ad5f-4ad5-8bad-59e2b6a9a687\",\"type\":\"Grid\"},{\"id\":\"34c8da90-c205-4ca5-9291-108089b0a2be\",\"type\":\"BoxAnnotation\"},{\"id\":\"0f78d4cb-c0c8-4d78-a214-b6e459d5aa6e\",\"type\":\"PolyAnnotation\"},{\"id\":\"8342867c-5dcd-43a7-8536-07a2c1a2e411\",\"type\":\"GlyphRenderer\"}],\"title\":{\"id\":\"f65d3d05-03e1-4221-9d31-dba3eee28002\",\"type\":\"Title\"},\"toolbar\":{\"id\":\"d9bf1f88-7d9d-4692-8c03-a8b4d05b15ff\",\"type\":\"Toolbar\"},\"toolbar_location\":null,\"x_range\":{\"id\":\"a5db735f-3029-443b-8a28-ea15c1bfa965\",\"type\":\"DataRange1d\"},\"x_scale\":{\"id\":\"3d290918-c945-45e4-8045-a6b78f57bde9\",\"type\":\"LinearScale\"},\"y_range\":{\"id\":\"98b923c6-68f6-49b1-a67c-ebcf3cb0d450\",\"type\":\"DataRange1d\"},\"y_scale\":{\"id\":\"fd2b839a-ad1a-4f4a-b053-19f1da787b33\",\"type\":\"LinearScale\"}},\"id\":\"91b906a3-8157-436b-ae63-d2308a6eb39b\",\"subtype\":\"Figure\",\"type\":\"Plot\"},{\"attributes\":{\"tools\":[{\"id\":\"7a643f70-7247-488e-a053-afeb569debeb\",\"type\":\"PanTool\"},{\"id\":\"0960f882-4671-49f2-a03c-c9cddd1c3dfa\",\"type\":\"WheelZoomTool\"},{\"id\":\"93c4f11c-dce5-41b6-9852-7546a2a1236c\",\"type\":\"BoxSelectTool\"},{\"id\":\"bb9ffe2d-778b-45b5-b8da-c43e4668cd7a\",\"type\":\"LassoSelectTool\"},{\"id\":\"d8f0d1a2-6ec8-4b85-8b0a-a0f98bdd9f5c\",\"type\":\"PanTool\"},{\"id\":\"8a567309-8753-4349-b331-3ad69b3d6cce\",\"type\":\"WheelZoomTool\"},{\"id\":\"0aeb5b20-bf31-4618-8957-1110660d7c17\",\"type\":\"BoxSelectTool\"},{\"id\":\"3f0ea232-c1a8-48cf-af3a-f7b72233888e\",\"type\":\"LassoSelectTool\"},{\"id\":\"627078a4-c434-43c0-8633-40f83e3df5f2\",\"type\":\"PanTool\"},{\"id\":\"c0148bb8-0c9f-4e68-8ecb-14a9db47feec\",\"type\":\"WheelZoomTool\"},{\"id\":\"fafba9cf-6856-4eb7-b490-a62ed6e29fe8\",\"type\":\"BoxSelectTool\"},{\"id\":\"ab7e136e-aefb-4e09-82a8-5d529bacc60f\",\"type\":\"LassoSelectTool\"}]},\"id\":\"1c6345ff-edc7-4514-b6d9-2abe1ddc0fb8\",\"type\":\"ProxyToolbar\"},{\"attributes\":{\"callback\":null,\"overlay\":{\"id\":\"aa0e2f37-0119-4d03-9e29-ed4a02acbb82\",\"type\":\"PolyAnnotation\"}},\"id\":\"ab7e136e-aefb-4e09-82a8-5d529bacc60f\",\"type\":\"LassoSelectTool\"},{\"attributes\":{\"children\":[{\"id\":\"3f28f1f4-fde3-46d3-97c1-30f7f1fb8820\",\"type\":\"Row\"}]},\"id\":\"e022c0bd-c19b-4d88-aea6-5f63cc4a4701\",\"type\":\"Column\"},{\"attributes\":{\"source\":{\"id\":\"76ec6cd4-9a14-432a-8aa2-956fd18897b1\",\"type\":\"ColumnDataSource\"}},\"id\":\"b8e4780e-63d4-4411-855e-27422c9829e3\",\"type\":\"CDSView\"},{\"attributes\":{\"below\":[{\"id\":\"85ff9c0b-c25d-4a34-8a41-c46ba05a5429\",\"type\":\"LinearAxis\"}],\"left\":[{\"id\":\"3598b959-a921-413d-bff1-669d3ea1446f\",\"type\":\"LinearAxis\"}],\"plot_height\":500,\"plot_width\":250,\"renderers\":[{\"id\":\"85ff9c0b-c25d-4a34-8a41-c46ba05a5429\",\"type\":\"LinearAxis\"},{\"id\":\"a6daec9b-0893-4462-8a12-48e44b0aca84\",\"type\":\"Grid\"},{\"id\":\"3598b959-a921-413d-bff1-669d3ea1446f\",\"type\":\"LinearAxis\"},{\"id\":\"76f19126-ee28-4369-93a6-43061df161cd\",\"type\":\"Grid\"},{\"id\":\"244eac62-284e-49aa-994d-9339ca39a961\",\"type\":\"BoxAnnotation\"},{\"id\":\"aa0e2f37-0119-4d03-9e29-ed4a02acbb82\",\"type\":\"PolyAnnotation\"},{\"id\":\"95973a62-a3e4-4f43-bbf6-39e7a87153ed\",\"type\":\"GlyphRenderer\"}],\"title\":{\"id\":\"a03899b9-ffc8-432f-a874-423562bafd1d\",\"type\":\"Title\"},\"toolbar\":{\"id\":\"482974a3-7327-4e85-b897-a755ec8ccb71\",\"type\":\"Toolbar\"},\"toolbar_location\":null,\"x_range\":{\"id\":\"a5db735f-3029-443b-8a28-ea15c1bfa965\",\"type\":\"DataRange1d\"},\"x_scale\":{\"id\":\"279a6ce4-cc16-494e-b456-6b89a7435f30\",\"type\":\"LinearScale\"},\"y_range\":{\"id\":\"98b923c6-68f6-49b1-a67c-ebcf3cb0d450\",\"type\":\"DataRange1d\"},\"y_scale\":{\"id\":\"e58cd773-bd57-4e31-b7b2-aad39416e28e\",\"type\":\"LinearScale\"}},\"id\":\"c345636a-12b0-46c9-9434-3ec2bcfa76ac\",\"subtype\":\"Figure\",\"type\":\"Plot\"},{\"attributes\":{\"children\":[{\"id\":\"5aac311f-3601-4788-b7d5-c9075fa974b9\",\"type\":\"ToolbarBox\"},{\"id\":\"e022c0bd-c19b-4d88-aea6-5f63cc4a4701\",\"type\":\"Column\"}]},\"id\":\"3f0087de-6484-443f-860a-db362a729c80\",\"type\":\"Column\"},{\"attributes\":{\"bottom_units\":\"screen\",\"fill_alpha\":{\"value\":0.5},\"fill_color\":{\"value\":\"lightgrey\"},\"left_units\":\"screen\",\"level\":\"overlay\",\"line_alpha\":{\"value\":1.0},\"line_color\":{\"value\":\"black\"},\"line_dash\":[4,4],\"line_width\":{\"value\":2},\"plot\":null,\"render_mode\":\"css\",\"right_units\":\"screen\",\"top_units\":\"screen\"},\"id\":\"6a3eb838-1db8-4b1f-8930-70ea1f185487\",\"type\":\"BoxAnnotation\"},{\"attributes\":{},\"id\":\"7de1164a-b4cd-44b0-b877-69f0fa4440af\",\"type\":\"BasicTicker\"},{\"attributes\":{\"source\":{\"id\":\"76ec6cd4-9a14-432a-8aa2-956fd18897b1\",\"type\":\"ColumnDataSource\"}},\"id\":\"6a3017c6-cd07-4975-8735-e22ae16b39e8\",\"type\":\"CDSView\"},{\"attributes\":{\"formatter\":{\"id\":\"df3d40a3-b33c-4417-a258-df9566f59501\",\"type\":\"BasicTickFormatter\"},\"plot\":{\"id\":\"c345636a-12b0-46c9-9434-3ec2bcfa76ac\",\"subtype\":\"Figure\",\"type\":\"Plot\"},\"ticker\":{\"id\":\"8b070173-8ad4-4dd1-ad28-ea0baeb40a11\",\"type\":\"BasicTicker\"}},\"id\":\"85ff9c0b-c25d-4a34-8a41-c46ba05a5429\",\"type\":\"LinearAxis\"},{\"attributes\":{\"data_source\":{\"id\":\"76ec6cd4-9a14-432a-8aa2-956fd18897b1\",\"type\":\"ColumnDataSource\"},\"glyph\":{\"id\":\"aeed15f9-3cc9-4056-845a-5f38df0b15ab\",\"type\":\"Triangle\"},\"hover_glyph\":null,\"muted_glyph\":null,\"nonselection_glyph\":{\"id\":\"79b32719-0286-4a31-a3d6-17910f0704c3\",\"type\":\"Triangle\"},\"selection_glyph\":null,\"view\":{\"id\":\"2e0a4738-3ba0-4d9c-9104-e6446942a4ac\",\"type\":\"CDSView\"}},\"id\":\"067b5256-b909-4809-8941-4128d2024c8d\",\"type\":\"GlyphRenderer\"},{\"attributes\":{\"children\":[{\"id\":\"91b906a3-8157-436b-ae63-d2308a6eb39b\",\"subtype\":\"Figure\",\"type\":\"Plot\"},{\"id\":\"e6e65d9e-7802-4460-83dd-58f116ed8c71\",\"subtype\":\"Figure\",\"type\":\"Plot\"},{\"id\":\"c345636a-12b0-46c9-9434-3ec2bcfa76ac\",\"subtype\":\"Figure\",\"type\":\"Plot\"}]},\"id\":\"3f28f1f4-fde3-46d3-97c1-30f7f1fb8820\",\"type\":\"Row\"},{\"attributes\":{},\"id\":\"f1f9b820-e646-4cf7-9874-0c1d1ac24501\",\"type\":\"BasicTicker\"},{\"attributes\":{\"active_drag\":\"auto\",\"active_inspect\":\"auto\",\"active_multi\":null,\"active_scroll\":\"auto\",\"active_tap\":\"auto\",\"tools\":[{\"id\":\"627078a4-c434-43c0-8633-40f83e3df5f2\",\"type\":\"PanTool\"},{\"id\":\"c0148bb8-0c9f-4e68-8ecb-14a9db47feec\",\"type\":\"WheelZoomTool\"},{\"id\":\"fafba9cf-6856-4eb7-b490-a62ed6e29fe8\",\"type\":\"BoxSelectTool\"},{\"id\":\"ab7e136e-aefb-4e09-82a8-5d529bacc60f\",\"type\":\"LassoSelectTool\"}]},\"id\":\"482974a3-7327-4e85-b897-a755ec8ccb71\",\"type\":\"Toolbar\"},{\"attributes\":{\"formatter\":{\"id\":\"30442b4c-7882-40bc-ab8f-5e79324e056c\",\"type\":\"BasicTickFormatter\"},\"plot\":{\"id\":\"91b906a3-8157-436b-ae63-d2308a6eb39b\",\"subtype\":\"Figure\",\"type\":\"Plot\"},\"ticker\":{\"id\":\"7de1164a-b4cd-44b0-b877-69f0fa4440af\",\"type\":\"BasicTicker\"}},\"id\":\"8c145c83-6742-42cb-a087-522562bb0876\",\"type\":\"LinearAxis\"},{\"attributes\":{\"toolbar\":{\"id\":\"1c6345ff-edc7-4514-b6d9-2abe1ddc0fb8\",\"type\":\"ProxyToolbar\"},\"toolbar_location\":\"above\"},\"id\":\"5aac311f-3601-4788-b7d5-c9075fa974b9\",\"type\":\"ToolbarBox\"},{\"attributes\":{\"data_source\":{\"id\":\"76ec6cd4-9a14-432a-8aa2-956fd18897b1\",\"type\":\"ColumnDataSource\"},\"glyph\":{\"id\":\"efaa3cf0-f2f0-40fe-b683-e514b052df98\",\"type\":\"Square\"},\"hover_glyph\":null,\"muted_glyph\":null,\"nonselection_glyph\":{\"id\":\"bde93a09-0fe8-42ff-a5da-336482310341\",\"type\":\"Square\"},\"selection_glyph\":null,\"view\":{\"id\":\"6a3017c6-cd07-4975-8735-e22ae16b39e8\",\"type\":\"CDSView\"}},\"id\":\"95973a62-a3e4-4f43-bbf6-39e7a87153ed\",\"type\":\"GlyphRenderer\"},{\"attributes\":{},\"id\":\"123797ce-5d9a-4f30-8a94-b04799618e80\",\"type\":\"BasicTickFormatter\"},{\"attributes\":{\"dimension\":1,\"plot\":{\"id\":\"91b906a3-8157-436b-ae63-d2308a6eb39b\",\"subtype\":\"Figure\",\"type\":\"Plot\"},\"ticker\":{\"id\":\"7de1164a-b4cd-44b0-b877-69f0fa4440af\",\"type\":\"BasicTicker\"}},\"id\":\"243ba515-ad5f-4ad5-8bad-59e2b6a9a687\",\"type\":\"Grid\"},{\"attributes\":{\"data_source\":{\"id\":\"76ec6cd4-9a14-432a-8aa2-956fd18897b1\",\"type\":\"ColumnDataSource\"},\"glyph\":{\"id\":\"65f58c9b-9799-4247-afc3-506c31560c33\",\"type\":\"Circle\"},\"hover_glyph\":null,\"muted_glyph\":null,\"nonselection_glyph\":{\"id\":\"dd423ff2-dc2b-48d9-9435-16a48558db38\",\"type\":\"Circle\"},\"selection_glyph\":null,\"view\":{\"id\":\"b8e4780e-63d4-4411-855e-27422c9829e3\",\"type\":\"CDSView\"}},\"id\":\"8342867c-5dcd-43a7-8536-07a2c1a2e411\",\"type\":\"GlyphRenderer\"},{\"attributes\":{},\"id\":\"97577828-08ce-4f68-978d-41a60ccee4b1\",\"type\":\"Selection\"},{\"attributes\":{},\"id\":\"df755064-8cd1-4816-86d1-f6f068256efa\",\"type\":\"BasicTickFormatter\"},{\"attributes\":{\"plot\":null,\"text\":\"\"},\"id\":\"a03899b9-ffc8-432f-a874-423562bafd1d\",\"type\":\"Title\"},{\"attributes\":{\"formatter\":{\"id\":\"123797ce-5d9a-4f30-8a94-b04799618e80\",\"type\":\"BasicTickFormatter\"},\"plot\":{\"id\":\"e6e65d9e-7802-4460-83dd-58f116ed8c71\",\"subtype\":\"Figure\",\"type\":\"Plot\"},\"ticker\":{\"id\":\"6cb637a8-21df-49ec-b1b0-9fd41024bf33\",\"type\":\"BasicTicker\"}},\"id\":\"6b16a5a9-8dce-4a19-88c3-1f92b5643722\",\"type\":\"LinearAxis\"},{\"attributes\":{},\"id\":\"8b070173-8ad4-4dd1-ad28-ea0baeb40a11\",\"type\":\"BasicTicker\"}],\"root_ids\":[\"3f0087de-6484-443f-860a-db362a729c80\"]},\"title\":\"Bokeh Application\",\"version\":\"0.13.0\"}};\n",
       "  var render_items = [{\"docid\":\"3edfceac-35ec-4875-aa3c-200e15248800\",\"roots\":{\"3f0087de-6484-443f-860a-db362a729c80\":\"effaf384-d6cb-4165-9b0f-b7df160c8c7f\"}}];\n",
       "  root.Bokeh.embed.embed_items_notebook(docs_json, render_items);\n",
       "\n",
       "  }\n",
       "  if (root.Bokeh !== undefined) {\n",
       "    embed_document(root);\n",
       "  } else {\n",
       "    var attempts = 0;\n",
       "    var timer = setInterval(function(root) {\n",
       "      if (root.Bokeh !== undefined) {\n",
       "        embed_document(root);\n",
       "        clearInterval(timer);\n",
       "      }\n",
       "      attempts++;\n",
       "      if (attempts > 100) {\n",
       "        console.log(\"Bokeh: ERROR: Unable to run BokehJS code because BokehJS library is missing\")\n",
       "        clearInterval(timer);\n",
       "      }\n",
       "    }, 10, root)\n",
       "  }\n",
       "})(window);"
      ],
      "application/vnd.bokehjs_exec.v0+json": ""
     },
     "metadata": {
      "application/vnd.bokehjs_exec.v0+json": {
       "id": "3f0087de-6484-443f-860a-db362a729c80"
      }
     },
     "output_type": "display_data"
    }
   ],
   "source": [
    "# EXERCISE: create two plots in a gridplot, and link their data sources\n",
    "\n",
    "from bokeh.layouts import gridplot\n",
    "from bokeh.models import ColumnDataSource\n",
    "import numpy as np\n",
    "\n",
    "x = np.linspace(start=-10, stop=10,num=21)\n",
    "y0, y1, y2 = 100*x, x**3, abs(x**3)\n",
    "\n",
    "# create a column data source for the plots to share\n",
    "clmSource = ColumnDataSource(data=dict(x=x, y0=y0, y1=y1, y2=y2))\n",
    "\n",
    "plot_options = dict(width=250, plot_height=500, tools='pan,wheel_zoom,box_select,lasso_select')\n",
    "\n",
    "# create a new plot\n",
    "s1 = figure(**plot_options)\n",
    "s1.circle('x', 'y0', size=10, color=\"navy\", source=clmSource)\n",
    "\n",
    "# create a new plot and share both ranges\n",
    "s2 = figure(x_range=s1.x_range, y_range=s1.y_range, **plot_options)\n",
    "s2.triangle('x', 'y1', size=10, color=\"firebrick\", source=clmSource)\n",
    "\n",
    "# create a new plot and share only one range\n",
    "s3 = figure(x_range=s1.x_range, y_range=s1.y_range, **plot_options)\n",
    "s3.square('x', 'y2', size=10, color=\"olive\", source=clmSource)\n",
    "\n",
    "p = gridplot([[s1, s2, s3]])\n",
    "\n",
    "# show the results\n",
    "show(p)"
   ]
  },
  {
   "cell_type": "markdown",
   "metadata": {
    "slideshow": {
     "slide_type": "slide"
    }
   },
   "source": [
    "# Hover Tools\n",
    "\n",
    "Bokeh has a Hover Tool that allows additional information to be displayed in a popup whenever the user hovers over a specific glyph. Basic hover tool configuration amounts to providing a list of ``(name, format)`` tuples. The full details can be found in the User's Guide [here](http://bokeh.pydata.org/en/latest/docs/user_guide/tools.html#hovertool).\n",
    "\n",
    "The example below shows some basic usage of the Hover tool with a circle glyph, using hover information defined in utils.py:"
   ]
  },
  {
   "cell_type": "code",
   "execution_count": 48,
   "metadata": {
    "slideshow": {
     "slide_type": "subslide"
    }
   },
   "outputs": [
    {
     "data": {
      "text/html": [
       "\n",
       "\n",
       "\n",
       "\n",
       "\n",
       "\n",
       "  <div class=\"bk-root\" id=\"863a95ca-8dad-4dc8-a910-4d74174f2e67\"></div>\n"
      ]
     },
     "metadata": {},
     "output_type": "display_data"
    },
    {
     "data": {
      "application/javascript": [
       "(function(root) {\n",
       "  function embed_document(root) {\n",
       "    \n",
       "  var docs_json = {\"23f896c3-375a-49c8-bc63-16ba4ca0a9df\":{\"roots\":{\"references\":[{\"attributes\":{\"plot\":null,\"text\":\"Mouse over the dots\"},\"id\":\"8aecba51-027a-44a1-9e0a-80e2f3f001c9\",\"type\":\"Title\"},{\"attributes\":{\"callback\":null},\"id\":\"83463e45-1c38-4503-bc80-1322ec416b77\",\"type\":\"DataRange1d\"},{\"attributes\":{\"formatter\":{\"id\":\"d8ed3158-3729-45f2-8ffc-92c40662eea7\",\"type\":\"BasicTickFormatter\"},\"plot\":{\"id\":\"2bb4cbda-51a4-4170-a41a-73b4250d545d\",\"subtype\":\"Figure\",\"type\":\"Plot\"},\"ticker\":{\"id\":\"5293e385-c0f5-4a89-8e6a-90b568dccfe4\",\"type\":\"BasicTicker\"}},\"id\":\"e959e6ad-2e2a-429f-8797-4fb2713b9558\",\"type\":\"LinearAxis\"},{\"attributes\":{},\"id\":\"352e301d-8dbd-46f6-94ac-495c9c221a21\",\"type\":\"LinearScale\"},{\"attributes\":{},\"id\":\"16e1b629-28d5-4d2f-b987-640178e8e53a\",\"type\":\"LinearScale\"},{\"attributes\":{\"data_source\":{\"id\":\"d2c55ae5-67f3-4066-b03a-de73416ac1c9\",\"type\":\"ColumnDataSource\"},\"glyph\":{\"id\":\"3ce628b4-f3b3-4795-ad13-e212a66bc0a6\",\"type\":\"Circle\"},\"hover_glyph\":null,\"muted_glyph\":null,\"nonselection_glyph\":{\"id\":\"2333c6db-1ee7-443c-a296-cb6c3596fef7\",\"type\":\"Circle\"},\"selection_glyph\":null,\"view\":{\"id\":\"36bb10f0-9390-4e22-a967-8c37de0aa53f\",\"type\":\"CDSView\"}},\"id\":\"0f59cbb1-dd70-4e1d-a77d-5c7b3f3304cd\",\"type\":\"GlyphRenderer\"},{\"attributes\":{},\"id\":\"8709b68a-e5a9-4afe-aaad-bb22b8c3c40f\",\"type\":\"BasicTicker\"},{\"attributes\":{\"plot\":{\"id\":\"2bb4cbda-51a4-4170-a41a-73b4250d545d\",\"subtype\":\"Figure\",\"type\":\"Plot\"},\"ticker\":{\"id\":\"8709b68a-e5a9-4afe-aaad-bb22b8c3c40f\",\"type\":\"BasicTicker\"}},\"id\":\"bca3380e-0ce3-4bb4-92f6-22235f31c2f0\",\"type\":\"Grid\"},{\"attributes\":{\"dimension\":1,\"plot\":{\"id\":\"2bb4cbda-51a4-4170-a41a-73b4250d545d\",\"subtype\":\"Figure\",\"type\":\"Plot\"},\"ticker\":{\"id\":\"5293e385-c0f5-4a89-8e6a-90b568dccfe4\",\"type\":\"BasicTicker\"}},\"id\":\"6cd70e8a-f8a0-4e54-a633-c1201b4f9b7f\",\"type\":\"Grid\"},{\"attributes\":{},\"id\":\"19493dce-a51e-4de9-b1a1-f28f03020886\",\"type\":\"Selection\"},{\"attributes\":{\"below\":[{\"id\":\"704b1368-87b3-4682-a4d0-74545370cf05\",\"type\":\"LinearAxis\"}],\"left\":[{\"id\":\"e959e6ad-2e2a-429f-8797-4fb2713b9558\",\"type\":\"LinearAxis\"}],\"plot_height\":300,\"plot_width\":300,\"renderers\":[{\"id\":\"704b1368-87b3-4682-a4d0-74545370cf05\",\"type\":\"LinearAxis\"},{\"id\":\"bca3380e-0ce3-4bb4-92f6-22235f31c2f0\",\"type\":\"Grid\"},{\"id\":\"e959e6ad-2e2a-429f-8797-4fb2713b9558\",\"type\":\"LinearAxis\"},{\"id\":\"6cd70e8a-f8a0-4e54-a633-c1201b4f9b7f\",\"type\":\"Grid\"},{\"id\":\"0f59cbb1-dd70-4e1d-a77d-5c7b3f3304cd\",\"type\":\"GlyphRenderer\"}],\"title\":{\"id\":\"8aecba51-027a-44a1-9e0a-80e2f3f001c9\",\"type\":\"Title\"},\"toolbar\":{\"id\":\"608b7e2a-5f16-4ed4-8fc4-c1dd35e0fa43\",\"type\":\"Toolbar\"},\"x_range\":{\"id\":\"5e5c20ec-638b-429d-8bb0-ddbb01c6e36a\",\"type\":\"DataRange1d\"},\"x_scale\":{\"id\":\"352e301d-8dbd-46f6-94ac-495c9c221a21\",\"type\":\"LinearScale\"},\"y_range\":{\"id\":\"83463e45-1c38-4503-bc80-1322ec416b77\",\"type\":\"DataRange1d\"},\"y_scale\":{\"id\":\"16e1b629-28d5-4d2f-b987-640178e8e53a\",\"type\":\"LinearScale\"}},\"id\":\"2bb4cbda-51a4-4170-a41a-73b4250d545d\",\"subtype\":\"Figure\",\"type\":\"Plot\"},{\"attributes\":{\"callback\":null,\"renderers\":\"auto\",\"tooltips\":[[\"index\",\"$index\"],[\"(x,y)\",\"($x, $y)\"],[\"desc\",\"@desc\"]]},\"id\":\"30b77aa1-f779-4490-b10a-cc4846cc6df9\",\"type\":\"HoverTool\"},{\"attributes\":{\"formatter\":{\"id\":\"9cceff7e-c1ab-4c40-b293-91abb8ea086f\",\"type\":\"BasicTickFormatter\"},\"plot\":{\"id\":\"2bb4cbda-51a4-4170-a41a-73b4250d545d\",\"subtype\":\"Figure\",\"type\":\"Plot\"},\"ticker\":{\"id\":\"8709b68a-e5a9-4afe-aaad-bb22b8c3c40f\",\"type\":\"BasicTicker\"}},\"id\":\"704b1368-87b3-4682-a4d0-74545370cf05\",\"type\":\"LinearAxis\"},{\"attributes\":{},\"id\":\"5293e385-c0f5-4a89-8e6a-90b568dccfe4\",\"type\":\"BasicTicker\"},{\"attributes\":{\"fill_alpha\":{\"value\":0.1},\"fill_color\":{\"value\":\"#1f77b4\"},\"line_alpha\":{\"value\":0.1},\"line_color\":{\"value\":\"#1f77b4\"},\"size\":{\"units\":\"screen\",\"value\":20},\"x\":{\"field\":\"x\"},\"y\":{\"field\":\"y\"}},\"id\":\"2333c6db-1ee7-443c-a296-cb6c3596fef7\",\"type\":\"Circle\"},{\"attributes\":{\"source\":{\"id\":\"d2c55ae5-67f3-4066-b03a-de73416ac1c9\",\"type\":\"ColumnDataSource\"}},\"id\":\"36bb10f0-9390-4e22-a967-8c37de0aa53f\",\"type\":\"CDSView\"},{\"attributes\":{\"active_drag\":\"auto\",\"active_inspect\":\"auto\",\"active_multi\":null,\"active_scroll\":\"auto\",\"active_tap\":\"auto\",\"tools\":[{\"id\":\"30b77aa1-f779-4490-b10a-cc4846cc6df9\",\"type\":\"HoverTool\"}]},\"id\":\"608b7e2a-5f16-4ed4-8fc4-c1dd35e0fa43\",\"type\":\"Toolbar\"},{\"attributes\":{},\"id\":\"9cceff7e-c1ab-4c40-b293-91abb8ea086f\",\"type\":\"BasicTickFormatter\"},{\"attributes\":{\"callback\":null,\"data\":{\"desc\":[\"A\",\"b\",\"C\",\"d\",\"E\"],\"x\":[1,2,3,4,5],\"y\":[2,5,8,2,7]},\"selected\":{\"id\":\"19493dce-a51e-4de9-b1a1-f28f03020886\",\"type\":\"Selection\"},\"selection_policy\":{\"id\":\"86e08387-c6dc-432c-a88a-3461179e7448\",\"type\":\"UnionRenderers\"}},\"id\":\"d2c55ae5-67f3-4066-b03a-de73416ac1c9\",\"type\":\"ColumnDataSource\"},{\"attributes\":{},\"id\":\"86e08387-c6dc-432c-a88a-3461179e7448\",\"type\":\"UnionRenderers\"},{\"attributes\":{},\"id\":\"d8ed3158-3729-45f2-8ffc-92c40662eea7\",\"type\":\"BasicTickFormatter\"},{\"attributes\":{\"fill_color\":{\"value\":\"#1f77b4\"},\"line_color\":{\"value\":\"#1f77b4\"},\"size\":{\"units\":\"screen\",\"value\":20},\"x\":{\"field\":\"x\"},\"y\":{\"field\":\"y\"}},\"id\":\"3ce628b4-f3b3-4795-ad13-e212a66bc0a6\",\"type\":\"Circle\"},{\"attributes\":{\"callback\":null},\"id\":\"5e5c20ec-638b-429d-8bb0-ddbb01c6e36a\",\"type\":\"DataRange1d\"}],\"root_ids\":[\"2bb4cbda-51a4-4170-a41a-73b4250d545d\"]},\"title\":\"Bokeh Application\",\"version\":\"0.13.0\"}};\n",
       "  var render_items = [{\"docid\":\"23f896c3-375a-49c8-bc63-16ba4ca0a9df\",\"roots\":{\"2bb4cbda-51a4-4170-a41a-73b4250d545d\":\"863a95ca-8dad-4dc8-a910-4d74174f2e67\"}}];\n",
       "  root.Bokeh.embed.embed_items_notebook(docs_json, render_items);\n",
       "\n",
       "  }\n",
       "  if (root.Bokeh !== undefined) {\n",
       "    embed_document(root);\n",
       "  } else {\n",
       "    var attempts = 0;\n",
       "    var timer = setInterval(function(root) {\n",
       "      if (root.Bokeh !== undefined) {\n",
       "        embed_document(root);\n",
       "        clearInterval(timer);\n",
       "      }\n",
       "      attempts++;\n",
       "      if (attempts > 100) {\n",
       "        console.log(\"Bokeh: ERROR: Unable to run BokehJS code because BokehJS library is missing\")\n",
       "        clearInterval(timer);\n",
       "      }\n",
       "    }, 10, root)\n",
       "  }\n",
       "})(window);"
      ],
      "application/vnd.bokehjs_exec.v0+json": ""
     },
     "metadata": {
      "application/vnd.bokehjs_exec.v0+json": {
       "id": "2bb4cbda-51a4-4170-a41a-73b4250d545d"
      }
     },
     "output_type": "display_data"
    }
   ],
   "source": [
    "from bokeh.models import HoverTool\n",
    "\n",
    "source = ColumnDataSource(\n",
    "        data=dict(\n",
    "            x=[1, 2, 3, 4, 5],\n",
    "            y=[2, 5, 8, 2, 7],\n",
    "            desc=['A', 'b', 'C', 'd', 'E'],\n",
    "        )\n",
    "    )\n",
    "\n",
    "hover = HoverTool(\n",
    "        tooltips=[\n",
    "            (\"index\", \"$index\"),\n",
    "            (\"(x,y)\", \"($x, $y)\"),\n",
    "            (\"desc\", \"@desc\"),\n",
    "        ]\n",
    "    )\n",
    "\n",
    "p = figure(plot_width=300, plot_height=300, tools=[hover], title=\"Mouse over the dots\")\n",
    "\n",
    "p.circle('x', 'y', size=20, source=source)\n",
    "\n",
    "show(p)"
   ]
  },
  {
   "cell_type": "markdown",
   "metadata": {
    "slideshow": {
     "slide_type": "slide"
    }
   },
   "source": [
    "# Widgets"
   ]
  },
  {
   "cell_type": "markdown",
   "metadata": {},
   "source": [
    "Bokeh supports direct integration with a small basic widget set. Thse can be used in conjunction with a Bokeh Server, or with ``CustomJS`` models to add more interactive capability to your documents. You can see a complete list, with example code in the [Adding Widgets](http://bokeh.pydata.org/en/latest/docs/user_guide/interaction.html#adding-widgets) section of the User's Guide. \n",
    "\n",
    "\n",
    "\n",
    "*NOTE: In this Tutorial chapter, we will focus on using widgets with JavaScript callbacks. The Tutorial chapter on Bokeh server applications covers using Bokeh widgets with real Python callbacks*\n",
    "\n",
    "\n",
    "\n",
    "\n",
    "To use the widgets, include them in a layout like you would a plot object:"
   ]
  },
  {
   "cell_type": "code",
   "execution_count": 49,
   "metadata": {
    "slideshow": {
     "slide_type": "subslide"
    }
   },
   "outputs": [
    {
     "data": {
      "text/html": [
       "\n",
       "\n",
       "\n",
       "\n",
       "\n",
       "\n",
       "  <div class=\"bk-root\" id=\"e607b757-6707-4205-aae7-67bf15cae381\"></div>\n"
      ]
     },
     "metadata": {},
     "output_type": "display_data"
    },
    {
     "data": {
      "application/javascript": [
       "(function(root) {\n",
       "  function embed_document(root) {\n",
       "    \n",
       "  var docs_json = {\"20cc825e-3f4d-4159-bb56-7c528b68dbc4\":{\"roots\":{\"references\":[{\"attributes\":{\"children\":[{\"id\":\"065c87f1-438e-454a-b781-774e802ae8ad\",\"type\":\"Slider\"}]},\"id\":\"8645a88e-ba4d-45a7-99e7-4a502fb66a3b\",\"type\":\"WidgetBox\"},{\"attributes\":{\"callback\":null,\"end\":10,\"start\":0,\"step\":0.1,\"title\":\"foo\",\"value\":1},\"id\":\"065c87f1-438e-454a-b781-774e802ae8ad\",\"type\":\"Slider\"}],\"root_ids\":[\"8645a88e-ba4d-45a7-99e7-4a502fb66a3b\"]},\"title\":\"Bokeh Application\",\"version\":\"0.13.0\"}};\n",
       "  var render_items = [{\"docid\":\"20cc825e-3f4d-4159-bb56-7c528b68dbc4\",\"roots\":{\"8645a88e-ba4d-45a7-99e7-4a502fb66a3b\":\"e607b757-6707-4205-aae7-67bf15cae381\"}}];\n",
       "  root.Bokeh.embed.embed_items_notebook(docs_json, render_items);\n",
       "\n",
       "  }\n",
       "  if (root.Bokeh !== undefined) {\n",
       "    embed_document(root);\n",
       "  } else {\n",
       "    var attempts = 0;\n",
       "    var timer = setInterval(function(root) {\n",
       "      if (root.Bokeh !== undefined) {\n",
       "        embed_document(root);\n",
       "        clearInterval(timer);\n",
       "      }\n",
       "      attempts++;\n",
       "      if (attempts > 100) {\n",
       "        console.log(\"Bokeh: ERROR: Unable to run BokehJS code because BokehJS library is missing\")\n",
       "        clearInterval(timer);\n",
       "      }\n",
       "    }, 10, root)\n",
       "  }\n",
       "})(window);"
      ],
      "application/vnd.bokehjs_exec.v0+json": ""
     },
     "metadata": {
      "application/vnd.bokehjs_exec.v0+json": {
       "id": "8645a88e-ba4d-45a7-99e7-4a502fb66a3b"
      }
     },
     "output_type": "display_data"
    }
   ],
   "source": [
    "from bokeh.layouts import widgetbox\n",
    "from bokeh.models.widgets import Slider\n",
    "\n",
    "\n",
    "slider = Slider(start=0, end=10, value=1, step=.1, title=\"foo\")\n",
    "\n",
    "show(widgetbox(slider))"
   ]
  },
  {
   "cell_type": "code",
   "execution_count": 8,
   "metadata": {},
   "outputs": [],
   "source": [
    "# EXERCISE: create and show a Select widget \n"
   ]
  },
  {
   "cell_type": "markdown",
   "metadata": {
    "slideshow": {
     "slide_type": "slide"
    }
   },
   "source": [
    "# CustomJS Callbacks\n",
    "\n",
    "In order for a widget to be useful, it needs to be able to perform some action. Using the Bokeh server, it is possible to have widgets trigger real Python code. That possibuility will be explored in the Bokeh server chapter of the turorial. Here, we look at how widgets can be configured with `CustomJS` callbacks that execute snippets of JavaScript code. "
   ]
  },
  {
   "cell_type": "code",
   "execution_count": 6,
   "metadata": {
    "slideshow": {
     "slide_type": "subslide"
    }
   },
   "outputs": [
    {
     "data": {
      "text/html": [
       "\n",
       "\n",
       "\n",
       "\n",
       "\n",
       "\n",
       "  <div class=\"bk-root\" id=\"a619a068-692b-478f-b0e8-24974f17e6ea\"></div>\n"
      ]
     },
     "metadata": {},
     "output_type": "display_data"
    },
    {
     "data": {
      "application/javascript": [
       "(function(root) {\n",
       "  function embed_document(root) {\n",
       "    \n",
       "  var docs_json = {\"383c4c96-ce2d-4435-b1fa-4ebd8839285a\":{\"roots\":{\"references\":[{\"attributes\":{},\"id\":\"18f0ac7e-4509-42d4-bfa3-f718af791cc3\",\"type\":\"BasicTicker\"},{\"attributes\":{\"callback\":null,\"data\":{\"x\":[1,2,3,4,5],\"y\":[2,5,8,2,7]},\"selected\":{\"id\":\"25eb9310-e1dd-47df-8e57-82eb14f87f62\",\"type\":\"Selection\"},\"selection_policy\":{\"id\":\"0ead9de5-ac50-4ad7-a541-eb3e0b495ece\",\"type\":\"UnionRenderers\"}},\"id\":\"30d4b903-c3b4-419a-a65b-3bb890708253\",\"type\":\"ColumnDataSource\"},{\"attributes\":{\"below\":[{\"id\":\"14c47d66-ebcf-4d91-93b8-f41f64393f01\",\"type\":\"LinearAxis\"}],\"left\":[{\"id\":\"5681211a-6b89-4e84-adae-da561e82f3a1\",\"type\":\"LinearAxis\"}],\"plot_height\":300,\"renderers\":[{\"id\":\"14c47d66-ebcf-4d91-93b8-f41f64393f01\",\"type\":\"LinearAxis\"},{\"id\":\"532add15-d086-4476-9a6f-28d5a022f8ff\",\"type\":\"Grid\"},{\"id\":\"5681211a-6b89-4e84-adae-da561e82f3a1\",\"type\":\"LinearAxis\"},{\"id\":\"da609ee3-96fb-455c-9dc5-23f46525f4d5\",\"type\":\"Grid\"},{\"id\":\"cf1d434f-a200-4fb7-9138-8f53d51fa87f\",\"type\":\"GlyphRenderer\"}],\"title\":{\"id\":\"2d10e267-9492-46d1-a27d-38f2546b1ea2\",\"type\":\"Title\"},\"toolbar\":{\"id\":\"d20c423d-a6cf-4da7-8cda-a2294218cb4f\",\"type\":\"Toolbar\"},\"x_range\":{\"id\":\"7f0edc9b-b4f5-49f5-90b0-14dc9c34e628\",\"type\":\"DataRange1d\"},\"x_scale\":{\"id\":\"a76a9062-64c8-44bb-97ad-c94f78fffdac\",\"type\":\"LinearScale\"},\"y_range\":{\"id\":\"c75bea7b-551f-48e7-8290-66de69476470\",\"type\":\"DataRange1d\"},\"y_scale\":{\"id\":\"4368909f-afc5-4682-a673-1255dc734e7b\",\"type\":\"LinearScale\"}},\"id\":\"3d81ace9-3cd4-43fa-923b-584c91121358\",\"subtype\":\"Figure\",\"type\":\"Plot\"},{\"attributes\":{},\"id\":\"6b327767-09b8-4ef1-8c43-769b469f4208\",\"type\":\"BasicTickFormatter\"},{\"attributes\":{},\"id\":\"25eb9310-e1dd-47df-8e57-82eb14f87f62\",\"type\":\"Selection\"},{\"attributes\":{\"code\":\"alert('you tapped a circle!')\"},\"id\":\"f826b9d5-8481-4b8b-a555-be153034a243\",\"type\":\"CustomJS\"},{\"attributes\":{\"formatter\":{\"id\":\"bc363ed7-02cc-46fb-807d-e1529ee1b16c\",\"type\":\"BasicTickFormatter\"},\"plot\":{\"id\":\"3d81ace9-3cd4-43fa-923b-584c91121358\",\"subtype\":\"Figure\",\"type\":\"Plot\"},\"ticker\":{\"id\":\"18f0ac7e-4509-42d4-bfa3-f718af791cc3\",\"type\":\"BasicTicker\"}},\"id\":\"14c47d66-ebcf-4d91-93b8-f41f64393f01\",\"type\":\"LinearAxis\"},{\"attributes\":{},\"id\":\"100efeba-95b8-44d3-9063-21f37120ae42\",\"type\":\"BasicTicker\"},{\"attributes\":{\"callback\":{\"id\":\"f826b9d5-8481-4b8b-a555-be153034a243\",\"type\":\"CustomJS\"}},\"id\":\"de8cf9d5-c14c-4993-af45-57f1d61c9b41\",\"type\":\"TapTool\"},{\"attributes\":{},\"id\":\"0ead9de5-ac50-4ad7-a541-eb3e0b495ece\",\"type\":\"UnionRenderers\"},{\"attributes\":{\"callback\":null},\"id\":\"c75bea7b-551f-48e7-8290-66de69476470\",\"type\":\"DataRange1d\"},{\"attributes\":{\"source\":{\"id\":\"30d4b903-c3b4-419a-a65b-3bb890708253\",\"type\":\"ColumnDataSource\"}},\"id\":\"e9b372bb-1c06-4505-9b01-e1e1dcb57010\",\"type\":\"CDSView\"},{\"attributes\":{\"formatter\":{\"id\":\"6b327767-09b8-4ef1-8c43-769b469f4208\",\"type\":\"BasicTickFormatter\"},\"plot\":{\"id\":\"3d81ace9-3cd4-43fa-923b-584c91121358\",\"subtype\":\"Figure\",\"type\":\"Plot\"},\"ticker\":{\"id\":\"100efeba-95b8-44d3-9063-21f37120ae42\",\"type\":\"BasicTicker\"}},\"id\":\"5681211a-6b89-4e84-adae-da561e82f3a1\",\"type\":\"LinearAxis\"},{\"attributes\":{\"fill_alpha\":{\"value\":0.1},\"fill_color\":{\"value\":\"#1f77b4\"},\"line_alpha\":{\"value\":0.1},\"line_color\":{\"value\":\"#1f77b4\"},\"size\":{\"units\":\"screen\",\"value\":20},\"x\":{\"field\":\"x\"},\"y\":{\"field\":\"y\"}},\"id\":\"d3376535-15a2-470d-84a9-d4ab2f881c85\",\"type\":\"Circle\"},{\"attributes\":{},\"id\":\"4368909f-afc5-4682-a673-1255dc734e7b\",\"type\":\"LinearScale\"},{\"attributes\":{\"plot\":null,\"text\":\"\"},\"id\":\"2d10e267-9492-46d1-a27d-38f2546b1ea2\",\"type\":\"Title\"},{\"attributes\":{\"data_source\":{\"id\":\"30d4b903-c3b4-419a-a65b-3bb890708253\",\"type\":\"ColumnDataSource\"},\"glyph\":{\"id\":\"617b1275-1416-45b2-91c4-a9deba128fe7\",\"type\":\"Circle\"},\"hover_glyph\":null,\"muted_glyph\":null,\"nonselection_glyph\":{\"id\":\"d3376535-15a2-470d-84a9-d4ab2f881c85\",\"type\":\"Circle\"},\"selection_glyph\":null,\"view\":{\"id\":\"e9b372bb-1c06-4505-9b01-e1e1dcb57010\",\"type\":\"CDSView\"}},\"id\":\"cf1d434f-a200-4fb7-9138-8f53d51fa87f\",\"type\":\"GlyphRenderer\"},{\"attributes\":{\"dimension\":1,\"plot\":{\"id\":\"3d81ace9-3cd4-43fa-923b-584c91121358\",\"subtype\":\"Figure\",\"type\":\"Plot\"},\"ticker\":{\"id\":\"100efeba-95b8-44d3-9063-21f37120ae42\",\"type\":\"BasicTicker\"}},\"id\":\"da609ee3-96fb-455c-9dc5-23f46525f4d5\",\"type\":\"Grid\"},{\"attributes\":{},\"id\":\"bc363ed7-02cc-46fb-807d-e1529ee1b16c\",\"type\":\"BasicTickFormatter\"},{\"attributes\":{\"callback\":null},\"id\":\"7f0edc9b-b4f5-49f5-90b0-14dc9c34e628\",\"type\":\"DataRange1d\"},{\"attributes\":{},\"id\":\"a76a9062-64c8-44bb-97ad-c94f78fffdac\",\"type\":\"LinearScale\"},{\"attributes\":{\"active_drag\":\"auto\",\"active_inspect\":\"auto\",\"active_multi\":null,\"active_scroll\":\"auto\",\"active_tap\":\"auto\",\"tools\":[{\"id\":\"de8cf9d5-c14c-4993-af45-57f1d61c9b41\",\"type\":\"TapTool\"}]},\"id\":\"d20c423d-a6cf-4da7-8cda-a2294218cb4f\",\"type\":\"Toolbar\"},{\"attributes\":{\"fill_color\":{\"value\":\"#1f77b4\"},\"line_color\":{\"value\":\"#1f77b4\"},\"size\":{\"units\":\"screen\",\"value\":20},\"x\":{\"field\":\"x\"},\"y\":{\"field\":\"y\"}},\"id\":\"617b1275-1416-45b2-91c4-a9deba128fe7\",\"type\":\"Circle\"},{\"attributes\":{\"plot\":{\"id\":\"3d81ace9-3cd4-43fa-923b-584c91121358\",\"subtype\":\"Figure\",\"type\":\"Plot\"},\"ticker\":{\"id\":\"18f0ac7e-4509-42d4-bfa3-f718af791cc3\",\"type\":\"BasicTicker\"}},\"id\":\"532add15-d086-4476-9a6f-28d5a022f8ff\",\"type\":\"Grid\"}],\"root_ids\":[\"3d81ace9-3cd4-43fa-923b-584c91121358\"]},\"title\":\"Bokeh Application\",\"version\":\"0.13.0\"}};\n",
       "  var render_items = [{\"docid\":\"383c4c96-ce2d-4435-b1fa-4ebd8839285a\",\"roots\":{\"3d81ace9-3cd4-43fa-923b-584c91121358\":\"a619a068-692b-478f-b0e8-24974f17e6ea\"}}];\n",
       "  root.Bokeh.embed.embed_items_notebook(docs_json, render_items);\n",
       "\n",
       "  }\n",
       "  if (root.Bokeh !== undefined) {\n",
       "    embed_document(root);\n",
       "  } else {\n",
       "    var attempts = 0;\n",
       "    var timer = setInterval(function(root) {\n",
       "      if (root.Bokeh !== undefined) {\n",
       "        embed_document(root);\n",
       "        clearInterval(timer);\n",
       "      }\n",
       "      attempts++;\n",
       "      if (attempts > 100) {\n",
       "        console.log(\"Bokeh: ERROR: Unable to run BokehJS code because BokehJS library is missing\")\n",
       "        clearInterval(timer);\n",
       "      }\n",
       "    }, 10, root)\n",
       "  }\n",
       "})(window);"
      ],
      "application/vnd.bokehjs_exec.v0+json": ""
     },
     "metadata": {
      "application/vnd.bokehjs_exec.v0+json": {
       "id": "3d81ace9-3cd4-43fa-923b-584c91121358"
      }
     },
     "output_type": "display_data"
    }
   ],
   "source": [
    "from bokeh.models import TapTool, CustomJS, ColumnDataSource\n",
    "\n",
    "callback = CustomJS(code=\"alert('you tapped a circle!')\")\n",
    "tap = TapTool(callback=callback)\n",
    "\n",
    "p = figure(plot_width=600, plot_height=300, tools=[tap])\n",
    "\n",
    "p.circle(x=[1, 2, 3, 4, 5], y=[2, 5, 8, 2, 7], size=20)\n",
    "\n",
    "show(p)"
   ]
  },
  {
   "cell_type": "markdown",
   "metadata": {
    "slideshow": {
     "slide_type": "slide"
    }
   },
   "source": [
    "## CustomJS for Property changes\n",
    "\n",
    "Bokeh objects that have values associated can have small JavaScript actions attached to them using the `js_on_change` method. These actions (also referred to as \"callbacks\") are executed whenever the widget's value is changed. In order to make it easier to refer to specific Bokeh models (e.g., a data source, or a glyhph) from JavaScript, the ``CustomJS`` obejct also accepts a dictionary of \"args\" that map names to Python Bokeh models. The corresponding JavaScript models are made available automaticaly to the ``CustomJS`` code:\n",
    "\n",
    "```python\n",
    "CustomJS(args=dict(source=source, slider=slider), code=\"\"\"\n",
    "    // easily refer to BokehJS source and slider objects in this JS code\n",
    "    var data = source.data;\n",
    "    var f = slider.value;\n",
    "\"\"\")\n",
    "```"
   ]
  },
  {
   "cell_type": "markdown",
   "metadata": {
    "slideshow": {
     "slide_type": "slide"
    }
   },
   "source": [
    "### Slider widget example\n",
    "\n",
    "The example below shows an action attached to a slider that updates a data source whenever the slider is moved.  "
   ]
  },
  {
   "cell_type": "code",
   "execution_count": 7,
   "metadata": {
    "slideshow": {
     "slide_type": "subslide"
    }
   },
   "outputs": [
    {
     "data": {
      "text/html": [
       "\n",
       "\n",
       "\n",
       "\n",
       "\n",
       "\n",
       "  <div class=\"bk-root\" id=\"0046136b-40fc-4ecf-b0c9-7cf5e95affb0\"></div>\n"
      ]
     },
     "metadata": {},
     "output_type": "display_data"
    },
    {
     "data": {
      "application/javascript": [
       "(function(root) {\n",
       "  function embed_document(root) {\n",
       "    \n",
       "  var docs_json = {\"4b6546f6-10dc-42e3-bd00-33923ce95bfa\":{\"roots\":{\"references\":[{\"attributes\":{},\"id\":\"c6edd218-413e-46e3-8080-e1afdb2a1a14\",\"type\":\"SaveTool\"},{\"attributes\":{\"callback\":null,\"data\":{\"x\":[0.0,0.005,0.01,0.015,0.02,0.025,0.03,0.035,0.04,0.045,0.05,0.055,0.06,0.065,0.07,0.075,0.08,0.085,0.09,0.095,0.1,0.105,0.11,0.115,0.12,0.125,0.13,0.135,0.14,0.145,0.15,0.155,0.16,0.165,0.17,0.17500000000000002,0.18,0.185,0.19,0.195,0.2,0.20500000000000002,0.21,0.215,0.22,0.225,0.23,0.23500000000000001,0.24,0.245,0.25,0.255,0.26,0.265,0.27,0.275,0.28,0.28500000000000003,0.29,0.295,0.3,0.305,0.31,0.315,0.32,0.325,0.33,0.335,0.34,0.34500000000000003,0.35000000000000003,0.355,0.36,0.365,0.37,0.375,0.38,0.385,0.39,0.395,0.4,0.405,0.41000000000000003,0.41500000000000004,0.42,0.425,0.43,0.435,0.44,0.445,0.45,0.455,0.46,0.465,0.47000000000000003,0.47500000000000003,0.48,0.485,0.49,0.495,0.5,0.505,0.51,0.515,0.52,0.525,0.53,0.535,0.54,0.545,0.55,0.555,0.56,0.5650000000000001,0.5700000000000001,0.5750000000000001,0.58,0.585,0.59,0.595,0.6,0.605,0.61,0.615,0.62,0.625,0.63,0.635,0.64,0.645,0.65,0.655,0.66,0.665,0.67,0.675,0.68,0.685,0.6900000000000001,0.6950000000000001,0.7000000000000001,0.705,0.71,0.715,0.72,0.725,0.73,0.735,0.74,0.745,0.75,0.755,0.76,0.765,0.77,0.775,0.78,0.785,0.79,0.795,0.8,0.805,0.81,0.8150000000000001,0.8200000000000001,0.8250000000000001,0.8300000000000001,0.835,0.84,0.845,0.85,0.855,0.86,0.865,0.87,0.875,0.88,0.885,0.89,0.895,0.9,0.905,0.91,0.915,0.92,0.925,0.93,0.935,0.9400000000000001,0.9450000000000001,0.9500000000000001,0.9550000000000001,0.96,0.965,0.97,0.975,0.98,0.985,0.99,0.995,1.0],\"y\":[0.0,0.005,0.01,0.015,0.02,0.025,0.03,0.035,0.04,0.045,0.05,0.055,0.06,0.065,0.07,0.075,0.08,0.085,0.09,0.095,0.1,0.105,0.11,0.115,0.12,0.125,0.13,0.135,0.14,0.145,0.15,0.155,0.16,0.165,0.17,0.17500000000000002,0.18,0.185,0.19,0.195,0.2,0.20500000000000002,0.21,0.215,0.22,0.225,0.23,0.23500000000000001,0.24,0.245,0.25,0.255,0.26,0.265,0.27,0.275,0.28,0.28500000000000003,0.29,0.295,0.3,0.305,0.31,0.315,0.32,0.325,0.33,0.335,0.34,0.34500000000000003,0.35000000000000003,0.355,0.36,0.365,0.37,0.375,0.38,0.385,0.39,0.395,0.4,0.405,0.41000000000000003,0.41500000000000004,0.42,0.425,0.43,0.435,0.44,0.445,0.45,0.455,0.46,0.465,0.47000000000000003,0.47500000000000003,0.48,0.485,0.49,0.495,0.5,0.505,0.51,0.515,0.52,0.525,0.53,0.535,0.54,0.545,0.55,0.555,0.56,0.5650000000000001,0.5700000000000001,0.5750000000000001,0.58,0.585,0.59,0.595,0.6,0.605,0.61,0.615,0.62,0.625,0.63,0.635,0.64,0.645,0.65,0.655,0.66,0.665,0.67,0.675,0.68,0.685,0.6900000000000001,0.6950000000000001,0.7000000000000001,0.705,0.71,0.715,0.72,0.725,0.73,0.735,0.74,0.745,0.75,0.755,0.76,0.765,0.77,0.775,0.78,0.785,0.79,0.795,0.8,0.805,0.81,0.8150000000000001,0.8200000000000001,0.8250000000000001,0.8300000000000001,0.835,0.84,0.845,0.85,0.855,0.86,0.865,0.87,0.875,0.88,0.885,0.89,0.895,0.9,0.905,0.91,0.915,0.92,0.925,0.93,0.935,0.9400000000000001,0.9450000000000001,0.9500000000000001,0.9550000000000001,0.96,0.965,0.97,0.975,0.98,0.985,0.99,0.995,1.0]},\"selected\":{\"id\":\"57a14b19-c3e5-440a-b0a6-8412029378a5\",\"type\":\"Selection\"},\"selection_policy\":{\"id\":\"480d5479-00ec-4b1c-976a-af35de54ee01\",\"type\":\"UnionRenderers\"}},\"id\":\"57a1a589-f61a-4d2d-acba-49b3fb3474ac\",\"type\":\"ColumnDataSource\"},{\"attributes\":{\"callback\":null,\"end\":6,\"js_property_callbacks\":{\"change:value\":[{\"id\":\"be9239f7-4db2-474c-bef6-e3304409efcb\",\"type\":\"CustomJS\"}]},\"start\":0.1,\"step\":0.1,\"title\":\"power\",\"value\":1},\"id\":\"dde0dd33-5c16-494a-ba11-d18bee3aa950\",\"type\":\"Slider\"},{\"attributes\":{\"active_drag\":\"auto\",\"active_inspect\":\"auto\",\"active_multi\":null,\"active_scroll\":\"auto\",\"active_tap\":\"auto\",\"tools\":[{\"id\":\"9244b300-1da6-455f-bcb4-1af3965b16ce\",\"type\":\"PanTool\"},{\"id\":\"45e80fc9-487e-4576-af5a-7d1829dac742\",\"type\":\"WheelZoomTool\"},{\"id\":\"6c9d8a2a-dd83-4167-94f1-9885b5632763\",\"type\":\"BoxZoomTool\"},{\"id\":\"c6edd218-413e-46e3-8080-e1afdb2a1a14\",\"type\":\"SaveTool\"},{\"id\":\"a8fb3c97-9669-4757-a642-a257d6e23b03\",\"type\":\"ResetTool\"},{\"id\":\"19b34d75-9624-4b4f-aef7-048234bd0682\",\"type\":\"HelpTool\"}]},\"id\":\"9f836a43-141b-47bb-8afb-b9a8e1d10925\",\"type\":\"Toolbar\"},{\"attributes\":{},\"id\":\"9244b300-1da6-455f-bcb4-1af3965b16ce\",\"type\":\"PanTool\"},{\"attributes\":{\"callback\":null},\"id\":\"a184fa2e-9d08-4b57-827e-48d0c954acd6\",\"type\":\"DataRange1d\"},{\"attributes\":{},\"id\":\"4745448c-4b7a-4087-84ec-dbd9d74ccda4\",\"type\":\"LinearScale\"},{\"attributes\":{\"children\":[{\"id\":\"71391170-7661-498b-944d-29217444b855\",\"type\":\"WidgetBox\"},{\"id\":\"d2ad3803-cfd3-46df-8b0f-3a546d592623\",\"subtype\":\"Figure\",\"type\":\"Plot\"}]},\"id\":\"d1c61256-f84b-457b-9e6b-7c5f802e61af\",\"type\":\"Column\"},{\"attributes\":{\"args\":{\"slider\":{\"id\":\"dde0dd33-5c16-494a-ba11-d18bee3aa950\",\"type\":\"Slider\"},\"source\":{\"id\":\"57a1a589-f61a-4d2d-acba-49b3fb3474ac\",\"type\":\"ColumnDataSource\"}},\"code\":\"\\n    var data = source.data;\\n    var f = slider.value;\\n    x = data['x']\\n    y = data['y']\\n    for (i = 0; i < x.length; i++) {\\n        y[i] = Math.pow(x[i], f)\\n    }\\n    \\n    // necessary becasue we mutated source.data in-place\\n    source.change.emit();\\n\"},\"id\":\"be9239f7-4db2-474c-bef6-e3304409efcb\",\"type\":\"CustomJS\"},{\"attributes\":{\"data_source\":{\"id\":\"57a1a589-f61a-4d2d-acba-49b3fb3474ac\",\"type\":\"ColumnDataSource\"},\"glyph\":{\"id\":\"4d6653e0-8ab4-450a-bf02-5cb583670abc\",\"type\":\"Line\"},\"hover_glyph\":null,\"muted_glyph\":null,\"nonselection_glyph\":{\"id\":\"ff684fd8-9cdb-4c5f-9aac-326473c62afd\",\"type\":\"Line\"},\"selection_glyph\":null,\"view\":{\"id\":\"3c580138-d7ab-46cf-9105-eb4b351ac304\",\"type\":\"CDSView\"}},\"id\":\"dbdae58a-47d2-412b-a69b-fe3d492f7e9f\",\"type\":\"GlyphRenderer\"},{\"attributes\":{},\"id\":\"480d5479-00ec-4b1c-976a-af35de54ee01\",\"type\":\"UnionRenderers\"},{\"attributes\":{\"callback\":null},\"id\":\"180d79e7-b119-476b-81d9-e8eb6f9d8482\",\"type\":\"DataRange1d\"},{\"attributes\":{},\"id\":\"84aabaec-ee60-4951-85d2-eceb8143ee22\",\"type\":\"LinearScale\"},{\"attributes\":{\"bottom_units\":\"screen\",\"fill_alpha\":{\"value\":0.5},\"fill_color\":{\"value\":\"lightgrey\"},\"left_units\":\"screen\",\"level\":\"overlay\",\"line_alpha\":{\"value\":1.0},\"line_color\":{\"value\":\"black\"},\"line_dash\":[4,4],\"line_width\":{\"value\":2},\"plot\":null,\"render_mode\":\"css\",\"right_units\":\"screen\",\"top_units\":\"screen\"},\"id\":\"95d61ead-1a29-4160-87b7-c8cec131df9d\",\"type\":\"BoxAnnotation\"},{\"attributes\":{\"line_alpha\":0.6,\"line_color\":\"#1f77b4\",\"line_width\":3,\"x\":{\"field\":\"x\"},\"y\":{\"field\":\"y\"}},\"id\":\"4d6653e0-8ab4-450a-bf02-5cb583670abc\",\"type\":\"Line\"},{\"attributes\":{},\"id\":\"a2597c41-f74b-43d5-9e34-1346d64877c2\",\"type\":\"BasicTicker\"},{\"attributes\":{\"plot\":null,\"text\":\"\"},\"id\":\"2e4f8941-c411-4803-980f-746a91f3531b\",\"type\":\"Title\"},{\"attributes\":{},\"id\":\"702f63ee-c506-4f46-9ce9-8310750f7a89\",\"type\":\"BasicTickFormatter\"},{\"attributes\":{},\"id\":\"45e80fc9-487e-4576-af5a-7d1829dac742\",\"type\":\"WheelZoomTool\"},{\"attributes\":{\"line_alpha\":0.1,\"line_color\":\"#1f77b4\",\"line_width\":3,\"x\":{\"field\":\"x\"},\"y\":{\"field\":\"y\"}},\"id\":\"ff684fd8-9cdb-4c5f-9aac-326473c62afd\",\"type\":\"Line\"},{\"attributes\":{},\"id\":\"32aa78f9-61ad-4962-ac23-b078ed680067\",\"type\":\"BasicTickFormatter\"},{\"attributes\":{\"formatter\":{\"id\":\"702f63ee-c506-4f46-9ce9-8310750f7a89\",\"type\":\"BasicTickFormatter\"},\"plot\":{\"id\":\"d2ad3803-cfd3-46df-8b0f-3a546d592623\",\"subtype\":\"Figure\",\"type\":\"Plot\"},\"ticker\":{\"id\":\"a2597c41-f74b-43d5-9e34-1346d64877c2\",\"type\":\"BasicTicker\"}},\"id\":\"e1e9f198-33df-4d6c-84cb-d19dfcf6073f\",\"type\":\"LinearAxis\"},{\"attributes\":{},\"id\":\"a8fb3c97-9669-4757-a642-a257d6e23b03\",\"type\":\"ResetTool\"},{\"attributes\":{\"formatter\":{\"id\":\"32aa78f9-61ad-4962-ac23-b078ed680067\",\"type\":\"BasicTickFormatter\"},\"plot\":{\"id\":\"d2ad3803-cfd3-46df-8b0f-3a546d592623\",\"subtype\":\"Figure\",\"type\":\"Plot\"},\"ticker\":{\"id\":\"71fd2ee1-de5b-42ac-9fdb-2fb7e646a56c\",\"type\":\"BasicTicker\"}},\"id\":\"791dc951-0eff-4f23-b71e-c66c3cd6e457\",\"type\":\"LinearAxis\"},{\"attributes\":{},\"id\":\"57a14b19-c3e5-440a-b0a6-8412029378a5\",\"type\":\"Selection\"},{\"attributes\":{\"plot\":{\"id\":\"d2ad3803-cfd3-46df-8b0f-3a546d592623\",\"subtype\":\"Figure\",\"type\":\"Plot\"},\"ticker\":{\"id\":\"71fd2ee1-de5b-42ac-9fdb-2fb7e646a56c\",\"type\":\"BasicTicker\"}},\"id\":\"a2212007-f976-47f4-b90b-75518c8adddf\",\"type\":\"Grid\"},{\"attributes\":{\"below\":[{\"id\":\"791dc951-0eff-4f23-b71e-c66c3cd6e457\",\"type\":\"LinearAxis\"}],\"left\":[{\"id\":\"e1e9f198-33df-4d6c-84cb-d19dfcf6073f\",\"type\":\"LinearAxis\"}],\"plot_height\":400,\"plot_width\":400,\"renderers\":[{\"id\":\"791dc951-0eff-4f23-b71e-c66c3cd6e457\",\"type\":\"LinearAxis\"},{\"id\":\"a2212007-f976-47f4-b90b-75518c8adddf\",\"type\":\"Grid\"},{\"id\":\"e1e9f198-33df-4d6c-84cb-d19dfcf6073f\",\"type\":\"LinearAxis\"},{\"id\":\"0d0be04b-9ba4-4c78-bebf-d8f0568d24fe\",\"type\":\"Grid\"},{\"id\":\"95d61ead-1a29-4160-87b7-c8cec131df9d\",\"type\":\"BoxAnnotation\"},{\"id\":\"dbdae58a-47d2-412b-a69b-fe3d492f7e9f\",\"type\":\"GlyphRenderer\"}],\"title\":{\"id\":\"2e4f8941-c411-4803-980f-746a91f3531b\",\"type\":\"Title\"},\"toolbar\":{\"id\":\"9f836a43-141b-47bb-8afb-b9a8e1d10925\",\"type\":\"Toolbar\"},\"x_range\":{\"id\":\"180d79e7-b119-476b-81d9-e8eb6f9d8482\",\"type\":\"DataRange1d\"},\"x_scale\":{\"id\":\"4745448c-4b7a-4087-84ec-dbd9d74ccda4\",\"type\":\"LinearScale\"},\"y_range\":{\"id\":\"a184fa2e-9d08-4b57-827e-48d0c954acd6\",\"type\":\"DataRange1d\"},\"y_scale\":{\"id\":\"84aabaec-ee60-4951-85d2-eceb8143ee22\",\"type\":\"LinearScale\"}},\"id\":\"d2ad3803-cfd3-46df-8b0f-3a546d592623\",\"subtype\":\"Figure\",\"type\":\"Plot\"},{\"attributes\":{},\"id\":\"19b34d75-9624-4b4f-aef7-048234bd0682\",\"type\":\"HelpTool\"},{\"attributes\":{\"source\":{\"id\":\"57a1a589-f61a-4d2d-acba-49b3fb3474ac\",\"type\":\"ColumnDataSource\"}},\"id\":\"3c580138-d7ab-46cf-9105-eb4b351ac304\",\"type\":\"CDSView\"},{\"attributes\":{\"overlay\":{\"id\":\"95d61ead-1a29-4160-87b7-c8cec131df9d\",\"type\":\"BoxAnnotation\"}},\"id\":\"6c9d8a2a-dd83-4167-94f1-9885b5632763\",\"type\":\"BoxZoomTool\"},{\"attributes\":{\"dimension\":1,\"plot\":{\"id\":\"d2ad3803-cfd3-46df-8b0f-3a546d592623\",\"subtype\":\"Figure\",\"type\":\"Plot\"},\"ticker\":{\"id\":\"a2597c41-f74b-43d5-9e34-1346d64877c2\",\"type\":\"BasicTicker\"}},\"id\":\"0d0be04b-9ba4-4c78-bebf-d8f0568d24fe\",\"type\":\"Grid\"},{\"attributes\":{\"children\":[{\"id\":\"dde0dd33-5c16-494a-ba11-d18bee3aa950\",\"type\":\"Slider\"}]},\"id\":\"71391170-7661-498b-944d-29217444b855\",\"type\":\"WidgetBox\"},{\"attributes\":{},\"id\":\"71fd2ee1-de5b-42ac-9fdb-2fb7e646a56c\",\"type\":\"BasicTicker\"}],\"root_ids\":[\"d1c61256-f84b-457b-9e6b-7c5f802e61af\"]},\"title\":\"Bokeh Application\",\"version\":\"0.13.0\"}};\n",
       "  var render_items = [{\"docid\":\"4b6546f6-10dc-42e3-bd00-33923ce95bfa\",\"roots\":{\"d1c61256-f84b-457b-9e6b-7c5f802e61af\":\"0046136b-40fc-4ecf-b0c9-7cf5e95affb0\"}}];\n",
       "  root.Bokeh.embed.embed_items_notebook(docs_json, render_items);\n",
       "\n",
       "  }\n",
       "  if (root.Bokeh !== undefined) {\n",
       "    embed_document(root);\n",
       "  } else {\n",
       "    var attempts = 0;\n",
       "    var timer = setInterval(function(root) {\n",
       "      if (root.Bokeh !== undefined) {\n",
       "        embed_document(root);\n",
       "        clearInterval(timer);\n",
       "      }\n",
       "      attempts++;\n",
       "      if (attempts > 100) {\n",
       "        console.log(\"Bokeh: ERROR: Unable to run BokehJS code because BokehJS library is missing\")\n",
       "        clearInterval(timer);\n",
       "      }\n",
       "    }, 10, root)\n",
       "  }\n",
       "})(window);"
      ],
      "application/vnd.bokehjs_exec.v0+json": ""
     },
     "metadata": {
      "application/vnd.bokehjs_exec.v0+json": {
       "id": "d1c61256-f84b-457b-9e6b-7c5f802e61af"
      }
     },
     "output_type": "display_data"
    }
   ],
   "source": [
    "from bokeh.layouts import column\n",
    "from bokeh.models import CustomJS, ColumnDataSource, Slider\n",
    "\n",
    "x = [x*0.005 for x in range(0, 201)]\n",
    "\n",
    "source = ColumnDataSource(data=dict(x=x, y=x))\n",
    "\n",
    "plot = figure(plot_width=400, plot_height=400)\n",
    "plot.line('x', 'y', source=source, line_width=3, line_alpha=0.6)\n",
    "\n",
    "slider = Slider(start=0.1, end=6, value=1, step=.1, title=\"power\")\n",
    "\n",
    "update_curve = CustomJS(args=dict(source=source, slider=slider), code=\"\"\"\n",
    "    var data = source.data;\n",
    "    var f = slider.value;\n",
    "    x = data['x']\n",
    "    y = data['y']\n",
    "    for (i = 0; i < x.length; i++) {\n",
    "        y[i] = Math.pow(x[i], f)\n",
    "    }\n",
    "    \n",
    "    // necessary becasue we mutated source.data in-place\n",
    "    source.change.emit();\n",
    "\"\"\")\n",
    "slider.js_on_change('value', update_curve)\n",
    "\n",
    "\n",
    "show(column(slider, plot))"
   ]
  },
  {
   "cell_type": "code",
   "execution_count": 11,
   "metadata": {},
   "outputs": [],
   "source": [
    "# Exercise: Create a plot that updates based on a Select widget\n",
    "\n"
   ]
  },
  {
   "cell_type": "markdown",
   "metadata": {
    "slideshow": {
     "slide_type": "slide"
    }
   },
   "source": [
    "### Data selection example\n",
    "\n",
    "It's also possible to make JavaScript actions that execute whenever a user selection (e.g., box, point, lasso) changes. This is done by attaching the same kind of CustomJS object to whatever data source the selection is made on.\n",
    "\n",
    "The example below is a bit more sophisticated, and demonstrates updating one glyph's data source in response to another glyph's selection: "
   ]
  },
  {
   "cell_type": "code",
   "execution_count": 50,
   "metadata": {
    "slideshow": {
     "slide_type": "subslide"
    }
   },
   "outputs": [
    {
     "data": {
      "text/html": [
       "\n",
       "\n",
       "\n",
       "\n",
       "\n",
       "\n",
       "  <div class=\"bk-root\" id=\"bb49aeb7-db5b-4685-b14c-969b1d2a319e\"></div>\n"
      ]
     },
     "metadata": {},
     "output_type": "display_data"
    },
    {
     "data": {
      "application/javascript": [
       "(function(root) {\n",
       "  function embed_document(root) {\n",
       "    \n",
       "  var docs_json = {\"d1ab3e8e-3ee9-432c-83a5-93e87e327f5e\":{\"roots\":{\"references\":[{\"attributes\":{},\"id\":\"0541424e-7882-44d0-9704-9f951ed35c89\",\"type\":\"Selection\"},{\"attributes\":{\"fill_alpha\":{\"value\":0.4},\"fill_color\":{\"field\":\"color\"},\"line_alpha\":{\"value\":0.4},\"line_color\":{\"field\":\"color\"},\"size\":{\"units\":\"screen\",\"value\":8},\"x\":{\"field\":\"x\"},\"y\":{\"field\":\"y\"}},\"id\":\"d7fb8f75-7aca-4925-9cb6-af6624be5602\",\"type\":\"Circle\"},{\"attributes\":{},\"id\":\"7dca086e-5637-468a-a4a7-ce4cd47015c7\",\"type\":\"BasicTickFormatter\"},{\"attributes\":{\"callback\":null,\"data\":{\"xm\":[0,1],\"ym\":[0.5,0.5]},\"selected\":{\"id\":\"0541424e-7882-44d0-9704-9f951ed35c89\",\"type\":\"Selection\"},\"selection_policy\":{\"id\":\"bb80105d-16e5-4241-a21a-99eb401492f3\",\"type\":\"UnionRenderers\"}},\"id\":\"499b1556-9b45-4a6e-82f1-352a8195a45c\",\"type\":\"ColumnDataSource\"},{\"attributes\":{\"line_alpha\":0.6,\"line_color\":\"orange\",\"line_width\":5,\"x\":{\"field\":\"xm\"},\"y\":{\"field\":\"ym\"}},\"id\":\"dbb4f185-80f7-4377-83b6-839dfc6bad10\",\"type\":\"Line\"},{\"attributes\":{},\"id\":\"6cdc1e34-d8c3-44af-b9d8-a1a9e3021e62\",\"type\":\"LinearScale\"},{\"attributes\":{\"data_source\":{\"id\":\"d1739127-62c0-412c-a52e-cda8fa15deff\",\"type\":\"ColumnDataSource\"},\"glyph\":{\"id\":\"d7fb8f75-7aca-4925-9cb6-af6624be5602\",\"type\":\"Circle\"},\"hover_glyph\":null,\"muted_glyph\":null,\"nonselection_glyph\":{\"id\":\"08da440e-2642-47da-a29a-4a30b77eb16c\",\"type\":\"Circle\"},\"selection_glyph\":{\"id\":\"800ad3c7-4136-4c55-b235-6721bb6209d7\",\"type\":\"Circle\"},\"view\":{\"id\":\"dff5fa44-9b08-4d4d-b63b-e3588f4a62a1\",\"type\":\"CDSView\"}},\"id\":\"103f257c-655d-4c82-8eb8-4653cf6098d1\",\"type\":\"GlyphRenderer\"},{\"attributes\":{\"below\":[{\"id\":\"1bcb663c-428e-44a4-8fe9-03a1650c0a66\",\"type\":\"LinearAxis\"}],\"left\":[{\"id\":\"8b47107b-b031-42c9-bedb-cbd05729c1ed\",\"type\":\"LinearAxis\"}],\"plot_height\":400,\"plot_width\":400,\"renderers\":[{\"id\":\"1bcb663c-428e-44a4-8fe9-03a1650c0a66\",\"type\":\"LinearAxis\"},{\"id\":\"b2112cfc-4d02-4b3f-9244-5a003835d5da\",\"type\":\"Grid\"},{\"id\":\"8b47107b-b031-42c9-bedb-cbd05729c1ed\",\"type\":\"LinearAxis\"},{\"id\":\"e9030200-523d-48b5-829c-a090355f7d07\",\"type\":\"Grid\"},{\"id\":\"b0eb932f-ba3c-47c3-b97a-12c36ff8672a\",\"type\":\"PolyAnnotation\"},{\"id\":\"103f257c-655d-4c82-8eb8-4653cf6098d1\",\"type\":\"GlyphRenderer\"},{\"id\":\"af38bd2a-ed8e-49e1-8fc1-c1d9c511caae\",\"type\":\"GlyphRenderer\"}],\"title\":{\"id\":\"fd022fff-6d8b-4bf3-b8df-f2604fe7fc42\",\"type\":\"Title\"},\"toolbar\":{\"id\":\"4abc5da4-9126-4268-aa4f-39e5966a4b4e\",\"type\":\"Toolbar\"},\"x_range\":{\"id\":\"2b9e34cc-b051-4667-9e07-86f870b324bb\",\"type\":\"DataRange1d\"},\"x_scale\":{\"id\":\"6cdc1e34-d8c3-44af-b9d8-a1a9e3021e62\",\"type\":\"LinearScale\"},\"y_range\":{\"id\":\"9e332015-2aa1-4502-9840-6adce12d82ac\",\"type\":\"DataRange1d\"},\"y_scale\":{\"id\":\"346fcd6e-ba21-4fb3-81bc-f4a51ae4e397\",\"type\":\"LinearScale\"}},\"id\":\"510214c9-2832-4c0c-83fe-2bdba705eacb\",\"subtype\":\"Figure\",\"type\":\"Plot\"},{\"attributes\":{},\"id\":\"42150382-b388-4707-be76-0f34a27354e5\",\"type\":\"Selection\"},{\"attributes\":{\"callback\":null},\"id\":\"2b9e34cc-b051-4667-9e07-86f870b324bb\",\"type\":\"DataRange1d\"},{\"attributes\":{\"fill_alpha\":{\"value\":0.5},\"fill_color\":{\"value\":\"lightgrey\"},\"level\":\"overlay\",\"line_alpha\":{\"value\":1.0},\"line_color\":{\"value\":\"black\"},\"line_dash\":[4,4],\"line_width\":{\"value\":2},\"plot\":null,\"xs_units\":\"screen\",\"ys_units\":\"screen\"},\"id\":\"b0eb932f-ba3c-47c3-b97a-12c36ff8672a\",\"type\":\"PolyAnnotation\"},{\"attributes\":{\"data_source\":{\"id\":\"499b1556-9b45-4a6e-82f1-352a8195a45c\",\"type\":\"ColumnDataSource\"},\"glyph\":{\"id\":\"dbb4f185-80f7-4377-83b6-839dfc6bad10\",\"type\":\"Line\"},\"hover_glyph\":null,\"muted_glyph\":null,\"nonselection_glyph\":{\"id\":\"2b4636cc-2639-479c-a3ac-7c9a61452b68\",\"type\":\"Line\"},\"selection_glyph\":null,\"view\":{\"id\":\"5dc10937-a7b9-4706-b448-f3b5d4d1892f\",\"type\":\"CDSView\"}},\"id\":\"af38bd2a-ed8e-49e1-8fc1-c1d9c511caae\",\"type\":\"GlyphRenderer\"},{\"attributes\":{},\"id\":\"9d8aeaf6-9fc3-4ba5-a2b6-9ec03890797c\",\"type\":\"BasicTickFormatter\"},{\"attributes\":{\"dimension\":1,\"plot\":{\"id\":\"510214c9-2832-4c0c-83fe-2bdba705eacb\",\"subtype\":\"Figure\",\"type\":\"Plot\"},\"ticker\":{\"id\":\"fc852270-db53-4ed3-a186-0cd2e33f7282\",\"type\":\"BasicTicker\"}},\"id\":\"e9030200-523d-48b5-829c-a090355f7d07\",\"type\":\"Grid\"},{\"attributes\":{},\"id\":\"a73e1b6b-6f09-4f65-bae6-ea826006b3f7\",\"type\":\"UnionRenderers\"},{\"attributes\":{\"active_drag\":\"auto\",\"active_inspect\":\"auto\",\"active_multi\":null,\"active_scroll\":\"auto\",\"active_tap\":\"auto\",\"tools\":[{\"id\":\"4b039da4-b80f-48c8-aa94-b9059ac4a652\",\"type\":\"LassoSelectTool\"}]},\"id\":\"4abc5da4-9126-4268-aa4f-39e5966a4b4e\",\"type\":\"Toolbar\"},{\"attributes\":{\"formatter\":{\"id\":\"9d8aeaf6-9fc3-4ba5-a2b6-9ec03890797c\",\"type\":\"BasicTickFormatter\"},\"plot\":{\"id\":\"510214c9-2832-4c0c-83fe-2bdba705eacb\",\"subtype\":\"Figure\",\"type\":\"Plot\"},\"ticker\":{\"id\":\"fc852270-db53-4ed3-a186-0cd2e33f7282\",\"type\":\"BasicTicker\"}},\"id\":\"8b47107b-b031-42c9-bedb-cbd05729c1ed\",\"type\":\"LinearAxis\"},{\"attributes\":{},\"id\":\"9f854e28-81da-45bc-9c1c-c247d2931120\",\"type\":\"BasicTicker\"},{\"attributes\":{\"line_alpha\":0.1,\"line_color\":\"#1f77b4\",\"line_width\":5,\"x\":{\"field\":\"xm\"},\"y\":{\"field\":\"ym\"}},\"id\":\"2b4636cc-2639-479c-a3ac-7c9a61452b68\",\"type\":\"Line\"},{\"attributes\":{},\"id\":\"bb80105d-16e5-4241-a21a-99eb401492f3\",\"type\":\"UnionRenderers\"},{\"attributes\":{\"callback\":null,\"overlay\":{\"id\":\"b0eb932f-ba3c-47c3-b97a-12c36ff8672a\",\"type\":\"PolyAnnotation\"}},\"id\":\"4b039da4-b80f-48c8-aa94-b9059ac4a652\",\"type\":\"LassoSelectTool\"},{\"attributes\":{\"callback\":null},\"id\":\"9e332015-2aa1-4502-9840-6adce12d82ac\",\"type\":\"DataRange1d\"},{\"attributes\":{\"args\":{\"s1\":{\"id\":\"d1739127-62c0-412c-a52e-cda8fa15deff\",\"type\":\"ColumnDataSource\"},\"s2\":{\"id\":\"499b1556-9b45-4a6e-82f1-352a8195a45c\",\"type\":\"ColumnDataSource\"}},\"code\":\"\\n    var inds = s1.selected.indices;\\n    if (inds.length == 0)\\n        return;\\n\\n    var ym = 0\\n    for (var i = 0; i < inds.length; i++) {\\n        ym += s1.data.y[inds[i]]\\n    }\\n    \\n    ym /= inds.length\\n    s2.data.ym = [ym, ym]\\n\\n    // necessary becasue we mutated source.data in-place\\n    s2.change.emit();  \\n\"},\"id\":\"0ac3bb21-3ad6-402c-b267-4d4511039988\",\"type\":\"CustomJS\"},{\"attributes\":{\"fill_alpha\":{\"value\":0.1},\"fill_color\":{\"value\":\"#1f77b4\"},\"line_alpha\":{\"value\":0.1},\"line_color\":{\"value\":\"#1f77b4\"},\"size\":{\"units\":\"screen\",\"value\":8},\"x\":{\"field\":\"x\"},\"y\":{\"field\":\"y\"}},\"id\":\"08da440e-2642-47da-a29a-4a30b77eb16c\",\"type\":\"Circle\"},{\"attributes\":{\"source\":{\"id\":\"d1739127-62c0-412c-a52e-cda8fa15deff\",\"type\":\"ColumnDataSource\"}},\"id\":\"dff5fa44-9b08-4d4d-b63b-e3588f4a62a1\",\"type\":\"CDSView\"},{\"attributes\":{},\"id\":\"346fcd6e-ba21-4fb3-81bc-f4a51ae4e397\",\"type\":\"LinearScale\"},{\"attributes\":{\"fill_alpha\":{\"value\":0.4},\"fill_color\":{\"value\":\"firebrick\"},\"line_alpha\":{\"value\":0.4},\"line_color\":{\"value\":\"firebrick\"},\"size\":{\"units\":\"screen\",\"value\":8},\"x\":{\"field\":\"x\"},\"y\":{\"field\":\"y\"}},\"id\":\"800ad3c7-4136-4c55-b235-6721bb6209d7\",\"type\":\"Circle\"},{\"attributes\":{\"source\":{\"id\":\"499b1556-9b45-4a6e-82f1-352a8195a45c\",\"type\":\"ColumnDataSource\"}},\"id\":\"5dc10937-a7b9-4706-b448-f3b5d4d1892f\",\"type\":\"CDSView\"},{\"attributes\":{\"callback\":{\"id\":\"0ac3bb21-3ad6-402c-b267-4d4511039988\",\"type\":\"CustomJS\"},\"data\":{\"color\":[\"navy\",\"navy\",\"navy\",\"navy\",\"navy\",\"navy\",\"navy\",\"navy\",\"navy\",\"navy\",\"navy\",\"navy\",\"navy\",\"navy\",\"navy\",\"navy\",\"navy\",\"navy\",\"navy\",\"navy\",\"navy\",\"navy\",\"navy\",\"navy\",\"navy\",\"navy\",\"navy\",\"navy\",\"navy\",\"navy\",\"navy\",\"navy\",\"navy\",\"navy\",\"navy\",\"navy\",\"navy\",\"navy\",\"navy\",\"navy\",\"navy\",\"navy\",\"navy\",\"navy\",\"navy\",\"navy\",\"navy\",\"navy\",\"navy\",\"navy\",\"navy\",\"navy\",\"navy\",\"navy\",\"navy\",\"navy\",\"navy\",\"navy\",\"navy\",\"navy\",\"navy\",\"navy\",\"navy\",\"navy\",\"navy\",\"navy\",\"navy\",\"navy\",\"navy\",\"navy\",\"navy\",\"navy\",\"navy\",\"navy\",\"navy\",\"navy\",\"navy\",\"navy\",\"navy\",\"navy\",\"navy\",\"navy\",\"navy\",\"navy\",\"navy\",\"navy\",\"navy\",\"navy\",\"navy\",\"navy\",\"navy\",\"navy\",\"navy\",\"navy\",\"navy\",\"navy\",\"navy\",\"navy\",\"navy\",\"navy\",\"navy\",\"navy\",\"navy\",\"navy\",\"navy\",\"navy\",\"navy\",\"navy\",\"navy\",\"navy\",\"navy\",\"navy\",\"navy\",\"navy\",\"navy\",\"navy\",\"navy\",\"navy\",\"navy\",\"navy\",\"navy\",\"navy\",\"navy\",\"navy\",\"navy\",\"navy\",\"navy\",\"navy\",\"navy\",\"navy\",\"navy\",\"navy\",\"navy\",\"navy\",\"navy\",\"navy\",\"navy\",\"navy\",\"navy\",\"navy\",\"navy\",\"navy\",\"navy\",\"navy\",\"navy\",\"navy\",\"navy\",\"navy\",\"navy\",\"navy\",\"navy\",\"navy\",\"navy\",\"navy\",\"navy\",\"navy\",\"navy\",\"navy\",\"navy\",\"navy\",\"navy\",\"navy\",\"navy\",\"navy\",\"navy\",\"navy\",\"navy\",\"navy\",\"navy\",\"navy\",\"navy\",\"navy\",\"navy\",\"navy\",\"navy\",\"navy\",\"navy\",\"navy\",\"navy\",\"navy\",\"navy\",\"navy\",\"navy\",\"navy\",\"navy\",\"navy\",\"navy\",\"navy\",\"navy\",\"navy\",\"navy\",\"navy\",\"navy\",\"navy\",\"navy\",\"navy\",\"navy\",\"navy\",\"navy\",\"navy\",\"navy\",\"navy\",\"navy\",\"navy\",\"navy\",\"navy\",\"navy\",\"navy\",\"navy\",\"navy\",\"navy\",\"navy\",\"navy\",\"navy\",\"navy\",\"navy\",\"navy\",\"navy\",\"navy\",\"navy\",\"navy\",\"navy\",\"navy\",\"navy\",\"navy\",\"navy\",\"navy\",\"navy\",\"navy\",\"navy\",\"navy\",\"navy\",\"navy\",\"navy\",\"navy\",\"navy\",\"navy\",\"navy\",\"navy\",\"navy\",\"navy\",\"navy\",\"navy\",\"navy\",\"navy\",\"navy\",\"navy\",\"navy\",\"navy\",\"navy\",\"navy\",\"navy\",\"navy\",\"navy\",\"navy\",\"navy\",\"navy\",\"navy\",\"navy\",\"navy\",\"navy\",\"navy\",\"navy\",\"navy\",\"navy\",\"navy\",\"navy\",\"navy\",\"navy\",\"navy\",\"navy\",\"navy\",\"navy\",\"navy\",\"navy\",\"navy\",\"navy\",\"navy\",\"navy\",\"navy\",\"navy\",\"navy\",\"navy\",\"navy\",\"navy\",\"navy\",\"navy\",\"navy\",\"navy\",\"navy\",\"navy\",\"navy\",\"navy\",\"navy\",\"navy\",\"navy\",\"navy\",\"navy\",\"navy\",\"navy\",\"navy\",\"navy\",\"navy\",\"navy\",\"navy\",\"navy\",\"navy\",\"navy\",\"navy\",\"navy\",\"navy\",\"navy\",\"navy\",\"navy\",\"navy\",\"navy\",\"navy\",\"navy\",\"navy\",\"navy\",\"navy\",\"navy\",\"navy\",\"navy\",\"navy\",\"navy\",\"navy\",\"navy\",\"navy\",\"navy\",\"navy\",\"navy\",\"navy\",\"navy\",\"navy\",\"navy\",\"navy\",\"navy\",\"navy\",\"navy\",\"navy\",\"navy\",\"navy\",\"navy\",\"navy\",\"navy\",\"navy\",\"navy\",\"navy\",\"navy\",\"navy\",\"navy\",\"navy\",\"navy\",\"navy\",\"navy\",\"navy\",\"navy\",\"navy\",\"navy\",\"navy\",\"navy\",\"navy\",\"navy\",\"navy\",\"navy\",\"navy\",\"navy\",\"navy\",\"navy\",\"navy\",\"navy\",\"navy\",\"navy\",\"navy\",\"navy\",\"navy\",\"navy\",\"navy\",\"navy\",\"navy\",\"navy\",\"navy\",\"navy\",\"navy\",\"navy\",\"navy\",\"navy\",\"navy\",\"navy\",\"navy\",\"navy\",\"navy\",\"navy\",\"navy\",\"navy\",\"navy\",\"navy\",\"navy\",\"navy\",\"navy\",\"navy\",\"navy\",\"navy\",\"navy\",\"navy\",\"navy\",\"navy\",\"navy\",\"navy\",\"navy\",\"navy\",\"navy\",\"navy\",\"navy\",\"navy\",\"navy\",\"navy\",\"navy\",\"navy\",\"navy\",\"navy\",\"navy\",\"navy\",\"navy\",\"navy\",\"navy\",\"navy\",\"navy\",\"navy\",\"navy\",\"navy\",\"navy\",\"navy\",\"navy\",\"navy\",\"navy\",\"navy\",\"navy\",\"navy\",\"navy\",\"navy\",\"navy\",\"navy\",\"navy\",\"navy\",\"navy\",\"navy\",\"navy\",\"navy\",\"navy\",\"navy\",\"navy\",\"navy\",\"navy\",\"navy\",\"navy\",\"navy\",\"navy\",\"navy\",\"navy\",\"navy\",\"navy\",\"navy\",\"navy\",\"navy\",\"navy\",\"navy\",\"navy\",\"navy\",\"navy\",\"navy\",\"navy\",\"navy\",\"navy\",\"navy\",\"navy\",\"navy\",\"navy\",\"navy\",\"navy\",\"navy\",\"navy\",\"navy\",\"navy\",\"navy\",\"navy\",\"navy\",\"navy\",\"navy\",\"navy\",\"navy\",\"navy\",\"navy\",\"navy\",\"navy\",\"navy\",\"navy\",\"navy\",\"navy\"],\"x\":[0.3020215909135311,0.13473093658684665,0.7378243270778391,0.3542251799026763,0.09587200088486647,0.5960574698137824,0.47872725893178925,0.11590893325677143,0.5335174826688938,0.29121431566777767,0.9026569864577279,0.9720006296050573,0.04908888335843675,0.02588081450626689,0.8473811169967863,0.4669530475571132,0.985694269812566,0.4384956475504522,0.2769838709630227,0.026174329980434008,0.7692728882866797,0.18759581631934563,0.3668322230183527,0.5872893173975192,0.9990646793494009,0.20632335865862983,0.9382451741634391,0.4168019236337426,0.5736116240252936,0.45332693869768614,0.7804732081353577,0.8775842978043983,0.21768151225206733,0.0798336879820144,0.770884838739204,0.02569536027108066,0.7435690522471788,0.9314129074212494,0.5252481286067209,0.2196123952794492,0.09069548654327875,0.011788707858149339,0.6028680569487784,0.6773803048993284,0.19985984118301592,0.32937336075211654,0.9302607146901537,0.46240270500351366,0.40504910649841375,0.3927806503547955,0.78180265511715,0.37227445119348546,0.7745272246639385,0.9353952131883014,0.6775784816265097,0.23418428907223587,0.5821145420603561,0.5122707740008876,0.8223607355177744,0.24118214657302106,0.6432514647694697,0.3013091021505141,0.8884278711605345,0.5211115189702619,0.4457285786175158,0.41559974109928544,0.4463589345516892,0.9316191160311946,0.7499463681120996,0.5459482177816171,0.835213750597043,0.8049832903077381,0.006208022442564909,0.8841704731783724,0.3040253880577215,0.23721881932326283,0.21560058715707942,0.40323303572096136,0.9997516420611025,0.49935583692620966,0.2915957386413238,0.12654511520369605,0.815066993227056,0.23053898438786014,0.2225709531715906,0.20031119087273708,0.16123575282372316,0.09284418894849245,0.7189684467495928,0.9585279834258106,0.5372651784834008,0.15994322391659388,0.03399604894204722,0.6477176090604033,0.42323710217188715,0.7418902751052003,0.847163850451624,0.10466615726731987,0.0487283960095416,0.6061166888947127,0.3624655252946225,0.8647086591129584,0.7766467870209344,0.48674379852974137,0.8571331537418284,0.35036918896899405,0.8002916040228035,0.2062827133089361,0.9724782829715498,0.3717485019119371,0.9407935312480922,0.3373768991470766,0.2878001754006452,0.3803376413068017,0.5242659112405008,0.8897765838180081,0.06754751129626124,0.34960175896861423,0.9824590496766767,0.5069045750146539,0.5446135854310008,0.5196835207182408,0.36588385986131244,0.2494157798337583,0.3391721194711036,0.6100163743989439,0.46530160496129513,0.7412403324469639,0.7618724118536743,0.12170718357074117,0.787366404355902,0.2771367696893824,0.5262048078176057,0.7794239406608466,0.025392419812776956,0.6917837318577579,0.4951596124193296,0.620668628670227,0.017918706789217365,0.6837972149307733,0.4513792838845637,0.3478915314475597,0.1296841217519581,0.15535238762353387,0.47498352980476743,0.19517559814180052,0.39869174275656805,0.004705343098183823,0.677514533146978,0.14118770182966867,0.13753128850478613,0.48119964374492885,0.025172523398827695,0.14833386735254506,0.03402957806297713,0.42243226393745925,0.9831960849548027,0.6129516174524225,0.7563498188548833,0.9489935313147134,0.10108587588037421,0.2664368926294576,0.4689559998459165,0.27247690636277033,0.1278440589796458,0.8369217773363459,0.36960675981473234,0.8015113915612608,0.2092669873219135,0.5179253784882306,0.34202717176869823,0.6628354160892748,0.9918074669417456,0.3790086599094755,0.5513036821637936,0.521888723028948,0.52016680808546,0.7399755086179681,0.43868370200008544,0.26575179747963684,0.2987826413613103,0.9708151817110497,0.55259640728644,0.8272764333773899,0.8757411029347016,0.6481893546846537,0.6482257380291164,0.7453552602434946,0.18427249785050848,0.9959933367021437,0.04396888339641536,0.5921505572735144,0.2370415825601675,0.6605650453037709,0.21236994668228815,0.13995935208092103,0.07376433510433056,0.7977806600832189,0.7310477021085872,0.9342347449729806,0.6580255920455855,0.040803999706782834,0.024691781518594524,0.19997948363284945,0.13827235293930062,0.2779705293132795,0.7149863311104456,0.8721061407000279,0.3020736318727525,0.2785888790233536,0.7999031432058942,0.01140323327688908,0.19526497668550125,0.9149075383698858,0.8560260352630921,0.06642273998003734,0.4916716696681921,0.11452775961634076,0.18510248141232566,0.21930240859102834,0.2715513882913858,0.8333790566299286,0.2619605071106744,0.6962817623738835,0.1134261112362438,0.6281405613046249,0.7764704072533817,0.6484237162902422,0.4276380387602503,0.2617274060182466,0.49402644318164224,0.38390774965180796,0.525706996043718,0.23670189979420997,0.5120296470757691,0.2314663819037771,0.15621111682120215,0.0053610550462234174,0.1342685936015653,0.6251411425738505,0.9385129517145006,0.3729454708773199,0.5169903676936026,0.9995395570210313,0.772027905365657,0.6551368594340109,0.3463247558281899,0.45883088527973426,0.3173375511006069,0.43305160707219614,0.6019451547073158,0.5732113898564261,0.9668980070254172,0.4451033126076649,0.7753138734627025,0.7742491419130726,0.5367765334033928,0.26948452929187494,0.8154834286201454,0.01736836065322367,0.4980011533530838,0.5489826978487904,0.12034104675614288,0.9616036582481653,0.03533595228807229,0.324284962225163,0.7205506407127262,0.1652790894123498,0.2841183335524642,0.2915547502406298,0.8878470747632338,0.6343230312846494,0.09104205426410017,0.14658914222664432,0.5999660890435693,0.7078792052916745,0.01635817455359434,0.07961153072162108,0.5659662099932962,0.7591007753675687,0.30142029724226327,0.44292657670695035,0.09505987898551072,0.48526964630993985,0.8420800135959461,0.2999920924164361,0.16474880155047578,0.06743434130799764,0.7123505993841964,0.39562033384867923,0.5858877695848376,0.2953148630371649,0.897051555782806,0.6126582452963502,0.638568607002821,0.5412774888042896,0.9262672487429204,0.16379306791956982,0.5434867475768398,0.38315574739424507,0.7802259489061499,0.3605999540383613,0.033646713787610194,0.880580239116931,0.3613546131179769,0.33740363304903076,0.6232638381187786,0.9438877957102338,0.7623167630344554,0.3045712733465732,0.19994249790285035,0.00912172263107447,0.6973569128682428,0.8326787126528393,0.8551331738309902,0.5203870765786964,0.2830891673588307,0.1626158564503225,0.10539894591773091,0.21094811530153423,0.9645628725235884,0.5250429423834959,0.27031820596472844,0.6191029757943982,0.4281405247118145,0.23785299541428284,0.9277399360461266,0.6513551459209294,0.7502762737855696,0.12850043620966356,0.8790434583621258,0.5513905353513477,0.44511302362748806,0.9595297272400353,0.5744959263183627,0.7298064965218951,0.32539151929851584,0.32559817118661494,0.7045134438059807,0.08506938212851578,0.21905551633499099,0.22716272147352434,0.9315149447301699,0.17970427144230106,0.052906800965268785,0.44755923040179524,0.05328061813574625,0.42335870974798906,0.49675909194015055,0.44085747315059365,0.3347740578710561,0.15868420692830176,0.7843994532050728,0.052500000369488986,0.1483964462468309,0.9627223688822624,0.7177915538607907,0.8755414126283058,0.7581784223265837,0.9588551542847605,0.43349299251319273,0.5721240381752656,0.9041310432206354,0.19302132266275207,0.34875920557021667,0.8752222588951889,0.7665743449039935,0.9478533891567035,0.2562068864881897,0.7828855402619301,0.12841816559406427,0.8599899856762875,0.6018082576886145,0.0893869289628968,0.5319805046493118,0.1177624207856518,0.4900808399728651,0.445466347086083,0.5452481272868529,0.8723187085454993,0.4113565150486539,0.16907739264235233,0.43051169144594725,0.34174083667756683,0.5650434818977829,0.39099250559696486,0.5288247419815648,0.5868867117436145,0.2602920169854689,0.7750209312895525,0.37352740559074016,0.8633333298770315,0.8707805778936688,0.7590512222094334,0.3049062713003883,0.8840083771000392,0.5964785753540476,0.9555373206836288,0.48440965638190703,0.4287342377068717,0.310705162510698,0.065339421975953,0.6303190152365692,0.3798330886161384,0.42216120285637326,0.11495535240463861,0.11544318023542355,0.3276636582046375,0.019535150050554062,0.6553064763081433,0.7668293582286672,0.7382097494532744,0.6503255327767596,0.14259935525097767,0.8768949269568914,0.4881713046373374,0.5902567536098817,0.38140919781522375,0.39203143796097595,0.940430133266195,0.9410412005264237,0.9965084251709934,0.2548653748809392,0.6804428474577467,0.6446239324061274,0.9824671826633697,0.7191014139128807,0.7075129486029337,0.42825101735037263,0.125984225659155,0.24272710327163238,0.3699506748596577,0.11023834614095862,0.2482667575738714,0.4406246005387724,0.16460637053109883,0.8116717099164826,0.17472628414560265,0.23483853174357638,0.3430343967234466,0.5525234236172092,0.8567401986506796,0.9642271889063494,0.4154876937567137,0.26591033648446405,0.7283435238140742,0.08699415255338405,0.10657657041934554,0.647448801580096,0.4140834686795982,0.04392812340861352,0.9306092105961591,0.8145114090816541,0.30688044193417297,0.0889558411457182,0.3270186486786504,0.05743835157747468,0.4955701516666744,0.46271887972069037,0.9894051152173025,0.3124462799805797,0.10273717052971332,0.8458161094678088,0.19429951243290944,0.41364680344623717,0.7469831224562987,0.01733773415926798,0.15827822016293125,0.8010025429441461,0.35219732240101587,0.5946820243898097,0.31661027879968084,0.2607515181340584,0.9412635106061364,0.6727815237380534,0.31740048533292375,0.21121688660269167,0.6919146575625561,0.8532880154705615,0.4900608516774556,0.7660773976820229,0.9823062743630122,0.5938567705135294,0.1676257333907719,0.24528998190668017,0.19740153543415817,0.9545571921771825,0.09171764184391562,0.1211185692643959,0.268660850538862,0.3177954465791264,0.16614575300961354,0.4712721260136383,0.06149311785227107,0.8837658710629063,0.7792191570247154,0.031089435537522636,0.9832432145415941,0.47547646479955674,0.3864520461513895],\"y\":[0.36469589402729274,0.8532015167746823,0.9067526214926739,0.8796106617677529,0.8881118365595658,0.46256339145008807,0.9736905430636162,0.40960134721156627,0.23134831314616522,0.11567573005348697,0.39897967352484154,0.8004543076231393,0.9937089482306174,0.058235998814045065,0.19025133992861742,0.3251623825111609,0.10429145060698941,0.924796676754682,0.3165830589271843,0.9601906024967714,0.7503469035993664,0.9692577756875675,0.5385050762485284,0.3901352419893026,0.7490491821463042,0.24721914204636286,0.4176150761601126,0.12779658799215954,0.7570197218457657,0.13453761871628944,0.4803026127637632,0.07810777813581027,0.7044094562268844,0.7107695016064938,0.47864868635921975,0.06152913199900212,0.22560221666387792,0.7191272093931073,0.31917685422465913,0.2827857728252666,0.4515222595455721,0.9246019274892404,0.9760914453139378,0.6653595489136823,0.6135235158516867,0.19787414451163987,0.7813903589152769,0.2246725121125912,0.805204321227997,0.4979183051404389,0.8214212807241686,0.6813494401217735,0.08961627012389062,0.5226018246699486,0.9302618990322302,0.1809211720488082,0.02494476805483259,0.9533150028793935,0.3474635163894443,0.5704197462808264,0.4401102539859223,0.5344392474130459,0.07918686937387764,0.2649947784974407,0.5253722430513095,0.08474879295400084,0.34983558968802164,0.2169384065523987,0.9972421482129421,0.630473748176994,0.8044293841887717,0.6751141922434936,0.03685400472150757,0.09001332078183188,0.6314749652397492,0.9003918570483251,0.5350153823204343,0.1117282760525985,0.6456543186484005,0.38105783377793057,0.4854952942013062,0.7589803960425655,0.005811465649244285,0.6468517278798104,0.13159881183299527,0.10348649718004299,0.7787660176358044,0.38927167199651136,0.49339009418468427,0.07736727392856213,0.7754067066507588,0.890293971660057,0.4075353801320417,0.1597425979357865,0.08208290406695462,0.5808704174291055,0.202317947990994,0.019749696170810682,0.10203026559719186,0.9048602601615604,0.7324857130357998,0.3844205334595314,0.17397464583524502,0.8596815822654962,0.22466345205657368,0.12862857464287047,0.7934406637448249,0.9656212213430155,0.071098419479797,0.871394582968663,0.9083822895825984,0.9742522583536065,0.15920826583184944,0.1648152574435655,0.5357006243319485,0.2534787216452077,0.5330767902716961,0.8535392316604098,0.7690502839266738,0.7498262254766334,0.5525240445034317,0.40947133366272337,0.4528114317635754,0.9939317874178787,0.2898423147001047,0.7681530517079442,0.9244931015838278,0.6632801368366209,0.3227357347925336,0.8781605058419121,0.7143062170841139,0.7815951887858197,0.5139821018434546,0.1452255961783212,0.8933862322115735,0.339040535922964,0.6838818914259333,0.47831201603795914,0.711758424688508,0.7726782031085692,0.5667002520334165,0.805861733347214,0.40703718076857887,0.5232746054730592,0.3183220898653406,0.38067729119702565,0.06904787199923812,0.8865803577025856,0.5607721724564362,0.07721261512144428,0.8483765489505851,0.9649826325046384,0.6711653736883935,0.9173400992213777,0.5522365001480672,0.9875496655005505,0.9015083427105125,0.7940338241454019,0.5899475936502316,0.10062006790251066,0.0685828976782431,0.21912577153621737,0.7540351938372439,0.8669016987664937,0.15897178942460222,0.5655346900894611,0.34094556847384183,0.2906236935544926,0.7526662414411369,0.6794578526436632,0.9036767242001983,0.9294448096148746,0.894335707936917,0.6024639321495303,0.8068451235669671,0.7132403246609531,0.9788353900674747,0.635651352471325,0.7252354348369451,0.5575945446531264,0.678415033990092,0.7623196882551632,0.6581660490081004,0.061222408057291955,0.2104991303031677,0.17271277739849977,0.8458177665785501,0.058272499820649526,0.6111857791096821,0.7927864507182776,0.4895553043204478,0.2658352601015058,0.987552860505047,0.23360974553500835,0.2160785260840028,0.6050678483198142,0.36902850691412203,0.9478513570658699,0.031907877142672514,0.0251921954450971,0.8059562999614379,0.5902347158706205,0.18086708874409008,0.8294817571187707,0.1389877083832991,0.8223813653137637,0.8063417717318604,0.011764650946975652,0.13700096138844065,0.3592930907412979,0.5596011863936992,0.5085172103021488,0.14883640479383475,0.2572767601605308,0.47587969589196044,0.33293699943215316,0.052845826414836816,0.5830715965478639,0.05168374313400459,0.21474352556924026,0.18584632867412254,0.19574405572517184,0.2714746903435985,0.9685816269345161,0.13152729213861591,0.0961818340518551,0.2776391682323349,0.4218664679009625,0.9259456913119782,0.33396013434856286,0.04936544546003696,0.2588065580372294,0.6018732964911094,0.5631201539518739,0.7671560509541301,0.35439918457621367,0.5538244567109197,0.2617539646980638,0.40439044524058165,0.7152799450384768,0.1523358578536993,0.8179772927894936,0.033699152669314114,0.4319870439299819,0.10741661796503288,0.7707407978385656,0.17301635634084656,0.25285960440397337,0.3339563747737968,0.16373194871180674,0.26966650240439105,0.13701631634972822,0.26445563446045406,0.3967512493574419,0.2748796231591616,0.6989642234866343,0.5296248963852639,0.6953574848118078,0.5273596727152691,0.9861544884240385,0.5547668127368484,0.7349667453375813,0.2549863013867669,0.4355040813024673,0.227974384972773,0.8505493270328813,0.9488457248376748,0.3755013316496715,0.42109437459068366,0.8703668144664429,0.8675784014566331,0.5029878722889852,0.07750054622351943,0.41531471651201435,0.7712243866862256,0.6231867278227963,0.3022777735608987,0.7711512424410731,0.4965355872661792,0.2139076944019953,0.549579446327874,0.30830104551889836,0.4371395019692027,0.9301491459500743,0.35050610185635533,0.7999501551988702,0.9664955917603082,0.5194418102105668,0.9128522279615968,0.4748751311735917,0.7001821693860426,0.6751155891950994,0.7271435187367736,0.7350036736988083,0.4549924752448319,0.7885072483820754,0.2872611889311222,0.7867334979201803,0.7840509598603643,0.7551543438895361,0.5765287549482395,0.18219766998560027,0.9222502051824326,0.46401127165461786,0.06834740806470119,0.846678492187423,0.30642414553281283,0.19352894479619587,0.8747316068511041,0.7168883768692074,0.9941087166036642,0.22556263071949945,0.9260131828550059,0.9781965093719265,0.5782151804461801,0.15387162609952187,0.6842551581100351,0.4132173270618612,0.5087396928080697,0.25880361230605886,0.2126492585318699,0.5381721287781072,0.9644451336170867,0.8905402485419445,0.7362931564044262,0.01530269210905344,0.490253335344101,0.03297389324324074,0.5510337511325265,0.6330253231547721,0.5550362821443916,0.09366601652476203,0.19395683298076305,0.5535078000646402,0.4208999578452334,0.10969886602556034,0.7659025362640319,0.7324428050785965,0.6806773579128438,0.6223557954065352,0.5595332155811543,0.6372227371653418,0.6982317854877403,0.47115730055520344,0.9190991270694021,0.17565788558111584,0.2960362069602175,0.35585063791390004,0.8314069273457727,0.9315825195443732,0.0702361501730111,0.5301645738816526,0.3485899722864426,0.43537329209474773,0.8124289985064856,0.6862375481356243,0.14436858271083675,0.5063446321530334,0.4283124454775483,0.041918097092947804,0.45266344990963614,0.24706794461422132,0.73644204519193,0.34029839851185073,0.42221738651505303,0.8890244056122778,0.9966289627508166,0.1337294564450492,0.977449856241122,0.0698541093426186,0.23228102894561542,0.5581114580605034,0.1510513068179875,0.23316273397678133,0.8837063551093752,0.39948456705365,0.5465099415689073,0.8153501272286621,0.6750615350460326,0.026525135314426795,0.8961896720920238,0.3219234342769447,0.8084765036945936,0.6157353921455976,0.6555839695752391,0.4710812015081951,0.32732940060672955,0.4373555507873479,0.07435497015351877,0.7202246648685167,0.6914733831464479,0.30643217644595644,0.3293159463109917,0.7659405283629358,0.105955798971058,0.8755538847055899,0.8206222377066376,0.881315170788336,0.8885149403360817,0.10313852301866833,0.35334228334117246,0.1547243685097096,0.7223395786292472,0.8464967495830709,0.6692868997077744,0.0051707769336039044,0.4306951384734554,0.7796967728295937,0.34604328634053183,0.2660194870094198,0.6680558076895436,0.9007494902360869,0.9318629364528705,0.24680123582206293,0.7605541542438601,0.5967743831707905,0.3790193159966393,0.5307238879597512,0.9489286266110057,0.9016333956977303,0.06690764999938992,0.5037302938999263,0.993052304144123,0.4965219182327575,0.5812397484340137,0.36143617127236005,0.3080949055416293,0.9085940983742654,0.4432816734324483,0.9839659424069508,0.9753549266988211,0.07168420881078541,0.18009123369710578,0.08565210735046158,0.35736344755547467,0.35641982872881295,0.0749053830794204,0.8111012993355106,0.5560412167175897,0.9609103440962077,0.9533128039642768,0.7554996672567909,0.8283246353232903,0.1359020330284939,0.17966259060192113,0.9489209301521423,0.4676296737862211,0.11103050468353859,0.5812622805738594,0.5841812745271396,0.4089521653131105,0.7201536902575362,0.5445017256484597,0.21096673853727688,0.44789992001818857,0.5588742620858955,0.6969664596013756,0.8874939080060444,0.9814666027960525,0.11074069280409427,0.16991550309274395,0.7189089946020377,0.024054766657828353,0.49011321490076454,0.0027815136267768104,0.7094062443939746,0.31452861923865594,0.17250728774245216,0.4539734254571234,0.8777699205519119,0.24623841838467075,0.8793165005266173,0.1749523014958223,0.8652845296379137,0.6096266179447919,0.4347710650722064,0.009542572777579417,0.09253328894583057,0.6786924067714668,0.1781926684642794,0.5894069019621409,0.609573819007961,0.38209257921843454,0.15148219961254783,0.9085161151872813,0.6641852186061548,0.552764209897604,0.6342579405415072,0.9911765220808031,0.9509238310435156,0.20798299782904772,0.15912958107997843,0.4768665214481964,0.28476272100897126,0.853896148878419,0.17305411840412743,0.758926533175853,0.2037621742911152,0.6575240590438858,0.23824208279922932]},\"selected\":{\"id\":\"42150382-b388-4707-be76-0f34a27354e5\",\"type\":\"Selection\"},\"selection_policy\":{\"id\":\"a73e1b6b-6f09-4f65-bae6-ea826006b3f7\",\"type\":\"UnionRenderers\"}},\"id\":\"d1739127-62c0-412c-a52e-cda8fa15deff\",\"type\":\"ColumnDataSource\"},{\"attributes\":{\"plot\":null,\"text\":\"Select Here\"},\"id\":\"fd022fff-6d8b-4bf3-b8df-f2604fe7fc42\",\"type\":\"Title\"},{\"attributes\":{\"plot\":{\"id\":\"510214c9-2832-4c0c-83fe-2bdba705eacb\",\"subtype\":\"Figure\",\"type\":\"Plot\"},\"ticker\":{\"id\":\"9f854e28-81da-45bc-9c1c-c247d2931120\",\"type\":\"BasicTicker\"}},\"id\":\"b2112cfc-4d02-4b3f-9244-5a003835d5da\",\"type\":\"Grid\"},{\"attributes\":{\"formatter\":{\"id\":\"7dca086e-5637-468a-a4a7-ce4cd47015c7\",\"type\":\"BasicTickFormatter\"},\"plot\":{\"id\":\"510214c9-2832-4c0c-83fe-2bdba705eacb\",\"subtype\":\"Figure\",\"type\":\"Plot\"},\"ticker\":{\"id\":\"9f854e28-81da-45bc-9c1c-c247d2931120\",\"type\":\"BasicTicker\"}},\"id\":\"1bcb663c-428e-44a4-8fe9-03a1650c0a66\",\"type\":\"LinearAxis\"},{\"attributes\":{},\"id\":\"fc852270-db53-4ed3-a186-0cd2e33f7282\",\"type\":\"BasicTicker\"}],\"root_ids\":[\"510214c9-2832-4c0c-83fe-2bdba705eacb\"]},\"title\":\"Bokeh Application\",\"version\":\"0.13.0\"}};\n",
       "  var render_items = [{\"docid\":\"d1ab3e8e-3ee9-432c-83a5-93e87e327f5e\",\"roots\":{\"510214c9-2832-4c0c-83fe-2bdba705eacb\":\"bb49aeb7-db5b-4685-b14c-969b1d2a319e\"}}];\n",
       "  root.Bokeh.embed.embed_items_notebook(docs_json, render_items);\n",
       "\n",
       "  }\n",
       "  if (root.Bokeh !== undefined) {\n",
       "    embed_document(root);\n",
       "  } else {\n",
       "    var attempts = 0;\n",
       "    var timer = setInterval(function(root) {\n",
       "      if (root.Bokeh !== undefined) {\n",
       "        embed_document(root);\n",
       "        clearInterval(timer);\n",
       "      }\n",
       "      attempts++;\n",
       "      if (attempts > 100) {\n",
       "        console.log(\"Bokeh: ERROR: Unable to run BokehJS code because BokehJS library is missing\")\n",
       "        clearInterval(timer);\n",
       "      }\n",
       "    }, 10, root)\n",
       "  }\n",
       "})(window);"
      ],
      "application/vnd.bokehjs_exec.v0+json": ""
     },
     "metadata": {
      "application/vnd.bokehjs_exec.v0+json": {
       "id": "510214c9-2832-4c0c-83fe-2bdba705eacb"
      }
     },
     "output_type": "display_data"
    }
   ],
   "source": [
    "from random import random\n",
    "\n",
    "x = [random() for x in range(500)]\n",
    "y = [random() for y in range(500)]\n",
    "color = [\"navy\"] * len(x)\n",
    "\n",
    "s1 = ColumnDataSource(data=dict(x=x, y=y, color=color))\n",
    "p = figure(plot_width=400, plot_height=400, tools=\"lasso_select\", title=\"Select Here\")\n",
    "p.circle('x', 'y', color='color', size=8, alpha=0.4, source=s1, \n",
    "         selection_color=\"firebrick\", selection_alpha=0.4)\n",
    "\n",
    "s2 = ColumnDataSource(data=dict(xm=[0,1],ym=[0.5, 0.5]))\n",
    "p.line(x='xm', y='ym', color=\"orange\", line_width=5, alpha=0.6, source=s2)\n",
    "\n",
    "s1.callback = CustomJS(args=dict(s1=s1, s2=s2), code=\"\"\"\n",
    "    var inds = s1.selected.indices;\n",
    "    if (inds.length == 0)\n",
    "        return;\n",
    "\n",
    "    var ym = 0\n",
    "    for (var i = 0; i < inds.length; i++) {\n",
    "        ym += s1.data.y[inds[i]]\n",
    "    }\n",
    "    \n",
    "    ym /= inds.length\n",
    "    s2.data.ym = [ym, ym]\n",
    "\n",
    "    // necessary becasue we mutated source.data in-place\n",
    "    s2.change.emit();  \n",
    "\"\"\")\n",
    "\n",
    "show(p)"
   ]
  },
  {
   "cell_type": "code",
   "execution_count": 13,
   "metadata": {},
   "outputs": [],
   "source": [
    "# Exercise: Experiment with selection callbacks\n",
    "\n"
   ]
  },
  {
   "cell_type": "markdown",
   "metadata": {
    "collapsed": true,
    "slideshow": {
     "slide_type": "slide"
    }
   },
   "source": [
    "## CustomJS for UI Events\n",
    "\n",
    "Bokeh also has a general events system\n",
    "\n",
    "All of the available UI events, and their properties, are listed in the Reference Guide section for [bokeh.events](https://bokeh.pydata.org/en/latest/docs/reference/events.html)"
   ]
  },
  {
   "cell_type": "code",
   "execution_count": 51,
   "metadata": {},
   "outputs": [
    {
     "data": {
      "text/html": [
       "\n",
       "\n",
       "\n",
       "\n",
       "\n",
       "\n",
       "  <div class=\"bk-root\" id=\"0d7cd7a2-3267-465d-8ebc-30d1aa43cb1d\"></div>\n"
      ]
     },
     "metadata": {},
     "output_type": "display_data"
    },
    {
     "data": {
      "application/javascript": [
       "(function(root) {\n",
       "  function embed_document(root) {\n",
       "    \n",
       "  var docs_json = {\"6935de60-b8a9-45a3-8fe9-b62bb3535201\":{\"roots\":{\"references\":[{\"attributes\":{},\"id\":\"4694164e-5bc7-4397-89bc-b5f36e921757\",\"type\":\"BasicTickFormatter\"},{\"attributes\":{\"callback\":null,\"data\":{\"x\":{\"__ndarray__\":\"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\",\"dtype\":\"float64\",\"shape\":[2000]},\"y\":{\"__ndarray__\":\"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\",\"dtype\":\"float64\",\"shape\":[2000]}},\"selected\":{\"id\":\"1dad696a-3ac2-49d0-adf7-464b26a1e4a5\",\"type\":\"Selection\"},\"selection_policy\":{\"id\":\"7ae750b7-613f-43af-a864-7f42ff1e79e8\",\"type\":\"UnionRenderers\"}},\"id\":\"f6dad47f-9124-48d5-892e-5446254964f3\",\"type\":\"ColumnDataSource\"},{\"attributes\":{\"children\":[{\"id\":\"e3c5dcd2-8a0e-4fbe-87af-f832d2b2c306\",\"type\":\"Button\"}]},\"id\":\"73679e6a-3057-49c8-9c53-50825d9ed36e\",\"type\":\"WidgetBox\"},{\"attributes\":{\"source\":{\"id\":\"f6dad47f-9124-48d5-892e-5446254964f3\",\"type\":\"ColumnDataSource\"}},\"id\":\"e67666f5-2069-46ce-a972-31afb1aea785\",\"type\":\"CDSView\"},{\"attributes\":{\"bottom_units\":\"screen\",\"fill_alpha\":{\"value\":0.5},\"fill_color\":{\"value\":\"lightgrey\"},\"left_units\":\"screen\",\"level\":\"overlay\",\"line_alpha\":{\"value\":1.0},\"line_color\":{\"value\":\"black\"},\"line_dash\":[4,4],\"line_width\":{\"value\":2},\"plot\":null,\"render_mode\":\"css\",\"right_units\":\"screen\",\"top_units\":\"screen\"},\"id\":\"a5f59b2d-2ca5-49c4-8267-e496dd392650\",\"type\":\"BoxAnnotation\"},{\"attributes\":{\"callback\":null},\"id\":\"d9fbe7eb-4a23-44b2-9b14-1194b7b3e971\",\"type\":\"DataRange1d\"},{\"attributes\":{\"formatter\":{\"id\":\"c8c0a859-2349-4d48-94ef-8ff5e5776c3b\",\"type\":\"BasicTickFormatter\"},\"plot\":{\"id\":\"afc15aeb-1bbc-43a3-b82c-bb6cfd328d17\",\"subtype\":\"Figure\",\"type\":\"Plot\"},\"ticker\":{\"id\":\"bdbcb738-b37f-43b6-bfbb-da998d91fb73\",\"type\":\"BasicTicker\"}},\"id\":\"2f6b5148-8cc3-4b18-bdf5-1d8ad696d648\",\"type\":\"LinearAxis\"},{\"attributes\":{\"children\":[{\"id\":\"73679e6a-3057-49c8-9c53-50825d9ed36e\",\"type\":\"WidgetBox\"},{\"id\":\"b8ee8a79-9128-4cc0-8dde-37f602fed948\",\"type\":\"Row\"}]},\"id\":\"a531e4b2-5798-41e8-bb71-2f7b3c2a941e\",\"type\":\"Column\"},{\"attributes\":{\"args\":{\"div\":{\"id\":\"a56e2da3-8c51-4b6a-8b85-1ad7ae5c65e1\",\"type\":\"Div\"}},\"code\":\"\\ndiv.text = \\\"Selection! <p> <p>\\\" + JSON.stringify(cb_obj.geometry, undefined, 2);\\n\"},\"id\":\"3be5960b-1a1f-44e2-aff9-537326eea664\",\"type\":\"CustomJS\"},{\"attributes\":{\"plot\":null,\"text\":\"\"},\"id\":\"76be1c61-eb78-4114-bfc0-459f074f69dc\",\"type\":\"Title\"},{\"attributes\":{\"children\":[{\"id\":\"a56e2da3-8c51-4b6a-8b85-1ad7ae5c65e1\",\"type\":\"Div\"}],\"width\":400},\"id\":\"afa0d21b-413b-4397-8b23-19f96c074a75\",\"type\":\"WidgetBox\"},{\"attributes\":{\"width\":400},\"id\":\"a56e2da3-8c51-4b6a-8b85-1ad7ae5c65e1\",\"type\":\"Div\"},{\"attributes\":{},\"id\":\"f7e61a26-979b-4f80-91a8-e3318e5704ce\",\"type\":\"LinearScale\"},{\"attributes\":{\"data_source\":{\"id\":\"f6dad47f-9124-48d5-892e-5446254964f3\",\"type\":\"ColumnDataSource\"},\"glyph\":{\"id\":\"47b0d2ea-7703-4de1-90e8-00bbb426d539\",\"type\":\"Circle\"},\"hover_glyph\":null,\"muted_glyph\":null,\"nonselection_glyph\":{\"id\":\"91c4ce79-0365-44cd-aa17-f52b6a4dd4da\",\"type\":\"Circle\"},\"selection_glyph\":null,\"view\":{\"id\":\"e67666f5-2069-46ce-a972-31afb1aea785\",\"type\":\"CDSView\"}},\"id\":\"791914fe-d353-47fd-800b-ff976a55452d\",\"type\":\"GlyphRenderer\"},{\"attributes\":{},\"id\":\"bdbcb738-b37f-43b6-bfbb-da998d91fb73\",\"type\":\"BasicTicker\"},{\"attributes\":{},\"id\":\"7ae750b7-613f-43af-a864-7f42ff1e79e8\",\"type\":\"UnionRenderers\"},{\"attributes\":{\"fill_alpha\":{\"value\":0.1},\"fill_color\":{\"value\":\"#1f77b4\"},\"line_alpha\":{\"value\":0.1},\"line_color\":{\"value\":\"#1f77b4\"},\"radius\":{\"units\":\"data\",\"value\":1},\"x\":{\"field\":\"x\"},\"y\":{\"field\":\"y\"}},\"id\":\"91c4ce79-0365-44cd-aa17-f52b6a4dd4da\",\"type\":\"Circle\"},{\"attributes\":{},\"id\":\"1dad696a-3ac2-49d0-adf7-464b26a1e4a5\",\"type\":\"Selection\"},{\"attributes\":{\"args\":{\"div\":{\"id\":\"a56e2da3-8c51-4b6a-8b85-1ad7ae5c65e1\",\"type\":\"Div\"}},\"code\":\"\\ndiv.text = \\\"Button!\\\";\\n\"},\"id\":\"e9f61c31-9453-498a-881d-0723ca3121bd\",\"type\":\"CustomJS\"},{\"attributes\":{\"callback\":null},\"id\":\"5a2bc3aa-b6b1-4864-98bc-341bb05c9acd\",\"type\":\"DataRange1d\"},{\"attributes\":{\"callback\":null,\"icon\":null,\"js_event_callbacks\":{\"button_click\":[{\"id\":\"e9f61c31-9453-498a-881d-0723ca3121bd\",\"type\":\"CustomJS\"}]}},\"id\":\"e3c5dcd2-8a0e-4fbe-87af-f832d2b2c306\",\"type\":\"Button\"},{\"attributes\":{\"plot\":{\"id\":\"afc15aeb-1bbc-43a3-b82c-bb6cfd328d17\",\"subtype\":\"Figure\",\"type\":\"Plot\"},\"ticker\":{\"id\":\"0862f447-4d80-44e5-9650-cb5f011a4d2a\",\"type\":\"BasicTicker\"}},\"id\":\"fe22fb35-6f6f-4b06-a0f1-f481de2da524\",\"type\":\"Grid\"},{\"attributes\":{\"fill_alpha\":{\"value\":0.6},\"fill_color\":{\"value\":\"#1f77b4\"},\"line_color\":{\"value\":null},\"radius\":{\"units\":\"data\",\"value\":1},\"x\":{\"field\":\"x\"},\"y\":{\"field\":\"y\"}},\"id\":\"47b0d2ea-7703-4de1-90e8-00bbb426d539\",\"type\":\"Circle\"},{\"attributes\":{},\"id\":\"0862f447-4d80-44e5-9650-cb5f011a4d2a\",\"type\":\"BasicTicker\"},{\"attributes\":{\"dimension\":1,\"plot\":{\"id\":\"afc15aeb-1bbc-43a3-b82c-bb6cfd328d17\",\"subtype\":\"Figure\",\"type\":\"Plot\"},\"ticker\":{\"id\":\"bdbcb738-b37f-43b6-bfbb-da998d91fb73\",\"type\":\"BasicTicker\"}},\"id\":\"40eb0eaa-35c0-4b9f-b49c-611570cdfbbb\",\"type\":\"Grid\"},{\"attributes\":{\"active_drag\":\"auto\",\"active_inspect\":\"auto\",\"active_multi\":null,\"active_scroll\":\"auto\",\"active_tap\":\"auto\",\"tools\":[{\"id\":\"e86fe994-0905-489e-8e23-37132bcbaa4b\",\"type\":\"BoxSelectTool\"}]},\"id\":\"060d2c3a-a396-49fa-8a34-74886930d705\",\"type\":\"Toolbar\"},{\"attributes\":{\"children\":[{\"id\":\"afc15aeb-1bbc-43a3-b82c-bb6cfd328d17\",\"subtype\":\"Figure\",\"type\":\"Plot\"},{\"id\":\"afa0d21b-413b-4397-8b23-19f96c074a75\",\"type\":\"WidgetBox\"}]},\"id\":\"b8ee8a79-9128-4cc0-8dde-37f602fed948\",\"type\":\"Row\"},{\"attributes\":{\"callback\":null,\"overlay\":{\"id\":\"a5f59b2d-2ca5-49c4-8267-e496dd392650\",\"type\":\"BoxAnnotation\"}},\"id\":\"e86fe994-0905-489e-8e23-37132bcbaa4b\",\"type\":\"BoxSelectTool\"},{\"attributes\":{},\"id\":\"3e941d5a-6114-4cb3-abf9-141014576af1\",\"type\":\"LinearScale\"},{\"attributes\":{\"formatter\":{\"id\":\"4694164e-5bc7-4397-89bc-b5f36e921757\",\"type\":\"BasicTickFormatter\"},\"plot\":{\"id\":\"afc15aeb-1bbc-43a3-b82c-bb6cfd328d17\",\"subtype\":\"Figure\",\"type\":\"Plot\"},\"ticker\":{\"id\":\"0862f447-4d80-44e5-9650-cb5f011a4d2a\",\"type\":\"BasicTicker\"}},\"id\":\"0c8a3190-4536-4c29-bbd4-2abe81113a2a\",\"type\":\"LinearAxis\"},{\"attributes\":{},\"id\":\"c8c0a859-2349-4d48-94ef-8ff5e5776c3b\",\"type\":\"BasicTickFormatter\"},{\"attributes\":{\"below\":[{\"id\":\"0c8a3190-4536-4c29-bbd4-2abe81113a2a\",\"type\":\"LinearAxis\"}],\"js_event_callbacks\":{\"selectiongeometry\":[{\"id\":\"3be5960b-1a1f-44e2-aff9-537326eea664\",\"type\":\"CustomJS\"}]},\"left\":[{\"id\":\"2f6b5148-8cc3-4b18-bdf5-1d8ad696d648\",\"type\":\"LinearAxis\"}],\"renderers\":[{\"id\":\"0c8a3190-4536-4c29-bbd4-2abe81113a2a\",\"type\":\"LinearAxis\"},{\"id\":\"fe22fb35-6f6f-4b06-a0f1-f481de2da524\",\"type\":\"Grid\"},{\"id\":\"2f6b5148-8cc3-4b18-bdf5-1d8ad696d648\",\"type\":\"LinearAxis\"},{\"id\":\"40eb0eaa-35c0-4b9f-b49c-611570cdfbbb\",\"type\":\"Grid\"},{\"id\":\"a5f59b2d-2ca5-49c4-8267-e496dd392650\",\"type\":\"BoxAnnotation\"},{\"id\":\"791914fe-d353-47fd-800b-ff976a55452d\",\"type\":\"GlyphRenderer\"}],\"title\":{\"id\":\"76be1c61-eb78-4114-bfc0-459f074f69dc\",\"type\":\"Title\"},\"toolbar\":{\"id\":\"060d2c3a-a396-49fa-8a34-74886930d705\",\"type\":\"Toolbar\"},\"x_range\":{\"id\":\"5a2bc3aa-b6b1-4864-98bc-341bb05c9acd\",\"type\":\"DataRange1d\"},\"x_scale\":{\"id\":\"f7e61a26-979b-4f80-91a8-e3318e5704ce\",\"type\":\"LinearScale\"},\"y_range\":{\"id\":\"d9fbe7eb-4a23-44b2-9b14-1194b7b3e971\",\"type\":\"DataRange1d\"},\"y_scale\":{\"id\":\"3e941d5a-6114-4cb3-abf9-141014576af1\",\"type\":\"LinearScale\"}},\"id\":\"afc15aeb-1bbc-43a3-b82c-bb6cfd328d17\",\"subtype\":\"Figure\",\"type\":\"Plot\"}],\"root_ids\":[\"a531e4b2-5798-41e8-bb71-2f7b3c2a941e\"]},\"title\":\"Bokeh Application\",\"version\":\"0.13.0\"}};\n",
       "  var render_items = [{\"docid\":\"6935de60-b8a9-45a3-8fe9-b62bb3535201\",\"roots\":{\"a531e4b2-5798-41e8-bb71-2f7b3c2a941e\":\"0d7cd7a2-3267-465d-8ebc-30d1aa43cb1d\"}}];\n",
       "  root.Bokeh.embed.embed_items_notebook(docs_json, render_items);\n",
       "\n",
       "  }\n",
       "  if (root.Bokeh !== undefined) {\n",
       "    embed_document(root);\n",
       "  } else {\n",
       "    var attempts = 0;\n",
       "    var timer = setInterval(function(root) {\n",
       "      if (root.Bokeh !== undefined) {\n",
       "        embed_document(root);\n",
       "        clearInterval(timer);\n",
       "      }\n",
       "      attempts++;\n",
       "      if (attempts > 100) {\n",
       "        console.log(\"Bokeh: ERROR: Unable to run BokehJS code because BokehJS library is missing\")\n",
       "        clearInterval(timer);\n",
       "      }\n",
       "    }, 10, root)\n",
       "  }\n",
       "})(window);"
      ],
      "application/vnd.bokehjs_exec.v0+json": ""
     },
     "metadata": {
      "application/vnd.bokehjs_exec.v0+json": {
       "id": "a531e4b2-5798-41e8-bb71-2f7b3c2a941e"
      }
     },
     "output_type": "display_data"
    }
   ],
   "source": [
    "from bokeh.plotting import figure\n",
    "from bokeh import events\n",
    "from bokeh.models import CustomJS, Div, Button\n",
    "from bokeh.layouts import column, row\n",
    "\n",
    "import numpy as np\n",
    "x = np.random.random(size=2000) * 100\n",
    "y = np.random.random(size=2000) * 100\n",
    "\n",
    "p = figure(tools=\"box_select\")\n",
    "p.scatter(x, y, radius=1, fill_alpha=0.6, line_color=None)\n",
    "\n",
    "div = Div(width=400)\n",
    "button = Button(label=\"Button\")\n",
    "layout = column(button, row(p, div))\n",
    "\n",
    "# Events with no attributes\n",
    "button.js_on_event(events.ButtonClick,  CustomJS(args=dict(div=div), code=\"\"\"\n",
    "div.text = \"Button!\";\n",
    "\"\"\")) \n",
    "\n",
    "p.js_on_event(events.SelectionGeometry, CustomJS(args=dict(div=div), code=\"\"\"\n",
    "div.text = \"Selection! <p> <p>\" + JSON.stringify(cb_obj.geometry, undefined, 2);\n",
    "\"\"\"))\n",
    "\n",
    "show(layout)"
   ]
  },
  {
   "cell_type": "code",
   "execution_count": 15,
   "metadata": {},
   "outputs": [],
   "source": [
    "# Exercise: Create a plot that responds to different events from bokeh.events\n",
    "\n"
   ]
  },
  {
   "cell_type": "markdown",
   "metadata": {
    "collapsed": true,
    "slideshow": {
     "slide_type": "slide"
    }
   },
   "source": [
    "## Additional Information\n",
    "\n",
    "There are many kinds of interactions and events that can be connected to `CustomJS` callbacks. \n",
    "\n",
    "\n",
    "* Widgets - Button, Toggle, Dropdown, TextInput, AutocompleteInput, Select, Multiselect, Slider, (DateRangeSlider), DatePicker,\n",
    "* Tools - TapTool, BoxSelectTool, HoverTool,\n",
    "* Selection - ColumnDataSource, AjaxDataSource, BlazeDataSource, ServerDataSource\n",
    "* Ranges - Range1d, DataRange1d, FactorRange\n",
    "\n",
    "\n",
    "For more complete examples the User Guide section on [JavaScript Interactions](http://bokeh.pydata.org/en/latest/docs/user_guide/interaction.html)"
   ]
  },
  {
   "cell_type": "code",
   "execution_count": null,
   "metadata": {},
   "outputs": [],
   "source": []
  }
 ],
 "metadata": {
  "anaconda-cloud": {},
  "celltoolbar": "Slideshow",
  "kernelspec": {
   "display_name": "Python 3",
   "language": "python",
   "name": "python3"
  },
  "language_info": {
   "codemirror_mode": {
    "name": "ipython",
    "version": 3
   },
   "file_extension": ".py",
   "mimetype": "text/x-python",
   "name": "python",
   "nbconvert_exporter": "python",
   "pygments_lexer": "ipython3",
   "version": "3.5.6"
  },
  "widgets": {
   "state": {
    "335ae2c8ff80469e9adac668c2924989": {
     "views": [
      {
       "cell_index": 19
      }
     ]
    }
   },
   "version": "1.2.0"
  }
 },
 "nbformat": 4,
 "nbformat_minor": 1
}
