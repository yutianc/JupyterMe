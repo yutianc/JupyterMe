{
 "cells": [
  {
   "cell_type": "markdown",
   "metadata": {},
   "source": [
    " - bokeh.models  \n",
    " A low-level interface that provides the most flexibility to application developers.  \n",
    " - bokeh.plotting  \n",
    "A higher-level interface centered around composing visual glyphs.  \n",
    "This Quickstart focuses on the bokeh.plotting interface."
   ]
  },
  {
   "cell_type": "markdown",
   "metadata": {},
   "source": [
    "### Installation\n",
    "\n",
    "\n",
    "`conda install bokeh`\n",
    "\n",
    "or in commandline use pip\n",
    "\n",
    "`pip3 install bokeh`\n",
    "\n"
   ]
  },
  {
   "cell_type": "markdown",
   "metadata": {},
   "source": [
    "Next, we'll tell Bokeh to display its plots directly into the notebook. This will cause all of the Javascript and data to be embedded directly into the HTML of the notebook itself. (Bokeh can output straight to HTML files, or use a server, which we'll look at later.)"
   ]
  },
  {
   "cell_type": "code",
   "execution_count": 1,
   "metadata": {},
   "outputs": [],
   "source": [
    "from bokeh.plotting import figure \n",
    "from bokeh.io import output_notebook, show"
   ]
  },
  {
   "cell_type": "code",
   "execution_count": 5,
   "metadata": {},
   "outputs": [
    {
     "data": {
      "text/html": [
       "\n",
       "    <div class=\"bk-root\">\n",
       "        <a href=\"https://bokeh.pydata.org\" target=\"_blank\" class=\"bk-logo bk-logo-small bk-logo-notebook\"></a>\n",
       "        <span id=\"3a3926e8-c99e-46b5-8724-fc6f28579c6b\">Loading BokehJS ...</span>\n",
       "    </div>"
      ]
     },
     "metadata": {},
     "output_type": "display_data"
    },
    {
     "data": {
      "application/javascript": [
       "\n",
       "(function(root) {\n",
       "  function now() {\n",
       "    return new Date();\n",
       "  }\n",
       "\n",
       "  var force = true;\n",
       "\n",
       "  if (typeof (root._bokeh_onload_callbacks) === \"undefined\" || force === true) {\n",
       "    root._bokeh_onload_callbacks = [];\n",
       "    root._bokeh_is_loading = undefined;\n",
       "  }\n",
       "\n",
       "  var JS_MIME_TYPE = 'application/javascript';\n",
       "  var HTML_MIME_TYPE = 'text/html';\n",
       "  var EXEC_MIME_TYPE = 'application/vnd.bokehjs_exec.v0+json';\n",
       "  var CLASS_NAME = 'output_bokeh rendered_html';\n",
       "\n",
       "  /**\n",
       "   * Render data to the DOM node\n",
       "   */\n",
       "  function render(props, node) {\n",
       "    var script = document.createElement(\"script\");\n",
       "    node.appendChild(script);\n",
       "  }\n",
       "\n",
       "  /**\n",
       "   * Handle when an output is cleared or removed\n",
       "   */\n",
       "  function handleClearOutput(event, handle) {\n",
       "    var cell = handle.cell;\n",
       "\n",
       "    var id = cell.output_area._bokeh_element_id;\n",
       "    var server_id = cell.output_area._bokeh_server_id;\n",
       "    // Clean up Bokeh references\n",
       "    if (id != null && id in Bokeh.index) {\n",
       "      Bokeh.index[id].model.document.clear();\n",
       "      delete Bokeh.index[id];\n",
       "    }\n",
       "\n",
       "    if (server_id !== undefined) {\n",
       "      // Clean up Bokeh references\n",
       "      var cmd = \"from bokeh.io.state import curstate; print(curstate().uuid_to_server['\" + server_id + \"'].get_sessions()[0].document.roots[0]._id)\";\n",
       "      cell.notebook.kernel.execute(cmd, {\n",
       "        iopub: {\n",
       "          output: function(msg) {\n",
       "            var id = msg.content.text.trim();\n",
       "            if (id in Bokeh.index) {\n",
       "              Bokeh.index[id].model.document.clear();\n",
       "              delete Bokeh.index[id];\n",
       "            }\n",
       "          }\n",
       "        }\n",
       "      });\n",
       "      // Destroy server and session\n",
       "      var cmd = \"import bokeh.io.notebook as ion; ion.destroy_server('\" + server_id + \"')\";\n",
       "      cell.notebook.kernel.execute(cmd);\n",
       "    }\n",
       "  }\n",
       "\n",
       "  /**\n",
       "   * Handle when a new output is added\n",
       "   */\n",
       "  function handleAddOutput(event, handle) {\n",
       "    var output_area = handle.output_area;\n",
       "    var output = handle.output;\n",
       "\n",
       "    // limit handleAddOutput to display_data with EXEC_MIME_TYPE content only\n",
       "    if ((output.output_type != \"display_data\") || (!output.data.hasOwnProperty(EXEC_MIME_TYPE))) {\n",
       "      return\n",
       "    }\n",
       "\n",
       "    var toinsert = output_area.element.find(\".\" + CLASS_NAME.split(' ')[0]);\n",
       "\n",
       "    if (output.metadata[EXEC_MIME_TYPE][\"id\"] !== undefined) {\n",
       "      toinsert[toinsert.length - 1].firstChild.textContent = output.data[JS_MIME_TYPE];\n",
       "      // store reference to embed id on output_area\n",
       "      output_area._bokeh_element_id = output.metadata[EXEC_MIME_TYPE][\"id\"];\n",
       "    }\n",
       "    if (output.metadata[EXEC_MIME_TYPE][\"server_id\"] !== undefined) {\n",
       "      var bk_div = document.createElement(\"div\");\n",
       "      bk_div.innerHTML = output.data[HTML_MIME_TYPE];\n",
       "      var script_attrs = bk_div.children[0].attributes;\n",
       "      for (var i = 0; i < script_attrs.length; i++) {\n",
       "        toinsert[toinsert.length - 1].firstChild.setAttribute(script_attrs[i].name, script_attrs[i].value);\n",
       "      }\n",
       "      // store reference to server id on output_area\n",
       "      output_area._bokeh_server_id = output.metadata[EXEC_MIME_TYPE][\"server_id\"];\n",
       "    }\n",
       "  }\n",
       "\n",
       "  function register_renderer(events, OutputArea) {\n",
       "\n",
       "    function append_mime(data, metadata, element) {\n",
       "      // create a DOM node to render to\n",
       "      var toinsert = this.create_output_subarea(\n",
       "        metadata,\n",
       "        CLASS_NAME,\n",
       "        EXEC_MIME_TYPE\n",
       "      );\n",
       "      this.keyboard_manager.register_events(toinsert);\n",
       "      // Render to node\n",
       "      var props = {data: data, metadata: metadata[EXEC_MIME_TYPE]};\n",
       "      render(props, toinsert[toinsert.length - 1]);\n",
       "      element.append(toinsert);\n",
       "      return toinsert\n",
       "    }\n",
       "\n",
       "    /* Handle when an output is cleared or removed */\n",
       "    events.on('clear_output.CodeCell', handleClearOutput);\n",
       "    events.on('delete.Cell', handleClearOutput);\n",
       "\n",
       "    /* Handle when a new output is added */\n",
       "    events.on('output_added.OutputArea', handleAddOutput);\n",
       "\n",
       "    /**\n",
       "     * Register the mime type and append_mime function with output_area\n",
       "     */\n",
       "    OutputArea.prototype.register_mime_type(EXEC_MIME_TYPE, append_mime, {\n",
       "      /* Is output safe? */\n",
       "      safe: true,\n",
       "      /* Index of renderer in `output_area.display_order` */\n",
       "      index: 0\n",
       "    });\n",
       "  }\n",
       "\n",
       "  // register the mime type if in Jupyter Notebook environment and previously unregistered\n",
       "  if (root.Jupyter !== undefined) {\n",
       "    var events = require('base/js/events');\n",
       "    var OutputArea = require('notebook/js/outputarea').OutputArea;\n",
       "\n",
       "    if (OutputArea.prototype.mime_types().indexOf(EXEC_MIME_TYPE) == -1) {\n",
       "      register_renderer(events, OutputArea);\n",
       "    }\n",
       "  }\n",
       "\n",
       "  \n",
       "  if (typeof (root._bokeh_timeout) === \"undefined\" || force === true) {\n",
       "    root._bokeh_timeout = Date.now() + 5000;\n",
       "    root._bokeh_failed_load = false;\n",
       "  }\n",
       "\n",
       "  var NB_LOAD_WARNING = {'data': {'text/html':\n",
       "     \"<div style='background-color: #fdd'>\\n\"+\n",
       "     \"<p>\\n\"+\n",
       "     \"BokehJS does not appear to have successfully loaded. If loading BokehJS from CDN, this \\n\"+\n",
       "     \"may be due to a slow or bad network connection. Possible fixes:\\n\"+\n",
       "     \"</p>\\n\"+\n",
       "     \"<ul>\\n\"+\n",
       "     \"<li>re-rerun `output_notebook()` to attempt to load from CDN again, or</li>\\n\"+\n",
       "     \"<li>use INLINE resources instead, as so:</li>\\n\"+\n",
       "     \"</ul>\\n\"+\n",
       "     \"<code>\\n\"+\n",
       "     \"from bokeh.resources import INLINE\\n\"+\n",
       "     \"output_notebook(resources=INLINE)\\n\"+\n",
       "     \"</code>\\n\"+\n",
       "     \"</div>\"}};\n",
       "\n",
       "  function display_loaded() {\n",
       "    var el = document.getElementById(\"3a3926e8-c99e-46b5-8724-fc6f28579c6b\");\n",
       "    if (el != null) {\n",
       "      el.textContent = \"BokehJS is loading...\";\n",
       "    }\n",
       "    if (root.Bokeh !== undefined) {\n",
       "      if (el != null) {\n",
       "        el.textContent = \"BokehJS \" + root.Bokeh.version + \" successfully loaded.\";\n",
       "      }\n",
       "    } else if (Date.now() < root._bokeh_timeout) {\n",
       "      setTimeout(display_loaded, 100)\n",
       "    }\n",
       "  }\n",
       "\n",
       "\n",
       "  function run_callbacks() {\n",
       "    try {\n",
       "      root._bokeh_onload_callbacks.forEach(function(callback) { callback() });\n",
       "    }\n",
       "    finally {\n",
       "      delete root._bokeh_onload_callbacks\n",
       "    }\n",
       "    console.info(\"Bokeh: all callbacks have finished\");\n",
       "  }\n",
       "\n",
       "  function load_libs(js_urls, callback) {\n",
       "    root._bokeh_onload_callbacks.push(callback);\n",
       "    if (root._bokeh_is_loading > 0) {\n",
       "      console.log(\"Bokeh: BokehJS is being loaded, scheduling callback at\", now());\n",
       "      return null;\n",
       "    }\n",
       "    if (js_urls == null || js_urls.length === 0) {\n",
       "      run_callbacks();\n",
       "      return null;\n",
       "    }\n",
       "    console.log(\"Bokeh: BokehJS not loaded, scheduling load and callback at\", now());\n",
       "    root._bokeh_is_loading = js_urls.length;\n",
       "    for (var i = 0; i < js_urls.length; i++) {\n",
       "      var url = js_urls[i];\n",
       "      var s = document.createElement('script');\n",
       "      s.src = url;\n",
       "      s.async = false;\n",
       "      s.onreadystatechange = s.onload = function() {\n",
       "        root._bokeh_is_loading--;\n",
       "        if (root._bokeh_is_loading === 0) {\n",
       "          console.log(\"Bokeh: all BokehJS libraries loaded\");\n",
       "          run_callbacks()\n",
       "        }\n",
       "      };\n",
       "      s.onerror = function() {\n",
       "        console.warn(\"failed to load library \" + url);\n",
       "      };\n",
       "      console.log(\"Bokeh: injecting script tag for BokehJS library: \", url);\n",
       "      document.getElementsByTagName(\"head\")[0].appendChild(s);\n",
       "    }\n",
       "  };var element = document.getElementById(\"3a3926e8-c99e-46b5-8724-fc6f28579c6b\");\n",
       "  if (element == null) {\n",
       "    console.log(\"Bokeh: ERROR: autoload.js configured with elementid '3a3926e8-c99e-46b5-8724-fc6f28579c6b' but no matching script tag was found. \")\n",
       "    return false;\n",
       "  }\n",
       "\n",
       "  var js_urls = [\"https://cdn.pydata.org/bokeh/release/bokeh-0.13.0.min.js\", \"https://cdn.pydata.org/bokeh/release/bokeh-widgets-0.13.0.min.js\", \"https://cdn.pydata.org/bokeh/release/bokeh-tables-0.13.0.min.js\", \"https://cdn.pydata.org/bokeh/release/bokeh-gl-0.13.0.min.js\"];\n",
       "\n",
       "  var inline_js = [\n",
       "    function(Bokeh) {\n",
       "      Bokeh.set_log_level(\"info\");\n",
       "    },\n",
       "    \n",
       "    function(Bokeh) {\n",
       "      \n",
       "    },\n",
       "    function(Bokeh) {\n",
       "      console.log(\"Bokeh: injecting CSS: https://cdn.pydata.org/bokeh/release/bokeh-0.13.0.min.css\");\n",
       "      Bokeh.embed.inject_css(\"https://cdn.pydata.org/bokeh/release/bokeh-0.13.0.min.css\");\n",
       "      console.log(\"Bokeh: injecting CSS: https://cdn.pydata.org/bokeh/release/bokeh-widgets-0.13.0.min.css\");\n",
       "      Bokeh.embed.inject_css(\"https://cdn.pydata.org/bokeh/release/bokeh-widgets-0.13.0.min.css\");\n",
       "      console.log(\"Bokeh: injecting CSS: https://cdn.pydata.org/bokeh/release/bokeh-tables-0.13.0.min.css\");\n",
       "      Bokeh.embed.inject_css(\"https://cdn.pydata.org/bokeh/release/bokeh-tables-0.13.0.min.css\");\n",
       "    }\n",
       "  ];\n",
       "\n",
       "  function run_inline_js() {\n",
       "    \n",
       "    if ((root.Bokeh !== undefined) || (force === true)) {\n",
       "      for (var i = 0; i < inline_js.length; i++) {\n",
       "        inline_js[i].call(root, root.Bokeh);\n",
       "      }if (force === true) {\n",
       "        display_loaded();\n",
       "      }} else if (Date.now() < root._bokeh_timeout) {\n",
       "      setTimeout(run_inline_js, 100);\n",
       "    } else if (!root._bokeh_failed_load) {\n",
       "      console.log(\"Bokeh: BokehJS failed to load within specified timeout.\");\n",
       "      root._bokeh_failed_load = true;\n",
       "    } else if (force !== true) {\n",
       "      var cell = $(document.getElementById(\"3a3926e8-c99e-46b5-8724-fc6f28579c6b\")).parents('.cell').data().cell;\n",
       "      cell.output_area.append_execute_result(NB_LOAD_WARNING)\n",
       "    }\n",
       "\n",
       "  }\n",
       "\n",
       "  if (root._bokeh_is_loading === 0) {\n",
       "    console.log(\"Bokeh: BokehJS loaded, going straight to plotting\");\n",
       "    run_inline_js();\n",
       "  } else {\n",
       "    load_libs(js_urls, function() {\n",
       "      console.log(\"Bokeh: BokehJS plotting callback run at\", now());\n",
       "      run_inline_js();\n",
       "    });\n",
       "  }\n",
       "}(window));"
      ],
      "application/vnd.bokehjs_load.v0+json": "\n(function(root) {\n  function now() {\n    return new Date();\n  }\n\n  var force = true;\n\n  if (typeof (root._bokeh_onload_callbacks) === \"undefined\" || force === true) {\n    root._bokeh_onload_callbacks = [];\n    root._bokeh_is_loading = undefined;\n  }\n\n  \n\n  \n  if (typeof (root._bokeh_timeout) === \"undefined\" || force === true) {\n    root._bokeh_timeout = Date.now() + 5000;\n    root._bokeh_failed_load = false;\n  }\n\n  var NB_LOAD_WARNING = {'data': {'text/html':\n     \"<div style='background-color: #fdd'>\\n\"+\n     \"<p>\\n\"+\n     \"BokehJS does not appear to have successfully loaded. If loading BokehJS from CDN, this \\n\"+\n     \"may be due to a slow or bad network connection. Possible fixes:\\n\"+\n     \"</p>\\n\"+\n     \"<ul>\\n\"+\n     \"<li>re-rerun `output_notebook()` to attempt to load from CDN again, or</li>\\n\"+\n     \"<li>use INLINE resources instead, as so:</li>\\n\"+\n     \"</ul>\\n\"+\n     \"<code>\\n\"+\n     \"from bokeh.resources import INLINE\\n\"+\n     \"output_notebook(resources=INLINE)\\n\"+\n     \"</code>\\n\"+\n     \"</div>\"}};\n\n  function display_loaded() {\n    var el = document.getElementById(\"3a3926e8-c99e-46b5-8724-fc6f28579c6b\");\n    if (el != null) {\n      el.textContent = \"BokehJS is loading...\";\n    }\n    if (root.Bokeh !== undefined) {\n      if (el != null) {\n        el.textContent = \"BokehJS \" + root.Bokeh.version + \" successfully loaded.\";\n      }\n    } else if (Date.now() < root._bokeh_timeout) {\n      setTimeout(display_loaded, 100)\n    }\n  }\n\n\n  function run_callbacks() {\n    try {\n      root._bokeh_onload_callbacks.forEach(function(callback) { callback() });\n    }\n    finally {\n      delete root._bokeh_onload_callbacks\n    }\n    console.info(\"Bokeh: all callbacks have finished\");\n  }\n\n  function load_libs(js_urls, callback) {\n    root._bokeh_onload_callbacks.push(callback);\n    if (root._bokeh_is_loading > 0) {\n      console.log(\"Bokeh: BokehJS is being loaded, scheduling callback at\", now());\n      return null;\n    }\n    if (js_urls == null || js_urls.length === 0) {\n      run_callbacks();\n      return null;\n    }\n    console.log(\"Bokeh: BokehJS not loaded, scheduling load and callback at\", now());\n    root._bokeh_is_loading = js_urls.length;\n    for (var i = 0; i < js_urls.length; i++) {\n      var url = js_urls[i];\n      var s = document.createElement('script');\n      s.src = url;\n      s.async = false;\n      s.onreadystatechange = s.onload = function() {\n        root._bokeh_is_loading--;\n        if (root._bokeh_is_loading === 0) {\n          console.log(\"Bokeh: all BokehJS libraries loaded\");\n          run_callbacks()\n        }\n      };\n      s.onerror = function() {\n        console.warn(\"failed to load library \" + url);\n      };\n      console.log(\"Bokeh: injecting script tag for BokehJS library: \", url);\n      document.getElementsByTagName(\"head\")[0].appendChild(s);\n    }\n  };var element = document.getElementById(\"3a3926e8-c99e-46b5-8724-fc6f28579c6b\");\n  if (element == null) {\n    console.log(\"Bokeh: ERROR: autoload.js configured with elementid '3a3926e8-c99e-46b5-8724-fc6f28579c6b' but no matching script tag was found. \")\n    return false;\n  }\n\n  var js_urls = [\"https://cdn.pydata.org/bokeh/release/bokeh-0.13.0.min.js\", \"https://cdn.pydata.org/bokeh/release/bokeh-widgets-0.13.0.min.js\", \"https://cdn.pydata.org/bokeh/release/bokeh-tables-0.13.0.min.js\", \"https://cdn.pydata.org/bokeh/release/bokeh-gl-0.13.0.min.js\"];\n\n  var inline_js = [\n    function(Bokeh) {\n      Bokeh.set_log_level(\"info\");\n    },\n    \n    function(Bokeh) {\n      \n    },\n    function(Bokeh) {\n      console.log(\"Bokeh: injecting CSS: https://cdn.pydata.org/bokeh/release/bokeh-0.13.0.min.css\");\n      Bokeh.embed.inject_css(\"https://cdn.pydata.org/bokeh/release/bokeh-0.13.0.min.css\");\n      console.log(\"Bokeh: injecting CSS: https://cdn.pydata.org/bokeh/release/bokeh-widgets-0.13.0.min.css\");\n      Bokeh.embed.inject_css(\"https://cdn.pydata.org/bokeh/release/bokeh-widgets-0.13.0.min.css\");\n      console.log(\"Bokeh: injecting CSS: https://cdn.pydata.org/bokeh/release/bokeh-tables-0.13.0.min.css\");\n      Bokeh.embed.inject_css(\"https://cdn.pydata.org/bokeh/release/bokeh-tables-0.13.0.min.css\");\n    }\n  ];\n\n  function run_inline_js() {\n    \n    if ((root.Bokeh !== undefined) || (force === true)) {\n      for (var i = 0; i < inline_js.length; i++) {\n        inline_js[i].call(root, root.Bokeh);\n      }if (force === true) {\n        display_loaded();\n      }} else if (Date.now() < root._bokeh_timeout) {\n      setTimeout(run_inline_js, 100);\n    } else if (!root._bokeh_failed_load) {\n      console.log(\"Bokeh: BokehJS failed to load within specified timeout.\");\n      root._bokeh_failed_load = true;\n    } else if (force !== true) {\n      var cell = $(document.getElementById(\"3a3926e8-c99e-46b5-8724-fc6f28579c6b\")).parents('.cell').data().cell;\n      cell.output_area.append_execute_result(NB_LOAD_WARNING)\n    }\n\n  }\n\n  if (root._bokeh_is_loading === 0) {\n    console.log(\"Bokeh: BokehJS loaded, going straight to plotting\");\n    run_inline_js();\n  } else {\n    load_libs(js_urls, function() {\n      console.log(\"Bokeh: BokehJS plotting callback run at\", now());\n      run_inline_js();\n    });\n  }\n}(window));"
     },
     "metadata": {},
     "output_type": "display_data"
    }
   ],
   "source": [
    "## set output to notebook straightly\n",
    "output_notebook()"
   ]
  },
  {
   "cell_type": "code",
   "execution_count": 8,
   "metadata": {},
   "outputs": [],
   "source": [
    "from numpy import cos, linspace\n",
    "x = linspace(-6, 6, 100)\n",
    "y = cos(x)"
   ]
  },
  {
   "cell_type": "code",
   "execution_count": 9,
   "metadata": {},
   "outputs": [
    {
     "data": {
      "text/html": [
       "\n",
       "\n",
       "\n",
       "\n",
       "\n",
       "\n",
       "  <div class=\"bk-root\" id=\"a3528de7-3bc3-4c0b-8a7c-847cef9564ea\"></div>\n"
      ]
     },
     "metadata": {},
     "output_type": "display_data"
    },
    {
     "data": {
      "application/javascript": [
       "(function(root) {\n",
       "  function embed_document(root) {\n",
       "    \n",
       "  var docs_json = {\"dc399da5-cf7a-4b6c-b123-5ad139779300\":{\"roots\":{\"references\":[{\"attributes\":{},\"id\":\"d6e4dab4-f3ce-4c03-9ead-af6d2ff81c8c\",\"type\":\"LinearScale\"},{\"attributes\":{},\"id\":\"5e346b4b-84a5-48b7-99b4-3619b1f3bfe1\",\"type\":\"WheelZoomTool\"},{\"attributes\":{\"bottom_units\":\"screen\",\"fill_alpha\":{\"value\":0.5},\"fill_color\":{\"value\":\"lightgrey\"},\"left_units\":\"screen\",\"level\":\"overlay\",\"line_alpha\":{\"value\":1.0},\"line_color\":{\"value\":\"black\"},\"line_dash\":[4,4],\"line_width\":{\"value\":2},\"plot\":null,\"render_mode\":\"css\",\"right_units\":\"screen\",\"top_units\":\"screen\"},\"id\":\"fccdc915-9559-4ca6-be88-d9f567ba86ed\",\"type\":\"BoxAnnotation\"},{\"attributes\":{\"fill_alpha\":{\"value\":0.1},\"fill_color\":{\"value\":\"#1f77b4\"},\"line_alpha\":{\"value\":0.1},\"line_color\":{\"value\":\"#1f77b4\"},\"size\":{\"units\":\"screen\",\"value\":7},\"x\":{\"field\":\"x\"},\"y\":{\"field\":\"y\"}},\"id\":\"ef9204a8-81f2-4ca7-965f-674e350d4265\",\"type\":\"Circle\"},{\"attributes\":{},\"id\":\"62523241-43fc-4926-a89d-8926a4b34f56\",\"type\":\"SaveTool\"},{\"attributes\":{},\"id\":\"66355e82-9e04-45b9-895c-ec69b9eda257\",\"type\":\"HelpTool\"},{\"attributes\":{\"callback\":null},\"id\":\"a4ea305f-dc99-463d-85df-7f3e9e403edd\",\"type\":\"DataRange1d\"},{\"attributes\":{},\"id\":\"65405bc6-8105-4e7c-89a7-f7cb192c05b4\",\"type\":\"PanTool\"},{\"attributes\":{},\"id\":\"14321612-729c-46b0-a1d7-176433540652\",\"type\":\"BasicTickFormatter\"},{\"attributes\":{},\"id\":\"7779e861-5608-4ff6-a09e-fee40b4d94da\",\"type\":\"BasicTicker\"},{\"attributes\":{\"overlay\":{\"id\":\"fccdc915-9559-4ca6-be88-d9f567ba86ed\",\"type\":\"BoxAnnotation\"}},\"id\":\"e9324116-56ae-46ef-aed3-530ebf821866\",\"type\":\"BoxZoomTool\"},{\"attributes\":{},\"id\":\"82cdde9a-006c-4d8c-af98-a6a6a4e3636d\",\"type\":\"LinearScale\"},{\"attributes\":{\"active_drag\":\"auto\",\"active_inspect\":\"auto\",\"active_multi\":null,\"active_scroll\":\"auto\",\"active_tap\":\"auto\",\"tools\":[{\"id\":\"65405bc6-8105-4e7c-89a7-f7cb192c05b4\",\"type\":\"PanTool\"},{\"id\":\"5e346b4b-84a5-48b7-99b4-3619b1f3bfe1\",\"type\":\"WheelZoomTool\"},{\"id\":\"e9324116-56ae-46ef-aed3-530ebf821866\",\"type\":\"BoxZoomTool\"},{\"id\":\"62523241-43fc-4926-a89d-8926a4b34f56\",\"type\":\"SaveTool\"},{\"id\":\"28bcaea8-8922-4ab9-a5a8-163f7d88de80\",\"type\":\"ResetTool\"},{\"id\":\"66355e82-9e04-45b9-895c-ec69b9eda257\",\"type\":\"HelpTool\"}]},\"id\":\"312c3607-8ce4-43c5-9fb0-cec6f5a45bc9\",\"type\":\"Toolbar\"},{\"attributes\":{\"dimension\":1,\"plot\":{\"id\":\"0eea2edd-2c26-4767-a669-5e6c0135a9c6\",\"subtype\":\"Figure\",\"type\":\"Plot\"},\"ticker\":{\"id\":\"7779e861-5608-4ff6-a09e-fee40b4d94da\",\"type\":\"BasicTicker\"}},\"id\":\"0ee2ad1f-6de5-4162-adc8-62e4520e9c91\",\"type\":\"Grid\"},{\"attributes\":{\"below\":[{\"id\":\"50416751-cccd-44f0-a2d5-b5fb4ad82188\",\"type\":\"LinearAxis\"}],\"left\":[{\"id\":\"9f8e696a-0f72-4e5c-b4e8-d06f41a0af97\",\"type\":\"LinearAxis\"}],\"plot_height\":500,\"plot_width\":500,\"renderers\":[{\"id\":\"50416751-cccd-44f0-a2d5-b5fb4ad82188\",\"type\":\"LinearAxis\"},{\"id\":\"556fb501-fea6-401a-a194-3bee2e015fc7\",\"type\":\"Grid\"},{\"id\":\"9f8e696a-0f72-4e5c-b4e8-d06f41a0af97\",\"type\":\"LinearAxis\"},{\"id\":\"0ee2ad1f-6de5-4162-adc8-62e4520e9c91\",\"type\":\"Grid\"},{\"id\":\"fccdc915-9559-4ca6-be88-d9f567ba86ed\",\"type\":\"BoxAnnotation\"},{\"id\":\"8e36e1c5-ce71-4f6f-b70d-2197af536cf3\",\"type\":\"GlyphRenderer\"}],\"title\":{\"id\":\"2ea40fbc-4718-4865-bc4a-8b1b87411c29\",\"type\":\"Title\"},\"toolbar\":{\"id\":\"312c3607-8ce4-43c5-9fb0-cec6f5a45bc9\",\"type\":\"Toolbar\"},\"x_range\":{\"id\":\"e573f9d4-1680-4bec-a4aa-8e7cd1f78b49\",\"type\":\"DataRange1d\"},\"x_scale\":{\"id\":\"d6e4dab4-f3ce-4c03-9ead-af6d2ff81c8c\",\"type\":\"LinearScale\"},\"y_range\":{\"id\":\"a4ea305f-dc99-463d-85df-7f3e9e403edd\",\"type\":\"DataRange1d\"},\"y_scale\":{\"id\":\"82cdde9a-006c-4d8c-af98-a6a6a4e3636d\",\"type\":\"LinearScale\"}},\"id\":\"0eea2edd-2c26-4767-a669-5e6c0135a9c6\",\"subtype\":\"Figure\",\"type\":\"Plot\"},{\"attributes\":{},\"id\":\"28bcaea8-8922-4ab9-a5a8-163f7d88de80\",\"type\":\"ResetTool\"},{\"attributes\":{\"formatter\":{\"id\":\"fb4eabc3-b589-4a2c-b1f2-34c99c90ff5b\",\"type\":\"BasicTickFormatter\"},\"plot\":{\"id\":\"0eea2edd-2c26-4767-a669-5e6c0135a9c6\",\"subtype\":\"Figure\",\"type\":\"Plot\"},\"ticker\":{\"id\":\"7779e861-5608-4ff6-a09e-fee40b4d94da\",\"type\":\"BasicTicker\"}},\"id\":\"9f8e696a-0f72-4e5c-b4e8-d06f41a0af97\",\"type\":\"LinearAxis\"},{\"attributes\":{\"callback\":null},\"id\":\"e573f9d4-1680-4bec-a4aa-8e7cd1f78b49\",\"type\":\"DataRange1d\"},{\"attributes\":{},\"id\":\"c3c576c4-a0f9-4d7f-be02-56d90a97c1cb\",\"type\":\"UnionRenderers\"},{\"attributes\":{\"callback\":null,\"data\":{\"x\":{\"__ndarray__\":\"AAAAAAAAGMCEDz744IMXwAgffPDBBxfAjC666KKLFsAQPvjggw8WwJNNNtlkkxXAF1100UUXFcCbbLLJJpsUwB988MEHHxTAo4suuuiiE8Anm2yyySYTwKqqqqqqqhLALrrooosuEsCyySabbLIRwDbZZJNNNhHAuuiiiy66EMA++OCDDz4QwIQPPvjggw/AjC666KKLDsCTTTbZZJMNwJtssskmmwzAo4suuuiiC8CqqqqqqqoKwLLJJptssgnAuuiiiy66CMDCBx988MEHwMomm2yyyQbA0UUXXXTRBcDZZJNNNtkEwOGDDz744APA6KKLLrroAsDwwQcffPABwPjggw8++ADAAAAAAAAAAMAQPvjggw/+vyB88MEHH/y/MLrooosu+r88+OCDDz74v0w22WSTTfa/XHTRRRdd9L9ssskmm2zyv3zwwQcffPC/GF100UUX7b842WSTTTbpv1BVVVVVVeW/cNFFF1104b8gm2yyySbbv2CTTTbZZNO/QBdddNFFx78AH3zwwQevvwAffPDBB68/QBdddNFFxz9gk0022WTTPzCbbLLJJts/eNFFF1104T9YVVVVVVXlPzjZZJNNNuk/GF100UUX7T988MEHH3zwP2yyySabbPI/YHTRRRdd9D9QNtlkk032P0D44IMPPvg/MLrooosu+j8gfPDBBx/8PxA++OCDD/4/AAAAAAAAAED44IMPPvgAQPDBBx988AFA6KKLLrroAkDggw8++OADQNhkk0022QRA0EUXXXTRBUDMJptssskGQMQHH3zwwQdAvOiiiy66CEC0ySabbLIJQKyqqqqqqgpApIsuuuiiC0CcbLLJJpsMQJRNNtlkkw1AjC666KKLDkCEDz744IMPQD744IMPPhBAuuiiiy66EEA22WSTTTYRQLLJJptsshFALrrooosuEkCsqqqqqqoSQCibbLLJJhNApIsuuuiiE0AgfPDBBx8UQJxssskmmxRAGF100UUXFUCUTTbZZJMVQBA++OCDDxZAjC666KKLFkAIH3zwwQcXQIQPPvjggxdAAAAAAAAAGEA=\",\"dtype\":\"float64\",\"shape\":[100]},\"y\":{\"__ndarray__\":\"9SJ4Cbe57j8JY+r+OmvtP60Tvck6rus/WLzTHz6J6T/x0bJaUwTnP6I1+zPxKOQ/oScYONMB4T8ZPFzpojXbP8HygfRnAdQ/fGjcYAsEyT8z6888mk6zP+5YV8fTZqe/pYFip7xExb9PFf407y/Svy7Wz2Mtedm/GSzA6Fwx4L8zrWZ2Tmnjv1uZMxdUWOa/yEpIeGjz6L+BKUaewTDrv4rmZKv1B+2/pq/Cehpy7r9tKDKa32nvv7My8UCi6++/lWFJ+Hr1779ggMrCRIfvv13mP6edou6//JJWneBK7b/O+cbyGIXrv36TXFjvV+m/wpQK3pDL5r8HDQc8kOnjv6yITtzBvOC/BXJTVyai2r/ACBWWu2bTv4h0TibdxMe/sSQZ5fDFsL8tuK+mtnmsP79vCY4VhcY//tyFCJLL0j9AaSfs/Q3aPzoevIFEd+A/HBvGyK6p4z+ZiDpMO5LmPxkpbAr9Jek/+alUikVb6z85RlM6ySntP8nZq5m+iu4/fMS1t/d47z+hS/Ko9fDvP6FL8qj18O8/fMS1t/d47z/J2auZvoruPzZGUzrJKe0/9KlUikVb6z8UKWwK/SXpP5mIOkw7kuY/HBvGyK6p4z86HryBRHfgP0BpJ+z9Ddo/79yFCJLL0j+fbwmOFYXGP623r6a2eaw/sSQZ5fDFsL+IdE4m3cTHv8AIFZa7ZtO/BXJTVyai2r+siE7cwbzgvwcNBzyQ6eO/wpQK3pDL5r98k1xY71fpv8z5xvIYheu/+pJWneBK7b9f5j+nnaLuv2KAysJEh++/lWFJ+Hr177+zMvFAouvvv2soMprfae+/pK/Cehpy7r+I5mSr9Qftv38pRp7BMOu/yEpIeGjz6L9bmTMXVFjmvzOtZnZOaeO/GSzA6Fwx4L8u1s9jLXnZv08V/jTvL9K/pYFip7xExb/uV1fH02anv3PrzzyaTrM/nGjcYAsEyT/Q8oH0ZwHUPyc8XOmiNds/qCcYONMB4T+oNfsz8SjkP/HRslpTBOc/WLzTHz6J6T+tE73JOq7rPwlj6v46a+0/9SJ4Cbe57j8=\",\"dtype\":\"float64\",\"shape\":[100]}},\"selected\":{\"id\":\"b5f97cce-9b8e-4261-b463-d0203a52d71b\",\"type\":\"Selection\"},\"selection_policy\":{\"id\":\"c3c576c4-a0f9-4d7f-be02-56d90a97c1cb\",\"type\":\"UnionRenderers\"}},\"id\":\"7275c48a-36c4-4775-bc90-d1aa24963a95\",\"type\":\"ColumnDataSource\"},{\"attributes\":{\"source\":{\"id\":\"7275c48a-36c4-4775-bc90-d1aa24963a95\",\"type\":\"ColumnDataSource\"}},\"id\":\"818b8102-cc0a-4400-a060-43f085966e2d\",\"type\":\"CDSView\"},{\"attributes\":{},\"id\":\"fb4eabc3-b589-4a2c-b1f2-34c99c90ff5b\",\"type\":\"BasicTickFormatter\"},{\"attributes\":{\"data_source\":{\"id\":\"7275c48a-36c4-4775-bc90-d1aa24963a95\",\"type\":\"ColumnDataSource\"},\"glyph\":{\"id\":\"6bfaa530-72cd-4743-a7a4-9ed2a3d83df6\",\"type\":\"Circle\"},\"hover_glyph\":null,\"muted_glyph\":null,\"nonselection_glyph\":{\"id\":\"ef9204a8-81f2-4ca7-965f-674e350d4265\",\"type\":\"Circle\"},\"selection_glyph\":null,\"view\":{\"id\":\"818b8102-cc0a-4400-a060-43f085966e2d\",\"type\":\"CDSView\"}},\"id\":\"8e36e1c5-ce71-4f6f-b70d-2197af536cf3\",\"type\":\"GlyphRenderer\"},{\"attributes\":{\"formatter\":{\"id\":\"14321612-729c-46b0-a1d7-176433540652\",\"type\":\"BasicTickFormatter\"},\"plot\":{\"id\":\"0eea2edd-2c26-4767-a669-5e6c0135a9c6\",\"subtype\":\"Figure\",\"type\":\"Plot\"},\"ticker\":{\"id\":\"16142718-bde5-4586-b693-5d6aba90e2b7\",\"type\":\"BasicTicker\"}},\"id\":\"50416751-cccd-44f0-a2d5-b5fb4ad82188\",\"type\":\"LinearAxis\"},{\"attributes\":{\"fill_alpha\":{\"value\":0.5},\"fill_color\":{\"value\":\"firebrick\"},\"line_alpha\":{\"value\":0.5},\"line_color\":{\"value\":\"firebrick\"},\"size\":{\"units\":\"screen\",\"value\":7},\"x\":{\"field\":\"x\"},\"y\":{\"field\":\"y\"}},\"id\":\"6bfaa530-72cd-4743-a7a4-9ed2a3d83df6\",\"type\":\"Circle\"},{\"attributes\":{\"plot\":null,\"text\":\"\"},\"id\":\"2ea40fbc-4718-4865-bc4a-8b1b87411c29\",\"type\":\"Title\"},{\"attributes\":{},\"id\":\"b5f97cce-9b8e-4261-b463-d0203a52d71b\",\"type\":\"Selection\"},{\"attributes\":{},\"id\":\"16142718-bde5-4586-b693-5d6aba90e2b7\",\"type\":\"BasicTicker\"},{\"attributes\":{\"plot\":{\"id\":\"0eea2edd-2c26-4767-a669-5e6c0135a9c6\",\"subtype\":\"Figure\",\"type\":\"Plot\"},\"ticker\":{\"id\":\"16142718-bde5-4586-b693-5d6aba90e2b7\",\"type\":\"BasicTicker\"}},\"id\":\"556fb501-fea6-401a-a194-3bee2e015fc7\",\"type\":\"Grid\"}],\"root_ids\":[\"0eea2edd-2c26-4767-a669-5e6c0135a9c6\"]},\"title\":\"Bokeh Application\",\"version\":\"0.13.0\"}};\n",
       "  var render_items = [{\"docid\":\"dc399da5-cf7a-4b6c-b123-5ad139779300\",\"roots\":{\"0eea2edd-2c26-4767-a669-5e6c0135a9c6\":\"a3528de7-3bc3-4c0b-8a7c-847cef9564ea\"}}];\n",
       "  root.Bokeh.embed.embed_items_notebook(docs_json, render_items);\n",
       "\n",
       "  }\n",
       "  if (root.Bokeh !== undefined) {\n",
       "    embed_document(root);\n",
       "  } else {\n",
       "    var attempts = 0;\n",
       "    var timer = setInterval(function(root) {\n",
       "      if (root.Bokeh !== undefined) {\n",
       "        embed_document(root);\n",
       "        clearInterval(timer);\n",
       "      }\n",
       "      attempts++;\n",
       "      if (attempts > 100) {\n",
       "        console.log(\"Bokeh: ERROR: Unable to run BokehJS code because BokehJS library is missing\")\n",
       "        clearInterval(timer);\n",
       "      }\n",
       "    }, 10, root)\n",
       "  }\n",
       "})(window);"
      ],
      "application/vnd.bokehjs_exec.v0+json": ""
     },
     "metadata": {
      "application/vnd.bokehjs_exec.v0+json": {
       "id": "0eea2edd-2c26-4767-a669-5e6c0135a9c6"
      }
     },
     "output_type": "display_data"
    }
   ],
   "source": [
    "p = figure(width=500, height=500)\n",
    "p.circle(x, y, size=7, color=\"firebrick\", alpha=0.5)\n",
    "show(p)"
   ]
  },
  {
   "cell_type": "markdown",
   "metadata": {},
   "source": [
    "## Get Start"
   ]
  },
  {
   "cell_type": "code",
   "execution_count": 10,
   "metadata": {
    "scrolled": false
   },
   "outputs": [
    {
     "data": {
      "text/html": [
       "\n",
       "\n",
       "\n",
       "\n",
       "\n",
       "\n",
       "  <div class=\"bk-root\" id=\"4414e952-424e-49b5-9b45-a4fc9702814f\"></div>\n"
      ]
     },
     "metadata": {},
     "output_type": "display_data"
    },
    {
     "data": {
      "application/javascript": [
       "(function(root) {\n",
       "  function embed_document(root) {\n",
       "    \n",
       "  var docs_json = {\"2ef67877-8453-4b18-a105-540fa1cd2f14\":{\"roots\":{\"references\":[{\"attributes\":{},\"id\":\"c8b3d43a-f96a-4877-b2b8-5a1b49fe7725\",\"type\":\"WheelZoomTool\"},{\"attributes\":{\"label\":{\"value\":\"Temp.\"},\"renderers\":[{\"id\":\"d6a7cca6-1af3-4cdf-8a9a-d8082db309e5\",\"type\":\"GlyphRenderer\"}]},\"id\":\"f5b5592d-9d0d-482c-bcb4-8371ef774ab7\",\"type\":\"LegendItem\"},{\"attributes\":{\"overlay\":{\"id\":\"20aeec81-b16f-4e84-b972-a4ed291a717d\",\"type\":\"BoxAnnotation\"}},\"id\":\"cffc4d26-8c7d-47fc-91a4-cfe75a9a1a40\",\"type\":\"BoxZoomTool\"},{\"attributes\":{\"dimension\":1,\"plot\":{\"id\":\"19868a40-e3a6-4c52-8cb1-979d35f1b8a2\",\"subtype\":\"Figure\",\"type\":\"Plot\"},\"ticker\":{\"id\":\"cc3bc63f-cc03-42df-820c-905dae2bdd5a\",\"type\":\"BasicTicker\"}},\"id\":\"29cfba8d-81d0-4d2b-9cc9-84ca7095a019\",\"type\":\"Grid\"},{\"attributes\":{},\"id\":\"cc1160b5-fc3f-40a1-8f35-c14c7492b98e\",\"type\":\"Selection\"},{\"attributes\":{},\"id\":\"8fc87519-e149-49d6-802d-d125603dc292\",\"type\":\"LinearScale\"},{\"attributes\":{\"callback\":null},\"id\":\"e7cec510-ee13-4af0-bc3f-310f523f5bb9\",\"type\":\"DataRange1d\"},{\"attributes\":{\"items\":[{\"id\":\"f5b5592d-9d0d-482c-bcb4-8371ef774ab7\",\"type\":\"LegendItem\"}],\"plot\":{\"id\":\"19868a40-e3a6-4c52-8cb1-979d35f1b8a2\",\"subtype\":\"Figure\",\"type\":\"Plot\"}},\"id\":\"bb7a5803-d43a-48b3-bcfe-00d7f7087653\",\"type\":\"Legend\"},{\"attributes\":{\"axis_label\":\"y\",\"formatter\":{\"id\":\"c7794d78-39b5-4ad0-8dd7-04f75cdd7494\",\"type\":\"BasicTickFormatter\"},\"plot\":{\"id\":\"19868a40-e3a6-4c52-8cb1-979d35f1b8a2\",\"subtype\":\"Figure\",\"type\":\"Plot\"},\"ticker\":{\"id\":\"cc3bc63f-cc03-42df-820c-905dae2bdd5a\",\"type\":\"BasicTicker\"}},\"id\":\"7e44c702-2433-4b4e-976b-80c425929e5c\",\"type\":\"LinearAxis\"},{\"attributes\":{\"active_drag\":\"auto\",\"active_inspect\":\"auto\",\"active_multi\":null,\"active_scroll\":\"auto\",\"active_tap\":\"auto\",\"tools\":[{\"id\":\"0f56d0eb-3066-4b10-8911-f87571664a7f\",\"type\":\"PanTool\"},{\"id\":\"c8b3d43a-f96a-4877-b2b8-5a1b49fe7725\",\"type\":\"WheelZoomTool\"},{\"id\":\"cffc4d26-8c7d-47fc-91a4-cfe75a9a1a40\",\"type\":\"BoxZoomTool\"},{\"id\":\"f88d24d0-6198-48e6-9d5c-4ffe98774261\",\"type\":\"SaveTool\"},{\"id\":\"8e8aee19-4cb4-4839-af4f-80f717bb04fe\",\"type\":\"ResetTool\"},{\"id\":\"f6b16074-9a33-4dc8-8dfd-c7a883131155\",\"type\":\"HelpTool\"}]},\"id\":\"d06e6cf8-b48c-475e-9ea1-a97e7654da2b\",\"type\":\"Toolbar\"},{\"attributes\":{\"plot\":null,\"text\":\"simple line example\"},\"id\":\"008732a9-ae63-46ea-9cfc-2f3492874230\",\"type\":\"Title\"},{\"attributes\":{},\"id\":\"eb55107d-0975-4381-a99b-e7c931ab9aa1\",\"type\":\"UnionRenderers\"},{\"attributes\":{\"source\":{\"id\":\"34f23770-8187-4699-9acd-600c44a01182\",\"type\":\"ColumnDataSource\"}},\"id\":\"f578701e-07e1-4461-9320-4e1ecb120dda\",\"type\":\"CDSView\"},{\"attributes\":{\"data_source\":{\"id\":\"34f23770-8187-4699-9acd-600c44a01182\",\"type\":\"ColumnDataSource\"},\"glyph\":{\"id\":\"7eb1bbf9-7a4e-4a2c-a51b-53c731905453\",\"type\":\"Line\"},\"hover_glyph\":null,\"muted_glyph\":null,\"nonselection_glyph\":{\"id\":\"ae562456-0735-4ded-935e-9bc3262369e3\",\"type\":\"Line\"},\"selection_glyph\":null,\"view\":{\"id\":\"f578701e-07e1-4461-9320-4e1ecb120dda\",\"type\":\"CDSView\"}},\"id\":\"d6a7cca6-1af3-4cdf-8a9a-d8082db309e5\",\"type\":\"GlyphRenderer\"},{\"attributes\":{\"line_color\":\"#1f77b4\",\"line_width\":2,\"x\":{\"field\":\"x\"},\"y\":{\"field\":\"y\"}},\"id\":\"7eb1bbf9-7a4e-4a2c-a51b-53c731905453\",\"type\":\"Line\"},{\"attributes\":{},\"id\":\"3c82c0a1-38f0-4c25-973f-b9285526ce5f\",\"type\":\"BasicTicker\"},{\"attributes\":{},\"id\":\"5ed351e9-8aef-4276-9253-4e7383df2296\",\"type\":\"LinearScale\"},{\"attributes\":{\"line_alpha\":0.1,\"line_color\":\"#1f77b4\",\"line_width\":2,\"x\":{\"field\":\"x\"},\"y\":{\"field\":\"y\"}},\"id\":\"ae562456-0735-4ded-935e-9bc3262369e3\",\"type\":\"Line\"},{\"attributes\":{\"below\":[{\"id\":\"23cf2931-3cfc-478a-bbce-eb38c7920caf\",\"type\":\"LinearAxis\"}],\"left\":[{\"id\":\"7e44c702-2433-4b4e-976b-80c425929e5c\",\"type\":\"LinearAxis\"}],\"renderers\":[{\"id\":\"23cf2931-3cfc-478a-bbce-eb38c7920caf\",\"type\":\"LinearAxis\"},{\"id\":\"99122a32-823c-4975-8366-9520f025a428\",\"type\":\"Grid\"},{\"id\":\"7e44c702-2433-4b4e-976b-80c425929e5c\",\"type\":\"LinearAxis\"},{\"id\":\"29cfba8d-81d0-4d2b-9cc9-84ca7095a019\",\"type\":\"Grid\"},{\"id\":\"20aeec81-b16f-4e84-b972-a4ed291a717d\",\"type\":\"BoxAnnotation\"},{\"id\":\"bb7a5803-d43a-48b3-bcfe-00d7f7087653\",\"type\":\"Legend\"},{\"id\":\"d6a7cca6-1af3-4cdf-8a9a-d8082db309e5\",\"type\":\"GlyphRenderer\"}],\"title\":{\"id\":\"008732a9-ae63-46ea-9cfc-2f3492874230\",\"type\":\"Title\"},\"toolbar\":{\"id\":\"d06e6cf8-b48c-475e-9ea1-a97e7654da2b\",\"type\":\"Toolbar\"},\"x_range\":{\"id\":\"d396c88c-5f28-460f-8359-b7cb06e6428b\",\"type\":\"DataRange1d\"},\"x_scale\":{\"id\":\"5ed351e9-8aef-4276-9253-4e7383df2296\",\"type\":\"LinearScale\"},\"y_range\":{\"id\":\"e7cec510-ee13-4af0-bc3f-310f523f5bb9\",\"type\":\"DataRange1d\"},\"y_scale\":{\"id\":\"8fc87519-e149-49d6-802d-d125603dc292\",\"type\":\"LinearScale\"}},\"id\":\"19868a40-e3a6-4c52-8cb1-979d35f1b8a2\",\"subtype\":\"Figure\",\"type\":\"Plot\"},{\"attributes\":{},\"id\":\"c7794d78-39b5-4ad0-8dd7-04f75cdd7494\",\"type\":\"BasicTickFormatter\"},{\"attributes\":{\"plot\":{\"id\":\"19868a40-e3a6-4c52-8cb1-979d35f1b8a2\",\"subtype\":\"Figure\",\"type\":\"Plot\"},\"ticker\":{\"id\":\"3c82c0a1-38f0-4c25-973f-b9285526ce5f\",\"type\":\"BasicTicker\"}},\"id\":\"99122a32-823c-4975-8366-9520f025a428\",\"type\":\"Grid\"},{\"attributes\":{\"bottom_units\":\"screen\",\"fill_alpha\":{\"value\":0.5},\"fill_color\":{\"value\":\"lightgrey\"},\"left_units\":\"screen\",\"level\":\"overlay\",\"line_alpha\":{\"value\":1.0},\"line_color\":{\"value\":\"black\"},\"line_dash\":[4,4],\"line_width\":{\"value\":2},\"plot\":null,\"render_mode\":\"css\",\"right_units\":\"screen\",\"top_units\":\"screen\"},\"id\":\"20aeec81-b16f-4e84-b972-a4ed291a717d\",\"type\":\"BoxAnnotation\"},{\"attributes\":{},\"id\":\"cc3bc63f-cc03-42df-820c-905dae2bdd5a\",\"type\":\"BasicTicker\"},{\"attributes\":{},\"id\":\"f88d24d0-6198-48e6-9d5c-4ffe98774261\",\"type\":\"SaveTool\"},{\"attributes\":{},\"id\":\"8e8aee19-4cb4-4839-af4f-80f717bb04fe\",\"type\":\"ResetTool\"},{\"attributes\":{},\"id\":\"f6b16074-9a33-4dc8-8dfd-c7a883131155\",\"type\":\"HelpTool\"},{\"attributes\":{\"axis_label\":\"x\",\"formatter\":{\"id\":\"742ba8b5-2141-40c7-a1b4-ed7ccf76d447\",\"type\":\"BasicTickFormatter\"},\"plot\":{\"id\":\"19868a40-e3a6-4c52-8cb1-979d35f1b8a2\",\"subtype\":\"Figure\",\"type\":\"Plot\"},\"ticker\":{\"id\":\"3c82c0a1-38f0-4c25-973f-b9285526ce5f\",\"type\":\"BasicTicker\"}},\"id\":\"23cf2931-3cfc-478a-bbce-eb38c7920caf\",\"type\":\"LinearAxis\"},{\"attributes\":{},\"id\":\"0f56d0eb-3066-4b10-8911-f87571664a7f\",\"type\":\"PanTool\"},{\"attributes\":{\"callback\":null,\"data\":{\"x\":[1,2,3,4,5],\"y\":[6,7,2,4,5]},\"selected\":{\"id\":\"cc1160b5-fc3f-40a1-8f35-c14c7492b98e\",\"type\":\"Selection\"},\"selection_policy\":{\"id\":\"eb55107d-0975-4381-a99b-e7c931ab9aa1\",\"type\":\"UnionRenderers\"}},\"id\":\"34f23770-8187-4699-9acd-600c44a01182\",\"type\":\"ColumnDataSource\"},{\"attributes\":{\"callback\":null},\"id\":\"d396c88c-5f28-460f-8359-b7cb06e6428b\",\"type\":\"DataRange1d\"},{\"attributes\":{},\"id\":\"742ba8b5-2141-40c7-a1b4-ed7ccf76d447\",\"type\":\"BasicTickFormatter\"}],\"root_ids\":[\"19868a40-e3a6-4c52-8cb1-979d35f1b8a2\"]},\"title\":\"Bokeh Application\",\"version\":\"0.13.0\"}};\n",
       "  var render_items = [{\"docid\":\"2ef67877-8453-4b18-a105-540fa1cd2f14\",\"roots\":{\"19868a40-e3a6-4c52-8cb1-979d35f1b8a2\":\"4414e952-424e-49b5-9b45-a4fc9702814f\"}}];\n",
       "  root.Bokeh.embed.embed_items_notebook(docs_json, render_items);\n",
       "\n",
       "  }\n",
       "  if (root.Bokeh !== undefined) {\n",
       "    embed_document(root);\n",
       "  } else {\n",
       "    var attempts = 0;\n",
       "    var timer = setInterval(function(root) {\n",
       "      if (root.Bokeh !== undefined) {\n",
       "        embed_document(root);\n",
       "        clearInterval(timer);\n",
       "      }\n",
       "      attempts++;\n",
       "      if (attempts > 100) {\n",
       "        console.log(\"Bokeh: ERROR: Unable to run BokehJS code because BokehJS library is missing\")\n",
       "        clearInterval(timer);\n",
       "      }\n",
       "    }, 10, root)\n",
       "  }\n",
       "})(window);"
      ],
      "application/vnd.bokehjs_exec.v0+json": ""
     },
     "metadata": {
      "application/vnd.bokehjs_exec.v0+json": {
       "id": "19868a40-e3a6-4c52-8cb1-979d35f1b8a2"
      }
     },
     "output_type": "display_data"
    }
   ],
   "source": [
    "from bokeh.plotting import figure, output_file, show\n",
    "\n",
    "# prepare some data\n",
    "x = [1, 2, 3, 4, 5]\n",
    "y = [6, 7, 2, 4, 5]\n",
    "\n",
    "# output to static HTML file\n",
    "output_file(\"lines.html\")\n",
    "\n",
    "# create a new plot with a title and axis labels\n",
    "p = figure(title=\"simple line example\", x_axis_label='x', y_axis_label='y')\n",
    "\n",
    "# add a line renderer with legend and line thickness\n",
    "p.line(x, y, legend=\"Temp.\", line_width=2)\n",
    "\n",
    "# show the results\n",
    "show(p)"
   ]
  },
  {
   "cell_type": "code",
   "execution_count": 12,
   "metadata": {},
   "outputs": [
    {
     "data": {
      "text/html": [
       "\n",
       "\n",
       "\n",
       "\n",
       "\n",
       "\n",
       "  <div class=\"bk-root\" id=\"f09d5529-c0c9-4fe0-b698-78c7a7e77cf5\"></div>\n"
      ]
     },
     "metadata": {},
     "output_type": "display_data"
    },
    {
     "data": {
      "application/javascript": [
       "(function(root) {\n",
       "  function embed_document(root) {\n",
       "    \n",
       "  var docs_json = {\"2b3fc832-f33f-4eab-96c9-8b21ed6bd1af\":{\"roots\":{\"references\":[{\"attributes\":{\"label\":{\"value\":\"y=x^2\"},\"renderers\":[{\"id\":\"52c95352-9583-485b-8bd3-977258c7f875\",\"type\":\"GlyphRenderer\"}]},\"id\":\"ffd11341-7b86-4378-b3cf-07287af792c0\",\"type\":\"LegendItem\"},{\"attributes\":{\"dimension\":1,\"plot\":{\"id\":\"f18693f6-673b-4b72-9917-f1eb766ac787\",\"subtype\":\"Figure\",\"type\":\"Plot\"},\"ticker\":{\"id\":\"d74997cf-d7a8-4c8d-b37a-4bbe53f126ec\",\"type\":\"LogTicker\"}},\"id\":\"dfb34b5c-6f07-4bc4-ae76-879d140c8624\",\"type\":\"Grid\"},{\"attributes\":{},\"id\":\"340d09c0-afa2-4662-b729-5d5d28788931\",\"type\":\"UnionRenderers\"},{\"attributes\":{},\"id\":\"42822e68-f08a-4ddb-8c18-36b550b5fdd5\",\"type\":\"UnionRenderers\"},{\"attributes\":{\"data_source\":{\"id\":\"89354d7b-7985-405f-bdd5-a9e478393d63\",\"type\":\"ColumnDataSource\"},\"glyph\":{\"id\":\"58f71a43-20fa-4f84-8753-80bae3fd6c15\",\"type\":\"Line\"},\"hover_glyph\":null,\"muted_glyph\":null,\"nonselection_glyph\":{\"id\":\"722ed9fe-dd84-4782-bb3e-372257ed5163\",\"type\":\"Line\"},\"selection_glyph\":null,\"view\":{\"id\":\"25bf0f8f-aeca-4c84-a2db-e8a236d33957\",\"type\":\"CDSView\"}},\"id\":\"52c95352-9583-485b-8bd3-977258c7f875\",\"type\":\"GlyphRenderer\"},{\"attributes\":{\"source\":{\"id\":\"89354d7b-7985-405f-bdd5-a9e478393d63\",\"type\":\"ColumnDataSource\"}},\"id\":\"25bf0f8f-aeca-4c84-a2db-e8a236d33957\",\"type\":\"CDSView\"},{\"attributes\":{},\"id\":\"45b8ca7b-b605-434b-a18a-fc01ef8909a8\",\"type\":\"PanTool\"},{\"attributes\":{\"plot\":{\"id\":\"f18693f6-673b-4b72-9917-f1eb766ac787\",\"subtype\":\"Figure\",\"type\":\"Plot\"},\"ticker\":{\"id\":\"32d047b2-d9b3-494e-8fd8-13653008baac\",\"type\":\"BasicTicker\"}},\"id\":\"41a938bf-4e41-4681-a030-e2058322afc8\",\"type\":\"Grid\"},{\"attributes\":{\"line_alpha\":0.1,\"line_color\":\"#1f77b4\",\"line_dash\":[4,4],\"x\":{\"field\":\"x\"},\"y\":{\"field\":\"y\"}},\"id\":\"8388a4db-2535-4527-b599-d4c96004b5fd\",\"type\":\"Line\"},{\"attributes\":{\"source\":{\"id\":\"ca293003-9d82-4028-b848-27e715eebd3d\",\"type\":\"ColumnDataSource\"}},\"id\":\"839e1528-7773-4596-8af4-45a33843d96f\",\"type\":\"CDSView\"},{\"attributes\":{\"data_source\":{\"id\":\"f40e5055-5d3d-4e4c-940d-a918437d740a\",\"type\":\"ColumnDataSource\"},\"glyph\":{\"id\":\"836df466-8d3d-4e6f-a42d-31768952e6bb\",\"type\":\"Line\"},\"hover_glyph\":null,\"muted_glyph\":null,\"nonselection_glyph\":{\"id\":\"8388a4db-2535-4527-b599-d4c96004b5fd\",\"type\":\"Line\"},\"selection_glyph\":null,\"view\":{\"id\":\"5e8d21ca-74f3-442b-bba8-8e3dbfee16fb\",\"type\":\"CDSView\"}},\"id\":\"f4ef0a0f-65f9-4be6-adff-bb370b50206a\",\"type\":\"GlyphRenderer\"},{\"attributes\":{\"callback\":null,\"data\":{\"x\":[0.1,0.5,1.0,1.5,2.0,2.5,3.0],\"y\":[0.1,0.5,1.0,1.5,2.0,2.5,3.0]},\"selected\":{\"id\":\"0b0359e5-773b-4dca-8e35-7cf5e153a931\",\"type\":\"Selection\"},\"selection_policy\":{\"id\":\"69484440-d1dc-4550-bf75-43f859e75565\",\"type\":\"UnionRenderers\"}},\"id\":\"15dbcaf1-332a-4751-8be3-2d9fb877cfc9\",\"type\":\"ColumnDataSource\"},{\"attributes\":{},\"id\":\"857c0423-076a-433a-bb91-1bdb659c5244\",\"type\":\"Selection\"},{\"attributes\":{\"callback\":null,\"data\":{\"x\":[0.1,0.5,1.0,1.5,2.0,2.5,3.0],\"y\":[0.1,0.5,1.0,1.5,2.0,2.5,3.0]},\"selected\":{\"id\":\"4b593ae1-47a9-455e-a29e-cac580a04f69\",\"type\":\"Selection\"},\"selection_policy\":{\"id\":\"ff93699f-ef98-43e3-ba33-9854970ae2be\",\"type\":\"UnionRenderers\"}},\"id\":\"21d80fbd-6fce-488a-9302-fdc476ce2562\",\"type\":\"ColumnDataSource\"},{\"attributes\":{},\"id\":\"10e76cd0-96d2-4af6-9e60-e16bc5d97a4e\",\"type\":\"UnionRenderers\"},{\"attributes\":{\"line_alpha\":0.1,\"line_color\":\"#1f77b4\",\"x\":{\"field\":\"x\"},\"y\":{\"field\":\"y\"}},\"id\":\"f23992e9-1324-4704-b7e5-5cd187d4901f\",\"type\":\"Line\"},{\"attributes\":{\"fill_alpha\":{\"value\":0.1},\"fill_color\":{\"value\":\"#1f77b4\"},\"line_alpha\":{\"value\":0.1},\"line_color\":{\"value\":\"#1f77b4\"},\"size\":{\"units\":\"screen\",\"value\":6},\"x\":{\"field\":\"x\"},\"y\":{\"field\":\"y\"}},\"id\":\"ed21533e-93a9-4de0-a385-b7a7cb9cbd0d\",\"type\":\"Circle\"},{\"attributes\":{},\"id\":\"219de8fa-8c7c-4aac-b0de-23f875257478\",\"type\":\"UnionRenderers\"},{\"attributes\":{\"callback\":null,\"data\":{\"x\":[0.1,0.5,1.0,1.5,2.0,2.5,3.0],\"y\":[0.010000000000000002,0.25,1.0,2.25,4.0,6.25,9.0]},\"selected\":{\"id\":\"0273f036-3968-4ca5-820f-b6be8a83591a\",\"type\":\"Selection\"},\"selection_policy\":{\"id\":\"219de8fa-8c7c-4aac-b0de-23f875257478\",\"type\":\"UnionRenderers\"}},\"id\":\"89354d7b-7985-405f-bdd5-a9e478393d63\",\"type\":\"ColumnDataSource\"},{\"attributes\":{\"line_color\":\"red\",\"x\":{\"field\":\"x\"},\"y\":{\"field\":\"y\"}},\"id\":\"213e1c7d-f710-43f6-b885-0e54fe3c331d\",\"type\":\"Line\"},{\"attributes\":{},\"id\":\"32d047b2-d9b3-494e-8fd8-13653008baac\",\"type\":\"BasicTicker\"},{\"attributes\":{\"active_drag\":\"auto\",\"active_inspect\":\"auto\",\"active_multi\":null,\"active_scroll\":\"auto\",\"active_tap\":\"auto\",\"tools\":[{\"id\":\"45b8ca7b-b605-434b-a18a-fc01ef8909a8\",\"type\":\"PanTool\"},{\"id\":\"908d431a-62be-4f00-ab8d-954808d3a93f\",\"type\":\"BoxZoomTool\"},{\"id\":\"30cd5c34-972f-44e9-a9f0-0e7c711afee6\",\"type\":\"ResetTool\"},{\"id\":\"5997d00e-0e63-458f-9e13-74ebe97e233a\",\"type\":\"SaveTool\"}]},\"id\":\"b85e795c-7e79-42f2-ab08-f7f3d2cfdbd3\",\"type\":\"Toolbar\"},{\"attributes\":{\"fill_color\":{\"value\":\"white\"},\"line_color\":{\"value\":\"#1f77b4\"},\"size\":{\"units\":\"screen\",\"value\":8},\"x\":{\"field\":\"x\"},\"y\":{\"field\":\"y\"}},\"id\":\"223abf38-e86e-4161-bd91-56967323d620\",\"type\":\"Circle\"},{\"attributes\":{\"line_color\":\"orange\",\"line_dash\":[4,4],\"x\":{\"field\":\"x\"},\"y\":{\"field\":\"y\"}},\"id\":\"836df466-8d3d-4e6f-a42d-31768952e6bb\",\"type\":\"Line\"},{\"attributes\":{\"callback\":null},\"id\":\"93411e10-5257-4917-9b38-30d87a3bf1c0\",\"type\":\"DataRange1d\"},{\"attributes\":{\"source\":{\"id\":\"21d80fbd-6fce-488a-9302-fdc476ce2562\",\"type\":\"ColumnDataSource\"}},\"id\":\"bcc0c151-f834-48ae-b850-7885d1a7228f\",\"type\":\"CDSView\"},{\"attributes\":{\"source\":{\"id\":\"c1ed0040-3498-4bd7-938d-9807ec101458\",\"type\":\"ColumnDataSource\"}},\"id\":\"135b0973-30cd-4634-b474-753d362a3413\",\"type\":\"CDSView\"},{\"attributes\":{\"axis_label\":\"sections\",\"formatter\":{\"id\":\"7407dc79-672e-4391-ae05-553a06a8554b\",\"type\":\"BasicTickFormatter\"},\"plot\":{\"id\":\"f18693f6-673b-4b72-9917-f1eb766ac787\",\"subtype\":\"Figure\",\"type\":\"Plot\"},\"ticker\":{\"id\":\"32d047b2-d9b3-494e-8fd8-13653008baac\",\"type\":\"BasicTicker\"}},\"id\":\"5fb79cef-4231-4f3b-a386-0854201cf39f\",\"type\":\"LinearAxis\"},{\"attributes\":{\"callback\":null,\"data\":{\"x\":[0.1,0.5,1.0,1.5,2.0,2.5,3.0],\"y\":[1.2589254117941673,3.1622776601683795,10.0,31.622776601683793,100.0,316.22776601683796,1000.0]},\"selected\":{\"id\":\"83e6203a-f83e-4585-b0dd-3f006601cb88\",\"type\":\"Selection\"},\"selection_policy\":{\"id\":\"340d09c0-afa2-4662-b729-5d5d28788931\",\"type\":\"UnionRenderers\"}},\"id\":\"c1ed0040-3498-4bd7-938d-9807ec101458\",\"type\":\"ColumnDataSource\"},{\"attributes\":{},\"id\":\"0b0359e5-773b-4dca-8e35-7cf5e153a931\",\"type\":\"Selection\"},{\"attributes\":{},\"id\":\"a79e7072-021e-4418-b528-eecc1c076036\",\"type\":\"Selection\"},{\"attributes\":{\"data_source\":{\"id\":\"ca293003-9d82-4028-b848-27e715eebd3d\",\"type\":\"ColumnDataSource\"},\"glyph\":{\"id\":\"b812a4bd-32f3-4f6b-ad17-93179957f097\",\"type\":\"Circle\"},\"hover_glyph\":null,\"muted_glyph\":null,\"nonselection_glyph\":{\"id\":\"ed21533e-93a9-4de0-a385-b7a7cb9cbd0d\",\"type\":\"Circle\"},\"selection_glyph\":null,\"view\":{\"id\":\"839e1528-7773-4596-8af4-45a33843d96f\",\"type\":\"CDSView\"}},\"id\":\"efd686ef-eeb8-415c-ada0-366c35339b12\",\"type\":\"GlyphRenderer\"},{\"attributes\":{},\"id\":\"83e6203a-f83e-4585-b0dd-3f006601cb88\",\"type\":\"Selection\"},{\"attributes\":{},\"id\":\"30cd5c34-972f-44e9-a9f0-0e7c711afee6\",\"type\":\"ResetTool\"},{\"attributes\":{\"line_alpha\":0.1,\"line_color\":\"#1f77b4\",\"line_width\":3,\"x\":{\"field\":\"x\"},\"y\":{\"field\":\"y\"}},\"id\":\"722ed9fe-dd84-4782-bb3e-372257ed5163\",\"type\":\"Line\"},{\"attributes\":{},\"id\":\"890e1419-ad03-4f29-8268-d66b2a04242d\",\"type\":\"LogScale\"},{\"attributes\":{},\"id\":\"193afc73-d673-4a06-85b3-9a259f6aaa6a\",\"type\":\"LinearScale\"},{\"attributes\":{\"callback\":null,\"data\":{\"x\":[0.1,0.5,1.0,1.5,2.0,2.5,3.0],\"y\":[1.023292992280754,1.7782794100389228,10.0,177.82794100389228,10000.0,1778279.410038923,1000000000.0]},\"selected\":{\"id\":\"a79e7072-021e-4418-b528-eecc1c076036\",\"type\":\"Selection\"},\"selection_policy\":{\"id\":\"10e76cd0-96d2-4af6-9e60-e16bc5d97a4e\",\"type\":\"UnionRenderers\"}},\"id\":\"f40e5055-5d3d-4e4c-940d-a918437d740a\",\"type\":\"ColumnDataSource\"},{\"attributes\":{\"label\":{\"value\":\"y=x\"},\"renderers\":[{\"id\":\"89debf85-7989-4f72-9645-ec990fda7dd6\",\"type\":\"GlyphRenderer\"},{\"id\":\"ad7fe636-c86b-4f86-8f68-7402e078358b\",\"type\":\"GlyphRenderer\"}]},\"id\":\"bd50e56d-1d58-4ea2-9cd4-a7b9732729c8\",\"type\":\"LegendItem\"},{\"attributes\":{},\"id\":\"69484440-d1dc-4550-bf75-43f859e75565\",\"type\":\"UnionRenderers\"},{\"attributes\":{\"label\":{\"value\":\"y=10^x^2\"},\"renderers\":[{\"id\":\"f4ef0a0f-65f9-4be6-adff-bb370b50206a\",\"type\":\"GlyphRenderer\"}]},\"id\":\"8a19f432-7a8d-4e27-bc4f-dd532396ba30\",\"type\":\"LegendItem\"},{\"attributes\":{},\"id\":\"7407dc79-672e-4391-ae05-553a06a8554b\",\"type\":\"BasicTickFormatter\"},{\"attributes\":{\"ticker\":null},\"id\":\"d7e6852a-41cf-4b77-8b0e-7728433d3d71\",\"type\":\"LogTickFormatter\"},{\"attributes\":{\"data_source\":{\"id\":\"21d80fbd-6fce-488a-9302-fdc476ce2562\",\"type\":\"ColumnDataSource\"},\"glyph\":{\"id\":\"223abf38-e86e-4161-bd91-56967323d620\",\"type\":\"Circle\"},\"hover_glyph\":null,\"muted_glyph\":null,\"nonselection_glyph\":{\"id\":\"cb9faeed-54c3-4d53-83cd-047dc3bd8ff6\",\"type\":\"Circle\"},\"selection_glyph\":null,\"view\":{\"id\":\"bcc0c151-f834-48ae-b850-7885d1a7228f\",\"type\":\"CDSView\"}},\"id\":\"ad7fe636-c86b-4f86-8f68-7402e078358b\",\"type\":\"GlyphRenderer\"},{\"attributes\":{},\"id\":\"5997d00e-0e63-458f-9e13-74ebe97e233a\",\"type\":\"SaveTool\"},{\"attributes\":{\"source\":{\"id\":\"15dbcaf1-332a-4751-8be3-2d9fb877cfc9\",\"type\":\"ColumnDataSource\"}},\"id\":\"42c688be-9e96-4fff-b170-6b18839aac85\",\"type\":\"CDSView\"},{\"attributes\":{\"bottom_units\":\"screen\",\"fill_alpha\":{\"value\":0.5},\"fill_color\":{\"value\":\"lightgrey\"},\"left_units\":\"screen\",\"level\":\"overlay\",\"line_alpha\":{\"value\":1.0},\"line_color\":{\"value\":\"black\"},\"line_dash\":[4,4],\"line_width\":{\"value\":2},\"plot\":null,\"render_mode\":\"css\",\"right_units\":\"screen\",\"top_units\":\"screen\"},\"id\":\"baf62fcf-f3ce-44c1-bbdb-ebaccf18dd1a\",\"type\":\"BoxAnnotation\"},{\"attributes\":{\"label\":{\"value\":\"y=10^x\"},\"renderers\":[{\"id\":\"d059934d-e840-451b-b892-f131e0cf0720\",\"type\":\"GlyphRenderer\"},{\"id\":\"efd686ef-eeb8-415c-ada0-366c35339b12\",\"type\":\"GlyphRenderer\"}]},\"id\":\"0d4741df-e5c0-4359-ace5-2b405635ecf2\",\"type\":\"LegendItem\"},{\"attributes\":{},\"id\":\"ff93699f-ef98-43e3-ba33-9854970ae2be\",\"type\":\"UnionRenderers\"},{\"attributes\":{\"items\":[{\"id\":\"bd50e56d-1d58-4ea2-9cd4-a7b9732729c8\",\"type\":\"LegendItem\"},{\"id\":\"ffd11341-7b86-4378-b3cf-07287af792c0\",\"type\":\"LegendItem\"},{\"id\":\"0d4741df-e5c0-4359-ace5-2b405635ecf2\",\"type\":\"LegendItem\"},{\"id\":\"8a19f432-7a8d-4e27-bc4f-dd532396ba30\",\"type\":\"LegendItem\"}],\"plot\":{\"id\":\"f18693f6-673b-4b72-9917-f1eb766ac787\",\"subtype\":\"Figure\",\"type\":\"Plot\"}},\"id\":\"fc2c3061-aed6-4a40-8d25-4b7c94c7399f\",\"type\":\"Legend\"},{\"attributes\":{\"line_color\":\"#1f77b4\",\"line_width\":3,\"x\":{\"field\":\"x\"},\"y\":{\"field\":\"y\"}},\"id\":\"58f71a43-20fa-4f84-8753-80bae3fd6c15\",\"type\":\"Line\"},{\"attributes\":{\"fill_alpha\":{\"value\":0.1},\"fill_color\":{\"value\":\"#1f77b4\"},\"line_alpha\":{\"value\":0.1},\"line_color\":{\"value\":\"#1f77b4\"},\"size\":{\"units\":\"screen\",\"value\":8},\"x\":{\"field\":\"x\"},\"y\":{\"field\":\"y\"}},\"id\":\"cb9faeed-54c3-4d53-83cd-047dc3bd8ff6\",\"type\":\"Circle\"},{\"attributes\":{\"source\":{\"id\":\"f40e5055-5d3d-4e4c-940d-a918437d740a\",\"type\":\"ColumnDataSource\"}},\"id\":\"5e8d21ca-74f3-442b-bba8-8e3dbfee16fb\",\"type\":\"CDSView\"},{\"attributes\":{\"below\":[{\"id\":\"5fb79cef-4231-4f3b-a386-0854201cf39f\",\"type\":\"LinearAxis\"}],\"left\":[{\"id\":\"1462752c-5e69-4d50-9a38-ed92f9e50e73\",\"type\":\"LogAxis\"}],\"renderers\":[{\"id\":\"5fb79cef-4231-4f3b-a386-0854201cf39f\",\"type\":\"LinearAxis\"},{\"id\":\"41a938bf-4e41-4681-a030-e2058322afc8\",\"type\":\"Grid\"},{\"id\":\"1462752c-5e69-4d50-9a38-ed92f9e50e73\",\"type\":\"LogAxis\"},{\"id\":\"dfb34b5c-6f07-4bc4-ae76-879d140c8624\",\"type\":\"Grid\"},{\"id\":\"baf62fcf-f3ce-44c1-bbdb-ebaccf18dd1a\",\"type\":\"BoxAnnotation\"},{\"id\":\"fc2c3061-aed6-4a40-8d25-4b7c94c7399f\",\"type\":\"Legend\"},{\"id\":\"89debf85-7989-4f72-9645-ec990fda7dd6\",\"type\":\"GlyphRenderer\"},{\"id\":\"ad7fe636-c86b-4f86-8f68-7402e078358b\",\"type\":\"GlyphRenderer\"},{\"id\":\"52c95352-9583-485b-8bd3-977258c7f875\",\"type\":\"GlyphRenderer\"},{\"id\":\"d059934d-e840-451b-b892-f131e0cf0720\",\"type\":\"GlyphRenderer\"},{\"id\":\"efd686ef-eeb8-415c-ada0-366c35339b12\",\"type\":\"GlyphRenderer\"},{\"id\":\"f4ef0a0f-65f9-4be6-adff-bb370b50206a\",\"type\":\"GlyphRenderer\"}],\"title\":{\"id\":\"5a34843d-a21c-408a-9577-3ece3c1a7b44\",\"type\":\"Title\"},\"toolbar\":{\"id\":\"b85e795c-7e79-42f2-ab08-f7f3d2cfdbd3\",\"type\":\"Toolbar\"},\"x_range\":{\"id\":\"93411e10-5257-4917-9b38-30d87a3bf1c0\",\"type\":\"DataRange1d\"},\"x_scale\":{\"id\":\"193afc73-d673-4a06-85b3-9a259f6aaa6a\",\"type\":\"LinearScale\"},\"y_range\":{\"id\":\"6c573c7d-aa88-454e-bbea-ddf0e63afb1d\",\"type\":\"Range1d\"},\"y_scale\":{\"id\":\"890e1419-ad03-4f29-8268-d66b2a04242d\",\"type\":\"LogScale\"}},\"id\":\"f18693f6-673b-4b72-9917-f1eb766ac787\",\"subtype\":\"Figure\",\"type\":\"Plot\"},{\"attributes\":{\"fill_color\":{\"value\":\"red\"},\"line_color\":{\"value\":\"red\"},\"size\":{\"units\":\"screen\",\"value\":6},\"x\":{\"field\":\"x\"},\"y\":{\"field\":\"y\"}},\"id\":\"b812a4bd-32f3-4f6b-ad17-93179957f097\",\"type\":\"Circle\"},{\"attributes\":{},\"id\":\"4b593ae1-47a9-455e-a29e-cac580a04f69\",\"type\":\"Selection\"},{\"attributes\":{\"axis_label\":\"particles\",\"formatter\":{\"id\":\"d7e6852a-41cf-4b77-8b0e-7728433d3d71\",\"type\":\"LogTickFormatter\"},\"plot\":{\"id\":\"f18693f6-673b-4b72-9917-f1eb766ac787\",\"subtype\":\"Figure\",\"type\":\"Plot\"},\"ticker\":{\"id\":\"d74997cf-d7a8-4c8d-b37a-4bbe53f126ec\",\"type\":\"LogTicker\"}},\"id\":\"1462752c-5e69-4d50-9a38-ed92f9e50e73\",\"type\":\"LogAxis\"},{\"attributes\":{\"data_source\":{\"id\":\"c1ed0040-3498-4bd7-938d-9807ec101458\",\"type\":\"ColumnDataSource\"},\"glyph\":{\"id\":\"213e1c7d-f710-43f6-b885-0e54fe3c331d\",\"type\":\"Line\"},\"hover_glyph\":null,\"muted_glyph\":null,\"nonselection_glyph\":{\"id\":\"f23992e9-1324-4704-b7e5-5cd187d4901f\",\"type\":\"Line\"},\"selection_glyph\":null,\"view\":{\"id\":\"135b0973-30cd-4634-b474-753d362a3413\",\"type\":\"CDSView\"}},\"id\":\"d059934d-e840-451b-b892-f131e0cf0720\",\"type\":\"GlyphRenderer\"},{\"attributes\":{\"num_minor_ticks\":10},\"id\":\"d74997cf-d7a8-4c8d-b37a-4bbe53f126ec\",\"type\":\"LogTicker\"},{\"attributes\":{\"overlay\":{\"id\":\"baf62fcf-f3ce-44c1-bbdb-ebaccf18dd1a\",\"type\":\"BoxAnnotation\"}},\"id\":\"908d431a-62be-4f00-ab8d-954808d3a93f\",\"type\":\"BoxZoomTool\"},{\"attributes\":{\"line_alpha\":0.1,\"line_color\":\"#1f77b4\",\"x\":{\"field\":\"x\"},\"y\":{\"field\":\"y\"}},\"id\":\"11bdd1e2-d457-499a-9f1d-b7f3e02d0d4f\",\"type\":\"Line\"},{\"attributes\":{\"line_color\":\"#1f77b4\",\"x\":{\"field\":\"x\"},\"y\":{\"field\":\"y\"}},\"id\":\"63fc09f0-aa00-44ea-8e38-688a71c7052e\",\"type\":\"Line\"},{\"attributes\":{\"data_source\":{\"id\":\"15dbcaf1-332a-4751-8be3-2d9fb877cfc9\",\"type\":\"ColumnDataSource\"},\"glyph\":{\"id\":\"63fc09f0-aa00-44ea-8e38-688a71c7052e\",\"type\":\"Line\"},\"hover_glyph\":null,\"muted_glyph\":null,\"nonselection_glyph\":{\"id\":\"11bdd1e2-d457-499a-9f1d-b7f3e02d0d4f\",\"type\":\"Line\"},\"selection_glyph\":null,\"view\":{\"id\":\"42c688be-9e96-4fff-b170-6b18839aac85\",\"type\":\"CDSView\"}},\"id\":\"89debf85-7989-4f72-9645-ec990fda7dd6\",\"type\":\"GlyphRenderer\"},{\"attributes\":{\"callback\":null,\"data\":{\"x\":[0.1,0.5,1.0,1.5,2.0,2.5,3.0],\"y\":[1.2589254117941673,3.1622776601683795,10.0,31.622776601683793,100.0,316.22776601683796,1000.0]},\"selected\":{\"id\":\"857c0423-076a-433a-bb91-1bdb659c5244\",\"type\":\"Selection\"},\"selection_policy\":{\"id\":\"42822e68-f08a-4ddb-8c18-36b550b5fdd5\",\"type\":\"UnionRenderers\"}},\"id\":\"ca293003-9d82-4028-b848-27e715eebd3d\",\"type\":\"ColumnDataSource\"},{\"attributes\":{\"plot\":null,\"text\":\"log axis example\"},\"id\":\"5a34843d-a21c-408a-9577-3ece3c1a7b44\",\"type\":\"Title\"},{\"attributes\":{\"callback\":null,\"end\":100000000000,\"start\":0.001},\"id\":\"6c573c7d-aa88-454e-bbea-ddf0e63afb1d\",\"type\":\"Range1d\"},{\"attributes\":{},\"id\":\"0273f036-3968-4ca5-820f-b6be8a83591a\",\"type\":\"Selection\"}],\"root_ids\":[\"f18693f6-673b-4b72-9917-f1eb766ac787\"]},\"title\":\"Bokeh Application\",\"version\":\"0.13.0\"}};\n",
       "  var render_items = [{\"docid\":\"2b3fc832-f33f-4eab-96c9-8b21ed6bd1af\",\"roots\":{\"f18693f6-673b-4b72-9917-f1eb766ac787\":\"f09d5529-c0c9-4fe0-b698-78c7a7e77cf5\"}}];\n",
       "  root.Bokeh.embed.embed_items_notebook(docs_json, render_items);\n",
       "\n",
       "  }\n",
       "  if (root.Bokeh !== undefined) {\n",
       "    embed_document(root);\n",
       "  } else {\n",
       "    var attempts = 0;\n",
       "    var timer = setInterval(function(root) {\n",
       "      if (root.Bokeh !== undefined) {\n",
       "        embed_document(root);\n",
       "        clearInterval(timer);\n",
       "      }\n",
       "      attempts++;\n",
       "      if (attempts > 100) {\n",
       "        console.log(\"Bokeh: ERROR: Unable to run BokehJS code because BokehJS library is missing\")\n",
       "        clearInterval(timer);\n",
       "      }\n",
       "    }, 10, root)\n",
       "  }\n",
       "})(window);"
      ],
      "application/vnd.bokehjs_exec.v0+json": ""
     },
     "metadata": {
      "application/vnd.bokehjs_exec.v0+json": {
       "id": "f18693f6-673b-4b72-9917-f1eb766ac787"
      }
     },
     "output_type": "display_data"
    }
   ],
   "source": [
    "from bokeh.plotting import figure, output_file, show\n",
    "\n",
    "# prepare some data\n",
    "x = [0.1, 0.5, 1.0, 1.5, 2.0, 2.5, 3.0]\n",
    "y0 = [i**2 for i in x]\n",
    "y1 = [10**i for i in x]\n",
    "y2 = [10**(i**2) for i in x]\n",
    "\n",
    "# output to static HTML file\n",
    "#output_file(\"log_lines.html\")\n",
    "#output to jupyter notebook\n",
    "#output_notebook()\n",
    "\n",
    "# create a new plot\n",
    "p = figure(\n",
    "   tools=\"pan,box_zoom,reset,save\",\n",
    "   y_axis_type=\"log\", y_range=[0.001, 10**11], title=\"log axis example\",\n",
    "   x_axis_label='sections', y_axis_label='particles'\n",
    ")\n",
    "\n",
    "# add some renderers\n",
    "p.line(x, x, legend=\"y=x\")\n",
    "p.circle(x, x, legend=\"y=x\", fill_color=\"white\", size=8)\n",
    "\n",
    "p.line(x, y0, legend=\"y=x^2\", line_width=3)\n",
    "p.line(x, y1, legend=\"y=10^x\", line_color=\"red\")\n",
    "p.circle(x, y1, legend=\"y=10^x\", fill_color=\"red\", line_color=\"red\", size=6)\n",
    "p.line(x, y2, legend=\"y=10^x^2\", line_color=\"orange\", line_dash=\"4 4\")\n",
    "\n",
    "# show the results\n",
    "show(p)"
   ]
  },
  {
   "cell_type": "code",
   "execution_count": 25,
   "metadata": {},
   "outputs": [
    {
     "data": {
      "text/html": [
       "\n",
       "\n",
       "\n",
       "\n",
       "\n",
       "\n",
       "  <div class=\"bk-root\" id=\"d6d8e41f-61d2-434a-99b3-2d9531fd4bb7\"></div>\n"
      ]
     },
     "metadata": {},
     "output_type": "display_data"
    },
    {
     "data": {
      "application/javascript": [
       "(function(root) {\n",
       "  function embed_document(root) {\n",
       "    \n",
       "  var docs_json = {\"f3610d41-910e-4c1b-88d7-520df439bb8e\":{\"roots\":{\"references\":[{\"attributes\":{\"bottom_units\":\"screen\",\"fill_alpha\":{\"value\":0.5},\"fill_color\":{\"value\":\"lightgrey\"},\"left_units\":\"screen\",\"level\":\"overlay\",\"line_alpha\":{\"value\":1.0},\"line_color\":{\"value\":\"black\"},\"line_dash\":[4,4],\"line_width\":{\"value\":2},\"plot\":null,\"render_mode\":\"css\",\"right_units\":\"screen\",\"top_units\":\"screen\"},\"id\":\"4c82e6cc-1d37-4ef3-a364-1af9e5394dae\",\"type\":\"BoxAnnotation\"},{\"attributes\":{\"callback\":null,\"end\":100},\"id\":\"ff4fed5b-deae-4afc-8c5e-604185c26471\",\"type\":\"Range1d\"},{\"attributes\":{\"formatter\":{\"id\":\"6fbe1dd7-8eb4-4433-8085-e4f5e7f0bd78\",\"type\":\"BasicTickFormatter\"},\"plot\":{\"id\":\"6c6b9534-046a-40f0-8b65-b1369164905a\",\"subtype\":\"Figure\",\"type\":\"Plot\"},\"ticker\":{\"id\":\"a4e630c8-6666-4bc2-810d-8db5d1c85e5f\",\"type\":\"BasicTicker\"}},\"id\":\"2f793180-a4ad-4a39-ba57-096c2892dda2\",\"type\":\"LinearAxis\"},{\"attributes\":{},\"id\":\"92b60445-026c-4d8a-a579-66160c2eb77a\",\"type\":\"PanTool\"},{\"attributes\":{\"active_drag\":\"auto\",\"active_inspect\":\"auto\",\"active_multi\":null,\"active_scroll\":\"auto\",\"active_tap\":\"auto\",\"tools\":[{\"id\":\"f1d09669-d232-436e-8852-191dd8996a36\",\"type\":\"CrosshairTool\"},{\"id\":\"92b60445-026c-4d8a-a579-66160c2eb77a\",\"type\":\"PanTool\"},{\"id\":\"916fb78a-a503-4a8a-83b4-02bbb4e61887\",\"type\":\"WheelZoomTool\"},{\"id\":\"c8e5685f-a18e-42d2-bdb0-0c2bcbab0f28\",\"type\":\"BoxZoomTool\"},{\"id\":\"2a6d4154-cd0b-4258-a94b-e50067bdc283\",\"type\":\"ResetTool\"},{\"id\":\"550aa32b-90b8-47b5-abb5-9d05decb51c4\",\"type\":\"BoxSelectTool\"},{\"id\":\"6f7da21c-2f01-47ae-a78c-9087345e36a6\",\"type\":\"LassoSelectTool\"}]},\"id\":\"8a9723ca-f980-4b12-8211-f7ca4b4c23a4\",\"type\":\"Toolbar\"},{\"attributes\":{\"overlay\":{\"id\":\"daff0d3b-868d-4edc-9c47-cfff7e77be85\",\"type\":\"BoxAnnotation\"}},\"id\":\"c8e5685f-a18e-42d2-bdb0-0c2bcbab0f28\",\"type\":\"BoxZoomTool\"},{\"attributes\":{\"fill_alpha\":{\"value\":0.6},\"fill_color\":{\"field\":\"fill_color\"},\"line_color\":{\"value\":null},\"radius\":{\"field\":\"radius\",\"units\":\"data\"},\"x\":{\"field\":\"x\"},\"y\":{\"field\":\"y\"}},\"id\":\"7c87b0ce-685e-4759-9cb2-6dce9d2899c7\",\"type\":\"Circle\"},{\"attributes\":{},\"id\":\"f7526c6a-ae24-47b8-9aba-8ea6ba0cbfb9\",\"type\":\"UnionRenderers\"},{\"attributes\":{\"dimension\":1,\"plot\":{\"id\":\"6c6b9534-046a-40f0-8b65-b1369164905a\",\"subtype\":\"Figure\",\"type\":\"Plot\"},\"ticker\":{\"id\":\"a4e630c8-6666-4bc2-810d-8db5d1c85e5f\",\"type\":\"BasicTicker\"}},\"id\":\"add70e54-bdc3-40a8-900b-7fd6fa6b1e2f\",\"type\":\"Grid\"},{\"attributes\":{\"plot\":{\"id\":\"6c6b9534-046a-40f0-8b65-b1369164905a\",\"subtype\":\"Figure\",\"type\":\"Plot\"},\"ticker\":{\"id\":\"e3d3fb11-008c-4b85-a794-be9c14541bdb\",\"type\":\"BasicTicker\"}},\"id\":\"32857aea-497d-435f-96fa-c8d54b1faad0\",\"type\":\"Grid\"},{\"attributes\":{\"formatter\":{\"id\":\"6d27b37a-3613-4d49-bfe1-82ca7276ca15\",\"type\":\"BasicTickFormatter\"},\"plot\":{\"id\":\"6c6b9534-046a-40f0-8b65-b1369164905a\",\"subtype\":\"Figure\",\"type\":\"Plot\"},\"ticker\":{\"id\":\"e3d3fb11-008c-4b85-a794-be9c14541bdb\",\"type\":\"BasicTicker\"}},\"id\":\"57b79e72-3157-4880-853f-0e27e11b41ec\",\"type\":\"LinearAxis\"},{\"attributes\":{},\"id\":\"916fb78a-a503-4a8a-83b4-02bbb4e61887\",\"type\":\"WheelZoomTool\"},{\"attributes\":{\"below\":[{\"id\":\"57b79e72-3157-4880-853f-0e27e11b41ec\",\"type\":\"LinearAxis\"}],\"left\":[{\"id\":\"2f793180-a4ad-4a39-ba57-096c2892dda2\",\"type\":\"LinearAxis\"}],\"renderers\":[{\"id\":\"57b79e72-3157-4880-853f-0e27e11b41ec\",\"type\":\"LinearAxis\"},{\"id\":\"32857aea-497d-435f-96fa-c8d54b1faad0\",\"type\":\"Grid\"},{\"id\":\"2f793180-a4ad-4a39-ba57-096c2892dda2\",\"type\":\"LinearAxis\"},{\"id\":\"add70e54-bdc3-40a8-900b-7fd6fa6b1e2f\",\"type\":\"Grid\"},{\"id\":\"daff0d3b-868d-4edc-9c47-cfff7e77be85\",\"type\":\"BoxAnnotation\"},{\"id\":\"4c82e6cc-1d37-4ef3-a364-1af9e5394dae\",\"type\":\"BoxAnnotation\"},{\"id\":\"94f82198-d966-4b27-8fb2-169008ece88d\",\"type\":\"PolyAnnotation\"},{\"id\":\"46f667d4-04e7-460d-b29b-d429f1463ea5\",\"type\":\"GlyphRenderer\"}],\"title\":{\"id\":\"581544f3-db83-48ce-849e-6e848a1ef61f\",\"type\":\"Title\"},\"toolbar\":{\"id\":\"8a9723ca-f980-4b12-8211-f7ca4b4c23a4\",\"type\":\"Toolbar\"},\"x_range\":{\"id\":\"c4f9ad43-39ad-4854-8176-7547272a2898\",\"type\":\"Range1d\"},\"x_scale\":{\"id\":\"bde8737d-e9b9-46d1-a243-8180215007dc\",\"type\":\"LinearScale\"},\"y_range\":{\"id\":\"ff4fed5b-deae-4afc-8c5e-604185c26471\",\"type\":\"Range1d\"},\"y_scale\":{\"id\":\"bdcde1b6-d85f-45da-a4d8-abf64f145713\",\"type\":\"LinearScale\"}},\"id\":\"6c6b9534-046a-40f0-8b65-b1369164905a\",\"subtype\":\"Figure\",\"type\":\"Plot\"},{\"attributes\":{\"bottom_units\":\"screen\",\"fill_alpha\":{\"value\":0.5},\"fill_color\":{\"value\":\"lightgrey\"},\"left_units\":\"screen\",\"level\":\"overlay\",\"line_alpha\":{\"value\":1.0},\"line_color\":{\"value\":\"black\"},\"line_dash\":[4,4],\"line_width\":{\"value\":2},\"plot\":null,\"render_mode\":\"css\",\"right_units\":\"screen\",\"top_units\":\"screen\"},\"id\":\"daff0d3b-868d-4edc-9c47-cfff7e77be85\",\"type\":\"BoxAnnotation\"},{\"attributes\":{\"fill_alpha\":{\"value\":0.1},\"fill_color\":{\"value\":\"#1f77b4\"},\"line_alpha\":{\"value\":0.1},\"line_color\":{\"value\":\"#1f77b4\"},\"radius\":{\"field\":\"radius\",\"units\":\"data\"},\"x\":{\"field\":\"x\"},\"y\":{\"field\":\"y\"}},\"id\":\"b2ec2d04-2ed9-4050-9a24-271fe7b6e022\",\"type\":\"Circle\"},{\"attributes\":{},\"id\":\"a4e630c8-6666-4bc2-810d-8db5d1c85e5f\",\"type\":\"BasicTicker\"},{\"attributes\":{\"source\":{\"id\":\"6f2b8837-adb6-4e37-b764-b42c9f35b590\",\"type\":\"ColumnDataSource\"}},\"id\":\"0c11d6cf-71dc-4887-8e29-690c2f514c8c\",\"type\":\"CDSView\"},{\"attributes\":{\"callback\":null,\"overlay\":{\"id\":\"4c82e6cc-1d37-4ef3-a364-1af9e5394dae\",\"type\":\"BoxAnnotation\"}},\"id\":\"550aa32b-90b8-47b5-abb5-9d05decb51c4\",\"type\":\"BoxSelectTool\"},{\"attributes\":{},\"id\":\"6fbe1dd7-8eb4-4433-8085-e4f5e7f0bd78\",\"type\":\"BasicTickFormatter\"},{\"attributes\":{\"callback\":null,\"overlay\":{\"id\":\"94f82198-d966-4b27-8fb2-169008ece88d\",\"type\":\"PolyAnnotation\"}},\"id\":\"6f7da21c-2f01-47ae-a78c-9087345e36a6\",\"type\":\"LassoSelectTool\"},{\"attributes\":{},\"id\":\"e3d3fb11-008c-4b85-a794-be9c14541bdb\",\"type\":\"BasicTicker\"},{\"attributes\":{\"callback\":null,\"end\":100},\"id\":\"c4f9ad43-39ad-4854-8176-7547272a2898\",\"type\":\"Range1d\"},{\"attributes\":{\"fill_alpha\":{\"value\":0.5},\"fill_color\":{\"value\":\"lightgrey\"},\"level\":\"overlay\",\"line_alpha\":{\"value\":1.0},\"line_color\":{\"value\":\"black\"},\"line_dash\":[4,4],\"line_width\":{\"value\":2},\"plot\":null,\"xs_units\":\"screen\",\"ys_units\":\"screen\"},\"id\":\"94f82198-d966-4b27-8fb2-169008ece88d\",\"type\":\"PolyAnnotation\"},{\"attributes\":{},\"id\":\"bde8737d-e9b9-46d1-a243-8180215007dc\",\"type\":\"LinearScale\"},{\"attributes\":{},\"id\":\"59ba0c59-addd-459c-8848-ed3840c69950\",\"type\":\"Selection\"},{\"attributes\":{},\"id\":\"2a6d4154-cd0b-4258-a94b-e50067bdc283\",\"type\":\"ResetTool\"},{\"attributes\":{\"plot\":null,\"text\":\"\"},\"id\":\"581544f3-db83-48ce-849e-6e848a1ef61f\",\"type\":\"Title\"},{\"attributes\":{},\"id\":\"6d27b37a-3613-4d49-bfe1-82ca7276ca15\",\"type\":\"BasicTickFormatter\"},{\"attributes\":{\"callback\":null,\"data\":{\"fill_color\":[\"#d0d7c8\",\"#6948c8\",\"#3d6ec8\",\"#bc7dc8\",\"#5644c8\",\"#984bc8\",\"#8823c8\",\"#46c0c8\",\"#35aec8\",\"#7da7c8\",\"#c1c2c8\",\"#f17dc8\",\"#998cc8\",\"#7a28c8\",\"#a99fc8\",\"#71d9c8\",\"#9268c8\",\"#6eb7c8\",\"#81cac8\",\"#ab60c8\",\"#64adc8\",\"#638bc8\",\"#f675c8\",\"#9a9dc8\",\"#5441c8\",\"#709dc8\",\"#eeb5c8\",\"#b37fc8\",\"#d246c8\",\"#e384c8\",\"#5931c8\",\"#d22fc8\",\"#f33ac8\",\"#d15dc8\",\"#e154c8\",\"#36d4c8\",\"#a28ec8\",\"#6f7cc8\",\"#87bfc8\",\"#37a5c8\",\"#e8c5c8\",\"#e34fc8\",\"#34adc8\",\"#c256c8\",\"#f7a4c8\",\"#c36ac8\",\"#79a5c8\",\"#cab4c8\",\"#adcfc8\",\"#cad3c8\",\"#846fc8\",\"#7d53c8\",\"#8b4ec8\",\"#4e6bc8\",\"#6b9bc8\",\"#9428c8\",\"#3547c8\",\"#473ec8\",\"#6a99c8\",\"#da8bc8\",\"#eccbc8\",\"#8b94c8\",\"#cf5ec8\",\"#90c3c8\",\"#4f57c8\",\"#a8a2c8\",\"#a469c8\",\"#f894c8\",\"#6a75c8\",\"#aba1c8\",\"#5949c8\",\"#88d3c8\",\"#981fc8\",\"#53a2c8\",\"#c6a7c8\",\"#4a80c8\",\"#8a88c8\",\"#b8d9c8\",\"#5dc5c8\",\"#6e30c8\",\"#bd58c8\",\"#41ddc8\",\"#43afc8\",\"#a95fc8\",\"#4073c8\",\"#e45fc8\",\"#a83dc8\",\"#ea20c8\",\"#9acac8\",\"#d681c8\",\"#c13cc8\",\"#698ac8\",\"#3982c8\",\"#8841c8\",\"#3ee4c8\",\"#e473c8\",\"#6d80c8\",\"#bda1c8\",\"#c379c8\",\"#807fc8\",\"#ba62c8\",\"#787ec8\",\"#d2ddc8\",\"#6488c8\",\"#7d5bc8\",\"#ad48c8\",\"#d890c8\",\"#70d6c8\",\"#d1bac8\",\"#74a4c8\",\"#9b65c8\",\"#ef8bc8\",\"#8a53c8\",\"#3f1fc8\",\"#322dc8\",\"#7addc8\",\"#63ddc8\",\"#aab5c8\",\"#8bddc8\",\"#f768c8\",\"#7adac8\",\"#5557c8\",\"#f347c8\",\"#6575c8\",\"#caa2c8\",\"#c731c8\",\"#5722c8\",\"#d474c8\",\"#cedbc8\",\"#a957c8\",\"#9e98c8\",\"#8041c8\",\"#ebe3c8\",\"#a46ac8\",\"#d936c8\",\"#cb5cc8\",\"#7f86c8\",\"#61d1c8\",\"#4cc4c8\",\"#5f1fc8\",\"#3fbac8\",\"#3a51c8\",\"#cfddc8\",\"#7caac8\",\"#5ac9c8\",\"#8daac8\",\"#ed98c8\",\"#d932c8\",\"#4c3bc8\",\"#d7c8c8\",\"#c66ac8\",\"#7f5ac8\",\"#9243c8\",\"#744cc8\",\"#c094c8\",\"#6ae5c8\",\"#d224c8\",\"#75a3c8\",\"#6957c8\",\"#cf8ac8\",\"#9d94c8\",\"#9b70c8\",\"#6f2bc8\",\"#78bfc8\",\"#d780c8\",\"#793ec8\",\"#3a2bc8\",\"#ac89c8\",\"#d934c8\",\"#4696c8\",\"#d2bec8\",\"#99acc8\",\"#e67fc8\",\"#e84ec8\",\"#cbafc8\",\"#7899c8\",\"#ad9ec8\",\"#aab2c8\",\"#e335c8\",\"#3649c8\",\"#9236c8\",\"#b0b6c8\",\"#e0d5c8\",\"#5f97c8\",\"#893ac8\",\"#9b50c8\",\"#8977c8\",\"#ca54c8\",\"#a9e4c8\",\"#8da1c8\",\"#7d8ec8\",\"#c969c8\",\"#b859c8\",\"#7586c8\",\"#d129c8\",\"#72b6c8\",\"#4ab8c8\",\"#8957c8\",\"#c1a1c8\",\"#4f7fc8\",\"#ad57c8\",\"#dd4ac8\",\"#7766c8\",\"#b0b0c8\",\"#5ae4c8\",\"#badec8\",\"#5aacc8\",\"#f55ec8\",\"#678bc8\",\"#cc5ec8\",\"#5d49c8\",\"#b848c8\",\"#693fc8\",\"#ee69c8\",\"#a784c8\",\"#5976c8\",\"#6eddc8\",\"#607ec8\",\"#506ac8\",\"#5738c8\",\"#d3c7c8\",\"#9441c8\",\"#d3ddc8\",\"#adc1c8\",\"#779dc8\",\"#824cc8\",\"#ec77c8\",\"#f76cc8\",\"#713bc8\",\"#f585c8\",\"#8bc2c8\",\"#a398c8\",\"#75b0c8\",\"#dcc2c8\",\"#d67bc8\",\"#e99fc8\",\"#6765c8\",\"#ea8cc8\",\"#e7a2c8\",\"#c7aac8\",\"#d686c8\",\"#f9b6c8\",\"#ea1fc8\",\"#a73fc8\",\"#40b0c8\",\"#7268c8\",\"#b76bc8\",\"#d1b0c8\",\"#d1c3c8\",\"#b4d4c8\",\"#74b7c8\",\"#6432c8\",\"#66a4c8\",\"#f7c9c8\",\"#d5bcc8\",\"#3e70c8\",\"#e0b0c8\",\"#8c59c8\",\"#375bc8\",\"#d1d2c8\",\"#4281c8\",\"#b7aec8\",\"#aad5c8\",\"#e673c8\",\"#571ec8\",\"#d52bc8\",\"#6372c8\",\"#a581c8\",\"#8cbac8\",\"#c5e1c8\",\"#7c87c8\",\"#ee60c8\",\"#7565c8\",\"#78dec8\",\"#6b57c8\",\"#4ac5c8\",\"#f428c8\",\"#d548c8\",\"#8e89c8\",\"#3d43c8\",\"#3649c8\",\"#4023c8\",\"#e24cc8\",\"#402ec8\",\"#72c6c8\",\"#96b5c8\",\"#4d8fc8\",\"#c72dc8\",\"#7194c8\",\"#9dc4c8\",\"#a562c8\",\"#7159c8\",\"#875fc8\",\"#3f63c8\",\"#99c1c8\",\"#6d2dc8\",\"#80dfc8\",\"#aec4c8\",\"#c9cac8\",\"#df43c8\",\"#664ec8\",\"#a0e2c8\",\"#39b4c8\",\"#7770c8\",\"#8281c8\",\"#656dc8\",\"#4142c8\",\"#564cc8\",\"#9192c8\",\"#ce38c8\",\"#7868c8\",\"#7434c8\",\"#6943c8\",\"#f18ac8\",\"#4b8bc8\",\"#8f95c8\",\"#439bc8\",\"#7b2ec8\",\"#a044c8\",\"#5064c8\",\"#999ac8\",\"#e050c8\",\"#d4cec8\",\"#77c5c8\",\"#f825c8\",\"#5ce1c8\",\"#5bd0c8\",\"#ba87c8\",\"#6c79c8\",\"#c49cc8\",\"#779bc8\",\"#e935c8\",\"#7e96c8\",\"#d763c8\",\"#e250c8\",\"#8ac8c8\",\"#eb39c8\",\"#ce8ec8\",\"#e3c3c8\",\"#529dc8\",\"#3ac2c8\",\"#75d3c8\",\"#8d6ec8\",\"#c7cec8\",\"#7e66c8\",\"#b262c8\",\"#3552c8\",\"#887ec8\",\"#549cc8\",\"#52a2c8\",\"#3c7dc8\",\"#c736c8\",\"#f967c8\",\"#352ac8\",\"#9d92c8\",\"#d7aac8\",\"#9e6cc8\",\"#f2c2c8\",\"#648dc8\",\"#ea2fc8\",\"#638fc8\",\"#dbb5c8\",\"#801fc8\",\"#a42cc8\",\"#9ba3c8\",\"#5682c8\",\"#cea7c8\",\"#6047c8\",\"#b354c8\",\"#7fbfc8\",\"#d868c8\",\"#475bc8\",\"#7438c8\",\"#b680c8\",\"#eb33c8\",\"#a55cc8\",\"#cdafc8\",\"#9fa5c8\",\"#5edfc8\",\"#eccbc8\",\"#c389c8\",\"#6423c8\",\"#8c74c8\",\"#8621c8\",\"#406cc8\",\"#d69cc8\",\"#ce7fc8\",\"#8821c8\",\"#6333c8\",\"#a83dc8\",\"#8be4c8\",\"#e0d6c8\",\"#826fc8\",\"#3c5fc8\",\"#7a5cc8\",\"#c9b4c8\",\"#df9fc8\",\"#ba45c8\",\"#e24bc8\",\"#c7b7c8\",\"#5829c8\",\"#7a70c8\",\"#b8a5c8\",\"#e7aac8\",\"#aae4c8\",\"#d9a7c8\",\"#aca6c8\",\"#d25ac8\",\"#ade2c8\",\"#532cc8\",\"#f0c2c8\",\"#55c5c8\",\"#f99fc8\",\"#7f72c8\",\"#4e95c8\",\"#77bac8\",\"#8390c8\",\"#a787c8\",\"#7fb8c8\",\"#5f85c8\",\"#cdd2c8\",\"#edddc8\",\"#ed84c8\",\"#ae60c8\",\"#7552c8\",\"#f067c8\",\"#f170c8\",\"#c768c8\",\"#ac9cc8\",\"#4964c8\",\"#e540c8\",\"#4ea1c8\",\"#e6e3c8\",\"#5e94c8\",\"#6d99c8\",\"#ee9bc8\",\"#f534c8\",\"#6f47c8\",\"#d967c8\",\"#ae52c8\",\"#e7acc8\",\"#48a5c8\",\"#6f77c8\",\"#a995c8\",\"#d091c8\",\"#5e29c8\",\"#af49c8\",\"#3389c8\",\"#e121c8\",\"#80b4c8\",\"#342bc8\",\"#cfd7c8\",\"#8975c8\",\"#3c23c8\",\"#9ca3c8\",\"#a22ec8\",\"#4a55c8\",\"#59c3c8\",\"#c13ec8\",\"#e4cdc8\",\"#6383c8\",\"#64abc8\",\"#8230c8\",\"#eee3c8\",\"#d0a4c8\",\"#4d4fc8\",\"#589ac8\",\"#8284c8\",\"#7f35c8\",\"#9265c8\",\"#6f2fc8\",\"#44c3c8\",\"#f064c8\",\"#c345c8\",\"#8d71c8\",\"#f679c8\",\"#6cc4c8\",\"#379dc8\",\"#8250c8\",\"#5ca8c8\",\"#5639c8\",\"#d5a8c8\",\"#92e0c8\",\"#7783c8\",\"#3b3cc8\",\"#4b86c8\",\"#608ac8\",\"#a254c8\",\"#8e4ec8\",\"#5f2bc8\",\"#8329c8\",\"#d298c8\",\"#4875c8\",\"#e53fc8\",\"#5026c8\",\"#c151c8\",\"#4f6bc8\",\"#b375c8\",\"#e684c8\",\"#c61ec8\",\"#c06fc8\",\"#aab4c8\",\"#6f8cc8\",\"#ec7ac8\",\"#d755c8\",\"#4f9cc8\",\"#572fc8\",\"#a541c8\",\"#7cbcc8\",\"#f181c8\",\"#ae89c8\",\"#a7b4c8\",\"#a7cac8\",\"#36e1c8\",\"#acb1c8\",\"#ca91c8\",\"#f3d9c8\",\"#6848c8\",\"#ac68c8\",\"#6c53c8\",\"#bce1c8\",\"#45e1c8\",\"#cecdc8\",\"#9d88c8\",\"#7de4c8\",\"#5f8cc8\",\"#a744c8\",\"#e24ec8\",\"#c93ec8\",\"#9d27c8\",\"#d48dc8\",\"#9ca8c8\",\"#c081c8\",\"#ef86c8\",\"#f41ec8\",\"#83b0c8\",\"#ca34c8\",\"#dd92c8\",\"#c8acc8\",\"#c0bfc8\",\"#c875c8\",\"#9e72c8\",\"#dcc1c8\",\"#4f28c8\",\"#45afc8\",\"#e452c8\",\"#beddc8\",\"#46a3c8\",\"#f670c8\",\"#5547c8\",\"#dfcac8\",\"#8a26c8\",\"#efb3c8\",\"#9dd6c8\",\"#81a2c8\",\"#6535c8\",\"#a0dec8\",\"#693bc8\",\"#dce3c8\",\"#731fc8\",\"#e12ac8\",\"#e66ec8\",\"#56bcc8\",\"#eec7c8\",\"#56b1c8\",\"#7920c8\",\"#b3bdc8\",\"#34bdc8\",\"#de24c8\",\"#7179c8\",\"#8ea7c8\",\"#4723c8\",\"#c641c8\",\"#32dec8\",\"#b53fc8\",\"#6548c8\",\"#ad37c8\",\"#93cec8\",\"#f9bdc8\",\"#43c9c8\",\"#abd1c8\",\"#56c8c8\",\"#974ec8\",\"#f4d7c8\",\"#e9e5c8\",\"#63a6c8\",\"#ce30c8\",\"#da7cc8\",\"#deb1c8\",\"#beb7c8\",\"#63b0c8\",\"#8c31c8\",\"#9e59c8\",\"#54b1c8\",\"#d07ac8\",\"#9a8cc8\",\"#792fc8\",\"#d3b8c8\",\"#c27cc8\",\"#c143c8\",\"#812bc8\",\"#35dac8\",\"#ca7cc8\",\"#3ed3c8\",\"#4645c8\",\"#5743c8\",\"#59c6c8\",\"#e891c8\",\"#f476c8\",\"#522bc8\",\"#9e3ec8\",\"#9174c8\",\"#ec64c8\",\"#bce0c8\",\"#4039c8\",\"#c3c2c8\",\"#3393c8\",\"#3321c8\",\"#bd20c8\",\"#4dafc8\",\"#e172c8\",\"#f83cc8\",\"#f998c8\",\"#756ac8\",\"#cd99c8\",\"#e1d2c8\",\"#ba2cc8\",\"#43adc8\",\"#8a6bc8\",\"#339ac8\",\"#cbb3c8\",\"#c944c8\",\"#e968c8\",\"#ec84c8\",\"#5599c8\",\"#7fbdc8\",\"#7224c8\",\"#73a7c8\",\"#a31fc8\",\"#4f3ec8\",\"#6eb4c8\",\"#bce4c8\",\"#3ebec8\",\"#b6c9c8\",\"#d044c8\",\"#59c1c8\",\"#c5dec8\",\"#efdec8\",\"#a977c8\",\"#cdc6c8\",\"#ad9cc8\",\"#6984c8\",\"#4fc0c8\",\"#b88bc8\",\"#5e5ec8\",\"#d531c8\",\"#42ccc8\",\"#5753c8\",\"#8383c8\",\"#dec2c8\",\"#6189c8\",\"#dfdfc8\",\"#5f85c8\",\"#5277c8\",\"#f3bbc8\",\"#903bc8\",\"#8970c8\",\"#7b4cc8\",\"#3730c8\",\"#a6a3c8\",\"#b0e3c8\",\"#9623c8\",\"#579fc8\",\"#8364c8\",\"#9baac8\",\"#644bc8\",\"#f7c1c8\",\"#774ac8\",\"#e433c8\",\"#e232c8\",\"#ac8ec8\",\"#e16ac8\",\"#c663c8\",\"#8eb7c8\",\"#bac8c8\",\"#8ae3c8\",\"#d736c8\",\"#f7bbc8\",\"#b6d6c8\",\"#522ac8\",\"#7040c8\",\"#82adc8\",\"#38ccc8\",\"#bbc9c8\",\"#5bb6c8\",\"#976fc8\",\"#5f20c8\",\"#bb1ec8\",\"#cf52c8\",\"#4ba7c8\",\"#8631c8\",\"#8b8ec8\",\"#a728c8\",\"#c8c0c8\",\"#7393c8\",\"#c05dc8\",\"#7b31c8\",\"#8cdbc8\",\"#ed2bc8\",\"#ecd4c8\",\"#e9d3c8\",\"#d954c8\",\"#3971c8\",\"#5f28c8\",\"#8391c8\",\"#669ec8\",\"#6367c8\",\"#9e96c8\",\"#e767c8\",\"#6c2fc8\",\"#c7a7c8\",\"#62c8c8\",\"#b0d2c8\",\"#a0b8c8\",\"#e997c8\",\"#e779c8\",\"#6378c8\",\"#5e36c8\",\"#d343c8\",\"#cdd0c8\",\"#e381c8\",\"#7790c8\",\"#e97fc8\",\"#cbb0c8\",\"#778cc8\",\"#c597c8\",\"#cba5c8\",\"#898ec8\",\"#bc31c8\",\"#5485c8\",\"#f0ddc8\",\"#62a1c8\",\"#a078c8\",\"#69b4c8\",\"#8985c8\",\"#3a6fc8\",\"#c7c7c8\",\"#e0a6c8\",\"#c7c4c8\",\"#f231c8\",\"#9c8dc8\",\"#604fc8\",\"#5439c8\",\"#7fbfc8\",\"#643ac8\",\"#625dc8\",\"#aa41c8\",\"#dd66c8\",\"#52a1c8\",\"#6ca2c8\",\"#9d37c8\",\"#aa20c8\",\"#eecfc8\",\"#57d9c8\",\"#3953c8\",\"#42cfc8\",\"#37a5c8\",\"#6a6cc8\",\"#d72dc8\",\"#4030c8\",\"#4d2cc8\",\"#f7b3c8\",\"#879cc8\",\"#c730c8\",\"#6593c8\",\"#ba9cc8\",\"#f137c8\",\"#e3bbc8\",\"#4e3ac8\",\"#46b0c8\",\"#c54bc8\",\"#e6c1c8\",\"#3e29c8\",\"#83c9c8\",\"#c021c8\",\"#e360c8\",\"#8e93c8\",\"#4157c8\",\"#3d80c8\",\"#a694c8\",\"#f04ec8\",\"#8cdec8\",\"#d12bc8\",\"#c49ac8\",\"#ce74c8\",\"#80a0c8\",\"#4a9ac8\",\"#a686c8\",\"#7a8ec8\",\"#3d43c8\",\"#7120c8\",\"#8192c8\",\"#9d33c8\",\"#7e6fc8\",\"#cf57c8\",\"#cda7c8\",\"#d224c8\",\"#3944c8\",\"#6146c8\",\"#3f6dc8\",\"#6681c8\",\"#669ac8\",\"#83b9c8\",\"#bdacc8\",\"#843ec8\",\"#9f5ec8\",\"#8643c8\",\"#da29c8\",\"#f951c8\",\"#edc6c8\",\"#bc6ac8\",\"#e47fc8\",\"#81d5c8\",\"#cbbcc8\",\"#9eb8c8\",\"#5321c8\",\"#6d3cc8\",\"#703ac8\",\"#3a47c8\",\"#eba2c8\",\"#7bc6c8\",\"#7f9ac8\",\"#91bac8\",\"#ac46c8\",\"#b5a1c8\",\"#75a9c8\",\"#cda3c8\",\"#9660c8\",\"#8b5bc8\",\"#6743c8\",\"#4f82c8\",\"#4ebac8\",\"#a368c8\",\"#b1abc8\",\"#3828c8\",\"#7b5ec8\",\"#7464c8\",\"#75b2c8\",\"#9d9ec8\",\"#f092c8\",\"#32aac8\",\"#aa9ec8\",\"#f5b2c8\",\"#89adc8\",\"#7673c8\",\"#bf8fc8\",\"#9b28c8\",\"#cdd5c8\",\"#a45dc8\",\"#ca7bc8\",\"#a5c8c8\",\"#b86cc8\",\"#6720c8\",\"#e95cc8\",\"#ea6cc8\",\"#4a58c8\",\"#ecb2c8\",\"#b220c8\",\"#f7b8c8\",\"#55dfc8\",\"#c054c8\",\"#5466c8\",\"#439ac8\",\"#4f52c8\",\"#53c6c8\",\"#9db8c8\",\"#8190c8\",\"#63dfc8\",\"#52e3c8\",\"#9e40c8\",\"#9e5bc8\",\"#4f25c8\",\"#6cd5c8\",\"#5081c8\",\"#8590c8\",\"#44aac8\",\"#ac75c8\",\"#8084c8\",\"#68a3c8\",\"#d5c3c8\",\"#9848c8\",\"#9597c8\",\"#d4b2c8\",\"#4987c8\",\"#782cc8\",\"#7ec0c8\",\"#7640c8\",\"#4662c8\",\"#cdcac8\",\"#3bd1c8\",\"#53d0c8\",\"#539ec8\",\"#7058c8\",\"#a441c8\",\"#c465c8\",\"#552cc8\",\"#d578c8\",\"#f072c8\",\"#a782c8\",\"#e0aac8\",\"#35a1c8\",\"#ac5ac8\",\"#8a39c8\",\"#9a3dc8\",\"#d233c8\",\"#7334c8\",\"#e7b1c8\",\"#b683c8\",\"#7f79c8\",\"#3c31c8\",\"#765ec8\",\"#804dc8\",\"#43dcc8\",\"#8cb7c8\",\"#702fc8\",\"#4c41c8\",\"#a9a8c8\",\"#e724c8\",\"#cd99c8\",\"#ba44c8\",\"#55a0c8\",\"#e4bfc8\",\"#a096c8\",\"#8a92c8\",\"#c236c8\",\"#d1abc8\",\"#3d88c8\",\"#9249c8\",\"#d898c8\",\"#3231c8\",\"#eae3c8\",\"#5924c8\",\"#49d9c8\",\"#3a4ac8\",\"#df71c8\",\"#cf26c8\",\"#4de5c8\",\"#a042c8\",\"#8e7dc8\",\"#b647c8\",\"#7426c8\",\"#d36ec8\",\"#bb90c8\",\"#f675c8\",\"#8768c8\",\"#8b4dc8\",\"#5343c8\",\"#7b90c8\",\"#8b98c8\",\"#9cdbc8\",\"#a97ec8\",\"#57c4c8\",\"#39b5c8\",\"#6ba4c8\",\"#55d0c8\",\"#b3e0c8\",\"#5993c8\",\"#9e4bc8\",\"#865dc8\",\"#f37ec8\",\"#4b2bc8\",\"#3a44c8\",\"#c39cc8\",\"#79aec8\",\"#35d9c8\",\"#907ac8\",\"#d3c5c8\",\"#97b5c8\",\"#4135c8\",\"#a11fc8\",\"#71dbc8\",\"#4b6dc8\",\"#cb7ac8\",\"#d6d1c8\",\"#3877c8\",\"#ae6dc8\",\"#cd79c8\",\"#cd7dc8\",\"#72b9c8\",\"#f63ec8\",\"#d421c8\",\"#51a1c8\",\"#c7abc8\",\"#d389c8\",\"#9ed3c8\",\"#f568c8\",\"#5d9ec8\",\"#b6a0c8\",\"#bc2ec8\",\"#80d4c8\",\"#f184c8\",\"#4038c8\",\"#7028c8\",\"#752cc8\",\"#652ac8\",\"#7f48c8\",\"#85b7c8\",\"#7063c8\",\"#3bbcc8\",\"#453dc8\",\"#6846c8\",\"#9bdec8\",\"#ca8bc8\",\"#b59cc8\",\"#c7afc8\",\"#6347c8\",\"#70a6c8\",\"#c79bc8\",\"#ae95c8\",\"#ead9c8\",\"#3fdbc8\",\"#4b65c8\",\"#61d8c8\",\"#cb9cc8\",\"#d33bc8\",\"#4fa9c8\",\"#7582c8\",\"#d55dc8\",\"#723fc8\",\"#f64fc8\",\"#4f58c8\",\"#d4c9c8\",\"#8c59c8\",\"#d656c8\",\"#b1cac8\",\"#50d5c8\",\"#5dbbc8\",\"#84dbc8\",\"#3c2ec8\",\"#63abc8\",\"#d623c8\",\"#827ac8\",\"#c7abc8\",\"#7da8c8\",\"#9b3ac8\",\"#9dc6c8\",\"#5591c8\",\"#b439c8\",\"#996cc8\",\"#8086c8\",\"#d1b0c8\",\"#7490c8\",\"#448ec8\",\"#9be1c8\",\"#9adfc8\",\"#4aafc8\",\"#f81fc8\",\"#68e0c8\",\"#4943c8\",\"#7072c8\",\"#948dc8\",\"#4825c8\",\"#f6bcc8\",\"#3fc6c8\",\"#8f9cc8\",\"#8b20c8\",\"#7fc1c8\",\"#b7d3c8\",\"#57c3c8\",\"#b65bc8\",\"#88d7c8\",\"#9629c8\",\"#4862c8\",\"#a3c4c8\",\"#6957c8\",\"#dd2cc8\",\"#a6cac8\",\"#3cbfc8\",\"#a18fc8\",\"#909cc8\",\"#59b8c8\",\"#5386c8\",\"#edcac8\",\"#ac98c8\",\"#9582c8\",\"#d728c8\",\"#c425c8\",\"#b936c8\",\"#5770c8\",\"#715dc8\",\"#dbcfc8\",\"#3d74c8\",\"#489dc8\",\"#3485c8\",\"#5f1ec8\",\"#b01fc8\",\"#943fc8\",\"#9177c8\",\"#ce9fc8\",\"#d29fc8\",\"#458bc8\",\"#64b2c8\",\"#76c1c8\",\"#a5dfc8\",\"#db9fc8\",\"#cd3dc8\",\"#63dcc8\",\"#f322c8\",\"#6e63c8\",\"#68d3c8\",\"#a0e2c8\",\"#6657c8\",\"#8dbcc8\",\"#ceddc8\",\"#3f57c8\",\"#6fa7c8\",\"#a8cec8\",\"#383ec8\",\"#f28ec8\",\"#93dac8\",\"#a790c8\",\"#58cfc8\",\"#894bc8\",\"#a9afc8\",\"#f3a5c8\",\"#7255c8\",\"#d066c8\",\"#8266c8\",\"#6321c8\",\"#f9c2c8\",\"#7d59c8\",\"#a041c8\",\"#f61ec8\",\"#7b4ac8\",\"#6861c8\",\"#be2ac8\",\"#764ac8\",\"#78a3c8\",\"#4041c8\",\"#4470c8\",\"#346ec8\",\"#ed87c8\",\"#682ac8\",\"#50c1c8\",\"#9ddac8\",\"#8d50c8\",\"#dc41c8\",\"#e638c8\",\"#99abc8\",\"#9e3ac8\",\"#3769c8\",\"#3549c8\",\"#7ed4c8\",\"#5897c8\",\"#f1aac8\",\"#b7cac8\",\"#cbcec8\",\"#cd59c8\",\"#bad0c8\",\"#c773c8\",\"#9e63c8\",\"#e645c8\",\"#5c4fc8\",\"#5a27c8\",\"#4749c8\",\"#65cdc8\",\"#68b2c8\",\"#aa34c8\",\"#5fbec8\",\"#75b7c8\",\"#982ec8\",\"#4bdac8\",\"#50c2c8\",\"#a79bc8\",\"#9dc3c8\",\"#c13cc8\",\"#5737c8\",\"#bf56c8\",\"#8182c8\",\"#c81ec8\",\"#b130c8\",\"#5c2fc8\",\"#3892c8\",\"#9062c8\",\"#f487c8\",\"#9936c8\",\"#a054c8\",\"#f13fc8\",\"#bd9ec8\",\"#cda1c8\",\"#66d9c8\",\"#896fc8\",\"#f6e0c8\",\"#421fc8\",\"#ed8dc8\",\"#62dec8\",\"#8279c8\",\"#35d5c8\",\"#843ec8\",\"#a956c8\",\"#e169c8\",\"#d17bc8\",\"#78dfc8\",\"#73a5c8\",\"#4590c8\",\"#ae56c8\",\"#6057c8\",\"#8c46c8\",\"#9168c8\",\"#ad4bc8\",\"#436bc8\",\"#9426c8\",\"#3746c8\",\"#d2b5c8\",\"#e9dfc8\",\"#85cac8\",\"#c0b2c8\",\"#badfc8\",\"#9c6ac8\",\"#f842c8\",\"#94d9c8\",\"#975cc8\",\"#494bc8\",\"#d9dec8\",\"#5860c8\",\"#d5c5c8\",\"#426cc8\",\"#5cddc8\",\"#c152c8\",\"#6123c8\",\"#5eacc8\",\"#7852c8\",\"#a660c8\",\"#9ddec8\",\"#8dccc8\",\"#4847c8\",\"#4be4c8\",\"#6625c8\",\"#4793c8\",\"#8455c8\",\"#6850c8\",\"#5ccfc8\",\"#3cd3c8\",\"#d170c8\",\"#f847c8\",\"#4b56c8\",\"#5360c8\",\"#99d1c8\",\"#caacc8\",\"#85a6c8\",\"#3c24c8\",\"#e7d8c8\",\"#9433c8\",\"#425dc8\",\"#9ebdc8\",\"#8095c8\",\"#ed4cc8\",\"#3784c8\",\"#be3cc8\",\"#3285c8\",\"#3980c8\",\"#a977c8\",\"#bad6c8\",\"#733ec8\",\"#79a6c8\",\"#7a89c8\",\"#f557c8\",\"#f0aec8\",\"#43a3c8\",\"#3b2dc8\",\"#714cc8\",\"#bdd6c8\",\"#9526c8\",\"#91d6c8\",\"#d8e3c8\",\"#68a3c8\",\"#d2e1c8\",\"#7f87c8\",\"#75c6c8\",\"#efb1c8\",\"#bc80c8\",\"#e083c8\",\"#39dbc8\",\"#df3cc8\",\"#f334c8\",\"#f086c8\",\"#dbc7c8\",\"#b4d7c8\",\"#c4b8c8\",\"#40a3c8\",\"#ec1fc8\",\"#70bac8\",\"#8950c8\",\"#9cbac8\",\"#abe4c8\",\"#8bd8c8\",\"#ba25c8\",\"#568cc8\",\"#c4c8c8\",\"#8e85c8\",\"#9fc8c8\",\"#aea5c8\",\"#86b7c8\",\"#c0c6c8\",\"#9924c8\",\"#3271c8\",\"#6278c8\",\"#9d89c8\",\"#3436c8\",\"#40c1c8\",\"#a589c8\",\"#7361c8\",\"#7189c8\",\"#7cdfc8\",\"#a5d2c8\",\"#7d3ac8\",\"#f850c8\",\"#a127c8\",\"#e4c6c8\",\"#913bc8\",\"#a083c8\",\"#af5dc8\",\"#5470c8\",\"#bf5ac8\",\"#9758c8\",\"#4c65c8\",\"#dedcc8\",\"#eb1fc8\",\"#b8b7c8\",\"#b8c3c8\",\"#5030c8\",\"#525bc8\",\"#6c34c8\",\"#8745c8\",\"#d581c8\",\"#95e0c8\",\"#bb2dc8\",\"#a0c2c8\",\"#6c2dc8\",\"#accfc8\",\"#f5a2c8\",\"#98a6c8\",\"#ec41c8\",\"#d646c8\",\"#d163c8\",\"#df51c8\",\"#365cc8\",\"#e6a8c8\",\"#68a4c8\",\"#951ec8\",\"#a29ac8\",\"#4767c8\",\"#6972c8\",\"#868dc8\",\"#9d56c8\",\"#8958c8\",\"#9899c8\",\"#ab1fc8\",\"#6655c8\",\"#6ae4c8\",\"#367bc8\",\"#f62bc8\",\"#4248c8\",\"#9188c8\",\"#4995c8\",\"#d086c8\",\"#a7d4c8\",\"#759bc8\",\"#4f74c8\",\"#509fc8\",\"#b7c4c8\",\"#9571c8\",\"#4dd7c8\",\"#37bcc8\",\"#a363c8\",\"#be4fc8\",\"#9284c8\",\"#3578c8\",\"#62aac8\",\"#66d3c8\",\"#ef9cc8\",\"#b3e3c8\",\"#d289c8\",\"#4842c8\",\"#e54cc8\",\"#3f72c8\",\"#7d77c8\",\"#e57cc8\",\"#7ca5c8\",\"#c89bc8\",\"#dc72c8\",\"#943ec8\",\"#3fd8c8\",\"#afd7c8\",\"#b5aec8\",\"#68dec8\",\"#bb51c8\",\"#96e5c8\",\"#3c21c8\",\"#d16ac8\",\"#a5c8c8\",\"#b7c9c8\",\"#43dac8\",\"#a33ac8\",\"#becec8\",\"#b45fc8\",\"#d32ac8\",\"#a685c8\",\"#4891c8\",\"#ab38c8\",\"#79dac8\",\"#3f51c8\",\"#6adbc8\",\"#6781c8\",\"#b931c8\",\"#ad8cc8\",\"#c44dc8\",\"#f530c8\",\"#c0ccc8\",\"#902cc8\",\"#8d34c8\",\"#aa41c8\",\"#b08bc8\",\"#829ec8\",\"#99cac8\",\"#f0a4c8\",\"#7ac8c8\",\"#a790c8\",\"#7968c8\",\"#7e55c8\",\"#7e89c8\",\"#a3a7c8\",\"#bb4ac8\",\"#6b7bc8\",\"#f9d9c8\",\"#59a1c8\",\"#502bc8\",\"#b7b9c8\",\"#c1c8c8\",\"#4b41c8\",\"#9a91c8\",\"#5c96c8\",\"#6ab5c8\",\"#9caac8\",\"#6addc8\",\"#b97bc8\",\"#bd27c8\",\"#5babc8\",\"#e483c8\",\"#5932c8\",\"#e52fc8\",\"#69d6c8\",\"#e064c8\",\"#566fc8\",\"#8254c8\",\"#7fe1c8\",\"#7e65c8\",\"#a7aac8\",\"#7aadc8\",\"#bc63c8\",\"#db5bc8\",\"#4939c8\",\"#988cc8\",\"#d723c8\",\"#3ee4c8\",\"#d5d5c8\",\"#418ac8\",\"#5e29c8\",\"#37b3c8\",\"#343bc8\",\"#b680c8\",\"#419cc8\",\"#3289c8\",\"#5245c8\",\"#f560c8\",\"#4d6fc8\",\"#8a71c8\",\"#807ec8\",\"#64d7c8\",\"#c4d3c8\",\"#4b95c8\",\"#9d27c8\",\"#c6d7c8\",\"#5455c8\",\"#ca42c8\",\"#74d9c8\",\"#b4dec8\",\"#463fc8\",\"#be82c8\",\"#c5dfc8\",\"#aadfc8\",\"#c667c8\",\"#7266c8\",\"#eeddc8\",\"#69abc8\",\"#34a0c8\",\"#46d4c8\",\"#4b31c8\",\"#34c3c8\",\"#3fd8c8\"],\"radius\":{\"__ndarray__\":\"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\",\"dtype\":\"float64\",\"shape\":[1500]},\"x\":{\"__ndarray__\":\"McVxSD/PU0B99ByUzYw7QOkeBYO6QxdA63bsFyJRUUAopRFvOxMyQLJCgVIAs0lAA5ZhHXC5RUBc6H42IY0kQB4Mgi8T0/o/ZRRwGcHhQkCLoHZg3OVRQAVKSvyz51dARi9yoUvDSUD5RJbYbwBCQMJdQPwMxk1AEeMTJo3iP0BZ3b2adyxIQC9/ooHmbj5AM7FuWMHuQ0BXTxByqXBOQF4/qhtYZzlA6ofzJBeLOEBMv+h78Y5YQL70427GKUpAfqLJtqhBMUBG/uOMCF0/QL8j6qLGgFdAsAV95p04UEAB8LenmAhUQBBMIJNMKVZAGqA7lzuFM0CRJ0RrnRdUQDjXV+prI1hAR+gUgFXuU0D6VRkHzO5VQC0Fh6CuHgBAlb2bHKoaTEBZR50YnZw+QNATURQpb0VAQkK6rW2sB0C5+kYxBMFWQP7zOzllIlZAqr5SIqAh9T+PTV9drAhSQNJsn+qgr1hAxHwWI/U0UkBNXybE1MNBQH7vp/eWCFNAvWuywwHBTkBTXw54XxlTQFX1wDftpERAs3hvWUzsQkDOsbHAhFRGQIrzoAL9oixAcn1qPozZPEBiLjfHf5dIQMhj8F2Luf0/losNBD0oJUAHIAF+k1g8QAtRw8wSFFVAyx78cQlcV0BXnb2cp09GQMianQhhr1NA3bs+WCKcR0DuKgAvoD0tQDT7yPRik01AkSOAqcSgTEDP798QLtRYQKgp0gDDIDxA6NynBZNtTkDEwF10KPEzQAkarC/blUVAe4gprOy6SUCDtmakCfwwQBIQhqi5hlJA+RkiaO2IKEBA+L+tqw5GQPaaYztgxlBAd6vElBXcNUBUuLEoCWc+QM7/BE3wflFAI6sieOFaHkDwEtxm2p0hQHs0thod201A6wveItt5HEAWtvj0sFJWQIAVrp+zr01AoHf8o3EYV0DG8n8w8QZKQPsIxoCSglRAMUGt0z/2UUAF8JAl3Oc7QCb2j+RFYgxA/vB9mvyFRUBsaijziRMYQGnzB/cXXFZAUAZBY0OdPUDq8PMDWmdRQNWW0oKxKlJART4x7taGQ0A/fC+DkQZRQJ3rYyG3sEFAXUpGiiUUVEDGfW8Drzc5QPOFxOhk0kJAZzMGr7LSTkA12XogjtVUQEWea27dVT9A2A936o/pU0DiJm3NTqFAQNPN8kAnV0pALX6tLY2vV0CWTtzQRxBGQC8bzPCKmRpAAE6aEGO9kz8VkBO1hAVCQIPE/PgeijhAm5LIOdErTkBbOxr8CElGQAWlg+JnpFhAavZm8HYPQkAcBIqK0f0xQA0BqT2eNVhAbjwtGyipOUA89HYIoRlTQIxVK23Xq1JAT/xjYjr1MkCFCYKuA1JUQKy0ViFBllNAm0iophXeTUBF8JOlaSxLQGeQuCdfrUNATmWEpwMuV0BguD/6TYNMQPaNoSeL5lRAxcXiXDooU0DAOpmcPkFDQCKE6fFt8DdAaWtrRNTTKkAI9FbqcZg2QAn4gbfDMRtAUEv37xcAEEDGrfrAy6pTQMEm8v/0lUJAC+V9am5ZNEAzX+WtBexGQGtcTyDKc1dAoSvbCn34VEDWI4BizC8qQIaTkMLBslRArt48zWyTUkAYncFYHm9DQOx+Gv+eNEhA5NSctf+qQEDaPH8stdVRQFJIIBJdEDxADawP6moMVEDKXGRQQ95AQLOP+mEvjztAx7c9O3WtU0A3FmSVbfJKQFEL2fVeeUpABXdTzyP0PkDPGPyCfo9BQBF8NMGCv1RAVqkW49rwQUB0Qj7zmU4RQMFcDgd4pk5AbTLjghL2VEC9V70w0K0kQHMSA8MUG1RAyhHn8MLISUAm7XSjkZFWQI0e1toPwVZAAtYAi0M6U0BahcX1yqlBQNUZ2dAU3E5A/7wQeA08TkDO4LP3wT1WQC7cLeqtuQFANGGt/YcpSEB6v+X4zrVPQKc/eY3uxFVAs4z21D2BNkB4ZjZ2OMBFQN2lyPfvV0pAI2bZZz3/RUCvxZ2aLwNTQAfG7To2xk1ArLaLPuvoRkB7h+5wj91CQJl5eyCj41JAnfKEmwXFUED537Hx9sBAQDCfPqhA5VNAT++rJVEvQEA8LLIoP5UoQEjW2Gkb90VAXK82KwTjUUDEo6cysyUtQICOzp0X2E5A+upVg5RrVUDV9AwpMHhBQBpUvKqTvU9AQkOAbqBXNEC9JVZa+QJRQNQSswgNczRAn/aEYtduWECg8kWqic86QNoeNxjlVVNA/zYsXcLaNUDavZYebdJQQN1baKzHgjtASV0MM5icV0C2Dh5VJG9NQAxk7YWP0DNA9mwejEYLPkARboG3gFQ3QMw9znm9EC5AomJqpeHfMkAaID0Y4ClUQMfGQWBQpUhAYqfkXXojVEA30wScqPdOQOeEnAUXYEFAllV103cLREAIsWLCFV1XQE+UdrrktFhA9WcU1WXjP0A9DC4s/nBYQIaqL4bYVEZARMZkrgJ7TEAFE5xCDepAQLWyL5n5V1VAa565SkmbVEAglUfhSvdWQEh4IamBrTpAAbTZcd0cV0AseciRB7hWQDkDd7vbrlJATe6e8xyGVECPlWyHTeJYQL1GuWHCCVdAQOR3d/plTUAGR8MOnIIcQPkjDxuQCEBAy2iMJqW0UEDmWLdyKuZTQBQNRGdb71NATJbYyYFcUEDhAWMMCL5AQJf1fQaHfjlASr5cbL8QOkBXDgwG175YQD+TdGn/YFRAW8baQJwEGEDaQ9C26txVQO5I9L3toUZAxhDplxrHBkCKpIzGlvNTQA59wVY3GCBA3/kWqJq+UECt4a0V6QlOQJ2Gk1vqkVZAAjb5/Vq0MkCduAepbHRUQN/sfJLY4ThAjq+KNWv5TEDGmU+ssJRGQOIPhYrmc1JAngWjNfqjQkCLKzYJb4RXQB8pNuCn2UBAcvCgFjuJQUBcjHVqD/k8QKyw/NfrUShApL/Gy9tZWEBZddDkOH1UQIxtgeKNPUdA2EqP7HWxFkAM3eAZ+/QCQOBrsHGhjRxADXYM0lYYVkASzfHIXrgcQEb96WP4E0BAXaCH5UQySUA78K8I2PQrQN5J5GF+tlJA5tb5np7tP0ALDndLStlKQHQS3e7F3ExAHar+AhmUP0BRdQJ0NXVFQEd7ZgE/dhtA79K+8nLySUChiWYd77k9QMLnMwA5lENA0+CrKoc8T0AslMy+QuRSQDnQrRrRrFVAUtghiI1hOkA43GAkuZlLQNJ/oxYemg1Afi7ppCd/QUA9CECCripEQB55sRAm4DlAeo9okSNCHkBBSCpNnQcyQDUe8z6u+0dAWqLR6vuZU0AS55Ww4rZBQNGa3SdcjkBAG+FQmlCPO0BnYg8UKvxXQPAlhw2HCilAy/0pmJ1TR0BcyzzeP3MhQJTzcLTqQkJAW6dAVYScS0AscYxqqE4uQCdRPTSy0UlA6nkdtv3FVUAFnDfeAkBUQOcasShaRkFAVqMrlXTWWEDVw3TuLQk1QNcPfyI6kDRAmpLZFWwHUUDtwAQh4lg9QLXcpLmgXVJAIUNzEJxEQUB25FkZjv5WQMegCGerE0NAHdZGwTCkVEDiE/sMiwFWQJ3vt6KqNEZAp2LOOXg+V0BWmuw904RTQOOCRKWjLFZAztpOYjR9MEClzPY5jMkRQBgPSZxR5EBAQNCiylzxRkADmpWU67ZSQNVx/I8rMUNA/SAAD9IFUEBKhwjCjFv8P5zWY1GFokVAotsjB6c0MUC/2EeW2R0wQH6bkFyflBVAb2Miv/2tUkACIjN+Pf9YQJYRGtbsG/4/lRYM9BHySkB2qHDBUqtUQIRM2mhUJEtAHnmu/WUBWEBSTuyZj3M5QF9XT0ZPDVdAgizH+gjzOEBX7n+t9jhVQMZZaWyIq0NAWzVnaI+7TEBB3hH/LFNKQJWBqmg9STJAxSUxMNWDU0CY3d9RcGA3QC5zBwBxO1BAfK0ZhxZjQ0AhKMQGKtRUQBjWyHdSQSVA26VEDqS8QEAVhq1rv59QQIJXlNwdNVdAhyDBH2TLTECaXtHpemhTQDEGG9h5VktACaXHUvEpNkCg+JId+FhXQHyk8MndLlJA2imI8lN3OUDm/LUpJYdGQMkWnLnCIEVAdzMpinJiHUDeC3Sm25VUQObQKeSkkFNAetpseX+ORUAVLj04nck4QFgRRSUkjE1AULu0UD9QRkBmIbgLetJVQMhBNOUYC0RAiu5+up8gFUBA1uYzQzxCQK/DB6+R+FJA4J4/DhSsVUCZ4NrAQhlRQDBGBA5QEFZAEN/lmkylUkBuRO9C9RAzQG0s2KlnDEJAZKYcaCjbUEAt+GMhrK5WQLa/lf7HCE5AEjrOn8LqVEDM32NFw5VOQJuo9hcYHVRAHiRbioj6TkCdbbKyHp0wQDGubLjCx1dA+J2qKnqUMUB/Qb5wo/hYQKfeIRoWUkNAHvkHlZfPLEDjofL8w1lBQFYlt2D0VkRAtOKomEdQTUDnW8jo8kNDQLEMn5gQ2jZAZMvdGDZiU0B9XC5jNWZXQLJrdWcwZVdA3ivFEJ4GT0B+FdFTI+NAQLrA+QuTx1dAIE1Ld6b/V0BtisL95apSQHzxuj0LuU5AegTCkLZ2J0A2msLe0XFWQP/V2EVXuixAFlfpnSSVVkAod6muV302QLhtj0gXuj1AAtBJL9+JV0D8kCwNWG1YQEhSHxfYvT5ATByxniTtVEDyUOZgXyFPQDTZu08xtVZAXnQJc/60JkCy1Ld+8dA+QDMMhXeYxU1Am6U0c7bQU0A4NzwFAk42QIo81OYRTk9AOI+esYk44j81lkLkcOZVQA0qGIKKj0NA4tpsyIxE9D8LzrY5KKZTQMoA5eoe9kVAmiEjJcOQFEBc+ICoaqFKQCQODbIbBExAHFPVf5g/KEAutz8KpOIzQJyC6anb4lFA3N4WrBVDVkDBHoqzQJ04QNW10ekAczlAJ52hTecEREBRv93qApFXQLD8qlc/1VNASi+UEc/lK0Bend+rcAMzQESIwBSnHURAAYluGoJ8Q0DPq2lhghZIQMTEkWP/0D5AmrV9j0RpIkCNl1UN3tpXQMV+9ypTJlJA8uWDYabARkDcOZCPJIBYQDJdY4pdFT1AxzhP7M+sBUDz5kIDmStEQNBO7F76HTVAGn6w+VB7MkAW4g6AyGtUQBPFhWXdCEhASNWb5JVxQUCoGIQ7kPETQBbx/B92rSlAIxfkD6YFN0DmZDB0zihMQMqb2Fz8M0dATsTvqQKLNkAurKumSmlEQE3JI26ZCVRARDSNkcu5JkCmVw1+uGlWQALXpvpH+C5AmGgPAPL9UUDYxQxsK+otQKTdYmdhK1BA5M5s9M+FVkCeSkg0G4xSQNaFE4Ge0lFAGdZhMsUuTkB9k8ZONrU+QOR0TjpSS1dAYpQXG+i1VEB/DOci9+AtQIsp8emshDJAThQ07RzjTECVb5PLQIFCQH2B9y5q6FdAUGQSdoM7T0B/KANcy3ZNQGS73KHfbU1AJnQ/LzRTAECAxrJs559OQPLJj1CQAlNAZGzJGEk0WED+o4Wwy2Y7QOcachcEk05AM4rptVVhPUCpJRd+iURRQEr73695ryNAacU/KJGcU0AZ2Ol0FOJKQLUPeu3B3EJAzE9s0frQNkAKmFICwmxNQABDwKaJGlZAL8ye5TzmUkBMChz8cfJKQAeS5/U6VFRAkxevaziPSkA7B+2psthRQP7mbv/rq1dAtRFVKDlXWEAEDOwo/UdEQBj6cG1aGlNA/PStOwdlVUDmyZFu9s5SQPpta1yRylFAP6deqDHVUkCOOA23NBZLQP4Vs+7aTFVAOTbWVlLtLUArxD8fxzEjQJep3FUNXVZAUrwTWwCVUUA+Y2lNsGckQIJilxRNhFhAHFwfEpGNMUDjVi3iCrNVQKoG+J67JkZAM27YdpahV0AumsFSr+lKQILp6mj9z0NAZGK5e4+ZOUDpihb/6ZlLQNoEnvpB9jtAQE9uSbhSVUCF8pitZ1ZAQFdvADRU/1VABi4+UTKIVkClPziYDQMyQL6+PVWFkFdAK8jApL5+MkAH1T+wbPdBQFV+AB0wJFBAiASUMG4N8D+GpQxa94BVQMIw0SwAnT9A6L4RdtApR0CVa2NmR5glQP5R04NGgVJAkA5FmEzjwj8R/ja6GXxQQKKcXNF/hzlAvWDtr9P7TkApOW7DLHxIQHx2nE138FhAhFCPB3QoIUApeMLUKHlOQIe0Xs51IjJAJgtpGTlnSUAeXqmdM1hYQLfvKArs9FZAnTqen9aGOEDSqUokfItTQDH2p69JAVVAGQP65LeGVUDycUzS5pFRQJwLHMKI6DhATfIBVUGURkAkGE043zBLQPyrvqe7EjFAoSW7e6DAU0DxdA1XLCtKQEoT9xxo00FAo3B9aJUzVEDWaPaeeANSQAjXar7771FAEzyQa0jCQ0AetO+bzZj9PytYYG7eA1NAbfB68/gsGEAUGoHq8gMkQL/Hk9W38jJABD25Vq/pM0AsVdmSzN9WQJKTImrZV1hAEn0Ud/h+MEA46mKpKDhLQKNkVzFw5EdAVjxi/zlUV0Aboo09bV1RQKwy6avB6RxAbqVYiJwtUkDUlpi4y/XjP6R4JPvL6uY/cy/PhaRxUUDXGbHv92ArQPRSNfid9VVAuxmXmfXYWED+NJpKSepYQJHaiRXt8EBACvlsOe9/U0A1kkeWTvxVQO9pYlUWGVFA4H0fcNH2IUDiSzVEQCRGQKyU/Wb8JuQ/ytemddsiU0B1m9QOmvFSQI+J4Exm4lZA2YYDO8BaV0CSb+eN8tIxQEY1TnI8ZUNAGk9vTCwbQEDO04vPqW9AQC2LqcCoVkxAYOl2N0jfLUCb11z/7Vo+QPxDZ+UqT1FAECZFg84NGUD341sqD5tQQBub91gb2VNAtnzNlgTQM0DVD8zGrn9SQMXxY9uaqVdAxckLUzXyTUA8CbBFGnVTQOn1GGvd405AhPYjR2nrO0C9XFeQC6gtQEYyfrR9zlBA3DJATg9qNkCCBJEDiWBUQNh2t8f7jyBA5TxdlUmNMkDx/8z4oENEQCfAqHEAj1VATO7mtFaFN0AFBbj+XKtVQLq+Z55n4zZAVat2egRLMEAkOWu0FD9YQEX4hkvlsUdApHx6PSbGRUAat5vPW2BCQOkpiYUdWQdA9IDvaXU2TUCV6r17i5ZPQPRYpR5eKklAjY5bR9KVMkDhwN+gfmNEQEbFwVVgR0pAOXKAzFl5OUAkgRDTWrtYQAJRgH1PUEFA+EHpbsRAVkA0PSz87wBWQBmQi4uYsU5ARm0xECD6VUAklnmslZ1SQG7sYehkNEdAH4rNmVYOUUCN8MC56x5GQJPnOdiapFRAagDueLitWEBL26Pz74hQQKXlUJXlKjBA9pVhL6leP0Cny1zhPyBEQFJPVhlpagtAUBi93w85UUAgs7u5jf80QDI0zXVkS0lAJiIu6SW1NkBpKaOzaD1RQInH0R5JvVNAb+3uq0VAKUDelET1Ow1FQK6vSkllckZAAippPW5XTUAV6W8fvt1SQJcz1/ONW0BAy1jGuKDQUUCj02JQeU5CQMpyfdqHtUZA/NLg24xiV0BwUjBVhkVXQGQ5Y7eh+1ZAysOPtmb0VEADH4BqL3kNQCy2xEKPsDZAYDr34ZtbREB6ckQV7G86QH2N6VLnnDhAPsXcaooyS0DcvSd4ebNWQP9ufIwxej1Aj/rDr7axUkBX6gdwPxQ4QJoxDoQitU9AQAo/5TmwS0CYVp/tjfpWQL4FXTu2sFZASu2hqfe2OEBAkWzaMSA2QPdE33jiM1RAwzQyWFppU0DzMSrccilWQIe4B8GTbkFAAkAks8rkVkBj91Tk7SlTQMCCQp5kUUFA+JsfjWFiUkD6/XZqyy9TQD0oYWWY2kVAjotV30JBUUCbs3cBlzAxQMofwcNUx1dAsZGewgsROEC0yEEyaatLQHqFwz+IqztAOTlxhPzURUBgSxHJDFQRQDx6oRPZplJAw+5s3wzRVUCYn+TlwLdSQO2KAk9YHlhAyfpd8cKBSkBd/mpzTjY3QE+E4ZVUSTFACfHwKmNDQ0AycQY8uE85QEFA6SRAfDhAE3RqiIw+TkCMHK5edmhVQPTcyK0mITBAEeu/SzZsPUB17zhqH8tKQEQEtr1ACE5Ae3J6VfKSV0DHo9W/ReIyQJ04KP07dw9ANgYCEMjfIEB07kyv7qsFQOlohQEPczxA9wT61xavVEAotqrWupwdQFsTsSbSEitALa8eJoSmWEDtiwnnHkhFQI/1kOqZt1JAQ9eWnxudOUBDsmTtyhVRQCC+tpP24ldAXKfF0QIzVkD0bFCFrXAsQAqA9oQQJCRAUFGKa25lUkDufaa1oItWQPST4IWMpxlA6/W4CoVERECkXXKK8cpRQMTQovRSIlZAy8E1OLcmR0CmP6uEsLseQO6gAA1MvxZADdZ/yw0tTUCcLpfcfstXQAtgGQ6xsEZAitXnPHn4U0DTDk0NKEhSQJ8VhCUggVNAWjJ1TK++Q0AK/CfOED0oQMi2UaZgK01AOOLXOlsGQkBpNEv2YPkWQAarhzIl3D9AifzhL73hQ0Cxp0FCvM9KQG9OgvlaH0NAEatrCEi6U0AlVOL0UWpTQHFrXAr9ClRAyXYsKCzoD0DXFzvtNI43QFRd1tGfkhtAZ0wvFhtQOkCLSH1P+h86QOQiLIoxdERA9co0gkloUUC904cR1YNEQC3Tvm9TfEtAk9u0nfUjRUAyXCse7RtVQOUvFTNu51hAli2Nkql3V0BMNEtCuEdRQNm+49gfXVZANGtTWsTtQ0AS3fCnnzZTQGt8Lp91FktAtRE8ZzfvMEDOFIE1O/09QBK+7JM+VD9AHkRUtxYnEECG2QW8nj1XQMYjoeGsfEJAUJkXASxXQ0B8UmAiXPJHQIfQthbFmk5A6yVx64d0UEDdLhOix9BAQO3PFTpDflNAPh5luZEBSUCQXHAkEmNGQCu1uP6XpTpAdU5D8ZJrLUAUW4B7vsgsQE0iFZa+TkxA3eTNHr/MT0CHhm6dXpkLQA3ffsWsbkJA5K1xlv2zQEDnuged0u9AQBRam1o96UpAoEMIuvLUV0AoEFdfp63WP7Hb1fgfAE5AAmFCmeZtWECri7xTyPZFQGhcowHYAkFAgh1seQeyUUCAuTjIDUNKQCLdPkATZFNAiFqy6NSATEBUxwpSSAhTQPuQLIvj10xAjRzHW57KUEDmO5lYWqM6QNuI6ZZm5FZAZ1p1BncSV0BMznvFCJgoQDY1SUeqRVdApbbmyUICUEBK1gHI3a5YQONpfCZVsjFAruMgt9fNUUCiV0hIBGwxQL4WnUjPACFAKM/Ui7lhLUB6jay39t4wQJG9vrZV+EpAMHliSmH7Q0Ci6Oef7Zw4QLS98+u6OTBARy6Ry0cPS0Dj+mb8ly1LQJT1uu/m3S1APWvyig4lPUB0Etj++qIuQC4hrgn92URAjEw2P2QyIkDaraNFyIJOQNnfJ6+xoENA31aw3wtWO0DJ6FLeDGVUQD1B6AhDvklAitoZjuH3SEBmfy6pEU1UQAB8nwTKhCdAjKxvtUSvQUA4qaRCSiNDQJLt7YEuOEFA4E5gcPU6JED9JVsPGHJTQIegcRAmlhJAoK0w6bSRMEASO/RKb44wQPGFK/9sBz9AQ4I24o+NTEA2ZUTyE0FSQB9L5Ut/6jFAuJUJap53VECQLhznbsZXQIsaKOyzYU1AoUc0G9LHVUAyg6eJeIb6PwkvkUGHvk5AWLvXggUuRkCf3VRNvxpKQKhAAmM9DVRAmBPo4nJ+QEAM5LTtxaZWQJy9TZiQmVBAUxxPABt3Q0Cnck0nbkMVQMPfeH9AN0FAvFbQvbm8Q0CdXC1Du+IhQCbbwbBlgEZAELkhWItlP0AoDU398uwqQMheNsOm9k1ALRLLlUWxVkCWUARcMmZTQEJmKov6AVFAYmIXQYCDMUAqUSzv/UNWQGO0UkU7iUtAycUQcIYTRkDNI1k8vANSQP15yvL49FNA6o2v5zGXFkAAClGVjh9IQN3XFD3Y1lRA0CTfiUDo3j+2UCPF5QdXQCsjGif/1zNAUP1VW2yOJ0BuZAr3waARQPxlm8bhvlVAcw1fjYGgU0AU00DfbsMrQF5dxZzXsktA8fiNmFAGR0BOur+lCZZQQEyLRonhs0BAUhGFU1s4VEDTcrg52SZRQJxgyOlAhlhA6dMI7OJVRUC8T2ueekxGQJx2a2U+0zBAJGbVAKlrQkB2BGa9PExGQGBneCJkpkpAcNygyGPdTUAXszk2JNwyQIZWcE+vjw9ABt65wrydPECoGtpxwOAxQEh5STVqJlBA24vbX82VM0CjQKE5uiNLQGgdMY2SPkVA4QfnkfI2WEAOCMV1JcspQA+MPaRDkxBAWEWhChYiUkCI+CuZZ+RBQOBrHzudk/4/2CcF8v6OR0Cb8YsigjFUQID8XKSgYUlAyiGVj2ENH0Bnj1Nz1M5LQEFPYu5LiD9AbukzgrIyKUCAhjrs8zpTQPGvOVLCn1RAigSbgEZaCUBniIJtXyVPQEszS8PSfFNAqbyEUq56U0AdP4UC9RJAQJG6Fdi5i1hAwTwgL3NWVEDk8u71smAvQDb6y0J6olJApIikH4wzVEA/0eA8mR1LQETrpNcqclhAfOX2rmqaNUDBA8ZMfptQQPAIff97WFFAx/TNAUabQ0BdO9sHN/NXQGtA2aUIvh1AWiPTEj82P0CLqJn2DehAQBWllbWB7DlAp4KlyRBTQ0DH5YPaXOtEQLZzEuUjST9AO2llUzRhEkDRx129CZkjQBemx7IZYjtAW6dEbXhkSkCPCypTDxxTQOWxIK/TZFBAl4m10/ypUkC2pIWHOMs4QCaFC4d9PD9A/xZ0+km5UkATQN0LKhlPQASt1p5YG1dAmlJF9QuKGkCZGh3daDQpQKgpoS7NkTdAvQAfbwwhU0CjNn15iypUQPVzCELxCy1ABcgi46XQQEAD5VSNdW9UQBg6JwTFFkBAZ94YWE2JWEAmc0oUUs0tQP0eCLNaTlRAyMB201ieRkDJ3pjjGopUQEheg6ei2k9A7x9yK5F/LkB2uWvux4Q1QIdn4oyzlERAMpQcJMmvFECBSUrgiuA4QAzuFPuXiFRAemKBdcIqREDREruBK6hSQI6iZYWE9EJAJOBDadZzSkBYC5M0/s1KQFB6IVEhrDFAWqFhCmhHUECAqBJ1eOVJQNQ9smqpv0NA/EISqqf9U0A+oiXGTZZAQEZPw09u6yJAwGIX8npSSkA9IcLYTBVKQBFb/6QuEShAYTZAifDKWEBLvFLS0As7QGnBRm4t8ydAUJdXB+MdP0AoPrGiO6xIQGbb6vwrwSZAuixrCjSKWECouPQIFj0aQEHbxWR6e0dAe0aM3OBtRkB+sJoQb1RDQPiX447rt1BAcdmBs7O8MkDSgRwjC45QQNq0IVgTj0VA3KYgfioqSUBOd6pBp04mQAttyD54QExAuO7OXQOfO0AO+tn3Z3tVQB/2tTkKLU1AFsca5v+bFEB560MYmt5LQJpTeOgjtUdAWhD/y/TWM0B4mEVZA+8wQBwdpbkfaVdAQReP+jSCTkDUqDPASOhIQNp4XmE3oFRAbiawvKxZUkC3T68+Ne1QQDrlNDjiyjJA8VyEsBeLP0AG62EKYTNVQJv3G0qdAxZAccCFLOx8JkAiUbXnAL/xP7SXt5cNvTZAFBAlygaxT0D1PxwHPrJIQCKLKgmO/kdAZCxXMTKPU0AiYtSNnhBUQLaC1kpW2iNAWMetzEtJOUDVTlP5kTdBQFQ+xe8i80xAiOIfZ8I4VUBJBTo6UmlTQHn+77RI9jhAn7JFFLEgWEDeiWuPTnU+QIanNFzOdztANGwrnpe9S0A4iojNHxQ6QPYXseE0/UZA6sFcLiaPU0A3L19OBlIbQKK112ejoT5AIdQsL1mmTUCwfVG/3z8KQKZEGR1PCFhA0AJFow1uSEAiLb8O02lNQG6k/ubwczNAAp3lTEX7RUBZ37sD08xNQM4luHmBOVhAXnSj16giQEAYSFTGc9VTQEb0UHeYF0RAlv89Alj6OECPDgbSEfJYQMIYHJGy8UJAjGH8XU2qS0BCUywRkZlYQKk3bUYcRUJATE1+poMwO0BeO9f9M5FRQMUyflyCKUFANhYmmE2EQUBhv5Y2IOQcQBkOHar4iCJAmkSTYRaI8D9raI/ZMn1XQLBgnnF7MDtASTKdjU5+LkApg7L4HfNKQNidcsISwUZAGBGEddFFVUDo8UD9QZJWQKXrV8xP2UlAClpLpOweS0Ay2mZMVOMHQMyxmPJQm/4/lljHdc0WQ0AaKyDXv0QzQADZ/fKC8VdAPQqszhu9UEDQxLNp0y5TQBddQW91ZVNA7GsM1EgGUUARkPX9DLZSQEM0FRBCGUtAaZrDAwCZVkB8kb3SBlQ1QGjVunHvFjRAcLrThh9QJUDJcKLnWq85QGCasxu7UTtAsgCynKwGTkCIKOpGYpI2QOdi2wUd2UBAV54ec7i4SUCc9JbqsUspQJ/cY9jt2y5AG19cQRVNTUCnwAsYY+hKQNgoJFw79FFAG1bb8G31MkD08Q2FaaJRQAf/kS1oykNAAhRBeKjUUkDPvrVOxv5PQHv+3GIIDzVAPiYvG1tLCUAorJuWiq5HQKEnUS3HW1hA+TrI2v3lSUCj2eNSyJ5LQMzUYF7v6ldA1WlOpOJrUUCzglFjDXVTQBA7eQ9TTDpA37PKVtbNRUBvLqc9EYVYQKef4VJkAiBAGIIl9mB3V0C1+VXRKRk4QBdsSPgIIkRAmGTZBGHY+D+ODRCLWYBEQCHI6hLr9E1Aen6fmh7vVUASDl5CLf1TQFuwxGW2hEFAFr/+fwBzQEBqTLdyIZwjQL/rBsXxAU9A8o7LziJIN0DG97OEYqhGQFThO627zkdATZkpVnHfTkDWj4mUo0ghQHCyr3D3hkhAgwdOpWyaBkCst+HO6htUQC7790GW/lZAJTc8MOLpRECCmixX9shRQD6Ny0wlA1FAXKdLViWRSkBFIKuHAMpYQILAiuRRuUhAXSNtkFtnSUDLJDwVd1wnQJZitSkH7FRAIfiX84AGM0ASxePLq35UQFIrbMVPIiBAIHO/wOMrNUAw09ZdCvFRQJ4zL3GX0DdAXLbPO2VGNkDR6Ohp/ItBQAv9ymasD01AaWutfvv5SkB4Ejn9LelGQAyxyynTPiZAzFbF2tcQKUDALskbJAU6QGnZiE5EfiVAQSnuHcuaREBUmSx/2BY7QIhn+A/gBzVAxE6ZtQssFEC3yj7tHepTQJu3uOvAwVhAHVVT9SNEKUA9ZyeKsvowQAkkHm34+UlAl8U21RYaU0ApY1bI88JEQIggLizXnxVAFLUEeOulVkBJR5Uyv4JIQEjusZrgRiBAMJqpzoIfS0BTT/4lYrlDQJWyE2JxcVdA/WsKQEOdBkCZpJ7+14pRQCDA6F1xoNw/RS7jqYGYDEA8L9UmnNVNQHUJ/l0dAlFAeH78kh5MQECXehdyS+5BQDjELdAwLkJAEXTWtFJyWEAUMOqnlNFXQPNXS/Pz2SFAsGR3keEfE0Dtw5n0eog/QJ4lfCukb1FA03VEOmzgSEDSxeWnGN9HQM1QuWoIxlRAu70L7qtbO0C9ds8e8gBUQM6uPFL8X0NAs1NdrVfGQEAWvRQeBLxXQI6dreQ9V1FAsblmA/DBVUCntfx1eZAMQMbDdnV+rVVAuId3JCcuWECQCAwslMRXQBG8rIoFM1VASNYtLBhIUEASpOXYsURSQBNZPwOsLR1AvpCczw9cV0AqzrR2fDo/QGd7Ox1S8kVAJjRlaRyKSkC9rGETRWtOQHBWAYUJaEZAfJyjwI0SUUDCrMorJwYyQMbxRmaFX1JAfl0fmpkmR0A1lr51gHBLQD2hcpTQE09A0UKeMPUNRUAhy4+qdc9RQDlR++PrxklAUCBxd/FSxz90wpUoJUM4QN7TEqOnxEpANiNG9WhC8D8MAfWwhJYdQPZ5eUso/0xAJDOfwvFoQEAl96wtYY8/QA09ievzgUJAfxkjeXjxTEADwNmNAuVCQBk8ZwsSz1hAXnmZMwPLS0BYZMBr+k1WQIyuqbZJ0kdAI3mMAhOUS0CMuTp6S1tPQN3DIP0UNTFAcM3YFFS8UUCAGDqksEhJQCqy8AHsuCpAJ8gl6jyFVUD1G6gdBzxXQKEc/s3b0VBAS1m1K/HVUEAgAsuul0wuQBky1s0LezBA3nZ+qE9oPUBkoHAxf0lFQKP9otjCalRAgGVLnb7lSEAk9Yl/azZRQGEksR7Ws0tAlRyFWa1GPUCYQw1ovrpOQNcjtz6KblhAeKZUx8+RSUAaan+3Z05XQIsT2lcTi1RAyHZPqQfyU0CX2wn1d7BVQJXWAFtWsgFAVXtFWiGKVkCL2Vd6U3s7QGelwYYFykhAcd1PDoAPTEC8QXtnWyIlQFuGGCdkqztANqd1A9ASRUCiBTGiycJKQOTrrEeE3EVAR1d7dTGkSUBzZ4NVBGZOQLkZ6EgZMTpAThC3qpJhPEBetxNvcDIAQLn9kyG/m1hAyCMCiU3iIEDzc8zB3dNHQI547YvW4SdAQPCzDt3JU0CFNJKYgGlNQHPIUGTS4kBA/gsmUZnlLUCrLbiC0nkuQHd2HDnfvlBAi61cQQzWSEDxThRPYX8rQGgu3JoaQAVAtv4Us9JXTEDikzVf3ppRQLSAlNNWFUhAilN/lzL7+T8fKkHOPlU4QBiLolk/ATpANl7kPIGnV0CoUhuEVT5QQCiEV+OuGFRAFEis+O8+JkAa3RfnoHJWQMIyNyp95RtADCn4Qo3KQkDmXEFboWNWQGwbBOTdvUJARU3hgC3CUkCCKZKYfFJVQHN8xNPTl0hASOPo08tYG0Dtlae/xmJPQENTbUq8blBADhp3LOw0O0CiN39G+ydRQCjs2NZIHklAbbDC1wBVFUBYjRdbrfdTQGr2kT0t4UxA7D0oyOyuUEDVQDx0D9whQBroUwFKcExAXLI39KqRUUBaIIuJs1BQQBZc/3hcLVRA/aV3iooHTUAztsQGXZEmQLCGfYhWW05A0SEnwInaQUB1kMBEdocaQPiK6FWycDxAd6Go8x6JOkC5pBIK0fhQQE7/fAW5zk5AgcLsYH5eUkBOPHJdAmdYQPdFQ10mwVFANcxEtniAR0AZdIfBucZGQADzpR2ZKk5AkMEYLYaeT0BoC+geajREQDHcwj77yElABw3ilbLRV0BRvprKNwlCQMVSSuw5aU1AE9aMnHXhQUDhcUlWqSZDQDNth1TMCkNAYgtfxvhQTEAqLSO1pS1RQAGHBwGF1TxABCtvI3f/WEAc/qOj2JYzQGD1QBDQDi5AgLgWjHCiUECGL4Or4/xRQNHXbhaUHylAfDG+e7YiSkDsdZfqsTo1QF+jLgdROzxAPkDXjseaSkCDFODbBxM8QAo/m+a48FBA3bdkOWJ1UUCEvuZl2880QJCEjKR+UVZAg/GzeH2nM0D+48EuhXJWQDUwdoM7rTtA+vCAW/zYVUCxU6KGgVgyQBbzuXkGBURAXrC7/lp1Q0DkzdSAwxdDQAjpo8IKbE1AMybHu3k0QkBL2vXWwVVRQH//S2d4J1VADPkTlitFJ0AfawC2SIZJQBULUBWOrlRAqHgUZH/zGEDbM+u4FGVUQCuXUzx3+R5AmyTKfgFVNkAi7cI+Q40EQPwx+w4IJfM/ZR29RzaBUECKoQ+JJAofQMAp9blqMLI/LNsz7tt6MEBZ1ZTRI3RYQEfEUUVvvitAHHgOfnkfRkC3xQDCD6FDQGuyCSJZOTlA/cNCPi5IUkBaDdVUTXQpQN/3yZaz4EpA9erqu3ibUkDS6RT2bAoxQAyW0OA4G1NAxHjNLbaIQEC+bBV+5ERQQPv2XkO5XSRA/RsBvnafUUC2cG+dX2tSQCGNtFOgK05A/VILjrafUkB+Kv7C0S1AQG0cB4z1k1dAeEyfCkC4O0D0AEnAZ4j2P+0RLlE80iRAwnsW6jkEKUAiHkbkQdbzP2zRd0CHGxpA\",\"dtype\":\"float64\",\"shape\":[1500]},\"y\":{\"__ndarray__\":\"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\",\"dtype\":\"float64\",\"shape\":[1500]}},\"selected\":{\"id\":\"59ba0c59-addd-459c-8848-ed3840c69950\",\"type\":\"Selection\"},\"selection_policy\":{\"id\":\"f7526c6a-ae24-47b8-9aba-8ea6ba0cbfb9\",\"type\":\"UnionRenderers\"}},\"id\":\"6f2b8837-adb6-4e37-b764-b42c9f35b590\",\"type\":\"ColumnDataSource\"},{\"attributes\":{},\"id\":\"bdcde1b6-d85f-45da-a4d8-abf64f145713\",\"type\":\"LinearScale\"},{\"attributes\":{\"data_source\":{\"id\":\"6f2b8837-adb6-4e37-b764-b42c9f35b590\",\"type\":\"ColumnDataSource\"},\"glyph\":{\"id\":\"7c87b0ce-685e-4759-9cb2-6dce9d2899c7\",\"type\":\"Circle\"},\"hover_glyph\":null,\"muted_glyph\":null,\"nonselection_glyph\":{\"id\":\"b2ec2d04-2ed9-4050-9a24-271fe7b6e022\",\"type\":\"Circle\"},\"selection_glyph\":null,\"view\":{\"id\":\"0c11d6cf-71dc-4887-8e29-690c2f514c8c\",\"type\":\"CDSView\"}},\"id\":\"46f667d4-04e7-460d-b29b-d429f1463ea5\",\"type\":\"GlyphRenderer\"},{\"attributes\":{},\"id\":\"f1d09669-d232-436e-8852-191dd8996a36\",\"type\":\"CrosshairTool\"}],\"root_ids\":[\"6c6b9534-046a-40f0-8b65-b1369164905a\"]},\"title\":\"Bokeh Application\",\"version\":\"0.13.0\"}};\n",
       "  var render_items = [{\"docid\":\"f3610d41-910e-4c1b-88d7-520df439bb8e\",\"roots\":{\"6c6b9534-046a-40f0-8b65-b1369164905a\":\"d6d8e41f-61d2-434a-99b3-2d9531fd4bb7\"}}];\n",
       "  root.Bokeh.embed.embed_items_notebook(docs_json, render_items);\n",
       "\n",
       "  }\n",
       "  if (root.Bokeh !== undefined) {\n",
       "    embed_document(root);\n",
       "  } else {\n",
       "    var attempts = 0;\n",
       "    var timer = setInterval(function(root) {\n",
       "      if (root.Bokeh !== undefined) {\n",
       "        embed_document(root);\n",
       "        clearInterval(timer);\n",
       "      }\n",
       "      attempts++;\n",
       "      if (attempts > 100) {\n",
       "        console.log(\"Bokeh: ERROR: Unable to run BokehJS code because BokehJS library is missing\")\n",
       "        clearInterval(timer);\n",
       "      }\n",
       "    }, 10, root)\n",
       "  }\n",
       "})(window);"
      ],
      "application/vnd.bokehjs_exec.v0+json": ""
     },
     "metadata": {
      "application/vnd.bokehjs_exec.v0+json": {
       "id": "6c6b9534-046a-40f0-8b65-b1369164905a"
      }
     },
     "output_type": "display_data"
    }
   ],
   "source": [
    "import numpy as np\n",
    "\n",
    "from bokeh.plotting import figure, output_file, show\n",
    "\n",
    "# prepare some data\n",
    "N = 1500\n",
    "x = np.random.random(size=N) * 100\n",
    "y = np.random.random(size=N) * 100\n",
    "radii = np.random.random(size=N) * 3\n",
    "colors = [\n",
    "    \"#%02x%02x%02x\" % (int(r), int(g), 200) for r, g in zip(50+2*x, 30+2*y)\n",
    "]\n",
    "\n",
    "# output to static HTML file (with CDN resources)\n",
    "#output_file(\"color_scatter.html\", title=\"color_scatter.py example\", mode=\"cdn\")\n",
    "\n",
    "TOOLS = \"crosshair,pan,wheel_zoom,box_zoom,reset,box_select,lasso_select\"\n",
    "\n",
    "# create a new plot with the tools above, and explicit ranges\n",
    "p = figure(tools=TOOLS, x_range=(0, 100), y_range=(0, 100))\n",
    "\n",
    "# add a circle renderer with vectorized colors and sizes\n",
    "p.circle(x, y, radius=radii, fill_color=colors, fill_alpha=0.6, line_color=None)\n",
    "\n",
    "# show the results\n",
    "show(p)"
   ]
  },
  {
   "cell_type": "code",
   "execution_count": 36,
   "metadata": {},
   "outputs": [
    {
     "data": {
      "text/html": [
       "\n",
       "\n",
       "\n",
       "\n",
       "\n",
       "\n",
       "  <div class=\"bk-root\" id=\"9d7687f4-d672-488b-8e81-0941427293ce\"></div>\n"
      ]
     },
     "metadata": {},
     "output_type": "display_data"
    },
    {
     "data": {
      "application/javascript": [
       "(function(root) {\n",
       "  function embed_document(root) {\n",
       "    \n",
       "  var docs_json = {\"e96d03aa-2fff-4a22-aa1c-9feeddf84347\":{\"roots\":{\"references\":[{\"attributes\":{\"overlay\":{\"id\":\"26739465-47f8-4825-837a-7b65f95a8a09\",\"type\":\"BoxAnnotation\"}},\"id\":\"18f8d5f0-cd66-4ced-8291-b08bd2296a6c\",\"type\":\"BoxZoomTool\"},{\"attributes\":{\"active_drag\":\"auto\",\"active_inspect\":\"auto\",\"active_multi\":null,\"active_scroll\":\"auto\",\"active_tap\":\"auto\",\"tools\":[{\"id\":\"ae650221-4f5c-438d-9ee8-3a7729210073\",\"type\":\"PanTool\"},{\"id\":\"fb954d9c-f6f3-4900-89a0-e50f6c747440\",\"type\":\"WheelZoomTool\"},{\"id\":\"2367cfde-ee03-48c2-9db6-12c4e4a42444\",\"type\":\"BoxZoomTool\"},{\"id\":\"4326269d-8165-46b8-bb9d-1073c9625dd0\",\"type\":\"SaveTool\"},{\"id\":\"62442be1-5c30-4077-a224-97ee5359b218\",\"type\":\"ResetTool\"},{\"id\":\"7f7aa723-d8e6-4389-bcdc-99c4f27dfd7a\",\"type\":\"HelpTool\"}]},\"id\":\"f3002223-2099-4f08-922e-a9a6a6e396d4\",\"type\":\"Toolbar\"},{\"attributes\":{\"bottom_units\":\"screen\",\"fill_alpha\":{\"value\":0.5},\"fill_color\":{\"value\":\"lightgrey\"},\"left_units\":\"screen\",\"level\":\"overlay\",\"line_alpha\":{\"value\":1.0},\"line_color\":{\"value\":\"black\"},\"line_dash\":[4,4],\"line_width\":{\"value\":2},\"plot\":null,\"render_mode\":\"css\",\"right_units\":\"screen\",\"top_units\":\"screen\"},\"id\":\"9cded0de-0466-4254-8ec5-b9e65c0ea67f\",\"type\":\"BoxAnnotation\"},{\"attributes\":{},\"id\":\"71e310cb-0fdb-4741-a712-9f68ff0ebd0a\",\"type\":\"LinearScale\"},{\"attributes\":{},\"id\":\"4f96a83f-966b-4e7c-a157-e7503dbbb4fc\",\"type\":\"LinearScale\"},{\"attributes\":{\"active_drag\":\"auto\",\"active_inspect\":\"auto\",\"active_multi\":null,\"active_scroll\":\"auto\",\"active_tap\":\"auto\",\"tools\":[{\"id\":\"7b17d909-5425-4108-bb9a-a83d0b94b3dc\",\"type\":\"PanTool\"},{\"id\":\"1da3404f-8036-4b4c-9573-0f170d201115\",\"type\":\"WheelZoomTool\"},{\"id\":\"89be1af2-c1d0-4234-8980-59057dd8eada\",\"type\":\"BoxZoomTool\"},{\"id\":\"2282a15c-a0d4-4917-9a85-aa9ee466e07f\",\"type\":\"SaveTool\"},{\"id\":\"37458da0-5075-4e08-a5d1-b0d8919d03a7\",\"type\":\"ResetTool\"},{\"id\":\"e25f4d10-6969-4044-a266-b5fc6167232e\",\"type\":\"HelpTool\"}]},\"id\":\"7d8125c8-7fc0-4cbb-be7f-83ecb52a32dd\",\"type\":\"Toolbar\"},{\"attributes\":{\"bottom_units\":\"screen\",\"fill_alpha\":{\"value\":0.5},\"fill_color\":{\"value\":\"lightgrey\"},\"left_units\":\"screen\",\"level\":\"overlay\",\"line_alpha\":{\"value\":1.0},\"line_color\":{\"value\":\"black\"},\"line_dash\":[4,4],\"line_width\":{\"value\":2},\"plot\":null,\"render_mode\":\"css\",\"right_units\":\"screen\",\"top_units\":\"screen\"},\"id\":\"8f77887a-63d3-4c0c-9914-069891482a55\",\"type\":\"BoxAnnotation\"},{\"attributes\":{\"data_source\":{\"id\":\"12cd67a4-d59b-46c2-9afb-0662713ae210\",\"type\":\"ColumnDataSource\"},\"glyph\":{\"id\":\"9063c151-8f72-4a07-b662-f56bfde9f3aa\",\"type\":\"Square\"},\"hover_glyph\":null,\"muted_glyph\":null,\"nonselection_glyph\":{\"id\":\"6a58375e-a50f-4f71-9428-912def2545a0\",\"type\":\"Square\"},\"selection_glyph\":null,\"view\":{\"id\":\"2701ddc6-1662-43cd-9c08-ee8479eb99a9\",\"type\":\"CDSView\"}},\"id\":\"7150ba2e-f03b-4537-badf-af3bb65375bd\",\"type\":\"GlyphRenderer\"},{\"attributes\":{\"fill_alpha\":{\"value\":0.5},\"fill_color\":{\"value\":\"navy\"},\"line_alpha\":{\"value\":0.5},\"line_color\":{\"value\":\"navy\"},\"size\":{\"units\":\"screen\",\"value\":10},\"x\":{\"field\":\"x\"},\"y\":{\"field\":\"y\"}},\"id\":\"06051209-afb4-437e-868c-97ee46a7a22e\",\"type\":\"Circle\"},{\"attributes\":{\"dimension\":1,\"plot\":{\"id\":\"853678a1-7a20-437d-a14a-1c8e9226b2b0\",\"subtype\":\"Figure\",\"type\":\"Plot\"},\"ticker\":{\"id\":\"4840cba7-ecfe-47b7-8c2d-63d2b7e695d6\",\"type\":\"BasicTicker\"}},\"id\":\"dda1efce-1bf1-464d-87cd-ca708ca1191f\",\"type\":\"Grid\"},{\"attributes\":{\"source\":{\"id\":\"cd72a164-0201-49c6-943c-0744058f9752\",\"type\":\"ColumnDataSource\"}},\"id\":\"015cdb6e-52bf-49a1-bcfc-ee32fa99c293\",\"type\":\"CDSView\"},{\"attributes\":{\"fill_alpha\":{\"value\":0.5},\"fill_color\":{\"value\":\"olive\"},\"line_alpha\":{\"value\":0.5},\"line_color\":{\"value\":\"olive\"},\"size\":{\"units\":\"screen\",\"value\":10},\"x\":{\"field\":\"x\"},\"y\":{\"field\":\"y\"}},\"id\":\"9063c151-8f72-4a07-b662-f56bfde9f3aa\",\"type\":\"Square\"},{\"attributes\":{},\"id\":\"d0c3b829-599c-4dc4-b18d-70ea9607eb8e\",\"type\":\"Selection\"},{\"attributes\":{},\"id\":\"62442be1-5c30-4077-a224-97ee5359b218\",\"type\":\"ResetTool\"},{\"attributes\":{},\"id\":\"c76370fa-77e1-44d5-8329-481cf66b5441\",\"type\":\"Selection\"},{\"attributes\":{\"callback\":null,\"data\":{\"x\":{\"__ndarray__\":\"AAAAAAAAAACRGkt8Vz/AP5EaS3xXP9A/2qdwOgNf2D+RGkt8Vz/gPzXhXVstT+Q/2qdwOgNf6D9+boMZ2W7sP5EaS3xXP/A/433Ua0JH8j814V1bLU/0P4dE50oYV/Y/2qdwOgNf+D8sC/op7mb6P35ugxnZbvw/0NEMCcR2/j+RGkt8Vz8AQDrMD/RMQwFA433Ua0JHAkCML5njN0sDQDXhXVstTwRA3pIi0yJTBUCHROdKGFcGQDD2q8INWwdA2qdwOgNfCECDWTWy+GIJQCwL+inuZgpA1by+oeNqC0B+boMZ2W4MQCcgSJHOcg1A0NEMCcR2DkB5g9GAuXoPQJEaS3xXPxBAZnMtOFLBEEA6zA/0TEMRQA8l8q9HxRFA433Ua0JHEkC41rYnPckSQIwvmeM3SxNAYYh7nzLNE0A14V1bLU8UQAo6QBco0RRA3pIi0yJTFUCz6wSPHdUVQIdE50oYVxZAXJ3JBhPZFkAw9qvCDVsXQAVPjn4I3RdA2qdwOgNfGECuAFP2/eAYQINZNbL4YhlAV7IXbvPkGUAsC/op7mYaQABk3OXo6BpA1by+oeNqG0CpFaFd3uwbQH5ugxnZbhxAUsdl1dPwHEAnIEiRznIdQPt4Kk3J9B1A0NEMCcR2HkCkKu/EvvgeQHmD0YC5eh9ATdyzPLT8H0CRGkt8Vz8gQPtGPNpUgCBAZnMtOFLBIEDQnx6WTwIhQDrMD/RMQyFApPgAUkqEIUAPJfKvR8UhQHlR4w1FBiJA433Ua0JHIkBNqsXJP4giQLjWtic9ySJAIgOohToKI0CML5njN0sjQPZbikE1jCNAYYh7nzLNI0DLtGz9Lw4kQDXhXVstTyRAoA1PuSqQJEAKOkAXKNEkQHRmMXUlEiVA3pIi0yJTJUBJvxMxIJQlQLPrBI8d1SVAHRj27BoWJkCHROdKGFcmQPJw2KgVmCZAXJ3JBhPZJkDGybpkEBonQDD2q8INWydAmyKdIAucJ0AFT45+CN0nQG97f9wFHihA2qdwOgNfKEBE1GGYAKAoQK4AU/b94ChAGC1EVPshKUA=\",\"dtype\":\"float64\",\"shape\":[100]},\"y\":{\"__ndarray__\":\"AAAAAAAA8D+yzYPRkeXxP7ihgYdrgfM/rb0yquzM9D/245G2v8L1P87bFRfwXvY/2iiqbvqe9j/kKcny1oH2P2p9E6r9B/Y/t9rofWQz9T/V4vYmdwf0P338ARYJifI/RdfykkG+8D9ETRXIBF3tPyugTMuSxOg/JsOhHxvG4z8XRefmX+zcP4TfmO5l1dE/2IAW3tnTuT9QVAYbRxi0v26sY4ZobNC/kDyhvhiP278fJw0IIiDjv8rnndrvKei/4klI9jTQ7L9i6ms85X/wvyB3ITG5U/K/nEtETQ/c879kyJx6lxL1v3a2nZlS8vW/jCxGFqd39r9Ikzy8b6D2v7IbDo0EbPa/VCYsdD3b9b+XNIXNbvD0vyX2CM1fr/O/Ewqe7jod8r/hQKSueEDwv7KoVMWJQey/OkhCQL6N57//x2pm7XjivwmD/egKMNq/WFreULgEzr/gjtyf0basv8DQmYTCjb8/YDFTHT090z9zKk7fyUfePwQ64frNauQ/Br4PG51d6T/UmpIn8OftPyz+X62J+/A/JAqwLSe98j/wrAGOlDH0P9+qQLrTUvU/YiQQQD0c9j8qs4V6k4r2Pw41lOsPnPY/TXYpjGpQ9j9uO9/02qj1P8SNeVoTqPQ/wTrZcjVS8z/dcSFwwazxPxnyVbD+fO8/vXE0K8Ye6z+6a09r11DmP/7dFbP8JuE/QJmw0PVs1z8YNwvg51bIP4A3qsMi+oY/tJyl3I19xb9gjLYfHAnWv+4O12hWfOC/dgkSnTaw5b/Eiyd/wIrqv1M5qN/19+6/bg/Nc81y8b9c/veZwCHzv4mZSz7lgfS/nqNH2pCN9b9BMd7bdED2vxjtFmOwl/a/lMBYHdyR9r+wHoMNEC/2vww2BinjcPW/M3KRy2Ra9L+mR1EcEPDyv8K/p5i5N/G/fKrPIO5w7r87P/7sBPXpv0iCivwvDuW/bUUVRECh3788RM3h1qPUv0S1wErRosK/wBtiTTs7oT9AtNpTsC7LP531ygVNz9g/audXAYjQ4T/buikNCPDmP2xZBmcMses//P//////7z8=\",\"dtype\":\"float64\",\"shape\":[100]}},\"selected\":{\"id\":\"c76370fa-77e1-44d5-8329-481cf66b5441\",\"type\":\"Selection\"},\"selection_policy\":{\"id\":\"9afe4bc4-c2e7-4b3e-9100-b5ab91acbd32\",\"type\":\"UnionRenderers\"}},\"id\":\"12cd67a4-d59b-46c2-9afb-0662713ae210\",\"type\":\"ColumnDataSource\"},{\"attributes\":{\"plot\":{\"id\":\"44e77eb0-b4ef-4d7d-b29a-ebeef8f7adbe\",\"subtype\":\"Figure\",\"type\":\"Plot\"},\"ticker\":{\"id\":\"1ec8b503-db26-42dd-854b-ef321f8d8091\",\"type\":\"BasicTicker\"}},\"id\":\"1993f41d-ddb1-4984-8486-c2de3f15ed5c\",\"type\":\"Grid\"},{\"attributes\":{\"callback\":null},\"id\":\"0fcf3e0a-74f1-4187-8be9-7dd56acd31cf\",\"type\":\"DataRange1d\"},{\"attributes\":{},\"id\":\"bcf7c310-572b-4c2e-be9e-55ea79c66cca\",\"type\":\"LinearScale\"},{\"attributes\":{},\"id\":\"a2b70f65-5194-4f84-b182-aa50e1e1129d\",\"type\":\"LinearScale\"},{\"attributes\":{},\"id\":\"d557a546-4625-42c8-b138-c5387196dd89\",\"type\":\"HelpTool\"},{\"attributes\":{},\"id\":\"33e0d157-be72-4b0f-bdff-20a157a7bf6b\",\"type\":\"Selection\"},{\"attributes\":{\"children\":[{\"id\":\"44e77eb0-b4ef-4d7d-b29a-ebeef8f7adbe\",\"subtype\":\"Figure\",\"type\":\"Plot\"},{\"id\":\"74ece53c-d339-409f-9c40-8620f829a1cf\",\"subtype\":\"Figure\",\"type\":\"Plot\"},{\"id\":\"853678a1-7a20-437d-a14a-1c8e9226b2b0\",\"subtype\":\"Figure\",\"type\":\"Plot\"}]},\"id\":\"daa3c534-906d-4b07-9a21-dcd28cdaef60\",\"type\":\"Row\"},{\"attributes\":{},\"id\":\"9ea728d7-d27f-4764-9549-dee9ff2c5f2a\",\"type\":\"UnionRenderers\"},{\"attributes\":{},\"id\":\"37458da0-5075-4e08-a5d1-b0d8919d03a7\",\"type\":\"ResetTool\"},{\"attributes\":{\"fill_alpha\":{\"value\":0.5},\"fill_color\":{\"value\":\"firebrick\"},\"line_alpha\":{\"value\":0.5},\"line_color\":{\"value\":\"firebrick\"},\"size\":{\"units\":\"screen\",\"value\":10},\"x\":{\"field\":\"x\"},\"y\":{\"field\":\"y\"}},\"id\":\"e7888447-88f6-4479-8757-a3de0e48d429\",\"type\":\"Triangle\"},{\"attributes\":{},\"id\":\"105f26ba-2758-491c-9aed-6a152175d01d\",\"type\":\"LinearScale\"},{\"attributes\":{\"formatter\":{\"id\":\"852ea55c-1021-4ed4-ab57-de3a71f1cc9e\",\"type\":\"BasicTickFormatter\"},\"plot\":{\"id\":\"853678a1-7a20-437d-a14a-1c8e9226b2b0\",\"subtype\":\"Figure\",\"type\":\"Plot\"},\"ticker\":{\"id\":\"5dd8c8f9-406f-4cc0-b962-cd2d4f5b29af\",\"type\":\"BasicTicker\"}},\"id\":\"f3dcce54-0917-4f0c-afe0-d4a5de620835\",\"type\":\"LinearAxis\"},{\"attributes\":{},\"id\":\"9b5a14f6-86c8-4831-b8ff-3e9bf756cf14\",\"type\":\"BasicTickFormatter\"},{\"attributes\":{\"below\":[{\"id\":\"f4f96408-bc8e-45f9-b9b1-16ef6184fcab\",\"type\":\"LinearAxis\"}],\"left\":[{\"id\":\"eddcc2d8-fc23-423f-b34b-2f35379c06d1\",\"type\":\"LinearAxis\"}],\"plot_height\":250,\"plot_width\":250,\"renderers\":[{\"id\":\"f4f96408-bc8e-45f9-b9b1-16ef6184fcab\",\"type\":\"LinearAxis\"},{\"id\":\"e0963f19-6940-4ada-8c07-217527ab27e1\",\"type\":\"Grid\"},{\"id\":\"eddcc2d8-fc23-423f-b34b-2f35379c06d1\",\"type\":\"LinearAxis\"},{\"id\":\"2431a531-ea3b-4f31-b39c-ca6a25647013\",\"type\":\"Grid\"},{\"id\":\"8f77887a-63d3-4c0c-9914-069891482a55\",\"type\":\"BoxAnnotation\"},{\"id\":\"09a11349-6775-42fd-b943-201b053d6f2e\",\"type\":\"GlyphRenderer\"}],\"title\":null,\"toolbar\":{\"id\":\"7d8125c8-7fc0-4cbb-be7f-83ecb52a32dd\",\"type\":\"Toolbar\"},\"toolbar_location\":null,\"x_range\":{\"id\":\"0fcf3e0a-74f1-4187-8be9-7dd56acd31cf\",\"type\":\"DataRange1d\"},\"x_scale\":{\"id\":\"019cd8ce-5b19-477e-903d-6dcb0006017f\",\"type\":\"LinearScale\"},\"y_range\":{\"id\":\"07d77418-a17d-490e-8e4e-481cedc8df4f\",\"type\":\"DataRange1d\"},\"y_scale\":{\"id\":\"bcf7c310-572b-4c2e-be9e-55ea79c66cca\",\"type\":\"LinearScale\"}},\"id\":\"74ece53c-d339-409f-9c40-8620f829a1cf\",\"subtype\":\"Figure\",\"type\":\"Plot\"},{\"attributes\":{\"formatter\":{\"id\":\"39e851c7-32cc-4a14-909b-fdf74dcb3226\",\"type\":\"BasicTickFormatter\"},\"plot\":{\"id\":\"74ece53c-d339-409f-9c40-8620f829a1cf\",\"subtype\":\"Figure\",\"type\":\"Plot\"},\"ticker\":{\"id\":\"cc865b9a-750d-45d4-b383-99c6b667982f\",\"type\":\"BasicTicker\"}},\"id\":\"eddcc2d8-fc23-423f-b34b-2f35379c06d1\",\"type\":\"LinearAxis\"},{\"attributes\":{},\"id\":\"3e0ddf29-b1d7-4cd4-8ea7-f6057ee66223\",\"type\":\"BasicTicker\"},{\"attributes\":{},\"id\":\"019cd8ce-5b19-477e-903d-6dcb0006017f\",\"type\":\"LinearScale\"},{\"attributes\":{},\"id\":\"5dd8c8f9-406f-4cc0-b962-cd2d4f5b29af\",\"type\":\"BasicTicker\"},{\"attributes\":{},\"id\":\"aca95055-2980-4d04-8c35-e78a357c21fa\",\"type\":\"UnionRenderers\"},{\"attributes\":{\"below\":[{\"id\":\"7d550c24-0161-4cd1-958a-3ab1e4da9e6e\",\"type\":\"LinearAxis\"}],\"left\":[{\"id\":\"e1a14e5b-49a3-4ada-832a-1d4076d30539\",\"type\":\"LinearAxis\"}],\"plot_height\":250,\"plot_width\":250,\"renderers\":[{\"id\":\"7d550c24-0161-4cd1-958a-3ab1e4da9e6e\",\"type\":\"LinearAxis\"},{\"id\":\"1993f41d-ddb1-4984-8486-c2de3f15ed5c\",\"type\":\"Grid\"},{\"id\":\"e1a14e5b-49a3-4ada-832a-1d4076d30539\",\"type\":\"LinearAxis\"},{\"id\":\"0e9284b5-8387-4e00-a450-185db919abf9\",\"type\":\"Grid\"},{\"id\":\"9cded0de-0466-4254-8ec5-b9e65c0ea67f\",\"type\":\"BoxAnnotation\"},{\"id\":\"c99d9b7c-acd2-49ab-a6f0-9236a84d5758\",\"type\":\"GlyphRenderer\"}],\"title\":null,\"toolbar\":{\"id\":\"f3002223-2099-4f08-922e-a9a6a6e396d4\",\"type\":\"Toolbar\"},\"toolbar_location\":null,\"x_range\":{\"id\":\"0fcf3e0a-74f1-4187-8be9-7dd56acd31cf\",\"type\":\"DataRange1d\"},\"x_scale\":{\"id\":\"105f26ba-2758-491c-9aed-6a152175d01d\",\"type\":\"LinearScale\"},\"y_range\":{\"id\":\"07d77418-a17d-490e-8e4e-481cedc8df4f\",\"type\":\"DataRange1d\"},\"y_scale\":{\"id\":\"a2b70f65-5194-4f84-b182-aa50e1e1129d\",\"type\":\"LinearScale\"}},\"id\":\"44e77eb0-b4ef-4d7d-b29a-ebeef8f7adbe\",\"subtype\":\"Figure\",\"type\":\"Plot\"},{\"attributes\":{\"active_drag\":\"auto\",\"active_inspect\":\"auto\",\"active_multi\":null,\"active_scroll\":\"auto\",\"active_tap\":\"auto\",\"tools\":[{\"id\":\"015c1354-5d9c-4e9f-8626-a95cbabf7e17\",\"type\":\"PanTool\"},{\"id\":\"0b53d966-4840-4023-9fa3-1bc6111e35ed\",\"type\":\"WheelZoomTool\"},{\"id\":\"18f8d5f0-cd66-4ced-8291-b08bd2296a6c\",\"type\":\"BoxZoomTool\"},{\"id\":\"29eb1877-710c-4db6-a6e0-f586aa7003b8\",\"type\":\"SaveTool\"},{\"id\":\"6707cc0b-ccea-46dd-ae78-7b0fb3ee4820\",\"type\":\"ResetTool\"},{\"id\":\"d557a546-4625-42c8-b138-c5387196dd89\",\"type\":\"HelpTool\"}]},\"id\":\"123b1246-f638-458d-890f-b1b05f21b3cd\",\"type\":\"Toolbar\"},{\"attributes\":{},\"id\":\"1da3404f-8036-4b4c-9573-0f170d201115\",\"type\":\"WheelZoomTool\"},{\"attributes\":{\"callback\":null,\"data\":{\"x\":{\"__ndarray__\":\"AAAAAAAAAACRGkt8Vz/AP5EaS3xXP9A/2qdwOgNf2D+RGkt8Vz/gPzXhXVstT+Q/2qdwOgNf6D9+boMZ2W7sP5EaS3xXP/A/433Ua0JH8j814V1bLU/0P4dE50oYV/Y/2qdwOgNf+D8sC/op7mb6P35ugxnZbvw/0NEMCcR2/j+RGkt8Vz8AQDrMD/RMQwFA433Ua0JHAkCML5njN0sDQDXhXVstTwRA3pIi0yJTBUCHROdKGFcGQDD2q8INWwdA2qdwOgNfCECDWTWy+GIJQCwL+inuZgpA1by+oeNqC0B+boMZ2W4MQCcgSJHOcg1A0NEMCcR2DkB5g9GAuXoPQJEaS3xXPxBAZnMtOFLBEEA6zA/0TEMRQA8l8q9HxRFA433Ua0JHEkC41rYnPckSQIwvmeM3SxNAYYh7nzLNE0A14V1bLU8UQAo6QBco0RRA3pIi0yJTFUCz6wSPHdUVQIdE50oYVxZAXJ3JBhPZFkAw9qvCDVsXQAVPjn4I3RdA2qdwOgNfGECuAFP2/eAYQINZNbL4YhlAV7IXbvPkGUAsC/op7mYaQABk3OXo6BpA1by+oeNqG0CpFaFd3uwbQH5ugxnZbhxAUsdl1dPwHEAnIEiRznIdQPt4Kk3J9B1A0NEMCcR2HkCkKu/EvvgeQHmD0YC5eh9ATdyzPLT8H0CRGkt8Vz8gQPtGPNpUgCBAZnMtOFLBIEDQnx6WTwIhQDrMD/RMQyFApPgAUkqEIUAPJfKvR8UhQHlR4w1FBiJA433Ua0JHIkBNqsXJP4giQLjWtic9ySJAIgOohToKI0CML5njN0sjQPZbikE1jCNAYYh7nzLNI0DLtGz9Lw4kQDXhXVstTyRAoA1PuSqQJEAKOkAXKNEkQHRmMXUlEiVA3pIi0yJTJUBJvxMxIJQlQLPrBI8d1SVAHRj27BoWJkCHROdKGFcmQPJw2KgVmCZAXJ3JBhPZJkDGybpkEBonQDD2q8INWydAmyKdIAucJ0AFT45+CN0nQG97f9wFHihA2qdwOgNfKEBE1GGYAKAoQK4AU/b94ChAGC1EVPshKUA=\",\"dtype\":\"float64\",\"shape\":[100]},\"y\":{\"__ndarray__\":\"AAAAAAAAAADwgwJ4LjTAP5qI2QHPEtA/+5MNU1HJ1z8ZTT7q2B3fP0aFmgwa+eI/ABg/lCAV5j+IQCEcMdboP3fOhmLzMOs/EyzujrQb7T/9Izwlj47uPxccgYyLg+8/g6xao7j27z9mZrL8O+bvP7+X94FZUu8/xVNiW3I97j9RB8Ai+6vsP5FWKYlppOo/oSg6uxkv6D/Th2bxK1blPyZGRbpaJeI/8qg+VZVT3T/4C4p0qOPVP+UppLIiM8w/3FNHxZdVuD/J23zJpD6gv+3ENsZjOcS/wo12/ecH0r/dgWKM2KjZv2MTsJELcOC/83ixWvXH47+358MBZM7mv5eCD4nhdum/rExY6Hq267+TIxAn7YPtvwSssILL1+6/70I4BJ6s77/vOc8G+P7vvzTGy1KGze+/3176khQZ77/C8a4NiuTtvzGcHq/dNOy/l0FFlgER6r+FGZN4xoHnvx8WPFK3keS/Cli7+O1M4b+HQNqEwoHbv9kfIiFb+NO/gKyggGI5yL8EhrXMjDywvyGGtcyMPLA/jqyggGI5yD/gHyIhW/jTP39A2oTCgds/DVi7+O1M4T8bFjxSt5HkP4cZk3jGgec/lUFFlgER6j8ynB6v3TTsP8Hxrg2K5O0/4F76khQZ7z80xstShs3vP+85zwb4/u8/8EI4BJ6s7z8DrLCCy9fuP5UjECftg+0/p0xY6Hq26z+Vgg+J4XbpP7fnwwFkzuY/9nixWvXH4z9dE7CRC3DgP9eBYozYqNk/w412/ecH0j/+xDbGYznEP0/bfMmkPqA/+FNHxZdVuL/UKaSyIjPMv+gLinSo49W/+Kg+VZVT3b8lRkW6WiXiv8+HZvErVuW/pig6uxkv6L+TVimJaaTqv1EHwCL7q+y/xFNiW3I97r/Al/eBWVLvv2Zmsvw75u+/g6xao7j2778YHIGMi4Pvv/sjPCWPju6/EyzujrQb7b94zoZi8zDrv4xAIRwx1ui//Bc/lCAV5r9GhZoMGvnivx9NPurYHd+/65MNU1HJ17+SiNkBzxLQv/GDAnguNMC/B1wUMyamwbw=\",\"dtype\":\"float64\",\"shape\":[100]}},\"selected\":{\"id\":\"33e0d157-be72-4b0f-bdff-20a157a7bf6b\",\"type\":\"Selection\"},\"selection_policy\":{\"id\":\"9ea728d7-d27f-4764-9549-dee9ff2c5f2a\",\"type\":\"UnionRenderers\"}},\"id\":\"843b0723-80aa-42d0-9f5b-a11053b32fcd\",\"type\":\"ColumnDataSource\"},{\"attributes\":{\"formatter\":{\"id\":\"1c6985ba-9f0c-4d38-8b39-4835e4fa9576\",\"type\":\"BasicTickFormatter\"},\"plot\":{\"id\":\"44e77eb0-b4ef-4d7d-b29a-ebeef8f7adbe\",\"subtype\":\"Figure\",\"type\":\"Plot\"},\"ticker\":{\"id\":\"1ec8b503-db26-42dd-854b-ef321f8d8091\",\"type\":\"BasicTicker\"}},\"id\":\"7d550c24-0161-4cd1-958a-3ab1e4da9e6e\",\"type\":\"LinearAxis\"},{\"attributes\":{\"fill_alpha\":{\"value\":0.1},\"fill_color\":{\"value\":\"#1f77b4\"},\"line_alpha\":{\"value\":0.1},\"line_color\":{\"value\":\"#1f77b4\"},\"size\":{\"units\":\"screen\",\"value\":10},\"x\":{\"field\":\"x\"},\"y\":{\"field\":\"y\"}},\"id\":\"6a58375e-a50f-4f71-9428-912def2545a0\",\"type\":\"Square\"},{\"attributes\":{},\"id\":\"ae650221-4f5c-438d-9ee8-3a7729210073\",\"type\":\"PanTool\"},{\"attributes\":{\"callback\":null,\"data\":{\"x\":{\"__ndarray__\":\"AAAAAAAAAACRGkt8Vz/AP5EaS3xXP9A/2qdwOgNf2D+RGkt8Vz/gPzXhXVstT+Q/2qdwOgNf6D9+boMZ2W7sP5EaS3xXP/A/433Ua0JH8j814V1bLU/0P4dE50oYV/Y/2qdwOgNf+D8sC/op7mb6P35ugxnZbvw/0NEMCcR2/j+RGkt8Vz8AQDrMD/RMQwFA433Ua0JHAkCML5njN0sDQDXhXVstTwRA3pIi0yJTBUCHROdKGFcGQDD2q8INWwdA2qdwOgNfCECDWTWy+GIJQCwL+inuZgpA1by+oeNqC0B+boMZ2W4MQCcgSJHOcg1A0NEMCcR2DkB5g9GAuXoPQJEaS3xXPxBAZnMtOFLBEEA6zA/0TEMRQA8l8q9HxRFA433Ua0JHEkC41rYnPckSQIwvmeM3SxNAYYh7nzLNE0A14V1bLU8UQAo6QBco0RRA3pIi0yJTFUCz6wSPHdUVQIdE50oYVxZAXJ3JBhPZFkAw9qvCDVsXQAVPjn4I3RdA2qdwOgNfGECuAFP2/eAYQINZNbL4YhlAV7IXbvPkGUAsC/op7mYaQABk3OXo6BpA1by+oeNqG0CpFaFd3uwbQH5ugxnZbhxAUsdl1dPwHEAnIEiRznIdQPt4Kk3J9B1A0NEMCcR2HkCkKu/EvvgeQHmD0YC5eh9ATdyzPLT8H0CRGkt8Vz8gQPtGPNpUgCBAZnMtOFLBIEDQnx6WTwIhQDrMD/RMQyFApPgAUkqEIUAPJfKvR8UhQHlR4w1FBiJA433Ua0JHIkBNqsXJP4giQLjWtic9ySJAIgOohToKI0CML5njN0sjQPZbikE1jCNAYYh7nzLNI0DLtGz9Lw4kQDXhXVstTyRAoA1PuSqQJEAKOkAXKNEkQHRmMXUlEiVA3pIi0yJTJUBJvxMxIJQlQLPrBI8d1SVAHRj27BoWJkCHROdKGFcmQPJw2KgVmCZAXJ3JBhPZJkDGybpkEBonQDD2q8INWydAmyKdIAucJ0AFT45+CN0nQG97f9wFHihA2qdwOgNfKEBE1GGYAKAoQK4AU/b94ChAGC1EVPshKUA=\",\"dtype\":\"float64\",\"shape\":[100]},\"y\":{\"__ndarray__\":\"AAAAAAAA8D9o+gYFGL7vPyN/Fo5v+e4/XLHeqjC17T9foQT4kvbrP1YykSHGxOk/tDkVSdQo5z9AE3HJfC3kP1wsoPEH3+A/thLH2SiW2j9bQ2NRvgDTP4xzC34aOsY/cyCwKKhcqD8MyeikuUm0v0/eq9oaN8q/PSGBd67u1L+LyZhelmvcv8/m3JG2ueG/hlh3f5705L9dUsfUNNnnv10cd/2OW+q/wfLvCVdx7L8bLVJC9hHuv0PyRoe4Nu+/XjTx7ufa778HB0As4PvvvwQ9tXAZme+/V1DNmyq07r/ZTwivwlDtv4lZi6GZdOu/JeDa0Vgn6b/aPrV2e3Lmv8y0DJEnYeO/+f//////3783i/Tn4LnYv4yAwi7oDdG/3kQPZF83wr9U+ijPKj+QvxHsuGvkX7w/k1rgSlktzj+GU4hOOdfWP1m1P3WwOd4/AasNgtOP4j+XUJVeWbblPzdQz6Jvg+g/uvBkh4zr6j99NRQyxuTsP/FJcov7Zu4/Juk3u/Vr7z+VSynBge/vP5RLKcGB7+8/Jek3u/Vr7z/vSXKL+2buP381FDLG5Ow/uPBkh4zr6j86UM+ib4PoP5RQlV5ZtuU/BasNgtOP4j9TtT91sDneP45TiE4519Y/hVrgSlktzj807Lhr5F+8P8f6KM8qP5C/zUQPZF83wr+TgMIu6A3Rvy+L9Ofgudi/BwAAAAAA4L/PtAyRJ2Hjv9k+tXZ7cua/I+Da0Vgn6b+NWYuhmXTrv9pPCK/CUO2/V1DNmyq07r8DPbVwGZnvvwgHQCzg+++/XjTx7ufa779E8kaHuDbvvx4tUkL2Ee6/wPLvCVdx7L9dHHf9jlvqv2BSx9Q02ee/gVh3f5705L/M5tyRtrnhv4zJmF6Wa9y/RSGBd67u1L8x3qvaGjfKv/DI6KS5SbS/bSCwKKhcqD9zcwt+GjrGP2ZDY1G+ANM/uRLH2SiW2j9aLKDxB9/gPzsTccl8LeQ/uDkVSdQo5z9WMpEhxsTpP16hBPiS9us/X7HeqjC17T8kfxaOb/nuP2j6BgUYvu8/AAAAAAAA8D8=\",\"dtype\":\"float64\",\"shape\":[100]}},\"selected\":{\"id\":\"d0c3b829-599c-4dc4-b18d-70ea9607eb8e\",\"type\":\"Selection\"},\"selection_policy\":{\"id\":\"aca95055-2980-4d04-8c35-e78a357c21fa\",\"type\":\"UnionRenderers\"}},\"id\":\"cd72a164-0201-49c6-943c-0744058f9752\",\"type\":\"ColumnDataSource\"},{\"attributes\":{\"plot\":{\"id\":\"853678a1-7a20-437d-a14a-1c8e9226b2b0\",\"subtype\":\"Figure\",\"type\":\"Plot\"},\"ticker\":{\"id\":\"5dd8c8f9-406f-4cc0-b962-cd2d4f5b29af\",\"type\":\"BasicTicker\"}},\"id\":\"21e7b762-4f50-4864-a234-1aa2d4d20976\",\"type\":\"Grid\"},{\"attributes\":{\"fill_alpha\":{\"value\":0.1},\"fill_color\":{\"value\":\"#1f77b4\"},\"line_alpha\":{\"value\":0.1},\"line_color\":{\"value\":\"#1f77b4\"},\"size\":{\"units\":\"screen\",\"value\":10},\"x\":{\"field\":\"x\"},\"y\":{\"field\":\"y\"}},\"id\":\"aded4ffb-7c9d-4b1c-8962-a1f27f410729\",\"type\":\"Circle\"},{\"attributes\":{},\"id\":\"4840cba7-ecfe-47b7-8c2d-63d2b7e695d6\",\"type\":\"BasicTicker\"},{\"attributes\":{\"callback\":null},\"id\":\"e1336e69-2bdd-4229-90cf-b0f069f8297d\",\"type\":\"DataRange1d\"},{\"attributes\":{},\"id\":\"1c6985ba-9f0c-4d38-8b39-4835e4fa9576\",\"type\":\"BasicTickFormatter\"},{\"attributes\":{},\"id\":\"39e851c7-32cc-4a14-909b-fdf74dcb3226\",\"type\":\"BasicTickFormatter\"},{\"attributes\":{\"formatter\":{\"id\":\"9b5a14f6-86c8-4831-b8ff-3e9bf756cf14\",\"type\":\"BasicTickFormatter\"},\"plot\":{\"id\":\"74ece53c-d339-409f-9c40-8620f829a1cf\",\"subtype\":\"Figure\",\"type\":\"Plot\"},\"ticker\":{\"id\":\"0c71fabe-45ed-495a-a1f3-9ed3600d22d1\",\"type\":\"BasicTicker\"}},\"id\":\"f4f96408-bc8e-45f9-b9b1-16ef6184fcab\",\"type\":\"LinearAxis\"},{\"attributes\":{\"overlay\":{\"id\":\"8f77887a-63d3-4c0c-9914-069891482a55\",\"type\":\"BoxAnnotation\"}},\"id\":\"89be1af2-c1d0-4234-8980-59057dd8eada\",\"type\":\"BoxZoomTool\"},{\"attributes\":{},\"id\":\"015c1354-5d9c-4e9f-8626-a95cbabf7e17\",\"type\":\"PanTool\"},{\"attributes\":{},\"id\":\"2282a15c-a0d4-4917-9a85-aa9ee466e07f\",\"type\":\"SaveTool\"},{\"attributes\":{\"fill_alpha\":{\"value\":0.1},\"fill_color\":{\"value\":\"#1f77b4\"},\"line_alpha\":{\"value\":0.1},\"line_color\":{\"value\":\"#1f77b4\"},\"size\":{\"units\":\"screen\",\"value\":10},\"x\":{\"field\":\"x\"},\"y\":{\"field\":\"y\"}},\"id\":\"ea3d631d-12f9-4057-86d8-a67a5894a321\",\"type\":\"Triangle\"},{\"attributes\":{},\"id\":\"7f7aa723-d8e6-4389-bcdc-99c4f27dfd7a\",\"type\":\"HelpTool\"},{\"attributes\":{\"callback\":null},\"id\":\"07d77418-a17d-490e-8e4e-481cedc8df4f\",\"type\":\"DataRange1d\"},{\"attributes\":{},\"id\":\"29eb1877-710c-4db6-a6e0-f586aa7003b8\",\"type\":\"SaveTool\"},{\"attributes\":{\"formatter\":{\"id\":\"c0e2dc0b-927a-4afd-baea-5e8654636575\",\"type\":\"BasicTickFormatter\"},\"plot\":{\"id\":\"44e77eb0-b4ef-4d7d-b29a-ebeef8f7adbe\",\"subtype\":\"Figure\",\"type\":\"Plot\"},\"ticker\":{\"id\":\"3e0ddf29-b1d7-4cd4-8ea7-f6057ee66223\",\"type\":\"BasicTicker\"}},\"id\":\"e1a14e5b-49a3-4ada-832a-1d4076d30539\",\"type\":\"LinearAxis\"},{\"attributes\":{\"formatter\":{\"id\":\"4b3eda03-3bac-49c0-aac5-17d22db8ec97\",\"type\":\"BasicTickFormatter\"},\"plot\":{\"id\":\"853678a1-7a20-437d-a14a-1c8e9226b2b0\",\"subtype\":\"Figure\",\"type\":\"Plot\"},\"ticker\":{\"id\":\"4840cba7-ecfe-47b7-8c2d-63d2b7e695d6\",\"type\":\"BasicTicker\"}},\"id\":\"c91967f2-9cea-4f4f-bd3c-a72fe143ac89\",\"type\":\"LinearAxis\"},{\"attributes\":{},\"id\":\"6707cc0b-ccea-46dd-ae78-7b0fb3ee4820\",\"type\":\"ResetTool\"},{\"attributes\":{\"overlay\":{\"id\":\"9cded0de-0466-4254-8ec5-b9e65c0ea67f\",\"type\":\"BoxAnnotation\"}},\"id\":\"2367cfde-ee03-48c2-9db6-12c4e4a42444\",\"type\":\"BoxZoomTool\"},{\"attributes\":{},\"id\":\"0c71fabe-45ed-495a-a1f3-9ed3600d22d1\",\"type\":\"BasicTicker\"},{\"attributes\":{\"dimension\":1,\"plot\":{\"id\":\"74ece53c-d339-409f-9c40-8620f829a1cf\",\"subtype\":\"Figure\",\"type\":\"Plot\"},\"ticker\":{\"id\":\"cc865b9a-750d-45d4-b383-99c6b667982f\",\"type\":\"BasicTicker\"}},\"id\":\"2431a531-ea3b-4f31-b39c-ca6a25647013\",\"type\":\"Grid\"},{\"attributes\":{},\"id\":\"fb954d9c-f6f3-4900-89a0-e50f6c747440\",\"type\":\"WheelZoomTool\"},{\"attributes\":{\"dimension\":1,\"plot\":{\"id\":\"44e77eb0-b4ef-4d7d-b29a-ebeef8f7adbe\",\"subtype\":\"Figure\",\"type\":\"Plot\"},\"ticker\":{\"id\":\"3e0ddf29-b1d7-4cd4-8ea7-f6057ee66223\",\"type\":\"BasicTicker\"}},\"id\":\"0e9284b5-8387-4e00-a450-185db919abf9\",\"type\":\"Grid\"},{\"attributes\":{},\"id\":\"852ea55c-1021-4ed4-ab57-de3a71f1cc9e\",\"type\":\"BasicTickFormatter\"},{\"attributes\":{\"source\":{\"id\":\"843b0723-80aa-42d0-9f5b-a11053b32fcd\",\"type\":\"ColumnDataSource\"}},\"id\":\"0f9160ae-76c2-4540-a3a3-f5bdd66d519e\",\"type\":\"CDSView\"},{\"attributes\":{},\"id\":\"7b17d909-5425-4108-bb9a-a83d0b94b3dc\",\"type\":\"PanTool\"},{\"attributes\":{\"source\":{\"id\":\"12cd67a4-d59b-46c2-9afb-0662713ae210\",\"type\":\"ColumnDataSource\"}},\"id\":\"2701ddc6-1662-43cd-9c08-ee8479eb99a9\",\"type\":\"CDSView\"},{\"attributes\":{\"bottom_units\":\"screen\",\"fill_alpha\":{\"value\":0.5},\"fill_color\":{\"value\":\"lightgrey\"},\"left_units\":\"screen\",\"level\":\"overlay\",\"line_alpha\":{\"value\":1.0},\"line_color\":{\"value\":\"black\"},\"line_dash\":[4,4],\"line_width\":{\"value\":2},\"plot\":null,\"render_mode\":\"css\",\"right_units\":\"screen\",\"top_units\":\"screen\"},\"id\":\"26739465-47f8-4825-837a-7b65f95a8a09\",\"type\":\"BoxAnnotation\"},{\"attributes\":{},\"id\":\"9afe4bc4-c2e7-4b3e-9100-b5ab91acbd32\",\"type\":\"UnionRenderers\"},{\"attributes\":{},\"id\":\"cc865b9a-750d-45d4-b383-99c6b667982f\",\"type\":\"BasicTicker\"},{\"attributes\":{},\"id\":\"4b3eda03-3bac-49c0-aac5-17d22db8ec97\",\"type\":\"BasicTickFormatter\"},{\"attributes\":{},\"id\":\"e25f4d10-6969-4044-a266-b5fc6167232e\",\"type\":\"HelpTool\"},{\"attributes\":{},\"id\":\"c0e2dc0b-927a-4afd-baea-5e8654636575\",\"type\":\"BasicTickFormatter\"},{\"attributes\":{},\"id\":\"0b53d966-4840-4023-9fa3-1bc6111e35ed\",\"type\":\"WheelZoomTool\"},{\"attributes\":{\"data_source\":{\"id\":\"843b0723-80aa-42d0-9f5b-a11053b32fcd\",\"type\":\"ColumnDataSource\"},\"glyph\":{\"id\":\"06051209-afb4-437e-868c-97ee46a7a22e\",\"type\":\"Circle\"},\"hover_glyph\":null,\"muted_glyph\":null,\"nonselection_glyph\":{\"id\":\"aded4ffb-7c9d-4b1c-8962-a1f27f410729\",\"type\":\"Circle\"},\"selection_glyph\":null,\"view\":{\"id\":\"0f9160ae-76c2-4540-a3a3-f5bdd66d519e\",\"type\":\"CDSView\"}},\"id\":\"c99d9b7c-acd2-49ab-a6f0-9236a84d5758\",\"type\":\"GlyphRenderer\"},{\"attributes\":{\"children\":[{\"id\":\"daa3c534-906d-4b07-9a21-dcd28cdaef60\",\"type\":\"Row\"}]},\"id\":\"10000f3e-c82a-4e2c-b36e-0e2bf98c47bf\",\"type\":\"Column\"},{\"attributes\":{\"below\":[{\"id\":\"f3dcce54-0917-4f0c-afe0-d4a5de620835\",\"type\":\"LinearAxis\"}],\"left\":[{\"id\":\"c91967f2-9cea-4f4f-bd3c-a72fe143ac89\",\"type\":\"LinearAxis\"}],\"plot_height\":250,\"plot_width\":250,\"renderers\":[{\"id\":\"f3dcce54-0917-4f0c-afe0-d4a5de620835\",\"type\":\"LinearAxis\"},{\"id\":\"21e7b762-4f50-4864-a234-1aa2d4d20976\",\"type\":\"Grid\"},{\"id\":\"c91967f2-9cea-4f4f-bd3c-a72fe143ac89\",\"type\":\"LinearAxis\"},{\"id\":\"dda1efce-1bf1-464d-87cd-ca708ca1191f\",\"type\":\"Grid\"},{\"id\":\"26739465-47f8-4825-837a-7b65f95a8a09\",\"type\":\"BoxAnnotation\"},{\"id\":\"7150ba2e-f03b-4537-badf-af3bb65375bd\",\"type\":\"GlyphRenderer\"}],\"title\":null,\"toolbar\":{\"id\":\"123b1246-f638-458d-890f-b1b05f21b3cd\",\"type\":\"Toolbar\"},\"toolbar_location\":null,\"x_range\":{\"id\":\"0fcf3e0a-74f1-4187-8be9-7dd56acd31cf\",\"type\":\"DataRange1d\"},\"x_scale\":{\"id\":\"4f96a83f-966b-4e7c-a157-e7503dbbb4fc\",\"type\":\"LinearScale\"},\"y_range\":{\"id\":\"e1336e69-2bdd-4229-90cf-b0f069f8297d\",\"type\":\"DataRange1d\"},\"y_scale\":{\"id\":\"71e310cb-0fdb-4741-a712-9f68ff0ebd0a\",\"type\":\"LinearScale\"}},\"id\":\"853678a1-7a20-437d-a14a-1c8e9226b2b0\",\"subtype\":\"Figure\",\"type\":\"Plot\"},{\"attributes\":{\"data_source\":{\"id\":\"cd72a164-0201-49c6-943c-0744058f9752\",\"type\":\"ColumnDataSource\"},\"glyph\":{\"id\":\"e7888447-88f6-4479-8757-a3de0e48d429\",\"type\":\"Triangle\"},\"hover_glyph\":null,\"muted_glyph\":null,\"nonselection_glyph\":{\"id\":\"ea3d631d-12f9-4057-86d8-a67a5894a321\",\"type\":\"Triangle\"},\"selection_glyph\":null,\"view\":{\"id\":\"015cdb6e-52bf-49a1-bcfc-ee32fa99c293\",\"type\":\"CDSView\"}},\"id\":\"09a11349-6775-42fd-b943-201b053d6f2e\",\"type\":\"GlyphRenderer\"},{\"attributes\":{},\"id\":\"4326269d-8165-46b8-bb9d-1073c9625dd0\",\"type\":\"SaveTool\"},{\"attributes\":{},\"id\":\"1ec8b503-db26-42dd-854b-ef321f8d8091\",\"type\":\"BasicTicker\"},{\"attributes\":{\"plot\":{\"id\":\"74ece53c-d339-409f-9c40-8620f829a1cf\",\"subtype\":\"Figure\",\"type\":\"Plot\"},\"ticker\":{\"id\":\"0c71fabe-45ed-495a-a1f3-9ed3600d22d1\",\"type\":\"BasicTicker\"}},\"id\":\"e0963f19-6940-4ada-8c07-217527ab27e1\",\"type\":\"Grid\"}],\"root_ids\":[\"10000f3e-c82a-4e2c-b36e-0e2bf98c47bf\"]},\"title\":\"Bokeh Application\",\"version\":\"0.13.0\"}};\n",
       "  var render_items = [{\"docid\":\"e96d03aa-2fff-4a22-aa1c-9feeddf84347\",\"roots\":{\"10000f3e-c82a-4e2c-b36e-0e2bf98c47bf\":\"9d7687f4-d672-488b-8e81-0941427293ce\"}}];\n",
       "  root.Bokeh.embed.embed_items_notebook(docs_json, render_items);\n",
       "\n",
       "  }\n",
       "  if (root.Bokeh !== undefined) {\n",
       "    embed_document(root);\n",
       "  } else {\n",
       "    var attempts = 0;\n",
       "    var timer = setInterval(function(root) {\n",
       "      if (root.Bokeh !== undefined) {\n",
       "        embed_document(root);\n",
       "        clearInterval(timer);\n",
       "      }\n",
       "      attempts++;\n",
       "      if (attempts > 100) {\n",
       "        console.log(\"Bokeh: ERROR: Unable to run BokehJS code because BokehJS library is missing\")\n",
       "        clearInterval(timer);\n",
       "      }\n",
       "    }, 10, root)\n",
       "  }\n",
       "})(window);"
      ],
      "application/vnd.bokehjs_exec.v0+json": ""
     },
     "metadata": {
      "application/vnd.bokehjs_exec.v0+json": {
       "id": "10000f3e-c82a-4e2c-b36e-0e2bf98c47bf"
      }
     },
     "output_type": "display_data"
    }
   ],
   "source": [
    "import numpy as np\n",
    "\n",
    "from bokeh.layouts import gridplot\n",
    "from bokeh.plotting import figure, output_file, show\n",
    "\n",
    "# prepare some data\n",
    "N = 100\n",
    "x = np.linspace(0, 4*np.pi, N)\n",
    "y0 = np.sin(x)\n",
    "y1 = np.cos(x)\n",
    "y2 = np.sin(x) + np.cos(x)\n",
    "\n",
    "# output to static HTML file\n",
    "#output_file(\"linked_panning.html\")\n",
    "\n",
    "# create a new plot\n",
    "s1 = figure(width=250, plot_height=250, title=None)\n",
    "s1.circle(x, y0, size=10, color=\"navy\", alpha=0.5)\n",
    "\n",
    "# NEW: create a new plot and share both ranges\n",
    "s2 = figure(width=250, height=250, x_range=s1.x_range, y_range=s1.y_range, title=None)\n",
    "s2.triangle(x, y1, size=10, color=\"firebrick\", alpha=0.5)\n",
    "\n",
    "# NEW: create a new plot and share only one range\n",
    "s3 = figure(width=250, height=250, x_range=s1.x_range, title=None)\n",
    "s3.square(x, y2, size=10, color=\"olive\", alpha=0.5)\n",
    "\n",
    "# NEW: put the subplots in a gridplot\n",
    "p = gridplot([[s1, s2, s3]], toolbar_location=None)\n",
    "\n",
    "# show the results\n",
    "show(p)"
   ]
  },
  {
   "cell_type": "code",
   "execution_count": 39,
   "metadata": {},
   "outputs": [
    {
     "ename": "NameError",
     "evalue": "name 'Rect' is not defined",
     "output_type": "error",
     "traceback": [
      "\u001b[0;31m---------------------------------------------------------------------------\u001b[0m",
      "\u001b[0;31mNameError\u001b[0m                                 Traceback (most recent call last)",
      "\u001b[0;32m<ipython-input-39-b47b48c1a3c3>\u001b[0m in \u001b[0;36m<module>\u001b[0;34m()\u001b[0m\n\u001b[1;32m      1\u001b[0m \u001b[0;31m# properties can be configured when a model object is initialized\u001b[0m\u001b[0;34m\u001b[0m\u001b[0;34m\u001b[0m\u001b[0m\n\u001b[0;32m----> 2\u001b[0;31m \u001b[0mglyph\u001b[0m \u001b[0;34m=\u001b[0m \u001b[0mRect\u001b[0m\u001b[0;34m(\u001b[0m\u001b[0mx\u001b[0m\u001b[0;34m=\u001b[0m\u001b[0;34m\"x\"\u001b[0m\u001b[0;34m,\u001b[0m \u001b[0my\u001b[0m\u001b[0;34m=\u001b[0m\u001b[0;34m\"y2\"\u001b[0m\u001b[0;34m,\u001b[0m \u001b[0mw\u001b[0m\u001b[0;34m=\u001b[0m\u001b[0;36m10\u001b[0m\u001b[0;34m,\u001b[0m \u001b[0mh\u001b[0m\u001b[0;34m=\u001b[0m\u001b[0;36m20\u001b[0m\u001b[0;34m,\u001b[0m \u001b[0mline_color\u001b[0m\u001b[0;34m=\u001b[0m\u001b[0;32mNone\u001b[0m\u001b[0;34m)\u001b[0m\u001b[0;34m\u001b[0m\u001b[0m\n\u001b[0m\u001b[1;32m      3\u001b[0m \u001b[0;34m\u001b[0m\u001b[0m\n\u001b[1;32m      4\u001b[0m \u001b[0;31m# or by assigning values to attributes on the model later\u001b[0m\u001b[0;34m\u001b[0m\u001b[0;34m\u001b[0m\u001b[0m\n\u001b[1;32m      5\u001b[0m \u001b[0mglyph\u001b[0m\u001b[0;34m.\u001b[0m\u001b[0mfill_alpha\u001b[0m \u001b[0;34m=\u001b[0m \u001b[0;36m0.5\u001b[0m\u001b[0;34m\u001b[0m\u001b[0m\n",
      "\u001b[0;31mNameError\u001b[0m: name 'Rect' is not defined"
     ]
    }
   ],
   "source": [
    "# properties can be configured when a model object is initialized\n",
    "glyph = Rect(x=\"x\", y=\"y2\", w=10, h=20, line_color=None)\n",
    "\n",
    "# or by assigning values to attributes on the model later\n",
    "glyph.fill_alpha = 0.5\n",
    "glyph.fill_color = \"navy\""
   ]
  },
  {
   "cell_type": "code",
   "execution_count": null,
   "metadata": {},
   "outputs": [],
   "source": []
  },
  {
   "cell_type": "code",
   "execution_count": null,
   "metadata": {},
   "outputs": [],
   "source": []
  },
  {
   "cell_type": "code",
   "execution_count": null,
   "metadata": {},
   "outputs": [],
   "source": []
  },
  {
   "cell_type": "code",
   "execution_count": null,
   "metadata": {},
   "outputs": [],
   "source": []
  },
  {
   "cell_type": "code",
   "execution_count": null,
   "metadata": {},
   "outputs": [],
   "source": []
  },
  {
   "cell_type": "code",
   "execution_count": null,
   "metadata": {},
   "outputs": [],
   "source": []
  },
  {
   "cell_type": "code",
   "execution_count": null,
   "metadata": {},
   "outputs": [],
   "source": []
  },
  {
   "cell_type": "code",
   "execution_count": null,
   "metadata": {},
   "outputs": [],
   "source": []
  },
  {
   "cell_type": "code",
   "execution_count": null,
   "metadata": {},
   "outputs": [],
   "source": []
  },
  {
   "cell_type": "code",
   "execution_count": null,
   "metadata": {},
   "outputs": [],
   "source": []
  },
  {
   "cell_type": "code",
   "execution_count": null,
   "metadata": {},
   "outputs": [],
   "source": []
  },
  {
   "cell_type": "code",
   "execution_count": null,
   "metadata": {},
   "outputs": [],
   "source": []
  },
  {
   "cell_type": "code",
   "execution_count": null,
   "metadata": {},
   "outputs": [],
   "source": []
  },
  {
   "cell_type": "code",
   "execution_count": null,
   "metadata": {},
   "outputs": [],
   "source": []
  }
 ],
 "metadata": {
  "kernelspec": {
   "display_name": "Python 3",
   "language": "python",
   "name": "python3"
  },
  "language_info": {
   "codemirror_mode": {
    "name": "ipython",
    "version": 3
   },
   "file_extension": ".py",
   "mimetype": "text/x-python",
   "name": "python",
   "nbconvert_exporter": "python",
   "pygments_lexer": "ipython3",
   "version": "3.5.6"
  }
 },
 "nbformat": 4,
 "nbformat_minor": 2
}
