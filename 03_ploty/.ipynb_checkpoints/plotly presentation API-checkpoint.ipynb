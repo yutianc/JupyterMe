{
 "cells": [
  {
   "cell_type": "code",
   "execution_count": 1,
   "metadata": {},
   "outputs": [
    {
     "data": {
      "text/plain": [
       "'3.2.1'"
      ]
     },
     "execution_count": 1,
     "metadata": {},
     "output_type": "execute_result"
    }
   ],
   "source": [
    "import plotly\n",
    "plotly.__version__"
   ]
  },
  {
   "cell_type": "code",
   "execution_count": 2,
   "metadata": {},
   "outputs": [],
   "source": [
    "def url_to_iframe(url, text=True):\n",
    "    html = ''\n",
    "    # style\n",
    "    html += '''<head>\n",
    "    <style>\n",
    "    div.textbox {\n",
    "        margin: 30px;\n",
    "        font-weight: bold;   \n",
    "    }\n",
    "    </style>\n",
    "    </head>'\n",
    "    '''\n",
    "    # iframe\n",
    "    html += '<iframe src=' + url + '.embed#{} width=750 height=400 frameBorder=\"0\"></iframe>'\n",
    "    if text:\n",
    "        html += '''<body>\n",
    "        <div class=\"textbox\">\n",
    "            <p>Click on the presentation above and use left/right arrow keys to flip through the slides.</p>\n",
    "        </div>\n",
    "        </body>\n",
    "        '''\n",
    "    return html"
   ]
  },
  {
   "cell_type": "code",
   "execution_count": 3,
   "metadata": {},
   "outputs": [
    {
     "data": {
      "text/plain": [
       "'<head>\\n    <style>\\n    div.textbox {\\n        margin: 30px;\\n        font-weight: bold;   \\n    }\\n    </style>\\n    </head>\\'\\n    <iframe src=www.sina.com.embed#{} width=750 height=400 frameBorder=\"0\"></iframe><body>\\n        <div class=\"textbox\">\\n            <p>Click on the presentation above and use left/right arrow keys to flip through the slides.</p>\\n        </div>\\n        </body>\\n        '"
      ]
     },
     "execution_count": 3,
     "metadata": {},
     "output_type": "execute_result"
    }
   ],
   "source": [
    "url_to_iframe('www.sina.com')"
   ]
  },
  {
   "cell_type": "code",
   "execution_count": 4,
   "metadata": {},
   "outputs": [],
   "source": [
    "import plotly.plotly as py\n",
    "import plotly.presentation_objs as pres\n",
    "\n",
    "filename = 'simple-pres'\n",
    "markdown_string = \"\"\"\n",
    "# slide 1\n",
    "There is only one slide.\n",
    "\n",
    "---\n",
    "# slide 2\n",
    "Again, another slide on this page.\n",
    "\n",
    "\"\"\"\n",
    "\n",
    "my_pres = pres.Presentation(markdown_string)\n",
    "pres_url_0 = py.presentation_ops.upload(my_pres, filename)"
   ]
  },
  {
   "cell_type": "code",
   "execution_count": 5,
   "metadata": {},
   "outputs": [
    {
     "data": {
      "text/html": [
       "<head>\n",
       "    <style>\n",
       "    div.textbox {\n",
       "        margin: 30px;\n",
       "        font-weight: bold;   \n",
       "    }\n",
       "    </style>\n",
       "    </head>'\n",
       "    <iframe src=https://plot.ly/~yutianc/26/simple-pres/.embed#{} width=750 height=400 frameBorder=\"0\"></iframe><body>\n",
       "        <div class=\"textbox\">\n",
       "            <p>Click on the presentation above and use left/right arrow keys to flip through the slides.</p>\n",
       "        </div>\n",
       "        </body>\n",
       "        "
      ],
      "text/plain": [
       "<IPython.core.display.HTML object>"
      ]
     },
     "execution_count": 5,
     "metadata": {},
     "output_type": "execute_result"
    }
   ],
   "source": [
    "import IPython\n",
    "\n",
    "iframe_0 = url_to_iframe(pres_url_0, True)\n",
    "IPython.display.HTML(iframe_0)"
   ]
  }
 ],
 "metadata": {
  "kernelspec": {
   "display_name": "Python 3",
   "language": "python",
   "name": "python3"
  },
  "language_info": {
   "codemirror_mode": {
    "name": "ipython",
    "version": 3
   },
   "file_extension": ".py",
   "mimetype": "text/x-python",
   "name": "python",
   "nbconvert_exporter": "python",
   "pygments_lexer": "ipython3",
   "version": "3.5.6"
  }
 },
 "nbformat": 4,
 "nbformat_minor": 2
}
