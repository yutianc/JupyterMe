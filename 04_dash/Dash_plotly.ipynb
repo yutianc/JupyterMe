{
 "cells": [
  {
   "cell_type": "code",
   "execution_count": 20,
   "metadata": {},
   "outputs": [
    {
     "name": "stdout",
     "output_type": "stream",
     "text": [
      " * Serving Flask app \"__main__\" (lazy loading)\n",
      " * Environment: production\n",
      "   WARNING: Do not use the development server in a production environment.\n",
      "   Use a production WSGI server instead.\n",
      " * Debug mode: off\n"
     ]
    },
    {
     "name": "stderr",
     "output_type": "stream",
     "text": [
      " * Running on http://127.0.0.1:8050/ (Press CTRL+C to quit)\n",
      "127.0.0.1 - - [03/Dec/2018 00:47:24] \"GET / HTTP/1.1\" 200 -\n",
      "127.0.0.1 - - [03/Dec/2018 00:47:24] \"GET /_dash-dependencies HTTP/1.1\" 200 -\n",
      "127.0.0.1 - - [03/Dec/2018 00:47:24] \"GET /_dash-layout HTTP/1.1\" 200 -\n",
      "127.0.0.1 - - [03/Dec/2018 00:47:24] \"GET /_favicon.ico HTTP/1.1\" 200 -\n"
     ]
    }
   ],
   "source": [
    "import numpy as np\n",
    "import dash\n",
    "import dash_core_components as dcc\n",
    "import dash_html_components as html\n",
    "import plotly.graph_objs as go\n",
    "\n",
    "htmlList = []\n",
    "\n",
    "htmlList.append(html.H1('SOHO中国，DashBoard'))\n",
    "htmlList.append(html.Div('Inner Div from here'))\n",
    "\n",
    "htmlList.append(\n",
    "    dcc.Dropdown(\n",
    "    options=[\n",
    "        {'label': '中关村SOHO', 'value': 'ZGC'},\n",
    "        {'label': '外滩SOHO', 'value': 'WT'},\n",
    "        {'label': '中山SOHO', 'value': 'ZS'},\n",
    "        {'label': '光华路', 'value': 'GFL'}\n",
    "    ],\n",
    "    multi=True,\n",
    "    value='WT'\n",
    "    )\n",
    ")\n",
    "\n",
    "htmlList.append(\n",
    "    \n",
    "        dcc.Graph(id='asdfDash'\n",
    "        ,figure=go.Figure(\n",
    "            data = [go.Bar(x=[1,2,3], y=[3,4,5], name='测试Bar')]\n",
    "            ,layout = go.Layout(title='测试Bar For Dash')\n",
    "        )\n",
    "))\n",
    "\n",
    "\n",
    "\n",
    "##run app from here\n",
    "app = dash.Dash()\n",
    "\n",
    "app.layout = html.Div(htmlList,style={})\n",
    "\n",
    "\n",
    "if __name__ == '__main__':\n",
    "       app.run_server()"
   ]
  },
  {
   "cell_type": "code",
   "execution_count": null,
   "metadata": {},
   "outputs": [],
   "source": []
  }
 ],
 "metadata": {
  "kernelspec": {
   "display_name": "Python 3",
   "language": "python",
   "name": "python3"
  },
  "language_info": {
   "codemirror_mode": {
    "name": "ipython",
    "version": 3
   },
   "file_extension": ".py",
   "mimetype": "text/x-python",
   "name": "python",
   "nbconvert_exporter": "python",
   "pygments_lexer": "ipython3",
   "version": "3.5.6"
  }
 },
 "nbformat": 4,
 "nbformat_minor": 2
}
