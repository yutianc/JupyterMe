{
 "cells": [
  {
   "cell_type": "code",
   "execution_count": 2,
   "metadata": {},
   "outputs": [
    {
     "data": {
      "text/html": [
       "<div>\n",
       "<style scoped>\n",
       "    .dataframe tbody tr th:only-of-type {\n",
       "        vertical-align: middle;\n",
       "    }\n",
       "\n",
       "    .dataframe tbody tr th {\n",
       "        vertical-align: top;\n",
       "    }\n",
       "\n",
       "    .dataframe thead th {\n",
       "        text-align: right;\n",
       "    }\n",
       "</style>\n",
       "<table border=\"1\" class=\"dataframe\">\n",
       "  <thead>\n",
       "    <tr style=\"text-align: right;\">\n",
       "      <th></th>\n",
       "      <th>Strongly Agree</th>\n",
       "      <th>Somewhat Agree</th>\n",
       "      <th>Neutral</th>\n",
       "      <th>Somewhat Disagree</th>\n",
       "      <th>Strongly Disagree</th>\n",
       "    </tr>\n",
       "  </thead>\n",
       "  <tbody>\n",
       "    <tr>\n",
       "      <th>Question 1</th>\n",
       "      <td>0.45</td>\n",
       "      <td>0.25</td>\n",
       "      <td>0.10</td>\n",
       "      <td>0.12</td>\n",
       "      <td>0.08</td>\n",
       "    </tr>\n",
       "    <tr>\n",
       "      <th>Question 2</th>\n",
       "      <td>0.12</td>\n",
       "      <td>0.07</td>\n",
       "      <td>0.48</td>\n",
       "      <td>0.18</td>\n",
       "      <td>0.15</td>\n",
       "    </tr>\n",
       "    <tr>\n",
       "      <th>Question 3</th>\n",
       "      <td>0.05</td>\n",
       "      <td>0.22</td>\n",
       "      <td>0.19</td>\n",
       "      <td>0.23</td>\n",
       "      <td>0.31</td>\n",
       "    </tr>\n",
       "  </tbody>\n",
       "</table>\n",
       "</div>"
      ],
      "text/plain": [
       "            Strongly Agree  Somewhat Agree  Neutral  Somewhat Disagree  \\\n",
       "Question 1            0.45            0.25     0.10               0.12   \n",
       "Question 2            0.12            0.07     0.48               0.18   \n",
       "Question 3            0.05            0.22     0.19               0.23   \n",
       "\n",
       "            Strongly Disagree  \n",
       "Question 1               0.08  \n",
       "Question 2               0.15  \n",
       "Question 3               0.31  "
      ]
     },
     "execution_count": 2,
     "metadata": {},
     "output_type": "execute_result"
    }
   ],
   "source": [
    "df = pd.read_csv('Documents/jupyternotebook/JupyterMe/04_dash/Plotly-Dashboards-with-Dash-master/Data/mocksurvey.csv',index_col=0)\n",
    "df"
   ]
  },
  {
   "cell_type": "code",
   "execution_count": 3,
   "metadata": {},
   "outputs": [
    {
     "data": {
      "text/html": [
       "<script>requirejs.config({paths: { 'plotly': ['https://cdn.plot.ly/plotly-latest.min']},});if(!window.Plotly) {{require(['plotly'],function(plotly) {window.Plotly=plotly;});}}</script>"
      ],
      "text/vnd.plotly.v1+html": [
       "<script>requirejs.config({paths: { 'plotly': ['https://cdn.plot.ly/plotly-latest.min']},});if(!window.Plotly) {{require(['plotly'],function(plotly) {window.Plotly=plotly;});}}</script>"
      ]
     },
     "metadata": {},
     "output_type": "display_data"
    },
    {
     "data": {
      "application/vnd.plotly.v1+json": {
       "data": [
        {
         "name": "Strongly Agree",
         "type": "bar",
         "uid": "441cf34a-f446-11e8-b196-0de7d8250739",
         "x": [
          "Question 1",
          "Question 2",
          "Question 3"
         ],
         "y": [
          0.45,
          0.12,
          0.05
         ]
        },
        {
         "name": "Somewhat Agree",
         "type": "bar",
         "uid": "441cf57a-f446-11e8-b196-0de7d8250739",
         "x": [
          "Question 1",
          "Question 2",
          "Question 3"
         ],
         "y": [
          0.25,
          0.07,
          0.22
         ]
        },
        {
         "name": "Neutral",
         "type": "bar",
         "uid": "441cf67e-f446-11e8-b196-0de7d8250739",
         "x": [
          "Question 1",
          "Question 2",
          "Question 3"
         ],
         "y": [
          0.1,
          0.48,
          0.19
         ]
        },
        {
         "name": "Somewhat Disagree",
         "type": "bar",
         "uid": "441cf750-f446-11e8-b196-0de7d8250739",
         "x": [
          "Question 1",
          "Question 2",
          "Question 3"
         ],
         "y": [
          0.12,
          0.18,
          0.23
         ]
        },
        {
         "name": "Strongly Disagree",
         "type": "bar",
         "uid": "441cf840-f446-11e8-b196-0de7d8250739",
         "x": [
          "Question 1",
          "Question 2",
          "Question 3"
         ],
         "y": [
          0.08,
          0.15,
          0.31
         ]
        }
       ],
       "layout": {
        "barmode": "stack",
        "title": "Mock Survey Results"
       }
      },
      "text/html": [
       "<div id=\"4f8e30af-6319-4901-bbfa-89f8cbef4e06\" style=\"height: 525px; width: 100%;\" class=\"plotly-graph-div\"></div><script type=\"text/javascript\">require([\"plotly\"], function(Plotly) { window.PLOTLYENV=window.PLOTLYENV || {};window.PLOTLYENV.BASE_URL=\"https://plot.ly\";Plotly.newPlot(\"4f8e30af-6319-4901-bbfa-89f8cbef4e06\", [{\"y\": [0.45, 0.12, 0.05], \"name\": \"Strongly Agree\", \"uid\": \"441cf34a-f446-11e8-b196-0de7d8250739\", \"type\": \"bar\", \"x\": [\"Question 1\", \"Question 2\", \"Question 3\"]}, {\"y\": [0.25, 0.07, 0.22], \"name\": \"Somewhat Agree\", \"uid\": \"441cf57a-f446-11e8-b196-0de7d8250739\", \"type\": \"bar\", \"x\": [\"Question 1\", \"Question 2\", \"Question 3\"]}, {\"y\": [0.1, 0.48, 0.19], \"name\": \"Neutral\", \"uid\": \"441cf67e-f446-11e8-b196-0de7d8250739\", \"type\": \"bar\", \"x\": [\"Question 1\", \"Question 2\", \"Question 3\"]}, {\"y\": [0.12, 0.18, 0.23], \"name\": \"Somewhat Disagree\", \"uid\": \"441cf750-f446-11e8-b196-0de7d8250739\", \"type\": \"bar\", \"x\": [\"Question 1\", \"Question 2\", \"Question 3\"]}, {\"y\": [0.08, 0.15, 0.31], \"name\": \"Strongly Disagree\", \"uid\": \"441cf840-f446-11e8-b196-0de7d8250739\", \"type\": \"bar\", \"x\": [\"Question 1\", \"Question 2\", \"Question 3\"]}], {\"title\": \"Mock Survey Results\", \"barmode\": \"stack\"}, {\"showLink\": true, \"linkText\": \"Export to plot.ly\"})});</script>"
      ],
      "text/vnd.plotly.v1+html": [
       "<div id=\"4f8e30af-6319-4901-bbfa-89f8cbef4e06\" style=\"height: 525px; width: 100%;\" class=\"plotly-graph-div\"></div><script type=\"text/javascript\">require([\"plotly\"], function(Plotly) { window.PLOTLYENV=window.PLOTLYENV || {};window.PLOTLYENV.BASE_URL=\"https://plot.ly\";Plotly.newPlot(\"4f8e30af-6319-4901-bbfa-89f8cbef4e06\", [{\"y\": [0.45, 0.12, 0.05], \"name\": \"Strongly Agree\", \"uid\": \"441cf34a-f446-11e8-b196-0de7d8250739\", \"type\": \"bar\", \"x\": [\"Question 1\", \"Question 2\", \"Question 3\"]}, {\"y\": [0.25, 0.07, 0.22], \"name\": \"Somewhat Agree\", \"uid\": \"441cf57a-f446-11e8-b196-0de7d8250739\", \"type\": \"bar\", \"x\": [\"Question 1\", \"Question 2\", \"Question 3\"]}, {\"y\": [0.1, 0.48, 0.19], \"name\": \"Neutral\", \"uid\": \"441cf67e-f446-11e8-b196-0de7d8250739\", \"type\": \"bar\", \"x\": [\"Question 1\", \"Question 2\", \"Question 3\"]}, {\"y\": [0.12, 0.18, 0.23], \"name\": \"Somewhat Disagree\", \"uid\": \"441cf750-f446-11e8-b196-0de7d8250739\", \"type\": \"bar\", \"x\": [\"Question 1\", \"Question 2\", \"Question 3\"]}, {\"y\": [0.08, 0.15, 0.31], \"name\": \"Strongly Disagree\", \"uid\": \"441cf840-f446-11e8-b196-0de7d8250739\", \"type\": \"bar\", \"x\": [\"Question 1\", \"Question 2\", \"Question 3\"]}], {\"title\": \"Mock Survey Results\", \"barmode\": \"stack\"}, {\"showLink\": true, \"linkText\": \"Export to plot.ly\"})});</script>"
      ]
     },
     "metadata": {},
     "output_type": "display_data"
    }
   ],
   "source": [
    "#######\n",
    "# Objective: Create a stacked bar chart from\n",
    "# the file ../data/mocksurvey.csv. Note that questions appear in\n",
    "# the index (and should be used for the x-axis), while responses\n",
    "# appear as column labels.  Extra Credit: make a horizontal bar chart!\n",
    "######\n",
    "\n",
    "# Perform imports here:\n",
    "import plotly.offline as pyo\n",
    "import plotly.graph_objs as go\n",
    "import pandas as pd\n",
    "\n",
    "pyo.init_notebook_mode(connected=True)\n",
    "\n",
    "# create a DataFrame from the .csv file:\n",
    "df = pd.read_csv('Documents/jupyternotebook/JupyterMe/04_dash/Plotly-Dashboards-with-Dash-master/Data/mocksurvey.csv',index_col=0)\n",
    "\n",
    "# create traces using a list comprehension:\n",
    "data = [go.Bar(\n",
    "    x = df.index,\n",
    "    y = df[response],\n",
    "    name=response\n",
    ") for response in df.columns]\n",
    "\n",
    "# create a layout, remember to set the barmode here\n",
    "layout = go.Layout(\n",
    "    title='Mock Survey Results',\n",
    "    barmode='stack'\n",
    ")\n",
    "\n",
    "# create a fig from data & layout, and plot the fig\n",
    "fig = go.Figure(data=data, layout=layout)\n",
    "pyo.iplot(fig, filename='solution3a.html')\n"
   ]
  }
 ],
 "metadata": {
  "kernelspec": {
   "display_name": "Python 3",
   "language": "python",
   "name": "python3"
  },
  "language_info": {
   "codemirror_mode": {
    "name": "ipython",
    "version": 3
   },
   "file_extension": ".py",
   "mimetype": "text/x-python",
   "name": "python",
   "nbconvert_exporter": "python",
   "pygments_lexer": "ipython3",
   "version": "3.5.6"
  }
 },
 "nbformat": 4,
 "nbformat_minor": 2
}
